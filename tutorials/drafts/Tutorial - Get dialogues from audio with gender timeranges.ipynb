{
 "cells": [
  {
   "cell_type": "markdown",
   "id": "c8e95d37",
   "metadata": {},
   "source": [
    "# Tutorial - Get dialogues from audio with gender timeranges"
   ]
  },
  {
   "cell_type": "code",
   "execution_count": 1,
   "id": "b6ae2322",
   "metadata": {},
   "outputs": [],
   "source": [
    "import sys\n",
    "sys.path.append(\"../../\")\n",
    "\n",
    "import bechdelai\n",
    "from bechdelai.audio import config, utils\n",
    "from bechdelai.audio.audio_processor import AudioProcessor"
   ]
  },
  {
   "cell_type": "markdown",
   "id": "7904ce7a",
   "metadata": {},
   "source": [
    "## Download the trailer from Youtube\n",
    "We are going to use the get_youtube function inspired from https://huggingface.co/spaces/Karwasze/Whisper-ASR-youtube-subtitles/blob/main/app.py"
   ]
  },
  {
   "cell_type": "code",
   "execution_count": 2,
   "id": "36099133",
   "metadata": {},
   "outputs": [],
   "source": [
    "from pytube import YouTube\n",
    "\n",
    "def get_youtube(video_url):\n",
    "    \"\"\"Download youtube video from a given url\"\"\"\n",
    "    yt = YouTube(video_url)\n",
    "    abs_video_path = yt.streams.filter(progressive=True, file_extension='mp4').order_by('resolution').desc().first().download()\n",
    "    \n",
    "    return abs_video_path"
   ]
  },
  {
   "cell_type": "markdown",
   "id": "11eaf692",
   "metadata": {},
   "source": [
    "For the purpose of this tutorial we are, firt, choosing a French movie : Les Tuche 4"
   ]
  },
  {
   "cell_type": "code",
   "execution_count": 3,
   "id": "456a61ba",
   "metadata": {},
   "outputs": [],
   "source": [
    "video_url = \"https://www.youtube.com/watch?v=TCTtdSuj2eo&ab_channel=FilmsActu\" #Tuche 4\n",
    "video_path = get_youtube(video_url)"
   ]
  },
  {
   "cell_type": "markdown",
   "id": "bae3a41d",
   "metadata": {},
   "source": [
    "## Convert movie to audio\n",
    "We must now isolate the audio file with a `.wav` format."
   ]
  },
  {
   "cell_type": "code",
   "execution_count": 4,
   "id": "fe836190",
   "metadata": {},
   "outputs": [
    {
     "name": "stdout",
     "output_type": "stream",
     "text": [
      "MoviePy - Writing audio in C:\\Users\\chloe\\Documents\\DATAFORGOOD\\bechdelai\\tutorials\\drafts\\LES TUCHE 4 Bande Annonce Officielle (2021).wav\n"
     ]
    },
    {
     "name": "stderr",
     "output_type": "stream",
     "text": [
      "                                                                                                                                                                                                \r"
     ]
    },
    {
     "name": "stdout",
     "output_type": "stream",
     "text": [
      "MoviePy - Done.\n"
     ]
    }
   ],
   "source": [
    "utils.extract_audio_from_movie(video_path)\n",
    "audio_path = video_path.split(sep='.')[0] + '.wav'"
   ]
  },
  {
   "cell_type": "markdown",
   "id": "dea2ce8f",
   "metadata": {},
   "source": [
    "## Load audio processing\n",
    "The first step is to set the configuration according to the language. In the next versions it will also be possible to choose speed for example."
   ]
  },
  {
   "cell_type": "code",
   "execution_count": 9,
   "id": "d784192a",
   "metadata": {},
   "outputs": [],
   "source": [
    "configuration = config.Config()\n",
    "configuration.select_profile(option=\"FR\")"
   ]
  },
  {
   "cell_type": "markdown",
   "id": "41000958",
   "metadata": {},
   "source": [
    "Once the language is set, it's time to run the machine..."
   ]
  },
  {
   "cell_type": "code",
   "execution_count": 10,
   "id": "1f6b7464",
   "metadata": {},
   "outputs": [
    {
     "name": "stdout",
     "output_type": "stream",
     "text": [
      "149/149 - 3s - 3s/epoch - 21ms/step\n",
      "111/111 - 5s - 5s/epoch - 43ms/step\n",
      "result2:\n",
      "{   'alternative': [   {   'confidence': 0.92710316,\n",
      "                           'transcript': \"Noël c'est comme les frites c'est \"\n",
      "                                         'quand on veut'},\n",
      "                       {   'transcript': \"Noël c'est comme les frites c'est \"\n",
      "                                         'quand ton vœu'},\n",
      "                       {   'transcript': \"Noël c'est comme les frites c'est \"\n",
      "                                         'quand ton vœux'}],\n",
      "    'final': True}\n",
      "result2:\n",
      "{   'alternative': [   {   'confidence': 0.91217244,\n",
      "                           'transcript': \"bonjour c'est nous les Tuche\"},\n",
      "                       {'transcript': \"bonjour c'est nous les tuches\"},\n",
      "                       {'transcript': \"bonjour c'est nous les Tuche après\"}],\n",
      "    'final': True}\n",
      "result2:\n",
      "{   'alternative': [   {   'confidence': 0.89889336,\n",
      "                           'transcript': \"donc c'est nous les Tuche\"},\n",
      "                       {'transcript': \"c'est nous les Tuche\"},\n",
      "                       {'transcript': \"donc c'est nous les tuches\"}],\n",
      "    'final': True}\n",
      "result2:\n",
      "{   'alternative': [   {   'confidence': 0.92710316,\n",
      "                           'transcript': \"exactement c'est le moment de \"\n",
      "                                         'préparer Noël en famille'},\n",
      "                       {   'transcript': \"exactement c'est le moment de \"\n",
      "                                         'préparer Noël en famille dis-moi ce'},\n",
      "                       {   'transcript': \"exactement c'est le moment de \"\n",
      "                                         'préparer Noël en famille dis-moi ce '\n",
      "                                         'qui'},\n",
      "                       {   'transcript': \"exactement c'est le moment de \"\n",
      "                                         'préparer Noël en famille dis-moi'}],\n",
      "    'final': True}\n",
      "result2:\n",
      "{   'alternative': [   {   'confidence': 0.91179854,\n",
      "                           'transcript': 'dis-moi ce qui se passe je voudrais'},\n",
      "                       {'transcript': 'je voudrais'}],\n",
      "    'final': True}\n",
      "result2:\n",
      "{   'alternative': [   {   'confidence': 0.92420292,\n",
      "                           'transcript': 'dis-moi ce qui se passe quand je '\n",
      "                                         'voudrais que ma sœur soit il a aussi '\n",
      "                                         'problème tous les deux là pour des '\n",
      "                                         'conneries il y a 10 ans'},\n",
      "                       {   'transcript': 'dis-moi ce qui se passe quand je '\n",
      "                                         'voudrais que ma sœur soit il a aussi '\n",
      "                                         'problème à tous les deux là pour des '\n",
      "                                         'conneries il y a 10 ans'},\n",
      "                       {   'transcript': 'dis-moi ce qui se passe quand je '\n",
      "                                         'voudrais que ma sœur soit il a aussi '\n",
      "                                         'problème tous les deux là pour des '\n",
      "                                         'conneries il y a 10 ans alors'}],\n",
      "    'final': True}\n",
      "result2:\n",
      "{   'alternative': [   {   'confidence': 0.92171675,\n",
      "                           'transcript': 'il y a 10 ans alors marteau tu as '\n",
      "                                         'toujours ton travail je me régale '\n",
      "                                         'ces magasins'},\n",
      "                       {   'transcript': 'il y a 10 ans alors marteau tu es '\n",
      "                                         'toujours ton travail je me régale '\n",
      "                                         'ces magasins'},\n",
      "                       {   'transcript': 'il y a 10 ans alors marteau tu as '\n",
      "                                         'toujours ton travail je me régale '\n",
      "                                         'ces magasins 2 x'}],\n",
      "    'final': True}\n",
      "result2:\n",
      "{   'alternative': [   {   'confidence': 0.92710316,\n",
      "                           'transcript': \"qu'est-ce que je disais déjà\"},\n",
      "                       {   'transcript': \"ouvrir l'ennemi qu'est-ce que je \"\n",
      "                                         'disais déjà'},\n",
      "                       {   'transcript': \"ouvrir l'ennemi qu'est-ce que je \"\n",
      "                                         'disais déjà écouté pas'}],\n",
      "    'final': True}\n",
      "result2:\n",
      "{   'alternative': [   {   'confidence': 0.85335368,\n",
      "                           'transcript': \"je vois j'écoutais pas ça va\"},\n",
      "                       {'transcript': \"c'est bon j'écoutais pas ça va\"},\n",
      "                       {'transcript': \"je vois j'écoutais pas ça va être\"}],\n",
      "    'final': True}\n",
      "result2:\n",
      "{   'alternative': [   {   'confidence': 0.9271031,\n",
      "                           'transcript': 'ça va être long'},\n",
      "                       {'transcript': 'ça va être longue'},\n",
      "                       {'transcript': 'ça va être long là'}],\n",
      "    'final': True}\n",
      "result2:\n",
      "{   'alternative': [   {   'confidence': 0.91169006,\n",
      "                           'transcript': \"il y a plus d'usine des jouets \"\n",
      "                                         'devant vous vendez à qui'},\n",
      "                       {   'transcript': \"il y a plus d'usine des jouets \"\n",
      "                                         'devant vous vous vendez à qui'},\n",
      "                       {   'transcript': \"il y a plus d'usine des jouets je \"\n",
      "                                         'vends vous vendez à qui'}],\n",
      "    'final': True}\n",
      "result2:\n",
      "{   'alternative': [   {   'confidence': 0.89714372,\n",
      "                           'transcript': 'les gros gagne les petits meurent '\n",
      "                                         'vous êtes dans la deuxième catégorie '\n",
      "                                         'désolé'},\n",
      "                       {   'transcript': 'les gros gagnent les petits meurent '\n",
      "                                         'vous êtes dans la deuxième catégorie '\n",
      "                                         'désolé'},\n",
      "                       {   'transcript': 'les gros gagne les petits meurent '\n",
      "                                         'vous êtes dans la deuxième catégorie '\n",
      "                                         'désolée'}],\n",
      "    'final': True}\n",
      "result2:\n",
      "{   'alternative': [   {   'confidence': 0.91114563,\n",
      "                           'transcript': \"j'ai une proposition à vous faire \"\n",
      "                                         'voilà mon plan racheter limarolles '\n",
      "                                         'et fabriquer des jouets en bois '\n",
      "                                         \"qu'est-ce que tu voulais avoir toi \"\n",
      "                                         'tu veux des clous il fabrique un '\n",
      "                                         \"jouet que nous n'avons pas vous \"\n",
      "                                         \"pourriez appeler l'inspection du \"\n",
      "                                         'travail là vous travaillez monsieur '\n",
      "                                         'Tuche non je travaille pas je suis '\n",
      "                                         'pas trop vous avez déjà vu un patron '\n",
      "                                         'qui travaille vous'},\n",
      "                       {   'transcript': \"j'ai une proposition à vous faire \"\n",
      "                                         'voilà mon plan racheter limarolles '\n",
      "                                         'et fabriquer des jouets en bois '\n",
      "                                         \"qu'est-ce que tu voulais avoir toi \"\n",
      "                                         'tu veux des clous il fabrique un '\n",
      "                                         \"jouet que nous n'avons pas vous \"\n",
      "                                         \"pourriez appeler l'inspection du \"\n",
      "                                         'travail là vous travaillez monsieur '\n",
      "                                         'Tuche pas trop vous avez déjà vu un '\n",
      "                                         'patron qui travaille vous'},\n",
      "                       {   'transcript': \"j'ai une proposition à vous faire \"\n",
      "                                         'voilà mon plan racheter limarolles '\n",
      "                                         'et fabriquer des jouets en bois '\n",
      "                                         \"qu'est-ce que tu voulais avoir toi \"\n",
      "                                         'tu veux des clous il fabrique un '\n",
      "                                         \"jouet que nous n'avons pas vous \"\n",
      "                                         \"pourriez appeler l'inspection du \"\n",
      "                                         'travail là vous travaillez monsieur '\n",
      "                                         'Tuche pas trop vous avez déjà vu un '\n",
      "                                         'patron qui travaille'}],\n",
      "    'final': True}\n"
     ]
    },
    {
     "name": "stdout",
     "output_type": "stream",
     "text": [
      "result2:\n",
      "{   'alternative': [   {   'confidence': 0.92594719,\n",
      "                           'transcript': \"ah c'est les échos tu connais tu \"\n",
      "                                         'connais tu connais de quoi de quoi '\n",
      "                                         \"ah ok j'y suis très drôle\"},\n",
      "                       {   'transcript': \"ah c'est les échos tu connais tu \"\n",
      "                                         'connais tu connais de quoi de quoi '\n",
      "                                         \"ah ok j'y suis très drôles\"},\n",
      "                       {   'transcript': \"ah c'est les échos tu connais tu \"\n",
      "                                         'connais tu connais de quoi de quoi '\n",
      "                                         \"ah ok j'y suis les échos très \"\n",
      "                                         'drôles'}],\n",
      "    'final': True}\n"
     ]
    },
    {
     "data": {
      "text/plain": [
       "'Execution time : 64.38622570037842 seconds.'"
      ]
     },
     "execution_count": 10,
     "metadata": {},
     "output_type": "execute_result"
    }
   ],
   "source": [
    "import time\n",
    "t0 = time.time()\n",
    "ap = AudioProcessor(configuration, audio_path)\n",
    "t1 = time.time()"
   ]
  },
  {
   "cell_type": "code",
   "execution_count": 15,
   "id": "589a9e0d",
   "metadata": {},
   "outputs": [
    {
     "data": {
      "text/plain": [
       "'Execution time : 64.38622570037842 seconds.'"
      ]
     },
     "execution_count": 15,
     "metadata": {},
     "output_type": "execute_result"
    }
   ],
   "source": [
    "\"Execution time : {} seconds.\".format(t1-t0)"
   ]
  },
  {
   "cell_type": "markdown",
   "id": "b563af9f",
   "metadata": {},
   "source": [
    "To write all the results properly.. :)"
   ]
  },
  {
   "cell_type": "code",
   "execution_count": 17,
   "id": "e6337336",
   "metadata": {},
   "outputs": [
    {
     "data": {
      "text/html": [
       "<div>\n",
       "<style scoped>\n",
       "    .dataframe tbody tr th:only-of-type {\n",
       "        vertical-align: middle;\n",
       "    }\n",
       "\n",
       "    .dataframe tbody tr th {\n",
       "        vertical-align: top;\n",
       "    }\n",
       "\n",
       "    .dataframe thead th {\n",
       "        text-align: right;\n",
       "    }\n",
       "</style>\n",
       "<table border=\"1\" class=\"dataframe\">\n",
       "  <thead>\n",
       "    <tr style=\"text-align: right;\">\n",
       "      <th></th>\n",
       "      <th>gender</th>\n",
       "      <th>start</th>\n",
       "      <th>end</th>\n",
       "      <th>transcription</th>\n",
       "    </tr>\n",
       "  </thead>\n",
       "  <tbody>\n",
       "    <tr>\n",
       "      <th>0</th>\n",
       "      <td>male</td>\n",
       "      <td>0.32</td>\n",
       "      <td>3.06</td>\n",
       "      <td>Noël c'est comme les frites c'est quand on veut</td>\n",
       "    </tr>\n",
       "    <tr>\n",
       "      <th>1</th>\n",
       "      <td>female</td>\n",
       "      <td>5.14</td>\n",
       "      <td>6.60</td>\n",
       "      <td>bonjour c'est nous les Tuche</td>\n",
       "    </tr>\n",
       "    <tr>\n",
       "      <th>2</th>\n",
       "      <td>male</td>\n",
       "      <td>6.60</td>\n",
       "      <td>7.90</td>\n",
       "      <td>donc c'est nous les Tuche</td>\n",
       "    </tr>\n",
       "    <tr>\n",
       "      <th>3</th>\n",
       "      <td>female</td>\n",
       "      <td>7.90</td>\n",
       "      <td>13.60</td>\n",
       "      <td>exactement c'est le moment de préparer Noël en famille</td>\n",
       "    </tr>\n",
       "    <tr>\n",
       "      <th>4</th>\n",
       "      <td>male</td>\n",
       "      <td>13.60</td>\n",
       "      <td>14.92</td>\n",
       "      <td>dis-moi ce qui se passe je voudrais</td>\n",
       "    </tr>\n",
       "    <tr>\n",
       "      <th>5</th>\n",
       "      <td>female</td>\n",
       "      <td>14.92</td>\n",
       "      <td>24.32</td>\n",
       "      <td>dis-moi ce qui se passe quand je voudrais que ma sœur soit il a aussi problème tous les deux là pour des conneries il y a 10 ans</td>\n",
       "    </tr>\n",
       "    <tr>\n",
       "      <th>6</th>\n",
       "      <td>male</td>\n",
       "      <td>24.32</td>\n",
       "      <td>34.86</td>\n",
       "      <td>il y a 10 ans alors marteau tu as toujours ton travail je me régale ces magasins</td>\n",
       "    </tr>\n",
       "    <tr>\n",
       "      <th>7</th>\n",
       "      <td>male</td>\n",
       "      <td>38.72</td>\n",
       "      <td>40.62</td>\n",
       "      <td>qu'est-ce que je disais déjà</td>\n",
       "    </tr>\n",
       "    <tr>\n",
       "      <th>8</th>\n",
       "      <td>female</td>\n",
       "      <td>40.62</td>\n",
       "      <td>42.36</td>\n",
       "      <td>je vois j'écoutais pas ça va</td>\n",
       "    </tr>\n",
       "    <tr>\n",
       "      <th>9</th>\n",
       "      <td>male</td>\n",
       "      <td>42.36</td>\n",
       "      <td>43.60</td>\n",
       "      <td>ça va être long</td>\n",
       "    </tr>\n",
       "    <tr>\n",
       "      <th>10</th>\n",
       "      <td>male</td>\n",
       "      <td>49.52</td>\n",
       "      <td>52.00</td>\n",
       "      <td>il y a plus d'usine des jouets devant vous vendez à qui</td>\n",
       "    </tr>\n",
       "    <tr>\n",
       "      <th>11</th>\n",
       "      <td>male</td>\n",
       "      <td>54.70</td>\n",
       "      <td>58.62</td>\n",
       "      <td>les gros gagne les petits meurent vous êtes dans la deuxième catégorie désolé</td>\n",
       "    </tr>\n",
       "    <tr>\n",
       "      <th>12</th>\n",
       "      <td>male</td>\n",
       "      <td>60.24</td>\n",
       "      <td>77.70</td>\n",
       "      <td>j'ai une proposition à vous faire voilà mon plan racheter limarolles et fabriquer des jouets en bois qu'est-ce que tu voulais avoir toi tu veux des clous il fabrique un jouet que nous n'avons pas vous pourriez appeler l'inspection du travail là vous travaillez monsieur Tuche non je travaille pas je suis pas trop vous avez déjà vu un patron qui travaille vous</td>\n",
       "    </tr>\n",
       "    <tr>\n",
       "      <th>13</th>\n",
       "      <td>male</td>\n",
       "      <td>85.56</td>\n",
       "      <td>95.32</td>\n",
       "      <td>ah c'est les échos tu connais tu connais tu connais de quoi de quoi ah ok j'y suis très drôle</td>\n",
       "    </tr>\n",
       "  </tbody>\n",
       "</table>\n",
       "</div>"
      ],
      "text/plain": [
       "    gender  start    end  \\\n",
       "0     male   0.32   3.06   \n",
       "1   female   5.14   6.60   \n",
       "2     male   6.60   7.90   \n",
       "3   female   7.90  13.60   \n",
       "4     male  13.60  14.92   \n",
       "5   female  14.92  24.32   \n",
       "6     male  24.32  34.86   \n",
       "7     male  38.72  40.62   \n",
       "8   female  40.62  42.36   \n",
       "9     male  42.36  43.60   \n",
       "10    male  49.52  52.00   \n",
       "11    male  54.70  58.62   \n",
       "12    male  60.24  77.70   \n",
       "13    male  85.56  95.32   \n",
       "\n",
       "                                                                                                                                                                                                                                                                                                                                                               transcription  \n",
       "0                                                                                                                                                                                                                                                                                                                            Noël c'est comme les frites c'est quand on veut  \n",
       "1                                                                                                                                                                                                                                                                                                                                               bonjour c'est nous les Tuche  \n",
       "2                                                                                                                                                                                                                                                                                                                                                  donc c'est nous les Tuche  \n",
       "3                                                                                                                                                                                                                                                                                                                     exactement c'est le moment de préparer Noël en famille  \n",
       "4                                                                                                                                                                                                                                                                                                                                        dis-moi ce qui se passe je voudrais  \n",
       "5                                                                                                                                                                                                                                           dis-moi ce qui se passe quand je voudrais que ma sœur soit il a aussi problème tous les deux là pour des conneries il y a 10 ans  \n",
       "6                                                                                                                                                                                                                                                                                           il y a 10 ans alors marteau tu as toujours ton travail je me régale ces magasins  \n",
       "7                                                                                                                                                                                                                                                                                                                                               qu'est-ce que je disais déjà  \n",
       "8                                                                                                                                                                                                                                                                                                                                               je vois j'écoutais pas ça va  \n",
       "9                                                                                                                                                                                                                                                                                                                                                            ça va être long  \n",
       "10                                                                                                                                                                                                                                                                                                                   il y a plus d'usine des jouets devant vous vendez à qui  \n",
       "11                                                                                                                                                                                                                                                                                             les gros gagne les petits meurent vous êtes dans la deuxième catégorie désolé  \n",
       "12  j'ai une proposition à vous faire voilà mon plan racheter limarolles et fabriquer des jouets en bois qu'est-ce que tu voulais avoir toi tu veux des clous il fabrique un jouet que nous n'avons pas vous pourriez appeler l'inspection du travail là vous travaillez monsieur Tuche non je travaille pas je suis pas trop vous avez déjà vu un patron qui travaille vous  \n",
       "13                                                                                                                                                                                                                                                                             ah c'est les échos tu connais tu connais tu connais de quoi de quoi ah ok j'y suis très drôle  "
      ]
     },
     "execution_count": 17,
     "metadata": {},
     "output_type": "execute_result"
    }
   ],
   "source": [
    "import pandas as pd\n",
    "pd.set_option('display.max_colwidth', None)  # To see the whole transcription\n",
    "\n",
    "ap.full_dataframe()"
   ]
  },
  {
   "cell_type": "code",
   "execution_count": null,
   "id": "cc261c51",
   "metadata": {},
   "outputs": [],
   "source": []
  },
  {
   "cell_type": "code",
   "execution_count": null,
   "id": "bf543e17",
   "metadata": {},
   "outputs": [],
   "source": []
  },
  {
   "cell_type": "code",
   "execution_count": null,
   "id": "f4837f14",
   "metadata": {},
   "outputs": [],
   "source": []
  }
 ],
 "metadata": {
  "kernelspec": {
   "display_name": "Python 3 (ipykernel)",
   "language": "python",
   "name": "python3"
  },
  "language_info": {
   "codemirror_mode": {
    "name": "ipython",
    "version": 3
   },
   "file_extension": ".py",
   "mimetype": "text/x-python",
   "name": "python",
   "nbconvert_exporter": "python",
   "pygments_lexer": "ipython3",
   "version": "3.10.7"
  }
 },
 "nbformat": 4,
 "nbformat_minor": 5
}
