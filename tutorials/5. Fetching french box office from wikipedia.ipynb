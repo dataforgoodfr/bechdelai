{
 "cells": [
  {
   "cell_type": "markdown",
   "id": "85f4a3bd",
   "metadata": {},
   "source": [
    "# Retrieve french box office for the last 10 years from Wikipedia"
   ]
  },
  {
   "cell_type": "markdown",
   "id": "c54ef100",
   "metadata": {},
   "source": [
    "In this notebook we are going to create a database with the movies that had the highest number of entries in french movie theaters over the last 10 years. Our source are the tables in the Wikipedia pages called Box-office_France_YYYY (for example\n",
    "https://fr.wikipedia.org/wiki/Box-office_France_2022)"
   ]
  },
  {
   "cell_type": "code",
   "execution_count": 1,
   "id": "bb3eab92",
   "metadata": {},
   "outputs": [],
   "source": [
    "#import librairies\n",
    "import requests\n",
    "from bs4 import BeautifulSoup\n",
    "import pandas as pd\n",
    "import numpy as np"
   ]
  },
  {
   "cell_type": "markdown",
   "id": "16eeb748",
   "metadata": {},
   "source": [
    "We create a function to retrieve the information from the tables in the wikipedia pages"
   ]
  },
  {
   "cell_type": "code",
   "execution_count": 2,
   "id": "0969a306",
   "metadata": {},
   "outputs": [],
   "source": [
    "def get_bo_tables(url, num):\n",
    "    \n",
    "    '''extract the box office tables from a wikipedia page\n",
    "    \n",
    "    Inputs\n",
    "    -------\n",
    "    url : str\n",
    "    the wikipedia page we want to extract tables from\n",
    "    num : integer\n",
    "    number of tables we want to extract from the page\n",
    "    \n",
    "    Output\n",
    "    ------\n",
    "    movie_dic_list : list of dictionnaries\n",
    "    list of dictionnaries containing the rows of of each table\n",
    "    \n",
    "    '''\n",
    "\n",
    "    # Make a GET request to the URL\n",
    "    response = requests.get(url)\n",
    "\n",
    "    # Parse the HTML content of the page using BeautifulSoup\n",
    "    soup = BeautifulSoup(response.content, 'html.parser')\n",
    "\n",
    "    # Find all the table element on the page\n",
    "    tables = soup.find_all('table')\n",
    "    \n",
    "    #create empty list to store the dictionnaries\n",
    "    movie_dic_list=[]\n",
    "    \n",
    "    # Iterate over the tables and extract the data\n",
    "    for table in tables[:num]:\n",
    "\n",
    "        #create empty dictionnary\n",
    "        movie_dic={}\n",
    "\n",
    "        # Extract the rows of the table\n",
    "        rows = table.find_all('tr')\n",
    "\n",
    "        # Iterate over the rows and extract the data\n",
    "        for i,row in enumerate(rows):\n",
    "            # Find the cells in the row\n",
    "            cells = row.find_all('td')\n",
    "\n",
    "            # Extract the text from each cell\n",
    "            data = [cell.text.strip() for cell in cells]\n",
    "\n",
    "            # create entry in the dictionnary       \n",
    "            movie_dic[i]=data\n",
    "\n",
    "        if movie_dic[0]==[]:\n",
    "            del movie_dic[0]\n",
    "        \n",
    "        movie_dic_list.append(movie_dic)\n",
    "    \n",
    "    return movie_dic_list"
   ]
  },
  {
   "cell_type": "markdown",
   "id": "41cfd752",
   "metadata": {},
   "source": [
    "We use our function to retrieve all the box office tables from 2013 to 2022 (except 2020) and create a dataframe with all the movies. In 2020 we will need two tables so we treat this year separately."
   ]
  },
  {
   "cell_type": "code",
   "execution_count": 5,
   "id": "c4e59125",
   "metadata": {},
   "outputs": [],
   "source": [
    "bo_df=pd.DataFrame()\n",
    "\n",
    "for year in list(range(2013,2020))+ [2021, 2022]:\n",
    "    \n",
    "    url='https://fr.wikipedia.org/wiki/Box-office_France_'+str(year)\n",
    "    movie_dic=get_bo_tables(url, num=1)\n",
    "    bo=pd.DataFrame.from_dict(movie_dic[0], orient='index').replace('', np.nan).dropna(axis=1, how='all')\n",
    "    if year != 2022:\n",
    "        bo.reset_index(inplace=True)\n",
    "    if year < 2020 :\n",
    "        bo.drop(bo.columns[-1],axis=1, inplace=True) #remove weeks columns\n",
    "    bo.columns=['rank','movie', 'director', 'entries'] #rename columns\n",
    "    bo['year']=year\n",
    "    bo_df=pd.concat([bo_df,bo])\n",
    "\n",
    "bo_df['entries'].str.replace(' ','').astype(int) \n",
    "bo_df.reset_index(drop=True, inplace=True)"
   ]
  },
  {
   "cell_type": "code",
   "execution_count": 6,
   "id": "9039af7b",
   "metadata": {},
   "outputs": [
    {
     "data": {
      "text/html": [
       "<div>\n",
       "<style scoped>\n",
       "    .dataframe tbody tr th:only-of-type {\n",
       "        vertical-align: middle;\n",
       "    }\n",
       "\n",
       "    .dataframe tbody tr th {\n",
       "        vertical-align: top;\n",
       "    }\n",
       "\n",
       "    .dataframe thead th {\n",
       "        text-align: right;\n",
       "    }\n",
       "</style>\n",
       "<table border=\"1\" class=\"dataframe\">\n",
       "  <thead>\n",
       "    <tr style=\"text-align: right;\">\n",
       "      <th></th>\n",
       "      <th>rank</th>\n",
       "      <th>movie</th>\n",
       "      <th>director</th>\n",
       "      <th>entries</th>\n",
       "      <th>year</th>\n",
       "    </tr>\n",
       "  </thead>\n",
       "  <tbody>\n",
       "    <tr>\n",
       "      <th>0</th>\n",
       "      <td>1</td>\n",
       "      <td>La Reine des neiges</td>\n",
       "      <td>Chris Buck et Jennifer Lee</td>\n",
       "      <td>5 149 518</td>\n",
       "      <td>2013</td>\n",
       "    </tr>\n",
       "    <tr>\n",
       "      <th>1</th>\n",
       "      <td>2</td>\n",
       "      <td>Le Hobbit : La Désolation de Smaug</td>\n",
       "      <td>Peter Jackson</td>\n",
       "      <td>4 701 246</td>\n",
       "      <td>2013</td>\n",
       "    </tr>\n",
       "    <tr>\n",
       "      <th>2</th>\n",
       "      <td>3</td>\n",
       "      <td>Moi, moche et méchant 2</td>\n",
       "      <td>Pierre Coffin et Chris Renaud</td>\n",
       "      <td>4 655 036</td>\n",
       "      <td>2013</td>\n",
       "    </tr>\n",
       "    <tr>\n",
       "      <th>3</th>\n",
       "      <td>4</td>\n",
       "      <td>Iron Man 3</td>\n",
       "      <td>Shane Black</td>\n",
       "      <td>4 386 939</td>\n",
       "      <td>2013</td>\n",
       "    </tr>\n",
       "    <tr>\n",
       "      <th>4</th>\n",
       "      <td>5</td>\n",
       "      <td>Django Unchained</td>\n",
       "      <td>Quentin Tarantino</td>\n",
       "      <td>4 303 569</td>\n",
       "      <td>2013</td>\n",
       "    </tr>\n",
       "  </tbody>\n",
       "</table>\n",
       "</div>"
      ],
      "text/plain": [
       "  rank                               movie                       director  \\\n",
       "0    1                 La Reine des neiges     Chris Buck et Jennifer Lee   \n",
       "1    2  Le Hobbit : La Désolation de Smaug                  Peter Jackson   \n",
       "2    3             Moi, moche et méchant 2  Pierre Coffin et Chris Renaud   \n",
       "3    4                          Iron Man 3                    Shane Black   \n",
       "4    5                    Django Unchained              Quentin Tarantino   \n",
       "\n",
       "     entries  year  \n",
       "0  5 149 518  2013  \n",
       "1  4 701 246  2013  \n",
       "2  4 655 036  2013  \n",
       "3  4 386 939  2013  \n",
       "4  4 303 569  2013  "
      ]
     },
     "execution_count": 6,
     "metadata": {},
     "output_type": "execute_result"
    }
   ],
   "source": [
    "bo_df.head()"
   ]
  },
  {
   "cell_type": "markdown",
   "id": "63fd38d2",
   "metadata": {},
   "source": [
    "For 2020 we need to retrieve 2 tables from the wikipidia page and concatenate them."
   ]
  },
  {
   "cell_type": "code",
   "execution_count": 234,
   "id": "b5bad0aa",
   "metadata": {},
   "outputs": [],
   "source": [
    "url_2020 = 'https://fr.wikipedia.org/wiki/Box-office_France_2020'\n",
    "movie_dic=get_bo_tables(url_2020, num=2)"
   ]
  },
  {
   "cell_type": "code",
   "execution_count": 251,
   "id": "7f9ddeb7",
   "metadata": {},
   "outputs": [],
   "source": [
    "bo_2020=pd.DataFrame()\n",
    "for i in range(2):\n",
    "    bo=pd.DataFrame.from_dict(movie_dic[i], orient='index').replace('', np.nan).dropna(axis=1, how='all')\n",
    "    bo.columns=['movie', 'director', 'entries']\n",
    "    bo['year']=2020\n",
    "    bo_2020=pd.concat([bo_2020,bo], ignore_index=True)\n",
    "    \n",
    "bo_2020['rank']=bo_2020['entries'].str.replace(' ','').astype(int).rank(ascending=False) #create rank column\n",
    "bo_2020['year']=2020"
   ]
  },
  {
   "cell_type": "code",
   "execution_count": 292,
   "id": "fc1c0c33",
   "metadata": {},
   "outputs": [],
   "source": [
    "#create final dataframe\n",
    "bo_df=pd.concat([bo_df, bo_2020[['rank','movie', 'director', 'entries','year']]]) "
   ]
  },
  {
   "cell_type": "code",
   "execution_count": 9,
   "id": "ad728294",
   "metadata": {},
   "outputs": [
    {
     "data": {
      "text/html": [
       "<div>\n",
       "<style scoped>\n",
       "    .dataframe tbody tr th:only-of-type {\n",
       "        vertical-align: middle;\n",
       "    }\n",
       "\n",
       "    .dataframe tbody tr th {\n",
       "        vertical-align: top;\n",
       "    }\n",
       "\n",
       "    .dataframe thead th {\n",
       "        text-align: right;\n",
       "    }\n",
       "</style>\n",
       "<table border=\"1\" class=\"dataframe\">\n",
       "  <thead>\n",
       "    <tr style=\"text-align: right;\">\n",
       "      <th></th>\n",
       "      <th>rank</th>\n",
       "      <th>movie</th>\n",
       "      <th>director</th>\n",
       "      <th>entries</th>\n",
       "      <th>year</th>\n",
       "    </tr>\n",
       "  </thead>\n",
       "  <tbody>\n",
       "    <tr>\n",
       "      <th>0</th>\n",
       "      <td>1</td>\n",
       "      <td>La Reine des neiges</td>\n",
       "      <td>Chris Buck et Jennifer Lee</td>\n",
       "      <td>5 149 518</td>\n",
       "      <td>2013</td>\n",
       "    </tr>\n",
       "    <tr>\n",
       "      <th>1</th>\n",
       "      <td>2</td>\n",
       "      <td>Le Hobbit : La Désolation de Smaug</td>\n",
       "      <td>Peter Jackson</td>\n",
       "      <td>4 701 246</td>\n",
       "      <td>2013</td>\n",
       "    </tr>\n",
       "    <tr>\n",
       "      <th>2</th>\n",
       "      <td>3</td>\n",
       "      <td>Moi, moche et méchant 2</td>\n",
       "      <td>Pierre Coffin et Chris Renaud</td>\n",
       "      <td>4 655 036</td>\n",
       "      <td>2013</td>\n",
       "    </tr>\n",
       "    <tr>\n",
       "      <th>3</th>\n",
       "      <td>4</td>\n",
       "      <td>Iron Man 3</td>\n",
       "      <td>Shane Black</td>\n",
       "      <td>4 386 939</td>\n",
       "      <td>2013</td>\n",
       "    </tr>\n",
       "    <tr>\n",
       "      <th>4</th>\n",
       "      <td>5</td>\n",
       "      <td>Django Unchained</td>\n",
       "      <td>Quentin Tarantino</td>\n",
       "      <td>4 303 569</td>\n",
       "      <td>2013</td>\n",
       "    </tr>\n",
       "  </tbody>\n",
       "</table>\n",
       "</div>"
      ],
      "text/plain": [
       "  rank                               movie                       director  \\\n",
       "0    1                 La Reine des neiges     Chris Buck et Jennifer Lee   \n",
       "1    2  Le Hobbit : La Désolation de Smaug                  Peter Jackson   \n",
       "2    3             Moi, moche et méchant 2  Pierre Coffin et Chris Renaud   \n",
       "3    4                          Iron Man 3                    Shane Black   \n",
       "4    5                    Django Unchained              Quentin Tarantino   \n",
       "\n",
       "     entries  year  \n",
       "0  5 149 518  2013  \n",
       "1  4 701 246  2013  \n",
       "2  4 655 036  2013  \n",
       "3  4 386 939  2013  \n",
       "4  4 303 569  2013  "
      ]
     },
     "execution_count": 9,
     "metadata": {},
     "output_type": "execute_result"
    }
   ],
   "source": [
    "bo_df.head()"
   ]
  },
  {
   "cell_type": "code",
   "execution_count": 8,
   "id": "0d1ff56a",
   "metadata": {},
   "outputs": [
    {
     "name": "stdout",
     "output_type": "stream",
     "text": [
      "<class 'pandas.core.frame.DataFrame'>\n",
      "RangeIndex: 414 entries, 0 to 413\n",
      "Data columns (total 5 columns):\n",
      " #   Column    Non-Null Count  Dtype \n",
      "---  ------    --------------  ----- \n",
      " 0   rank      414 non-null    object\n",
      " 1   movie     414 non-null    object\n",
      " 2   director  414 non-null    object\n",
      " 3   entries   414 non-null    object\n",
      " 4   year      414 non-null    int64 \n",
      "dtypes: int64(1), object(4)\n",
      "memory usage: 16.3+ KB\n"
     ]
    }
   ],
   "source": [
    "bo_df.info()"
   ]
  },
  {
   "cell_type": "code",
   "execution_count": 10,
   "id": "db6188d8",
   "metadata": {},
   "outputs": [],
   "source": [
    "#save data \n",
    "bo_df.to_csv(\"box_office_20132022.csv\")"
   ]
  }
 ],
 "metadata": {
  "kernelspec": {
   "display_name": "Python 3 (ipykernel)",
   "language": "python",
   "name": "python3"
  },
  "language_info": {
   "codemirror_mode": {
    "name": "ipython",
    "version": 3
   },
   "file_extension": ".py",
   "mimetype": "text/x-python",
   "name": "python",
   "nbconvert_exporter": "python",
   "pygments_lexer": "ipython3",
   "version": "3.9.16"
  }
 },
 "nbformat": 4,
 "nbformat_minor": 5
}
