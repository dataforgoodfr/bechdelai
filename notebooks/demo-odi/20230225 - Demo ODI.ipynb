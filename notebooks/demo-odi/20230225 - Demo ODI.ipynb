{
 "cells": [
  {
   "cell_type": "code",
   "execution_count": 1,
   "id": "038aadcf",
   "metadata": {},
   "outputs": [],
   "source": [
    "# For developers who want to use the latest development version or the library locally\n",
    "# Use poetry to install dependencies\n",
    "import sys\n",
    "sys.path.append(\"../\") # Or change to the folder to the direction of \n",
    "\n",
    "%load_ext autoreload\n",
    "%autoreload 2\n",
    "\n",
    "import bechdelai"
   ]
  },
  {
   "cell_type": "markdown",
   "id": "6521fddd",
   "metadata": {},
   "source": [
    "# Bechdel test on a dialogue scene\n",
    "The test is already done on a dialogue scene. So easier, because we don't have to extract dialogue segments from a video"
   ]
  },
  {
   "cell_type": "markdown",
   "id": "dfa5ac0e",
   "metadata": {},
   "source": [
    "## Test on 2 dialogue scenes"
   ]
  },
  {
   "cell_type": "code",
   "execution_count": 2,
   "id": "b657fa08",
   "metadata": {},
   "outputs": [],
   "source": [
    "path1 = \"https://www.youtube.com/watch?v=b2f2Kqt_KcE&ab_channel=Movieclips\" #Devils wears prada\n",
    "path2 = \"https://www.youtube.com/watch?v=FDFdroN7d0w\" #Marriage story"
   ]
  },
  {
   "cell_type": "markdown",
   "id": "fe733fa4",
   "metadata": {},
   "source": [
    "## Download videos and audios from Youtube\n",
    "Inspiration from https://huggingface.co/spaces/vumichien/whisper-speaker-diarization/blob/main/app.py"
   ]
  },
  {
   "cell_type": "code",
   "execution_count": 3,
   "id": "ac260c66",
   "metadata": {},
   "outputs": [],
   "source": [
    "from bechdelai.data.youtube import download_youtube_video,download_youtube_audio"
   ]
  },
  {
   "cell_type": "code",
   "execution_count": 4,
   "id": "5aa1ce3d",
   "metadata": {},
   "outputs": [
    {
     "name": "stdout",
     "output_type": "stream",
     "text": [
      "Task Completed!\n"
     ]
    },
    {
     "data": {
      "text/plain": [
       "'audio.mp3'"
      ]
     },
     "execution_count": 4,
     "metadata": {},
     "output_type": "execute_result"
    }
   ],
   "source": [
    "download_youtube_video(path2,\"video.mp4\")\n",
    "download_youtube_audio(path2,\"audio.mp3\")"
   ]
  },
  {
   "cell_type": "code",
   "execution_count": 2,
   "id": "d78d3671",
   "metadata": {},
   "outputs": [],
   "source": [
    "video_path = \"video.mp4\""
   ]
  },
  {
   "cell_type": "markdown",
   "id": "999e8c78",
   "metadata": {},
   "source": [
    "## Convert video to audio wav file"
   ]
  },
  {
   "cell_type": "code",
   "execution_count": 12,
   "id": "0a8a97b6",
   "metadata": {},
   "outputs": [],
   "source": [
    "from bechdelai.audio.utils import extract_audio_from_movie"
   ]
  },
  {
   "cell_type": "code",
   "execution_count": 13,
   "id": "f8f4e15d",
   "metadata": {},
   "outputs": [
    {
     "name": "stdout",
     "output_type": "stream",
     "text": [
      "MoviePy - Writing audio in video.wav\n"
     ]
    },
    {
     "name": "stderr",
     "output_type": "stream",
     "text": [
      "                                                                                                                                    "
     ]
    },
    {
     "name": "stdout",
     "output_type": "stream",
     "text": [
      "MoviePy - Done.\n"
     ]
    },
    {
     "name": "stderr",
     "output_type": "stream",
     "text": [
      "\r"
     ]
    }
   ],
   "source": [
    "extract_audio_from_movie(video_path,\".wav\")"
   ]
  },
  {
   "cell_type": "code",
   "execution_count": 3,
   "id": "9af64b12",
   "metadata": {},
   "outputs": [],
   "source": [
    "audio_file = \"video.wav\""
   ]
  },
  {
   "cell_type": "markdown",
   "id": "88a8f8f1",
   "metadata": {},
   "source": [
    "## Clean audio\n",
    "- https://huggingface.co/speechbrain/sepformer-wham16k-enhancement\n",
    "- Spleeter"
   ]
  },
  {
   "cell_type": "markdown",
   "id": "1cad870b",
   "metadata": {},
   "source": [
    "## Extract info using Whisper"
   ]
  },
  {
   "cell_type": "code",
   "execution_count": 4,
   "id": "a5cf6b33",
   "metadata": {},
   "outputs": [],
   "source": [
    "import whisper"
   ]
  },
  {
   "cell_type": "code",
   "execution_count": 6,
   "id": "1622bd83",
   "metadata": {},
   "outputs": [
    {
     "name": "stderr",
     "output_type": "stream",
     "text": [
      "100%|█████████████████████████████████████| 72.1M/72.1M [00:20<00:00, 3.69MiB/s]\n"
     ]
    }
   ],
   "source": [
    "model = whisper.load_model(\"tiny.en\")"
   ]
  },
  {
   "cell_type": "code",
   "execution_count": null,
   "id": "90cbcb8a",
   "metadata": {
    "scrolled": false
   },
   "outputs": [
    {
     "name": "stdout",
     "output_type": "stream",
     "text": [
      "{'task': 'transcribe', 'language': 'en', 'beam_size': 5, 'best_of': 5}\n"
     ]
    },
    {
     "name": "stderr",
     "output_type": "stream",
     "text": [
      "C:\\Users\\theo.alvesdacosta\\AppData\\Local\\pypoetry\\Cache\\virtualenvs\\bechdelai-lU12Pf_x-py3.8\\lib\\site-packages\\whisper\\transcribe.py:78: UserWarning: FP16 is not supported on CPU; using FP32 instead\n",
      "  warnings.warn(\"FP16 is not supported on CPU; using FP32 instead\")\n"
     ]
    }
   ],
   "source": [
    "## Transcribe audio\n",
    "options = dict(language=\"en\", beam_size=5, best_of=5)\n",
    "transcribe_options = dict(task=\"transcribe\", **options)\n",
    "\n",
    "print(transcribe_options)\n",
    "\n",
    "result = model.transcribe(\"audio.mp3\", **transcribe_options)\n",
    "segments = result[\"segments\"]"
   ]
  },
  {
   "cell_type": "code",
   "execution_count": null,
   "id": "783547e3",
   "metadata": {},
   "outputs": [],
   "source": []
  }
 ],
 "metadata": {
  "kernelspec": {
   "display_name": "Python 3 (ipykernel)",
   "language": "python",
   "name": "python3"
  },
  "language_info": {
   "codemirror_mode": {
    "name": "ipython",
    "version": 3
   },
   "file_extension": ".py",
   "mimetype": "text/x-python",
   "name": "python",
   "nbconvert_exporter": "python",
   "pygments_lexer": "ipython3",
   "version": "3.8.8"
  }
 },
 "nbformat": 4,
 "nbformat_minor": 5
}
