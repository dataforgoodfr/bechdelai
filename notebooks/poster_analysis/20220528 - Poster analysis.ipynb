{
 "cells": [
  {
   "cell_type": "code",
   "execution_count": 1,
   "id": "1a670716",
   "metadata": {},
   "outputs": [],
   "source": [
    "import pandas as pd\n",
    "import numpy as np\n",
    "import matplotlib.pyplot as plt\n",
    "from tqdm.auto import tqdm\n",
    "import _pickle as pickle\n",
    "from PIL import Image\n",
    "import os\n",
    "\n",
    "import requests\n",
    "import cv2\n",
    "\n",
    "%load_ext autoreload\n",
    "%autoreload 2\n",
    "\n",
    "import sys\n",
    "sys.path.append(\"../../\")"
   ]
  },
  {
   "cell_type": "code",
   "execution_count": 6,
   "id": "64f746f2",
   "metadata": {},
   "outputs": [],
   "source": [
    "from bechdelai.utils.video import extract_frames_from_videos\n",
    "from bechdelai.vision.video import Video"
   ]
  },
  {
   "cell_type": "markdown",
   "id": "7e26f7d5",
   "metadata": {},
   "source": [
    "# TODO\n",
    "- Récupérer le code d'analyse des étudiants \n",
    "- RetinaFace ? \n",
    "- Récupérer les posters"
   ]
  },
  {
   "cell_type": "markdown",
   "id": "12e6d554",
   "metadata": {},
   "source": [
    "# Récupérer les posters"
   ]
  },
  {
   "cell_type": "code",
   "execution_count": null,
   "id": "8b913f05",
   "metadata": {},
   "outputs": [],
   "source": []
  },
  {
   "cell_type": "markdown",
   "id": "e506021d",
   "metadata": {},
   "source": [
    "# Analyser un poster"
   ]
  },
  {
   "cell_type": "code",
   "execution_count": null,
   "id": "54855117",
   "metadata": {},
   "outputs": [],
   "source": []
  },
  {
   "cell_type": "markdown",
   "id": "7f9de912",
   "metadata": {},
   "source": [
    "# Analyser plusieurs posters"
   ]
  },
  {
   "cell_type": "code",
   "execution_count": null,
   "id": "66d68bc4",
   "metadata": {},
   "outputs": [],
   "source": []
  }
 ],
 "metadata": {
  "kernelspec": {
   "display_name": "Python 3 (ipykernel)",
   "language": "python",
   "name": "python3"
  },
  "language_info": {
   "codemirror_mode": {
    "name": "ipython",
    "version": 3
   },
   "file_extension": ".py",
   "mimetype": "text/x-python",
   "name": "python",
   "nbconvert_exporter": "python",
   "pygments_lexer": "ipython3",
   "version": "3.8.8"
  }
 },
 "nbformat": 4,
 "nbformat_minor": 5
}
