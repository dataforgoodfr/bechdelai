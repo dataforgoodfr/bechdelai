{
 "cells": [
  {
   "cell_type": "code",
   "execution_count": 1,
   "metadata": {},
   "outputs": [],
   "source": [
    "%load_ext autoreload\n",
    "%autoreload 2"
   ]
  },
  {
   "cell_type": "code",
   "execution_count": 2,
   "metadata": {},
   "outputs": [],
   "source": [
    "from bechdelai.data.youtube import download_youtube_video"
   ]
  },
  {
   "cell_type": "code",
   "execution_count": 3,
   "metadata": {},
   "outputs": [],
   "source": [
    "youtube_trailer_url = \"https://www.youtube.com/watch?v=RNKFKDs5SGk\"\n",
    "output_filename = \"asterix\"\n",
    "youtube_language = \"fr-FR\""
   ]
  },
  {
   "cell_type": "code",
   "execution_count": 4,
   "metadata": {},
   "outputs": [
    {
     "name": "stdout",
     "output_type": "stream",
     "text": [
      "Task Completed!\n"
     ]
    }
   ],
   "source": [
    "download_youtube_video(youtube_trailer_url, output_filename, youtube_language)"
   ]
  },
  {
   "cell_type": "code",
   "execution_count": 4,
   "metadata": {},
   "outputs": [
    {
     "data": {
      "text/plain": [
       "{'text': \" ...dans l'éloignement de la France. ... J'arrive de Chine. J'ai besoin de votre aide. Assurez-moi, vous savez où c'est la Chine quand même ? ... Ouais. Mais moi je sais où c'est. Je vais devenir... ...le nouvel empereur de Chine. La mère Cléo, elle va pas s'en remettre. Et mon nom restera gravé dans le marbre de l'histoire. Moi, j'adore quand tu dis ça, j'adore ! Ah, tu le dis bien ! Le dis bien ! Pourquoi faut-il toujours qu'on vienne nous demander de l'aide à nous ? Non ! Mais non ! Moi, je suis d'accord. J'irai en ce moment. Je t'arrête. La procès, c'est nous. On va se marier. Tu sais quoi, Bélix ? Tu s'en montes et moi. C'est pas vrai, il est en train de lui parler, il est en train de nous prononcer ! Vous faites quoi là ? Rien, rien. Je vais vous montrer comment se bagarre en Chine. He's talking to us, he's taking us to the city! Oh! What are you doing? Nothing, nothing. I'm going to show you how to start a war in China. Oh, I'm so happy. I found a lot of heart-throbbing in this adventure. Hello, Alex. Hi, Tadah. And you don't even talk? Yes, he says yes. I love you! Do you hear me? How do you love me? How do you love me? Je ne me souviens pas de là. Mais tu m'aimes plus ? Oui, dis oui. Je l'aime ! Tu m'entends ? Comment ça tu l'aimes ? Comment ça tu l'aimes ? Elles sont où ? Elles sont où les Égyptiens ? C'est quoi, Bélix ? Vraiment je te rends trop d'hier. Qu'est-ce que vous voulez manger d'autre toi ? Des légumes. Des légumes ? Des légumes ? Des légumes ? Tout ça, il est fixe ! T'es légume ! Chargez ! Merci. De rien ? Les quoi parler, quand ton pauvre volait. Clef ! Qu'est-ce que c'est que ça ? Comme dans un enfant, tu t'étais blessé avec. Bon, ça va, ça va. Cléve ! Qu'est-ce que c'est que ça ? Comme dans un film, tu t'étais blessé à l'est. Bon, ça va, ça va. Essaye de reprendre ta pièce, petit sparabè ! C'est très facile, vous vous êtes aveugle. Présume jamais qu'un homme ne voit pas parce qu'il est aveugle. Et celle-là, tu l'as vu venir ? Voilà ! He he he he he. Voilà ! you.\",\n",
       " 'chunks': [{'text': \" ...dans l'éloignement de la France.\",\n",
       "   'timestamp': (0.0, 2.0)},\n",
       "  {'text': ' ...', 'timestamp': (2.0, 5.0)},\n",
       "  {'text': \" J'arrive de Chine.\", 'timestamp': (5.0, 6.0)},\n",
       "  {'text': \" J'ai besoin de votre aide.\", 'timestamp': (6.0, 7.0)},\n",
       "  {'text': \" Assurez-moi, vous savez où c'est la Chine quand même ?\",\n",
       "   'timestamp': (7.0, 9.0)},\n",
       "  {'text': ' ...', 'timestamp': (9.0, 10.0)},\n",
       "  {'text': ' Ouais.', 'timestamp': (10.0, 11.0)},\n",
       "  {'text': \" Mais moi je sais où c'est.\", 'timestamp': (11.0, 12.0)},\n",
       "  {'text': ' Je vais devenir...', 'timestamp': (12.0, 13.0)},\n",
       "  {'text': ' ...le nouvel empereur de Chine.', 'timestamp': (13.0, 15.0)},\n",
       "  {'text': \" La mère Cléo, elle va pas s'en remettre.\",\n",
       "   'timestamp': (15.0, 17.0)},\n",
       "  {'text': \" Et mon nom restera gravé dans le marbre de l'histoire.\",\n",
       "   'timestamp': (17.0, 19.0)},\n",
       "  {'text': \" Moi, j'adore quand tu dis ça, j'adore !\",\n",
       "   'timestamp': (19.0, 22.0)},\n",
       "  {'text': ' Ah, tu le dis bien ! Le dis bien !', 'timestamp': (22.0, 24.0)},\n",
       "  {'text': \" Pourquoi faut-il toujours qu'on vienne nous demander de l'aide à nous ?\",\n",
       "   'timestamp': (24.0, 26.0)},\n",
       "  {'text': ' Non ! Mais non !', 'timestamp': (26.0, 27.0)},\n",
       "  {'text': \" Moi, je suis d'accord.\", 'timestamp': (27.0, 28.0)},\n",
       "  {'text': \" J'irai en ce moment.\", 'timestamp': (28.0, 29.0)},\n",
       "  {'text': \" Je t'arrête. La procès, c'est nous.\", 'timestamp': (29.0, 30.0)},\n",
       "  {'text': ' On va se marier.', 'timestamp': (30.0, 31.0)},\n",
       "  {'text': ' Tu sais quoi, Bélix ?', 'timestamp': (31.0, 32.0)},\n",
       "  {'text': \" Tu s'en montes et moi.\", 'timestamp': (32.0, 33.0)},\n",
       "  {'text': \" C'est pas vrai, il est en train de lui parler, il est en train de nous prononcer !\",\n",
       "   'timestamp': (33.0, 35.0)},\n",
       "  {'text': ' Vous faites quoi là ?', 'timestamp': (35.0, 36.0)},\n",
       "  {'text': ' Rien, rien.', 'timestamp': (36.0, 37.0)},\n",
       "  {'text': ' Je vais vous montrer comment se bagarre en Chine.',\n",
       "   'timestamp': (37.0, 39.0)},\n",
       "  {'text': \" He's talking to us, he's taking us to the city!\",\n",
       "   'timestamp': (39.0, 41.0)},\n",
       "  {'text': ' Oh!', 'timestamp': (41.0, 42.0)},\n",
       "  {'text': ' What are you doing?', 'timestamp': (42.0, 43.0)},\n",
       "  {'text': ' Nothing, nothing.', 'timestamp': (43.0, 44.0)},\n",
       "  {'text': \" I'm going to show you how to start a war in China.\",\n",
       "   'timestamp': (44.0, 46.0)},\n",
       "  {'text': \" Oh, I'm so happy.\", 'timestamp': (46.0, 47.0)},\n",
       "  {'text': ' I found a lot of heart-throbbing in this adventure.',\n",
       "   'timestamp': (47.0, 50.0)},\n",
       "  {'text': ' Hello, Alex.', 'timestamp': (50.0, 51.0)},\n",
       "  {'text': ' Hi, Tadah.', 'timestamp': (51.0, 52.0)},\n",
       "  {'text': \" And you don't even talk?\", 'timestamp': (52.0, 53.0)},\n",
       "  {'text': ' Yes, he says yes.', 'timestamp': (53.0, 54.0)},\n",
       "  {'text': ' I love you! Do you hear me?', 'timestamp': (54.0, 56.0)},\n",
       "  {'text': ' How do you love me?', 'timestamp': (56.0, 57.0)},\n",
       "  {'text': ' How do you love me?', 'timestamp': (57.0, 58.0)},\n",
       "  {'text': ' Je ne me souviens pas de là.', 'timestamp': (58.0, 59.0)},\n",
       "  {'text': \" Mais tu m'aimes plus ?\", 'timestamp': (59.0, 60.0)},\n",
       "  {'text': ' Oui, dis oui.', 'timestamp': (60.0, 61.0)},\n",
       "  {'text': \" Je l'aime !\", 'timestamp': (61.0, 62.0)},\n",
       "  {'text': \" Tu m'entends ?\", 'timestamp': (62.0, 63.0)},\n",
       "  {'text': \" Comment ça tu l'aimes ?\", 'timestamp': (63.0, 64.0)},\n",
       "  {'text': \" Comment ça tu l'aimes ?\", 'timestamp': (64.0, 65.0)},\n",
       "  {'text': ' Elles sont où ?', 'timestamp': (65.0, 66.0)},\n",
       "  {'text': ' Elles sont où les Égyptiens ?', 'timestamp': (66.0, 69.0)},\n",
       "  {'text': \" C'est quoi, Bélix ?\", 'timestamp': (69.0, 70.0)},\n",
       "  {'text': \" Vraiment je te rends trop d'hier.\", 'timestamp': (70.0, 71.0)},\n",
       "  {'text': \" Qu'est-ce que vous voulez manger d'autre toi ?\",\n",
       "   'timestamp': (71.0, 72.0)},\n",
       "  {'text': ' Des légumes.', 'timestamp': (72.0, 73.0)},\n",
       "  {'text': ' Des légumes ?', 'timestamp': (73.0, 74.0)},\n",
       "  {'text': ' Des légumes ?', 'timestamp': (74.0, 75.0)},\n",
       "  {'text': ' Des légumes ?', 'timestamp': (75.0, 76.0)},\n",
       "  {'text': ' Tout ça, il est fixe !', 'timestamp': (76.0, 84.2)},\n",
       "  {'text': \" T'es légume !\", 'timestamp': (84.2, 85.2)},\n",
       "  {'text': ' Chargez !', 'timestamp': (85.2, 86.60000000000001)},\n",
       "  {'text': ' Merci.', 'timestamp': (86.60000000000001, 87.4)},\n",
       "  {'text': ' De rien ?', 'timestamp': (87.4, 88.4)},\n",
       "  {'text': ' Les quoi parler, quand ton pauvre volait.',\n",
       "   'timestamp': (88.4, 91.4)},\n",
       "  {'text': ' Clef !', 'timestamp': (91.4, 92.4)},\n",
       "  {'text': \" Qu'est-ce que c'est que ça ?\", 'timestamp': (92.4, 93.2)},\n",
       "  {'text': \" Comme dans un enfant, tu t'étais blessé avec.\",\n",
       "   'timestamp': (93.2, 94.60000000000001)},\n",
       "  {'text': ' Bon, ça va, ça va.',\n",
       "   'timestamp': (94.60000000000001, 95.60000000000001)},\n",
       "  {'text': ' Cléve !', 'timestamp': (95.60000000000001, 97.60000000000001)},\n",
       "  {'text': \" Qu'est-ce que c'est que ça ?\",\n",
       "   'timestamp': (97.60000000000001, 98.60000000000001)},\n",
       "  {'text': \" Comme dans un film, tu t'étais blessé à l'est.\",\n",
       "   'timestamp': (98.60000000000001, 99.60000000000001)},\n",
       "  {'text': ' Bon, ça va, ça va.',\n",
       "   'timestamp': (99.60000000000001, 100.60000000000001)},\n",
       "  {'text': ' Essaye de reprendre ta pièce, petit sparabè !',\n",
       "   'timestamp': (100.60000000000001, 104.60000000000001)},\n",
       "  {'text': \" C'est très facile, vous vous êtes aveugle.\",\n",
       "   'timestamp': (104.60000000000001, 106.60000000000001)},\n",
       "  {'text': \" Présume jamais qu'un homme ne voit pas parce qu'il est aveugle.\",\n",
       "   'timestamp': (106.60000000000001, 109.60000000000001)},\n",
       "  {'text': \" Et celle-là, tu l'as vu venir ?\",\n",
       "   'timestamp': (109.60000000000001, 111.60000000000001)},\n",
       "  {'text': ' Voilà !', 'timestamp': (111.60000000000001, 112.60000000000001)},\n",
       "  {'text': ' He he he he he.', 'timestamp': (112.60000000000001, 113.72)},\n",
       "  {'text': ' Voilà !', 'timestamp': (113.72, 114.52)},\n",
       "  {'text': ' you.', 'timestamp': (114.52, 116.52)}]}"
      ]
     },
     "execution_count": 4,
     "metadata": {},
     "output_type": "execute_result"
    }
   ],
   "source": [
    "from bechdelai.audio.speech_recognition import SpeechRecognition\n",
    "\n",
    "sr = SpeechRecognition()\n",
    "sr.transcribe(f'{output_filename}.mp4', \"fr\")\n"
   ]
  },
  {
   "cell_type": "code",
   "execution_count": null,
   "metadata": {},
   "outputs": [],
   "source": []
  }
 ],
 "metadata": {
  "kernelspec": {
   "display_name": "bechdelai",
   "language": "python",
   "name": "python3"
  },
  "language_info": {
   "codemirror_mode": {
    "name": "ipython",
    "version": 3
   },
   "file_extension": ".py",
   "mimetype": "text/x-python",
   "name": "python",
   "nbconvert_exporter": "python",
   "pygments_lexer": "ipython3",
   "version": "3.9.16"
  },
  "orig_nbformat": 4,
  "vscode": {
   "interpreter": {
    "hash": "31ffc711ab2ee07bd298f523dc1dd63ebc15cb1e136e0e7de381fff9c93dfdff"
   }
  }
 },
 "nbformat": 4,
 "nbformat_minor": 2
}
