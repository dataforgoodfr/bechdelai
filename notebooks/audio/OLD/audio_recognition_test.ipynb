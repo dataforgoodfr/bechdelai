{
 "cells": [
  {
   "cell_type": "markdown",
   "metadata": {},
   "source": [
    "# Imports"
   ]
  },
  {
   "cell_type": "code",
   "execution_count": 1,
   "metadata": {},
   "outputs": [],
   "source": [
    "import moviepy.editor as mp\n",
    "import speech_recognition as sr\n",
    "from inaSpeechSegmenter import Segmenter\n",
    "from inaSpeechSegmenter.export_funcs import seg2csv, seg2textgrid\n",
    "import os\n",
    "import pandas as pd\n",
    "from tqdm import tqdm\n",
    "tqdm.pandas()"
   ]
  },
  {
   "cell_type": "markdown",
   "metadata": {},
   "source": [
    "# Process 1 : Extraire l'audio d'une video"
   ]
  },
  {
   "cell_type": "code",
   "execution_count": 2,
   "metadata": {},
   "outputs": [],
   "source": [
    "path_to_the_video = os.path.abspath(os.path.join(os.getcwd(),os.pardir,'data','sample_videos','cousinade_court_métrage.mp4'))"
   ]
  },
  {
   "cell_type": "code",
   "execution_count": 3,
   "metadata": {},
   "outputs": [],
   "source": [
    "my_clip = mp.VideoFileClip(path_to_the_video)"
   ]
  },
  {
   "cell_type": "code",
   "execution_count": 4,
   "metadata": {},
   "outputs": [],
   "source": [
    "#Extract the audio\n",
    "path_to_audio = os.path.abspath(os.path.join(path_to_the_video, os.pardir, 'cousinade_audio.wav'))\n",
    "#my_clip.audio.write_audiofile(path_to_audio)"
   ]
  },
  {
   "cell_type": "markdown",
   "metadata": {},
   "source": [
    "# Process 2 : Extraire le texte"
   ]
  },
  {
   "cell_type": "code",
   "execution_count": 5,
   "metadata": {},
   "outputs": [],
   "source": [
    "def decodeSpeech(wavefile, start_time = None, end_time = None, language = None):\n",
    "    \n",
    "    r = sr.Recognizer()\n",
    "    #r.pause_threshold = 3\n",
    "    #r.dynamic_energy_adjustment_damping = 0.5\n",
    "\n",
    "    with sr.WavFile(wavefile) as source:\n",
    "      if start_time == None and end_time == None:\n",
    "        audio_text = r.record(source)\n",
    "      else:\n",
    "        audio_text = r.record(source, duration = end_time - start_time, offset = start_time)\n",
    "    \n",
    "    if language == None: #default language is American English\n",
    "      lg = \"en-US\"\n",
    "    else:\n",
    "      lg = language\n",
    "\n",
    "      # recoginize_() method will throw a request error if the API is unreachable, hence using exception handling\n",
    "      try:\n",
    "          \n",
    "          # using google speech recognition\n",
    "          text = r.recognize_google(audio_text, language = lg)\n",
    "          print('Converting audio transcripts into text ...')\n",
    "          return text\n",
    "      \n",
    "      except:\n",
    "          print('Sorry.. run again...')"
   ]
  },
  {
   "cell_type": "code",
   "execution_count": 6,
   "metadata": {},
   "outputs": [],
   "source": [
    "language = \"fr-FR\""
   ]
  },
  {
   "cell_type": "code",
   "execution_count": 7,
   "metadata": {},
   "outputs": [],
   "source": [
    "seg = Segmenter()"
   ]
  },
  {
   "cell_type": "code",
   "execution_count": 8,
   "metadata": {},
   "outputs": [],
   "source": [
    "segmentation = seg(path_to_audio)"
   ]
  },
  {
   "cell_type": "code",
   "execution_count": 17,
   "metadata": {},
   "outputs": [],
   "source": [
    "mapper = {'source' : [], 'start_time' : [] , 'end_time' : [] }\n",
    "for seg in segmentation:\n",
    "    mapper['source'].append(seg[0])\n",
    "    mapper['start_time'].append(seg[1])\n",
    "    mapper['end_time'].append(seg[2])\n",
    "    "
   ]
  },
  {
   "cell_type": "code",
   "execution_count": 19,
   "metadata": {},
   "outputs": [],
   "source": [
    "df = pd.DataFrame(mapper)"
   ]
  },
  {
   "cell_type": "code",
   "execution_count": 21,
   "metadata": {},
   "outputs": [
    {
     "data": {
      "text/plain": [
       "female      29\n",
       "male        24\n",
       "noise       15\n",
       "noEnergy     8\n",
       "music        3\n",
       "Name: source, dtype: int64"
      ]
     },
     "execution_count": 21,
     "metadata": {},
     "output_type": "execute_result"
    }
   ],
   "source": [
    "df.source.value_counts()"
   ]
  },
  {
   "cell_type": "code",
   "execution_count": 23,
   "metadata": {},
   "outputs": [],
   "source": [
    "df['text'] = ''"
   ]
  },
  {
   "cell_type": "code",
   "execution_count": 31,
   "metadata": {
    "scrolled": true
   },
   "outputs": [
    {
     "name": "stderr",
     "output_type": "stream",
     "text": [
      "  7%|█████▋                                                                             | 2/29 [00:10<02:19,  5.17s/it]"
     ]
    },
    {
     "name": "stdout",
     "output_type": "stream",
     "text": [
      "Converting audio transcripts into text ...\n"
     ]
    },
    {
     "name": "stderr",
     "output_type": "stream",
     "text": [
      "\r",
      " 10%|████████▌                                                                          | 3/29 [00:14<02:06,  4.85s/it]"
     ]
    },
    {
     "name": "stdout",
     "output_type": "stream",
     "text": [
      "Converting audio transcripts into text ...\n"
     ]
    },
    {
     "name": "stderr",
     "output_type": "stream",
     "text": [
      "\r",
      " 14%|███████████▍                                                                       | 4/29 [00:16<01:29,  3.58s/it]"
     ]
    },
    {
     "name": "stdout",
     "output_type": "stream",
     "text": [
      "Converting audio transcripts into text ...\n"
     ]
    },
    {
     "name": "stderr",
     "output_type": "stream",
     "text": [
      "\r",
      " 17%|██████████████▎                                                                    | 5/29 [00:16<01:00,  2.54s/it]"
     ]
    },
    {
     "name": "stdout",
     "output_type": "stream",
     "text": [
      "Converting audio transcripts into text ...\n"
     ]
    },
    {
     "name": "stderr",
     "output_type": "stream",
     "text": [
      "\r",
      " 21%|█████████████████▏                                                                 | 6/29 [00:17<00:45,  1.97s/it]"
     ]
    },
    {
     "name": "stdout",
     "output_type": "stream",
     "text": [
      "Converting audio transcripts into text ...\n"
     ]
    },
    {
     "name": "stderr",
     "output_type": "stream",
     "text": [
      "\r",
      " 24%|████████████████████                                                               | 7/29 [00:18<00:36,  1.66s/it]"
     ]
    },
    {
     "name": "stdout",
     "output_type": "stream",
     "text": [
      "Converting audio transcripts into text ...\n"
     ]
    },
    {
     "name": "stderr",
     "output_type": "stream",
     "text": [
      "\r",
      " 28%|██████████████████████▉                                                            | 8/29 [00:19<00:27,  1.29s/it]"
     ]
    },
    {
     "name": "stdout",
     "output_type": "stream",
     "text": [
      "Sorry.. run again...\n"
     ]
    },
    {
     "name": "stderr",
     "output_type": "stream",
     "text": [
      "\r",
      " 31%|█████████████████████████▊                                                         | 9/29 [00:19<00:22,  1.12s/it]"
     ]
    },
    {
     "name": "stdout",
     "output_type": "stream",
     "text": [
      "Converting audio transcripts into text ...\n"
     ]
    },
    {
     "name": "stderr",
     "output_type": "stream",
     "text": [
      "\r",
      " 34%|████████████████████████████▎                                                     | 10/29 [00:20<00:18,  1.03it/s]"
     ]
    },
    {
     "name": "stdout",
     "output_type": "stream",
     "text": [
      "Converting audio transcripts into text ...\n"
     ]
    },
    {
     "name": "stderr",
     "output_type": "stream",
     "text": [
      "\r",
      " 38%|███████████████████████████████                                                   | 11/29 [00:21<00:18,  1.03s/it]"
     ]
    },
    {
     "name": "stdout",
     "output_type": "stream",
     "text": [
      "Converting audio transcripts into text ...\n"
     ]
    },
    {
     "name": "stderr",
     "output_type": "stream",
     "text": [
      "\r",
      " 41%|█████████████████████████████████▉                                                | 12/29 [00:22<00:14,  1.14it/s]"
     ]
    },
    {
     "name": "stdout",
     "output_type": "stream",
     "text": [
      "Converting audio transcripts into text ...\n"
     ]
    },
    {
     "name": "stderr",
     "output_type": "stream",
     "text": [
      "\r",
      " 45%|████████████████████████████████████▊                                             | 13/29 [00:22<00:12,  1.27it/s]"
     ]
    },
    {
     "name": "stdout",
     "output_type": "stream",
     "text": [
      "Converting audio transcripts into text ...\n"
     ]
    },
    {
     "name": "stderr",
     "output_type": "stream",
     "text": [
      "\r",
      " 48%|███████████████████████████████████████▌                                          | 14/29 [00:23<00:13,  1.11it/s]"
     ]
    },
    {
     "name": "stdout",
     "output_type": "stream",
     "text": [
      "Converting audio transcripts into text ...\n"
     ]
    },
    {
     "name": "stderr",
     "output_type": "stream",
     "text": [
      "\r",
      " 52%|██████████████████████████████████████████▍                                       | 15/29 [00:24<00:12,  1.13it/s]"
     ]
    },
    {
     "name": "stdout",
     "output_type": "stream",
     "text": [
      "Converting audio transcripts into text ...\n"
     ]
    },
    {
     "name": "stderr",
     "output_type": "stream",
     "text": [
      "\r",
      " 55%|█████████████████████████████████████████████▏                                    | 16/29 [00:25<00:11,  1.11it/s]"
     ]
    },
    {
     "name": "stdout",
     "output_type": "stream",
     "text": [
      "Converting audio transcripts into text ...\n"
     ]
    },
    {
     "name": "stderr",
     "output_type": "stream",
     "text": [
      "\r",
      " 59%|████████████████████████████████████████████████                                  | 17/29 [00:26<00:10,  1.18it/s]"
     ]
    },
    {
     "name": "stdout",
     "output_type": "stream",
     "text": [
      "Converting audio transcripts into text ...\n"
     ]
    },
    {
     "name": "stderr",
     "output_type": "stream",
     "text": [
      "\r",
      " 62%|██████████████████████████████████████████████████▉                               | 18/29 [00:27<00:08,  1.28it/s]"
     ]
    },
    {
     "name": "stdout",
     "output_type": "stream",
     "text": [
      "Sorry.. run again...\n"
     ]
    },
    {
     "name": "stderr",
     "output_type": "stream",
     "text": [
      "\r",
      " 66%|█████████████████████████████████████████████████████▋                            | 19/29 [00:28<00:08,  1.18it/s]"
     ]
    },
    {
     "name": "stdout",
     "output_type": "stream",
     "text": [
      "Sorry.. run again...\n"
     ]
    },
    {
     "name": "stderr",
     "output_type": "stream",
     "text": [
      "\r",
      " 69%|████████████████████████████████████████████████████████▌                         | 20/29 [00:29<00:08,  1.05it/s]"
     ]
    },
    {
     "name": "stdout",
     "output_type": "stream",
     "text": [
      "Converting audio transcripts into text ...\n"
     ]
    },
    {
     "name": "stderr",
     "output_type": "stream",
     "text": [
      "\r",
      " 72%|███████████████████████████████████████████████████████████▍                      | 21/29 [00:31<00:09,  1.20s/it]"
     ]
    },
    {
     "name": "stdout",
     "output_type": "stream",
     "text": [
      "Converting audio transcripts into text ...\n"
     ]
    },
    {
     "name": "stderr",
     "output_type": "stream",
     "text": [
      "\r",
      " 76%|██████████████████████████████████████████████████████████████▏                   | 22/29 [00:32<00:08,  1.27s/it]"
     ]
    },
    {
     "name": "stdout",
     "output_type": "stream",
     "text": [
      "Converting audio transcripts into text ...\n"
     ]
    },
    {
     "name": "stderr",
     "output_type": "stream",
     "text": [
      "\r",
      " 79%|█████████████████████████████████████████████████████████████████                 | 23/29 [00:33<00:07,  1.30s/it]"
     ]
    },
    {
     "name": "stdout",
     "output_type": "stream",
     "text": [
      "Converting audio transcripts into text ...\n"
     ]
    },
    {
     "name": "stderr",
     "output_type": "stream",
     "text": [
      "\r",
      " 83%|███████████████████████████████████████████████████████████████████▊              | 24/29 [00:35<00:06,  1.31s/it]"
     ]
    },
    {
     "name": "stdout",
     "output_type": "stream",
     "text": [
      "Converting audio transcripts into text ...\n"
     ]
    },
    {
     "name": "stderr",
     "output_type": "stream",
     "text": [
      "\r",
      " 86%|██████████████████████████████████████████████████████████████████████▋           | 25/29 [00:37<00:06,  1.52s/it]"
     ]
    },
    {
     "name": "stdout",
     "output_type": "stream",
     "text": [
      "Converting audio transcripts into text ...\n"
     ]
    },
    {
     "name": "stderr",
     "output_type": "stream",
     "text": [
      "\r",
      " 90%|█████████████████████████████████████████████████████████████████████████▌        | 26/29 [00:38<00:04,  1.45s/it]"
     ]
    },
    {
     "name": "stdout",
     "output_type": "stream",
     "text": [
      "Converting audio transcripts into text ...\n"
     ]
    },
    {
     "name": "stderr",
     "output_type": "stream",
     "text": [
      "\r",
      " 93%|████████████████████████████████████████████████████████████████████████████▎     | 27/29 [00:39<00:02,  1.43s/it]"
     ]
    },
    {
     "name": "stdout",
     "output_type": "stream",
     "text": [
      "Converting audio transcripts into text ...\n"
     ]
    },
    {
     "name": "stderr",
     "output_type": "stream",
     "text": [
      "\r",
      " 97%|███████████████████████████████████████████████████████████████████████████████▏  | 28/29 [00:41<00:01,  1.58s/it]"
     ]
    },
    {
     "name": "stdout",
     "output_type": "stream",
     "text": [
      "Converting audio transcripts into text ...\n"
     ]
    },
    {
     "name": "stderr",
     "output_type": "stream",
     "text": [
      "\r",
      "100%|██████████████████████████████████████████████████████████████████████████████████| 29/29 [00:42<00:00,  1.35s/it]"
     ]
    },
    {
     "name": "stdout",
     "output_type": "stream",
     "text": [
      "Converting audio transcripts into text ...\n"
     ]
    },
    {
     "name": "stderr",
     "output_type": "stream",
     "text": [
      "\r",
      "100%|██████████████████████████████████████████████████████████████████████████████████| 29/29 [00:43<00:00,  1.50s/it]"
     ]
    },
    {
     "name": "stdout",
     "output_type": "stream",
     "text": [
      "Sorry.. run again...\n"
     ]
    },
    {
     "name": "stderr",
     "output_type": "stream",
     "text": [
      "\n"
     ]
    }
   ],
   "source": [
    "df.loc[df['source']=='female','text'] =\\\n",
    "df.loc[df['source']=='female',:].progress_apply(lambda x : decodeSpeech(path_to_audio, x['start_time'], x['end_time'], language), axis=1)"
   ]
  },
  {
   "cell_type": "code",
   "execution_count": 39,
   "metadata": {},
   "outputs": [
    {
     "data": {
      "text/html": [
       "<div>\n",
       "<style scoped>\n",
       "    .dataframe tbody tr th:only-of-type {\n",
       "        vertical-align: middle;\n",
       "    }\n",
       "\n",
       "    .dataframe tbody tr th {\n",
       "        vertical-align: top;\n",
       "    }\n",
       "\n",
       "    .dataframe thead th {\n",
       "        text-align: right;\n",
       "    }\n",
       "</style>\n",
       "<table border=\"1\" class=\"dataframe\">\n",
       "  <thead>\n",
       "    <tr style=\"text-align: right;\">\n",
       "      <th></th>\n",
       "      <th>source</th>\n",
       "      <th>start_time</th>\n",
       "      <th>end_time</th>\n",
       "      <th>text</th>\n",
       "    </tr>\n",
       "  </thead>\n",
       "  <tbody>\n",
       "    <tr>\n",
       "      <th>2</th>\n",
       "      <td>female</td>\n",
       "      <td>6.88</td>\n",
       "      <td>48.82</td>\n",
       "      <td>merci ma cousine</td>\n",
       "    </tr>\n",
       "    <tr>\n",
       "      <th>5</th>\n",
       "      <td>female</td>\n",
       "      <td>86.28</td>\n",
       "      <td>108.46</td>\n",
       "      <td>du coup ton copain ça fait une semaine amoureuse</td>\n",
       "    </tr>\n",
       "    <tr>\n",
       "      <th>8</th>\n",
       "      <td>female</td>\n",
       "      <td>118.48</td>\n",
       "      <td>122.20</td>\n",
       "      <td>numéro inconnu</td>\n",
       "    </tr>\n",
       "    <tr>\n",
       "      <th>10</th>\n",
       "      <td>female</td>\n",
       "      <td>126.16</td>\n",
       "      <td>127.84</td>\n",
       "      <td>ouais c'est moi c'est qui</td>\n",
       "    </tr>\n",
       "    <tr>\n",
       "      <th>12</th>\n",
       "      <td>female</td>\n",
       "      <td>129.82</td>\n",
       "      <td>131.82</td>\n",
       "      <td>Ouais je crois je me souviens</td>\n",
       "    </tr>\n",
       "    <tr>\n",
       "      <th>14</th>\n",
       "      <td>female</td>\n",
       "      <td>133.90</td>\n",
       "      <td>139.66</td>\n",
       "      <td>ça va bien remis</td>\n",
       "    </tr>\n",
       "    <tr>\n",
       "      <th>16</th>\n",
       "      <td>female</td>\n",
       "      <td>149.46</td>\n",
       "      <td>150.72</td>\n",
       "      <td>None</td>\n",
       "    </tr>\n",
       "    <tr>\n",
       "      <th>18</th>\n",
       "      <td>female</td>\n",
       "      <td>152.72</td>\n",
       "      <td>157.26</td>\n",
       "      <td>du coup je crois que</td>\n",
       "    </tr>\n",
       "    <tr>\n",
       "      <th>21</th>\n",
       "      <td>female</td>\n",
       "      <td>159.34</td>\n",
       "      <td>161.26</td>\n",
       "      <td>Alex enchanté</td>\n",
       "    </tr>\n",
       "    <tr>\n",
       "      <th>23</th>\n",
       "      <td>female</td>\n",
       "      <td>162.86</td>\n",
       "      <td>167.62</td>\n",
       "      <td>c'est que des trucs chez moi</td>\n",
       "    </tr>\n",
       "    <tr>\n",
       "      <th>26</th>\n",
       "      <td>female</td>\n",
       "      <td>168.94</td>\n",
       "      <td>170.40</td>\n",
       "      <td>bah ouais je crois bien ouais</td>\n",
       "    </tr>\n",
       "    <tr>\n",
       "      <th>28</th>\n",
       "      <td>female</td>\n",
       "      <td>171.72</td>\n",
       "      <td>174.12</td>\n",
       "      <td>c'est un peu galère avec ma mère</td>\n",
       "    </tr>\n",
       "    <tr>\n",
       "      <th>30</th>\n",
       "      <td>female</td>\n",
       "      <td>176.70</td>\n",
       "      <td>180.60</td>\n",
       "      <td>ok cool vers où</td>\n",
       "    </tr>\n",
       "    <tr>\n",
       "      <th>33</th>\n",
       "      <td>female</td>\n",
       "      <td>189.86</td>\n",
       "      <td>191.40</td>\n",
       "      <td>34 avenue Gambetta</td>\n",
       "    </tr>\n",
       "    <tr>\n",
       "      <th>37</th>\n",
       "      <td>female</td>\n",
       "      <td>200.00</td>\n",
       "      <td>201.72</td>\n",
       "      <td>36 V 45</td>\n",
       "    </tr>\n",
       "    <tr>\n",
       "      <th>39</th>\n",
       "      <td>female</td>\n",
       "      <td>203.14</td>\n",
       "      <td>204.68</td>\n",
       "      <td>mais je crois que j'ai déjà hâte d'être</td>\n",
       "    </tr>\n",
       "    <tr>\n",
       "      <th>41</th>\n",
       "      <td>female</td>\n",
       "      <td>206.30</td>\n",
       "      <td>207.74</td>\n",
       "      <td>None</td>\n",
       "    </tr>\n",
       "    <tr>\n",
       "      <th>43</th>\n",
       "      <td>female</td>\n",
       "      <td>217.00</td>\n",
       "      <td>218.44</td>\n",
       "      <td>None</td>\n",
       "    </tr>\n",
       "    <tr>\n",
       "      <th>45</th>\n",
       "      <td>female</td>\n",
       "      <td>222.84</td>\n",
       "      <td>225.88</td>\n",
       "      <td>Ouais à demain bisous</td>\n",
       "    </tr>\n",
       "    <tr>\n",
       "      <th>47</th>\n",
       "      <td>female</td>\n",
       "      <td>228.96</td>\n",
       "      <td>240.12</td>\n",
       "      <td>bah c'est bon j'envoie demain trop bien je t'a...</td>\n",
       "    </tr>\n",
       "    <tr>\n",
       "      <th>49</th>\n",
       "      <td>female</td>\n",
       "      <td>241.70</td>\n",
       "      <td>246.42</td>\n",
       "      <td>et aller chez ouais en plus d'habitude j'aime ...</td>\n",
       "    </tr>\n",
       "    <tr>\n",
       "      <th>51</th>\n",
       "      <td>female</td>\n",
       "      <td>248.10</td>\n",
       "      <td>254.48</td>\n",
       "      <td>et il t'a prise par derrière deux fois que la ...</td>\n",
       "    </tr>\n",
       "    <tr>\n",
       "      <th>53</th>\n",
       "      <td>female</td>\n",
       "      <td>256.04</td>\n",
       "      <td>261.74</td>\n",
       "      <td>Il t'a pris ça aussi on est allé un peu fort j...</td>\n",
       "    </tr>\n",
       "    <tr>\n",
       "      <th>55</th>\n",
       "      <td>female</td>\n",
       "      <td>265.30</td>\n",
       "      <td>275.96</td>\n",
       "      <td>du coup ton copain alors la photo j'en ai pas ...</td>\n",
       "    </tr>\n",
       "    <tr>\n",
       "      <th>57</th>\n",
       "      <td>female</td>\n",
       "      <td>289.16</td>\n",
       "      <td>293.62</td>\n",
       "      <td>il s'appelle comment mon copain</td>\n",
       "    </tr>\n",
       "    <tr>\n",
       "      <th>59</th>\n",
       "      <td>female</td>\n",
       "      <td>294.62</td>\n",
       "      <td>301.40</td>\n",
       "      <td>mettez en plus on a même pas même pas beaucoup...</td>\n",
       "    </tr>\n",
       "    <tr>\n",
       "      <th>61</th>\n",
       "      <td>female</td>\n",
       "      <td>304.66</td>\n",
       "      <td>313.68</td>\n",
       "      <td>c'est fort c'est même en fait c'était juste le...</td>\n",
       "    </tr>\n",
       "    <tr>\n",
       "      <th>64</th>\n",
       "      <td>female</td>\n",
       "      <td>337.82</td>\n",
       "      <td>340.70</td>\n",
       "      <td>non t'inquiète il vous connaissez</td>\n",
       "    </tr>\n",
       "    <tr>\n",
       "      <th>68</th>\n",
       "      <td>female</td>\n",
       "      <td>352.28</td>\n",
       "      <td>353.10</td>\n",
       "      <td>None</td>\n",
       "    </tr>\n",
       "  </tbody>\n",
       "</table>\n",
       "</div>"
      ],
      "text/plain": [
       "    source  start_time  end_time  \\\n",
       "2   female        6.88     48.82   \n",
       "5   female       86.28    108.46   \n",
       "8   female      118.48    122.20   \n",
       "10  female      126.16    127.84   \n",
       "12  female      129.82    131.82   \n",
       "14  female      133.90    139.66   \n",
       "16  female      149.46    150.72   \n",
       "18  female      152.72    157.26   \n",
       "21  female      159.34    161.26   \n",
       "23  female      162.86    167.62   \n",
       "26  female      168.94    170.40   \n",
       "28  female      171.72    174.12   \n",
       "30  female      176.70    180.60   \n",
       "33  female      189.86    191.40   \n",
       "37  female      200.00    201.72   \n",
       "39  female      203.14    204.68   \n",
       "41  female      206.30    207.74   \n",
       "43  female      217.00    218.44   \n",
       "45  female      222.84    225.88   \n",
       "47  female      228.96    240.12   \n",
       "49  female      241.70    246.42   \n",
       "51  female      248.10    254.48   \n",
       "53  female      256.04    261.74   \n",
       "55  female      265.30    275.96   \n",
       "57  female      289.16    293.62   \n",
       "59  female      294.62    301.40   \n",
       "61  female      304.66    313.68   \n",
       "64  female      337.82    340.70   \n",
       "68  female      352.28    353.10   \n",
       "\n",
       "                                                 text  \n",
       "2                                    merci ma cousine  \n",
       "5    du coup ton copain ça fait une semaine amoureuse  \n",
       "8                                      numéro inconnu  \n",
       "10                          ouais c'est moi c'est qui  \n",
       "12                      Ouais je crois je me souviens  \n",
       "14                                   ça va bien remis  \n",
       "16                                               None  \n",
       "18                               du coup je crois que  \n",
       "21                                      Alex enchanté  \n",
       "23                       c'est que des trucs chez moi  \n",
       "26                      bah ouais je crois bien ouais  \n",
       "28                   c'est un peu galère avec ma mère  \n",
       "30                                    ok cool vers où  \n",
       "33                                 34 avenue Gambetta  \n",
       "37                                            36 V 45  \n",
       "39            mais je crois que j'ai déjà hâte d'être  \n",
       "41                                               None  \n",
       "43                                               None  \n",
       "45                              Ouais à demain bisous  \n",
       "47  bah c'est bon j'envoie demain trop bien je t'a...  \n",
       "49  et aller chez ouais en plus d'habitude j'aime ...  \n",
       "51  et il t'a prise par derrière deux fois que la ...  \n",
       "53  Il t'a pris ça aussi on est allé un peu fort j...  \n",
       "55  du coup ton copain alors la photo j'en ai pas ...  \n",
       "57                    il s'appelle comment mon copain  \n",
       "59  mettez en plus on a même pas même pas beaucoup...  \n",
       "61  c'est fort c'est même en fait c'était juste le...  \n",
       "64                  non t'inquiète il vous connaissez  \n",
       "68                                               None  "
      ]
     },
     "execution_count": 39,
     "metadata": {},
     "output_type": "execute_result"
    }
   ],
   "source": [
    "df.loc[df['source']=='female',:]"
   ]
  },
  {
   "cell_type": "code",
   "execution_count": 40,
   "metadata": {},
   "outputs": [],
   "source": [
    "from pydub import AudioSegment\n",
    "t1 = 168.94 * 1000 #Works in milliseconds\n",
    "t2 = 170.40 * 1000\n",
    "newAudio = AudioSegment.from_wav(path_to_audio)\n",
    "newAudio = newAudio[t1:t2]\n"
   ]
  },
  {
   "cell_type": "code",
   "execution_count": 41,
   "metadata": {
    "scrolled": true
   },
   "outputs": [
    {
     "data": {
      "text/plain": [
       "pydub.audio_segment.AudioSegment"
      ]
     },
     "execution_count": 41,
     "metadata": {},
     "output_type": "execute_result"
    }
   ],
   "source": [
    "type(newAudio)"
   ]
  },
  {
   "cell_type": "code",
   "execution_count": 43,
   "metadata": {},
   "outputs": [
    {
     "data": {
      "text/plain": [
       "<_io.BufferedRandom name='C:\\\\Users\\\\mehdi\\\\Desktop\\\\data_for_good\\\\mm2_bechdelai-vision\\\\data\\\\sample_videos\\\\tests.wav'>"
      ]
     },
     "execution_count": 43,
     "metadata": {},
     "output_type": "execute_result"
    }
   ],
   "source": [
    "newAudio.export(os.path.abspath(os.path.join(path_to_audio, os.pardir, 'tests.wav')), format=\"wav\")"
   ]
  },
  {
   "cell_type": "code",
   "execution_count": 45,
   "metadata": {},
   "outputs": [
    {
     "name": "stdout",
     "output_type": "stream",
     "text": [
      "Converting audio transcripts into text ...\n"
     ]
    },
    {
     "data": {
      "text/plain": [
       "'bah ouais je crois bien ouais'"
      ]
     },
     "execution_count": 45,
     "metadata": {},
     "output_type": "execute_result"
    }
   ],
   "source": [
    "\n",
    "decodeSpeech(os.path.abspath(os.path.join(path_to_audio, os.pardir, 'tests.wav')), start_time = None, end_time = None, language = language)"
   ]
  },
  {
   "cell_type": "code",
   "execution_count": 46,
   "metadata": {},
   "outputs": [],
   "source": [
    "#Resemblyzer"
   ]
  },
  {
   "cell_type": "code",
   "execution_count": null,
   "metadata": {},
   "outputs": [],
   "source": []
  }
 ],
 "metadata": {
  "kernelspec": {
   "display_name": "Python 3",
   "language": "python",
   "name": "python3"
  },
  "language_info": {
   "codemirror_mode": {
    "name": "ipython",
    "version": 3
   },
   "file_extension": ".py",
   "mimetype": "text/x-python",
   "name": "python",
   "nbconvert_exporter": "python",
   "pygments_lexer": "ipython3",
   "version": "3.8.3"
  }
 },
 "nbformat": 4,
 "nbformat_minor": 4
}
