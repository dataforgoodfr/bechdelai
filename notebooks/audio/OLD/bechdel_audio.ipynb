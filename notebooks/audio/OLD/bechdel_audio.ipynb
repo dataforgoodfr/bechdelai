{
 "cells": [
  {
   "cell_type": "code",
   "execution_count": 1,
   "metadata": {
    "colab": {
     "base_uri": "https://localhost:8080/"
    },
    "executionInfo": {
     "elapsed": 22176,
     "status": "ok",
     "timestamp": 1643749891148,
     "user": {
      "displayName": "Mehdi Agunaou",
      "photoUrl": "https://lh3.googleusercontent.com/a/default-user=s64",
      "userId": "15746146104404176496"
     },
     "user_tz": -60
    },
    "id": "PoueSBaJ2tOw",
    "outputId": "536f770c-216d-4ddb-ed1d-0f5daf705f71"
   },
   "outputs": [
    {
     "name": "stdout",
     "output_type": "stream",
     "text": [
      "Mounted at /content/drive\n"
     ]
    }
   ],
   "source": [
    "from google.colab import drive\n",
    "import os\n",
    "drive.mount('/content/drive')"
   ]
  },
  {
   "cell_type": "code",
   "execution_count": null,
   "metadata": {
    "id": "bKg4OIsQ2xdN"
   },
   "outputs": [],
   "source": [
    "!pip install transformers\n",
    "!pip install speechbrain\n",
    "!pip install inaSpeechSegmenter\n",
    "!pip install asrecognition\n",
    "!pip install SpeechRecognition\n",
    "!pip install pydub\n",
    "!pip install pyyaml==5.4.1"
   ]
  },
  {
   "cell_type": "code",
   "execution_count": 3,
   "metadata": {
    "executionInfo": {
     "elapsed": 26,
     "status": "ok",
     "timestamp": 1643749945788,
     "user": {
      "displayName": "Mehdi Agunaou",
      "photoUrl": "https://lh3.googleusercontent.com/a/default-user=s64",
      "userId": "15746146104404176496"
     },
     "user_tz": -60
    },
    "id": "gZ7fGZkQ3CzG"
   },
   "outputs": [],
   "source": [
    "video_dir = '/content/drive/MyDrive/DataForGood/bechdel/data/video'\n",
    "audio_dir = '/content/drive/MyDrive/DataForGood/bechdel/data/audio'\n",
    "chunks = '/content/drive/MyDrive/DataForGood/bechdel/data/audio/chunks'\n",
    "folders = [video_dir, audio_dir, chunks]"
   ]
  },
  {
   "cell_type": "code",
   "execution_count": 4,
   "metadata": {
    "executionInfo": {
     "elapsed": 854,
     "status": "ok",
     "timestamp": 1643749946621,
     "user": {
      "displayName": "Mehdi Agunaou",
      "photoUrl": "https://lh3.googleusercontent.com/a/default-user=s64",
      "userId": "15746146104404176496"
     },
     "user_tz": -60
    },
    "id": "E0CZPdrJ3Dhl"
   },
   "outputs": [],
   "source": [
    "for folder in folders:\n",
    "  if not os.path.isdir(folder) : \n",
    "    !mkdir -p {folder}"
   ]
  },
  {
   "cell_type": "code",
   "execution_count": null,
   "metadata": {},
   "outputs": [],
   "source": [
    "!wget https://github.com/dataforgoodfr/mm2_bechdelai-vision/blob/main/data/sample_audios/LA_LETTRE.wav -P {audio_dir}"
   ]
  },
  {
   "cell_type": "code",
   "execution_count": 5,
   "metadata": {
    "executionInfo": {
     "elapsed": 211,
     "status": "ok",
     "timestamp": 1643750013245,
     "user": {
      "displayName": "Mehdi Agunaou",
      "photoUrl": "https://lh3.googleusercontent.com/a/default-user=s64",
      "userId": "15746146104404176496"
     },
     "user_tz": -60
    },
    "id": "LngMKj-93EIV"
   },
   "outputs": [],
   "source": [
    "audio_path = os.path.join(audio_dir, 'LA_LETTRE.wav')\n",
    "small_test = os.path.join(audio_dir, 'Enregistrement.wav')"
   ]
  },
  {
   "cell_type": "code",
   "execution_count": 6,
   "metadata": {
    "executionInfo": {
     "elapsed": 11056,
     "status": "ok",
     "timestamp": 1643750027879,
     "user": {
      "displayName": "Mehdi Agunaou",
      "photoUrl": "https://lh3.googleusercontent.com/a/default-user=s64",
      "userId": "15746146104404176496"
     },
     "user_tz": -60
    },
    "id": "pOnmpB5d3vLu"
   },
   "outputs": [],
   "source": [
    "import plotly.express as px\n",
    "import datetime\n",
    "import torch\n",
    "from torchaudio.sox_effects import apply_effects_file\n",
    "from transformers import AutoFeatureExtractor, AutoModelForAudioXVector\n",
    "from speechbrain.pretrained import SepformerSeparation as separator\n",
    "import torchaudio\n",
    "from speechbrain.pretrained import EncoderASR\n",
    "from asrecognition import ASREngine\n",
    "from pydub import AudioSegment\n",
    "import transformers\n",
    "import speech_recognition as sr\n",
    "from inaSpeechSegmenter import Segmenter\n",
    "from inaSpeechSegmenter.export_funcs import seg2csv, seg2textgrid\n",
    "import os\n",
    "import pandas as pd\n",
    "from tqdm import tqdm\n",
    "import re\n",
    "tqdm.pandas()"
   ]
  },
  {
   "cell_type": "code",
   "execution_count": 7,
   "metadata": {
    "executionInfo": {
     "elapsed": 326,
     "status": "ok",
     "timestamp": 1643750028190,
     "user": {
      "displayName": "Mehdi Agunaou",
      "photoUrl": "https://lh3.googleusercontent.com/a/default-user=s64",
      "userId": "15746146104404176496"
     },
     "user_tz": -60
    },
    "id": "z_XxbufZ4UIB"
   },
   "outputs": [],
   "source": [
    "def similarity_fn(path1, path2,treshold):    \n",
    "    wav1, _ = apply_effects_file(path1, EFFECTS)\n",
    "    wav2, _ = apply_effects_file(path2, EFFECTS)\n",
    "    \n",
    "\n",
    "    input1 = feature_extractor(wav1.squeeze(0), return_tensors=\"pt\", sampling_rate=16000).input_values.to(device)\n",
    "    input2 = feature_extractor(wav2.squeeze(0), return_tensors=\"pt\", sampling_rate=16000).input_values.to(device)\n",
    "\n",
    "    with torch.no_grad():\n",
    "        emb1 = model(input1).embeddings\n",
    "        emb2 = model(input2).embeddings\n",
    "    emb1 = torch.nn.functional.normalize(emb1, dim=-1).cpu()\n",
    "    emb2 = torch.nn.functional.normalize(emb2, dim=-1).cpu()\n",
    "    similarity = cosine_sim(emb1, emb2).numpy()[0]\n",
    "\n",
    "    if similarity >= treshold:\n",
    "        output = True\n",
    "    else:\n",
    "        output = False\n",
    "\n",
    "    return output\n",
    "\n",
    "\n",
    "def speech_segmenter(segmenter, wavfile):  \n",
    "    segmentation = segmenter(wavfile)\n",
    "    \n",
    "    mapper = {'source' : [], 'start_time' : [] , 'end_time' : [] }\n",
    "    \n",
    "    for seg in segmentation:\n",
    "        mapper['source'].append(seg[0])\n",
    "        mapper['start_time'].append(seg[1])\n",
    "        mapper['end_time'].append(seg[2])\n",
    "\n",
    "\n",
    "    df = pd.DataFrame(mapper)\n",
    "    \n",
    "    return df\n",
    "\n",
    "def map_numbers(x,mapper):\n",
    "  for k in mapper.keys():\n",
    "    if x in mapper[k]:\n",
    "      return k\n",
    "\n",
    "\n",
    "\n",
    "def crop_and_save_segments(wavfile, chunks_path, index, start_time, end_time):\n",
    "    sound = AudioSegment.from_file(wavfile)\n",
    "    segment = sound[start_time*1000:end_time*1000]\n",
    "    segment.export(os.path.join(chunks_path,f'female{index}.wav'), format=\"wav\")\n",
    "    segment_fname = os.path.join(chunks_path,f'female{index}.wav')\n",
    "    return segment_fname\n",
    "   \n",
    "def indexing_persons(path1, path2, treshold, women_index):\n",
    "    is_same = similarity_fn(path1, path2, treshold)\n",
    "    return women_index if is_same else -1   \n",
    "\n",
    "\n",
    "def compare_voices_from_audio(wavfile, chunks_path, model, segmenter, treshold ) :\n",
    "    \"\"\"\n",
    "    This function processes a wavefile and crops it according to female segmented speeches\n",
    "    It then takes saved chunks of female voices and compares them one-to-one in a O(n) way\n",
    "    It adds a categorical column indexing each woman in the audio\n",
    "    It then returns : \n",
    "        the segmentation dataframe\n",
    "        the distinct women dataframe\n",
    "        the indexed persons dataframe\n",
    "\n",
    "    \"\"\"\n",
    "    print(r'******************')\n",
    "    print(\"Segmenting audio file...\")\n",
    "    print(r'******************')\n",
    "    df = speech_segmenter(segmenter, wavfile)\n",
    "    df.reset_index(drop=False,inplace=True)\n",
    "    \n",
    "    print(r'******************')\n",
    "    print(\"Exporting cropped audio files...\")\n",
    "    print(r'******************')\n",
    "    df.loc[df['source']=='female',\"female_fname\"] = df.loc[df['source']=='female',:].progress_apply(lambda x :\\\n",
    "    crop_and_save_segments(wavfile, chunks_path, x['index'], x['start_time'], x['end_time']), axis=1)\n",
    "\n",
    "    df['person_indexer'] = -1\n",
    "    all_women = df.loc[df['source']=='female',:]\n",
    "    \n",
    "    \n",
    "    print(r'******************')\n",
    "    print(\"Comparing Voices...\")\n",
    "    print(r'******************')\n",
    "    all_women.reset_index(drop=True,inplace=True)\n",
    "    grappes = []\n",
    "    dropped = []\n",
    "    for i in tqdm(range(1,len(all_women))):\n",
    "        to_loop = list(range(0,i))\n",
    "        for x in dropped:\n",
    "            to_loop.remove(x)\n",
    "        for j in to_loop[::-1]:\n",
    "                rowi1 = all_women.loc[j,\"female_fname\"]\n",
    "                rowi = all_women.loc[i,\"female_fname\"]\n",
    "                is_same = similarity_fn(os.path.join(chunks_path,rowi1), os.path.join(chunks_path,rowi),treshold=treshold)\n",
    "                if is_same :\n",
    "                    grappes.append([rowi,rowi1])\n",
    "                    dropped.append(j)\n",
    "                    break            \n",
    "            \n",
    "    \n",
    "    print(r'******************')\n",
    "    print(\"Indexing Persons...\")\n",
    "    print(r'******************')\n",
    "    for cpl in grappes:\n",
    "      cpl[0] = int(re.findall(r'\\d+', cpl[0])[0])\n",
    "      cpl[1] = int(re.findall(r'\\d+', cpl[1])[0])\n",
    "\n",
    "    groups = []\n",
    "    while len(grappes)!=0: \n",
    "      group = []\n",
    "      to_drop = []\n",
    "      for i in tqdm(range(len(grappes))):\n",
    "        if i==0:\n",
    "          group = list(set(group + grappes[i]))\n",
    "        if len(set(group + grappes[i])) < len(group + grappes[i]):\n",
    "          group = list(set(group + grappes[i]))\n",
    "          to_drop.append(i)\n",
    "\n",
    "      groups.append(group)\n",
    "      to_keep = list(set(list(range(len(grappes)))) - set(to_drop))\n",
    "      grappes = [grappes[p] for p in to_keep]\n",
    "    \n",
    "    mapper = {k : groups[k] for k in range(len(groups))}\n",
    "\n",
    "    all_women['number'] = all_women['female_fname'].progress_apply(lambda x : int(re.findall(r'\\d+', x)[0]))\n",
    "\n",
    "    all_women['person_indexer'] = all_women['number'].progress_apply(lambda x : map_numbers(x,mapper))\n",
    "\n",
    "    return df, all_women , groups, dropped"
   ]
  },
  {
   "cell_type": "code",
   "execution_count": 8,
   "metadata": {
    "executionInfo": {
     "elapsed": 212,
     "status": "ok",
     "timestamp": 1643750029651,
     "user": {
      "displayName": "Mehdi Agunaou",
      "photoUrl": "https://lh3.googleusercontent.com/a/default-user=s64",
      "userId": "15746146104404176496"
     },
     "user_tz": -60
    },
    "id": "bmY1y21L49ly"
   },
   "outputs": [],
   "source": [
    "treshold = 0.80\n",
    "EFFECTS = [\n",
    "    [\"remix\", \"-\"],\n",
    "    [\"channels\", \"1\"],\n",
    "    [\"rate\", \"16000\"],\n",
    "    [\"gain\", \"-1.0\"],\n",
    "    [\"silence\", \"1\", \"0.1\", \"0.1%\", \"-1\", \"0.1\", \"0.1%\"],\n",
    "    [\"trim\", \"0\", \"10\"],\n",
    "]"
   ]
  },
  {
   "cell_type": "code",
   "execution_count": 9,
   "metadata": {
    "colab": {
     "base_uri": "https://localhost:8080/",
     "height": 113,
     "referenced_widgets": [
      "c74dc430d42b4da3bf609c8eea8f62a5",
      "1edc0fa8263249a2beeb9598b94ca4eb",
      "17f5c6dc32a849e89d6412116d6b421f",
      "d90a0de5281243b7ba0aef8114085f9d",
      "17ce6b7ac8544136ae6a89eacfca2a51",
      "f4d96faa43084c9182cb99d42adda4a8",
      "2549bb95822c4a239d14e3c38f6816bc",
      "93aaf1abc9324e35af2d12b894a8389c",
      "01897153fda84728a3977a7c24bc849a",
      "30e4b90eab3f417d92dbe9f4719e4a3b",
      "763994faa99440ee97f3988a6261216e",
      "568387f8e4bb440fb3767cb6f3dc6243",
      "5554ecb15bf24b2591c61e94475ec0b3",
      "8bd2013260dd41399d7028bfa3ca14c5",
      "5022259aa1d14bcbad558cc7e321b407",
      "848bbaeaac744084a40cb0d7f6db6dbe",
      "e48a980eb87d42ad80b17c9284f493fc",
      "7e6fb5207613491c809bca3999d4437f",
      "5d4d48cf840a40c0811f5bcdc7cb7c1b",
      "05a1cdf8a7b44b639a83fbdd6483661e",
      "a30294c36c5c4d69bb24047a9fe03e89",
      "340c8f2b7e86421eb77ef52a88e1fcac",
      "d796398f7c7b48af9fb67cf3e3b6eeac",
      "f2106400a5e14cb1a9aeacd678bb1a66",
      "2e040c9d980243dc89fb210646c35c5e",
      "6110c8b14e294e2980ed55f2807a4dab",
      "40beec03e13a42158ed994d88901d896",
      "8c433c704243472c836a5e0cb413c2b0",
      "00535c063c4b4f479e88015250037ab3",
      "a01956ce46ed4b8691b8488df4350d87",
      "6c53eef5d86e418f977a9eb456aae3ad",
      "35faaba47dd54140bc65a34587fc49bc",
      "356d36895ecf42dba78af790851cb0bc"
     ]
    },
    "executionInfo": {
     "elapsed": 14850,
     "status": "ok",
     "timestamp": 1643750046817,
     "user": {
      "displayName": "Mehdi Agunaou",
      "photoUrl": "https://lh3.googleusercontent.com/a/default-user=s64",
      "userId": "15746146104404176496"
     },
     "user_tz": -60
    },
    "id": "qZX1YX594W5P",
    "outputId": "07254897-1a82-4b91-d4e2-f5ab239b316f"
   },
   "outputs": [
    {
     "data": {
      "application/vnd.jupyter.widget-view+json": {
       "model_id": "c74dc430d42b4da3bf609c8eea8f62a5",
       "version_major": 2,
       "version_minor": 0
      },
      "text/plain": [
       "Downloading:   0%|          | 0.00/57.3k [00:00<?, ?B/s]"
      ]
     },
     "metadata": {},
     "output_type": "display_data"
    },
    {
     "data": {
      "application/vnd.jupyter.widget-view+json": {
       "model_id": "568387f8e4bb440fb3767cb6f3dc6243",
       "version_major": 2,
       "version_minor": 0
      },
      "text/plain": [
       "Downloading:   0%|          | 0.00/215 [00:00<?, ?B/s]"
      ]
     },
     "metadata": {},
     "output_type": "display_data"
    },
    {
     "data": {
      "application/vnd.jupyter.widget-view+json": {
       "model_id": "d796398f7c7b48af9fb67cf3e3b6eeac",
       "version_major": 2,
       "version_minor": 0
      },
      "text/plain": [
       "Downloading:   0%|          | 0.00/386M [00:00<?, ?B/s]"
      ]
     },
     "metadata": {},
     "output_type": "display_data"
    }
   ],
   "source": [
    "seg = Segmenter()\n",
    "device = torch.device(\"cuda\" if torch.cuda.is_available() else \"cpu\")\n",
    "model_name = \"microsoft/wavlm-base-plus-sv\"\n",
    "feature_extractor = AutoFeatureExtractor.from_pretrained(model_name)\n",
    "model = AutoModelForAudioXVector.from_pretrained(model_name).to(device)\n",
    "cosine_sim = torch.nn.CosineSimilarity(dim=-1)"
   ]
  },
  {
   "cell_type": "code",
   "execution_count": 10,
   "metadata": {
    "colab": {
     "base_uri": "https://localhost:8080/"
    },
    "executionInfo": {
     "elapsed": 115334,
     "status": "ok",
     "timestamp": 1643750182530,
     "user": {
      "displayName": "Mehdi Agunaou",
      "photoUrl": "https://lh3.googleusercontent.com/a/default-user=s64",
      "userId": "15746146104404176496"
     },
     "user_tz": -60
    },
    "id": "BgoeK--J5GnO",
    "outputId": "e58cdbe4-8232-49d1-820f-83dfcd7b29f7"
   },
   "outputs": [
    {
     "name": "stdout",
     "output_type": "stream",
     "text": [
      "******************\n",
      "Segmenting audio file...\n",
      "******************\n"
     ]
    },
    {
     "name": "stderr",
     "output_type": "stream",
     "text": [
      "/usr/local/lib/python3.7/dist-packages/pyannote/algorithms/utils/viterbi.py:88: FutureWarning: arrays to stack must be passed as a \"sequence\" type such as list or tuple. Support for non-sequence iterables such as generators is deprecated as of NumPy 1.16 and will raise an error in the future.\n",
      "  for e, c in six.moves.zip(emission.T, consecutive)\n",
      "/usr/local/lib/python3.7/dist-packages/pyannote/algorithms/utils/viterbi.py:97: FutureWarning: arrays to stack must be passed as a \"sequence\" type such as list or tuple. Support for non-sequence iterables such as generators is deprecated as of NumPy 1.16 and will raise an error in the future.\n",
      "  for e, c in six.moves.zip(constraint.T, consecutive)\n",
      "/usr/local/lib/python3.7/dist-packages/inaSpeechSegmenter/segmenter.py:60: RuntimeWarning: invalid value encountered in subtract\n",
      "  data = (data - np.mean(data, axis=1).reshape((len(data), 1))) / np.std(data, axis=1).reshape((len(data), 1))\n",
      "/usr/local/lib/python3.7/dist-packages/numpy/core/_methods.py:202: RuntimeWarning: invalid value encountered in subtract\n",
      "  x = asanyarray(arr - arrmean)\n"
     ]
    },
    {
     "name": "stdout",
     "output_type": "stream",
     "text": [
      "******************\n",
      "Exporting cropped audio files...\n",
      "******************\n"
     ]
    },
    {
     "name": "stderr",
     "output_type": "stream",
     "text": [
      "100%|██████████| 17/17 [00:02<00:00,  7.51it/s]\n"
     ]
    },
    {
     "name": "stdout",
     "output_type": "stream",
     "text": [
      "******************\n",
      "Comparing Voices...\n",
      "******************\n"
     ]
    },
    {
     "name": "stderr",
     "output_type": "stream",
     "text": [
      "100%|██████████| 16/16 [00:41<00:00,  2.58s/it]\n"
     ]
    },
    {
     "name": "stdout",
     "output_type": "stream",
     "text": [
      "******************\n",
      "Indexing Persons...\n",
      "******************\n"
     ]
    },
    {
     "name": "stderr",
     "output_type": "stream",
     "text": [
      "100%|██████████| 14/14 [00:00<00:00, 72137.91it/s]\n",
      "100%|██████████| 1/1 [00:00<00:00, 6584.46it/s]\n",
      "100%|██████████| 17/17 [00:00<00:00, 14217.98it/s]\n",
      "/usr/local/lib/python3.7/dist-packages/ipykernel_launcher.py:128: SettingWithCopyWarning: \n",
      "A value is trying to be set on a copy of a slice from a DataFrame.\n",
      "Try using .loc[row_indexer,col_indexer] = value instead\n",
      "\n",
      "See the caveats in the documentation: https://pandas.pydata.org/pandas-docs/stable/user_guide/indexing.html#returning-a-view-versus-a-copy\n",
      "100%|██████████| 17/17 [00:00<00:00, 23863.18it/s]\n",
      "/usr/local/lib/python3.7/dist-packages/ipykernel_launcher.py:130: SettingWithCopyWarning: \n",
      "A value is trying to be set on a copy of a slice from a DataFrame.\n",
      "Try using .loc[row_indexer,col_indexer] = value instead\n",
      "\n",
      "See the caveats in the documentation: https://pandas.pydata.org/pandas-docs/stable/user_guide/indexing.html#returning-a-view-versus-a-copy\n"
     ]
    }
   ],
   "source": [
    "df, all_women , groups, dropped = compare_voices_from_audio(wavfile=audio_path, chunks_path=chunks, model=model, segmenter=seg, treshold=treshold )"
   ]
  },
  {
   "cell_type": "code",
   "execution_count": 11,
   "metadata": {
    "colab": {
     "base_uri": "https://localhost:8080/"
    },
    "executionInfo": {
     "elapsed": 237,
     "status": "ok",
     "timestamp": 1643750187998,
     "user": {
      "displayName": "Mehdi Agunaou",
      "photoUrl": "https://lh3.googleusercontent.com/a/default-user=s64",
      "userId": "15746146104404176496"
     },
     "user_tz": -60
    },
    "id": "vRz0V1owDaGM",
    "outputId": "d05606ad-5c9a-489f-b98f-44bed500ba16"
   },
   "outputs": [
    {
     "data": {
      "text/plain": [
       "[[2, 67, 37, 69, 7, 39, 9, 71, 74, 13, 15, 17, 22, 24], [20, 77]]"
      ]
     },
     "execution_count": 11,
     "metadata": {},
     "output_type": "execute_result"
    }
   ],
   "source": [
    "groups"
   ]
  },
  {
   "cell_type": "code",
   "execution_count": 12,
   "metadata": {
    "colab": {
     "base_uri": "https://localhost:8080/",
     "height": 582
    },
    "executionInfo": {
     "elapsed": 259,
     "status": "ok",
     "timestamp": 1643750193623,
     "user": {
      "displayName": "Mehdi Agunaou",
      "photoUrl": "https://lh3.googleusercontent.com/a/default-user=s64",
      "userId": "15746146104404176496"
     },
     "user_tz": -60
    },
    "id": "A-a3LBa5ESYH",
    "outputId": "ef3274f7-5000-47d0-bbb1-3b30bfdd8374"
   },
   "outputs": [
    {
     "data": {
      "text/html": [
       "\n",
       "  <div id=\"df-b2d28226-ede5-47d3-8382-6027ee8ea23e\">\n",
       "    <div class=\"colab-df-container\">\n",
       "      <div>\n",
       "<style scoped>\n",
       "    .dataframe tbody tr th:only-of-type {\n",
       "        vertical-align: middle;\n",
       "    }\n",
       "\n",
       "    .dataframe tbody tr th {\n",
       "        vertical-align: top;\n",
       "    }\n",
       "\n",
       "    .dataframe thead th {\n",
       "        text-align: right;\n",
       "    }\n",
       "</style>\n",
       "<table border=\"1\" class=\"dataframe\">\n",
       "  <thead>\n",
       "    <tr style=\"text-align: right;\">\n",
       "      <th></th>\n",
       "      <th>index</th>\n",
       "      <th>source</th>\n",
       "      <th>start_time</th>\n",
       "      <th>end_time</th>\n",
       "      <th>female_fname</th>\n",
       "      <th>person_indexer</th>\n",
       "      <th>number</th>\n",
       "    </tr>\n",
       "  </thead>\n",
       "  <tbody>\n",
       "    <tr>\n",
       "      <th>0</th>\n",
       "      <td>2</td>\n",
       "      <td>female</td>\n",
       "      <td>12.44</td>\n",
       "      <td>17.96</td>\n",
       "      <td>/content/drive/MyDrive/DataForGood/bechdel/dat...</td>\n",
       "      <td>0.0</td>\n",
       "      <td>2</td>\n",
       "    </tr>\n",
       "    <tr>\n",
       "      <th>1</th>\n",
       "      <td>7</td>\n",
       "      <td>female</td>\n",
       "      <td>54.68</td>\n",
       "      <td>66.58</td>\n",
       "      <td>/content/drive/MyDrive/DataForGood/bechdel/dat...</td>\n",
       "      <td>0.0</td>\n",
       "      <td>7</td>\n",
       "    </tr>\n",
       "    <tr>\n",
       "      <th>2</th>\n",
       "      <td>9</td>\n",
       "      <td>female</td>\n",
       "      <td>69.12</td>\n",
       "      <td>72.48</td>\n",
       "      <td>/content/drive/MyDrive/DataForGood/bechdel/dat...</td>\n",
       "      <td>0.0</td>\n",
       "      <td>9</td>\n",
       "    </tr>\n",
       "    <tr>\n",
       "      <th>3</th>\n",
       "      <td>13</td>\n",
       "      <td>female</td>\n",
       "      <td>76.82</td>\n",
       "      <td>84.88</td>\n",
       "      <td>/content/drive/MyDrive/DataForGood/bechdel/dat...</td>\n",
       "      <td>0.0</td>\n",
       "      <td>13</td>\n",
       "    </tr>\n",
       "    <tr>\n",
       "      <th>4</th>\n",
       "      <td>15</td>\n",
       "      <td>female</td>\n",
       "      <td>85.30</td>\n",
       "      <td>86.98</td>\n",
       "      <td>/content/drive/MyDrive/DataForGood/bechdel/dat...</td>\n",
       "      <td>0.0</td>\n",
       "      <td>15</td>\n",
       "    </tr>\n",
       "    <tr>\n",
       "      <th>5</th>\n",
       "      <td>17</td>\n",
       "      <td>female</td>\n",
       "      <td>88.34</td>\n",
       "      <td>89.08</td>\n",
       "      <td>/content/drive/MyDrive/DataForGood/bechdel/dat...</td>\n",
       "      <td>0.0</td>\n",
       "      <td>17</td>\n",
       "    </tr>\n",
       "    <tr>\n",
       "      <th>6</th>\n",
       "      <td>20</td>\n",
       "      <td>female</td>\n",
       "      <td>92.22</td>\n",
       "      <td>93.48</td>\n",
       "      <td>/content/drive/MyDrive/DataForGood/bechdel/dat...</td>\n",
       "      <td>1.0</td>\n",
       "      <td>20</td>\n",
       "    </tr>\n",
       "    <tr>\n",
       "      <th>7</th>\n",
       "      <td>22</td>\n",
       "      <td>female</td>\n",
       "      <td>98.68</td>\n",
       "      <td>100.24</td>\n",
       "      <td>/content/drive/MyDrive/DataForGood/bechdel/dat...</td>\n",
       "      <td>0.0</td>\n",
       "      <td>22</td>\n",
       "    </tr>\n",
       "    <tr>\n",
       "      <th>8</th>\n",
       "      <td>24</td>\n",
       "      <td>female</td>\n",
       "      <td>100.80</td>\n",
       "      <td>103.60</td>\n",
       "      <td>/content/drive/MyDrive/DataForGood/bechdel/dat...</td>\n",
       "      <td>0.0</td>\n",
       "      <td>24</td>\n",
       "    </tr>\n",
       "    <tr>\n",
       "      <th>9</th>\n",
       "      <td>37</td>\n",
       "      <td>female</td>\n",
       "      <td>134.98</td>\n",
       "      <td>137.06</td>\n",
       "      <td>/content/drive/MyDrive/DataForGood/bechdel/dat...</td>\n",
       "      <td>0.0</td>\n",
       "      <td>37</td>\n",
       "    </tr>\n",
       "    <tr>\n",
       "      <th>10</th>\n",
       "      <td>39</td>\n",
       "      <td>female</td>\n",
       "      <td>138.96</td>\n",
       "      <td>141.76</td>\n",
       "      <td>/content/drive/MyDrive/DataForGood/bechdel/dat...</td>\n",
       "      <td>0.0</td>\n",
       "      <td>39</td>\n",
       "    </tr>\n",
       "    <tr>\n",
       "      <th>11</th>\n",
       "      <td>54</td>\n",
       "      <td>female</td>\n",
       "      <td>207.98</td>\n",
       "      <td>209.82</td>\n",
       "      <td>/content/drive/MyDrive/DataForGood/bechdel/dat...</td>\n",
       "      <td>NaN</td>\n",
       "      <td>54</td>\n",
       "    </tr>\n",
       "    <tr>\n",
       "      <th>12</th>\n",
       "      <td>67</td>\n",
       "      <td>female</td>\n",
       "      <td>252.06</td>\n",
       "      <td>256.34</td>\n",
       "      <td>/content/drive/MyDrive/DataForGood/bechdel/dat...</td>\n",
       "      <td>0.0</td>\n",
       "      <td>67</td>\n",
       "    </tr>\n",
       "    <tr>\n",
       "      <th>13</th>\n",
       "      <td>69</td>\n",
       "      <td>female</td>\n",
       "      <td>257.98</td>\n",
       "      <td>261.00</td>\n",
       "      <td>/content/drive/MyDrive/DataForGood/bechdel/dat...</td>\n",
       "      <td>0.0</td>\n",
       "      <td>69</td>\n",
       "    </tr>\n",
       "    <tr>\n",
       "      <th>14</th>\n",
       "      <td>71</td>\n",
       "      <td>female</td>\n",
       "      <td>263.10</td>\n",
       "      <td>264.96</td>\n",
       "      <td>/content/drive/MyDrive/DataForGood/bechdel/dat...</td>\n",
       "      <td>0.0</td>\n",
       "      <td>71</td>\n",
       "    </tr>\n",
       "    <tr>\n",
       "      <th>15</th>\n",
       "      <td>74</td>\n",
       "      <td>female</td>\n",
       "      <td>269.24</td>\n",
       "      <td>270.70</td>\n",
       "      <td>/content/drive/MyDrive/DataForGood/bechdel/dat...</td>\n",
       "      <td>0.0</td>\n",
       "      <td>74</td>\n",
       "    </tr>\n",
       "    <tr>\n",
       "      <th>16</th>\n",
       "      <td>77</td>\n",
       "      <td>female</td>\n",
       "      <td>273.40</td>\n",
       "      <td>275.46</td>\n",
       "      <td>/content/drive/MyDrive/DataForGood/bechdel/dat...</td>\n",
       "      <td>1.0</td>\n",
       "      <td>77</td>\n",
       "    </tr>\n",
       "  </tbody>\n",
       "</table>\n",
       "</div>\n",
       "      <button class=\"colab-df-convert\" onclick=\"convertToInteractive('df-b2d28226-ede5-47d3-8382-6027ee8ea23e')\"\n",
       "              title=\"Convert this dataframe to an interactive table.\"\n",
       "              style=\"display:none;\">\n",
       "        \n",
       "  <svg xmlns=\"http://www.w3.org/2000/svg\" height=\"24px\"viewBox=\"0 0 24 24\"\n",
       "       width=\"24px\">\n",
       "    <path d=\"M0 0h24v24H0V0z\" fill=\"none\"/>\n",
       "    <path d=\"M18.56 5.44l.94 2.06.94-2.06 2.06-.94-2.06-.94-.94-2.06-.94 2.06-2.06.94zm-11 1L8.5 8.5l.94-2.06 2.06-.94-2.06-.94L8.5 2.5l-.94 2.06-2.06.94zm10 10l.94 2.06.94-2.06 2.06-.94-2.06-.94-.94-2.06-.94 2.06-2.06.94z\"/><path d=\"M17.41 7.96l-1.37-1.37c-.4-.4-.92-.59-1.43-.59-.52 0-1.04.2-1.43.59L10.3 9.45l-7.72 7.72c-.78.78-.78 2.05 0 2.83L4 21.41c.39.39.9.59 1.41.59.51 0 1.02-.2 1.41-.59l7.78-7.78 2.81-2.81c.8-.78.8-2.07 0-2.86zM5.41 20L4 18.59l7.72-7.72 1.47 1.35L5.41 20z\"/>\n",
       "  </svg>\n",
       "      </button>\n",
       "      \n",
       "  <style>\n",
       "    .colab-df-container {\n",
       "      display:flex;\n",
       "      flex-wrap:wrap;\n",
       "      gap: 12px;\n",
       "    }\n",
       "\n",
       "    .colab-df-convert {\n",
       "      background-color: #E8F0FE;\n",
       "      border: none;\n",
       "      border-radius: 50%;\n",
       "      cursor: pointer;\n",
       "      display: none;\n",
       "      fill: #1967D2;\n",
       "      height: 32px;\n",
       "      padding: 0 0 0 0;\n",
       "      width: 32px;\n",
       "    }\n",
       "\n",
       "    .colab-df-convert:hover {\n",
       "      background-color: #E2EBFA;\n",
       "      box-shadow: 0px 1px 2px rgba(60, 64, 67, 0.3), 0px 1px 3px 1px rgba(60, 64, 67, 0.15);\n",
       "      fill: #174EA6;\n",
       "    }\n",
       "\n",
       "    [theme=dark] .colab-df-convert {\n",
       "      background-color: #3B4455;\n",
       "      fill: #D2E3FC;\n",
       "    }\n",
       "\n",
       "    [theme=dark] .colab-df-convert:hover {\n",
       "      background-color: #434B5C;\n",
       "      box-shadow: 0px 1px 3px 1px rgba(0, 0, 0, 0.15);\n",
       "      filter: drop-shadow(0px 1px 2px rgba(0, 0, 0, 0.3));\n",
       "      fill: #FFFFFF;\n",
       "    }\n",
       "  </style>\n",
       "\n",
       "      <script>\n",
       "        const buttonEl =\n",
       "          document.querySelector('#df-b2d28226-ede5-47d3-8382-6027ee8ea23e button.colab-df-convert');\n",
       "        buttonEl.style.display =\n",
       "          google.colab.kernel.accessAllowed ? 'block' : 'none';\n",
       "\n",
       "        async function convertToInteractive(key) {\n",
       "          const element = document.querySelector('#df-b2d28226-ede5-47d3-8382-6027ee8ea23e');\n",
       "          const dataTable =\n",
       "            await google.colab.kernel.invokeFunction('convertToInteractive',\n",
       "                                                     [key], {});\n",
       "          if (!dataTable) return;\n",
       "\n",
       "          const docLinkHtml = 'Like what you see? Visit the ' +\n",
       "            '<a target=\"_blank\" href=https://colab.research.google.com/notebooks/data_table.ipynb>data table notebook</a>'\n",
       "            + ' to learn more about interactive tables.';\n",
       "          element.innerHTML = '';\n",
       "          dataTable['output_type'] = 'display_data';\n",
       "          await google.colab.output.renderOutput(dataTable, element);\n",
       "          const docLink = document.createElement('div');\n",
       "          docLink.innerHTML = docLinkHtml;\n",
       "          element.appendChild(docLink);\n",
       "        }\n",
       "      </script>\n",
       "    </div>\n",
       "  </div>\n",
       "  "
      ],
      "text/plain": [
       "    index  source  ...  person_indexer  number\n",
       "0       2  female  ...             0.0       2\n",
       "1       7  female  ...             0.0       7\n",
       "2       9  female  ...             0.0       9\n",
       "3      13  female  ...             0.0      13\n",
       "4      15  female  ...             0.0      15\n",
       "5      17  female  ...             0.0      17\n",
       "6      20  female  ...             1.0      20\n",
       "7      22  female  ...             0.0      22\n",
       "8      24  female  ...             0.0      24\n",
       "9      37  female  ...             0.0      37\n",
       "10     39  female  ...             0.0      39\n",
       "11     54  female  ...             NaN      54\n",
       "12     67  female  ...             0.0      67\n",
       "13     69  female  ...             0.0      69\n",
       "14     71  female  ...             0.0      71\n",
       "15     74  female  ...             0.0      74\n",
       "16     77  female  ...             1.0      77\n",
       "\n",
       "[17 rows x 7 columns]"
      ]
     },
     "execution_count": 12,
     "metadata": {},
     "output_type": "execute_result"
    }
   ],
   "source": [
    "all_women"
   ]
  },
  {
   "cell_type": "code",
   "execution_count": 34,
   "metadata": {
    "colab": {
     "base_uri": "https://localhost:8080/"
    },
    "executionInfo": {
     "elapsed": 255,
     "status": "ok",
     "timestamp": 1643751431487,
     "user": {
      "displayName": "Mehdi Agunaou",
      "photoUrl": "https://lh3.googleusercontent.com/a/default-user=s64",
      "userId": "15746146104404176496"
     },
     "user_tz": -60
    },
    "id": "Ji_4gXYROE10",
    "outputId": "df7342c2-bfd7-4329-de6c-8e7e187a0c08"
   },
   "outputs": [
    {
     "name": "stdout",
     "output_type": "stream",
     "text": [
      "<class 'pandas.core.frame.DataFrame'>\n",
      "RangeIndex: 17 entries, 0 to 16\n",
      "Data columns (total 9 columns):\n",
      " #   Column          Non-Null Count  Dtype         \n",
      "---  ------          --------------  -----         \n",
      " 0   index           17 non-null     int64         \n",
      " 1   source          17 non-null     object        \n",
      " 2   start_time      17 non-null     float64       \n",
      " 3   end_time        17 non-null     float64       \n",
      " 4   female_fname    17 non-null     object        \n",
      " 5   person_indexer  16 non-null     float64       \n",
      " 6   number          17 non-null     int64         \n",
      " 7   start_datetime  17 non-null     datetime64[ns]\n",
      " 8   end_datetime    17 non-null     datetime64[ns]\n",
      "dtypes: datetime64[ns](2), float64(3), int64(2), object(2)\n",
      "memory usage: 1.3+ KB\n"
     ]
    }
   ],
   "source": [
    "all_women.info()"
   ]
  },
  {
   "cell_type": "code",
   "execution_count": 53,
   "metadata": {
    "executionInfo": {
     "elapsed": 328,
     "status": "ok",
     "timestamp": 1643752272305,
     "user": {
      "displayName": "Mehdi Agunaou",
      "photoUrl": "https://lh3.googleusercontent.com/a/default-user=s64",
      "userId": "15746146104404176496"
     },
     "user_tz": -60
    },
    "id": "2R1srKThOLxj"
   },
   "outputs": [],
   "source": [
    "df = df.drop(columns=['person_indexer'])"
   ]
  },
  {
   "cell_type": "code",
   "execution_count": 54,
   "metadata": {
    "executionInfo": {
     "elapsed": 219,
     "status": "ok",
     "timestamp": 1643752277270,
     "user": {
      "displayName": "Mehdi Agunaou",
      "photoUrl": "https://lh3.googleusercontent.com/a/default-user=s64",
      "userId": "15746146104404176496"
     },
     "user_tz": -60
    },
    "id": "OVNUZFyNRBvl"
   },
   "outputs": [],
   "source": [
    "all_women2 = all_women[['female_fname','person_indexer']]"
   ]
  },
  {
   "cell_type": "code",
   "execution_count": 92,
   "metadata": {
    "executionInfo": {
     "elapsed": 251,
     "status": "ok",
     "timestamp": 1643755468504,
     "user": {
      "displayName": "Mehdi Agunaou",
      "photoUrl": "https://lh3.googleusercontent.com/a/default-user=s64",
      "userId": "15746146104404176496"
     },
     "user_tz": -60
    },
    "id": "ifeEuoEMOkXT"
   },
   "outputs": [],
   "source": [
    "df_graph = pd.merge(df, all_women2 , 'left' , on='female_fname')"
   ]
  },
  {
   "cell_type": "code",
   "execution_count": 93,
   "metadata": {
    "executionInfo": {
     "elapsed": 4,
     "status": "ok",
     "timestamp": 1643755469637,
     "user": {
      "displayName": "Mehdi Agunaou",
      "photoUrl": "https://lh3.googleusercontent.com/a/default-user=s64",
      "userId": "15746146104404176496"
     },
     "user_tz": -60
    },
    "id": "o0PHRZLURbc2"
   },
   "outputs": [],
   "source": [
    "df_graph.drop(columns=['index'],inplace=True)"
   ]
  },
  {
   "cell_type": "code",
   "execution_count": 94,
   "metadata": {
    "executionInfo": {
     "elapsed": 250,
     "status": "ok",
     "timestamp": 1643755475295,
     "user": {
      "displayName": "Mehdi Agunaou",
      "photoUrl": "https://lh3.googleusercontent.com/a/default-user=s64",
      "userId": "15746146104404176496"
     },
     "user_tz": -60
    },
    "id": "lbQA-QjPRpv0"
   },
   "outputs": [],
   "source": [
    "df_graph['start_datetime'] = df_graph['start_time'].apply(lambda x : datetime.datetime.now() + datetime.timedelta(seconds=x))\n",
    "df_graph['end_datetime'] = df_graph['end_time'].apply(lambda x : datetime.datetime.now() + datetime.timedelta(seconds=x))"
   ]
  },
  {
   "cell_type": "code",
   "execution_count": 95,
   "metadata": {
    "executionInfo": {
     "elapsed": 209,
     "status": "ok",
     "timestamp": 1643755480268,
     "user": {
      "displayName": "Mehdi Agunaou",
      "photoUrl": "https://lh3.googleusercontent.com/a/default-user=s64",
      "userId": "15746146104404176496"
     },
     "user_tz": -60
    },
    "id": "L6C76IlvRxxa"
   },
   "outputs": [],
   "source": [
    "df_graph['person_indexer'] = df_graph['person_indexer'].fillna(-1).astype('int').astype('object')"
   ]
  },
  {
   "cell_type": "code",
   "execution_count": 99,
   "metadata": {
    "executionInfo": {
     "elapsed": 565,
     "status": "ok",
     "timestamp": 1643755567484,
     "user": {
      "displayName": "Mehdi Agunaou",
      "photoUrl": "https://lh3.googleusercontent.com/a/default-user=s64",
      "userId": "15746146104404176496"
     },
     "user_tz": -60
    },
    "id": "oJlcwUDQdiHS"
   },
   "outputs": [],
   "source": [
    "df_graph['person_indexer'] = df_graph['person_indexer'].apply(lambda x : 'Female ' + str(x))"
   ]
  },
  {
   "cell_type": "code",
   "execution_count": 100,
   "metadata": {
    "executionInfo": {
     "elapsed": 202,
     "status": "ok",
     "timestamp": 1643755570538,
     "user": {
      "displayName": "Mehdi Agunaou",
      "photoUrl": "https://lh3.googleusercontent.com/a/default-user=s64",
      "userId": "15746146104404176496"
     },
     "user_tz": -60
    },
    "id": "30eg7xSXSX0z"
   },
   "outputs": [],
   "source": [
    "df_graph.loc[df_graph['source']== 'male' ,'person_indexer'] = 'male'\n",
    "df_graph.loc[df_graph['source']== 'noEnergy' ,'person_indexer'] = 'silence'\n",
    "df_graph.loc[df_graph['source']== 'noise' ,'person_indexer'] = 'bruit'\n",
    "df_graph.loc[df_graph['source']== 'music' ,'person_indexer'] = 'musique'"
   ]
  },
  {
   "cell_type": "code",
   "execution_count": 101,
   "metadata": {
    "colab": {
     "base_uri": "https://localhost:8080/"
    },
    "executionInfo": {
     "elapsed": 250,
     "status": "ok",
     "timestamp": 1643755579523,
     "user": {
      "displayName": "Mehdi Agunaou",
      "photoUrl": "https://lh3.googleusercontent.com/a/default-user=s64",
      "userId": "15746146104404176496"
     },
     "user_tz": -60
    },
    "id": "ZwDNsecWdOzd",
    "outputId": "7fd6f129-9ce7-4e12-90e5-18f62353c78e"
   },
   "outputs": [
    {
     "data": {
      "text/plain": [
       "male         27\n",
       "silence      20\n",
       "bruit        15\n",
       "Female 0     14\n",
       "musique      13\n",
       "Female 1      2\n",
       "Female -1     1\n",
       "Name: person_indexer, dtype: int64"
      ]
     },
     "execution_count": 101,
     "metadata": {},
     "output_type": "execute_result"
    }
   ],
   "source": [
    "df_graph.person_indexer.value_counts()"
   ]
  },
  {
   "cell_type": "code",
   "execution_count": 102,
   "metadata": {
    "executionInfo": {
     "elapsed": 223,
     "status": "ok",
     "timestamp": 1643755596850,
     "user": {
      "displayName": "Mehdi Agunaou",
      "photoUrl": "https://lh3.googleusercontent.com/a/default-user=s64",
      "userId": "15746146104404176496"
     },
     "user_tz": -60
    },
    "id": "cUTx9GiZS0Cb"
   },
   "outputs": [],
   "source": [
    "df_graph = df_graph.drop(df_graph[df_graph.person_indexer == 'Female -1'].index).reset_index(drop=True)"
   ]
  },
  {
   "cell_type": "code",
   "execution_count": 106,
   "metadata": {
    "colab": {
     "base_uri": "https://localhost:8080/",
     "height": 542
    },
    "executionInfo": {
     "elapsed": 361,
     "status": "ok",
     "timestamp": 1643755989142,
     "user": {
      "displayName": "Mehdi Agunaou",
      "photoUrl": "https://lh3.googleusercontent.com/a/default-user=s64",
      "userId": "15746146104404176496"
     },
     "user_tz": -60
    },
    "id": "MZwFyDiuEV5G",
    "outputId": "ae101403-d353-42ad-df6c-30e815f29248"
   },
   "outputs": [
    {
     "data": {
      "text/html": [
       "<html>\n",
       "<head><meta charset=\"utf-8\" /></head>\n",
       "<body>\n",
       "    <div>            <script src=\"https://cdnjs.cloudflare.com/ajax/libs/mathjax/2.7.5/MathJax.js?config=TeX-AMS-MML_SVG\"></script><script type=\"text/javascript\">if (window.MathJax) {MathJax.Hub.Config({SVG: {font: \"STIX-Web\"}});}</script>                <script type=\"text/javascript\">window.PlotlyConfig = {MathJaxConfig: 'local'};</script>\n",
       "        <script src=\"https://cdn.plot.ly/plotly-2.8.3.min.js\"></script>                <div id=\"0cd3bd96-b01a-4ee1-a44f-5c7140b6be6e\" class=\"plotly-graph-div\" style=\"height:525px; width:100%;\"></div>            <script type=\"text/javascript\">                                    window.PLOTLYENV=window.PLOTLYENV || {};                                    if (document.getElementById(\"0cd3bd96-b01a-4ee1-a44f-5c7140b6be6e\")) {                    Plotly.newPlot(                        \"0cd3bd96-b01a-4ee1-a44f-5c7140b6be6e\",                        [{\"alignmentgroup\":\"True\",\"base\":[\"2022-02-01T22:44:35.105066\",\"2022-02-01T22:44:53.065088\",\"2022-02-01T22:47:04.305162\",\"2022-02-01T22:47:32.165169\",\"2022-02-01T22:47:45.545173\",\"2022-02-01T22:47:55.305179\",\"2022-02-01T22:48:04.925184\",\"2022-02-01T22:48:11.285190\",\"2022-02-01T22:48:20.205193\",\"2022-02-01T22:48:31.745197\",\"2022-02-01T22:48:44.025203\",\"2022-02-01T22:49:10.565226\",\"2022-02-01T22:50:48.825249\"],\"hovertemplate\":\"person_indexer=%{y}<br>start_datetime=%{base}<br>end_datetime=%{x}<extra></extra>\",\"legendgroup\":\"musique\",\"marker\":{\"color\":\"#636efa\"},\"name\":\"musique\",\"offsetgroup\":\"musique\",\"orientation\":\"h\",\"showlegend\":true,\"textposition\":\"auto\",\"x\":[7221.0,12061.0,17981.0,6141.0,6821.0,6181.0,3681.0,6041.0,10201.0,7981.0,2461.0,33161.0,23081.0],\"xaxis\":\"x\",\"y\":[\"musique\",\"musique\",\"musique\",\"musique\",\"musique\",\"musique\",\"musique\",\"musique\",\"musique\",\"musique\",\"musique\",\"musique\",\"musique\"],\"yaxis\":\"y\",\"type\":\"bar\"},{\"alignmentgroup\":\"True\",\"base\":[\"2022-02-01T22:44:42.325082\",\"2022-02-01T22:45:05.125091\",\"2022-02-01T22:45:23.565094\",\"2022-02-01T22:45:41.685098\",\"2022-02-01T22:45:48.265103\",\"2022-02-01T22:46:04.865118\",\"2022-02-01T22:46:08.585122\",\"2022-02-01T22:46:27.745134\",\"2022-02-01T22:46:35.605140\",\"2022-02-01T22:46:38.445144\",\"2022-02-01T22:46:43.585147\",\"2022-02-01T22:46:52.165153\",\"2022-02-01T22:46:56.865157\",\"2022-02-01T22:47:00.825160\",\"2022-02-01T22:47:22.285164\",\"2022-02-01T22:47:25.325167\",\"2022-02-01T22:47:38.305171\",\"2022-02-01T22:47:53.705177\",\"2022-02-01T22:48:01.485180\",\"2022-02-01T22:48:10.625188\",\"2022-02-01T22:48:17.325191\",\"2022-02-01T22:48:30.405195\",\"2022-02-01T22:49:48.505230\",\"2022-02-01T22:50:02.765234\",\"2022-02-01T22:50:17.505238\",\"2022-02-01T22:50:25.925241\",\"2022-02-01T22:50:44.305245\"],\"hovertemplate\":\"person_indexer=%{y}<br>start_datetime=%{base}<br>end_datetime=%{x}<extra></extra>\",\"legendgroup\":\"male\",\"marker\":{\"color\":\"#EF553B\"},\"name\":\"male\",\"offsetgroup\":\"male\",\"orientation\":\"h\",\"showlegend\":true,\"textposition\":\"auto\",\"x\":[5221.0,17701.0,6221.0,2541.0,3081.0,2461.0,5201.0,1641.0,1741.0,1621.0,4701.0,1901.0,3061.0,3481.0,941.0,6841.0,7241.0,1601.0,1601.0,661.0,2881.0,1341.0,3001.0,8061.0,1481.0,1161.0,3161.0],\"xaxis\":\"x\",\"y\":[\"male\",\"male\",\"male\",\"male\",\"male\",\"male\",\"male\",\"male\",\"male\",\"male\",\"male\",\"male\",\"male\",\"male\",\"male\",\"male\",\"male\",\"male\",\"male\",\"male\",\"male\",\"male\",\"male\",\"male\",\"male\",\"male\",\"male\"],\"yaxis\":\"y\",\"type\":\"bar\"},{\"alignmentgroup\":\"True\",\"base\":[\"2022-02-01T22:44:47.545086\",\"2022-02-01T22:45:29.785096\",\"2022-02-01T22:45:44.225100\",\"2022-02-01T22:45:51.925107\",\"2022-02-01T22:46:00.405111\",\"2022-02-01T22:46:03.445114\",\"2022-02-01T22:46:13.785124\",\"2022-02-01T22:46:15.905127\",\"2022-02-01T22:46:50.085151\",\"2022-02-01T22:46:54.065155\",\"2022-02-01T22:48:47.165206\",\"2022-02-01T22:48:53.085210\",\"2022-02-01T22:48:58.205214\",\"2022-02-01T22:49:04.345219\"],\"hovertemplate\":\"person_indexer=%{y}<br>start_datetime=%{base}<br>end_datetime=%{x}<extra></extra>\",\"legendgroup\":\"Female 0\",\"marker\":{\"color\":\"#00cc96\"},\"name\":\"Female 0\",\"offsetgroup\":\"Female 0\",\"orientation\":\"h\",\"showlegend\":true,\"textposition\":\"auto\",\"x\":[5521.0,11901.0,3361.0,8061.0,1681.0,741.0,1561.0,2801.0,2081.0,2801.0,4281.0,3021.0,1861.0,1461.0],\"xaxis\":\"x\",\"y\":[\"Female 0\",\"Female 0\",\"Female 0\",\"Female 0\",\"Female 0\",\"Female 0\",\"Female 0\",\"Female 0\",\"Female 0\",\"Female 0\",\"Female 0\",\"Female 0\",\"Female 0\",\"Female 0\"],\"yaxis\":\"y\",\"type\":\"bar\"},{\"alignmentgroup\":\"True\",\"base\":[\"2022-02-01T22:45:22.825092\",\"2022-02-01T22:45:47.585102\",\"2022-02-01T22:45:51.345105\",\"2022-02-01T22:45:59.985109\",\"2022-02-01T22:46:02.085113\",\"2022-02-01T22:46:04.185116\",\"2022-02-01T22:46:15.345125\",\"2022-02-01T22:46:18.705129\",\"2022-02-01T22:46:26.125132\",\"2022-02-01T22:46:31.625138\",\"2022-02-01T22:46:37.345142\",\"2022-02-01T22:46:40.065146\",\"2022-02-01T22:46:59.925158\",\"2022-02-01T22:48:40.945201\",\"2022-02-01T22:48:46.485204\",\"2022-02-01T22:48:51.445208\",\"2022-02-01T22:48:56.105212\",\"2022-02-01T22:49:00.065215\",\"2022-02-01T22:49:08.065223\",\"2022-02-01T22:51:11.905250\"],\"hovertemplate\":\"person_indexer=%{y}<br>start_datetime=%{base}<br>end_datetime=%{x}<extra></extra>\",\"legendgroup\":\"silence\",\"marker\":{\"color\":\"#ab63fa\"},\"name\":\"silence\",\"offsetgroup\":\"silence\",\"orientation\":\"h\",\"showlegend\":true,\"textposition\":\"auto\",\"x\":[741.0,681.0,581.0,421.0,1361.0,681.0,561.0,2461.0,1621.0,3981.0,1101.0,3521.0,901.0,3081.0,681.0,1641.0,2101.0,1681.0,441.0,841.0],\"xaxis\":\"x\",\"y\":[\"silence\",\"silence\",\"silence\",\"silence\",\"silence\",\"silence\",\"silence\",\"silence\",\"silence\",\"silence\",\"silence\",\"silence\",\"silence\",\"silence\",\"silence\",\"silence\",\"silence\",\"silence\",\"silence\",\"silence\"],\"yaxis\":\"y\",\"type\":\"bar\"},{\"alignmentgroup\":\"True\",\"base\":[\"2022-02-01T22:46:07.325120\",\"2022-02-01T22:49:08.505225\"],\"hovertemplate\":\"person_indexer=%{y}<br>start_datetime=%{base}<br>end_datetime=%{x}<extra></extra>\",\"legendgroup\":\"Female 1\",\"marker\":{\"color\":\"#FFA15A\"},\"name\":\"Female 1\",\"offsetgroup\":\"Female 1\",\"orientation\":\"h\",\"showlegend\":true,\"textposition\":\"auto\",\"x\":[1261.0,2061.0],\"xaxis\":\"x\",\"y\":[\"Female 1\",\"Female 1\"],\"yaxis\":\"y\",\"type\":\"bar\"},{\"alignmentgroup\":\"True\",\"base\":[\"2022-02-01T22:46:21.165131\",\"2022-02-01T22:46:29.385136\",\"2022-02-01T22:46:48.285149\",\"2022-02-01T22:47:23.225166\",\"2022-02-01T22:47:52.365175\",\"2022-02-01T22:48:08.605186\",\"2022-02-01T22:48:39.725199\",\"2022-02-01T22:49:01.745217\",\"2022-02-01T22:49:05.805221\",\"2022-02-01T22:49:43.725228\",\"2022-02-01T22:49:51.505232\",\"2022-02-01T22:50:10.825236\",\"2022-02-01T22:50:18.985240\",\"2022-02-01T22:50:27.085243\",\"2022-02-01T22:50:47.465247\"],\"hovertemplate\":\"person_indexer=%{y}<br>start_datetime=%{base}<br>end_datetime=%{x}<extra></extra>\",\"legendgroup\":\"bruit\",\"marker\":{\"color\":\"#19d3f3\"},\"name\":\"bruit\",\"offsetgroup\":\"bruit\",\"orientation\":\"h\",\"showlegend\":true,\"textposition\":\"auto\",\"x\":[4961.0,2241.0,1801.0,2101.0,1341.0,2021.0,1221.0,2601.0,2261.0,4781.0,11261.0,6681.0,6941.0,17221.0,1361.0],\"xaxis\":\"x\",\"y\":[\"bruit\",\"bruit\",\"bruit\",\"bruit\",\"bruit\",\"bruit\",\"bruit\",\"bruit\",\"bruit\",\"bruit\",\"bruit\",\"bruit\",\"bruit\",\"bruit\",\"bruit\"],\"yaxis\":\"y\",\"type\":\"bar\"}],                        {\"template\":{\"data\":{\"bar\":[{\"error_x\":{\"color\":\"#2a3f5f\"},\"error_y\":{\"color\":\"#2a3f5f\"},\"marker\":{\"line\":{\"color\":\"#E5ECF6\",\"width\":0.5},\"pattern\":{\"fillmode\":\"overlay\",\"size\":10,\"solidity\":0.2}},\"type\":\"bar\"}],\"barpolar\":[{\"marker\":{\"line\":{\"color\":\"#E5ECF6\",\"width\":0.5},\"pattern\":{\"fillmode\":\"overlay\",\"size\":10,\"solidity\":0.2}},\"type\":\"barpolar\"}],\"carpet\":[{\"aaxis\":{\"endlinecolor\":\"#2a3f5f\",\"gridcolor\":\"white\",\"linecolor\":\"white\",\"minorgridcolor\":\"white\",\"startlinecolor\":\"#2a3f5f\"},\"baxis\":{\"endlinecolor\":\"#2a3f5f\",\"gridcolor\":\"white\",\"linecolor\":\"white\",\"minorgridcolor\":\"white\",\"startlinecolor\":\"#2a3f5f\"},\"type\":\"carpet\"}],\"choropleth\":[{\"colorbar\":{\"outlinewidth\":0,\"ticks\":\"\"},\"type\":\"choropleth\"}],\"contour\":[{\"colorbar\":{\"outlinewidth\":0,\"ticks\":\"\"},\"colorscale\":[[0.0,\"#0d0887\"],[0.1111111111111111,\"#46039f\"],[0.2222222222222222,\"#7201a8\"],[0.3333333333333333,\"#9c179e\"],[0.4444444444444444,\"#bd3786\"],[0.5555555555555556,\"#d8576b\"],[0.6666666666666666,\"#ed7953\"],[0.7777777777777778,\"#fb9f3a\"],[0.8888888888888888,\"#fdca26\"],[1.0,\"#f0f921\"]],\"type\":\"contour\"}],\"contourcarpet\":[{\"colorbar\":{\"outlinewidth\":0,\"ticks\":\"\"},\"type\":\"contourcarpet\"}],\"heatmap\":[{\"colorbar\":{\"outlinewidth\":0,\"ticks\":\"\"},\"colorscale\":[[0.0,\"#0d0887\"],[0.1111111111111111,\"#46039f\"],[0.2222222222222222,\"#7201a8\"],[0.3333333333333333,\"#9c179e\"],[0.4444444444444444,\"#bd3786\"],[0.5555555555555556,\"#d8576b\"],[0.6666666666666666,\"#ed7953\"],[0.7777777777777778,\"#fb9f3a\"],[0.8888888888888888,\"#fdca26\"],[1.0,\"#f0f921\"]],\"type\":\"heatmap\"}],\"heatmapgl\":[{\"colorbar\":{\"outlinewidth\":0,\"ticks\":\"\"},\"colorscale\":[[0.0,\"#0d0887\"],[0.1111111111111111,\"#46039f\"],[0.2222222222222222,\"#7201a8\"],[0.3333333333333333,\"#9c179e\"],[0.4444444444444444,\"#bd3786\"],[0.5555555555555556,\"#d8576b\"],[0.6666666666666666,\"#ed7953\"],[0.7777777777777778,\"#fb9f3a\"],[0.8888888888888888,\"#fdca26\"],[1.0,\"#f0f921\"]],\"type\":\"heatmapgl\"}],\"histogram\":[{\"marker\":{\"pattern\":{\"fillmode\":\"overlay\",\"size\":10,\"solidity\":0.2}},\"type\":\"histogram\"}],\"histogram2d\":[{\"colorbar\":{\"outlinewidth\":0,\"ticks\":\"\"},\"colorscale\":[[0.0,\"#0d0887\"],[0.1111111111111111,\"#46039f\"],[0.2222222222222222,\"#7201a8\"],[0.3333333333333333,\"#9c179e\"],[0.4444444444444444,\"#bd3786\"],[0.5555555555555556,\"#d8576b\"],[0.6666666666666666,\"#ed7953\"],[0.7777777777777778,\"#fb9f3a\"],[0.8888888888888888,\"#fdca26\"],[1.0,\"#f0f921\"]],\"type\":\"histogram2d\"}],\"histogram2dcontour\":[{\"colorbar\":{\"outlinewidth\":0,\"ticks\":\"\"},\"colorscale\":[[0.0,\"#0d0887\"],[0.1111111111111111,\"#46039f\"],[0.2222222222222222,\"#7201a8\"],[0.3333333333333333,\"#9c179e\"],[0.4444444444444444,\"#bd3786\"],[0.5555555555555556,\"#d8576b\"],[0.6666666666666666,\"#ed7953\"],[0.7777777777777778,\"#fb9f3a\"],[0.8888888888888888,\"#fdca26\"],[1.0,\"#f0f921\"]],\"type\":\"histogram2dcontour\"}],\"mesh3d\":[{\"colorbar\":{\"outlinewidth\":0,\"ticks\":\"\"},\"type\":\"mesh3d\"}],\"parcoords\":[{\"line\":{\"colorbar\":{\"outlinewidth\":0,\"ticks\":\"\"}},\"type\":\"parcoords\"}],\"pie\":[{\"automargin\":true,\"type\":\"pie\"}],\"scatter\":[{\"marker\":{\"colorbar\":{\"outlinewidth\":0,\"ticks\":\"\"}},\"type\":\"scatter\"}],\"scatter3d\":[{\"line\":{\"colorbar\":{\"outlinewidth\":0,\"ticks\":\"\"}},\"marker\":{\"colorbar\":{\"outlinewidth\":0,\"ticks\":\"\"}},\"type\":\"scatter3d\"}],\"scattercarpet\":[{\"marker\":{\"colorbar\":{\"outlinewidth\":0,\"ticks\":\"\"}},\"type\":\"scattercarpet\"}],\"scattergeo\":[{\"marker\":{\"colorbar\":{\"outlinewidth\":0,\"ticks\":\"\"}},\"type\":\"scattergeo\"}],\"scattergl\":[{\"marker\":{\"colorbar\":{\"outlinewidth\":0,\"ticks\":\"\"}},\"type\":\"scattergl\"}],\"scattermapbox\":[{\"marker\":{\"colorbar\":{\"outlinewidth\":0,\"ticks\":\"\"}},\"type\":\"scattermapbox\"}],\"scatterpolar\":[{\"marker\":{\"colorbar\":{\"outlinewidth\":0,\"ticks\":\"\"}},\"type\":\"scatterpolar\"}],\"scatterpolargl\":[{\"marker\":{\"colorbar\":{\"outlinewidth\":0,\"ticks\":\"\"}},\"type\":\"scatterpolargl\"}],\"scatterternary\":[{\"marker\":{\"colorbar\":{\"outlinewidth\":0,\"ticks\":\"\"}},\"type\":\"scatterternary\"}],\"surface\":[{\"colorbar\":{\"outlinewidth\":0,\"ticks\":\"\"},\"colorscale\":[[0.0,\"#0d0887\"],[0.1111111111111111,\"#46039f\"],[0.2222222222222222,\"#7201a8\"],[0.3333333333333333,\"#9c179e\"],[0.4444444444444444,\"#bd3786\"],[0.5555555555555556,\"#d8576b\"],[0.6666666666666666,\"#ed7953\"],[0.7777777777777778,\"#fb9f3a\"],[0.8888888888888888,\"#fdca26\"],[1.0,\"#f0f921\"]],\"type\":\"surface\"}],\"table\":[{\"cells\":{\"fill\":{\"color\":\"#EBF0F8\"},\"line\":{\"color\":\"white\"}},\"header\":{\"fill\":{\"color\":\"#C8D4E3\"},\"line\":{\"color\":\"white\"}},\"type\":\"table\"}]},\"layout\":{\"annotationdefaults\":{\"arrowcolor\":\"#2a3f5f\",\"arrowhead\":0,\"arrowwidth\":1},\"autotypenumbers\":\"strict\",\"coloraxis\":{\"colorbar\":{\"outlinewidth\":0,\"ticks\":\"\"}},\"colorscale\":{\"diverging\":[[0,\"#8e0152\"],[0.1,\"#c51b7d\"],[0.2,\"#de77ae\"],[0.3,\"#f1b6da\"],[0.4,\"#fde0ef\"],[0.5,\"#f7f7f7\"],[0.6,\"#e6f5d0\"],[0.7,\"#b8e186\"],[0.8,\"#7fbc41\"],[0.9,\"#4d9221\"],[1,\"#276419\"]],\"sequential\":[[0.0,\"#0d0887\"],[0.1111111111111111,\"#46039f\"],[0.2222222222222222,\"#7201a8\"],[0.3333333333333333,\"#9c179e\"],[0.4444444444444444,\"#bd3786\"],[0.5555555555555556,\"#d8576b\"],[0.6666666666666666,\"#ed7953\"],[0.7777777777777778,\"#fb9f3a\"],[0.8888888888888888,\"#fdca26\"],[1.0,\"#f0f921\"]],\"sequentialminus\":[[0.0,\"#0d0887\"],[0.1111111111111111,\"#46039f\"],[0.2222222222222222,\"#7201a8\"],[0.3333333333333333,\"#9c179e\"],[0.4444444444444444,\"#bd3786\"],[0.5555555555555556,\"#d8576b\"],[0.6666666666666666,\"#ed7953\"],[0.7777777777777778,\"#fb9f3a\"],[0.8888888888888888,\"#fdca26\"],[1.0,\"#f0f921\"]]},\"colorway\":[\"#636efa\",\"#EF553B\",\"#00cc96\",\"#ab63fa\",\"#FFA15A\",\"#19d3f3\",\"#FF6692\",\"#B6E880\",\"#FF97FF\",\"#FECB52\"],\"font\":{\"color\":\"#2a3f5f\"},\"geo\":{\"bgcolor\":\"white\",\"lakecolor\":\"white\",\"landcolor\":\"#E5ECF6\",\"showlakes\":true,\"showland\":true,\"subunitcolor\":\"white\"},\"hoverlabel\":{\"align\":\"left\"},\"hovermode\":\"closest\",\"mapbox\":{\"style\":\"light\"},\"paper_bgcolor\":\"white\",\"plot_bgcolor\":\"#E5ECF6\",\"polar\":{\"angularaxis\":{\"gridcolor\":\"white\",\"linecolor\":\"white\",\"ticks\":\"\"},\"bgcolor\":\"#E5ECF6\",\"radialaxis\":{\"gridcolor\":\"white\",\"linecolor\":\"white\",\"ticks\":\"\"}},\"scene\":{\"xaxis\":{\"backgroundcolor\":\"#E5ECF6\",\"gridcolor\":\"white\",\"gridwidth\":2,\"linecolor\":\"white\",\"showbackground\":true,\"ticks\":\"\",\"zerolinecolor\":\"white\"},\"yaxis\":{\"backgroundcolor\":\"#E5ECF6\",\"gridcolor\":\"white\",\"gridwidth\":2,\"linecolor\":\"white\",\"showbackground\":true,\"ticks\":\"\",\"zerolinecolor\":\"white\"},\"zaxis\":{\"backgroundcolor\":\"#E5ECF6\",\"gridcolor\":\"white\",\"gridwidth\":2,\"linecolor\":\"white\",\"showbackground\":true,\"ticks\":\"\",\"zerolinecolor\":\"white\"}},\"shapedefaults\":{\"line\":{\"color\":\"#2a3f5f\"}},\"ternary\":{\"aaxis\":{\"gridcolor\":\"white\",\"linecolor\":\"white\",\"ticks\":\"\"},\"baxis\":{\"gridcolor\":\"white\",\"linecolor\":\"white\",\"ticks\":\"\"},\"bgcolor\":\"#E5ECF6\",\"caxis\":{\"gridcolor\":\"white\",\"linecolor\":\"white\",\"ticks\":\"\"}},\"title\":{\"x\":0.05},\"xaxis\":{\"automargin\":true,\"gridcolor\":\"white\",\"linecolor\":\"white\",\"ticks\":\"\",\"title\":{\"standoff\":15},\"zerolinecolor\":\"white\",\"zerolinewidth\":2},\"yaxis\":{\"automargin\":true,\"gridcolor\":\"white\",\"linecolor\":\"white\",\"ticks\":\"\",\"title\":{\"standoff\":15},\"zerolinecolor\":\"white\",\"zerolinewidth\":2}}},\"xaxis\":{\"anchor\":\"y\",\"domain\":[0.0,1.0],\"type\":\"date\"},\"yaxis\":{\"anchor\":\"x\",\"domain\":[0.0,1.0],\"title\":{\"text\":\"person_indexer\"},\"categoryorder\":\"array\",\"categoryarray\":[\"musique\",\"bruit\",\"silence\",\"male\",\"Female 1\",\"Female 0\"]},\"legend\":{\"title\":{\"text\":\"person_indexer\"},\"tracegroupgap\":0},\"margin\":{\"t\":60},\"barmode\":\"overlay\"},                        {\"responsive\": true}                    ).then(function(){\n",
       "                            \n",
       "var gd = document.getElementById('0cd3bd96-b01a-4ee1-a44f-5c7140b6be6e');\n",
       "var x = new MutationObserver(function (mutations, observer) {{\n",
       "        var display = window.getComputedStyle(gd).display;\n",
       "        if (!display || display === 'none') {{\n",
       "            console.log([gd, 'removed!']);\n",
       "            Plotly.purge(gd);\n",
       "            observer.disconnect();\n",
       "        }}\n",
       "}});\n",
       "\n",
       "// Listen for the removal of the full notebook cells\n",
       "var notebookContainer = gd.closest('#notebook-container');\n",
       "if (notebookContainer) {{\n",
       "    x.observe(notebookContainer, {childList: true});\n",
       "}}\n",
       "\n",
       "// Listen for the clearing of the current output cell\n",
       "var outputEl = gd.closest('.output');\n",
       "if (outputEl) {{\n",
       "    x.observe(outputEl, {childList: true});\n",
       "}}\n",
       "\n",
       "                        })                };                            </script>        </div>\n",
       "</body>\n",
       "</html>"
      ]
     },
     "metadata": {},
     "output_type": "display_data"
    }
   ],
   "source": [
    "fig = px.timeline(data_frame=df_graph, x_start='start_datetime', x_end='end_datetime', y='person_indexer', color='person_indexer', facet_row=None, facet_col=None,\n",
    "                        facet_col_wrap=0, facet_row_spacing=None, facet_col_spacing=None, hover_name=None, hover_data=None,\n",
    "                        custom_data=None, text=None, animation_frame=None, animation_group=None, category_orders=None, labels=None, color_discrete_sequence=None, color_discrete_map=None,\n",
    "                        color_continuous_scale=None, range_color=None, color_continuous_midpoint=None, opacity=None, range_x=None, range_y=None, title=None, template=None, width=None, height=None)\n",
    "\n",
    "fig.update_yaxes(categoryarray=['musique','bruit','silence','male'] + ['Female ' + str(x) for x in range(len(df_graph.person_indexer.value_counts().tolist())-4)][::-1])\n",
    "fig.show()"
   ]
  },
  {
   "cell_type": "code",
   "execution_count": null,
   "metadata": {
    "id": "4gMXDRwsfeMq"
   },
   "outputs": [],
   "source": []
  }
 ],
 "metadata": {
  "colab": {
   "authorship_tag": "ABX9TyMbfoP/P+Rrum6C/f2LqpaX",
   "collapsed_sections": [],
   "name": "Copie de bechdel_audio.ipynb",
   "provenance": [
    {
     "file_id": "1Az7MsUMmjEKJTgXhJRAHH81dBttb8XNV",
     "timestamp": 1643756250965
    }
   ]
  },
  "kernelspec": {
   "display_name": "Python 3",
   "language": "python",
   "name": "python3"
  },
  "language_info": {
   "codemirror_mode": {
    "name": "ipython",
    "version": 3
   },
   "file_extension": ".py",
   "mimetype": "text/x-python",
   "name": "python",
   "nbconvert_exporter": "python",
   "pygments_lexer": "ipython3",
   "version": "3.8.3"
  },
  "widgets": {
   "application/vnd.jupyter.widget-state+json": {
    "00535c063c4b4f479e88015250037ab3": {
     "model_module": "@jupyter-widgets/base",
     "model_module_version": "1.2.0",
     "model_name": "LayoutModel",
     "state": {
      "_model_module": "@jupyter-widgets/base",
      "_model_module_version": "1.2.0",
      "_model_name": "LayoutModel",
      "_view_count": null,
      "_view_module": "@jupyter-widgets/base",
      "_view_module_version": "1.2.0",
      "_view_name": "LayoutView",
      "align_content": null,
      "align_items": null,
      "align_self": null,
      "border": null,
      "bottom": null,
      "display": null,
      "flex": null,
      "flex_flow": null,
      "grid_area": null,
      "grid_auto_columns": null,
      "grid_auto_flow": null,
      "grid_auto_rows": null,
      "grid_column": null,
      "grid_gap": null,
      "grid_row": null,
      "grid_template_areas": null,
      "grid_template_columns": null,
      "grid_template_rows": null,
      "height": null,
      "justify_content": null,
      "justify_items": null,
      "left": null,
      "margin": null,
      "max_height": null,
      "max_width": null,
      "min_height": null,
      "min_width": null,
      "object_fit": null,
      "object_position": null,
      "order": null,
      "overflow": null,
      "overflow_x": null,
      "overflow_y": null,
      "padding": null,
      "right": null,
      "top": null,
      "visibility": null,
      "width": null
     }
    },
    "01897153fda84728a3977a7c24bc849a": {
     "model_module": "@jupyter-widgets/base",
     "model_module_version": "1.2.0",
     "model_name": "LayoutModel",
     "state": {
      "_model_module": "@jupyter-widgets/base",
      "_model_module_version": "1.2.0",
      "_model_name": "LayoutModel",
      "_view_count": null,
      "_view_module": "@jupyter-widgets/base",
      "_view_module_version": "1.2.0",
      "_view_name": "LayoutView",
      "align_content": null,
      "align_items": null,
      "align_self": null,
      "border": null,
      "bottom": null,
      "display": null,
      "flex": null,
      "flex_flow": null,
      "grid_area": null,
      "grid_auto_columns": null,
      "grid_auto_flow": null,
      "grid_auto_rows": null,
      "grid_column": null,
      "grid_gap": null,
      "grid_row": null,
      "grid_template_areas": null,
      "grid_template_columns": null,
      "grid_template_rows": null,
      "height": null,
      "justify_content": null,
      "justify_items": null,
      "left": null,
      "margin": null,
      "max_height": null,
      "max_width": null,
      "min_height": null,
      "min_width": null,
      "object_fit": null,
      "object_position": null,
      "order": null,
      "overflow": null,
      "overflow_x": null,
      "overflow_y": null,
      "padding": null,
      "right": null,
      "top": null,
      "visibility": null,
      "width": null
     }
    },
    "05a1cdf8a7b44b639a83fbdd6483661e": {
     "model_module": "@jupyter-widgets/base",
     "model_module_version": "1.2.0",
     "model_name": "LayoutModel",
     "state": {
      "_model_module": "@jupyter-widgets/base",
      "_model_module_version": "1.2.0",
      "_model_name": "LayoutModel",
      "_view_count": null,
      "_view_module": "@jupyter-widgets/base",
      "_view_module_version": "1.2.0",
      "_view_name": "LayoutView",
      "align_content": null,
      "align_items": null,
      "align_self": null,
      "border": null,
      "bottom": null,
      "display": null,
      "flex": null,
      "flex_flow": null,
      "grid_area": null,
      "grid_auto_columns": null,
      "grid_auto_flow": null,
      "grid_auto_rows": null,
      "grid_column": null,
      "grid_gap": null,
      "grid_row": null,
      "grid_template_areas": null,
      "grid_template_columns": null,
      "grid_template_rows": null,
      "height": null,
      "justify_content": null,
      "justify_items": null,
      "left": null,
      "margin": null,
      "max_height": null,
      "max_width": null,
      "min_height": null,
      "min_width": null,
      "object_fit": null,
      "object_position": null,
      "order": null,
      "overflow": null,
      "overflow_x": null,
      "overflow_y": null,
      "padding": null,
      "right": null,
      "top": null,
      "visibility": null,
      "width": null
     }
    },
    "17ce6b7ac8544136ae6a89eacfca2a51": {
     "model_module": "@jupyter-widgets/controls",
     "model_module_version": "1.5.0",
     "model_name": "HTMLModel",
     "state": {
      "_dom_classes": [],
      "_model_module": "@jupyter-widgets/controls",
      "_model_module_version": "1.5.0",
      "_model_name": "HTMLModel",
      "_view_count": null,
      "_view_module": "@jupyter-widgets/controls",
      "_view_module_version": "1.5.0",
      "_view_name": "HTMLView",
      "description": "",
      "description_tooltip": null,
      "layout": "IPY_MODEL_763994faa99440ee97f3988a6261216e",
      "placeholder": "​",
      "style": "IPY_MODEL_30e4b90eab3f417d92dbe9f4719e4a3b",
      "value": " 57.3k/57.3k [00:00&lt;00:00, 1.18MB/s]"
     }
    },
    "17f5c6dc32a849e89d6412116d6b421f": {
     "model_module": "@jupyter-widgets/controls",
     "model_module_version": "1.5.0",
     "model_name": "HTMLModel",
     "state": {
      "_dom_classes": [],
      "_model_module": "@jupyter-widgets/controls",
      "_model_module_version": "1.5.0",
      "_model_name": "HTMLModel",
      "_view_count": null,
      "_view_module": "@jupyter-widgets/controls",
      "_view_module_version": "1.5.0",
      "_view_name": "HTMLView",
      "description": "",
      "description_tooltip": null,
      "layout": "IPY_MODEL_2549bb95822c4a239d14e3c38f6816bc",
      "placeholder": "​",
      "style": "IPY_MODEL_f4d96faa43084c9182cb99d42adda4a8",
      "value": "Downloading: 100%"
     }
    },
    "1edc0fa8263249a2beeb9598b94ca4eb": {
     "model_module": "@jupyter-widgets/base",
     "model_module_version": "1.2.0",
     "model_name": "LayoutModel",
     "state": {
      "_model_module": "@jupyter-widgets/base",
      "_model_module_version": "1.2.0",
      "_model_name": "LayoutModel",
      "_view_count": null,
      "_view_module": "@jupyter-widgets/base",
      "_view_module_version": "1.2.0",
      "_view_name": "LayoutView",
      "align_content": null,
      "align_items": null,
      "align_self": null,
      "border": null,
      "bottom": null,
      "display": null,
      "flex": null,
      "flex_flow": null,
      "grid_area": null,
      "grid_auto_columns": null,
      "grid_auto_flow": null,
      "grid_auto_rows": null,
      "grid_column": null,
      "grid_gap": null,
      "grid_row": null,
      "grid_template_areas": null,
      "grid_template_columns": null,
      "grid_template_rows": null,
      "height": null,
      "justify_content": null,
      "justify_items": null,
      "left": null,
      "margin": null,
      "max_height": null,
      "max_width": null,
      "min_height": null,
      "min_width": null,
      "object_fit": null,
      "object_position": null,
      "order": null,
      "overflow": null,
      "overflow_x": null,
      "overflow_y": null,
      "padding": null,
      "right": null,
      "top": null,
      "visibility": null,
      "width": null
     }
    },
    "2549bb95822c4a239d14e3c38f6816bc": {
     "model_module": "@jupyter-widgets/base",
     "model_module_version": "1.2.0",
     "model_name": "LayoutModel",
     "state": {
      "_model_module": "@jupyter-widgets/base",
      "_model_module_version": "1.2.0",
      "_model_name": "LayoutModel",
      "_view_count": null,
      "_view_module": "@jupyter-widgets/base",
      "_view_module_version": "1.2.0",
      "_view_name": "LayoutView",
      "align_content": null,
      "align_items": null,
      "align_self": null,
      "border": null,
      "bottom": null,
      "display": null,
      "flex": null,
      "flex_flow": null,
      "grid_area": null,
      "grid_auto_columns": null,
      "grid_auto_flow": null,
      "grid_auto_rows": null,
      "grid_column": null,
      "grid_gap": null,
      "grid_row": null,
      "grid_template_areas": null,
      "grid_template_columns": null,
      "grid_template_rows": null,
      "height": null,
      "justify_content": null,
      "justify_items": null,
      "left": null,
      "margin": null,
      "max_height": null,
      "max_width": null,
      "min_height": null,
      "min_width": null,
      "object_fit": null,
      "object_position": null,
      "order": null,
      "overflow": null,
      "overflow_x": null,
      "overflow_y": null,
      "padding": null,
      "right": null,
      "top": null,
      "visibility": null,
      "width": null
     }
    },
    "2e040c9d980243dc89fb210646c35c5e": {
     "model_module": "@jupyter-widgets/controls",
     "model_module_version": "1.5.0",
     "model_name": "HTMLModel",
     "state": {
      "_dom_classes": [],
      "_model_module": "@jupyter-widgets/controls",
      "_model_module_version": "1.5.0",
      "_model_name": "HTMLModel",
      "_view_count": null,
      "_view_module": "@jupyter-widgets/controls",
      "_view_module_version": "1.5.0",
      "_view_name": "HTMLView",
      "description": "",
      "description_tooltip": null,
      "layout": "IPY_MODEL_00535c063c4b4f479e88015250037ab3",
      "placeholder": "​",
      "style": "IPY_MODEL_8c433c704243472c836a5e0cb413c2b0",
      "value": "Downloading: 100%"
     }
    },
    "30e4b90eab3f417d92dbe9f4719e4a3b": {
     "model_module": "@jupyter-widgets/controls",
     "model_module_version": "1.5.0",
     "model_name": "DescriptionStyleModel",
     "state": {
      "_model_module": "@jupyter-widgets/controls",
      "_model_module_version": "1.5.0",
      "_model_name": "DescriptionStyleModel",
      "_view_count": null,
      "_view_module": "@jupyter-widgets/base",
      "_view_module_version": "1.2.0",
      "_view_name": "StyleView",
      "description_width": ""
     }
    },
    "340c8f2b7e86421eb77ef52a88e1fcac": {
     "model_module": "@jupyter-widgets/base",
     "model_module_version": "1.2.0",
     "model_name": "LayoutModel",
     "state": {
      "_model_module": "@jupyter-widgets/base",
      "_model_module_version": "1.2.0",
      "_model_name": "LayoutModel",
      "_view_count": null,
      "_view_module": "@jupyter-widgets/base",
      "_view_module_version": "1.2.0",
      "_view_name": "LayoutView",
      "align_content": null,
      "align_items": null,
      "align_self": null,
      "border": null,
      "bottom": null,
      "display": null,
      "flex": null,
      "flex_flow": null,
      "grid_area": null,
      "grid_auto_columns": null,
      "grid_auto_flow": null,
      "grid_auto_rows": null,
      "grid_column": null,
      "grid_gap": null,
      "grid_row": null,
      "grid_template_areas": null,
      "grid_template_columns": null,
      "grid_template_rows": null,
      "height": null,
      "justify_content": null,
      "justify_items": null,
      "left": null,
      "margin": null,
      "max_height": null,
      "max_width": null,
      "min_height": null,
      "min_width": null,
      "object_fit": null,
      "object_position": null,
      "order": null,
      "overflow": null,
      "overflow_x": null,
      "overflow_y": null,
      "padding": null,
      "right": null,
      "top": null,
      "visibility": null,
      "width": null
     }
    },
    "356d36895ecf42dba78af790851cb0bc": {
     "model_module": "@jupyter-widgets/base",
     "model_module_version": "1.2.0",
     "model_name": "LayoutModel",
     "state": {
      "_model_module": "@jupyter-widgets/base",
      "_model_module_version": "1.2.0",
      "_model_name": "LayoutModel",
      "_view_count": null,
      "_view_module": "@jupyter-widgets/base",
      "_view_module_version": "1.2.0",
      "_view_name": "LayoutView",
      "align_content": null,
      "align_items": null,
      "align_self": null,
      "border": null,
      "bottom": null,
      "display": null,
      "flex": null,
      "flex_flow": null,
      "grid_area": null,
      "grid_auto_columns": null,
      "grid_auto_flow": null,
      "grid_auto_rows": null,
      "grid_column": null,
      "grid_gap": null,
      "grid_row": null,
      "grid_template_areas": null,
      "grid_template_columns": null,
      "grid_template_rows": null,
      "height": null,
      "justify_content": null,
      "justify_items": null,
      "left": null,
      "margin": null,
      "max_height": null,
      "max_width": null,
      "min_height": null,
      "min_width": null,
      "object_fit": null,
      "object_position": null,
      "order": null,
      "overflow": null,
      "overflow_x": null,
      "overflow_y": null,
      "padding": null,
      "right": null,
      "top": null,
      "visibility": null,
      "width": null
     }
    },
    "35faaba47dd54140bc65a34587fc49bc": {
     "model_module": "@jupyter-widgets/controls",
     "model_module_version": "1.5.0",
     "model_name": "DescriptionStyleModel",
     "state": {
      "_model_module": "@jupyter-widgets/controls",
      "_model_module_version": "1.5.0",
      "_model_name": "DescriptionStyleModel",
      "_view_count": null,
      "_view_module": "@jupyter-widgets/base",
      "_view_module_version": "1.2.0",
      "_view_name": "StyleView",
      "description_width": ""
     }
    },
    "40beec03e13a42158ed994d88901d896": {
     "model_module": "@jupyter-widgets/controls",
     "model_module_version": "1.5.0",
     "model_name": "HTMLModel",
     "state": {
      "_dom_classes": [],
      "_model_module": "@jupyter-widgets/controls",
      "_model_module_version": "1.5.0",
      "_model_name": "HTMLModel",
      "_view_count": null,
      "_view_module": "@jupyter-widgets/controls",
      "_view_module_version": "1.5.0",
      "_view_name": "HTMLView",
      "description": "",
      "description_tooltip": null,
      "layout": "IPY_MODEL_356d36895ecf42dba78af790851cb0bc",
      "placeholder": "​",
      "style": "IPY_MODEL_35faaba47dd54140bc65a34587fc49bc",
      "value": " 386M/386M [00:10&lt;00:00, 43.9MB/s]"
     }
    },
    "5022259aa1d14bcbad558cc7e321b407": {
     "model_module": "@jupyter-widgets/controls",
     "model_module_version": "1.5.0",
     "model_name": "FloatProgressModel",
     "state": {
      "_dom_classes": [],
      "_model_module": "@jupyter-widgets/controls",
      "_model_module_version": "1.5.0",
      "_model_name": "FloatProgressModel",
      "_view_count": null,
      "_view_module": "@jupyter-widgets/controls",
      "_view_module_version": "1.5.0",
      "_view_name": "ProgressView",
      "bar_style": "success",
      "description": "",
      "description_tooltip": null,
      "layout": "IPY_MODEL_05a1cdf8a7b44b639a83fbdd6483661e",
      "max": 215,
      "min": 0,
      "orientation": "horizontal",
      "style": "IPY_MODEL_5d4d48cf840a40c0811f5bcdc7cb7c1b",
      "value": 215
     }
    },
    "5554ecb15bf24b2591c61e94475ec0b3": {
     "model_module": "@jupyter-widgets/base",
     "model_module_version": "1.2.0",
     "model_name": "LayoutModel",
     "state": {
      "_model_module": "@jupyter-widgets/base",
      "_model_module_version": "1.2.0",
      "_model_name": "LayoutModel",
      "_view_count": null,
      "_view_module": "@jupyter-widgets/base",
      "_view_module_version": "1.2.0",
      "_view_name": "LayoutView",
      "align_content": null,
      "align_items": null,
      "align_self": null,
      "border": null,
      "bottom": null,
      "display": null,
      "flex": null,
      "flex_flow": null,
      "grid_area": null,
      "grid_auto_columns": null,
      "grid_auto_flow": null,
      "grid_auto_rows": null,
      "grid_column": null,
      "grid_gap": null,
      "grid_row": null,
      "grid_template_areas": null,
      "grid_template_columns": null,
      "grid_template_rows": null,
      "height": null,
      "justify_content": null,
      "justify_items": null,
      "left": null,
      "margin": null,
      "max_height": null,
      "max_width": null,
      "min_height": null,
      "min_width": null,
      "object_fit": null,
      "object_position": null,
      "order": null,
      "overflow": null,
      "overflow_x": null,
      "overflow_y": null,
      "padding": null,
      "right": null,
      "top": null,
      "visibility": null,
      "width": null
     }
    },
    "568387f8e4bb440fb3767cb6f3dc6243": {
     "model_module": "@jupyter-widgets/controls",
     "model_module_version": "1.5.0",
     "model_name": "HBoxModel",
     "state": {
      "_dom_classes": [],
      "_model_module": "@jupyter-widgets/controls",
      "_model_module_version": "1.5.0",
      "_model_name": "HBoxModel",
      "_view_count": null,
      "_view_module": "@jupyter-widgets/controls",
      "_view_module_version": "1.5.0",
      "_view_name": "HBoxView",
      "box_style": "",
      "children": [
       "IPY_MODEL_8bd2013260dd41399d7028bfa3ca14c5",
       "IPY_MODEL_5022259aa1d14bcbad558cc7e321b407",
       "IPY_MODEL_848bbaeaac744084a40cb0d7f6db6dbe"
      ],
      "layout": "IPY_MODEL_5554ecb15bf24b2591c61e94475ec0b3"
     }
    },
    "5d4d48cf840a40c0811f5bcdc7cb7c1b": {
     "model_module": "@jupyter-widgets/controls",
     "model_module_version": "1.5.0",
     "model_name": "ProgressStyleModel",
     "state": {
      "_model_module": "@jupyter-widgets/controls",
      "_model_module_version": "1.5.0",
      "_model_name": "ProgressStyleModel",
      "_view_count": null,
      "_view_module": "@jupyter-widgets/base",
      "_view_module_version": "1.2.0",
      "_view_name": "StyleView",
      "bar_color": null,
      "description_width": ""
     }
    },
    "6110c8b14e294e2980ed55f2807a4dab": {
     "model_module": "@jupyter-widgets/controls",
     "model_module_version": "1.5.0",
     "model_name": "FloatProgressModel",
     "state": {
      "_dom_classes": [],
      "_model_module": "@jupyter-widgets/controls",
      "_model_module_version": "1.5.0",
      "_model_name": "FloatProgressModel",
      "_view_count": null,
      "_view_module": "@jupyter-widgets/controls",
      "_view_module_version": "1.5.0",
      "_view_name": "ProgressView",
      "bar_style": "success",
      "description": "",
      "description_tooltip": null,
      "layout": "IPY_MODEL_6c53eef5d86e418f977a9eb456aae3ad",
      "max": 404547053,
      "min": 0,
      "orientation": "horizontal",
      "style": "IPY_MODEL_a01956ce46ed4b8691b8488df4350d87",
      "value": 404547053
     }
    },
    "6c53eef5d86e418f977a9eb456aae3ad": {
     "model_module": "@jupyter-widgets/base",
     "model_module_version": "1.2.0",
     "model_name": "LayoutModel",
     "state": {
      "_model_module": "@jupyter-widgets/base",
      "_model_module_version": "1.2.0",
      "_model_name": "LayoutModel",
      "_view_count": null,
      "_view_module": "@jupyter-widgets/base",
      "_view_module_version": "1.2.0",
      "_view_name": "LayoutView",
      "align_content": null,
      "align_items": null,
      "align_self": null,
      "border": null,
      "bottom": null,
      "display": null,
      "flex": null,
      "flex_flow": null,
      "grid_area": null,
      "grid_auto_columns": null,
      "grid_auto_flow": null,
      "grid_auto_rows": null,
      "grid_column": null,
      "grid_gap": null,
      "grid_row": null,
      "grid_template_areas": null,
      "grid_template_columns": null,
      "grid_template_rows": null,
      "height": null,
      "justify_content": null,
      "justify_items": null,
      "left": null,
      "margin": null,
      "max_height": null,
      "max_width": null,
      "min_height": null,
      "min_width": null,
      "object_fit": null,
      "object_position": null,
      "order": null,
      "overflow": null,
      "overflow_x": null,
      "overflow_y": null,
      "padding": null,
      "right": null,
      "top": null,
      "visibility": null,
      "width": null
     }
    },
    "763994faa99440ee97f3988a6261216e": {
     "model_module": "@jupyter-widgets/base",
     "model_module_version": "1.2.0",
     "model_name": "LayoutModel",
     "state": {
      "_model_module": "@jupyter-widgets/base",
      "_model_module_version": "1.2.0",
      "_model_name": "LayoutModel",
      "_view_count": null,
      "_view_module": "@jupyter-widgets/base",
      "_view_module_version": "1.2.0",
      "_view_name": "LayoutView",
      "align_content": null,
      "align_items": null,
      "align_self": null,
      "border": null,
      "bottom": null,
      "display": null,
      "flex": null,
      "flex_flow": null,
      "grid_area": null,
      "grid_auto_columns": null,
      "grid_auto_flow": null,
      "grid_auto_rows": null,
      "grid_column": null,
      "grid_gap": null,
      "grid_row": null,
      "grid_template_areas": null,
      "grid_template_columns": null,
      "grid_template_rows": null,
      "height": null,
      "justify_content": null,
      "justify_items": null,
      "left": null,
      "margin": null,
      "max_height": null,
      "max_width": null,
      "min_height": null,
      "min_width": null,
      "object_fit": null,
      "object_position": null,
      "order": null,
      "overflow": null,
      "overflow_x": null,
      "overflow_y": null,
      "padding": null,
      "right": null,
      "top": null,
      "visibility": null,
      "width": null
     }
    },
    "7e6fb5207613491c809bca3999d4437f": {
     "model_module": "@jupyter-widgets/base",
     "model_module_version": "1.2.0",
     "model_name": "LayoutModel",
     "state": {
      "_model_module": "@jupyter-widgets/base",
      "_model_module_version": "1.2.0",
      "_model_name": "LayoutModel",
      "_view_count": null,
      "_view_module": "@jupyter-widgets/base",
      "_view_module_version": "1.2.0",
      "_view_name": "LayoutView",
      "align_content": null,
      "align_items": null,
      "align_self": null,
      "border": null,
      "bottom": null,
      "display": null,
      "flex": null,
      "flex_flow": null,
      "grid_area": null,
      "grid_auto_columns": null,
      "grid_auto_flow": null,
      "grid_auto_rows": null,
      "grid_column": null,
      "grid_gap": null,
      "grid_row": null,
      "grid_template_areas": null,
      "grid_template_columns": null,
      "grid_template_rows": null,
      "height": null,
      "justify_content": null,
      "justify_items": null,
      "left": null,
      "margin": null,
      "max_height": null,
      "max_width": null,
      "min_height": null,
      "min_width": null,
      "object_fit": null,
      "object_position": null,
      "order": null,
      "overflow": null,
      "overflow_x": null,
      "overflow_y": null,
      "padding": null,
      "right": null,
      "top": null,
      "visibility": null,
      "width": null
     }
    },
    "848bbaeaac744084a40cb0d7f6db6dbe": {
     "model_module": "@jupyter-widgets/controls",
     "model_module_version": "1.5.0",
     "model_name": "HTMLModel",
     "state": {
      "_dom_classes": [],
      "_model_module": "@jupyter-widgets/controls",
      "_model_module_version": "1.5.0",
      "_model_name": "HTMLModel",
      "_view_count": null,
      "_view_module": "@jupyter-widgets/controls",
      "_view_module_version": "1.5.0",
      "_view_name": "HTMLView",
      "description": "",
      "description_tooltip": null,
      "layout": "IPY_MODEL_340c8f2b7e86421eb77ef52a88e1fcac",
      "placeholder": "​",
      "style": "IPY_MODEL_a30294c36c5c4d69bb24047a9fe03e89",
      "value": " 215/215 [00:00&lt;00:00, 5.44kB/s]"
     }
    },
    "8bd2013260dd41399d7028bfa3ca14c5": {
     "model_module": "@jupyter-widgets/controls",
     "model_module_version": "1.5.0",
     "model_name": "HTMLModel",
     "state": {
      "_dom_classes": [],
      "_model_module": "@jupyter-widgets/controls",
      "_model_module_version": "1.5.0",
      "_model_name": "HTMLModel",
      "_view_count": null,
      "_view_module": "@jupyter-widgets/controls",
      "_view_module_version": "1.5.0",
      "_view_name": "HTMLView",
      "description": "",
      "description_tooltip": null,
      "layout": "IPY_MODEL_7e6fb5207613491c809bca3999d4437f",
      "placeholder": "​",
      "style": "IPY_MODEL_e48a980eb87d42ad80b17c9284f493fc",
      "value": "Downloading: 100%"
     }
    },
    "8c433c704243472c836a5e0cb413c2b0": {
     "model_module": "@jupyter-widgets/controls",
     "model_module_version": "1.5.0",
     "model_name": "DescriptionStyleModel",
     "state": {
      "_model_module": "@jupyter-widgets/controls",
      "_model_module_version": "1.5.0",
      "_model_name": "DescriptionStyleModel",
      "_view_count": null,
      "_view_module": "@jupyter-widgets/base",
      "_view_module_version": "1.2.0",
      "_view_name": "StyleView",
      "description_width": ""
     }
    },
    "93aaf1abc9324e35af2d12b894a8389c": {
     "model_module": "@jupyter-widgets/controls",
     "model_module_version": "1.5.0",
     "model_name": "ProgressStyleModel",
     "state": {
      "_model_module": "@jupyter-widgets/controls",
      "_model_module_version": "1.5.0",
      "_model_name": "ProgressStyleModel",
      "_view_count": null,
      "_view_module": "@jupyter-widgets/base",
      "_view_module_version": "1.2.0",
      "_view_name": "StyleView",
      "bar_color": null,
      "description_width": ""
     }
    },
    "a01956ce46ed4b8691b8488df4350d87": {
     "model_module": "@jupyter-widgets/controls",
     "model_module_version": "1.5.0",
     "model_name": "ProgressStyleModel",
     "state": {
      "_model_module": "@jupyter-widgets/controls",
      "_model_module_version": "1.5.0",
      "_model_name": "ProgressStyleModel",
      "_view_count": null,
      "_view_module": "@jupyter-widgets/base",
      "_view_module_version": "1.2.0",
      "_view_name": "StyleView",
      "bar_color": null,
      "description_width": ""
     }
    },
    "a30294c36c5c4d69bb24047a9fe03e89": {
     "model_module": "@jupyter-widgets/controls",
     "model_module_version": "1.5.0",
     "model_name": "DescriptionStyleModel",
     "state": {
      "_model_module": "@jupyter-widgets/controls",
      "_model_module_version": "1.5.0",
      "_model_name": "DescriptionStyleModel",
      "_view_count": null,
      "_view_module": "@jupyter-widgets/base",
      "_view_module_version": "1.2.0",
      "_view_name": "StyleView",
      "description_width": ""
     }
    },
    "c74dc430d42b4da3bf609c8eea8f62a5": {
     "model_module": "@jupyter-widgets/controls",
     "model_module_version": "1.5.0",
     "model_name": "HBoxModel",
     "state": {
      "_dom_classes": [],
      "_model_module": "@jupyter-widgets/controls",
      "_model_module_version": "1.5.0",
      "_model_name": "HBoxModel",
      "_view_count": null,
      "_view_module": "@jupyter-widgets/controls",
      "_view_module_version": "1.5.0",
      "_view_name": "HBoxView",
      "box_style": "",
      "children": [
       "IPY_MODEL_17f5c6dc32a849e89d6412116d6b421f",
       "IPY_MODEL_d90a0de5281243b7ba0aef8114085f9d",
       "IPY_MODEL_17ce6b7ac8544136ae6a89eacfca2a51"
      ],
      "layout": "IPY_MODEL_1edc0fa8263249a2beeb9598b94ca4eb"
     }
    },
    "d796398f7c7b48af9fb67cf3e3b6eeac": {
     "model_module": "@jupyter-widgets/controls",
     "model_module_version": "1.5.0",
     "model_name": "HBoxModel",
     "state": {
      "_dom_classes": [],
      "_model_module": "@jupyter-widgets/controls",
      "_model_module_version": "1.5.0",
      "_model_name": "HBoxModel",
      "_view_count": null,
      "_view_module": "@jupyter-widgets/controls",
      "_view_module_version": "1.5.0",
      "_view_name": "HBoxView",
      "box_style": "",
      "children": [
       "IPY_MODEL_2e040c9d980243dc89fb210646c35c5e",
       "IPY_MODEL_6110c8b14e294e2980ed55f2807a4dab",
       "IPY_MODEL_40beec03e13a42158ed994d88901d896"
      ],
      "layout": "IPY_MODEL_f2106400a5e14cb1a9aeacd678bb1a66"
     }
    },
    "d90a0de5281243b7ba0aef8114085f9d": {
     "model_module": "@jupyter-widgets/controls",
     "model_module_version": "1.5.0",
     "model_name": "FloatProgressModel",
     "state": {
      "_dom_classes": [],
      "_model_module": "@jupyter-widgets/controls",
      "_model_module_version": "1.5.0",
      "_model_name": "FloatProgressModel",
      "_view_count": null,
      "_view_module": "@jupyter-widgets/controls",
      "_view_module_version": "1.5.0",
      "_view_name": "ProgressView",
      "bar_style": "success",
      "description": "",
      "description_tooltip": null,
      "layout": "IPY_MODEL_01897153fda84728a3977a7c24bc849a",
      "max": 58639,
      "min": 0,
      "orientation": "horizontal",
      "style": "IPY_MODEL_93aaf1abc9324e35af2d12b894a8389c",
      "value": 58639
     }
    },
    "e48a980eb87d42ad80b17c9284f493fc": {
     "model_module": "@jupyter-widgets/controls",
     "model_module_version": "1.5.0",
     "model_name": "DescriptionStyleModel",
     "state": {
      "_model_module": "@jupyter-widgets/controls",
      "_model_module_version": "1.5.0",
      "_model_name": "DescriptionStyleModel",
      "_view_count": null,
      "_view_module": "@jupyter-widgets/base",
      "_view_module_version": "1.2.0",
      "_view_name": "StyleView",
      "description_width": ""
     }
    },
    "f2106400a5e14cb1a9aeacd678bb1a66": {
     "model_module": "@jupyter-widgets/base",
     "model_module_version": "1.2.0",
     "model_name": "LayoutModel",
     "state": {
      "_model_module": "@jupyter-widgets/base",
      "_model_module_version": "1.2.0",
      "_model_name": "LayoutModel",
      "_view_count": null,
      "_view_module": "@jupyter-widgets/base",
      "_view_module_version": "1.2.0",
      "_view_name": "LayoutView",
      "align_content": null,
      "align_items": null,
      "align_self": null,
      "border": null,
      "bottom": null,
      "display": null,
      "flex": null,
      "flex_flow": null,
      "grid_area": null,
      "grid_auto_columns": null,
      "grid_auto_flow": null,
      "grid_auto_rows": null,
      "grid_column": null,
      "grid_gap": null,
      "grid_row": null,
      "grid_template_areas": null,
      "grid_template_columns": null,
      "grid_template_rows": null,
      "height": null,
      "justify_content": null,
      "justify_items": null,
      "left": null,
      "margin": null,
      "max_height": null,
      "max_width": null,
      "min_height": null,
      "min_width": null,
      "object_fit": null,
      "object_position": null,
      "order": null,
      "overflow": null,
      "overflow_x": null,
      "overflow_y": null,
      "padding": null,
      "right": null,
      "top": null,
      "visibility": null,
      "width": null
     }
    },
    "f4d96faa43084c9182cb99d42adda4a8": {
     "model_module": "@jupyter-widgets/controls",
     "model_module_version": "1.5.0",
     "model_name": "DescriptionStyleModel",
     "state": {
      "_model_module": "@jupyter-widgets/controls",
      "_model_module_version": "1.5.0",
      "_model_name": "DescriptionStyleModel",
      "_view_count": null,
      "_view_module": "@jupyter-widgets/base",
      "_view_module_version": "1.2.0",
      "_view_name": "StyleView",
      "description_width": ""
     }
    }
   }
  }
 },
 "nbformat": 4,
 "nbformat_minor": 1
}
