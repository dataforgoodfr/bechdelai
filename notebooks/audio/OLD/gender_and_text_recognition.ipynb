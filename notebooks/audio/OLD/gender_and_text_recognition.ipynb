{
  "cells": [
    {
      "cell_type": "markdown",
      "metadata": {
        "id": "duJI03wcaVcH"
      },
      "source": [
        "# Installation"
      ]
    },
    {
      "cell_type": "code",
      "execution_count": null,
      "metadata": {
        "id": "DvVVFP7Bdkbw"
      },
      "outputs": [],
      "source": [
        "# moviepy [MIT Licence] >>> extraction de son\n",
        "# https://towardsdatascience.com/extracting-audio-from-video-using-python-58856a940fd\n",
        "\n",
        "# inaSpeechSegmenter [MIT Licence] >>> reconnaissance du genre du locuteur\n",
        "\n",
        "# SpeechRecognition [BSD License] >>> speech to text\n",
        "# https://pypi.org/project/SpeechRecognition/2.1.3/\n",
        "# https://openclassrooms.com/forum/sujet/reconnaissance-vocale-en-python-1\n",
        "# https://medium.com/@garcjes/transcribe-a-podcast-in-python-with-vosk-api-35eba7d96c1f"
      ]
    },
    {
      "cell_type": "code",
      "execution_count": 22,
      "metadata": {
        "colab": {
          "base_uri": "https://localhost:8080/"
        },
        "id": "aIue2grbaRt7",
        "outputId": "23c1c72d-8354-4eae-83d4-690d1bac4137"
      },
      "outputs": [],
      "source": [
        "# !pip install moviepy\n",
        "# !pip install inaSpeechSegmenter\n",
        "# !pip install SpeechRecognition"
      ]
    },
    {
      "cell_type": "markdown",
      "metadata": {
        "id": "zD4yPXOCf1Re"
      },
      "source": [
        "# 1. Extract the audio with moviepy"
      ]
    },
    {
      "cell_type": "code",
      "execution_count": 2,
      "metadata": {
        "colab": {
          "base_uri": "https://localhost:8080/"
        },
        "id": "-wX2uuk3ZfFC",
        "outputId": "29ba04cb-a622-4a45-d833-3965cf2bbdca"
      },
      "outputs": [],
      "source": [
        "import moviepy.editor as mp"
      ]
    },
    {
      "cell_type": "code",
      "execution_count": 5,
      "metadata": {
        "id": "jtac8ZyEbH6K"
      },
      "outputs": [],
      "source": [
        "# Make sure to upload a video in \"./media\" !\n",
        "path_to_the_video = r\"./media/video2.mp4\"\n",
        "my_clip = mp.VideoFileClip(path_to_the_video)"
      ]
    },
    {
      "cell_type": "code",
      "execution_count": 7,
      "metadata": {
        "colab": {
          "base_uri": "https://localhost:8080/"
        },
        "id": "d2DcL6D7fPTp",
        "outputId": "495d4447-31c6-471a-90cf-a9b6bed028ce"
      },
      "outputs": [
        {
          "name": "stdout",
          "output_type": "stream",
          "text": [
            "MoviePy - Writing audio in ./media/extract.wav\n"
          ]
        },
        {
          "name": "stderr",
          "output_type": "stream",
          "text": [
            "                                                                    "
          ]
        },
        {
          "name": "stdout",
          "output_type": "stream",
          "text": [
            "MoviePy - Done.\n"
          ]
        },
        {
          "name": "stderr",
          "output_type": "stream",
          "text": [
            "\r"
          ]
        }
      ],
      "source": [
        "# Extract the audio\n",
        "my_clip.audio.write_audiofile(r\"./media/extract.wav\")"
      ]
    },
    {
      "cell_type": "markdown",
      "metadata": {
        "id": "SqVCNh-ugD3I"
      },
      "source": [
        "# 2. Extract the text with SpeechRecognition"
      ]
    },
    {
      "cell_type": "code",
      "execution_count": 8,
      "metadata": {
        "id": "AupEsTpgdfYD"
      },
      "outputs": [],
      "source": [
        "import speech_recognition as sr"
      ]
    },
    {
      "cell_type": "code",
      "execution_count": 9,
      "metadata": {
        "id": "nCk5PadigHjg"
      },
      "outputs": [],
      "source": [
        "def decodeSpeech(wavefile, start_time = None, end_time = None, language = None):\n",
        "    \n",
        "    r = sr.Recognizer()\n",
        "    #r.pause_threshold = 3\n",
        "    #r.dynamic_energy_adjustment_damping = 0.5\n",
        "\n",
        "    with sr.WavFile(wavefile) as source:\n",
        "      if start_time == None and end_time == None:\n",
        "        audio_text = r.record(source)\n",
        "      else:\n",
        "        audio_text = r.record(source, duration = end_time - start_time, offset = start_time)\n",
        "    \n",
        "    if language == None: #default language is American English\n",
        "      lg = \"en-US\"\n",
        "    else:\n",
        "      lg = language\n",
        "\n",
        "      # recoginize_() method will throw a request error if the API is unreachable, hence using exception handling\n",
        "      try:\n",
        "          \n",
        "          # using google speech recognition\n",
        "          text = r.recognize_google(audio_text, language = lg)\n",
        "          print('Converting audio transcripts into text ...')\n",
        "          return text\n",
        "      \n",
        "      except:\n",
        "          print('Sorry.. run again...')"
      ]
    },
    {
      "cell_type": "code",
      "execution_count": 10,
      "metadata": {
        "id": "nd7qZeb4gqyF"
      },
      "outputs": [],
      "source": [
        "# Define the audio file to perform speech-recognition and segmentation:\n",
        "WAVFILE = \"./media/extract.wav\"\n",
        "language = \"fr-FR\""
      ]
    },
    {
      "cell_type": "markdown",
      "metadata": {
        "id": "bS5u0SuRhpg9"
      },
      "source": [
        "# 3. Gender Recognition with inaSpeechSegmenter"
      ]
    },
    {
      "cell_type": "code",
      "execution_count": 14,
      "metadata": {
        "id": "8uLPzHnEgwqb"
      },
      "outputs": [],
      "source": [
        "# Load the API\n",
        "from inaSpeechSegmenter import Segmenter\n",
        "from inaSpeechSegmenter.export_funcs import seg2csv, seg2textgrid"
      ]
    },
    {
      "cell_type": "code",
      "execution_count": 15,
      "metadata": {
        "id": "INydwLYlh6i9"
      },
      "outputs": [],
      "source": [
        "# select a media to analyse\n",
        "# any media supported by ffmpeg may be used (video, audio, urls)\n",
        "media = WAVFILE"
      ]
    },
    {
      "cell_type": "code",
      "execution_count": 16,
      "metadata": {
        "id": "wUTbj7adh_hA"
      },
      "outputs": [],
      "source": [
        "# create an instance of speech segmenter\n",
        "# this loads neural networks and may last few seconds\n",
        "# Warnings have no incidence on the results\n",
        "seg = Segmenter()"
      ]
    },
    {
      "cell_type": "code",
      "execution_count": 17,
      "metadata": {
        "id": "6yPE4gT4iBIo"
      },
      "outputs": [
        {
          "name": "stderr",
          "output_type": "stream",
          "text": [
            "2021-12-22 08:53:26.432257: I tensorflow/compiler/mlir/mlir_graph_optimization_pass.cc:185] None of the MLIR Optimization Passes are enabled (registered 2)\n"
          ]
        }
      ],
      "source": [
        "# segmentation is performed using the __call__ method of the segmenter instance\n",
        "segmentation = seg(media)"
      ]
    },
    {
      "cell_type": "code",
      "execution_count": 18,
      "metadata": {
        "colab": {
          "base_uri": "https://localhost:8080/"
        },
        "id": "lpbvC5X4iCer",
        "outputId": "4a322823-17b1-432f-be22-b7e24683d86f"
      },
      "outputs": [
        {
          "name": "stdout",
          "output_type": "stream",
          "text": [
            "[('male', 0.0, 3.24), ('female', 3.24, 4.28), ('noise', 4.28, 6.72), ('male', 6.72, 15.22), ('female', 15.22, 16.46), ('noEnergy', 16.46, 17.18), ('male', 17.18, 20.18), ('noise', 20.18, 24.16), ('male', 24.16, 29.1), ('female', 29.1, 31.46), ('male', 31.46, 34.46), ('noEnergy', 34.46, 35.46), ('female', 35.46, 43.52)]\n"
          ]
        }
      ],
      "source": [
        "# the result is a list of tuples\n",
        "# each tuple contains:\n",
        "# * label in 'male', 'female', 'music', 'noEnergy'\n",
        "# * start time of the segment\n",
        "# * end time of the segment\n",
        "print(segmentation)"
      ]
    },
    {
      "cell_type": "code",
      "execution_count": 19,
      "metadata": {
        "colab": {
          "base_uri": "https://localhost:8080/"
        },
        "id": "gItfxBigiloO",
        "outputId": "89978f50-fac8-4c34-9806-6b6ae8a51d4d"
      },
      "outputs": [
        {
          "name": "stdout",
          "output_type": "stream",
          "text": [
            "Converting audio transcripts into text ...\n",
            "Converting audio transcripts into text ...\n",
            "Sorry.. run again...\n",
            "Converting audio transcripts into text ...\n",
            "Sorry.. run again...\n",
            "Sorry.. run again...\n",
            "Converting audio transcripts into text ...\n",
            "Sorry.. run again...\n",
            "Converting audio transcripts into text ...\n",
            "Converting audio transcripts into text ...\n",
            "Converting audio transcripts into text ...\n",
            "Sorry.. run again...\n",
            "Converting audio transcripts into text ...\n"
          ]
        },
        {
          "data": {
            "text/plain": [
              "[{'type': 'male', 'start_time': 0.0, 'end_time': 3.24, 'text': 'et alors'},\n",
              " {'type': 'female',\n",
              "  'start_time': 3.24,\n",
              "  'end_time': 4.28,\n",
              "  'text': 'donne-moi mon'},\n",
              " {'type': 'noise', 'start_time': 4.28, 'end_time': 6.72, 'text': None},\n",
              " {'type': 'male',\n",
              "  'start_time': 6.72,\n",
              "  'end_time': 15.22,\n",
              "  'text': \"tu as fait quelque chose pour mériter ta nourriture ses céréales je sais payer avec mon argent j'ai gagné parce que j'ai travaillé\"},\n",
              " {'type': 'female', 'start_time': 15.22, 'end_time': 16.46, 'text': None},\n",
              " {'type': 'noEnergy', 'start_time': 16.46, 'end_time': 17.18, 'text': None},\n",
              " {'type': 'male',\n",
              "  'start_time': 17.18,\n",
              "  'end_time': 20.18,\n",
              "  'text': \"j'ai déjà vu dans des dans le quartier\"},\n",
              " {'type': 'noise', 'start_time': 20.18, 'end_time': 24.16, 'text': None},\n",
              " {'type': 'male',\n",
              "  'start_time': 24.16,\n",
              "  'end_time': 29.1,\n",
              "  'text': 'choisis entre 1 et 6 tu es une voleuse tant pis pour toi'},\n",
              " {'type': 'female',\n",
              "  'start_time': 29.1,\n",
              "  'end_time': 31.46,\n",
              "  'text': \"qu'est-ce que vous croyez qu'on choisit d'être à la rue\"},\n",
              " {'type': 'male',\n",
              "  'start_time': 31.46,\n",
              "  'end_time': 34.46,\n",
              "  'text': 'tu es jeune si tu voulais vraiment bosser tu bosses'},\n",
              " {'type': 'noEnergy', 'start_time': 34.46, 'end_time': 35.46, 'text': None},\n",
              " {'type': 'female',\n",
              "  'start_time': 35.46,\n",
              "  'end_time': 43.52,\n",
              "  'text': \"ma mère était toxico ma grand-mère qui m'a élevé elle a bossé toute sa vie comme caissière pour m'aider à payer mes études\"}]"
            ]
          },
          "execution_count": 19,
          "metadata": {},
          "output_type": "execute_result"
        }
      ],
      "source": [
        "# Perform speech-to-text with SpeechRecognition for each element in the male/female segmentation\n",
        "\n",
        "segmentation_bis = []\n",
        "\n",
        "for segment in segmentation:\n",
        "  segment_bis = {\"type\" : segment[0],\n",
        "                 \"start_time\" : segment[1],\n",
        "                 \"end_time\" : segment[2],\n",
        "                 \"text\" : decodeSpeech(wavefile = WAVFILE, start_time = segment[1], end_time = segment[2], language = language)\n",
        "                 }\n",
        "  segmentation_bis.append(segment_bis)\n",
        "\n",
        "segmentation_bis"
      ]
    },
    {
      "cell_type": "code",
      "execution_count": 20,
      "metadata": {
        "colab": {
          "base_uri": "https://localhost:8080/",
          "height": 332
        },
        "id": "OYd7cPvwiK9_",
        "outputId": "b60a5b9c-6214-4fba-8b08-cf41f7245b1a"
      },
      "outputs": [
        {
          "data": {
            "text/html": [
              "<div>\n",
              "<style scoped>\n",
              "    .dataframe tbody tr th:only-of-type {\n",
              "        vertical-align: middle;\n",
              "    }\n",
              "\n",
              "    .dataframe tbody tr th {\n",
              "        vertical-align: top;\n",
              "    }\n",
              "\n",
              "    .dataframe thead th {\n",
              "        text-align: right;\n",
              "    }\n",
              "</style>\n",
              "<table border=\"1\" class=\"dataframe\">\n",
              "  <thead>\n",
              "    <tr style=\"text-align: right;\">\n",
              "      <th></th>\n",
              "      <th>type</th>\n",
              "      <th>start_time</th>\n",
              "      <th>end_time</th>\n",
              "      <th>text</th>\n",
              "    </tr>\n",
              "  </thead>\n",
              "  <tbody>\n",
              "    <tr>\n",
              "      <th>0</th>\n",
              "      <td>male</td>\n",
              "      <td>0.00</td>\n",
              "      <td>3.24</td>\n",
              "      <td>et alors</td>\n",
              "    </tr>\n",
              "    <tr>\n",
              "      <th>1</th>\n",
              "      <td>female</td>\n",
              "      <td>3.24</td>\n",
              "      <td>4.28</td>\n",
              "      <td>donne-moi mon</td>\n",
              "    </tr>\n",
              "    <tr>\n",
              "      <th>3</th>\n",
              "      <td>male</td>\n",
              "      <td>6.72</td>\n",
              "      <td>15.22</td>\n",
              "      <td>tu as fait quelque chose pour mériter ta nourr...</td>\n",
              "    </tr>\n",
              "    <tr>\n",
              "      <th>4</th>\n",
              "      <td>female</td>\n",
              "      <td>15.22</td>\n",
              "      <td>16.46</td>\n",
              "      <td>None</td>\n",
              "    </tr>\n",
              "    <tr>\n",
              "      <th>6</th>\n",
              "      <td>male</td>\n",
              "      <td>17.18</td>\n",
              "      <td>20.18</td>\n",
              "      <td>j'ai déjà vu dans des dans le quartier</td>\n",
              "    </tr>\n",
              "    <tr>\n",
              "      <th>8</th>\n",
              "      <td>male</td>\n",
              "      <td>24.16</td>\n",
              "      <td>29.10</td>\n",
              "      <td>choisis entre 1 et 6 tu es une voleuse tant pi...</td>\n",
              "    </tr>\n",
              "    <tr>\n",
              "      <th>9</th>\n",
              "      <td>female</td>\n",
              "      <td>29.10</td>\n",
              "      <td>31.46</td>\n",
              "      <td>qu'est-ce que vous croyez qu'on choisit d'être...</td>\n",
              "    </tr>\n",
              "    <tr>\n",
              "      <th>10</th>\n",
              "      <td>male</td>\n",
              "      <td>31.46</td>\n",
              "      <td>34.46</td>\n",
              "      <td>tu es jeune si tu voulais vraiment bosser tu b...</td>\n",
              "    </tr>\n",
              "    <tr>\n",
              "      <th>12</th>\n",
              "      <td>female</td>\n",
              "      <td>35.46</td>\n",
              "      <td>43.52</td>\n",
              "      <td>ma mère était toxico ma grand-mère qui m'a éle...</td>\n",
              "    </tr>\n",
              "  </tbody>\n",
              "</table>\n",
              "</div>"
            ],
            "text/plain": [
              "      type  start_time  end_time  \\\n",
              "0     male        0.00      3.24   \n",
              "1   female        3.24      4.28   \n",
              "3     male        6.72     15.22   \n",
              "4   female       15.22     16.46   \n",
              "6     male       17.18     20.18   \n",
              "8     male       24.16     29.10   \n",
              "9   female       29.10     31.46   \n",
              "10    male       31.46     34.46   \n",
              "12  female       35.46     43.52   \n",
              "\n",
              "                                                 text  \n",
              "0                                            et alors  \n",
              "1                                       donne-moi mon  \n",
              "3   tu as fait quelque chose pour mériter ta nourr...  \n",
              "4                                                None  \n",
              "6              j'ai déjà vu dans des dans le quartier  \n",
              "8   choisis entre 1 et 6 tu es une voleuse tant pi...  \n",
              "9   qu'est-ce que vous croyez qu'on choisit d'être...  \n",
              "10  tu es jeune si tu voulais vraiment bosser tu b...  \n",
              "12  ma mère était toxico ma grand-mère qui m'a éle...  "
            ]
          },
          "execution_count": 20,
          "metadata": {},
          "output_type": "execute_result"
        }
      ],
      "source": [
        "import pandas as pd\n",
        "df = pd.DataFrame(segmentation_bis)\n",
        "df[(df[\"type\"] == \"male\") | (df[\"type\"] == \"female\")]"
      ]
    },
    {
      "cell_type": "markdown",
      "metadata": {
        "id": "GFvpq8ecjck8"
      },
      "source": [
        "# Idées pour la suite"
      ]
    },
    {
      "cell_type": "code",
      "execution_count": null,
      "metadata": {
        "id": "SythQ02YjehZ"
      },
      "outputs": [],
      "source": [
        "# Détection de voix distinctes --> du type --> female1, female2, male1, etc.\n",
        "# ---> resemblyzer ?\n",
        "# ---> https://www.audiolabs-erlangen.de/resources/2017-CountNet"
      ]
    },
    {
      "cell_type": "code",
      "execution_count": null,
      "metadata": {
        "id": "Ik2DmGa04M_d"
      },
      "outputs": [],
      "source": [
        "# !pip install resemblyze\n",
        "\n",
        "# from resemblyzer import VoiceEncoder, preprocess_wav\n",
        "# from pathlib import Path\n",
        "# import numpy as np\n",
        "\n",
        "# WAVFILE = '/content/extraction_du_son.wav'\n",
        "\n",
        "# fpath = Path(WAVFILE)\n",
        "# wav = preprocess_wav(fpath)\n",
        "\n",
        "# encoder = VoiceEncoder()\n",
        "# embed = encoder.embed_utterance(wav)\n",
        "# np.set_printoptions(precision=3, suppress=True)\n",
        "# # print(embed)"
      ]
    }
  ],
  "metadata": {
    "colab": {
      "collapsed_sections": [],
      "name": "21-12-09 - Extraction du genre et du texte.ipynb",
      "provenance": []
    },
    "kernelspec": {
      "display_name": "Python 3",
      "name": "python3"
    },
    "language_info": {
      "codemirror_mode": {
        "name": "ipython",
        "version": 3
      },
      "file_extension": ".py",
      "mimetype": "text/x-python",
      "name": "python",
      "nbconvert_exporter": "python",
      "pygments_lexer": "ipython3",
      "version": "3.8.3"
    }
  },
  "nbformat": 4,
  "nbformat_minor": 0
}
