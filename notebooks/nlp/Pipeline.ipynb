{
 "cells": [
  {
   "cell_type": "code",
   "execution_count": 1,
   "metadata": {},
   "outputs": [],
   "source": [
    "import sys\n",
    "sys.path.append('../../')\n",
    "\n",
    "import re\n",
    "\n",
    "from bechdelai.data.opensubtitles import search\n",
    "from bechdelai.data.opensubtitles import get_subtitle_link\n",
    "from bechdelai.data.opensubtitles import download_subtitle_from_url\n",
    "from bechdelai.data.opensubtitles import get_subtitles_from_movie\n",
    "\n",
    "from flair.data import Sentence\n",
    "from flair.models import SequenceTagger\n",
    "\n",
    "from tqdm import tqdm\n",
    "import pandas as pd\n",
    "\n",
    "import spacy\n",
    "import pysrt"
   ]
  },
  {
   "cell_type": "code",
   "execution_count": 2,
   "metadata": {},
   "outputs": [],
   "source": [
    "subs = pysrt.open('./Harry.Potter.And.The.Goblet.Of.Fire.2005.1080p.BluRay.DTS.x264-hV.ENG.srt')"
   ]
  },
  {
   "cell_type": "code",
   "execution_count": 3,
   "metadata": {},
   "outputs": [
    {
     "name": "stdout",
     "output_type": "stream",
     "text": [
      "modifiers {'Voldemort': [['back']], 'Harry': [['last', 'all', 'how', 'good', 'again', 'necessary', 'away']], 'Hermione': [['all', 'right']], 'Ron': [['where', 'actually']], 'Harry Potter': [['Why', 'so', 'tense', 'over', 'here', 'just']], 'Krum': [['Dumb']], 'Magic': [['old']], 'Dumb Krum': [['Dumb']], 'Drooble': [['second', 'just', 'Just']], 'Viktor Krum': [['Dumb']], 'Hagrid': [['where']], 'Monsieur Hagrid': [['where']], 'Weasley': [['just']], 'Granger': [['plain']], 'Neville': [['really']], 'Fleur Delacour': [['over', 'here']], 'Potter': [['Why', 'so', 'tense', 'over', 'here', 'just']], 'Ron Weasley': [['just']], 'Horntail': [['Hungarian']], 'Moody!': [['stinking', 'cowardly', 'scummy']], 'Delacour': [['over', 'here']], 'Lose': [['very', 'just']], 'Nigel': [['now']], 'Hermione Granger': [['plain']], 'Moral Fiber': [['outstanding', 'moral', 'moral', 'Moral']], 'I. Potter': [['Why', 'so', 'tense', 'over', 'here', 'just']], 'Lily Potter': [['Why', 'so', 'tense', 'over', 'here', 'just']]}\n",
      "actions {'Voldemort': [['give', 'wasn', 'return']], 'Nagini': [['tell']], 'Harry': [['take', 'tell', 'feel', 'get', 'take']], 'Ronald': [['like']], 'Ron': [['get', 'faint', 'know', 'tell']], 'breakfast': [['say']], 'Harry Potter': [['have', 'let', 'compete', 'stink', 'help', 'put', 'see', 'finish', 'agree']], 'Ced': [['come', 'leave']], 'Ginny': [['look']], 'Magic': [['let', 'die', 'save']], 'Viktor': [['go', 'suppose', 'figure']], 'Crouch': [['teach']], 'Dad': [['tell']], 'Hogwarts': [['choose', 'teach']], 'Dumblydorr': [['travel']], 'Hagrid': [['like', 'tell', 'tell', 'tell', 'look', 'look', 'comb', 'warn', 'tell', 'tell', 'tell', 'tell', 'look']], 'Monsieur Hagrid': [['like', 'tell', 'tell', 'tell', 'look', 'look', 'comb', 'warn', 'tell', 'tell', 'tell', 'tell', 'look']], 'Bartemius Crouch': [['teach']], 'MadEye Moody': [['give', 'place']], 'Alastor': [['keep'], ['keep']], 'Ministry': [['know', 'see', 'conclude', 'say', 'intercept']], 'Dumbledore': [['ask', 'draw', 'tell', 'want']], 'Sprout': [['tell']], 'Granger': [['seem']], 'Neville': [['interest', 'know', 'get']], 'Karkaroff': [['remember'], ['remember']], 'Potter': [['have', 'let', 'compete', 'stink', 'help', 'put', 'see', 'finish', 'agree']], 'Igor Karkaroff': [['remember']], 'Barty Crouch': [['teach']], 'Seamus': [['like', 'tell', 'tell', 'tell', 'tell', 'tell', 'tell']], 'Dean': [['like', 'tell', 'tell', 'tell', 'tell']], 'Parvati': [['tell', 'tell', 'tell', 'tell']], 'Horntail': [['have', 'admit']], 'Fleur': [['get']], 'Cho': [['look']], 'Mum': [['send', 'send']], 'Hermione Granger': [['seem']], 'McGonagall': [['want']], 'Warty Hogwarts': [['choose', 'teach']], 'Snape': [['remain']], 'Severus Snape': [['remain']], 'I. Potter': [['have', 'let', 'compete', 'stink', 'help', 'put', 'see', 'finish', 'agree']], 'Moody!': [None], 'Lily Potter': [['have', 'let', 'compete', 'stink', 'help', 'put', 'see', 'finish', 'agree']], 'Expelliar': [['go']], 'Albus Dumbledore': [['ask', 'draw', 'tell', 'want']], 'The Ministry of Magic': [['know', 'see', 'conclude', 'say', 'intercept']]}\n",
      "passives {'Wormtail': [['mention']], 'Voldemort': [['see', 'murder']], 'Harry': [['come', 'keep']], 'Hermione': [['tell']], 'Ron': [['make']], 'Harry Potter': [['try', 'lure']], 'Krum': [['be', 'fill', 'bewitch']], 'Magic': [['love']], 'Dumb Krum': [['be', 'fill', 'bewitch']], 'Loads': [['make', 'feel']], 'Dad': [['accord']], 'Hedwig': [['couldn', 'send']], 'Hogwarts': [['think', 'have']], 'Karkaroff.': [['greet', 'lgor']], 'Viktor Krum': [['be', 'fill', 'bewitch']], 'Hagrid': [['see']], 'Monsieur Hagrid': [['see']], 'Ministry': [['work', 'accommodate', 'remain', 'pass']], 'Dumbledore': [['fool']], 'Azkaban': [['fill', 'earn', 'send', 'bring', 'return', 'send', 'send']], 'YouKnowWho': [['pass']], 'Confundus Charm': [['show']], 'Barty': [['hear']], 'The Goblet of Fire': [['think', 'put']], 'Potter': [['try', 'lure']], 'Quill': [['mind', 'use', 'do', 'ignore']], 'Dean': [['tell', 'tell', 'tell', 'tell']], 'Parvati': [['like', 'tell', 'tell', 'tell', 'tell']], 'Horntail': [['leave']], 'Romania': [['help', 'bring']], 'Malfoy': [['give']], 'Mum': [['take']], 'Patil': [['proceed']], 'Hippogriff': [['dance']], 'Polyjuice Potion': [['fool']], 'Nepal': [['know', 'be']], 'Warty Hogwarts': [['think', 'have']], 'Destroyed Barty': [['hear']], 'I. Potter': [['try', 'lure']], 'Gillyweed': [['use', 'think', 'provide']], 'Lily Potter': [['try', 'lure']], 'Albus Dumbledore': [['fool']], 'The Ministry of Magic': [['work', 'accommodate', 'remain', 'pass']]}\n",
      "221 dialogs by women i.e 0.20615671641791045% of the total\n",
      "902.159999999995s of women talking i.e 0.2536023702837463% of the total\n"
     ]
    }
   ],
   "source": [
    "from bechdelai.nlp.subtitle_analysis import SubtitleAnalyzer\n",
    "\n",
    "segments = pd.read_csv(\"HP4_results.csv\", sep=\";\")\n",
    "analyzer = SubtitleAnalyzer()\n",
    "analyzer.analyze(subtitles=subs, segments=segments)"
   ]
  },
  {
   "cell_type": "code",
   "execution_count": 3,
   "metadata": {},
   "outputs": [],
   "source": [
    "def clean_text(t: str) -> str:\n",
    "        cleaned = t.replace(\"\\n\", \" \").replace(\"  \", \" \").replace(\" -\", \" \").replace(\"♪\", \"\").replace(\"...\", \" \").replace(\"-\", \"\")\n",
    "        wo_html = re.sub(\"<[^<]+?>\", \"\", cleaned)\n",
    "        wo_parentheses = re.sub(r\"\\([^()]*\\)\", \"\", wo_html)\n",
    "        return (\n",
    "            wo_parentheses\n",
    "            if \":\" not in wo_parentheses\n",
    "            else wo_parentheses.split(\":\")[1]\n",
    "        )"
   ]
  },
  {
   "cell_type": "code",
   "execution_count": 4,
   "metadata": {},
   "outputs": [],
   "source": [
    "def jaccard_similarity(x,y):\n",
    "  \"\"\" returns the jaccard similarity between two lists \"\"\"\n",
    "  intersection_cardinality = len(set.intersection(*[set(x), set(y)]))\n",
    "  union_cardinality = len(set.union(*[set(x), set(y)]))\n",
    "  return intersection_cardinality/float(union_cardinality)"
   ]
  },
  {
   "cell_type": "code",
   "execution_count": 5,
   "metadata": {},
   "outputs": [
    {
     "data": {
      "text/plain": [
       "<function spacy.pipeline.functions.merge_entities(doc: spacy.tokens.doc.Doc)>"
      ]
     },
     "execution_count": 5,
     "metadata": {},
     "output_type": "execute_result"
    }
   ],
   "source": [
    "nlp = spacy.load(\"en_core_web_lg\")\n",
    "nlp.add_pipe(\"merge_entities\")"
   ]
  },
  {
   "cell_type": "code",
   "execution_count": null,
   "metadata": {},
   "outputs": [],
   "source": [
    "cuts = []\n",
    "THRESH = 2 * 1000\n",
    "for i, (a, b) in enumerate(zip(subs, subs[1:])):\n",
    "    if b.start.ordinal - a.end.ordinal > THRESH:\n",
    "        cuts.append(i)"
   ]
  },
  {
   "cell_type": "code",
   "execution_count": null,
   "metadata": {},
   "outputs": [],
   "source": [
    "for start, end in zip(cuts, cuts[1:]):\n",
    "    content = subs[start:end]"
   ]
  },
  {
   "cell_type": "code",
   "execution_count": 6,
   "metadata": {},
   "outputs": [],
   "source": [
    "doc = nlp(\" \".join([clean_text(s.text) for s in subs]))"
   ]
  },
  {
   "cell_type": "code",
   "execution_count": 9,
   "metadata": {},
   "outputs": [],
   "source": [
    "entity_types = pd.Series([e.label_ for e in doc.ents])"
   ]
  },
  {
   "cell_type": "code",
   "execution_count": 10,
   "metadata": {},
   "outputs": [
    {
     "data": {
      "text/plain": [
       "<AxesSubplot:>"
      ]
     },
     "execution_count": 10,
     "metadata": {},
     "output_type": "execute_result"
    },
    {
     "data": {
      "image/png": "[encoded data removed]",
      "text/plain": [
       "<Figure size 432x288 with 1 Axes>"
      ]
     },
     "metadata": {
      "needs_background": "light"
     },
     "output_type": "display_data"
    }
   ],
   "source": [
    "entity_types.value_counts().plot(kind='bar')"
   ]
  },
  {
   "cell_type": "code",
   "execution_count": 7,
   "metadata": {},
   "outputs": [],
   "source": [
    "entity_texts = pd.Series([e.text for e in doc.ents if e.label_ in [\"PERSON\", \"ORG\", \"GPE\", \"LOC\"]])"
   ]
  },
  {
   "cell_type": "code",
   "execution_count": 11,
   "metadata": {},
   "outputs": [
    {
     "data": {
      "text/plain": [
       "<AxesSubplot:>"
      ]
     },
     "execution_count": 11,
     "metadata": {},
     "output_type": "execute_result"
    },
    {
     "data": {
      "image/png": "[encoded data removed]",
      "text/plain": [
       "<Figure size 432x288 with 1 Axes>"
      ]
     },
     "metadata": {
      "needs_background": "light"
     },
     "output_type": "display_data"
    }
   ],
   "source": [
    "entity_texts.value_counts().nlargest(15).plot(kind='bar')"
   ]
  },
  {
   "cell_type": "code",
   "execution_count": 13,
   "metadata": {},
   "outputs": [
    {
     "name": "stdout",
     "output_type": "stream",
     "text": [
      "{'Harry': 0, 'Harry Potter': 0, 'Harry   ': 0, 'Hermione': 1, 'Hermione Granger': 1, 'Ronald': 2, 'Ron': 2, 'Cedric': 3, 'Ced': 3, 'Cedric Diggory': 3, \"Harry Potter's\": 0, 'Viktor': 4, 'Viktor Krum': 4, 'Karkaroff.': 5, 'Karkaroff': 12, \"Karkaroff's\": 12, 'Dumblydorr': 6, 'Dumbledore': 6, 'Bartemius Crouch': 7, 'Barty Crouch': 7, 'MadEye Moody': 8, 'MadEye': 8, 'Alastor Moody': 9, 'Alastor': 9, 'Weasley': 10, 'Ron Weasley': 10, 'Neville': 11, 'Neville Longbottom': 11, 'Barty': 7, 'Potter': 13, 'I. Potter': 13, 'Potter   ': 13, 'Moody!': 14, 'Moody': 14, 'the Black Lake': 15, 'The Black Lake': 15, 'Severus Snape': 16, 'Severus': 16}\n"
     ]
    }
   ],
   "source": [
    "\n",
    "\n",
    "def regroup_entities(entities):\n",
    "    regrouped_entities = {}\n",
    "    i = 0\n",
    "    for ent_a, ent_b in itertools.combinations(entities.unique().tolist(), 2):\n",
    "        if textdistance.jaro_winkler(ent_a, ent_b) > 0.875:\n",
    "            if regrouped_entities.get(ent_a) is not None and regrouped_entities.get(ent_b) is None:\n",
    "                regrouped_entities[ent_b] = regrouped_entities.get(ent_a)\n",
    "            elif regrouped_entities.get(ent_b) is not None and regrouped_entities.get(ent_a) is None:\n",
    "                regrouped_entities[ent_a] = regrouped_entities.get(ent_b)\n",
    "            else:\n",
    "                regrouped_entities[ent_a] = i\n",
    "                regrouped_entities[ent_b] = i\n",
    "                i += 1\n",
    "    return regrouped_entities\n",
    "\n",
    "print(regroup_entities(entity_texts))"
   ]
  },
  {
   "cell_type": "code",
   "execution_count": 15,
   "metadata": {},
   "outputs": [],
   "source": [
    "import itertools\n",
    "import textdistance\n",
    "\n",
    "def group_entities(entities):\n",
    "    regrouped_entities = {}\n",
    "    i = 0\n",
    "    for ent_a, ent_b in itertools.combinations(entities.unique().tolist(), 2):\n",
    "        if textdistance.jaro_winkler(ent_a, ent_b) > 0.875:\n",
    "            if regrouped_entities.get(ent_a) is not None and regrouped_entities.get(ent_b) is None:\n",
    "                regrouped_entities[ent_b] = regrouped_entities.get(ent_a)\n",
    "            elif regrouped_entities.get(ent_b) is not None and regrouped_entities.get(ent_a) is None:\n",
    "                regrouped_entities[ent_a] = regrouped_entities.get(ent_b)\n",
    "            else:\n",
    "                regrouped_entities[ent_a] = i\n",
    "                regrouped_entities[ent_b] = i\n",
    "                i += 1\n",
    "    return regrouped_entities\n",
    "\n",
    "def reverse_entity_mapping(regrouped_entities):\n",
    "    inverse_entities = {}\n",
    "    for k, v in regrouped_entities.items():\n",
    "        inverse_entities.setdefault(v,[]).append(k)\n",
    "    return inverse_entities\n",
    "\n",
    "def find_entity_groups(entities):\n",
    "    regrouped_entities = group_entities(entities)\n",
    "    inverse_entities = reverse_entity_mapping(regrouped_entities) \n",
    "\n",
    "    mapping = {}\n",
    "    for k, v in inverse_entities.items():\n",
    "        most_used_entity = pd.Series(list(filter(lambda x: x in v, entities))).value_counts().idxmax()\n",
    "        for ent in v:\n",
    "            mapping[ent] = most_used_entity\n",
    "    return mapping\n",
    "\n",
    "entity_mapping = find_entity_groups(entity_texts)"
   ]
  },
  {
   "cell_type": "code",
   "execution_count": 22,
   "metadata": {},
   "outputs": [],
   "source": [
    "regrouped_modifiers = {}\n",
    "modifiers = get_modifiers(doc, entity_texts)\n",
    "for k, v in modifiers.items():\n",
    "    regrouped_modifiers.setdefault(entity_mapping.get(k,k),[]).append(modifiers.get(entity_mapping.get(k,k)))"
   ]
  },
  {
   "cell_type": "code",
   "execution_count": null,
   "metadata": {},
   "outputs": [
    {
     "data": {
      "text/plain": [
       "<AxesSubplot:>"
      ]
     },
     "execution_count": 30,
     "metadata": {},
     "output_type": "execute_result"
    },
    {
     "data": {
      "image/png": "[encoded data removed]",
      "text/plain": [
       "<Figure size 432x288 with 1 Axes>"
      ]
     },
     "metadata": {
      "needs_background": "light"
     },
     "output_type": "display_data"
    }
   ],
   "source": [
    "entity_texts.value_counts().nlargest(15).plot(kind='bar')"
   ]
  },
  {
   "cell_type": "code",
   "execution_count": 17,
   "metadata": {},
   "outputs": [],
   "source": [
    "from spacy.matcher import DependencyMatcher\n",
    "\n",
    "def get_modifiers(doc, entities):\n",
    "    modifiers = {} \n",
    "    for ent in entities:\n",
    "        target = ent.split(\" \")[1].lower() if len(ent.split(\" \")) > 1 else ent.lower()\n",
    "        pattern = [\n",
    "        {\n",
    "            \"RIGHT_ID\": \"target\",\n",
    "            \"RIGHT_ATTRS\": {'LOWER': target}\n",
    "        },\n",
    "        {\n",
    "            \"LEFT_ID\": \"target\",\n",
    "            \"REL_OP\": \">>\",\n",
    "            \"RIGHT_ID\": \"modifier\",\n",
    "            \"RIGHT_ATTRS\": {\"DEP\": {\"IN\": [\"amod\", \"advmod\"]}}\n",
    "        },\n",
    "        ]\n",
    "        matcher = DependencyMatcher(nlp.vocab)\n",
    "        matcher.add(f\"Passive_{ent}\", [pattern])\n",
    "        matches = matcher(doc)\n",
    "\n",
    "        words = []\n",
    "        for match_id, (target, modifier) in matcher(doc):\n",
    "            words.append(doc[modifier].text)\n",
    "        if len(words) > 0:\n",
    "            modifiers[ent] = words\n",
    "    return modifiers"
   ]
  },
  {
   "cell_type": "code",
   "execution_count": null,
   "metadata": {},
   "outputs": [],
   "source": [
    "from spacy.matcher import DependencyMatcher\n",
    "\n",
    "def get_actions(doc, entities):\n",
    "    actions = {} \n",
    "    for ent in entities:\n",
    "        target = ent.split(\" \")[1].lower() if len(ent.split(\" \")) > 1 else ent.lower()\n",
    "        pattern = [\n",
    "        {\n",
    "            \"RIGHT_ID\": \"action\",\n",
    "            \"RIGHT_ATTRS\": {'POS': \"VERB\"}\n",
    "        },\n",
    "        {\n",
    "            \"LEFT_ID\": \"action\",\n",
    "            \"REL_OP\": \">>\",\n",
    "            \"RIGHT_ID\": \"target\",\n",
    "            \"RIGHT_ATTRS\": {\"DEP\": {\"IN\": [\"nsubj\", \"nsubjpass\"]}, \"LOWER\": target}\n",
    "        },\n",
    "        ]\n",
    "        matcher = DependencyMatcher(nlp.vocab)\n",
    "        matcher.add(f\"Passive_{ent}\", [pattern])\n",
    "        matches = matcher(doc)\n",
    "\n",
    "        words = []\n",
    "        for match_id, (action, target) in matcher(doc):\n",
    "            words.append(doc[action].lemma_)\n",
    "        if len(words) > 0:\n",
    "            actions[ent] = words\n",
    "    return actions"
   ]
  },
  {
   "cell_type": "code",
   "execution_count": null,
   "metadata": {},
   "outputs": [],
   "source": [
    "from spacy.matcher import DependencyMatcher\n",
    "\n",
    "def get_passives(doc, entities):\n",
    "    passives = {} \n",
    "    for ent in entities:\n",
    "        target = ent.split(\" \")[1].lower() if len(ent.split(\" \")) > 1 else ent.lower()\n",
    "        pattern = [\n",
    "        {\n",
    "            \"RIGHT_ID\": \"action\",\n",
    "            \"RIGHT_ATTRS\": {'POS': \"VERB\"}\n",
    "        },\n",
    "        {\n",
    "            \"LEFT_ID\": \"action\",\n",
    "            \"REL_OP\": \">>\",\n",
    "            \"RIGHT_ID\": \"target\",\n",
    "            \"RIGHT_ATTRS\": {\"DEP\": {\"IN\": [\"dobj\", \"pobj\"]}, \"LOWER\": target}\n",
    "        },\n",
    "        ]\n",
    "        matcher = DependencyMatcher(nlp.vocab)\n",
    "        matcher.add(f\"Passive_{ent}\", [pattern])\n",
    "        matches = matcher(doc)\n",
    "        words = []\n",
    "        for match_id, (action, target) in matcher(doc):\n",
    "            words.append(doc[action].lemma_)\n",
    "        if len(words) > 0:\n",
    "            passives[ent] = words\n",
    "    return passives"
   ]
  },
  {
   "cell_type": "code",
   "execution_count": null,
   "metadata": {},
   "outputs": [
    {
     "name": "stdout",
     "output_type": "stream",
     "text": [
      "I disappoint you\n",
      "I give greeting\n",
      "Some had bit\n",
      "that cleared sinuses\n",
      "that cleared shambles\n",
      "Girls choose bunk\n",
      "I love magic\n",
      "he rides wind\n",
      "I love you\n",
      "Irish got pride\n",
      "we lost you\n",
      "Which conjured it\n",
      "I see face\n",
      "I get it\n",
      "who conjured it\n",
      "what worried them\n",
      "you saw what\n",
      "Dumblydorr traveled way\n",
      "horses traveled way\n",
      "they drink whiskey\n",
      "what awaits student\n",
      "who wins Tournament\n",
      "student survive tasks\n",
      "we have head\n",
      "you doing what\n",
      "Anyone write name\n",
      "Dumbledore asked me\n",
      "which tell me\n",
      "curses do what\n",
      "codger see back\n",
      "we see curse\n",
      "dad tell me\n",
      "this show you\n",
      "I have What\n",
      "we sort liars\n",
      "Sprout tells me\n",
      "you have aptitude\n",
      "it bothering him\n",
      "you give Curse\n",
      "you see face\n",
      "We have cup\n",
      "we done it\n",
      "You see this\n",
      "Dumbledore drew it\n",
      "you want piece\n",
      "I tear ears\n",
      "We have champions\n",
      "Only one hoist chalice\n",
      "I tell you\n",
      "you put name\n",
      "you ask one\n",
      "Confundus Charm hoodwinked it\n",
      "The Goblet of Fire constitutes contract\n",
      "Potter has choice\n",
      "you suggest What\n",
      "You heard Barty\n",
      "you accommodate Ministry\n",
      "Alastor keep eye\n",
      "I do that\n",
      "you do it\n",
      "You know bloody\n",
      "I put name\n",
      "I want glory\n",
      "mysteries do mask\n",
      "I use Quill\n",
      "who mastered spells\n",
      "Everyone loves rebel\n",
      "attitude shows need\n",
      "eyes swimming Sirius\n",
      "I have time\n",
      "you put name\n",
      "You mentioned Wormtail\n",
      "You hear name\n",
      "Voldemort giving job\n",
      "you saying What\n",
      "one put name\n",
      "I have clue\n",
      "who put name\n",
      "You have choice\n",
      "I heard voices\n",
      "you imagining things\n",
      "You doing it\n",
      "Moody gave it\n",
      "we had tea\n",
      "me say What\n",
      "Ronald like me\n",
      "you do this\n",
      "you bring cloak\n",
      "I asked you\n",
      "I brought cloak\n",
      "Hagrid combed hair\n",
      "you combed hair\n",
      "you forgotten me\n",
      "Ron tell that\n",
      "He tell thing\n",
      "I have word\n",
      "They got one\n",
      "Ced leave him\n",
      "I asked them\n",
      "you know that\n",
      "father have bet\n",
      "I give damn\n",
      "I give Malfoy\n",
      "father thinks what\n",
      "I teach you\n",
      "you doing What\n",
      "I tell stories\n",
      "that curl hair\n",
      "We use transfiguration\n",
      "Dumbledore told that\n",
      "He mentioned it\n",
      "me keep eye\n",
      "I see whites\n",
      "You believe it\n",
      "he turn whistle\n",
      "They have strategy\n",
      "I heard it\n",
      "Who fancies flutter\n",
      "Each involves danger\n",
      "This minimize risks\n",
      "you make page\n",
      "You have business\n",
      "we wanted what\n",
      "you doing What\n",
      "Which leaves Horntail\n",
      "you do This\n",
      "me open it\n",
      "me open it\n",
      "you done it\n",
      "Everyone saying it\n",
      "me feel loads\n",
      "I warned you\n",
      "Hagrid warned me\n",
      "I told Hermione\n",
      "Seamus told me\n",
      "Parvati told Dean\n",
      "Seamus told anything\n",
      "you figured that\n",
      "Who figure that\n",
      "I believe it\n",
      "Harry Potter's taking blow\n",
      "I told him\n",
      "I get him\n",
      "I get autograph\n",
      "Mum sent something\n",
      "Mum sent dress\n",
      "it match eyes\n",
      "each put foot\n",
      "I mean this\n",
      "I have you\n",
      "you join me\n",
      "him forget this\n",
      "You slayed dragons\n",
      "you get date\n",
      "I take dragon\n",
      "I know her\n",
      "I pick him\n",
      "I started school\n",
      "he take himself\n",
      "It interest you\n",
      "Neville got someone\n",
      ", believe it\n",
      "someone asked me\n",
      "we have partners\n",
      "I catch that\n",
      "He asked Fleur Delacour\n",
      "she say What\n",
      "I like it\n",
      "I help it\n",
      "you do what\n",
      "she tell us\n",
      "we take mickey\n",
      "Nobody asked her\n",
      "I told that\n",
      "Harry take waist\n",
      "who don care\n",
      "I have arm\n",
      "Who wanting autograph\n",
      "it wanting autograph\n",
      "He using you\n",
      "I take care\n",
      "I doubt it\n",
      "you think what\n",
      "I think what\n",
      "You know solution\n",
      "you spoiled everything\n",
      "me see it\n",
      "I give greeting\n",
      "you told me\n",
      "you figured the egg out weeks ago\n",
      "I had idea\n",
      "Viktor figured it\n",
      "he watches me\n",
      "he watches study\n",
      "I thanked you\n",
      "you done same\n",
      "You know bathroom\n",
      "I circling drain\n",
      "I saw bit\n",
      "he did what\n",
      "we took what\n",
      "It took ages\n",
      "Harry tell me\n",
      "you held underwater\n",
      "we do this\n",
      "three figure it\n",
      "McGonagall wants you\n",
      "Potter put books\n",
      "who growing trees\n",
      "me breathe underwater\n",
      "you use gillyweed\n",
      "You telling this\n",
      "magic save them\n",
      "I see him\n",
      "I killed Harry Potter\n",
      "she take part\n",
      "Go get towel\n",
      "I want judges\n",
      "You saved her\n",
      "who showed command\n",
      "I heard times\n",
      "I met you\n",
      "I set eyes\n",
      "you remind me\n",
      "we got other\n",
      "Hogwarts Teach something\n",
      "You take action\n",
      "others think what\n",
      "you say What\n",
      "It interest you\n",
      "you accept terms\n",
      "I have names\n",
      "He took piece\n",
      "He passed information\n",
      "I have more\n",
      "I given evidence\n",
      "witness possesses name\n",
      "I heard more\n",
      "person took part\n",
      "you exercise caution\n",
      "you find mind\n",
      "me see things\n",
      "I overlooked something\n",
      "he had choice\n",
      "I had dream\n",
      "I see what\n",
      "it means what\n",
      "drops spill secrets\n",
      "I stolen anything\n",
      "You brewing Polyjuice Potion\n",
      "Moody placed the Triwizard Cup\n",
      "he knows position\n",
      "I instructed staff\n",
      "she send sparks\n",
      "you find dragons\n",
      "you face something\n",
      "you lose yourselves\n",
      "Champions prepare yourselves\n",
      "it get me\n",
      "You saved me\n",
      "you want What\n",
      "I detected sign\n",
      "I assure you\n",
      "I renounced ways\n",
      "I introduce you\n",
      "word has it\n",
      "lies fed legend\n",
      "I lost powers\n",
      "Lily Potter gave life\n",
      "she provided protection\n",
      "I touch him\n",
      "I touch you\n",
      "you forget manners\n",
      "one question powers\n",
      "you turn back\n",
      "I kill you\n",
      "light leave eyes\n",
      "Harry take body\n",
      "He did it\n",
      "he asked me\n",
      "I leave him\n",
      "I got you\n",
      "I got you\n",
      "I take look\n",
      "Someone bewitched it\n",
      "I said anything\n",
      "oaf led you\n",
      "I suggested it\n",
      "Cedric Diggory told you\n",
      "I told him\n",
      "Neville Longbottom provided you\n",
      "I given book\n",
      "that led him\n",
      "You put name\n",
      "You bewitched Krum\n",
      "he reward me\n",
      "We get you\n",
      "I show mine\n",
      "you show yours\n",
      "this means what\n",
      "I help it\n",
      "they missing prisoner\n",
      "I had time\n",
      "you have right\n",
      "me tell this\n",
      "we celebrate boy\n",
      "I liked curtains\n",
      "I put you\n",
      "You saw parents\n",
      "spell reawaken dead\n",
      "you know that\n",
      "we face choice\n",
      "You have friends\n",
      "we have year\n",
      "I disappoint you\n",
      "I give greeting\n",
      "Some had bit\n",
      "that cleared sinuses\n",
      "that cleared shambles\n",
      "Girls choose bunk\n",
      "I love magic\n",
      "he rides wind\n",
      "I love you\n",
      "Irish got pride\n",
      "we lost you\n",
      "Which conjured it\n",
      "I see face\n",
      "I get it\n",
      "who conjured it\n",
      "what worried them\n",
      "you saw what\n",
      "Dumblydorr traveled way\n",
      "horses traveled way\n",
      "they drink whiskey\n",
      "what awaits student\n",
      "who wins Tournament\n",
      "student survive tasks\n",
      "we have head\n",
      "you doing what\n",
      "Anyone write name\n",
      "Dumbledore asked me\n",
      "which tell me\n",
      "curses do what\n",
      "codger see back\n",
      "we see curse\n",
      "dad tell me\n",
      "this show you\n",
      "I have What\n",
      "we sort liars\n",
      "Sprout tells me\n",
      "you have aptitude\n",
      "it bothering him\n",
      "you give Curse\n",
      "you see face\n",
      "We have cup\n",
      "we done it\n",
      "You see this\n",
      "Dumbledore drew it\n",
      "you want piece\n",
      "I tear ears\n",
      "We have champions\n",
      "Only one hoist chalice\n",
      "I tell you\n",
      "you put name\n",
      "you ask one\n",
      "Confundus Charm hoodwinked it\n",
      "The Goblet of Fire constitutes contract\n",
      "Potter has choice\n",
      "you suggest What\n",
      "You heard Barty\n",
      "you accommodate Ministry\n",
      "Alastor keep eye\n",
      "I do that\n",
      "you do it\n",
      "You know bloody\n",
      "I put name\n",
      "I want glory\n",
      "mysteries do mask\n",
      "I use Quill\n",
      "who mastered spells\n",
      "Everyone loves rebel\n",
      "attitude shows need\n",
      "eyes swimming Sirius\n",
      "I have time\n",
      "you put name\n",
      "You mentioned Wormtail\n",
      "You hear name\n",
      "Voldemort giving job\n",
      "you saying What\n",
      "one put name\n",
      "I have clue\n",
      "who put name\n",
      "You have choice\n",
      "I heard voices\n",
      "you imagining things\n",
      "You doing it\n",
      "Moody gave it\n",
      "we had tea\n",
      "me say What\n",
      "Ronald like me\n",
      "you do this\n",
      "you bring cloak\n",
      "I asked you\n",
      "I brought cloak\n",
      "Hagrid combed hair\n",
      "you combed hair\n",
      "you forgotten me\n",
      "Ron tell that\n",
      "He tell thing\n",
      "I have word\n",
      "They got one\n",
      "Ced leave him\n",
      "I asked them\n",
      "you know that\n",
      "father have bet\n",
      "I give damn\n",
      "I give Malfoy\n",
      "father thinks what\n",
      "I teach you\n",
      "you doing What\n",
      "I tell stories\n",
      "that curl hair\n",
      "We use transfiguration\n",
      "Dumbledore told that\n",
      "He mentioned it\n",
      "me keep eye\n",
      "I see whites\n",
      "You believe it\n",
      "he turn whistle\n",
      "They have strategy\n",
      "I heard it\n",
      "Who fancies flutter\n",
      "Each involves danger\n",
      "This minimize risks\n",
      "you make page\n",
      "You have business\n",
      "we wanted what\n",
      "you doing What\n",
      "Which leaves Horntail\n",
      "you do This\n",
      "me open it\n",
      "me open it\n",
      "you done it\n",
      "Everyone saying it\n",
      "me feel loads\n",
      "I warned you\n",
      "Hagrid warned me\n",
      "I told Hermione\n",
      "Seamus told me\n",
      "Parvati told Dean\n",
      "Seamus told anything\n",
      "you figured that\n",
      "Who figure that\n",
      "I believe it\n",
      "Harry Potter's taking blow\n",
      "I told him\n",
      "I get him\n",
      "I get autograph\n",
      "Mum sent something\n",
      "Mum sent dress\n",
      "it match eyes\n",
      "each put foot\n",
      "I mean this\n",
      "I have you\n",
      "you join me\n",
      "him forget this\n",
      "You slayed dragons\n",
      "you get date\n",
      "I take dragon\n",
      "I know her\n",
      "I pick him\n",
      "I started school\n",
      "he take himself\n",
      "It interest you\n",
      "Neville got someone\n",
      ", believe it\n",
      "someone asked me\n",
      "we have partners\n",
      "I catch that\n",
      "He asked Fleur Delacour\n",
      "she say What\n",
      "I like it\n",
      "I help it\n",
      "you do what\n",
      "she tell us\n",
      "we take mickey\n",
      "Nobody asked her\n",
      "I told that\n",
      "Harry take waist\n",
      "who don care\n",
      "I have arm\n",
      "Who wanting autograph\n",
      "it wanting autograph\n",
      "He using you\n",
      "I take care\n",
      "I doubt it\n",
      "you think what\n",
      "I think what\n",
      "You know solution\n",
      "you spoiled everything\n",
      "me see it\n",
      "I give greeting\n",
      "you told me\n",
      "you figured the egg out weeks ago\n",
      "I had idea\n",
      "Viktor figured it\n",
      "he watches me\n",
      "he watches study\n",
      "I thanked you\n",
      "you done same\n",
      "You know bathroom\n",
      "I circling drain\n",
      "I saw bit\n",
      "he did what\n",
      "we took what\n",
      "It took ages\n",
      "Harry tell me\n",
      "you held underwater\n",
      "we do this\n",
      "three figure it\n",
      "McGonagall wants you\n",
      "Potter put books\n",
      "who growing trees\n",
      "me breathe underwater\n",
      "you use gillyweed\n",
      "You telling this\n",
      "magic save them\n",
      "I see him\n",
      "I killed Harry Potter\n",
      "she take part\n",
      "Go get towel\n",
      "I want judges\n",
      "You saved her\n",
      "who showed command\n",
      "I heard times\n",
      "I met you\n",
      "I set eyes\n",
      "you remind me\n",
      "we got other\n",
      "Hogwarts Teach something\n",
      "You take action\n",
      "others think what\n",
      "you say What\n",
      "It interest you\n",
      "you accept terms\n",
      "I have names\n",
      "He took piece\n",
      "He passed information\n",
      "I have more\n",
      "I given evidence\n",
      "witness possesses name\n",
      "I heard more\n",
      "person took part\n",
      "you exercise caution\n",
      "you find mind\n",
      "me see things\n",
      "I overlooked something\n",
      "he had choice\n",
      "I had dream\n",
      "I see what\n",
      "it means what\n",
      "drops spill secrets\n",
      "I stolen anything\n",
      "You brewing Polyjuice Potion\n",
      "Moody placed the Triwizard Cup\n",
      "he knows position\n",
      "I instructed staff\n",
      "she send sparks\n",
      "you find dragons\n",
      "you face something\n",
      "you lose yourselves\n",
      "Champions prepare yourselves\n",
      "it get me\n",
      "You saved me\n",
      "you want What\n",
      "I detected sign\n",
      "I assure you\n",
      "I renounced ways\n",
      "I introduce you\n",
      "word has it\n",
      "lies fed legend\n",
      "I lost powers\n",
      "Lily Potter gave life\n",
      "she provided protection\n",
      "I touch him\n",
      "I touch you\n",
      "you forget manners\n",
      "one question powers\n",
      "you turn back\n",
      "I kill you\n",
      "light leave eyes\n",
      "Harry take body\n",
      "He did it\n",
      "he asked me\n",
      "I leave him\n",
      "I got you\n",
      "I got you\n",
      "I take look\n",
      "Someone bewitched it\n",
      "I said anything\n",
      "oaf led you\n",
      "I suggested it\n",
      "Cedric Diggory told you\n",
      "I told him\n",
      "Neville Longbottom provided you\n",
      "I given book\n",
      "that led him\n",
      "You put name\n",
      "You bewitched Krum\n",
      "he reward me\n",
      "We get you\n",
      "I show mine\n",
      "you show yours\n",
      "this means what\n",
      "I help it\n",
      "they missing prisoner\n",
      "I had time\n",
      "you have right\n",
      "me tell this\n",
      "we celebrate boy\n",
      "I liked curtains\n",
      "I put you\n",
      "You saw parents\n",
      "spell reawaken dead\n",
      "you know that\n",
      "we face choice\n",
      "You have friends\n",
      "we have year\n",
      "I disappoint you\n",
      "I give greeting\n",
      "Some had bit\n",
      "that cleared sinuses\n",
      "that cleared shambles\n",
      "Girls choose bunk\n",
      "I love magic\n",
      "he rides wind\n",
      "I love you\n",
      "Irish got pride\n",
      "we lost you\n",
      "Which conjured it\n",
      "I see face\n",
      "I get it\n",
      "who conjured it\n",
      "what worried them\n",
      "you saw what\n",
      "Dumblydorr traveled way\n",
      "horses traveled way\n",
      "they drink whiskey\n",
      "what awaits student\n",
      "who wins Tournament\n",
      "student survive tasks\n",
      "we have head\n",
      "you doing what\n",
      "Anyone write name\n",
      "Dumbledore asked me\n",
      "which tell me\n",
      "curses do what\n",
      "codger see back\n",
      "we see curse\n",
      "dad tell me\n",
      "this show you\n",
      "I have What\n",
      "we sort liars\n",
      "Sprout tells me\n",
      "you have aptitude\n",
      "it bothering him\n",
      "you give Curse\n",
      "you see face\n",
      "We have cup\n",
      "we done it\n",
      "You see this\n",
      "Dumbledore drew it\n",
      "you want piece\n",
      "I tear ears\n",
      "We have champions\n",
      "Only one hoist chalice\n",
      "I tell you\n",
      "you put name\n",
      "you ask one\n",
      "Confundus Charm hoodwinked it\n",
      "The Goblet of Fire constitutes contract\n",
      "Potter has choice\n",
      "you suggest What\n",
      "You heard Barty\n",
      "you accommodate Ministry\n",
      "Alastor keep eye\n",
      "I do that\n",
      "you do it\n",
      "You know bloody\n",
      "I put name\n",
      "I want glory\n",
      "mysteries do mask\n",
      "I use Quill\n",
      "who mastered spells\n",
      "Everyone loves rebel\n",
      "attitude shows need\n",
      "eyes swimming Sirius\n",
      "I have time\n",
      "you put name\n",
      "You mentioned Wormtail\n",
      "You hear name\n",
      "Voldemort giving job\n",
      "you saying What\n",
      "one put name\n",
      "I have clue\n",
      "who put name\n",
      "You have choice\n",
      "I heard voices\n",
      "you imagining things\n",
      "You doing it\n",
      "Moody gave it\n",
      "we had tea\n",
      "me say What\n",
      "Ronald like me\n",
      "you do this\n",
      "you bring cloak\n",
      "I asked you\n",
      "I brought cloak\n",
      "Hagrid combed hair\n",
      "you combed hair\n",
      "you forgotten me\n",
      "Ron tell that\n",
      "He tell thing\n",
      "I have word\n",
      "They got one\n",
      "Ced leave him\n",
      "I asked them\n",
      "you know that\n",
      "father have bet\n",
      "I give damn\n",
      "I give Malfoy\n",
      "father thinks what\n",
      "I teach you\n",
      "you doing What\n",
      "I tell stories\n",
      "that curl hair\n",
      "We use transfiguration\n",
      "Dumbledore told that\n",
      "He mentioned it\n",
      "me keep eye\n",
      "I see whites\n",
      "You believe it\n",
      "he turn whistle\n",
      "They have strategy\n",
      "I heard it\n",
      "Who fancies flutter\n",
      "Each involves danger\n",
      "This minimize risks\n",
      "you make page\n",
      "You have business\n",
      "we wanted what\n",
      "you doing What\n",
      "Which leaves Horntail\n",
      "you do This\n",
      "me open it\n",
      "me open it\n",
      "you done it\n",
      "Everyone saying it\n",
      "me feel loads\n",
      "I warned you\n",
      "Hagrid warned me\n",
      "I told Hermione\n",
      "Seamus told me\n",
      "Parvati told Dean\n",
      "Seamus told anything\n",
      "you figured that\n",
      "Who figure that\n",
      "I believe it\n",
      "Harry Potter's taking blow\n",
      "I told him\n",
      "I get him\n",
      "I get autograph\n",
      "Mum sent something\n",
      "Mum sent dress\n",
      "it match eyes\n",
      "each put foot\n",
      "I mean this\n",
      "I have you\n",
      "you join me\n",
      "him forget this\n",
      "You slayed dragons\n",
      "you get date\n",
      "I take dragon\n",
      "I know her\n",
      "I pick him\n",
      "I started school\n",
      "he take himself\n",
      "It interest you\n",
      "Neville got someone\n",
      ", believe it\n",
      "someone asked me\n",
      "we have partners\n",
      "I catch that\n",
      "He asked Fleur Delacour\n",
      "she say What\n",
      "I like it\n",
      "I help it\n",
      "you do what\n",
      "she tell us\n",
      "we take mickey\n",
      "Nobody asked her\n",
      "I told that\n",
      "Harry take waist\n",
      "who don care\n",
      "I have arm\n",
      "Who wanting autograph\n",
      "it wanting autograph\n",
      "He using you\n",
      "I take care\n",
      "I doubt it\n",
      "you think what\n",
      "I think what\n",
      "You know solution\n",
      "you spoiled everything\n",
      "me see it\n",
      "I give greeting\n",
      "you told me\n",
      "you figured the egg out weeks ago\n",
      "I had idea\n",
      "Viktor figured it\n",
      "he watches me\n",
      "he watches study\n",
      "I thanked you\n",
      "you done same\n",
      "You know bathroom\n",
      "I circling drain\n",
      "I saw bit\n",
      "he did what\n",
      "we took what\n",
      "It took ages\n",
      "Harry tell me\n",
      "you held underwater\n",
      "we do this\n",
      "three figure it\n",
      "McGonagall wants you\n",
      "Potter put books\n",
      "who growing trees\n",
      "me breathe underwater\n",
      "you use gillyweed\n",
      "You telling this\n",
      "magic save them\n",
      "I see him\n",
      "I killed Harry Potter\n",
      "she take part\n",
      "Go get towel\n",
      "I want judges\n",
      "You saved her\n",
      "who showed command\n",
      "I heard times\n",
      "I met you\n",
      "I set eyes\n",
      "you remind me\n",
      "we got other\n",
      "Hogwarts Teach something\n",
      "You take action\n",
      "others think what\n",
      "you say What\n",
      "It interest you\n",
      "you accept terms\n",
      "I have names\n",
      "He took piece\n",
      "He passed information\n",
      "I have more\n",
      "I given evidence\n",
      "witness possesses name\n",
      "I heard more\n",
      "person took part\n",
      "you exercise caution\n",
      "you find mind\n",
      "me see things\n",
      "I overlooked something\n",
      "he had choice\n",
      "I had dream\n",
      "I see what\n",
      "it means what\n",
      "drops spill secrets\n",
      "I stolen anything\n",
      "You brewing Polyjuice Potion\n",
      "Moody placed the Triwizard Cup\n",
      "he knows position\n",
      "I instructed staff\n",
      "she send sparks\n",
      "you find dragons\n",
      "you face something\n",
      "you lose yourselves\n",
      "Champions prepare yourselves\n",
      "it get me\n",
      "You saved me\n",
      "you want What\n",
      "I detected sign\n",
      "I assure you\n",
      "I renounced ways\n",
      "I introduce you\n",
      "word has it\n",
      "lies fed legend\n",
      "I lost powers\n",
      "Lily Potter gave life\n",
      "she provided protection\n",
      "I touch him\n",
      "I touch you\n",
      "you forget manners\n",
      "one question powers\n",
      "you turn back\n",
      "I kill you\n",
      "light leave eyes\n",
      "Harry take body\n",
      "He did it\n",
      "he asked me\n",
      "I leave him\n",
      "I got you\n",
      "I got you\n",
      "I take look\n",
      "Someone bewitched it\n",
      "I said anything\n",
      "oaf led you\n",
      "I suggested it\n",
      "Cedric Diggory told you\n",
      "I told him\n",
      "Neville Longbottom provided you\n",
      "I given book\n",
      "that led him\n",
      "You put name\n",
      "You bewitched Krum\n",
      "he reward me\n",
      "We get you\n",
      "I show mine\n",
      "you show yours\n",
      "this means what\n",
      "I help it\n",
      "they missing prisoner\n",
      "I had time\n",
      "you have right\n",
      "me tell this\n",
      "we celebrate boy\n",
      "I liked curtains\n",
      "I put you\n",
      "You saw parents\n",
      "spell reawaken dead\n",
      "you know that\n",
      "we face choice\n",
      "You have friends\n",
      "we have year\n",
      "I disappoint you\n",
      "I give greeting\n",
      "Some had bit\n",
      "that cleared sinuses\n",
      "that cleared shambles\n",
      "Girls choose bunk\n",
      "I love magic\n",
      "he rides wind\n",
      "I love you\n",
      "Irish got pride\n",
      "we lost you\n",
      "Which conjured it\n",
      "I see face\n",
      "I get it\n",
      "who conjured it\n",
      "what worried them\n",
      "you saw what\n",
      "Dumblydorr traveled way\n",
      "horses traveled way\n",
      "they drink whiskey\n",
      "what awaits student\n",
      "who wins Tournament\n",
      "student survive tasks\n",
      "we have head\n",
      "you doing what\n",
      "Anyone write name\n",
      "Dumbledore asked me\n",
      "which tell me\n",
      "curses do what\n",
      "codger see back\n",
      "we see curse\n",
      "dad tell me\n",
      "this show you\n",
      "I have What\n",
      "we sort liars\n",
      "Sprout tells me\n",
      "you have aptitude\n",
      "it bothering him\n",
      "you give Curse\n",
      "you see face\n",
      "We have cup\n",
      "we done it\n",
      "You see this\n",
      "Dumbledore drew it\n",
      "you want piece\n",
      "I tear ears\n",
      "We have champions\n",
      "Only one hoist chalice\n",
      "I tell you\n",
      "you put name\n",
      "you ask one\n",
      "Confundus Charm hoodwinked it\n",
      "The Goblet of Fire constitutes contract\n",
      "Potter has choice\n",
      "you suggest What\n",
      "You heard Barty\n",
      "you accommodate Ministry\n",
      "Alastor keep eye\n",
      "I do that\n",
      "you do it\n",
      "You know bloody\n",
      "I put name\n",
      "I want glory\n",
      "mysteries do mask\n",
      "I use Quill\n",
      "who mastered spells\n",
      "Everyone loves rebel\n",
      "attitude shows need\n",
      "eyes swimming Sirius\n",
      "I have time\n",
      "you put name\n",
      "You mentioned Wormtail\n",
      "You hear name\n",
      "Voldemort giving job\n",
      "you saying What\n",
      "one put name\n",
      "I have clue\n",
      "who put name\n",
      "You have choice\n",
      "I heard voices\n",
      "you imagining things\n",
      "You doing it\n",
      "Moody gave it\n",
      "we had tea\n",
      "me say What\n",
      "Ronald like me\n",
      "you do this\n",
      "you bring cloak\n",
      "I asked you\n",
      "I brought cloak\n",
      "Hagrid combed hair\n",
      "you combed hair\n",
      "you forgotten me\n",
      "Ron tell that\n",
      "He tell thing\n",
      "I have word\n",
      "They got one\n",
      "Ced leave him\n",
      "I asked them\n",
      "you know that\n",
      "father have bet\n",
      "I give damn\n",
      "I give Malfoy\n",
      "father thinks what\n",
      "I teach you\n",
      "you doing What\n",
      "I tell stories\n",
      "that curl hair\n",
      "We use transfiguration\n",
      "Dumbledore told that\n",
      "He mentioned it\n",
      "me keep eye\n",
      "I see whites\n",
      "You believe it\n",
      "he turn whistle\n",
      "They have strategy\n",
      "I heard it\n",
      "Who fancies flutter\n",
      "Each involves danger\n",
      "This minimize risks\n",
      "you make page\n",
      "You have business\n",
      "we wanted what\n",
      "you doing What\n",
      "Which leaves Horntail\n",
      "you do This\n",
      "me open it\n",
      "me open it\n",
      "you done it\n",
      "Everyone saying it\n",
      "me feel loads\n",
      "I warned you\n",
      "Hagrid warned me\n",
      "I told Hermione\n",
      "Seamus told me\n",
      "Parvati told Dean\n",
      "Seamus told anything\n",
      "you figured that\n",
      "Who figure that\n",
      "I believe it\n",
      "Harry Potter's taking blow\n",
      "I told him\n",
      "I get him\n",
      "I get autograph\n",
      "Mum sent something\n",
      "Mum sent dress\n",
      "it match eyes\n",
      "each put foot\n",
      "I mean this\n",
      "I have you\n",
      "you join me\n",
      "him forget this\n",
      "You slayed dragons\n",
      "you get date\n",
      "I take dragon\n",
      "I know her\n",
      "I pick him\n",
      "I started school\n",
      "he take himself\n",
      "It interest you\n",
      "Neville got someone\n",
      ", believe it\n",
      "someone asked me\n",
      "we have partners\n",
      "I catch that\n",
      "He asked Fleur Delacour\n",
      "she say What\n",
      "I like it\n",
      "I help it\n",
      "you do what\n",
      "she tell us\n",
      "we take mickey\n",
      "Nobody asked her\n",
      "I told that\n",
      "Harry take waist\n",
      "who don care\n",
      "I have arm\n",
      "Who wanting autograph\n",
      "it wanting autograph\n",
      "He using you\n",
      "I take care\n",
      "I doubt it\n",
      "you think what\n",
      "I think what\n",
      "You know solution\n",
      "you spoiled everything\n",
      "me see it\n",
      "I give greeting\n",
      "you told me\n",
      "you figured the egg out weeks ago\n",
      "I had idea\n",
      "Viktor figured it\n",
      "he watches me\n",
      "he watches study\n",
      "I thanked you\n",
      "you done same\n",
      "You know bathroom\n",
      "I circling drain\n",
      "I saw bit\n",
      "he did what\n",
      "we took what\n",
      "It took ages\n",
      "Harry tell me\n",
      "you held underwater\n",
      "we do this\n",
      "three figure it\n",
      "McGonagall wants you\n",
      "Potter put books\n",
      "who growing trees\n",
      "me breathe underwater\n",
      "you use gillyweed\n",
      "You telling this\n",
      "magic save them\n",
      "I see him\n",
      "I killed Harry Potter\n",
      "she take part\n",
      "Go get towel\n",
      "I want judges\n",
      "You saved her\n",
      "who showed command\n",
      "I heard times\n",
      "I met you\n",
      "I set eyes\n",
      "you remind me\n",
      "we got other\n",
      "Hogwarts Teach something\n",
      "You take action\n",
      "others think what\n",
      "you say What\n",
      "It interest you\n",
      "you accept terms\n",
      "I have names\n",
      "He took piece\n",
      "He passed information\n",
      "I have more\n",
      "I given evidence\n",
      "witness possesses name\n",
      "I heard more\n",
      "person took part\n",
      "you exercise caution\n",
      "you find mind\n",
      "me see things\n",
      "I overlooked something\n",
      "he had choice\n",
      "I had dream\n",
      "I see what\n",
      "it means what\n",
      "drops spill secrets\n",
      "I stolen anything\n",
      "You brewing Polyjuice Potion\n",
      "Moody placed the Triwizard Cup\n",
      "he knows position\n",
      "I instructed staff\n",
      "she send sparks\n",
      "you find dragons\n",
      "you face something\n",
      "you lose yourselves\n",
      "Champions prepare yourselves\n",
      "it get me\n",
      "You saved me\n",
      "you want What\n",
      "I detected sign\n",
      "I assure you\n",
      "I renounced ways\n",
      "I introduce you\n",
      "word has it\n",
      "lies fed legend\n",
      "I lost powers\n",
      "Lily Potter gave life\n",
      "she provided protection\n",
      "I touch him\n",
      "I touch you\n",
      "you forget manners\n",
      "one question powers\n",
      "you turn back\n",
      "I kill you\n",
      "light leave eyes\n",
      "Harry take body\n",
      "He did it\n",
      "he asked me\n",
      "I leave him\n",
      "I got you\n",
      "I got you\n",
      "I take look\n",
      "Someone bewitched it\n",
      "I said anything\n",
      "oaf led you\n",
      "I suggested it\n",
      "Cedric Diggory told you\n",
      "I told him\n",
      "Neville Longbottom provided you\n",
      "I given book\n",
      "that led him\n",
      "You put name\n",
      "You bewitched Krum\n",
      "he reward me\n",
      "We get you\n",
      "I show mine\n",
      "you show yours\n",
      "this means what\n",
      "I help it\n",
      "they missing prisoner\n",
      "I had time\n",
      "you have right\n",
      "me tell this\n",
      "we celebrate boy\n",
      "I liked curtains\n",
      "I put you\n",
      "You saw parents\n",
      "spell reawaken dead\n",
      "you know that\n",
      "we face choice\n",
      "You have friends\n",
      "we have year\n",
      "I disappoint you\n",
      "I give greeting\n",
      "Some had bit\n",
      "that cleared sinuses\n",
      "that cleared shambles\n",
      "Girls choose bunk\n",
      "I love magic\n",
      "he rides wind\n",
      "I love you\n",
      "Irish got pride\n",
      "we lost you\n",
      "Which conjured it\n",
      "I see face\n",
      "I get it\n",
      "who conjured it\n",
      "what worried them\n",
      "you saw what\n",
      "Dumblydorr traveled way\n",
      "horses traveled way\n",
      "they drink whiskey\n",
      "what awaits student\n",
      "who wins Tournament\n",
      "student survive tasks\n",
      "we have head\n",
      "you doing what\n",
      "Anyone write name\n",
      "Dumbledore asked me\n",
      "which tell me\n",
      "curses do what\n",
      "codger see back\n",
      "we see curse\n",
      "dad tell me\n",
      "this show you\n",
      "I have What\n",
      "we sort liars\n",
      "Sprout tells me\n",
      "you have aptitude\n",
      "it bothering him\n",
      "you give Curse\n",
      "you see face\n",
      "We have cup\n",
      "we done it\n",
      "You see this\n",
      "Dumbledore drew it\n",
      "you want piece\n",
      "I tear ears\n",
      "We have champions\n",
      "Only one hoist chalice\n",
      "I tell you\n",
      "you put name\n",
      "you ask one\n",
      "Confundus Charm hoodwinked it\n",
      "The Goblet of Fire constitutes contract\n",
      "Potter has choice\n",
      "you suggest What\n",
      "You heard Barty\n",
      "you accommodate Ministry\n",
      "Alastor keep eye\n",
      "I do that\n",
      "you do it\n",
      "You know bloody\n",
      "I put name\n",
      "I want glory\n",
      "mysteries do mask\n",
      "I use Quill\n",
      "who mastered spells\n",
      "Everyone loves rebel\n",
      "attitude shows need\n",
      "eyes swimming Sirius\n",
      "I have time\n",
      "you put name\n",
      "You mentioned Wormtail\n",
      "You hear name\n",
      "Voldemort giving job\n",
      "you saying What\n",
      "one put name\n",
      "I have clue\n",
      "who put name\n",
      "You have choice\n",
      "I heard voices\n",
      "you imagining things\n",
      "You doing it\n",
      "Moody gave it\n",
      "we had tea\n",
      "me say What\n",
      "Ronald like me\n",
      "you do this\n",
      "you bring cloak\n",
      "I asked you\n",
      "I brought cloak\n",
      "Hagrid combed hair\n",
      "you combed hair\n",
      "you forgotten me\n",
      "Ron tell that\n",
      "He tell thing\n",
      "I have word\n",
      "They got one\n",
      "Ced leave him\n",
      "I asked them\n",
      "you know that\n",
      "father have bet\n",
      "I give damn\n",
      "I give Malfoy\n",
      "father thinks what\n",
      "I teach you\n",
      "you doing What\n",
      "I tell stories\n",
      "that curl hair\n",
      "We use transfiguration\n",
      "Dumbledore told that\n",
      "He mentioned it\n",
      "me keep eye\n",
      "I see whites\n",
      "You believe it\n",
      "he turn whistle\n",
      "They have strategy\n",
      "I heard it\n",
      "Who fancies flutter\n",
      "Each involves danger\n",
      "This minimize risks\n",
      "you make page\n",
      "You have business\n",
      "we wanted what\n",
      "you doing What\n",
      "Which leaves Horntail\n",
      "you do This\n",
      "me open it\n",
      "me open it\n",
      "you done it\n",
      "Everyone saying it\n",
      "me feel loads\n",
      "I warned you\n",
      "Hagrid warned me\n",
      "I told Hermione\n",
      "Seamus told me\n",
      "Parvati told Dean\n",
      "Seamus told anything\n",
      "you figured that\n",
      "Who figure that\n",
      "I believe it\n",
      "Harry Potter's taking blow\n",
      "I told him\n",
      "I get him\n",
      "I get autograph\n",
      "Mum sent something\n",
      "Mum sent dress\n",
      "it match eyes\n",
      "each put foot\n",
      "I mean this\n",
      "I have you\n",
      "you join me\n",
      "him forget this\n",
      "You slayed dragons\n",
      "you get date\n",
      "I take dragon\n",
      "I know her\n",
      "I pick him\n",
      "I started school\n",
      "he take himself\n",
      "It interest you\n",
      "Neville got someone\n",
      ", believe it\n",
      "someone asked me\n",
      "we have partners\n",
      "I catch that\n",
      "He asked Fleur Delacour\n",
      "she say What\n",
      "I like it\n",
      "I help it\n",
      "you do what\n",
      "she tell us\n",
      "we take mickey\n",
      "Nobody asked her\n",
      "I told that\n",
      "Harry take waist\n",
      "who don care\n",
      "I have arm\n",
      "Who wanting autograph\n",
      "it wanting autograph\n",
      "He using you\n",
      "I take care\n",
      "I doubt it\n",
      "you think what\n",
      "I think what\n",
      "You know solution\n",
      "you spoiled everything\n",
      "me see it\n",
      "I give greeting\n",
      "you told me\n",
      "you figured the egg out weeks ago\n",
      "I had idea\n",
      "Viktor figured it\n",
      "he watches me\n",
      "he watches study\n",
      "I thanked you\n",
      "you done same\n",
      "You know bathroom\n",
      "I circling drain\n",
      "I saw bit\n",
      "he did what\n",
      "we took what\n",
      "It took ages\n",
      "Harry tell me\n",
      "you held underwater\n",
      "we do this\n",
      "three figure it\n",
      "McGonagall wants you\n",
      "Potter put books\n",
      "who growing trees\n",
      "me breathe underwater\n",
      "you use gillyweed\n",
      "You telling this\n",
      "magic save them\n",
      "I see him\n",
      "I killed Harry Potter\n",
      "she take part\n",
      "Go get towel\n",
      "I want judges\n",
      "You saved her\n",
      "who showed command\n",
      "I heard times\n",
      "I met you\n",
      "I set eyes\n",
      "you remind me\n",
      "we got other\n",
      "Hogwarts Teach something\n",
      "You take action\n",
      "others think what\n",
      "you say What\n",
      "It interest you\n",
      "you accept terms\n",
      "I have names\n",
      "He took piece\n",
      "He passed information\n",
      "I have more\n",
      "I given evidence\n",
      "witness possesses name\n",
      "I heard more\n",
      "person took part\n",
      "you exercise caution\n",
      "you find mind\n",
      "me see things\n",
      "I overlooked something\n",
      "he had choice\n",
      "I had dream\n",
      "I see what\n",
      "it means what\n",
      "drops spill secrets\n",
      "I stolen anything\n",
      "You brewing Polyjuice Potion\n",
      "Moody placed the Triwizard Cup\n",
      "he knows position\n",
      "I instructed staff\n",
      "she send sparks\n",
      "you find dragons\n",
      "you face something\n",
      "you lose yourselves\n",
      "Champions prepare yourselves\n",
      "it get me\n",
      "You saved me\n",
      "you want What\n",
      "I detected sign\n",
      "I assure you\n",
      "I renounced ways\n",
      "I introduce you\n",
      "word has it\n",
      "lies fed legend\n",
      "I lost powers\n",
      "Lily Potter gave life\n",
      "she provided protection\n",
      "I touch him\n",
      "I touch you\n",
      "you forget manners\n",
      "one question powers\n",
      "you turn back\n",
      "I kill you\n",
      "light leave eyes\n",
      "Harry take body\n",
      "He did it\n",
      "he asked me\n",
      "I leave him\n",
      "I got you\n",
      "I got you\n",
      "I take look\n",
      "Someone bewitched it\n",
      "I said anything\n",
      "oaf led you\n",
      "I suggested it\n",
      "Cedric Diggory told you\n",
      "I told him\n",
      "Neville Longbottom provided you\n",
      "I given book\n",
      "that led him\n",
      "You put name\n",
      "You bewitched Krum\n",
      "he reward me\n",
      "We get you\n",
      "I show mine\n",
      "you show yours\n",
      "this means what\n",
      "I help it\n",
      "they missing prisoner\n",
      "I had time\n",
      "you have right\n",
      "me tell this\n",
      "we celebrate boy\n",
      "I liked curtains\n",
      "I put you\n",
      "You saw parents\n",
      "spell reawaken dead\n",
      "you know that\n",
      "we face choice\n",
      "You have friends\n",
      "we have year\n",
      "I disappoint you\n",
      "I give greeting\n",
      "Some had bit\n",
      "that cleared sinuses\n",
      "that cleared shambles\n",
      "Girls choose bunk\n",
      "I love magic\n",
      "he rides wind\n",
      "I love you\n",
      "Irish got pride\n",
      "we lost you\n",
      "Which conjured it\n",
      "I see face\n",
      "I get it\n",
      "who conjured it\n",
      "what worried them\n",
      "you saw what\n",
      "Dumblydorr traveled way\n",
      "horses traveled way\n",
      "they drink whiskey\n",
      "what awaits student\n",
      "who wins Tournament\n",
      "student survive tasks\n",
      "we have head\n",
      "you doing what\n",
      "Anyone write name\n",
      "Dumbledore asked me\n",
      "which tell me\n",
      "curses do what\n",
      "codger see back\n",
      "we see curse\n",
      "dad tell me\n",
      "this show you\n",
      "I have What\n",
      "we sort liars\n",
      "Sprout tells me\n",
      "you have aptitude\n",
      "it bothering him\n",
      "you give Curse\n",
      "you see face\n",
      "We have cup\n",
      "we done it\n",
      "You see this\n",
      "Dumbledore drew it\n",
      "you want piece\n",
      "I tear ears\n",
      "We have champions\n",
      "Only one hoist chalice\n",
      "I tell you\n",
      "you put name\n",
      "you ask one\n",
      "Confundus Charm hoodwinked it\n",
      "The Goblet of Fire constitutes contract\n",
      "Potter has choice\n",
      "you suggest What\n",
      "You heard Barty\n",
      "you accommodate Ministry\n",
      "Alastor keep eye\n",
      "I do that\n",
      "you do it\n",
      "You know bloody\n",
      "I put name\n",
      "I want glory\n",
      "mysteries do mask\n",
      "I use Quill\n",
      "who mastered spells\n",
      "Everyone loves rebel\n",
      "attitude shows need\n",
      "eyes swimming Sirius\n",
      "I have time\n",
      "you put name\n",
      "You mentioned Wormtail\n",
      "You hear name\n",
      "Voldemort giving job\n",
      "you saying What\n",
      "one put name\n",
      "I have clue\n",
      "who put name\n",
      "You have choice\n",
      "I heard voices\n",
      "you imagining things\n",
      "You doing it\n",
      "Moody gave it\n",
      "we had tea\n",
      "me say What\n",
      "Ronald like me\n",
      "you do this\n",
      "you bring cloak\n",
      "I asked you\n",
      "I brought cloak\n",
      "Hagrid combed hair\n",
      "you combed hair\n",
      "you forgotten me\n",
      "Ron tell that\n",
      "He tell thing\n",
      "I have word\n",
      "They got one\n",
      "Ced leave him\n",
      "I asked them\n",
      "you know that\n",
      "father have bet\n",
      "I give damn\n",
      "I give Malfoy\n",
      "father thinks what\n",
      "I teach you\n",
      "you doing What\n",
      "I tell stories\n",
      "that curl hair\n",
      "We use transfiguration\n",
      "Dumbledore told that\n",
      "He mentioned it\n",
      "me keep eye\n",
      "I see whites\n",
      "You believe it\n",
      "he turn whistle\n",
      "They have strategy\n",
      "I heard it\n",
      "Who fancies flutter\n",
      "Each involves danger\n",
      "This minimize risks\n",
      "you make page\n",
      "You have business\n",
      "we wanted what\n",
      "you doing What\n",
      "Which leaves Horntail\n",
      "you do This\n",
      "me open it\n",
      "me open it\n",
      "you done it\n",
      "Everyone saying it\n",
      "me feel loads\n",
      "I warned you\n",
      "Hagrid warned me\n",
      "I told Hermione\n",
      "Seamus told me\n",
      "Parvati told Dean\n",
      "Seamus told anything\n",
      "you figured that\n",
      "Who figure that\n",
      "I believe it\n",
      "Harry Potter's taking blow\n",
      "I told him\n",
      "I get him\n",
      "I get autograph\n",
      "Mum sent something\n",
      "Mum sent dress\n",
      "it match eyes\n",
      "each put foot\n",
      "I mean this\n",
      "I have you\n",
      "you join me\n",
      "him forget this\n",
      "You slayed dragons\n",
      "you get date\n",
      "I take dragon\n",
      "I know her\n",
      "I pick him\n",
      "I started school\n",
      "he take himself\n",
      "It interest you\n",
      "Neville got someone\n",
      ", believe it\n",
      "someone asked me\n",
      "we have partners\n",
      "I catch that\n",
      "He asked Fleur Delacour\n",
      "she say What\n",
      "I like it\n",
      "I help it\n",
      "you do what\n",
      "she tell us\n",
      "we take mickey\n",
      "Nobody asked her\n",
      "I told that\n",
      "Harry take waist\n",
      "who don care\n",
      "I have arm\n",
      "Who wanting autograph\n",
      "it wanting autograph\n",
      "He using you\n",
      "I take care\n",
      "I doubt it\n",
      "you think what\n",
      "I think what\n",
      "You know solution\n",
      "you spoiled everything\n",
      "me see it\n",
      "I give greeting\n",
      "you told me\n",
      "you figured the egg out weeks ago\n",
      "I had idea\n",
      "Viktor figured it\n",
      "he watches me\n",
      "he watches study\n",
      "I thanked you\n",
      "you done same\n",
      "You know bathroom\n",
      "I circling drain\n",
      "I saw bit\n",
      "he did what\n",
      "we took what\n",
      "It took ages\n",
      "Harry tell me\n",
      "you held underwater\n",
      "we do this\n",
      "three figure it\n",
      "McGonagall wants you\n",
      "Potter put books\n",
      "who growing trees\n",
      "me breathe underwater\n",
      "you use gillyweed\n",
      "You telling this\n",
      "magic save them\n",
      "I see him\n",
      "I killed Harry Potter\n",
      "she take part\n",
      "Go get towel\n",
      "I want judges\n",
      "You saved her\n",
      "who showed command\n",
      "I heard times\n",
      "I met you\n",
      "I set eyes\n",
      "you remind me\n",
      "we got other\n",
      "Hogwarts Teach something\n",
      "You take action\n",
      "others think what\n",
      "you say What\n",
      "It interest you\n",
      "you accept terms\n",
      "I have names\n",
      "He took piece\n",
      "He passed information\n",
      "I have more\n",
      "I given evidence\n",
      "witness possesses name\n",
      "I heard more\n",
      "person took part\n",
      "you exercise caution\n",
      "you find mind\n",
      "me see things\n",
      "I overlooked something\n",
      "he had choice\n",
      "I had dream\n",
      "I see what\n",
      "it means what\n",
      "drops spill secrets\n",
      "I stolen anything\n",
      "You brewing Polyjuice Potion\n",
      "Moody placed the Triwizard Cup\n",
      "he knows position\n",
      "I instructed staff\n",
      "she send sparks\n",
      "you find dragons\n",
      "you face something\n",
      "you lose yourselves\n",
      "Champions prepare yourselves\n",
      "it get me\n",
      "You saved me\n",
      "you want What\n",
      "I detected sign\n",
      "I assure you\n",
      "I renounced ways\n",
      "I introduce you\n",
      "word has it\n",
      "lies fed legend\n",
      "I lost powers\n",
      "Lily Potter gave life\n",
      "she provided protection\n",
      "I touch him\n",
      "I touch you\n",
      "you forget manners\n",
      "one question powers\n",
      "you turn back\n",
      "I kill you\n",
      "light leave eyes\n",
      "Harry take body\n",
      "He did it\n",
      "he asked me\n",
      "I leave him\n",
      "I got you\n",
      "I got you\n",
      "I take look\n",
      "Someone bewitched it\n",
      "I said anything\n",
      "oaf led you\n",
      "I suggested it\n",
      "Cedric Diggory told you\n",
      "I told him\n",
      "Neville Longbottom provided you\n",
      "I given book\n",
      "that led him\n",
      "You put name\n",
      "You bewitched Krum\n",
      "he reward me\n",
      "We get you\n",
      "I show mine\n",
      "you show yours\n",
      "this means what\n",
      "I help it\n",
      "they missing prisoner\n",
      "I had time\n",
      "you have right\n",
      "me tell this\n",
      "we celebrate boy\n",
      "I liked curtains\n",
      "I put you\n",
      "You saw parents\n",
      "spell reawaken dead\n",
      "you know that\n",
      "we face choice\n",
      "You have friends\n",
      "we have year\n",
      "I disappoint you\n",
      "I give greeting\n",
      "Some had bit\n",
      "that cleared sinuses\n",
      "that cleared shambles\n",
      "Girls choose bunk\n",
      "I love magic\n",
      "he rides wind\n",
      "I love you\n",
      "Irish got pride\n",
      "we lost you\n",
      "Which conjured it\n",
      "I see face\n",
      "I get it\n",
      "who conjured it\n",
      "what worried them\n",
      "you saw what\n",
      "Dumblydorr traveled way\n",
      "horses traveled way\n",
      "they drink whiskey\n",
      "what awaits student\n",
      "who wins Tournament\n",
      "student survive tasks\n",
      "we have head\n",
      "you doing what\n",
      "Anyone write name\n",
      "Dumbledore asked me\n",
      "which tell me\n",
      "curses do what\n",
      "codger see back\n",
      "we see curse\n",
      "dad tell me\n",
      "this show you\n",
      "I have What\n",
      "we sort liars\n",
      "Sprout tells me\n",
      "you have aptitude\n",
      "it bothering him\n",
      "you give Curse\n",
      "you see face\n",
      "We have cup\n",
      "we done it\n",
      "You see this\n",
      "Dumbledore drew it\n",
      "you want piece\n",
      "I tear ears\n",
      "We have champions\n",
      "Only one hoist chalice\n",
      "I tell you\n",
      "you put name\n",
      "you ask one\n",
      "Confundus Charm hoodwinked it\n",
      "The Goblet of Fire constitutes contract\n",
      "Potter has choice\n",
      "you suggest What\n",
      "You heard Barty\n",
      "you accommodate Ministry\n",
      "Alastor keep eye\n",
      "I do that\n",
      "you do it\n",
      "You know bloody\n",
      "I put name\n",
      "I want glory\n",
      "mysteries do mask\n",
      "I use Quill\n",
      "who mastered spells\n",
      "Everyone loves rebel\n",
      "attitude shows need\n",
      "eyes swimming Sirius\n",
      "I have time\n",
      "you put name\n",
      "You mentioned Wormtail\n",
      "You hear name\n",
      "Voldemort giving job\n",
      "you saying What\n",
      "one put name\n",
      "I have clue\n",
      "who put name\n",
      "You have choice\n",
      "I heard voices\n",
      "you imagining things\n",
      "You doing it\n",
      "Moody gave it\n",
      "we had tea\n",
      "me say What\n",
      "Ronald like me\n",
      "you do this\n",
      "you bring cloak\n",
      "I asked you\n",
      "I brought cloak\n",
      "Hagrid combed hair\n",
      "you combed hair\n",
      "you forgotten me\n",
      "Ron tell that\n",
      "He tell thing\n",
      "I have word\n",
      "They got one\n",
      "Ced leave him\n",
      "I asked them\n",
      "you know that\n",
      "father have bet\n",
      "I give damn\n",
      "I give Malfoy\n",
      "father thinks what\n",
      "I teach you\n",
      "you doing What\n",
      "I tell stories\n",
      "that curl hair\n",
      "We use transfiguration\n",
      "Dumbledore told that\n",
      "He mentioned it\n",
      "me keep eye\n",
      "I see whites\n",
      "You believe it\n",
      "he turn whistle\n",
      "They have strategy\n",
      "I heard it\n",
      "Who fancies flutter\n",
      "Each involves danger\n",
      "This minimize risks\n",
      "you make page\n",
      "You have business\n",
      "we wanted what\n",
      "you doing What\n",
      "Which leaves Horntail\n",
      "you do This\n",
      "me open it\n",
      "me open it\n",
      "you done it\n",
      "Everyone saying it\n",
      "me feel loads\n",
      "I warned you\n",
      "Hagrid warned me\n",
      "I told Hermione\n",
      "Seamus told me\n",
      "Parvati told Dean\n",
      "Seamus told anything\n",
      "you figured that\n",
      "Who figure that\n",
      "I believe it\n",
      "Harry Potter's taking blow\n",
      "I told him\n",
      "I get him\n",
      "I get autograph\n",
      "Mum sent something\n",
      "Mum sent dress\n",
      "it match eyes\n",
      "each put foot\n",
      "I mean this\n",
      "I have you\n",
      "you join me\n",
      "him forget this\n",
      "You slayed dragons\n",
      "you get date\n",
      "I take dragon\n",
      "I know her\n",
      "I pick him\n",
      "I started school\n",
      "he take himself\n",
      "It interest you\n",
      "Neville got someone\n",
      ", believe it\n",
      "someone asked me\n",
      "we have partners\n",
      "I catch that\n",
      "He asked Fleur Delacour\n",
      "she say What\n",
      "I like it\n",
      "I help it\n",
      "you do what\n",
      "she tell us\n",
      "we take mickey\n",
      "Nobody asked her\n",
      "I told that\n",
      "Harry take waist\n",
      "who don care\n",
      "I have arm\n",
      "Who wanting autograph\n",
      "it wanting autograph\n",
      "He using you\n",
      "I take care\n",
      "I doubt it\n",
      "you think what\n",
      "I think what\n",
      "You know solution\n",
      "you spoiled everything\n",
      "me see it\n",
      "I give greeting\n",
      "you told me\n",
      "you figured the egg out weeks ago\n",
      "I had idea\n",
      "Viktor figured it\n",
      "he watches me\n",
      "he watches study\n",
      "I thanked you\n",
      "you done same\n",
      "You know bathroom\n",
      "I circling drain\n",
      "I saw bit\n",
      "he did what\n",
      "we took what\n",
      "It took ages\n",
      "Harry tell me\n",
      "you held underwater\n",
      "we do this\n",
      "three figure it\n",
      "McGonagall wants you\n",
      "Potter put books\n",
      "who growing trees\n",
      "me breathe underwater\n",
      "you use gillyweed\n",
      "You telling this\n",
      "magic save them\n",
      "I see him\n",
      "I killed Harry Potter\n",
      "she take part\n",
      "Go get towel\n",
      "I want judges\n",
      "You saved her\n",
      "who showed command\n",
      "I heard times\n",
      "I met you\n",
      "I set eyes\n",
      "you remind me\n",
      "we got other\n",
      "Hogwarts Teach something\n",
      "You take action\n",
      "others think what\n",
      "you say What\n",
      "It interest you\n",
      "you accept terms\n",
      "I have names\n",
      "He took piece\n",
      "He passed information\n",
      "I have more\n",
      "I given evidence\n",
      "witness possesses name\n",
      "I heard more\n",
      "person took part\n",
      "you exercise caution\n",
      "you find mind\n",
      "me see things\n",
      "I overlooked something\n",
      "he had choice\n",
      "I had dream\n",
      "I see what\n",
      "it means what\n",
      "drops spill secrets\n",
      "I stolen anything\n",
      "You brewing Polyjuice Potion\n",
      "Moody placed the Triwizard Cup\n",
      "he knows position\n",
      "I instructed staff\n",
      "she send sparks\n",
      "you find dragons\n",
      "you face something\n",
      "you lose yourselves\n",
      "Champions prepare yourselves\n",
      "it get me\n",
      "You saved me\n",
      "you want What\n",
      "I detected sign\n",
      "I assure you\n",
      "I renounced ways\n",
      "I introduce you\n",
      "word has it\n",
      "lies fed legend\n",
      "I lost powers\n",
      "Lily Potter gave life\n",
      "she provided protection\n",
      "I touch him\n",
      "I touch you\n",
      "you forget manners\n",
      "one question powers\n",
      "you turn back\n",
      "I kill you\n",
      "light leave eyes\n",
      "Harry take body\n",
      "He did it\n",
      "he asked me\n",
      "I leave him\n",
      "I got you\n",
      "I got you\n",
      "I take look\n",
      "Someone bewitched it\n",
      "I said anything\n",
      "oaf led you\n",
      "I suggested it\n",
      "Cedric Diggory told you\n",
      "I told him\n",
      "Neville Longbottom provided you\n",
      "I given book\n",
      "that led him\n",
      "You put name\n",
      "You bewitched Krum\n",
      "he reward me\n",
      "We get you\n",
      "I show mine\n",
      "you show yours\n",
      "this means what\n",
      "I help it\n",
      "they missing prisoner\n",
      "I had time\n",
      "you have right\n",
      "me tell this\n",
      "we celebrate boy\n",
      "I liked curtains\n",
      "I put you\n",
      "You saw parents\n",
      "spell reawaken dead\n",
      "you know that\n",
      "we face choice\n",
      "You have friends\n",
      "we have year\n",
      "I disappoint you\n",
      "I give greeting\n",
      "Some had bit\n",
      "that cleared sinuses\n",
      "that cleared shambles\n",
      "Girls choose bunk\n",
      "I love magic\n",
      "he rides wind\n",
      "I love you\n",
      "Irish got pride\n",
      "we lost you\n",
      "Which conjured it\n",
      "I see face\n",
      "I get it\n",
      "who conjured it\n",
      "what worried them\n",
      "you saw what\n",
      "Dumblydorr traveled way\n",
      "horses traveled way\n",
      "they drink whiskey\n",
      "what awaits student\n",
      "who wins Tournament\n",
      "student survive tasks\n",
      "we have head\n",
      "you doing what\n",
      "Anyone write name\n",
      "Dumbledore asked me\n",
      "which tell me\n",
      "curses do what\n",
      "codger see back\n",
      "we see curse\n",
      "dad tell me\n",
      "this show you\n",
      "I have What\n",
      "we sort liars\n",
      "Sprout tells me\n",
      "you have aptitude\n",
      "it bothering him\n",
      "you give Curse\n",
      "you see face\n",
      "We have cup\n",
      "we done it\n",
      "You see this\n",
      "Dumbledore drew it\n",
      "you want piece\n",
      "I tear ears\n",
      "We have champions\n",
      "Only one hoist chalice\n",
      "I tell you\n",
      "you put name\n",
      "you ask one\n",
      "Confundus Charm hoodwinked it\n",
      "The Goblet of Fire constitutes contract\n",
      "Potter has choice\n",
      "you suggest What\n",
      "You heard Barty\n",
      "you accommodate Ministry\n",
      "Alastor keep eye\n",
      "I do that\n",
      "you do it\n",
      "You know bloody\n",
      "I put name\n",
      "I want glory\n",
      "mysteries do mask\n",
      "I use Quill\n",
      "who mastered spells\n",
      "Everyone loves rebel\n",
      "attitude shows need\n",
      "eyes swimming Sirius\n",
      "I have time\n",
      "you put name\n",
      "You mentioned Wormtail\n",
      "You hear name\n",
      "Voldemort giving job\n",
      "you saying What\n",
      "one put name\n",
      "I have clue\n",
      "who put name\n",
      "You have choice\n",
      "I heard voices\n",
      "you imagining things\n",
      "You doing it\n",
      "Moody gave it\n",
      "we had tea\n",
      "me say What\n",
      "Ronald like me\n",
      "you do this\n",
      "you bring cloak\n",
      "I asked you\n",
      "I brought cloak\n",
      "Hagrid combed hair\n",
      "you combed hair\n",
      "you forgotten me\n",
      "Ron tell that\n",
      "He tell thing\n",
      "I have word\n",
      "They got one\n",
      "Ced leave him\n",
      "I asked them\n",
      "you know that\n",
      "father have bet\n",
      "I give damn\n",
      "I give Malfoy\n",
      "father thinks what\n",
      "I teach you\n",
      "you doing What\n",
      "I tell stories\n",
      "that curl hair\n",
      "We use transfiguration\n",
      "Dumbledore told that\n",
      "He mentioned it\n",
      "me keep eye\n",
      "I see whites\n",
      "You believe it\n",
      "he turn whistle\n",
      "They have strategy\n",
      "I heard it\n",
      "Who fancies flutter\n",
      "Each involves danger\n",
      "This minimize risks\n",
      "you make page\n",
      "You have business\n",
      "we wanted what\n",
      "you doing What\n",
      "Which leaves Horntail\n",
      "you do This\n",
      "me open it\n",
      "me open it\n",
      "you done it\n",
      "Everyone saying it\n",
      "me feel loads\n",
      "I warned you\n",
      "Hagrid warned me\n",
      "I told Hermione\n",
      "Seamus told me\n",
      "Parvati told Dean\n",
      "Seamus told anything\n",
      "you figured that\n",
      "Who figure that\n",
      "I believe it\n",
      "Harry Potter's taking blow\n",
      "I told him\n",
      "I get him\n",
      "I get autograph\n",
      "Mum sent something\n",
      "Mum sent dress\n",
      "it match eyes\n",
      "each put foot\n",
      "I mean this\n",
      "I have you\n",
      "you join me\n",
      "him forget this\n",
      "You slayed dragons\n",
      "you get date\n",
      "I take dragon\n",
      "I know her\n",
      "I pick him\n",
      "I started school\n",
      "he take himself\n",
      "It interest you\n",
      "Neville got someone\n",
      ", believe it\n",
      "someone asked me\n",
      "we have partners\n",
      "I catch that\n",
      "He asked Fleur Delacour\n",
      "she say What\n",
      "I like it\n",
      "I help it\n",
      "you do what\n",
      "she tell us\n",
      "we take mickey\n",
      "Nobody asked her\n",
      "I told that\n",
      "Harry take waist\n",
      "who don care\n",
      "I have arm\n",
      "Who wanting autograph\n",
      "it wanting autograph\n",
      "He using you\n",
      "I take care\n",
      "I doubt it\n",
      "you think what\n",
      "I think what\n",
      "You know solution\n",
      "you spoiled everything\n",
      "me see it\n",
      "I give greeting\n",
      "you told me\n",
      "you figured the egg out weeks ago\n",
      "I had idea\n",
      "Viktor figured it\n",
      "he watches me\n",
      "he watches study\n",
      "I thanked you\n",
      "you done same\n",
      "You know bathroom\n",
      "I circling drain\n",
      "I saw bit\n",
      "he did what\n",
      "we took what\n",
      "It took ages\n",
      "Harry tell me\n",
      "you held underwater\n",
      "we do this\n",
      "three figure it\n",
      "McGonagall wants you\n",
      "Potter put books\n",
      "who growing trees\n",
      "me breathe underwater\n",
      "you use gillyweed\n",
      "You telling this\n",
      "magic save them\n",
      "I see him\n",
      "I killed Harry Potter\n",
      "she take part\n",
      "Go get towel\n",
      "I want judges\n",
      "You saved her\n",
      "who showed command\n",
      "I heard times\n",
      "I met you\n",
      "I set eyes\n",
      "you remind me\n",
      "we got other\n",
      "Hogwarts Teach something\n",
      "You take action\n",
      "others think what\n",
      "you say What\n",
      "It interest you\n",
      "you accept terms\n",
      "I have names\n",
      "He took piece\n",
      "He passed information\n",
      "I have more\n",
      "I given evidence\n",
      "witness possesses name\n",
      "I heard more\n",
      "person took part\n",
      "you exercise caution\n",
      "you find mind\n",
      "me see things\n",
      "I overlooked something\n",
      "he had choice\n",
      "I had dream\n",
      "I see what\n",
      "it means what\n",
      "drops spill secrets\n",
      "I stolen anything\n",
      "You brewing Polyjuice Potion\n",
      "Moody placed the Triwizard Cup\n",
      "he knows position\n",
      "I instructed staff\n",
      "she send sparks\n",
      "you find dragons\n",
      "you face something\n",
      "you lose yourselves\n",
      "Champions prepare yourselves\n",
      "it get me\n",
      "You saved me\n",
      "you want What\n",
      "I detected sign\n",
      "I assure you\n",
      "I renounced ways\n",
      "I introduce you\n",
      "word has it\n",
      "lies fed legend\n",
      "I lost powers\n",
      "Lily Potter gave life\n",
      "she provided protection\n",
      "I touch him\n",
      "I touch you\n",
      "you forget manners\n",
      "one question powers\n",
      "you turn back\n",
      "I kill you\n",
      "light leave eyes\n",
      "Harry take body\n",
      "He did it\n",
      "he asked me\n",
      "I leave him\n",
      "I got you\n",
      "I got you\n",
      "I take look\n",
      "Someone bewitched it\n",
      "I said anything\n",
      "oaf led you\n",
      "I suggested it\n",
      "Cedric Diggory told you\n",
      "I told him\n",
      "Neville Longbottom provided you\n",
      "I given book\n",
      "that led him\n",
      "You put name\n",
      "You bewitched Krum\n",
      "he reward me\n",
      "We get you\n",
      "I show mine\n",
      "you show yours\n",
      "this means what\n",
      "I help it\n",
      "they missing prisoner\n",
      "I had time\n",
      "you have right\n",
      "me tell this\n",
      "we celebrate boy\n",
      "I liked curtains\n",
      "I put you\n",
      "You saw parents\n",
      "spell reawaken dead\n",
      "you know that\n",
      "we face choice\n",
      "You have friends\n",
      "we have year\n",
      "I disappoint you\n",
      "I give greeting\n",
      "Some had bit\n",
      "that cleared sinuses\n",
      "that cleared shambles\n",
      "Girls choose bunk\n",
      "I love magic\n",
      "he rides wind\n",
      "I love you\n",
      "Irish got pride\n",
      "we lost you\n",
      "Which conjured it\n",
      "I see face\n",
      "I get it\n",
      "who conjured it\n",
      "what worried them\n",
      "you saw what\n",
      "Dumblydorr traveled way\n",
      "horses traveled way\n",
      "they drink whiskey\n",
      "what awaits student\n",
      "who wins Tournament\n",
      "student survive tasks\n",
      "we have head\n",
      "you doing what\n",
      "Anyone write name\n",
      "Dumbledore asked me\n",
      "which tell me\n",
      "curses do what\n",
      "codger see back\n",
      "we see curse\n",
      "dad tell me\n",
      "this show you\n",
      "I have What\n",
      "we sort liars\n",
      "Sprout tells me\n",
      "you have aptitude\n",
      "it bothering him\n",
      "you give Curse\n",
      "you see face\n",
      "We have cup\n",
      "we done it\n",
      "You see this\n",
      "Dumbledore drew it\n",
      "you want piece\n",
      "I tear ears\n",
      "We have champions\n",
      "Only one hoist chalice\n",
      "I tell you\n",
      "you put name\n",
      "you ask one\n",
      "Confundus Charm hoodwinked it\n",
      "The Goblet of Fire constitutes contract\n",
      "Potter has choice\n",
      "you suggest What\n",
      "You heard Barty\n",
      "you accommodate Ministry\n",
      "Alastor keep eye\n",
      "I do that\n",
      "you do it\n",
      "You know bloody\n",
      "I put name\n",
      "I want glory\n",
      "mysteries do mask\n",
      "I use Quill\n",
      "who mastered spells\n",
      "Everyone loves rebel\n",
      "attitude shows need\n",
      "eyes swimming Sirius\n",
      "I have time\n",
      "you put name\n",
      "You mentioned Wormtail\n",
      "You hear name\n",
      "Voldemort giving job\n",
      "you saying What\n",
      "one put name\n",
      "I have clue\n",
      "who put name\n",
      "You have choice\n",
      "I heard voices\n",
      "you imagining things\n",
      "You doing it\n",
      "Moody gave it\n",
      "we had tea\n",
      "me say What\n",
      "Ronald like me\n",
      "you do this\n",
      "you bring cloak\n",
      "I asked you\n",
      "I brought cloak\n",
      "Hagrid combed hair\n",
      "you combed hair\n",
      "you forgotten me\n",
      "Ron tell that\n",
      "He tell thing\n",
      "I have word\n",
      "They got one\n",
      "Ced leave him\n",
      "I asked them\n",
      "you know that\n",
      "father have bet\n",
      "I give damn\n",
      "I give Malfoy\n",
      "father thinks what\n",
      "I teach you\n",
      "you doing What\n",
      "I tell stories\n",
      "that curl hair\n",
      "We use transfiguration\n",
      "Dumbledore told that\n",
      "He mentioned it\n",
      "me keep eye\n",
      "I see whites\n",
      "You believe it\n",
      "he turn whistle\n",
      "They have strategy\n",
      "I heard it\n",
      "Who fancies flutter\n",
      "Each involves danger\n",
      "This minimize risks\n",
      "you make page\n",
      "You have business\n",
      "we wanted what\n",
      "you doing What\n",
      "Which leaves Horntail\n",
      "you do This\n",
      "me open it\n",
      "me open it\n",
      "you done it\n",
      "Everyone saying it\n",
      "me feel loads\n",
      "I warned you\n",
      "Hagrid warned me\n",
      "I told Hermione\n",
      "Seamus told me\n",
      "Parvati told Dean\n",
      "Seamus told anything\n",
      "you figured that\n",
      "Who figure that\n",
      "I believe it\n",
      "Harry Potter's taking blow\n",
      "I told him\n",
      "I get him\n",
      "I get autograph\n",
      "Mum sent something\n",
      "Mum sent dress\n",
      "it match eyes\n",
      "each put foot\n",
      "I mean this\n",
      "I have you\n",
      "you join me\n",
      "him forget this\n",
      "You slayed dragons\n",
      "you get date\n",
      "I take dragon\n",
      "I know her\n",
      "I pick him\n",
      "I started school\n",
      "he take himself\n",
      "It interest you\n",
      "Neville got someone\n",
      ", believe it\n",
      "someone asked me\n",
      "we have partners\n",
      "I catch that\n",
      "He asked Fleur Delacour\n",
      "she say What\n",
      "I like it\n",
      "I help it\n",
      "you do what\n",
      "she tell us\n",
      "we take mickey\n",
      "Nobody asked her\n",
      "I told that\n",
      "Harry take waist\n",
      "who don care\n",
      "I have arm\n",
      "Who wanting autograph\n",
      "it wanting autograph\n",
      "He using you\n",
      "I take care\n",
      "I doubt it\n",
      "you think what\n",
      "I think what\n",
      "You know solution\n",
      "you spoiled everything\n",
      "me see it\n",
      "I give greeting\n",
      "you told me\n",
      "you figured the egg out weeks ago\n",
      "I had idea\n",
      "Viktor figured it\n",
      "he watches me\n",
      "he watches study\n",
      "I thanked you\n",
      "you done same\n",
      "You know bathroom\n",
      "I circling drain\n",
      "I saw bit\n",
      "he did what\n",
      "we took what\n",
      "It took ages\n",
      "Harry tell me\n",
      "you held underwater\n",
      "we do this\n",
      "three figure it\n",
      "McGonagall wants you\n",
      "Potter put books\n",
      "who growing trees\n",
      "me breathe underwater\n",
      "you use gillyweed\n",
      "You telling this\n",
      "magic save them\n",
      "I see him\n",
      "I killed Harry Potter\n",
      "she take part\n",
      "Go get towel\n",
      "I want judges\n",
      "You saved her\n",
      "who showed command\n",
      "I heard times\n",
      "I met you\n",
      "I set eyes\n",
      "you remind me\n",
      "we got other\n",
      "Hogwarts Teach something\n",
      "You take action\n",
      "others think what\n",
      "you say What\n",
      "It interest you\n",
      "you accept terms\n",
      "I have names\n",
      "He took piece\n",
      "He passed information\n",
      "I have more\n",
      "I given evidence\n",
      "witness possesses name\n",
      "I heard more\n",
      "person took part\n",
      "you exercise caution\n",
      "you find mind\n",
      "me see things\n",
      "I overlooked something\n",
      "he had choice\n",
      "I had dream\n",
      "I see what\n",
      "it means what\n",
      "drops spill secrets\n",
      "I stolen anything\n",
      "You brewing Polyjuice Potion\n",
      "Moody placed the Triwizard Cup\n",
      "he knows position\n",
      "I instructed staff\n",
      "she send sparks\n",
      "you find dragons\n",
      "you face something\n",
      "you lose yourselves\n",
      "Champions prepare yourselves\n",
      "it get me\n",
      "You saved me\n",
      "you want What\n",
      "I detected sign\n",
      "I assure you\n",
      "I renounced ways\n",
      "I introduce you\n",
      "word has it\n",
      "lies fed legend\n",
      "I lost powers\n",
      "Lily Potter gave life\n",
      "she provided protection\n",
      "I touch him\n",
      "I touch you\n",
      "you forget manners\n",
      "one question powers\n",
      "you turn back\n",
      "I kill you\n",
      "light leave eyes\n",
      "Harry take body\n",
      "He did it\n",
      "he asked me\n",
      "I leave him\n",
      "I got you\n",
      "I got you\n",
      "I take look\n",
      "Someone bewitched it\n",
      "I said anything\n",
      "oaf led you\n",
      "I suggested it\n",
      "Cedric Diggory told you\n",
      "I told him\n",
      "Neville Longbottom provided you\n",
      "I given book\n",
      "that led him\n",
      "You put name\n",
      "You bewitched Krum\n",
      "he reward me\n",
      "We get you\n",
      "I show mine\n",
      "you show yours\n",
      "this means what\n",
      "I help it\n",
      "they missing prisoner\n",
      "I had time\n",
      "you have right\n",
      "me tell this\n",
      "we celebrate boy\n",
      "I liked curtains\n",
      "I put you\n",
      "You saw parents\n",
      "spell reawaken dead\n",
      "you know that\n",
      "we face choice\n",
      "You have friends\n",
      "we have year\n",
      "I disappoint you\n",
      "I give greeting\n",
      "Some had bit\n",
      "that cleared sinuses\n",
      "that cleared shambles\n",
      "Girls choose bunk\n",
      "I love magic\n",
      "he rides wind\n",
      "I love you\n",
      "Irish got pride\n",
      "we lost you\n",
      "Which conjured it\n",
      "I see face\n",
      "I get it\n",
      "who conjured it\n",
      "what worried them\n",
      "you saw what\n",
      "Dumblydorr traveled way\n",
      "horses traveled way\n",
      "they drink whiskey\n",
      "what awaits student\n",
      "who wins Tournament\n",
      "student survive tasks\n",
      "we have head\n",
      "you doing what\n",
      "Anyone write name\n",
      "Dumbledore asked me\n",
      "which tell me\n",
      "curses do what\n",
      "codger see back\n",
      "we see curse\n",
      "dad tell me\n",
      "this show you\n",
      "I have What\n",
      "we sort liars\n",
      "Sprout tells me\n",
      "you have aptitude\n",
      "it bothering him\n",
      "you give Curse\n",
      "you see face\n",
      "We have cup\n",
      "we done it\n",
      "You see this\n",
      "Dumbledore drew it\n",
      "you want piece\n",
      "I tear ears\n",
      "We have champions\n",
      "Only one hoist chalice\n",
      "I tell you\n",
      "you put name\n",
      "you ask one\n",
      "Confundus Charm hoodwinked it\n",
      "The Goblet of Fire constitutes contract\n",
      "Potter has choice\n",
      "you suggest What\n",
      "You heard Barty\n",
      "you accommodate Ministry\n",
      "Alastor keep eye\n",
      "I do that\n",
      "you do it\n",
      "You know bloody\n",
      "I put name\n",
      "I want glory\n",
      "mysteries do mask\n",
      "I use Quill\n",
      "who mastered spells\n",
      "Everyone loves rebel\n",
      "attitude shows need\n",
      "eyes swimming Sirius\n",
      "I have time\n",
      "you put name\n",
      "You mentioned Wormtail\n",
      "You hear name\n",
      "Voldemort giving job\n",
      "you saying What\n",
      "one put name\n",
      "I have clue\n",
      "who put name\n",
      "You have choice\n",
      "I heard voices\n",
      "you imagining things\n",
      "You doing it\n",
      "Moody gave it\n",
      "we had tea\n",
      "me say What\n",
      "Ronald like me\n",
      "you do this\n",
      "you bring cloak\n",
      "I asked you\n",
      "I brought cloak\n",
      "Hagrid combed hair\n",
      "you combed hair\n",
      "you forgotten me\n",
      "Ron tell that\n",
      "He tell thing\n",
      "I have word\n",
      "They got one\n",
      "Ced leave him\n",
      "I asked them\n",
      "you know that\n",
      "father have bet\n",
      "I give damn\n",
      "I give Malfoy\n",
      "father thinks what\n",
      "I teach you\n",
      "you doing What\n",
      "I tell stories\n",
      "that curl hair\n",
      "We use transfiguration\n",
      "Dumbledore told that\n",
      "He mentioned it\n",
      "me keep eye\n",
      "I see whites\n",
      "You believe it\n",
      "he turn whistle\n",
      "They have strategy\n",
      "I heard it\n",
      "Who fancies flutter\n",
      "Each involves danger\n",
      "This minimize risks\n",
      "you make page\n",
      "You have business\n",
      "we wanted what\n",
      "you doing What\n",
      "Which leaves Horntail\n",
      "you do This\n",
      "me open it\n",
      "me open it\n",
      "you done it\n",
      "Everyone saying it\n",
      "me feel loads\n",
      "I warned you\n",
      "Hagrid warned me\n",
      "I told Hermione\n",
      "Seamus told me\n",
      "Parvati told Dean\n",
      "Seamus told anything\n",
      "you figured that\n",
      "Who figure that\n",
      "I believe it\n",
      "Harry Potter's taking blow\n",
      "I told him\n",
      "I get him\n",
      "I get autograph\n",
      "Mum sent something\n",
      "Mum sent dress\n",
      "it match eyes\n",
      "each put foot\n",
      "I mean this\n",
      "I have you\n",
      "you join me\n",
      "him forget this\n",
      "You slayed dragons\n",
      "you get date\n",
      "I take dragon\n",
      "I know her\n",
      "I pick him\n",
      "I started school\n",
      "he take himself\n",
      "It interest you\n",
      "Neville got someone\n",
      ", believe it\n",
      "someone asked me\n",
      "we have partners\n",
      "I catch that\n",
      "He asked Fleur Delacour\n",
      "she say What\n",
      "I like it\n",
      "I help it\n",
      "you do what\n",
      "she tell us\n",
      "we take mickey\n",
      "Nobody asked her\n",
      "I told that\n",
      "Harry take waist\n",
      "who don care\n",
      "I have arm\n",
      "Who wanting autograph\n",
      "it wanting autograph\n",
      "He using you\n",
      "I take care\n",
      "I doubt it\n",
      "you think what\n",
      "I think what\n",
      "You know solution\n",
      "you spoiled everything\n",
      "me see it\n",
      "I give greeting\n",
      "you told me\n",
      "you figured the egg out weeks ago\n",
      "I had idea\n",
      "Viktor figured it\n",
      "he watches me\n",
      "he watches study\n",
      "I thanked you\n",
      "you done same\n",
      "You know bathroom\n",
      "I circling drain\n",
      "I saw bit\n",
      "he did what\n",
      "we took what\n",
      "It took ages\n",
      "Harry tell me\n",
      "you held underwater\n",
      "we do this\n",
      "three figure it\n",
      "McGonagall wants you\n",
      "Potter put books\n",
      "who growing trees\n",
      "me breathe underwater\n",
      "you use gillyweed\n",
      "You telling this\n",
      "magic save them\n",
      "I see him\n",
      "I killed Harry Potter\n",
      "she take part\n",
      "Go get towel\n",
      "I want judges\n",
      "You saved her\n",
      "who showed command\n",
      "I heard times\n",
      "I met you\n",
      "I set eyes\n",
      "you remind me\n",
      "we got other\n",
      "Hogwarts Teach something\n",
      "You take action\n",
      "others think what\n",
      "you say What\n",
      "It interest you\n",
      "you accept terms\n",
      "I have names\n",
      "He took piece\n",
      "He passed information\n",
      "I have more\n",
      "I given evidence\n",
      "witness possesses name\n",
      "I heard more\n",
      "person took part\n",
      "you exercise caution\n",
      "you find mind\n",
      "me see things\n",
      "I overlooked something\n",
      "he had choice\n",
      "I had dream\n",
      "I see what\n",
      "it means what\n",
      "drops spill secrets\n",
      "I stolen anything\n",
      "You brewing Polyjuice Potion\n",
      "Moody placed the Triwizard Cup\n",
      "he knows position\n",
      "I instructed staff\n",
      "she send sparks\n",
      "you find dragons\n",
      "you face something\n",
      "you lose yourselves\n",
      "Champions prepare yourselves\n",
      "it get me\n",
      "You saved me\n",
      "you want What\n",
      "I detected sign\n",
      "I assure you\n",
      "I renounced ways\n",
      "I introduce you\n",
      "word has it\n",
      "lies fed legend\n",
      "I lost powers\n",
      "Lily Potter gave life\n",
      "she provided protection\n",
      "I touch him\n",
      "I touch you\n",
      "you forget manners\n",
      "one question powers\n",
      "you turn back\n",
      "I kill you\n",
      "light leave eyes\n",
      "Harry take body\n",
      "He did it\n",
      "he asked me\n",
      "I leave him\n",
      "I got you\n",
      "I got you\n",
      "I take look\n",
      "Someone bewitched it\n",
      "I said anything\n",
      "oaf led you\n",
      "I suggested it\n",
      "Cedric Diggory told you\n",
      "I told him\n",
      "Neville Longbottom provided you\n",
      "I given book\n",
      "that led him\n",
      "You put name\n",
      "You bewitched Krum\n",
      "he reward me\n",
      "We get you\n",
      "I show mine\n",
      "you show yours\n",
      "this means what\n",
      "I help it\n",
      "they missing prisoner\n",
      "I had time\n",
      "you have right\n",
      "me tell this\n",
      "we celebrate boy\n",
      "I liked curtains\n",
      "I put you\n",
      "You saw parents\n",
      "spell reawaken dead\n",
      "you know that\n",
      "we face choice\n",
      "You have friends\n",
      "we have year\n",
      "I disappoint you\n",
      "I give greeting\n",
      "Some had bit\n",
      "that cleared sinuses\n",
      "that cleared shambles\n",
      "Girls choose bunk\n",
      "I love magic\n",
      "he rides wind\n",
      "I love you\n",
      "Irish got pride\n",
      "we lost you\n",
      "Which conjured it\n",
      "I see face\n",
      "I get it\n",
      "who conjured it\n",
      "what worried them\n",
      "you saw what\n",
      "Dumblydorr traveled way\n",
      "horses traveled way\n",
      "they drink whiskey\n",
      "what awaits student\n",
      "who wins Tournament\n",
      "student survive tasks\n",
      "we have head\n",
      "you doing what\n",
      "Anyone write name\n",
      "Dumbledore asked me\n",
      "which tell me\n",
      "curses do what\n",
      "codger see back\n",
      "we see curse\n",
      "dad tell me\n",
      "this show you\n",
      "I have What\n",
      "we sort liars\n",
      "Sprout tells me\n",
      "you have aptitude\n",
      "it bothering him\n",
      "you give Curse\n",
      "you see face\n",
      "We have cup\n",
      "we done it\n",
      "You see this\n",
      "Dumbledore drew it\n",
      "you want piece\n",
      "I tear ears\n",
      "We have champions\n",
      "Only one hoist chalice\n",
      "I tell you\n",
      "you put name\n",
      "you ask one\n",
      "Confundus Charm hoodwinked it\n",
      "The Goblet of Fire constitutes contract\n",
      "Potter has choice\n",
      "you suggest What\n",
      "You heard Barty\n",
      "you accommodate Ministry\n",
      "Alastor keep eye\n",
      "I do that\n",
      "you do it\n",
      "You know bloody\n",
      "I put name\n",
      "I want glory\n",
      "mysteries do mask\n",
      "I use Quill\n",
      "who mastered spells\n",
      "Everyone loves rebel\n",
      "attitude shows need\n",
      "eyes swimming Sirius\n",
      "I have time\n",
      "you put name\n",
      "You mentioned Wormtail\n",
      "You hear name\n",
      "Voldemort giving job\n",
      "you saying What\n",
      "one put name\n",
      "I have clue\n",
      "who put name\n",
      "You have choice\n",
      "I heard voices\n",
      "you imagining things\n",
      "You doing it\n",
      "Moody gave it\n",
      "we had tea\n",
      "me say What\n",
      "Ronald like me\n",
      "you do this\n",
      "you bring cloak\n",
      "I asked you\n",
      "I brought cloak\n",
      "Hagrid combed hair\n",
      "you combed hair\n",
      "you forgotten me\n",
      "Ron tell that\n",
      "He tell thing\n",
      "I have word\n",
      "They got one\n",
      "Ced leave him\n",
      "I asked them\n",
      "you know that\n",
      "father have bet\n",
      "I give damn\n",
      "I give Malfoy\n",
      "father thinks what\n",
      "I teach you\n",
      "you doing What\n",
      "I tell stories\n",
      "that curl hair\n",
      "We use transfiguration\n",
      "Dumbledore told that\n",
      "He mentioned it\n",
      "me keep eye\n",
      "I see whites\n",
      "You believe it\n",
      "he turn whistle\n",
      "They have strategy\n",
      "I heard it\n",
      "Who fancies flutter\n",
      "Each involves danger\n",
      "This minimize risks\n",
      "you make page\n",
      "You have business\n",
      "we wanted what\n",
      "you doing What\n",
      "Which leaves Horntail\n",
      "you do This\n",
      "me open it\n",
      "me open it\n",
      "you done it\n",
      "Everyone saying it\n",
      "me feel loads\n",
      "I warned you\n",
      "Hagrid warned me\n",
      "I told Hermione\n",
      "Seamus told me\n",
      "Parvati told Dean\n",
      "Seamus told anything\n",
      "you figured that\n",
      "Who figure that\n",
      "I believe it\n",
      "Harry Potter's taking blow\n",
      "I told him\n",
      "I get him\n",
      "I get autograph\n",
      "Mum sent something\n",
      "Mum sent dress\n",
      "it match eyes\n",
      "each put foot\n",
      "I mean this\n",
      "I have you\n",
      "you join me\n",
      "him forget this\n",
      "You slayed dragons\n",
      "you get date\n",
      "I take dragon\n",
      "I know her\n",
      "I pick him\n",
      "I started school\n",
      "he take himself\n",
      "It interest you\n",
      "Neville got someone\n",
      ", believe it\n",
      "someone asked me\n",
      "we have partners\n",
      "I catch that\n",
      "He asked Fleur Delacour\n",
      "she say What\n",
      "I like it\n",
      "I help it\n",
      "you do what\n",
      "she tell us\n",
      "we take mickey\n",
      "Nobody asked her\n",
      "I told that\n",
      "Harry take waist\n",
      "who don care\n",
      "I have arm\n",
      "Who wanting autograph\n",
      "it wanting autograph\n",
      "He using you\n",
      "I take care\n",
      "I doubt it\n",
      "you think what\n",
      "I think what\n",
      "You know solution\n",
      "you spoiled everything\n",
      "me see it\n",
      "I give greeting\n",
      "you told me\n",
      "you figured the egg out weeks ago\n",
      "I had idea\n",
      "Viktor figured it\n",
      "he watches me\n",
      "he watches study\n",
      "I thanked you\n",
      "you done same\n",
      "You know bathroom\n",
      "I circling drain\n",
      "I saw bit\n",
      "he did what\n",
      "we took what\n",
      "It took ages\n",
      "Harry tell me\n",
      "you held underwater\n",
      "we do this\n",
      "three figure it\n",
      "McGonagall wants you\n",
      "Potter put books\n",
      "who growing trees\n",
      "me breathe underwater\n",
      "you use gillyweed\n",
      "You telling this\n",
      "magic save them\n",
      "I see him\n",
      "I killed Harry Potter\n",
      "she take part\n",
      "Go get towel\n",
      "I want judges\n",
      "You saved her\n",
      "who showed command\n",
      "I heard times\n",
      "I met you\n",
      "I set eyes\n",
      "you remind me\n",
      "we got other\n",
      "Hogwarts Teach something\n",
      "You take action\n",
      "others think what\n",
      "you say What\n",
      "It interest you\n",
      "you accept terms\n",
      "I have names\n",
      "He took piece\n",
      "He passed information\n",
      "I have more\n",
      "I given evidence\n",
      "witness possesses name\n",
      "I heard more\n",
      "person took part\n",
      "you exercise caution\n",
      "you find mind\n",
      "me see things\n",
      "I overlooked something\n",
      "he had choice\n",
      "I had dream\n",
      "I see what\n",
      "it means what\n",
      "drops spill secrets\n",
      "I stolen anything\n",
      "You brewing Polyjuice Potion\n",
      "Moody placed the Triwizard Cup\n",
      "he knows position\n",
      "I instructed staff\n",
      "she send sparks\n",
      "you find dragons\n",
      "you face something\n",
      "you lose yourselves\n",
      "Champions prepare yourselves\n",
      "it get me\n",
      "You saved me\n",
      "you want What\n",
      "I detected sign\n",
      "I assure you\n",
      "I renounced ways\n",
      "I introduce you\n",
      "word has it\n",
      "lies fed legend\n",
      "I lost powers\n",
      "Lily Potter gave life\n",
      "she provided protection\n",
      "I touch him\n",
      "I touch you\n",
      "you forget manners\n",
      "one question powers\n",
      "you turn back\n",
      "I kill you\n",
      "light leave eyes\n",
      "Harry take body\n",
      "He did it\n",
      "he asked me\n",
      "I leave him\n",
      "I got you\n",
      "I got you\n",
      "I take look\n",
      "Someone bewitched it\n",
      "I said anything\n",
      "oaf led you\n",
      "I suggested it\n",
      "Cedric Diggory told you\n",
      "I told him\n",
      "Neville Longbottom provided you\n",
      "I given book\n",
      "that led him\n",
      "You put name\n",
      "You bewitched Krum\n",
      "he reward me\n",
      "We get you\n",
      "I show mine\n",
      "you show yours\n",
      "this means what\n",
      "I help it\n",
      "they missing prisoner\n",
      "I had time\n",
      "you have right\n",
      "me tell this\n",
      "we celebrate boy\n",
      "I liked curtains\n",
      "I put you\n",
      "You saw parents\n",
      "spell reawaken dead\n",
      "you know that\n",
      "we face choice\n",
      "You have friends\n",
      "we have year\n",
      "I disappoint you\n",
      "I give greeting\n",
      "Some had bit\n",
      "that cleared sinuses\n",
      "that cleared shambles\n",
      "Girls choose bunk\n",
      "I love magic\n",
      "he rides wind\n",
      "I love you\n",
      "Irish got pride\n",
      "we lost you\n",
      "Which conjured it\n",
      "I see face\n",
      "I get it\n",
      "who conjured it\n",
      "what worried them\n",
      "you saw what\n",
      "Dumblydorr traveled way\n",
      "horses traveled way\n",
      "they drink whiskey\n",
      "what awaits student\n",
      "who wins Tournament\n",
      "student survive tasks\n",
      "we have head\n",
      "you doing what\n",
      "Anyone write name\n",
      "Dumbledore asked me\n",
      "which tell me\n",
      "curses do what\n",
      "codger see back\n",
      "we see curse\n",
      "dad tell me\n",
      "this show you\n",
      "I have What\n",
      "we sort liars\n",
      "Sprout tells me\n",
      "you have aptitude\n",
      "it bothering him\n",
      "you give Curse\n",
      "you see face\n",
      "We have cup\n",
      "we done it\n",
      "You see this\n",
      "Dumbledore drew it\n",
      "you want piece\n",
      "I tear ears\n",
      "We have champions\n",
      "Only one hoist chalice\n",
      "I tell you\n",
      "you put name\n",
      "you ask one\n",
      "Confundus Charm hoodwinked it\n",
      "The Goblet of Fire constitutes contract\n",
      "Potter has choice\n",
      "you suggest What\n",
      "You heard Barty\n",
      "you accommodate Ministry\n",
      "Alastor keep eye\n",
      "I do that\n",
      "you do it\n",
      "You know bloody\n",
      "I put name\n",
      "I want glory\n",
      "mysteries do mask\n",
      "I use Quill\n",
      "who mastered spells\n",
      "Everyone loves rebel\n",
      "attitude shows need\n",
      "eyes swimming Sirius\n",
      "I have time\n",
      "you put name\n",
      "You mentioned Wormtail\n",
      "You hear name\n",
      "Voldemort giving job\n",
      "you saying What\n",
      "one put name\n",
      "I have clue\n",
      "who put name\n",
      "You have choice\n",
      "I heard voices\n",
      "you imagining things\n",
      "You doing it\n",
      "Moody gave it\n",
      "we had tea\n",
      "me say What\n",
      "Ronald like me\n",
      "you do this\n",
      "you bring cloak\n",
      "I asked you\n",
      "I brought cloak\n",
      "Hagrid combed hair\n",
      "you combed hair\n",
      "you forgotten me\n",
      "Ron tell that\n",
      "He tell thing\n",
      "I have word\n",
      "They got one\n",
      "Ced leave him\n",
      "I asked them\n",
      "you know that\n",
      "father have bet\n",
      "I give damn\n",
      "I give Malfoy\n",
      "father thinks what\n",
      "I teach you\n",
      "you doing What\n",
      "I tell stories\n",
      "that curl hair\n",
      "We use transfiguration\n",
      "Dumbledore told that\n",
      "He mentioned it\n",
      "me keep eye\n",
      "I see whites\n",
      "You believe it\n",
      "he turn whistle\n",
      "They have strategy\n",
      "I heard it\n",
      "Who fancies flutter\n",
      "Each involves danger\n",
      "This minimize risks\n",
      "you make page\n",
      "You have business\n",
      "we wanted what\n",
      "you doing What\n",
      "Which leaves Horntail\n",
      "you do This\n",
      "me open it\n",
      "me open it\n",
      "you done it\n",
      "Everyone saying it\n",
      "me feel loads\n",
      "I warned you\n",
      "Hagrid warned me\n",
      "I told Hermione\n",
      "Seamus told me\n",
      "Parvati told Dean\n",
      "Seamus told anything\n",
      "you figured that\n",
      "Who figure that\n",
      "I believe it\n",
      "Harry Potter's taking blow\n",
      "I told him\n",
      "I get him\n",
      "I get autograph\n",
      "Mum sent something\n",
      "Mum sent dress\n",
      "it match eyes\n",
      "each put foot\n",
      "I mean this\n",
      "I have you\n",
      "you join me\n",
      "him forget this\n",
      "You slayed dragons\n",
      "you get date\n",
      "I take dragon\n",
      "I know her\n",
      "I pick him\n",
      "I started school\n",
      "he take himself\n",
      "It interest you\n",
      "Neville got someone\n",
      ", believe it\n",
      "someone asked me\n",
      "we have partners\n",
      "I catch that\n",
      "He asked Fleur Delacour\n",
      "she say What\n",
      "I like it\n",
      "I help it\n",
      "you do what\n",
      "she tell us\n",
      "we take mickey\n",
      "Nobody asked her\n",
      "I told that\n",
      "Harry take waist\n",
      "who don care\n",
      "I have arm\n",
      "Who wanting autograph\n",
      "it wanting autograph\n",
      "He using you\n",
      "I take care\n",
      "I doubt it\n",
      "you think what\n",
      "I think what\n",
      "You know solution\n",
      "you spoiled everything\n",
      "me see it\n",
      "I give greeting\n",
      "you told me\n",
      "you figured the egg out weeks ago\n",
      "I had idea\n",
      "Viktor figured it\n",
      "he watches me\n",
      "he watches study\n",
      "I thanked you\n",
      "you done same\n",
      "You know bathroom\n",
      "I circling drain\n",
      "I saw bit\n",
      "he did what\n",
      "we took what\n",
      "It took ages\n",
      "Harry tell me\n",
      "you held underwater\n",
      "we do this\n",
      "three figure it\n",
      "McGonagall wants you\n",
      "Potter put books\n",
      "who growing trees\n",
      "me breathe underwater\n",
      "you use gillyweed\n",
      "You telling this\n",
      "magic save them\n",
      "I see him\n",
      "I killed Harry Potter\n",
      "she take part\n",
      "Go get towel\n",
      "I want judges\n",
      "You saved her\n",
      "who showed command\n",
      "I heard times\n",
      "I met you\n",
      "I set eyes\n",
      "you remind me\n",
      "we got other\n",
      "Hogwarts Teach something\n",
      "You take action\n",
      "others think what\n",
      "you say What\n",
      "It interest you\n",
      "you accept terms\n",
      "I have names\n",
      "He took piece\n",
      "He passed information\n",
      "I have more\n",
      "I given evidence\n",
      "witness possesses name\n",
      "I heard more\n",
      "person took part\n",
      "you exercise caution\n",
      "you find mind\n",
      "me see things\n",
      "I overlooked something\n",
      "he had choice\n",
      "I had dream\n",
      "I see what\n",
      "it means what\n",
      "drops spill secrets\n",
      "I stolen anything\n",
      "You brewing Polyjuice Potion\n",
      "Moody placed the Triwizard Cup\n",
      "he knows position\n",
      "I instructed staff\n",
      "she send sparks\n",
      "you find dragons\n",
      "you face something\n",
      "you lose yourselves\n",
      "Champions prepare yourselves\n",
      "it get me\n",
      "You saved me\n",
      "you want What\n",
      "I detected sign\n",
      "I assure you\n",
      "I renounced ways\n",
      "I introduce you\n",
      "word has it\n",
      "lies fed legend\n",
      "I lost powers\n",
      "Lily Potter gave life\n",
      "she provided protection\n",
      "I touch him\n",
      "I touch you\n",
      "you forget manners\n",
      "one question powers\n",
      "you turn back\n",
      "I kill you\n",
      "light leave eyes\n",
      "Harry take body\n",
      "He did it\n",
      "he asked me\n",
      "I leave him\n",
      "I got you\n",
      "I got you\n",
      "I take look\n",
      "Someone bewitched it\n",
      "I said anything\n",
      "oaf led you\n",
      "I suggested it\n",
      "Cedric Diggory told you\n",
      "I told him\n",
      "Neville Longbottom provided you\n",
      "I given book\n",
      "that led him\n",
      "You put name\n",
      "You bewitched Krum\n",
      "he reward me\n",
      "We get you\n",
      "I show mine\n",
      "you show yours\n",
      "this means what\n",
      "I help it\n",
      "they missing prisoner\n",
      "I had time\n",
      "you have right\n",
      "me tell this\n",
      "we celebrate boy\n",
      "I liked curtains\n",
      "I put you\n",
      "You saw parents\n",
      "spell reawaken dead\n",
      "you know that\n",
      "we face choice\n",
      "You have friends\n",
      "we have year\n",
      "I disappoint you\n",
      "I give greeting\n",
      "Some had bit\n",
      "that cleared sinuses\n",
      "that cleared shambles\n",
      "Girls choose bunk\n",
      "I love magic\n",
      "he rides wind\n",
      "I love you\n",
      "Irish got pride\n",
      "we lost you\n",
      "Which conjured it\n",
      "I see face\n",
      "I get it\n",
      "who conjured it\n",
      "what worried them\n",
      "you saw what\n",
      "Dumblydorr traveled way\n",
      "horses traveled way\n",
      "they drink whiskey\n",
      "what awaits student\n",
      "who wins Tournament\n",
      "student survive tasks\n",
      "we have head\n",
      "you doing what\n",
      "Anyone write name\n",
      "Dumbledore asked me\n",
      "which tell me\n",
      "curses do what\n",
      "codger see back\n",
      "we see curse\n",
      "dad tell me\n",
      "this show you\n",
      "I have What\n",
      "we sort liars\n",
      "Sprout tells me\n",
      "you have aptitude\n",
      "it bothering him\n",
      "you give Curse\n",
      "you see face\n",
      "We have cup\n",
      "we done it\n",
      "You see this\n",
      "Dumbledore drew it\n",
      "you want piece\n",
      "I tear ears\n",
      "We have champions\n",
      "Only one hoist chalice\n",
      "I tell you\n",
      "you put name\n",
      "you ask one\n",
      "Confundus Charm hoodwinked it\n",
      "The Goblet of Fire constitutes contract\n",
      "Potter has choice\n",
      "you suggest What\n",
      "You heard Barty\n",
      "you accommodate Ministry\n",
      "Alastor keep eye\n",
      "I do that\n",
      "you do it\n",
      "You know bloody\n",
      "I put name\n",
      "I want glory\n",
      "mysteries do mask\n",
      "I use Quill\n",
      "who mastered spells\n",
      "Everyone loves rebel\n",
      "attitude shows need\n",
      "eyes swimming Sirius\n",
      "I have time\n",
      "you put name\n",
      "You mentioned Wormtail\n",
      "You hear name\n",
      "Voldemort giving job\n",
      "you saying What\n",
      "one put name\n",
      "I have clue\n",
      "who put name\n",
      "You have choice\n",
      "I heard voices\n",
      "you imagining things\n",
      "You doing it\n",
      "Moody gave it\n",
      "we had tea\n",
      "me say What\n",
      "Ronald like me\n",
      "you do this\n",
      "you bring cloak\n",
      "I asked you\n",
      "I brought cloak\n",
      "Hagrid combed hair\n",
      "you combed hair\n",
      "you forgotten me\n",
      "Ron tell that\n",
      "He tell thing\n",
      "I have word\n",
      "They got one\n",
      "Ced leave him\n",
      "I asked them\n",
      "you know that\n",
      "father have bet\n",
      "I give damn\n",
      "I give Malfoy\n",
      "father thinks what\n",
      "I teach you\n",
      "you doing What\n",
      "I tell stories\n",
      "that curl hair\n",
      "We use transfiguration\n",
      "Dumbledore told that\n",
      "He mentioned it\n",
      "me keep eye\n",
      "I see whites\n",
      "You believe it\n",
      "he turn whistle\n",
      "They have strategy\n",
      "I heard it\n",
      "Who fancies flutter\n",
      "Each involves danger\n",
      "This minimize risks\n",
      "you make page\n",
      "You have business\n",
      "we wanted what\n",
      "you doing What\n",
      "Which leaves Horntail\n",
      "you do This\n",
      "me open it\n",
      "me open it\n",
      "you done it\n",
      "Everyone saying it\n",
      "me feel loads\n",
      "I warned you\n",
      "Hagrid warned me\n",
      "I told Hermione\n",
      "Seamus told me\n",
      "Parvati told Dean\n",
      "Seamus told anything\n",
      "you figured that\n",
      "Who figure that\n",
      "I believe it\n",
      "Harry Potter's taking blow\n",
      "I told him\n",
      "I get him\n",
      "I get autograph\n",
      "Mum sent something\n",
      "Mum sent dress\n",
      "it match eyes\n",
      "each put foot\n",
      "I mean this\n",
      "I have you\n",
      "you join me\n",
      "him forget this\n",
      "You slayed dragons\n",
      "you get date\n",
      "I take dragon\n",
      "I know her\n",
      "I pick him\n",
      "I started school\n",
      "he take himself\n",
      "It interest you\n",
      "Neville got someone\n",
      ", believe it\n",
      "someone asked me\n",
      "we have partners\n",
      "I catch that\n",
      "He asked Fleur Delacour\n",
      "she say What\n",
      "I like it\n",
      "I help it\n",
      "you do what\n",
      "she tell us\n",
      "we take mickey\n",
      "Nobody asked her\n",
      "I told that\n",
      "Harry take waist\n",
      "who don care\n",
      "I have arm\n",
      "Who wanting autograph\n",
      "it wanting autograph\n",
      "He using you\n",
      "I take care\n",
      "I doubt it\n",
      "you think what\n",
      "I think what\n",
      "You know solution\n",
      "you spoiled everything\n",
      "me see it\n",
      "I give greeting\n",
      "you told me\n",
      "you figured the egg out weeks ago\n",
      "I had idea\n",
      "Viktor figured it\n",
      "he watches me\n",
      "he watches study\n",
      "I thanked you\n",
      "you done same\n",
      "You know bathroom\n",
      "I circling drain\n",
      "I saw bit\n",
      "he did what\n",
      "we took what\n",
      "It took ages\n",
      "Harry tell me\n",
      "you held underwater\n",
      "we do this\n",
      "three figure it\n",
      "McGonagall wants you\n",
      "Potter put books\n",
      "who growing trees\n",
      "me breathe underwater\n",
      "you use gillyweed\n",
      "You telling this\n",
      "magic save them\n",
      "I see him\n",
      "I killed Harry Potter\n",
      "she take part\n",
      "Go get towel\n",
      "I want judges\n",
      "You saved her\n",
      "who showed command\n",
      "I heard times\n",
      "I met you\n",
      "I set eyes\n",
      "you remind me\n",
      "we got other\n",
      "Hogwarts Teach something\n",
      "You take action\n",
      "others think what\n",
      "you say What\n",
      "It interest you\n",
      "you accept terms\n",
      "I have names\n",
      "He took piece\n",
      "He passed information\n",
      "I have more\n",
      "I given evidence\n",
      "witness possesses name\n",
      "I heard more\n",
      "person took part\n",
      "you exercise caution\n",
      "you find mind\n",
      "me see things\n",
      "I overlooked something\n",
      "he had choice\n",
      "I had dream\n",
      "I see what\n",
      "it means what\n",
      "drops spill secrets\n",
      "I stolen anything\n",
      "You brewing Polyjuice Potion\n",
      "Moody placed the Triwizard Cup\n",
      "he knows position\n",
      "I instructed staff\n",
      "she send sparks\n",
      "you find dragons\n",
      "you face something\n",
      "you lose yourselves\n",
      "Champions prepare yourselves\n",
      "it get me\n",
      "You saved me\n",
      "you want What\n",
      "I detected sign\n",
      "I assure you\n",
      "I renounced ways\n",
      "I introduce you\n",
      "word has it\n",
      "lies fed legend\n",
      "I lost powers\n",
      "Lily Potter gave life\n",
      "she provided protection\n",
      "I touch him\n",
      "I touch you\n",
      "you forget manners\n",
      "one question powers\n",
      "you turn back\n",
      "I kill you\n",
      "light leave eyes\n",
      "Harry take body\n",
      "He did it\n",
      "he asked me\n",
      "I leave him\n",
      "I got you\n",
      "I got you\n",
      "I take look\n",
      "Someone bewitched it\n",
      "I said anything\n",
      "oaf led you\n",
      "I suggested it\n",
      "Cedric Diggory told you\n",
      "I told him\n",
      "Neville Longbottom provided you\n",
      "I given book\n",
      "that led him\n",
      "You put name\n",
      "You bewitched Krum\n",
      "he reward me\n",
      "We get you\n",
      "I show mine\n",
      "you show yours\n",
      "this means what\n",
      "I help it\n",
      "they missing prisoner\n",
      "I had time\n",
      "you have right\n",
      "me tell this\n",
      "we celebrate boy\n",
      "I liked curtains\n",
      "I put you\n",
      "You saw parents\n",
      "spell reawaken dead\n",
      "you know that\n",
      "we face choice\n",
      "You have friends\n",
      "we have year\n"
     ]
    }
   ],
   "source": [
    "## MATCHER to find relationships\n",
    "relation_verbs= [\"kiss\", \"love\", \"date\", \"sleep\", \"cheat\", \"flirt\", \"dump\", \"fall\", \"charm\", \"hug\", \"propose\", \"marry\", \"divorce\"]\n",
    "[(\"break\", \"up\"), (\"ask\", \"out\"), (\"make\", \"out\"), (\"split\", \"up\")] # verbs with prt\n",
    "for rv in relation_verbs:\n",
    "    pattern = [\n",
    "    {\n",
    "        \"RIGHT_ID\": \"action\",\n",
    "        \"RIGHT_ATTRS\": {\"POS\": \"VERB\"}\n",
    "    },\n",
    "    {\n",
    "        \"LEFT_ID\": \"action\",\n",
    "        \"REL_OP\": \">\",\n",
    "        \"RIGHT_ID\": \"a\",\n",
    "        \"RIGHT_ATTRS\": {\"DEP\": \"nsubj\"}\n",
    "    },\n",
    "    {\n",
    "        \"LEFT_ID\": \"action\",\n",
    "        \"REL_OP\": \">\",\n",
    "        \"RIGHT_ID\": \"b\",\n",
    "        \"RIGHT_ATTRS\": {\"DEP\": \"dobj\"}\n",
    "    },\n",
    "    ]\n",
    "    ddoc = nlp(\"Harry kiss Hermione\")\n",
    "    matcher = DependencyMatcher(nlp.vocab)\n",
    "    matcher.add(f\"Passive\", [pattern])\n",
    "    matches = matcher(doc)\n",
    "\n",
    "    words = []\n",
    "    for match_id, (action, a, b) in matcher(doc):\n",
    "        print(doc[a].text, doc[action].text, doc[b].text)"
   ]
  },
  {
   "cell_type": "code",
   "execution_count": null,
   "metadata": {},
   "outputs": [],
   "source": [
    "def get_character_profiles(subs, language=\"en\"):\n",
    "    nlp = spacy.load(\"en_core_web_lg\")\n",
    "    doc = nlp(\" \".join([clean_text(s.text) for s in subs]))\n",
    "    entities = pd.Series([e.text for e in doc.ents if e.label_ in [\"PERSON\", \"ORG\", \"GPE\", \"LOC\"]])\n",
    "    \n",
    "    modifiers = get_modifiers(doc, entities)\n",
    "    actions = get_actions(doc, entities)\n",
    "    passives = get_passives(doc, entities)\n",
    "    \n",
    "    grouped_entities = regroup_entities(entities)\n",
    "    inverse_entities = {}\n",
    "    for k, v in grouped_entities.items():\n",
    "        inverse_entities.setdefault(v,[]).append(k)\n",
    "    \n",
    "    grouped_modifiers = {k:v if grouped_entities.get(k) is None else inverse_entities.get(grouped_entities.get(k))[0] for k, v in modifiers.items() }\n",
    "    grouped_actions = {k:v if grouped_entities.get(k) is None else inverse_entities.get(grouped_entities.get(k))[0] for k, v in actions.items() }\n",
    "    grouped_passives = {k:v if grouped_entities.get(k) is None else inverse_entities.get(grouped_entities.get(k))[0] for k, v in passives.items() }\n"
   ]
  },
  {
   "cell_type": "code",
   "execution_count": null,
   "metadata": {},
   "outputs": [
    {
     "name": "stdout",
     "output_type": "stream",
     "text": [
      "{('Ireland', 'Moran'): 1, ('Viktor', 'Viktor'): 1, ('Hermione', 'Ron'): 1, ('Dad', 'Loads'): 1, ('Madame Maxime', 'the Beauxbatons Academy of Magic'): 1, ('Durmstrang', 'Karkaroff.'): 1, ('Auror', 'Auror'): 1, ('Durmstrang', 'Viktor Krum'): 1, ('Beauxbatons', 'Fleur Delacour'): 1, ('Cedric Diggory', 'Hogwarts'): 1, ('Alastor', 'Harry'): 1, (\"Harry Potter's\", 'Ron Weasley'): 1, ('Harry', 'Hedwig'): 1, ('Voldemort', 'Wormtail'): 1, ('Ronald', 'Seamus'): 1, ('Dean', 'Ronald'): 1, ('Parvati', 'Ronald'): 1, ('Hagrid', 'Ronald'): 1, ('Dean', 'Seamus'): 1, ('Parvati', 'Seamus'): 1, ('Hagrid', 'Seamus'): 1, ('Dean', 'Parvati'): 1, ('Dean', 'Hagrid'): 2, ('Hagrid', 'Parvati'): 1, ('Charlie', 'Romania'): 1, ('Fleur', 'Krum'): 1, (\"Karkaroff's\", 'Krum'): 1, ('Potter', 'Potter'): 1, ('Diggory', 'Diggory'): 1, ('Hermione', 'Seamus'): 1, ('Hermione', 'Parvati'): 1, ('Dean', 'Hermione'): 1, ('Hagrid', 'Hermione'): 1, ('Cho', 'Harry'): 1, ('Patil', 'Weasley'): 1, ('Potter', 'Weasley'): 2, ('Granger', 'Potter'): 1, ('Granger', 'Weasley'): 1, ('Beauxbatons', 'Delacour'): 1, ('Hagrid', 'Harry'): 1, ('Ministry', 'Potter'): 1, ('Hogwarts', 'Warty Hogwarts'): 1, ('Crouch', 'Hogwarts'): 1, ('Crouch', 'Warty Hogwarts'): 1, ('Harry', 'Licorice Snap'): 1, ('Severus Snape', 'Voldemort'): 1, ('Diggory', 'Potter'): 1, ('Diggory', 'Krum'): 1, ('Delacour', 'Diggory'): 1, ('Krum', 'Potter'): 2, ('Delacour', 'Potter'): 1, ('Delacour', 'Krum'): 1, ('Fleur', 'Fleur'): 1, ('Goyle', 'Macnair'): 1, ('Attaboy', 'Harry'): 1, ('Expelliar', 'Harry Potter'): 1, ('Cedric Diggory', 'Voldemort'): 1}\n"
     ]
    }
   ],
   "source": [
    "relations = {}\n",
    "for s in doc.sents:\n",
    "    ent_text = [e.text.strip() for e in  s.ents if e.text.strip() in entity_texts.tolist()]\n",
    "    if len(ent_text) > 1:\n",
    "        for ent_a, ent_b in itertools.combinations(ent_text, 2):\n",
    "            k = tuple(sorted((ent_a, ent_b)))\n",
    "            if relations.get((ent_a, ent_b)) is None:\n",
    "                relations[k] = 1\n",
    "            else:\n",
    "                relations[k] = relations[k] + 1\n",
    "print(relations)"
   ]
  },
  {
   "cell_type": "code",
   "execution_count": null,
   "metadata": {},
   "outputs": [],
   "source": [
    "segments = pd.read_csv(\"HP4_results.csv\", sep=\";\")"
   ]
  },
  {
   "cell_type": "code",
   "execution_count": null,
   "metadata": {},
   "outputs": [
    {
     "data": {
      "text/html": [
       "<div>\n",
       "<style scoped>\n",
       "    .dataframe tbody tr th:only-of-type {\n",
       "        vertical-align: middle;\n",
       "    }\n",
       "\n",
       "    .dataframe tbody tr th {\n",
       "        vertical-align: top;\n",
       "    }\n",
       "\n",
       "    .dataframe thead th {\n",
       "        text-align: right;\n",
       "    }\n",
       "</style>\n",
       "<table border=\"1\" class=\"dataframe\">\n",
       "  <thead>\n",
       "    <tr style=\"text-align: right;\">\n",
       "      <th></th>\n",
       "      <th>gender</th>\n",
       "      <th>start</th>\n",
       "      <th>end</th>\n",
       "      <th>transcription</th>\n",
       "    </tr>\n",
       "  </thead>\n",
       "  <tbody>\n",
       "    <tr>\n",
       "      <th>0</th>\n",
       "      <td>male</td>\n",
       "      <td>84.86</td>\n",
       "      <td>85.44</td>\n",
       "      <td>NaN</td>\n",
       "    </tr>\n",
       "    <tr>\n",
       "      <th>1</th>\n",
       "      <td>male</td>\n",
       "      <td>86.06</td>\n",
       "      <td>88.56</td>\n",
       "      <td>NaN</td>\n",
       "    </tr>\n",
       "    <tr>\n",
       "      <th>2</th>\n",
       "      <td>male</td>\n",
       "      <td>89.44</td>\n",
       "      <td>90.64</td>\n",
       "      <td>NaN</td>\n",
       "    </tr>\n",
       "    <tr>\n",
       "      <th>3</th>\n",
       "      <td>male</td>\n",
       "      <td>92.56</td>\n",
       "      <td>93.06</td>\n",
       "      <td>NaN</td>\n",
       "    </tr>\n",
       "    <tr>\n",
       "      <th>4</th>\n",
       "      <td>male</td>\n",
       "      <td>93.50</td>\n",
       "      <td>95.26</td>\n",
       "      <td>NaN</td>\n",
       "    </tr>\n",
       "    <tr>\n",
       "      <th>...</th>\n",
       "      <td>...</td>\n",
       "      <td>...</td>\n",
       "      <td>...</td>\n",
       "      <td>...</td>\n",
       "    </tr>\n",
       "    <tr>\n",
       "      <th>954</th>\n",
       "      <td>male</td>\n",
       "      <td>8470.86</td>\n",
       "      <td>8505.88</td>\n",
       "      <td>ceci est pour toi écris-moi</td>\n",
       "    </tr>\n",
       "    <tr>\n",
       "      <th>955</th>\n",
       "      <td>female</td>\n",
       "      <td>8544.28</td>\n",
       "      <td>8548.72</td>\n",
       "      <td>vous croyez qu'on connaîtra une année tranquil...</td>\n",
       "    </tr>\n",
       "    <tr>\n",
       "      <th>956</th>\n",
       "      <td>male</td>\n",
       "      <td>8548.72</td>\n",
       "      <td>8551.92</td>\n",
       "      <td>mais je serai la vie sans quelques</td>\n",
       "    </tr>\n",
       "    <tr>\n",
       "      <th>957</th>\n",
       "      <td>female</td>\n",
       "      <td>8573.22</td>\n",
       "      <td>8578.80</td>\n",
       "      <td>remettez-moi décrire cet été tous les deux</td>\n",
       "    </tr>\n",
       "    <tr>\n",
       "      <th>958</th>\n",
       "      <td>female</td>\n",
       "      <td>8580.66</td>\n",
       "      <td>8583.30</td>\n",
       "      <td>toi tu m'écriras</td>\n",
       "    </tr>\n",
       "  </tbody>\n",
       "</table>\n",
       "<p>959 rows × 4 columns</p>\n",
       "</div>"
      ],
      "text/plain": [
       "     gender    start      end  \\\n",
       "0      male    84.86    85.44   \n",
       "1      male    86.06    88.56   \n",
       "2      male    89.44    90.64   \n",
       "3      male    92.56    93.06   \n",
       "4      male    93.50    95.26   \n",
       "..      ...      ...      ...   \n",
       "954    male  8470.86  8505.88   \n",
       "955  female  8544.28  8548.72   \n",
       "956    male  8548.72  8551.92   \n",
       "957  female  8573.22  8578.80   \n",
       "958  female  8580.66  8583.30   \n",
       "\n",
       "                                         transcription  \n",
       "0                                                  NaN  \n",
       "1                                                  NaN  \n",
       "2                                                  NaN  \n",
       "3                                                  NaN  \n",
       "4                                                  NaN  \n",
       "..                                                 ...  \n",
       "954                        ceci est pour toi écris-moi  \n",
       "955  vous croyez qu'on connaîtra une année tranquil...  \n",
       "956                 mais je serai la vie sans quelques  \n",
       "957         remettez-moi décrire cet été tous les deux  \n",
       "958                                   toi tu m'écriras  \n",
       "\n",
       "[959 rows x 4 columns]"
      ]
     },
     "execution_count": 40,
     "metadata": {},
     "output_type": "execute_result"
    }
   ],
   "source": [
    "segments"
   ]
  },
  {
   "cell_type": "code",
   "execution_count": null,
   "metadata": {},
   "outputs": [
    {
     "data": {
      "text/plain": [
       "{'male': 2655.220000000011, 'female': 902.159999999995}"
      ]
     },
     "execution_count": 91,
     "metadata": {},
     "output_type": "execute_result"
    }
   ],
   "source": [
    "def compute_gender_spoken_time(segments):\n",
    "    spoken_time = {\"male\": 0, \"female\": 0}\n",
    "    for i, seg in enumerate(segments.itertuples()):\n",
    "        current = spoken_time[seg.gender]\n",
    "        spoken_time[seg.gender] = current + (seg.end - seg.start)\n",
    "    return spoken_time\n",
    "compute_gender_spoken_time(segments)"
   ]
  },
  {
   "cell_type": "code",
   "execution_count": null,
   "metadata": {},
   "outputs": [],
   "source": [
    "delta = 108.157 - 84.86"
   ]
  },
  {
   "cell_type": "code",
   "execution_count": null,
   "metadata": {},
   "outputs": [],
   "source": [
    "def segment_dialogs_by_gender(segments, subs):\n",
    "    dialogs = {}\n",
    "    for s in subs: \n",
    "        for i, seg in enumerate(segments.itertuples()):\n",
    "            if s.start.ordinal / 1000 - delta > seg.start and s.end.ordinal / 1000 - delta < segments.loc[min(i + 1, len(segments)- 1), \"start\"]:\n",
    "                dialogs.setdefault(seg.gender,[]).append(clean_text(s.text))\n",
    "    return dialogs\n",
    "dialogs = segment_dialogs_by_gender(segments, subs)"
   ]
  },
  {
   "cell_type": "code",
   "execution_count": null,
   "metadata": {},
   "outputs": [
    {
     "name": "stdout",
     "output_type": "stream",
     "text": [
      "male\n",
      "851\n",
      "6699\n",
      "female\n",
      "221\n",
      "1775\n"
     ]
    }
   ],
   "source": [
    "for g in [\"male\", \"female\"]:\n",
    "    print(g)\n",
    "    print(len(dialogs[g]))\n",
    "    \n",
    "    d = nlp(\" \".join(dialogs[g]))\n",
    "    print(len(d))"
   ]
  },
  {
   "cell_type": "code",
   "execution_count": null,
   "metadata": {},
   "outputs": [],
   "source": [
    "from bertopic import BERTopic\n",
    "import pandas as pd\n",
    "import matplotlib.pyplot as plt\n",
    "import spacy\n",
    "import pyLDAvis.gensim_models\n",
    "pyLDAvis.enable_notebook()# Visualise inside a notebook\n",
    "from gensim.corpora.dictionary import Dictionary\n",
    "from gensim.models import LdaMulticore\n",
    "from gensim.models import CoherenceModel"
   ]
  },
  {
   "cell_type": "code",
   "execution_count": null,
   "metadata": {},
   "outputs": [],
   "source": [
    "def topic_modeling_processing(text):\n",
    "    removal= ['ADV','PRON','CCONJ','PUNCT','PART','DET','ADP','SPACE', 'NUM', 'SYM']\n",
    "    tokens = []\n",
    "    for summary in nlp.pipe(text):\n",
    "        proj_tok = [token.lemma_.lower() for token in summary if token.pos_ not in removal and not token.is_stop and token.is_alpha]\n",
    "        tokens.append(proj_tok)\n",
    "    return tokens"
   ]
  },
  {
   "cell_type": "code",
   "execution_count": null,
   "metadata": {},
   "outputs": [],
   "source": [
    "male_tm_text = topic_modeling_processing(dialogs[\"male\"])\n",
    "male_dictionary = Dictionary(male_tm_text)\n",
    "male_dictionary.filter_extremes(no_below=5, no_above=0.5, keep_n=1000)\n",
    "male_corpus = [male_dictionary.doc2bow(doc) for doc in male_tm_text]"
   ]
  },
  {
   "cell_type": "code",
   "execution_count": null,
   "metadata": {},
   "outputs": [
    {
     "name": "stdout",
     "output_type": "stream",
     "text": [
      "huggingface/tokenizers: The current process just got forked, after parallelism has already been used. Disabling parallelism to avoid deadlocks...\n",
      "To disable this warning, you can either:\n",
      "\t- Avoid using `tokenizers` before the fork if possible\n",
      "\t- Explicitly set the environment variable TOKENIZERS_PARALLELISM=(true | false)\n",
      "huggingface/tokenizers: The current process just got forked, after parallelism has already been used. Disabling parallelism to avoid deadlocks...\n",
      "To disable this warning, you can either:\n",
      "\t- Avoid using `tokenizers` before the fork if possible\n",
      "\t- Explicitly set the environment variable TOKENIZERS_PARALLELISM=(true | false)\n",
      "huggingface/tokenizers: The current process just got forked, after parallelism has already been used. Disabling parallelism to avoid deadlocks...\n",
      "To disable this warning, you can either:\n",
      "\t- Avoid using `tokenizers` before the fork if possible\n",
      "\t- Explicitly set the environment variable TOKENIZERS_PARALLELISM=(true | false)\n",
      "huggingface/tokenizers: The current process just got forked, after parallelism has already been used. Disabling parallelism to avoid deadlocks...\n",
      "To disable this warning, you can either:\n",
      "\t- Avoid using `tokenizers` before the fork if possible\n",
      "\t- Explicitly set the environment variable TOKENIZERS_PARALLELISM=(true | false)\n"
     ]
    }
   ],
   "source": [
    "male_lda_model = LdaMulticore(corpus=male_corpus, id2word=male_dictionary, iterations=50, num_topics=10, workers = 4, passes=10)"
   ]
  },
  {
   "cell_type": "code",
   "execution_count": null,
   "metadata": {},
   "outputs": [
    {
     "data": {
      "text/plain": [
       "[(0,\n",
       "  '0.501*\"harry\" + 0.291*\"know\" + 0.063*\"curse\" + 0.063*\"stand\" + 0.005*\"neville\" + 0.005*\"yes\" + 0.004*\"get\" + 0.004*\"old\" + 0.002*\"miss\" + 0.002*\"sir\"'),\n",
       " (1,\n",
       "  '0.154*\"champion\" + 0.139*\"sir\" + 0.116*\"want\" + 0.090*\"dark\" + 0.078*\"home\" + 0.065*\"hagrid\" + 0.064*\"give\" + 0.064*\"eye\" + 0.052*\"moment\" + 0.040*\"dragon\"'),\n",
       " (2,\n",
       "  '0.119*\"boy\" + 0.096*\"ron\" + 0.083*\"ask\" + 0.072*\"tournament\" + 0.070*\"voldemort\" + 0.067*\"ready\" + 0.060*\"choose\" + 0.060*\"triwizard\" + 0.060*\"shall\" + 0.058*\"lord\"'),\n",
       " (3,\n",
       "  '0.234*\"yeah\" + 0.204*\"potter\" + 0.103*\"thank\" + 0.062*\"good\" + 0.062*\"end\" + 0.058*\"get\" + 0.052*\"cedric\" + 0.051*\"say\" + 0.042*\"come\" + 0.022*\"wand\"'),\n",
       " (4,\n",
       "  '0.180*\"time\" + 0.132*\"arm\" + 0.132*\"take\" + 0.113*\"go\" + 0.095*\"moody\" + 0.095*\"thing\" + 0.060*\"professor\" + 0.021*\"moment\" + 0.021*\"cedric\" + 0.021*\"dumbledore\"'),\n",
       " (5,\n",
       "  '0.245*\"think\" + 0.189*\"let\" + 0.173*\"oh\" + 0.077*\"blimey\" + 0.064*\"sure\" + 0.052*\"happen\" + 0.039*\"dragon\" + 0.027*\"bloody\" + 0.020*\"know\" + 0.014*\"friend\"'),\n",
       " (6,\n",
       "  '0.147*\"way\" + 0.131*\"task\" + 0.115*\"find\" + 0.091*\"old\" + 0.082*\"son\" + 0.082*\"talk\" + 0.066*\"wand\" + 0.066*\"dragon\" + 0.059*\"neville\" + 0.034*\"hear\"'),\n",
       " (7,\n",
       "  '0.283*\"right\" + 0.135*\"great\" + 0.100*\"bit\" + 0.085*\"suppose\" + 0.085*\"ministry\" + 0.068*\"hear\" + 0.068*\"sorry\" + 0.019*\"give\" + 0.018*\"eye\" + 0.009*\"time\"'),\n",
       " (8,\n",
       "  '0.180*\"look\" + 0.159*\"professor\" + 0.122*\"hermione\" + 0.121*\"mean\" + 0.102*\"cup\" + 0.101*\"bloody\" + 0.022*\"neville\" + 0.022*\"eye\" + 0.022*\"triwizard\" + 0.012*\"know\"'),\n",
       " (9,\n",
       "  '0.228*\"yes\" + 0.181*\"come\" + 0.149*\"krum\" + 0.146*\"tell\" + 0.063*\"father\" + 0.059*\"miss\" + 0.054*\"friend\" + 0.043*\"dumbledore\" + 0.005*\"think\" + 0.002*\"voldemort\"')]"
      ]
     },
     "execution_count": 151,
     "metadata": {},
     "output_type": "execute_result"
    }
   ],
   "source": [
    "male_lda_model.print_topics(-1)"
   ]
  },
  {
   "cell_type": "code",
   "execution_count": null,
   "metadata": {},
   "outputs": [
    {
     "name": "stderr",
     "output_type": "stream",
     "text": [
      "/Users/thomas/Library/Caches/pypoetry/virtualenvs/bechdelai-E1SYiBH5-py3.9/lib/python3.9/site-packages/past/builtins/misc.py:45: DeprecationWarning: the imp module is deprecated in favour of importlib; see the module's documentation for alternative uses\n",
      "  from imp import reload\n",
      "/Users/thomas/Library/Caches/pypoetry/virtualenvs/bechdelai-E1SYiBH5-py3.9/lib/python3.9/site-packages/past/builtins/misc.py:45: DeprecationWarning: the imp module is deprecated in favour of importlib; see the module's documentation for alternative uses\n",
      "  from imp import reload\n",
      "/Users/thomas/Library/Caches/pypoetry/virtualenvs/bechdelai-E1SYiBH5-py3.9/lib/python3.9/site-packages/past/builtins/misc.py:45: DeprecationWarning: the imp module is deprecated in favour of importlib; see the module's documentation for alternative uses\n",
      "  from imp import reload\n",
      "/Users/thomas/Library/Caches/pypoetry/virtualenvs/bechdelai-E1SYiBH5-py3.9/lib/python3.9/site-packages/past/builtins/misc.py:45: DeprecationWarning: the imp module is deprecated in favour of importlib; see the module's documentation for alternative uses\n",
      "  from imp import reload\n"
     ]
    },
    {
     "data": {
      "text/html": [
       "\n",
       "<link rel=\"stylesheet\" type=\"text/css\" href=\"https://cdn.jsdelivr.net/gh/bmabey/pyLDAvis@3.3.1/pyLDAvis/js/ldavis.v1.0.0.css\">\n",
       "\n",
       "\n",
       "<div id=\"ldavis_el316772329288967862729488\"></div>\n",
       "<script type=\"text/javascript\">\n",
       "\n",
       "var ldavis_el316772329288967862729488_data = {\"mdsDat\": {\"x\": [0.1354701006279136, 0.3168702254250303, -0.11281722464091848, -0.12199306254836945, -0.03595950270085155, -0.10958067175949032, 0.19111573393738798, -0.1224038836965393, -0.08341926132611678, -0.05728245331804635], \"y\": [-0.29580527177029814, 0.09170289100957449, 0.17220325740966083, -0.1498646448300116, -0.08573970407791617, 0.10117675231645694, 0.12191666460591372, 0.004268326551532983, 0.012034990925593394, 0.02810673785949401], \"topics\": [1, 2, 3, 4, 5, 6, 7, 8, 9, 10], \"cluster\": [1, 1, 1, 1, 1, 1, 1, 1, 1, 1], \"Freq\": [13.99329479376119, 12.466239912464532, 11.324227632487439, 10.187923374047894, 10.15426901868233, 9.67378517964129, 9.073833472999482, 8.374252419125176, 7.487599751143047, 7.26457444564762]}, \"tinfo\": {\"Term\": [\"harry\", \"know\", \"yes\", \"potter\", \"right\", \"come\", \"champion\", \"yeah\", \"tell\", \"oh\", \"krum\", \"want\", \"old\", \"task\", \"ron\", \"let\", \"good\", \"thank\", \"curse\", \"dragon\", \"eye\", \"sir\", \"think\", \"boy\", \"professor\", \"blimey\", \"home\", \"friend\", \"ask\", \"ready\", \"know\", \"yeah\", \"let\", \"time\", \"look\", \"go\", \"neville\", \"great\", \"think\", \"dumbledore\", \"shall\", \"find\", \"hagrid\", \"get\", \"friend\", \"ministry\", \"moment\", \"eye\", \"talk\", \"mean\", \"miss\", \"moody\", \"cup\", \"oh\", \"tournament\", \"good\", \"hear\", \"give\", \"choose\", \"suppose\", \"tell\", \"blimey\", \"come\", \"old\", \"professor\", \"professor\", \"harry\", \"moody\", \"cup\", \"moment\", \"way\", \"think\", \"say\", \"give\", \"neville\", \"hear\", \"look\", \"talk\", \"eye\", \"ministry\", \"choose\", \"suppose\", \"go\", \"leave\", \"sure\", \"hagrid\", \"mean\", \"thing\", \"find\", \"shall\", \"body\", \"son\", \"end\", \"tournament\", \"triwizard\", \"come\", \"want\", \"bloody\", \"oh\", \"let\", \"great\", \"krum\", \"know\", \"task\", \"yeah\", \"dragon\", \"ready\", \"time\", \"tell\", \"krum\", \"dragon\", \"come\", \"boy\", \"give\", \"mean\", \"bloody\", \"cedric\", \"end\", \"miss\", \"oh\", \"find\", \"neville\", \"moody\", \"moment\", \"cup\", \"triwizard\", \"voldemort\", \"choose\", \"leave\", \"thing\", \"talk\", \"go\", \"ministry\", \"get\", \"suppose\", \"shall\", \"sure\", \"hagrid\", \"tournament\", \"happen\", \"task\", \"think\", \"say\", \"curse\", \"yeah\", \"thank\", \"ron\", \"champion\", \"right\", \"know\", \"yes\", \"thank\", \"arm\", \"tournament\", \"triwizard\", \"sir\", \"take\", \"cedric\", \"great\", \"shall\", \"say\", \"friend\", \"neville\", \"cup\", \"moment\", \"moody\", \"leave\", \"thing\", \"body\", \"talk\", \"ministry\", \"choose\", \"suppose\", \"go\", \"sure\", \"hagrid\", \"bloody\", \"father\", \"give\", \"mean\", \"know\", \"sorry\", \"time\", \"look\", \"harry\", \"krum\", \"dark\", \"ask\", \"tell\", \"come\", \"task\", \"right\", \"potter\", \"tell\", \"wand\", \"father\", \"hear\", \"talk\", \"stand\", \"happen\", \"dumbledore\", \"say\", \"body\", \"yeah\", \"choose\", \"cup\", \"moody\", \"neville\", \"moment\", \"let\", \"go\", \"triwizard\", \"ministry\", \"suppose\", \"leave\", \"sure\", \"hagrid\", \"thing\", \"shall\", \"give\", \"mean\", \"son\", \"harry\", \"find\", \"sir\", \"professor\", \"ron\", \"boy\", \"know\", \"krum\", \"think\", \"hermione\", \"good\", \"bit\", \"voldemort\", \"suppose\", \"ministry\", \"get\", \"choose\", \"oh\", \"find\", \"leave\", \"sure\", \"lord\", \"moody\", \"neville\", \"cup\", \"moment\", \"come\", \"talk\", \"ask\", \"go\", \"hagrid\", \"mean\", \"thing\", \"tournament\", \"triwizard\", \"shall\", \"body\", \"give\", \"son\", \"end\", \"hermione\", \"good\", \"potter\", \"yeah\", \"harry\", \"old\", \"yes\", \"say\", \"dark\", \"bloody\", \"professor\", \"right\", \"look\", \"think\", \"sir\", \"ron\", \"right\", \"hermione\", \"thing\", \"sorry\", \"hagrid\", \"dark\", \"dumbledore\", \"end\", \"think\", \"ask\", \"harry\", \"come\", \"body\", \"sure\", \"get\", \"stand\", \"neville\", \"moment\", \"moody\", \"cup\", \"talk\", \"go\", \"ministry\", \"choose\", \"suppose\", \"leave\", \"give\", \"good\", \"shall\", \"wand\", \"cedric\", \"want\", \"dragon\", \"tell\", \"task\", \"potter\", \"oh\", \"champion\", \"yeah\", \"champion\", \"ron\", \"son\", \"ready\", \"body\", \"ask\", \"shall\", \"happen\", \"sure\", \"bloody\", \"take\", \"neville\", \"moment\", \"moody\", \"cup\", \"mean\", \"talk\", \"ministry\", \"choose\", \"suppose\", \"go\", \"leave\", \"hagrid\", \"thing\", \"hear\", \"wand\", \"give\", \"voldemort\", \"end\", \"tournament\", \"triwizard\", \"arm\", \"great\", \"boy\", \"know\", \"harry\", \"dragon\", \"thank\", \"sir\", \"come\", \"cedric\", \"miss\", \"yeah\", \"curse\", \"eye\", \"blimey\", \"home\", \"friend\", \"miss\", \"say\", \"leave\", \"ready\", \"want\", \"go\", \"moment\", \"look\", \"neville\", \"moody\", \"cup\", \"suppose\", \"hagrid\", \"talk\", \"ministry\", \"choose\", \"sure\", \"thing\", \"son\", \"professor\", \"shall\", \"father\", \"body\", \"give\", \"mean\", \"dragon\", \"potter\", \"bit\", \"hermione\", \"champion\", \"know\", \"tell\", \"ron\", \"boy\", \"find\", \"yeah\", \"yes\", \"harry\", \"old\", \"task\", \"good\", \"want\", \"lord\", \"shall\", \"stand\", \"way\", \"dark\", \"ask\", \"sir\", \"sorry\", \"neville\", \"moment\", \"moody\", \"cup\", \"talk\", \"ministry\", \"choose\", \"suppose\", \"miss\", \"go\", \"body\", \"leave\", \"sure\", \"hagrid\", \"thing\", \"tournament\", \"father\", \"give\", \"get\", \"voldemort\", \"hermione\", \"friend\", \"home\", \"take\", \"curse\", \"harry\", \"champion\", \"tell\", \"right\", \"oh\", \"dumbledore\"], \"Freq\": [48.0, 28.0, 20.0, 19.0, 17.0, 18.0, 13.0, 19.0, 13.0, 13.0, 12.0, 10.0, 9.0, 9.0, 9.0, 12.0, 8.0, 9.0, 8.0, 10.0, 8.0, 10.0, 17.0, 9.0, 9.0, 7.0, 7.0, 7.0, 9.0, 7.0, 27.458992790119765, 17.736883586083838, 11.771502216822368, 7.948638558590874, 7.063303183829471, 4.751949859321208, 4.003305069211537, 4.799737753336014, 4.876566301565424, 0.8670795519395068, 0.21668877239122988, 0.2607413069438397, 0.16632587838969368, 0.17742800755178284, 0.15384395526686037, 0.11455027411918516, 0.09700664257611182, 0.1444944406866511, 0.09668144216770772, 0.10656056981483505, 0.11697633888168944, 0.07883543249271828, 0.07883550061891674, 0.21672360758738168, 0.09512812510227323, 0.12602390679590625, 0.09156919546256821, 0.08683115461126668, 0.07883561416258086, 0.07883549494173354, 0.1272924166114471, 0.08337580517915451, 0.10133624415884339, 0.0879170862149037, 0.08598216024873064, 9.03221599419388, 42.513208695385124, 4.1732627350030045, 4.163933037511233, 4.159065721090883, 6.54688466712633, 9.807052501361266, 0.5991327610724999, 0.10723280188826136, 0.08210817788768626, 0.10598247093775874, 0.12569251090249725, 0.08211200652551524, 0.1217571769788747, 0.08210819306062349, 0.08210815259945753, 0.08210814754181178, 0.08210845100055648, 0.08210795535127348, 0.08210812225358306, 0.08210795029362773, 0.08683759253915253, 0.08210798569714794, 0.10424804236712513, 0.08210807167712561, 0.082111495703295, 0.0821083296170586, 0.08210819811826923, 0.08210795029362773, 0.08211163731737585, 0.19649034641761995, 0.10478451696659163, 0.08683906937171008, 0.11349938681101371, 0.10005600257606798, 0.08683746104036316, 0.09629702875957451, 0.10184877614801623, 0.08683740034861423, 0.08211431281197497, 0.08211391325796112, 0.08211385256621218, 0.08211161202914713, 0.082111495703295, 12.025021137374058, 9.42716367055214, 17.250432598197648, 8.617251433874012, 5.179552326154265, 5.165617340450842, 5.1907698249849865, 4.328808099695641, 3.5080279737833746, 0.9411330825184159, 1.3725325798671582, 0.3235203479859385, 0.08557174523737163, 0.08557010046976785, 0.08556441269799833, 0.08556441269799833, 0.10426554899406161, 0.10684932269262681, 0.0904925039847678, 0.09052780676205126, 0.09088639366561362, 0.08556427486831086, 0.087937123201821, 0.08556442188664416, 0.09968753592481482, 0.08556437594341501, 0.0904934136607051, 0.0855643116228942, 0.08557611903278728, 0.09049290828518437, 0.09049303692622601, 0.10162104753519804, 0.12027270297346035, 0.09049368013143419, 0.09445180877561696, 0.11137255305542802, 0.0954220470775786, 0.09049642753653772, 0.09329197195557445, 0.09049349635851757, 0.090660637826187, 19.664311239175383, 8.989690348595966, 6.323645265324948, 5.407957476984685, 5.4028170869662, 8.879587807841853, 5.431578616667201, 1.9046402869174908, 1.873488576380136, 0.8201765139474158, 0.1811151063716109, 0.14027313436939037, 0.09434908516901683, 0.09523525155886606, 0.08921129913953123, 0.08921120820658202, 0.09457392928586145, 0.09435010196472153, 0.09912143647556289, 0.08921728418091493, 0.0892115140719566, 0.08921144793890264, 0.0892114396722709, 0.08921140660574392, 0.0892396123532594, 0.08921123300647726, 0.10870764584664892, 0.0943504078300961, 0.08921157193837882, 0.08921145620553439, 0.23284750596876608, 0.09437853091129414, 0.10462855081154017, 0.09949008691825142, 0.1632968445756617, 0.1097673949698892, 0.0943502259641977, 0.0964495288293241, 0.09949027705078158, 0.10022027023369567, 0.0943499696986136, 0.09525153682340459, 17.952692555477565, 12.648146619067598, 5.503328001563317, 5.498123385313536, 5.46765238734053, 4.578958098547936, 5.453038331135218, 3.7059079792173866, 1.898186428816577, 0.9942156421607407, 0.3601404610820891, 0.5070261546498375, 0.139485659974611, 0.11014612718413509, 0.09559680734830606, 0.0903904443618154, 0.09039032901127794, 0.22258239098152222, 0.09559837281988574, 0.10493768788797032, 0.09039069978086262, 0.09039035372925025, 0.09039037844722257, 0.09039685455596802, 0.09039573400788993, 0.0903954456315463, 0.09039014774614766, 0.09039062562694568, 0.0903904690797877, 0.09039077393477954, 0.31031687273988445, 0.0955966837584445, 0.10601037373234595, 0.10080423320760609, 0.09760623018934743, 0.09559718635721483, 0.10313192466012246, 0.09559660960452757, 0.09600448086562954, 0.0904011307651778, 0.09039741483000707, 5.725851255329426, 5.697062226902765, 4.786290138368132, 4.749127690885936, 5.532808981498523, 4.7352493566629805, 11.622945662034939, 6.1595107688778, 3.8410553116148285, 3.804105615690709, 3.852124421014257, 0.10477906697770255, 0.09395987629350441, 0.09397806347473461, 0.09395643038389714, 0.3478152645944097, 0.09395617135196767, 0.155116938069137, 0.09396351058996949, 0.09396274134363347, 0.09936738760598907, 0.09395616350251526, 0.09936829814246843, 0.09936802341163414, 0.09396608521035944, 0.09395619490032489, 0.09396296112830091, 0.09395641468499233, 0.0939562890937538, 0.09936894179756592, 0.12420426384174872, 0.18877090010945824, 0.18491647360104166, 0.28337370935082756, 0.1191107777223134, 0.14246147003688156, 0.09936836093808771, 0.10261172327541734, 0.09937571587499434, 0.1047816337486401, 0.11052726807306777, 0.0993678899709432, 0.10500599464682858, 0.10004200879322658, 0.09936909093716167, 16.420961661776968, 5.857935302594659, 4.899992578571287, 5.676610258178337, 4.799079372863217, 5.860196164019342, 2.9855056792340995, 2.022462351940305, 2.0334092469356215, 1.0592749524538059, 4.625857240714267, 0.5593145808898083, 0.16057654295103607, 0.1455287443135395, 0.15781468313996785, 0.16103189295256978, 0.09630594367560613, 0.09630631917038475, 0.09630589213710711, 0.0963061719175304, 0.10185337836993703, 0.10185342990843606, 0.09630624554395757, 0.09630607620317506, 0.09630605411524691, 0.09630588477446439, 0.10185267155623612, 0.1355721394890712, 0.0963059289503207, 0.10185329001822442, 0.10185361397450401, 0.11538983261143665, 0.10416525554601291, 0.10691486391959847, 0.10185339309522247, 0.10434697293093438, 0.10233396014806513, 0.10185368023828847, 0.10353443904322525, 12.392517786435521, 8.319402400649, 5.248608175229222, 5.804405059749476, 4.860902222501375, 6.209549680719253, 3.1938581679079157, 2.1577510011808325, 1.1332936041345214, 1.1333212189832336, 1.1332922994959995, 0.11961669340388263, 0.10303165286478955, 0.10303131991016679, 0.10303146939999741, 0.11961661186397503, 0.10303148298998202, 0.10303192466448159, 0.10303155773489733, 0.10303943313097448, 0.10303182273959707, 0.1030313878600898, 0.10303131991016679, 0.10303159170985883, 0.10896576720641797, 0.10896514886211855, 0.10303151696494352, 0.1089659642611947, 0.10303147619498972, 0.10303133350015138, 0.10304005827026619, 0.10896569246150266, 0.10896661658045563, 0.11490202876561359, 0.13812557293325967, 0.15183561145973973, 0.1119652738629668, 0.10896654863053261, 0.10896612734100994, 0.11113107983811145, 0.10306054517205447, 0.1030405678946888, 0.10303929043613615, 7.263067309011699, 7.150523641040233, 6.253494560609217, 6.253506225663699, 6.09682160269742, 5.161237961862992, 4.469631268529251, 1.1287102828374398, 0.5810892939301817, 0.5894193579401293, 0.16205955199190006, 0.11443553323976347, 0.17439645285650854, 0.10261454371181566, 0.10261428853874886, 0.10261445865412673, 0.10852390234808741, 0.10852571286175179, 0.10261441004973305, 0.10262369348892493, 0.10261447080522515, 0.10261444650302831, 0.10261433714314254, 0.10852358641952853, 0.17174289598383538, 0.10261443435192989, 0.10852362287282379, 0.10261436144533938, 0.10261466522279984, 0.10262434964823954, 0.16970708880366994, 0.2352596279841365, 0.10852425472994155, 0.10852607739470435, 0.149480649851185, 0.13318978156113537, 0.11443900845391121, 0.10852362287282379, 0.1085256521062597, 0.10529562282240713, 0.10852820383692763, 0.10854214114681386, 0.1106936024817284, 8.61822994140587, 8.614474007318794, 7.448110853498484, 9.170331126020129, 2.2449969904334455, 1.175961044245819, 1.1758706920748814, 1.3049012315536104, 1.1759032301740187, 1.1758740873547915, 1.3009477110384386, 0.3204898548788126, 0.10690438449290839, 0.10690449059540556, 0.1069043019687439, 0.10690436091457567, 0.11306137093465463, 0.10690474995706535, 0.1069150065317934, 0.10690444343874014, 0.13027020568835884, 0.10690437270374202, 0.11306337509293482, 0.10691405160931872, 0.10690434912540932, 0.10690419586624672, 0.10690437270374202, 0.11306257342962274, 0.11306283279128253, 0.10690445522790651, 0.11306409423208241, 0.11306282100211618, 0.11306282100211618, 0.11337853487707829, 0.113061017259664, 0.11306104083799672, 0.11306291531544702, 0.14529713690075002, 0.11922086846883428, 0.11922273115711823, 0.1192224835846248, 0.1130631982554395, 0.10692157309745262], \"Total\": [48.0, 28.0, 20.0, 19.0, 17.0, 18.0, 13.0, 19.0, 13.0, 13.0, 12.0, 10.0, 9.0, 9.0, 9.0, 12.0, 8.0, 9.0, 8.0, 10.0, 8.0, 10.0, 17.0, 9.0, 9.0, 7.0, 7.0, 7.0, 9.0, 7.0, 28.55598007256344, 19.13353573970711, 12.771751709340721, 8.81417592399713, 8.044469658150385, 5.674617900882861, 4.875125963445145, 7.444774650814455, 17.440087589969643, 6.414178092209122, 5.962562580088969, 7.44436637110724, 5.725120257575491, 6.548165156880351, 7.055675248786718, 5.619819407459638, 5.035872830770042, 8.08214451834017, 5.447049919986659, 6.063436342516532, 6.904638975500892, 5.036111153052847, 5.036548853932115, 13.926352665830539, 6.280471965065506, 8.386847380054782, 6.348726547704986, 6.061584750319304, 5.62424984659839, 5.627173783229662, 13.580178857334309, 7.084349478730699, 18.966659491022504, 9.474488620819217, 9.976555759941055, 9.976555759941055, 48.468295072434174, 5.036111153052847, 5.036548853932115, 5.035872830770042, 8.596245865756813, 17.440087589969643, 6.819034939864171, 6.061584750319304, 4.875125963445145, 6.348726547704986, 8.044469658150385, 5.447049919986659, 8.08214451834017, 5.619819407459638, 5.62424984659839, 5.627173783229662, 5.674617900882861, 5.712456383709145, 5.71859111007718, 5.725120257575491, 6.063436342516532, 5.743077394957843, 7.44436637110724, 5.962562580088969, 6.036890485776552, 6.080410592442007, 6.277543723791382, 6.280471965065506, 6.2812002330607575, 18.966659491022504, 10.520918544302344, 7.094079057558193, 13.926352665830539, 12.771751709340721, 7.444774650814455, 12.908335705594515, 28.55598007256344, 9.473378972167346, 19.13353573970711, 10.35442762009502, 7.108782053792673, 8.81417592399713, 13.580178857334309, 12.908335705594515, 10.35442762009502, 18.966659491022504, 9.48814672645581, 6.061584750319304, 6.063436342516532, 7.094079057558193, 6.993171989290437, 6.277543723791382, 6.904638975500892, 13.926352665830539, 7.44436637110724, 4.875125963445145, 5.036111153052847, 5.035872830770042, 5.036548853932115, 6.2812002330607575, 6.565410494930581, 5.62424984659839, 5.712456383709145, 5.743077394957843, 5.447049919986659, 5.674617900882861, 5.619819407459638, 6.548165156880351, 5.627173783229662, 5.962562580088969, 5.71859111007718, 5.725120257575491, 6.280471965065506, 6.604088865907352, 9.473378972167346, 17.440087589969643, 6.819034939864171, 8.108965209998573, 19.13353573970711, 9.849743062852609, 9.168783072760057, 13.290874367917361, 17.29922940106505, 28.55598007256344, 20.558468097342598, 9.849743062852609, 7.173838194318968, 6.280471965065506, 6.2812002330607575, 10.940988979219725, 7.312249217222647, 6.993171989290437, 7.444774650814455, 5.962562580088969, 6.819034939864171, 7.055675248786718, 4.875125963445145, 5.036548853932115, 5.035872830770042, 5.036111153052847, 5.712456383709145, 5.743077394957843, 6.036890485776552, 5.447049919986659, 5.619819407459638, 5.62424984659839, 5.627173783229662, 5.674617900882861, 5.71859111007718, 5.725120257575491, 7.094079057558193, 6.353868639148823, 6.061584750319304, 6.063436342516532, 28.55598007256344, 6.727979236519172, 8.81417592399713, 8.044469658150385, 48.468295072434174, 12.908335705594515, 7.775609231276154, 9.13577883493225, 13.580178857334309, 18.966659491022504, 9.473378972167346, 17.29922940106505, 19.02673903993234, 13.580178857334309, 6.353348244450526, 6.353868639148823, 6.348726547704986, 5.447049919986659, 7.425268922644652, 6.604088865907352, 6.414178092209122, 6.819034939864171, 6.036890485776552, 19.13353573970711, 5.62424984659839, 5.036548853932115, 5.036111153052847, 4.875125963445145, 5.035872830770042, 12.771751709340721, 5.674617900882861, 6.2812002330607575, 5.619819407459638, 5.627173783229662, 5.712456383709145, 5.71859111007718, 5.725120257575491, 5.743077394957843, 5.962562580088969, 6.061584750319304, 6.063436342516532, 6.080410592442007, 48.468295072434174, 7.44436637110724, 10.940988979219725, 9.976555759941055, 9.168783072760057, 9.48814672645581, 28.55598007256344, 12.908335705594515, 17.440087589969643, 6.708049378220087, 8.386847380054782, 6.566729987548255, 6.565410494930581, 5.627173783229662, 5.619819407459638, 6.548165156880351, 5.62424984659839, 13.926352665830539, 7.44436637110724, 5.712456383709145, 5.71859111007718, 6.825188776654542, 5.036111153052847, 4.875125963445145, 5.036548853932115, 5.035872830770042, 18.966659491022504, 5.447049919986659, 9.13577883493225, 5.674617900882861, 5.725120257575491, 6.063436342516532, 5.743077394957843, 6.280471965065506, 6.2812002330607575, 5.962562580088969, 6.036890485776552, 6.061584750319304, 6.080410592442007, 6.277543723791382, 6.708049378220087, 8.386847380054782, 19.02673903993234, 19.13353573970711, 48.468295072434174, 9.474488620819217, 20.558468097342598, 6.819034939864171, 7.775609231276154, 7.094079057558193, 9.976555759941055, 17.29922940106505, 8.044469658150385, 17.440087589969643, 10.940988979219725, 9.168783072760057, 17.29922940106505, 6.708049378220087, 5.743077394957843, 6.727979236519172, 5.725120257575491, 7.775609231276154, 6.414178092209122, 6.277543723791382, 17.440087589969643, 9.13577883493225, 48.468295072434174, 18.966659491022504, 6.036890485776552, 5.71859111007718, 6.548165156880351, 7.425268922644652, 4.875125963445145, 5.035872830770042, 5.036111153052847, 5.036548853932115, 5.447049919986659, 5.674617900882861, 5.619819407459638, 5.62424984659839, 5.627173783229662, 5.712456383709145, 6.061584750319304, 8.386847380054782, 5.962562580088969, 6.353348244450526, 6.993171989290437, 10.520918544302344, 10.35442762009502, 13.580178857334309, 9.473378972167346, 19.02673903993234, 13.926352665830539, 13.290874367917361, 19.13353573970711, 13.290874367917361, 9.168783072760057, 6.080410592442007, 7.108782053792673, 6.036890485776552, 9.13577883493225, 5.962562580088969, 6.604088865907352, 5.71859111007718, 7.094079057558193, 7.312249217222647, 4.875125963445145, 5.035872830770042, 5.036111153052847, 5.036548853932115, 6.063436342516532, 5.447049919986659, 5.619819407459638, 5.62424984659839, 5.627173783229662, 5.674617900882861, 5.712456383709145, 5.725120257575491, 5.743077394957843, 6.348726547704986, 6.353348244450526, 6.061584750319304, 6.565410494930581, 6.277543723791382, 6.280471965065506, 6.2812002330607575, 7.173838194318968, 7.444774650814455, 9.48814672645581, 28.55598007256344, 48.468295072434174, 10.35442762009502, 9.849743062852609, 10.940988979219725, 18.966659491022504, 6.993171989290437, 6.904638975500892, 19.13353573970711, 8.108965209998573, 8.08214451834017, 7.084349478730699, 7.0859715997761175, 7.055675248786718, 6.904638975500892, 6.819034939864171, 5.712456383709145, 7.108782053792673, 10.520918544302344, 5.674617900882861, 5.035872830770042, 8.044469658150385, 4.875125963445145, 5.036111153052847, 5.036548853932115, 5.627173783229662, 5.725120257575491, 5.447049919986659, 5.619819407459638, 5.62424984659839, 5.71859111007718, 5.743077394957843, 6.080410592442007, 9.976555759941055, 5.962562580088969, 6.353868639148823, 6.036890485776552, 6.061584750319304, 6.063436342516532, 10.35442762009502, 19.02673903993234, 6.566729987548255, 6.708049378220087, 13.290874367917361, 28.55598007256344, 13.580178857334309, 9.168783072760057, 9.48814672645581, 7.44436637110724, 19.13353573970711, 20.558468097342598, 48.468295072434174, 9.474488620819217, 9.473378972167346, 8.386847380054782, 10.520918544302344, 6.825188776654542, 5.962562580088969, 7.425268922644652, 8.596245865756813, 7.775609231276154, 9.13577883493225, 10.940988979219725, 6.727979236519172, 4.875125963445145, 5.035872830770042, 5.036111153052847, 5.036548853932115, 5.447049919986659, 5.619819407459638, 5.62424984659839, 5.627173783229662, 6.904638975500892, 5.674617900882861, 6.036890485776552, 5.712456383709145, 5.71859111007718, 5.725120257575491, 5.743077394957843, 6.280471965065506, 6.353868639148823, 6.061584750319304, 6.548165156880351, 6.565410494930581, 6.708049378220087, 7.055675248786718, 7.0859715997761175, 7.312249217222647, 8.108965209998573, 48.468295072434174, 13.290874367917361, 13.580178857334309, 17.29922940106505, 13.926352665830539, 6.414178092209122], \"Category\": [\"Default\", \"Default\", \"Default\", \"Default\", \"Default\", \"Default\", \"Default\", \"Default\", \"Default\", \"Default\", \"Default\", \"Default\", \"Default\", \"Default\", \"Default\", \"Default\", \"Default\", \"Default\", \"Default\", \"Default\", \"Default\", \"Default\", \"Default\", \"Default\", \"Default\", \"Default\", \"Default\", \"Default\", \"Default\", \"Default\", \"Topic1\", \"Topic1\", \"Topic1\", \"Topic1\", \"Topic1\", \"Topic1\", \"Topic1\", \"Topic1\", \"Topic1\", \"Topic1\", \"Topic1\", \"Topic1\", \"Topic1\", \"Topic1\", \"Topic1\", \"Topic1\", \"Topic1\", \"Topic1\", \"Topic1\", \"Topic1\", \"Topic1\", \"Topic1\", \"Topic1\", \"Topic1\", \"Topic1\", \"Topic1\", \"Topic1\", \"Topic1\", \"Topic1\", \"Topic1\", \"Topic1\", \"Topic1\", \"Topic1\", \"Topic1\", \"Topic1\", \"Topic2\", \"Topic2\", \"Topic2\", \"Topic2\", \"Topic2\", \"Topic2\", \"Topic2\", \"Topic2\", \"Topic2\", \"Topic2\", \"Topic2\", \"Topic2\", \"Topic2\", \"Topic2\", \"Topic2\", \"Topic2\", \"Topic2\", \"Topic2\", \"Topic2\", \"Topic2\", \"Topic2\", \"Topic2\", \"Topic2\", \"Topic2\", \"Topic2\", \"Topic2\", \"Topic2\", \"Topic2\", \"Topic2\", \"Topic2\", \"Topic2\", \"Topic2\", \"Topic2\", \"Topic2\", \"Topic2\", \"Topic2\", \"Topic2\", \"Topic2\", \"Topic2\", \"Topic2\", \"Topic2\", \"Topic2\", \"Topic2\", \"Topic2\", \"Topic3\", \"Topic3\", \"Topic3\", \"Topic3\", \"Topic3\", \"Topic3\", \"Topic3\", \"Topic3\", \"Topic3\", \"Topic3\", \"Topic3\", \"Topic3\", \"Topic3\", \"Topic3\", \"Topic3\", \"Topic3\", \"Topic3\", \"Topic3\", \"Topic3\", \"Topic3\", \"Topic3\", \"Topic3\", \"Topic3\", \"Topic3\", \"Topic3\", \"Topic3\", \"Topic3\", \"Topic3\", \"Topic3\", \"Topic3\", \"Topic3\", \"Topic3\", \"Topic3\", \"Topic3\", \"Topic3\", \"Topic3\", \"Topic3\", \"Topic3\", \"Topic3\", \"Topic3\", \"Topic3\", \"Topic4\", \"Topic4\", \"Topic4\", \"Topic4\", \"Topic4\", \"Topic4\", \"Topic4\", \"Topic4\", \"Topic4\", \"Topic4\", \"Topic4\", \"Topic4\", \"Topic4\", \"Topic4\", \"Topic4\", \"Topic4\", \"Topic4\", \"Topic4\", \"Topic4\", \"Topic4\", \"Topic4\", \"Topic4\", \"Topic4\", \"Topic4\", \"Topic4\", \"Topic4\", \"Topic4\", \"Topic4\", \"Topic4\", \"Topic4\", \"Topic4\", \"Topic4\", \"Topic4\", \"Topic4\", \"Topic4\", \"Topic4\", \"Topic4\", \"Topic4\", \"Topic4\", \"Topic4\", \"Topic4\", \"Topic4\", \"Topic5\", \"Topic5\", \"Topic5\", \"Topic5\", \"Topic5\", \"Topic5\", \"Topic5\", \"Topic5\", \"Topic5\", \"Topic5\", \"Topic5\", \"Topic5\", \"Topic5\", \"Topic5\", \"Topic5\", \"Topic5\", \"Topic5\", \"Topic5\", \"Topic5\", \"Topic5\", \"Topic5\", \"Topic5\", \"Topic5\", \"Topic5\", \"Topic5\", \"Topic5\", \"Topic5\", \"Topic5\", \"Topic5\", \"Topic5\", \"Topic5\", \"Topic5\", \"Topic5\", \"Topic5\", \"Topic5\", \"Topic5\", \"Topic5\", \"Topic5\", \"Topic5\", \"Topic5\", \"Topic5\", \"Topic6\", \"Topic6\", \"Topic6\", \"Topic6\", \"Topic6\", \"Topic6\", \"Topic6\", \"Topic6\", \"Topic6\", \"Topic6\", \"Topic6\", \"Topic6\", \"Topic6\", \"Topic6\", \"Topic6\", \"Topic6\", \"Topic6\", \"Topic6\", \"Topic6\", \"Topic6\", \"Topic6\", \"Topic6\", \"Topic6\", \"Topic6\", \"Topic6\", \"Topic6\", \"Topic6\", \"Topic6\", \"Topic6\", \"Topic6\", \"Topic6\", \"Topic6\", \"Topic6\", \"Topic6\", \"Topic6\", \"Topic6\", \"Topic6\", \"Topic6\", \"Topic6\", \"Topic6\", \"Topic6\", \"Topic6\", \"Topic6\", \"Topic6\", \"Topic6\", \"Topic7\", \"Topic7\", \"Topic7\", \"Topic7\", \"Topic7\", \"Topic7\", \"Topic7\", \"Topic7\", \"Topic7\", \"Topic7\", \"Topic7\", \"Topic7\", \"Topic7\", \"Topic7\", \"Topic7\", \"Topic7\", \"Topic7\", \"Topic7\", \"Topic7\", \"Topic7\", \"Topic7\", \"Topic7\", \"Topic7\", \"Topic7\", \"Topic7\", \"Topic7\", \"Topic7\", \"Topic7\", \"Topic7\", \"Topic7\", \"Topic7\", \"Topic7\", \"Topic7\", \"Topic7\", \"Topic7\", \"Topic7\", \"Topic7\", \"Topic7\", \"Topic7\", \"Topic8\", \"Topic8\", \"Topic8\", \"Topic8\", \"Topic8\", \"Topic8\", \"Topic8\", \"Topic8\", \"Topic8\", \"Topic8\", \"Topic8\", \"Topic8\", \"Topic8\", \"Topic8\", \"Topic8\", \"Topic8\", \"Topic8\", \"Topic8\", \"Topic8\", \"Topic8\", \"Topic8\", \"Topic8\", \"Topic8\", \"Topic8\", \"Topic8\", \"Topic8\", \"Topic8\", \"Topic8\", \"Topic8\", \"Topic8\", \"Topic8\", \"Topic8\", \"Topic8\", \"Topic8\", \"Topic8\", \"Topic8\", \"Topic8\", \"Topic8\", \"Topic8\", \"Topic8\", \"Topic8\", \"Topic8\", \"Topic8\", \"Topic9\", \"Topic9\", \"Topic9\", \"Topic9\", \"Topic9\", \"Topic9\", \"Topic9\", \"Topic9\", \"Topic9\", \"Topic9\", \"Topic9\", \"Topic9\", \"Topic9\", \"Topic9\", \"Topic9\", \"Topic9\", \"Topic9\", \"Topic9\", \"Topic9\", \"Topic9\", \"Topic9\", \"Topic9\", \"Topic9\", \"Topic9\", \"Topic9\", \"Topic9\", \"Topic9\", \"Topic9\", \"Topic9\", \"Topic9\", \"Topic9\", \"Topic9\", \"Topic9\", \"Topic9\", \"Topic9\", \"Topic9\", \"Topic9\", \"Topic9\", \"Topic9\", \"Topic9\", \"Topic9\", \"Topic9\", \"Topic9\", \"Topic10\", \"Topic10\", \"Topic10\", \"Topic10\", \"Topic10\", \"Topic10\", \"Topic10\", \"Topic10\", \"Topic10\", \"Topic10\", \"Topic10\", \"Topic10\", \"Topic10\", \"Topic10\", \"Topic10\", \"Topic10\", \"Topic10\", \"Topic10\", \"Topic10\", \"Topic10\", \"Topic10\", \"Topic10\", \"Topic10\", \"Topic10\", \"Topic10\", \"Topic10\", \"Topic10\", \"Topic10\", \"Topic10\", \"Topic10\", \"Topic10\", \"Topic10\", \"Topic10\", \"Topic10\", \"Topic10\", \"Topic10\", \"Topic10\", \"Topic10\", \"Topic10\", \"Topic10\", \"Topic10\", \"Topic10\", \"Topic10\"], \"logprob\": [30.0, 29.0, 28.0, 27.0, 26.0, 25.0, 24.0, 23.0, 22.0, 21.0, 20.0, 19.0, 18.0, 17.0, 16.0, 15.0, 14.0, 13.0, 12.0, 11.0, 10.0, 9.0, 8.0, 7.0, 6.0, 5.0, 4.0, 3.0, 2.0, 1.0, -1.2675, -1.7045, -2.1145, -2.5072, -2.6253, -3.0216, -3.1931, -3.0116, -2.9958, -4.7228, -6.1095, -5.9244, -6.374, -6.3094, -6.452, -6.7469, -6.9132, -6.5147, -6.9165, -6.8192, -6.726, -7.1206, -7.1206, -6.1093, -6.9327, -6.6515, -6.9709, -7.024, -7.1206, -7.1206, -6.6415, -7.0646, -6.8695, -7.0116, -7.0338, -2.2638, -0.7148, -3.0359, -3.0382, -3.0393, -2.5857, -2.1815, -4.9769, -6.6974, -6.9644, -6.7091, -6.5386, -6.9643, -6.5704, -6.9644, -6.9644, -6.9644, -6.9644, -6.9644, -6.9644, -6.9644, -6.9084, -6.9644, -6.7256, -6.9644, -6.9643, -6.9644, -6.9644, -6.9644, -6.9643, -6.0918, -6.7205, -6.9083, -6.6406, -6.7667, -6.9084, -6.805, -6.7489, -6.9084, -6.9643, -6.9643, -6.9643, -6.9643, -6.9643, -1.8816, -2.125, -1.5207, -2.2148, -2.7238, -2.7265, -2.7217, -2.9033, -3.1135, -4.4292, -4.0519, -5.4971, -6.827, -6.827, -6.827, -6.827, -6.6294, -6.6049, -6.771, -6.7707, -6.7667, -6.827, -6.7997, -6.827, -6.6743, -6.827, -6.771, -6.827, -6.8269, -6.771, -6.771, -6.6551, -6.4866, -6.771, -6.7282, -6.5634, -6.718, -6.771, -6.7406, -6.771, -6.7692, -1.284, -2.0667, -2.4185, -2.5749, -2.5759, -2.0791, -2.5706, -3.6185, -3.635, -4.4611, -5.9714, -6.227, -6.6236, -6.6142, -6.6796, -6.6796, -6.6212, -6.6236, -6.5742, -6.6795, -6.6796, -6.6796, -6.6796, -6.6796, -6.6792, -6.6796, -6.4819, -6.6236, -6.6796, -6.6796, -5.7202, -6.6233, -6.5202, -6.5705, -6.075, -6.4722, -6.6236, -6.6016, -6.5705, -6.5632, -6.6236, -6.6141, -1.3718, -1.722, -2.5542, -2.5551, -2.5607, -2.738, -2.5633, -2.9496, -3.6186, -4.2653, -5.2808, -4.9387, -6.2293, -6.4655, -6.6071, -6.6631, -6.6631, -5.762, -6.6071, -6.5139, -6.6631, -6.6631, -6.6631, -6.6631, -6.6631, -6.6631, -6.6631, -6.6631, -6.6631, -6.6631, -5.4297, -6.6071, -6.5037, -6.5541, -6.5863, -6.6071, -6.5313, -6.6071, -6.6029, -6.663, -6.663, -2.466, -2.4711, -2.6453, -2.6531, -2.5003, -2.656, -1.7581, -2.393, -2.8653, -2.875, -2.8624, -6.4669, -6.5759, -6.5757, -6.576, -5.2671, -6.576, -6.0746, -6.5759, -6.5759, -6.52, -6.576, -6.52, -6.52, -6.5759, -6.576, -6.5759, -6.576, -6.576, -6.52, -6.2969, -5.8783, -5.8989, -5.472, -6.3387, -6.1597, -6.52, -6.4878, -6.5199, -6.4669, -6.4135, -6.52, -6.4648, -6.5132, -6.5199, -1.3485, -2.3792, -2.5578, -2.4107, -2.5786, -2.3788, -3.0532, -3.4427, -3.4373, -4.0894, -2.6153, -4.7281, -5.976, -6.0744, -5.9933, -5.9732, -6.4872, -6.4872, -6.4872, -6.4872, -6.4312, -6.4312, -6.4872, -6.4872, -6.4872, -6.4872, -6.4312, -6.1453, -6.4872, -6.4312, -6.4312, -6.3064, -6.4088, -6.3827, -6.4312, -6.407, -6.4265, -6.4312, -6.4149, -1.5497, -1.9482, -2.4088, -2.3082, -2.4856, -2.2407, -2.9055, -3.2977, -3.9416, -3.9416, -3.9417, -6.1902, -6.3395, -6.3395, -6.3395, -6.1902, -6.3395, -6.3395, -6.3395, -6.3394, -6.3395, -6.3395, -6.3395, -6.3395, -6.2835, -6.2835, -6.3395, -6.2835, -6.3395, -6.3395, -6.3394, -6.2835, -6.2835, -6.2305, -6.0464, -5.9517, -6.2563, -6.2835, -6.2835, -6.2638, -6.3392, -6.3394, -6.3394, -1.9721, -1.9877, -2.1217, -2.1217, -2.1471, -2.3137, -2.4576, -3.8338, -4.4977, -4.4835, -5.7747, -6.1226, -5.7013, -6.2316, -6.2316, -6.2316, -6.1756, -6.1756, -6.2316, -6.2315, -6.2316, -6.2316, -6.2316, -6.1757, -5.7166, -6.2316, -6.1757, -6.2316, -6.2316, -6.2315, -5.7285, -5.4019, -6.1756, -6.1756, -5.8555, -5.9708, -6.1226, -6.1757, -6.1756, -6.2058, -6.1756, -6.1755, -6.1559, -1.7707, -1.7712, -1.9167, -1.7087, -3.1159, -3.7625, -3.7626, -3.6585, -3.7626, -3.7626, -3.6615, -5.0625, -6.1604, -6.1604, -6.1604, -6.1604, -6.1044, -6.1604, -6.1603, -6.1604, -5.9628, -6.1604, -6.1044, -6.1604, -6.1604, -6.1604, -6.1604, -6.1044, -6.1044, -6.1604, -6.1044, -6.1044, -6.1044, -6.1016, -6.1045, -6.1045, -6.1044, -5.8536, -6.0514, -6.0514, -6.0514, -6.1044, -6.1603], \"loglift\": [30.0, 29.0, 28.0, 27.0, 26.0, 25.0, 24.0, 23.0, 22.0, 21.0, 20.0, 19.0, 18.0, 17.0, 16.0, 15.0, 14.0, 13.0, 12.0, 11.0, 10.0, 9.0, 8.0, 7.0, 6.0, 5.0, 4.0, 3.0, 2.0, 1.0, 1.9274, 1.8908, 1.885, 1.8632, 1.8365, 1.7891, 1.7696, 1.5276, 0.6923, -0.0345, -1.3482, -1.3851, -1.5721, -1.6418, -1.8591, -1.9264, -1.983, -2.0576, -2.0648, -2.0747, -2.1114, -2.1904, -2.1905, -2.1963, -2.2234, -2.2314, -2.2723, -2.2792, -2.3009, -2.3014, -2.7033, -2.4757, -3.2654, -2.7134, -2.7873, 1.9827, 1.9511, 1.8942, 1.8919, 1.8908, 1.8098, 1.5065, -0.3498, -1.9526, -2.0017, -2.0106, -2.0768, -2.1126, -2.1132, -2.1439, -2.1447, -2.1452, -2.1536, -2.1602, -2.1613, -2.1624, -2.1638, -2.1656, -2.1863, -2.2031, -2.2154, -2.2226, -2.2546, -2.255, -2.2551, -2.4877, -2.5271, -2.3208, -2.7276, -2.7671, -2.3691, -2.816, -3.554, -2.6101, -3.3689, -2.7549, -2.3788, -2.5939, -3.0261, 2.1073, 2.0844, 2.0834, 2.0819, 2.021, 2.018, 1.8658, 1.6986, 1.5963, 0.1854, -0.1389, -0.9577, -1.8643, -1.8968, -1.8968, -1.897, -1.9201, -1.9399, -1.9514, -1.9665, -1.9679, -1.9753, -1.9889, -2.0066, -2.0067, -2.0079, -2.0098, -2.024, -2.025, -2.0617, -2.1119, -2.3568, -2.7985, -2.144, -2.2744, -2.9681, -2.4587, -2.44, -2.7809, -3.0749, -3.5743, 2.2395, 2.1926, 2.1578, 2.1344, 2.1333, 2.0752, 1.9866, 0.9833, 0.9043, 0.3002, -1.3444, -1.634, -1.6609, -1.6842, -1.7494, -1.7494, -1.8171, -1.8248, -1.8253, -1.8278, -1.8591, -1.8599, -1.8604, -1.8688, -1.8762, -1.8776, -1.8944, -1.9258, -1.9347, -1.9351, -2.5253, -1.9827, -2.1497, -2.1087, -3.4091, -2.4833, -2.1278, -2.267, -2.6323, -2.9591, -2.3253, -2.9179, 2.2292, 2.2162, 2.1436, 2.1426, 2.1379, 2.1137, 1.9786, 1.7095, 1.0697, 0.3618, -0.5319, -1.3434, -1.4096, -1.5354, -1.677, -1.7005, -1.7329, -1.7624, -1.7963, -1.8047, -1.8426, -1.8439, -1.859, -1.86, -1.8611, -1.8643, -1.9018, -1.9183, -1.9186, -1.9214, -2.7638, -2.0678, -2.3495, -2.3075, -2.2553, -2.3104, -3.3363, -2.6182, -2.9149, -2.0195, -2.2429, 2.1987, 2.1939, 2.1739, 2.1674, 2.1673, 2.1637, 2.1549, 2.1463, 1.9388, 1.9281, 1.7638, -1.5368, -1.6133, -1.6457, -1.6458, -1.663, -1.7243, -1.74, -1.7651, -1.774, -1.7755, -1.7772, -1.8106, -1.8107, -1.8146, -1.8271, -1.8311, -1.8342, -1.8662, -1.8765, -1.8767, -2.2773, -2.3035, -2.8061, -2.0406, -2.6362, -1.8929, -1.992, -1.9324, -2.2204, -2.7174, -2.0582, -2.7768, -2.3589, -2.189, 2.3477, 2.2643, 2.241, 2.2299, 2.2233, 2.117, 1.635, 1.2671, 0.2507, 0.2452, 0.0505, -1.124, -1.2271, -1.2713, -1.3257, -1.4313, -1.5246, -1.557, -1.5571, -1.5572, -1.5795, -1.6204, -1.6667, -1.6675, -1.6681, -1.6831, -1.6864, -1.7251, -1.726, -1.7334, -1.8294, -2.113, -2.1994, -2.4446, -2.1329, -2.8061, -2.5135, -2.4715, -2.8195, 2.41, 2.3828, 2.3329, 2.2773, 2.2633, 2.0939, 1.8557, 1.3614, 0.8614, 0.6459, 0.6156, -1.2276, -1.4093, -1.4093, -1.4094, -1.4457, -1.4878, -1.519, -1.5198, -1.5202, -1.5287, -1.5354, -1.5376, -1.5407, -1.585, -1.5857, -1.5947, -1.6185, -1.6297, -1.6302, -1.6302, -1.7072, -1.7442, -1.9337, -2.8515, -3.2859, -2.047, -2.0242, -2.1292, -2.6597, -1.7374, -1.7248, -2.7441, 2.4818, 2.4695, 2.4672, 2.4669, 2.4459, 2.3009, 2.1695, 0.9703, 0.0877, -0.2901, -0.9639, -1.1924, -1.2395, -1.269, -1.3015, -1.3016, -1.3565, -1.3737, -1.3799, -1.4111, -1.4119, -1.4286, -1.4329, -1.4339, -1.4701, -1.4704, -1.4779, -1.4827, -1.4868, -1.487, -1.5192, -1.801, -1.5109, -1.5322, -1.8957, -2.7759, -2.1844, -1.8447, -1.8789, -1.6665, -2.5803, -2.652, -3.49, 2.5274, 2.5271, 2.5035, 2.4848, 1.5102, 0.9987, 0.7793, 0.737, 0.7332, 0.572, 0.4927, -0.422, -1.1978, -1.2302, -1.2303, -1.2304, -1.2527, -1.34, -1.3406, -1.3413, -1.3482, -1.3497, -1.3555, -1.3562, -1.3574, -1.3585, -1.3617, -1.3951, -1.4067, -1.4156, -1.4368, -1.4395, -1.461, -1.5087, -1.5158, -1.5472, -1.6506, -3.1877, -2.0917, -2.1132, -2.3553, -2.1914, -1.472]}, \"token.table\": {\"Topic\": [4, 7, 8, 10, 6, 9, 3, 8, 8, 3, 3, 4, 8, 6, 3, 7, 2, 9, 7, 10, 3, 1, 5, 7, 3, 7, 9, 5, 6, 9, 6, 3, 1, 10, 1, 4, 7, 5, 8, 2, 7, 5, 7, 9, 1, 3, 6, 9, 1, 1, 6, 10, 3, 6, 3, 9, 2, 2, 1, 3, 6, 10, 5, 2, 8, 9, 7, 8, 2, 5, 9, 4, 8, 10, 4, 10, 8, 7, 5, 10, 6, 6, 8, 4, 8, 5, 10, 5, 4, 7, 1, 2, 7, 1, 4, 4, 6, 5, 9, 10, 2, 10, 1, 5, 4], \"Freq\": [0.836372362670719, 0.10945974263040661, 0.6567584557824396, 0.10945974263040661, 0.9136967731849975, 0.8469373254402207, 0.7048131208338997, 0.14096262416677996, 0.8282409647450856, 0.9485519416458106, 0.5719865042824237, 0.28599325214121185, 0.9028751358124802, 0.8890074474596922, 0.8963096536871248, 0.05272409727571323, 0.794194619372576, 0.8632420806749561, 0.7716437158217715, 0.12860728597029525, 0.8691933856907301, 0.15590462029961935, 0.3118092405992387, 0.4677138608988581, 0.6371918979775998, 0.3185959489887999, 0.8661067596744224, 0.7869221546685626, 0.8059786019246643, 0.8503792746175144, 0.9162872127157059, 0.8248667973728515, 0.8811165945150415, 0.8346402030215884, 0.6716120009694319, 0.2686448003877728, 0.8733441002193778, 0.6056853687492635, 0.30284268437463174, 0.8871778950701279, 0.10316022035699161, 0.78755951487743, 0.8944477987119467, 0.8467434444966687, 0.9455112355237135, 0.9296318498130755, 0.7002241647581329, 0.17505604118953322, 0.9395735426976478, 0.8701630185040025, 0.586064375784292, 0.293032187892146, 0.8246149077116938, 0.8897083051037366, 0.14483016469770685, 0.7241508234885342, 0.7943012332557957, 0.7942636447917228, 0.8204916201125781, 0.07180631023753857, 0.8616757228504629, 0.9499193423720435, 0.9460370461918107, 0.9021149399212274, 0.8440264386497661, 0.14067107310829435, 0.9248966892718898, 0.8725258233851724, 0.14664831736731343, 0.14664831736731343, 0.5865932694692537, 0.16771312444406725, 0.5031393733322018, 0.16771312444406725, 0.822594741398035, 0.09139941571089277, 0.8223128889050741, 0.8917982337746031, 0.6733762846961177, 0.13467525693922353, 0.8885455101637714, 0.6994729860911518, 0.17486824652278796, 0.6837841341927224, 0.13675682683854448, 0.9179280662829405, 0.9500306096105595, 0.9572775245871693, 0.9137294183787051, 0.8706133760951523, 0.28669580781667986, 0.5733916156333597, 0.11467832312667194, 0.9076288094295365, 0.7961185127187889, 0.7960262074886214, 0.9138804046803841, 0.9443839325572676, 0.0950487351260366, 0.8554386161343294, 0.8143089564113718, 0.11632985091591025, 0.9407565985122799, 0.05226425547290444, 0.9728351307744186], \"Term\": [\"arm\", \"ask\", \"ask\", \"ask\", \"bit\", \"blimey\", \"bloody\", \"bloody\", \"body\", \"boy\", \"cedric\", \"cedric\", \"champion\", \"choose\", \"come\", \"come\", \"cup\", \"curse\", \"dark\", \"dark\", \"dragon\", \"dumbledore\", \"dumbledore\", \"dumbledore\", \"end\", \"end\", \"eye\", \"father\", \"find\", \"friend\", \"get\", \"give\", \"go\", \"good\", \"great\", \"great\", \"hagrid\", \"happen\", \"happen\", \"harry\", \"harry\", \"hear\", \"hermione\", \"home\", \"know\", \"krum\", \"leave\", \"leave\", \"let\", \"look\", \"lord\", \"lord\", \"mean\", \"ministry\", \"miss\", \"miss\", \"moment\", \"moody\", \"neville\", \"oh\", \"oh\", \"old\", \"potter\", \"professor\", \"ready\", \"ready\", \"right\", \"ron\", \"say\", \"say\", \"say\", \"shall\", \"shall\", \"shall\", \"sir\", \"sir\", \"son\", \"sorry\", \"stand\", \"stand\", \"suppose\", \"sure\", \"sure\", \"take\", \"take\", \"talk\", \"task\", \"tell\", \"thank\", \"thing\", \"think\", \"think\", \"think\", \"time\", \"tournament\", \"triwizard\", \"voldemort\", \"wand\", \"want\", \"want\", \"way\", \"way\", \"yeah\", \"yeah\", \"yes\"]}, \"R\": 30, \"lambda.step\": 0.01, \"plot.opts\": {\"xlab\": \"PC1\", \"ylab\": \"PC2\"}, \"topic.order\": [4, 5, 6, 7, 2, 9, 3, 1, 10, 8]};\n",
       "\n",
       "function LDAvis_load_lib(url, callback){\n",
       "  var s = document.createElement('script');\n",
       "  s.src = url;\n",
       "  s.async = true;\n",
       "  s.onreadystatechange = s.onload = callback;\n",
       "  s.onerror = function(){console.warn(\"failed to load library \" + url);};\n",
       "  document.getElementsByTagName(\"head\")[0].appendChild(s);\n",
       "}\n",
       "\n",
       "if(typeof(LDAvis) !== \"undefined\"){\n",
       "   // already loaded: just create the visualization\n",
       "   !function(LDAvis){\n",
       "       new LDAvis(\"#\" + \"ldavis_el316772329288967862729488\", ldavis_el316772329288967862729488_data);\n",
       "   }(LDAvis);\n",
       "}else if(typeof define === \"function\" && define.amd){\n",
       "   // require.js is available: use it to load d3/LDAvis\n",
       "   require.config({paths: {d3: \"https://d3js.org/d3.v5\"}});\n",
       "   require([\"d3\"], function(d3){\n",
       "      window.d3 = d3;\n",
       "      LDAvis_load_lib(\"https://cdn.jsdelivr.net/gh/bmabey/pyLDAvis@3.3.1/pyLDAvis/js/ldavis.v3.0.0.js\", function(){\n",
       "        new LDAvis(\"#\" + \"ldavis_el316772329288967862729488\", ldavis_el316772329288967862729488_data);\n",
       "      });\n",
       "    });\n",
       "}else{\n",
       "    // require.js not available: dynamically load d3 & LDAvis\n",
       "    LDAvis_load_lib(\"https://d3js.org/d3.v5.js\", function(){\n",
       "         LDAvis_load_lib(\"https://cdn.jsdelivr.net/gh/bmabey/pyLDAvis@3.3.1/pyLDAvis/js/ldavis.v3.0.0.js\", function(){\n",
       "                 new LDAvis(\"#\" + \"ldavis_el316772329288967862729488\", ldavis_el316772329288967862729488_data);\n",
       "            })\n",
       "         });\n",
       "}\n",
       "</script>"
      ],
      "text/plain": [
       "<IPython.core.display.HTML object>"
      ]
     },
     "execution_count": 146,
     "metadata": {},
     "output_type": "execute_result"
    }
   ],
   "source": [
    "lda_display = pyLDAvis.gensim_models.prepare(lda_model, corpus, dictionary)\n",
    "pyLDAvis.display(lda_display)"
   ]
  },
  {
   "cell_type": "code",
   "execution_count": null,
   "metadata": {},
   "outputs": [],
   "source": [
    "female_tm_text = topic_modeling_processing(dialogs[\"male\"])\n",
    "female_dictionary = Dictionary(male_tm_text)\n",
    "female_dictionary.filter_extremes(no_below=5, no_above=0.5, keep_n=1000)\n",
    "female_corpus = [female_dictionary.doc2bow(doc) for doc in female_tm_text]"
   ]
  },
  {
   "cell_type": "code",
   "execution_count": null,
   "metadata": {},
   "outputs": [
    {
     "name": "stdout",
     "output_type": "stream",
     "text": [
      "huggingface/tokenizers: The current process just got forked, after parallelism has already been used. Disabling parallelism to avoid deadlocks...\n",
      "To disable this warning, you can either:\n",
      "\t- Avoid using `tokenizers` before the fork if possible\n",
      "\t- Explicitly set the environment variable TOKENIZERS_PARALLELISM=(true | false)\n",
      "huggingface/tokenizers: The current process just got forked, after parallelism has already been used. Disabling parallelism to avoid deadlocks...\n",
      "To disable this warning, you can either:\n",
      "\t- Avoid using `tokenizers` before the fork if possible\n",
      "\t- Explicitly set the environment variable TOKENIZERS_PARALLELISM=(true | false)\n",
      "huggingface/tokenizers: The current process just got forked, after parallelism has already been used. Disabling parallelism to avoid deadlocks...\n",
      "To disable this warning, you can either:\n",
      "\t- Avoid using `tokenizers` before the fork if possible\n",
      "\t- Explicitly set the environment variable TOKENIZERS_PARALLELISM=(true | false)\n",
      "huggingface/tokenizers: The current process just got forked, after parallelism has already been used. Disabling parallelism to avoid deadlocks...\n",
      "To disable this warning, you can either:\n",
      "\t- Avoid using `tokenizers` before the fork if possible\n",
      "\t- Explicitly set the environment variable TOKENIZERS_PARALLELISM=(true | false)\n"
     ]
    }
   ],
   "source": [
    "female_lda_model = LdaMulticore(corpus=female_corpus, id2word=female_dictionary, iterations=50, num_topics=10, workers = 4, passes=10)"
   ]
  },
  {
   "cell_type": "code",
   "execution_count": null,
   "metadata": {},
   "outputs": [
    {
     "data": {
      "text/plain": [
       "[(0,\n",
       "  '0.241*\"krum\" + 0.139*\"ron\" + 0.104*\"say\" + 0.087*\"moody\" + 0.086*\"talk\" + 0.070*\"professor\" + 0.036*\"come\" + 0.036*\"body\" + 0.022*\"right\" + 0.019*\"hermione\"'),\n",
       " (1,\n",
       "  '0.135*\"look\" + 0.122*\"time\" + 0.104*\"stand\" + 0.104*\"eye\" + 0.088*\"mean\" + 0.076*\"dumbledore\" + 0.075*\"hear\" + 0.073*\"choose\" + 0.031*\"tell\" + 0.031*\"dark\"'),\n",
       " (2,\n",
       "  '0.134*\"way\" + 0.120*\"task\" + 0.119*\"great\" + 0.104*\"professor\" + 0.099*\"take\" + 0.090*\"home\" + 0.075*\"son\" + 0.074*\"thing\" + 0.046*\"hagrid\" + 0.018*\"old\"'),\n",
       " (3,\n",
       "  '0.520*\"harry\" + 0.092*\"thank\" + 0.065*\"curse\" + 0.047*\"cup\" + 0.047*\"triwizard\" + 0.047*\"dark\" + 0.047*\"tournament\" + 0.037*\"leave\" + 0.019*\"sorry\" + 0.010*\"body\"'),\n",
       " (4,\n",
       "  '0.299*\"yeah\" + 0.200*\"right\" + 0.144*\"dragon\" + 0.080*\"end\" + 0.067*\"ministry\" + 0.066*\"ask\" + 0.014*\"hagrid\" + 0.014*\"dumbledore\" + 0.014*\"shall\" + 0.007*\"bloody\"'),\n",
       " (5,\n",
       "  '0.117*\"father\" + 0.117*\"bit\" + 0.115*\"friend\" + 0.114*\"give\" + 0.098*\"find\" + 0.098*\"moment\" + 0.096*\"neville\" + 0.040*\"shall\" + 0.021*\"happen\" + 0.021*\"tournament\"'),\n",
       " (6,\n",
       "  '0.397*\"know\" + 0.224*\"think\" + 0.116*\"boy\" + 0.081*\"old\" + 0.058*\"happen\" + 0.017*\"time\" + 0.013*\"leave\" + 0.006*\"let\" + 0.003*\"choose\" + 0.003*\"good\"'),\n",
       " (7,\n",
       "  '0.170*\"let\" + 0.170*\"oh\" + 0.085*\"cedric\" + 0.085*\"sir\" + 0.073*\"blimey\" + 0.072*\"get\" + 0.061*\"suppose\" + 0.049*\"sorry\" + 0.049*\"hermione\" + 0.038*\"ask\"'),\n",
       " (8,\n",
       "  '0.230*\"yes\" + 0.183*\"come\" + 0.126*\"tell\" + 0.074*\"arm\" + 0.069*\"bloody\" + 0.053*\"sure\" + 0.053*\"voldemort\" + 0.043*\"wand\" + 0.042*\"sir\" + 0.032*\"lord\"'),\n",
       " (9,\n",
       "  '0.262*\"potter\" + 0.158*\"champion\" + 0.118*\"want\" + 0.091*\"good\" + 0.080*\"go\" + 0.080*\"ready\" + 0.067*\"miss\" + 0.027*\"find\" + 0.014*\"triwizard\" + 0.014*\"wand\"')]"
      ]
     },
     "execution_count": 154,
     "metadata": {},
     "output_type": "execute_result"
    }
   ],
   "source": [
    "female_lda_model.print_topics(-1)"
   ]
  },
  {
   "cell_type": "code",
   "execution_count": null,
   "metadata": {},
   "outputs": [
    {
     "name": "stdout",
     "output_type": "stream",
     "text": [
      "huggingface/tokenizers: The current process just got forked, after parallelism has already been used. Disabling parallelism to avoid deadlocks...\n",
      "To disable this warning, you can either:\n",
      "\t- Avoid using `tokenizers` before the fork if possible\n",
      "\t- Explicitly set the environment variable TOKENIZERS_PARALLELISM=(true | false)\n",
      "huggingface/tokenizers: The current process just got forked, after parallelism has already been used. Disabling parallelism to avoid deadlocks...\n",
      "To disable this warning, you can either:\n",
      "\t- Avoid using `tokenizers` before the fork if possible\n",
      "\t- Explicitly set the environment variable TOKENIZERS_PARALLELISM=(true | false)\n",
      "huggingface/tokenizers: The current process just got forked, after parallelism has already been used. Disabling parallelism to avoid deadlocks...\n",
      "To disable this warning, you can either:\n",
      "\t- Avoid using `tokenizers` before the fork if possible\n",
      "\t- Explicitly set the environment variable TOKENIZERS_PARALLELISM=(true | false)\n",
      "huggingface/tokenizers: The current process just got forked, after parallelism has already been used. Disabling parallelism to avoid deadlocks...\n",
      "To disable this warning, you can either:\n",
      "\t- Avoid using `tokenizers` before the fork if possible\n",
      "\t- Explicitly set the environment variable TOKENIZERS_PARALLELISM=(true | false)\n"
     ]
    },
    {
     "data": {
      "text/html": [
       "\n",
       "<link rel=\"stylesheet\" type=\"text/css\" href=\"https://cdn.jsdelivr.net/gh/bmabey/pyLDAvis@3.3.1/pyLDAvis/js/ldavis.v1.0.0.css\">\n",
       "\n",
       "\n",
       "<div id=\"ldavis_el316772322755045974335501\"></div>\n",
       "<script type=\"text/javascript\">\n",
       "\n",
       "var ldavis_el316772322755045974335501_data = {\"mdsDat\": {\"x\": [-0.16781616336867647, 0.19116407459863263, -0.2210274824938929, 0.19516023041445144, 0.12251162713897527, -0.08536309225323026, -0.05804008888545375, 0.002361224875569928, 0.10789724295428824, -0.08684757298066403], \"y\": [-0.3056200444813448, -0.07534387953008709, 0.18175839922818934, -0.07593396920181164, 0.11202816648424882, -0.08763133735663664, 0.07158037911029136, 0.13445068949747757, 0.023738110696508104, 0.02097348555316487], \"topics\": [1, 2, 3, 4, 5, 6, 7, 8, 9, 10], \"cluster\": [1, 1, 1, 1, 1, 1, 1, 1, 1, 1], \"Freq\": [12.616310993261347, 11.90499762472028, 10.640857003996345, 10.36248497635586, 10.175653129532195, 9.819494516241257, 9.372205354146955, 8.875610475381226, 8.632065893653506, 7.600320032711028]}, \"tinfo\": {\"Term\": [\"harry\", \"know\", \"yeah\", \"potter\", \"yes\", \"krum\", \"think\", \"right\", \"come\", \"oh\", \"let\", \"champion\", \"dragon\", \"ron\", \"look\", \"tell\", \"way\", \"professor\", \"boy\", \"want\", \"task\", \"great\", \"time\", \"father\", \"bit\", \"friend\", \"give\", \"stand\", \"eye\", \"say\", \"harry\", \"thank\", \"curse\", \"cup\", \"triwizard\", \"tournament\", \"leave\", \"dark\", \"sorry\", \"body\", \"lord\", \"son\", \"moment\", \"sure\", \"suppose\", \"thing\", \"hagrid\", \"ministry\", \"shall\", \"choose\", \"wand\", \"neville\", \"talk\", \"home\", \"moody\", \"get\", \"blimey\", \"happen\", \"voldemort\", \"ready\", \"cedric\", \"hear\", \"arm\", \"way\", \"look\", \"oh\", \"sir\", \"yeah\", \"know\", \"hermione\", \"right\", \"come\", \"yes\", \"arm\", \"sure\", \"bloody\", \"tell\", \"come\", \"voldemort\", \"wand\", \"lord\", \"sir\", \"shall\", \"hermione\", \"talk\", \"cup\", \"leave\", \"suppose\", \"choose\", \"thing\", \"son\", \"body\", \"let\", \"hagrid\", \"ministry\", \"moment\", \"triwizard\", \"happen\", \"ready\", \"tournament\", \"neville\", \"sorry\", \"think\", \"harry\", \"stand\", \"look\", \"know\", \"champion\", \"oh\", \"great\", \"good\", \"professor\", \"know\", \"think\", \"boy\", \"old\", \"happen\", \"leave\", \"time\", \"choose\", \"let\", \"friend\", \"good\", \"thing\", \"get\", \"neville\", \"suppose\", \"sure\", \"cup\", \"ministry\", \"son\", \"body\", \"hagrid\", \"moment\", \"shall\", \"bit\", \"triwizard\", \"ready\", \"hermione\", \"tournament\", \"dumbledore\", \"sorry\", \"way\", \"eye\", \"find\", \"want\", \"dragon\", \"tell\", \"harry\", \"krum\", \"yes\", \"potter\", \"oh\", \"cedric\", \"let\", \"blimey\", \"get\", \"suppose\", \"sorry\", \"sir\", \"hermione\", \"ask\", \"body\", \"wand\", \"come\", \"right\", \"happen\", \"shall\", \"bloody\", \"cup\", \"lord\", \"leave\", \"voldemort\", \"sure\", \"thing\", \"son\", \"hagrid\", \"ministry\", \"miss\", \"choose\", \"end\", \"triwizard\", \"dragon\", \"curse\", \"think\", \"home\", \"stand\", \"potter\", \"find\", \"mean\", \"ron\", \"yeah\", \"harry\", \"yeah\", \"dragon\", \"end\", \"ministry\", \"right\", \"ask\", \"hagrid\", \"shall\", \"dumbledore\", \"bloody\", \"take\", \"tournament\", \"cup\", \"leave\", \"talk\", \"sure\", \"suppose\", \"neville\", \"thing\", \"son\", \"triwizard\", \"body\", \"get\", \"bit\", \"choose\", \"lord\", \"voldemort\", \"hermione\", \"sorry\", \"moment\", \"eye\", \"think\", \"way\", \"yes\", \"task\", \"sir\", \"thank\", \"professor\", \"know\", \"come\", \"potter\", \"champion\", \"want\", \"go\", \"ready\", \"good\", \"miss\", \"find\", \"triwizard\", \"wand\", \"cup\", \"suppose\", \"leave\", \"sure\", \"thing\", \"son\", \"blimey\", \"body\", \"hagrid\", \"ministry\", \"tournament\", \"shall\", \"moody\", \"choose\", \"take\", \"get\", \"neville\", \"sorry\", \"moment\", \"talk\", \"dark\", \"professor\", \"look\", \"bloody\", \"great\", \"father\", \"give\", \"think\", \"come\", \"krum\", \"dragon\", \"oh\", \"know\", \"harry\", \"yeah\", \"time\", \"boy\", \"look\", \"stand\", \"eye\", \"mean\", \"choose\", \"time\", \"dumbledore\", \"hear\", \"dark\", \"hagrid\", \"shall\", \"lord\", \"tell\", \"let\", \"know\", \"leave\", \"cup\", \"suppose\", \"sure\", \"son\", \"thing\", \"body\", \"ministry\", \"end\", \"triwizard\", \"go\", \"curse\", \"ready\", \"tournament\", \"neville\", \"bloody\", \"think\", \"arm\", \"father\", \"good\", \"want\", \"come\", \"yeah\", \"right\", \"krum\", \"harry\", \"yes\", \"ask\", \"way\", \"task\", \"great\", \"home\", \"son\", \"take\", \"thing\", \"professor\", \"hagrid\", \"lord\", \"old\", \"sorry\", \"cup\", \"leave\", \"sure\", \"hear\", \"suppose\", \"body\", \"sir\", \"ministry\", \"shall\", \"choose\", \"triwizard\", \"tournament\", \"neville\", \"moment\", \"talk\", \"moody\", \"get\", \"blimey\", \"yeah\", \"cedric\", \"ask\", \"mean\", \"come\", \"dark\", \"thank\", \"arm\", \"bit\", \"good\", \"eye\", \"harry\", \"dragon\", \"oh\", \"yes\", \"potter\", \"think\", \"krum\", \"ron\", \"say\", \"moody\", \"talk\", \"body\", \"professor\", \"hermione\", \"miss\", \"hear\", \"come\", \"right\", \"give\", \"leave\", \"cup\", \"eye\", \"sure\", \"hagrid\", \"suppose\", \"father\", \"thing\", \"son\", \"ministry\", \"think\", \"shall\", \"choose\", \"triwizard\", \"voldemort\", \"tournament\", \"neville\", \"want\", \"thank\", \"harry\", \"bloody\", \"potter\", \"way\", \"tell\", \"dragon\", \"yeah\", \"yes\", \"know\", \"father\", \"bit\", \"friend\", \"moment\", \"give\", \"neville\", \"find\", \"shall\", \"tournament\", \"happen\", \"voldemort\", \"time\", \"mean\", \"stand\", \"cup\", \"leave\", \"sure\", \"suppose\", \"great\", \"thing\", \"son\", \"body\", \"hagrid\", \"ministry\", \"choose\", \"blimey\", \"wand\", \"say\", \"triwizard\", \"sorry\", \"champion\", \"yeah\", \"ask\", \"boy\", \"let\", \"yes\", \"get\", \"harry\", \"know\"], \"Freq\": [46.0, 30.0, 22.0, 18.0, 19.0, 15.0, 18.0, 16.0, 19.0, 13.0, 14.0, 11.0, 11.0, 9.0, 9.0, 13.0, 9.0, 11.0, 9.0, 8.0, 8.0, 8.0, 10.0, 7.0, 7.0, 7.0, 7.0, 7.0, 7.0, 7.0, 45.726665861160534, 8.111523761629877, 5.710060512799548, 4.105620136845358, 4.105250619878739, 4.092202870959945, 3.274354703224013, 4.105127775142497, 1.6734755142770086, 0.8873318531390177, 0.8873308703811278, 0.08997103439347619, 0.09751280033738072, 0.08067720051744039, 0.08067725170274716, 0.08067725682127784, 0.08069113827647326, 0.0806773745474834, 0.08067711350241888, 0.08067734383629933, 0.08543006336267163, 0.08067733359923798, 0.08068359868078637, 0.08532343925014362, 0.08067712885801091, 0.0806773540733607, 0.08068092680777308, 0.08067737966601407, 0.08067720051744039, 0.08068045590295082, 0.08880435745925627, 0.08532480589783431, 0.086426922804628, 0.0899719352548753, 0.0875341531235678, 0.08802219478653746, 0.08532472911987417, 0.08699183456130155, 0.08548064980135026, 0.08069178321133853, 0.08068557955215828, 0.08068557955215828, 19.065597054237926, 6.128003735898962, 4.403405592017991, 5.708855339595555, 10.44458344407759, 15.211643598751015, 4.383836661775135, 3.538033901895754, 2.6518308496740928, 3.480649820744619, 0.9518136512471391, 0.951850822508342, 0.13076694166892314, 0.08653822194036072, 0.08655978281744092, 0.08653846343763984, 0.09152358551179642, 0.08654677094404171, 0.0865387242547013, 0.08653823160025188, 0.21865026481444058, 0.08653806738210207, 0.08653849241731333, 0.0915223490457273, 0.0865380867018844, 0.09152258088311525, 0.09152241666496545, 0.08653815432112257, 0.086538473097531, 0.08653821228046955, 0.2510696323553568, 0.2980071594446164, 0.09152331503484379, 0.09152166319345457, 0.10350493206163482, 0.0930634687624035, 0.08654436563114164, 0.08654350590082795, 0.08654188303911224, 0.08654181541987409, 29.410172984937418, 16.618124304384615, 8.631103468020747, 5.988414603923675, 4.296265670446505, 0.9410440247329543, 1.2330255170930875, 0.24116244686536512, 0.48126627801872707, 0.22545672303893569, 0.22743029949575955, 0.16934069634890914, 0.17182755568162336, 0.16137424357451804, 0.09932546014478769, 0.09541059894752787, 0.08555495988635987, 0.09198554437566142, 0.08555538295964944, 0.0855548735448722, 0.08555480447168207, 0.0904817864898357, 0.08555484764242591, 0.1042531760655865, 0.0855549253497648, 0.09048211458748882, 0.09048399683192, 0.08556173769314183, 0.0956641579943633, 0.08555499442295494, 0.10762568320805804, 0.09518011034619742, 0.09086964108659035, 0.09048283122183648, 0.09066457141922943, 0.09050330278856263, 0.09611701046303463, 0.09048224409972033, 0.09131156272292287, 0.09048488614924298, 12.260694312988093, 6.167213871060971, 12.271394480155163, 5.298924149195031, 5.21314630537936, 4.418771900421483, 3.571736679792604, 6.161088342854235, 3.5616642406983767, 2.7396528494559114, 1.8294624805263484, 0.9581870816092769, 1.3010424417578117, 0.6311120329961384, 0.150273287742522, 0.11505417438478809, 0.13903675680339747, 0.09666455694052048, 0.11318936224404831, 0.0871156169597621, 0.10686813146959609, 0.08711556651012058, 0.08711570104249795, 0.08711607100653573, 0.08712349551211224, 0.0871157935335074, 0.09785579910082721, 0.08711581875832816, 0.09715044584623882, 0.0871156169597621, 0.1660000217586278, 0.09715163141281445, 0.18305798728197487, 0.09213275813410891, 0.09715116895776722, 0.1270531675726976, 0.09556615052887757, 0.09213400255859965, 0.09656285887149695, 0.1030659017457008, 0.10101608236124668, 21.239659021800804, 10.230373358434422, 5.6602398147120025, 4.743616731617745, 14.217006986720168, 4.6776367793063045, 1.0246184825890834, 1.000050051191033, 1.0245989307815893, 0.48041439754540516, 0.43986923307489645, 0.11351168437101751, 0.09315100340858315, 0.0931509703818813, 0.10814505999425104, 0.09315098689523223, 0.0931511024886887, 0.10388018162111332, 0.09315098689523223, 0.09315173825269928, 0.09851643882408309, 0.09315084653174938, 0.10166726049047817, 0.11458828054118887, 0.09315123459549608, 0.09851717366819922, 0.09851728100498022, 0.09851643056740762, 0.09316262055095825, 0.09315119331211878, 0.10454561186662581, 0.12895738936113466, 0.10388234487008437, 0.11998114463257371, 0.10027764549686527, 0.10388303017414771, 0.09916363007349993, 0.09855352781025858, 0.1007055477026857, 0.09851728926165568, 17.906009553138812, 10.808172062191382, 8.109625138502743, 5.453799784223743, 5.4444639543290005, 6.196249147261099, 4.553834043264365, 1.878661242186484, 0.989661009151391, 0.9845215985891831, 0.08950826666977062, 0.09466358072743639, 0.08951886368828711, 0.08952251288714468, 0.08950818699293966, 0.08950879253685488, 0.09981876730217264, 0.08950818699293966, 0.08950810731610871, 0.0895084499264818, 0.09466394724085876, 0.08950805951001015, 0.09466374804878139, 0.08950846586184799, 0.11422549365218852, 0.09466417033598543, 0.08950856944172822, 0.08950834634660157, 0.08950830650818609, 0.08950826666977062, 0.09982002619610167, 0.13832960742043737, 0.11502967190697844, 0.09466385162866162, 0.09981993855158762, 0.09466314250486615, 0.09466411456220376, 0.11690414903193508, 0.11384039162515236, 0.10497648760013313, 0.09638844866691607, 0.09760523339078649, 0.10500547403123316, 0.1081359289132051, 0.09559165645435533, 0.0946648635244147, 0.09466445717257685, 8.78877459438996, 6.818066344472466, 6.811567389333598, 5.7311035648753395, 4.766739999133928, 7.958709140480222, 4.9373973144141985, 4.914563121401757, 2.0322164094011077, 1.0673781858300568, 1.067400939230247, 1.0673981406836996, 2.0544711816022834, 0.47795104970856966, 0.7380987046969504, 0.10315785548055267, 0.09703706915340515, 0.10262683127316849, 0.09703686382526172, 0.0996794446359413, 0.09704151032510006, 0.0970368181967854, 0.09705433953169136, 0.10867817105936063, 0.0970368334062775, 0.10368837777469735, 0.10743641489061544, 0.10262537116192633, 0.09703685622051567, 0.09704110727355926, 0.11265819095362342, 0.17609695971294875, 0.10262571337549871, 0.10270069617158062, 0.10262583505143556, 0.10618014886640123, 0.11940247520015877, 0.11897861707415253, 0.11380797532360445, 0.10821398496503568, 0.10887540014824344, 0.10262915832546068, 0.10262686169215271, 8.296701318125757, 7.422535805623662, 7.367356408190478, 5.584528638183577, 4.664792429588036, 6.145574104494662, 4.588010853693158, 6.456902572899537, 2.838102115603825, 1.0089507443546102, 1.0942166187054405, 0.11520804876935758, 0.09172397472737588, 0.09172402513998723, 0.09172378748053368, 0.11885856279220801, 0.09172408995620185, 0.09172367945350933, 0.17260835939242908, 0.09172395312197101, 0.09172375147152556, 0.09172415477241645, 0.09172372266431908, 0.09172369385711258, 0.09172409715800346, 0.09172409715800346, 0.09172370826071582, 0.09172378027873206, 0.09172396032377263, 0.09172429160664729, 0.2831640083043593, 0.10135620435301754, 0.11184859555909828, 0.09700645300699262, 0.15811414307852928, 0.09700818143938213, 0.10757482322019538, 0.09700687071148675, 0.09700622254934069, 0.09700621534753906, 0.09700687071148675, 0.11734176974699574, 0.09845505219263725, 0.09873463333344142, 0.09931029494256788, 0.09767115048958348, 0.09716152940133939, 14.509672576747054, 8.344605588692634, 6.27009122621917, 5.25511497684804, 5.1917088271112215, 2.1663155941061785, 4.229555570611535, 1.1347411050454113, 1.1347197002531573, 1.134687649098264, 2.1663409212425626, 1.3366744755032902, 0.3129432178324264, 0.13928312647682745, 0.10315940167311873, 0.1558843499496774, 0.10315915652661058, 0.10910031016820329, 0.10315949272753604, 0.13676213784568667, 0.10315935264381709, 0.10315975188241606, 0.10315955576520955, 0.3292792208002093, 0.1031591145014949, 0.10315954175683766, 0.10315906547219326, 0.10910010704681082, 0.10317108465527823, 0.10315949272753604, 0.12845185332846895, 0.12570454544101045, 0.1933233067821319, 0.10910098957424014, 0.14118844716323156, 0.10910243243654522, 0.11092800346175742, 0.10910035919750492, 0.11055690768191628, 0.10932535466267869, 0.10991744651751789, 6.190455028775724, 6.183860174050313, 6.068448045567368, 5.180273187639176, 6.02183924824115, 5.111001755596437, 5.198226790592643, 2.140935971787822, 1.1244212505996314, 1.1244353607233033, 1.1244101993139584, 0.6656635852571984, 0.28856678058286545, 0.15985817933572105, 0.10223824358515805, 0.10222439864300623, 0.10222429997081271, 0.1022354560956914, 0.1538711576563539, 0.10222439247599413, 0.10222494134007053, 0.10224534181607865, 0.10222423830069177, 0.10222446648013926, 0.10222457748635697, 0.10811296397428702, 0.1081126679577065, 0.12456655224202064, 0.10222429380380062, 0.10222444797910298, 0.11989085934634833, 0.1298747338980898, 0.10811239660917435, 0.10811330932696431, 0.10813741001022904, 0.10948347140603926, 0.10223351348688167, 0.10223333464353095, 0.10223117002228582], \"Total\": [46.0, 30.0, 22.0, 18.0, 19.0, 15.0, 18.0, 16.0, 19.0, 13.0, 14.0, 11.0, 11.0, 9.0, 9.0, 13.0, 9.0, 11.0, 9.0, 8.0, 8.0, 8.0, 10.0, 7.0, 7.0, 7.0, 7.0, 7.0, 7.0, 7.0, 46.94487840816109, 8.991953830730852, 6.566517404128463, 4.951195834830011, 5.846780612212216, 5.975946880061839, 5.008133367544712, 6.891924821291354, 6.017604951013939, 5.528867905907731, 6.207663126433496, 5.501698310850379, 6.021488080766344, 5.243426565578677, 5.27287362897538, 5.496775708182968, 5.570838945450339, 5.573604701317205, 5.725877674468904, 5.746987168578672, 6.144911750347354, 6.012024562281531, 6.064472484519811, 6.41916034684154, 6.07380607386892, 6.1426767607368085, 6.144709052502411, 6.217781488522553, 6.267233633377246, 6.287154550347954, 7.0145510449520545, 6.79753017751931, 6.97478072342876, 9.169714087520626, 9.64579307580269, 13.112748632369795, 10.481043078142703, 22.33998177712217, 30.9389984023321, 6.298442377016323, 16.834853628501456, 19.437373487371406, 19.95996412129116, 6.97478072342876, 5.243426565578677, 7.004928948455435, 13.24489994200793, 19.437373487371406, 6.267233633377246, 6.144911750347354, 6.207663126433496, 10.481043078142703, 5.725877674468904, 6.298442377016323, 6.064472484519811, 4.951195834830011, 5.008133367544712, 5.27287362897538, 5.746987168578672, 5.496775708182968, 5.501698310850379, 5.528867905907731, 14.01562996677853, 5.570838945450339, 5.573604701317205, 6.021488080766344, 5.846780612212216, 6.217781488522553, 6.287154550347954, 5.975946880061839, 6.012024562281531, 6.017604951013939, 18.08355624051793, 46.94487840816109, 7.71038107435376, 9.64579307580269, 30.9389984023321, 11.659556315614605, 13.112748632369795, 8.259877677036403, 7.176194528123231, 11.462496389013515, 30.9389984023321, 18.08355624051793, 9.473291057005808, 7.828535826867611, 6.217781488522553, 5.008133367544712, 10.494438298099729, 5.746987168578672, 14.01562996677853, 7.022822399849134, 7.176194528123231, 5.496775708182968, 6.1426767607368085, 6.012024562281531, 5.27287362897538, 5.243426565578677, 4.951195834830011, 5.573604701317205, 5.501698310850379, 5.528867905907731, 5.570838945450339, 6.021488080766344, 5.725877674468904, 7.043747833364271, 5.846780612212216, 6.287154550347954, 6.298442377016323, 5.975946880061839, 6.698611762642471, 6.017604951013939, 9.169714087520626, 7.710257153635536, 7.815617875057817, 8.976176496080805, 11.157466292060558, 13.24489994200793, 46.94487840816109, 15.354782456493883, 19.95996412129116, 18.822049100481692, 13.112748632369795, 7.0145510449520545, 14.01562996677853, 6.144709052502411, 6.1426767607368085, 5.27287362897538, 6.017604951013939, 10.481043078142703, 6.298442377016323, 8.18533434103923, 5.528867905907731, 6.144911750347354, 19.437373487371406, 16.834853628501456, 6.217781488522553, 5.725877674468904, 7.004928948455435, 4.951195834830011, 6.207663126433496, 5.008133367544712, 6.267233633377246, 5.243426565578677, 5.496775708182968, 5.501698310850379, 5.570838945450339, 5.573604701317205, 6.4233210383982655, 5.746987168578672, 6.505456104982458, 5.846780612212216, 11.157466292060558, 6.566517404128463, 18.08355624051793, 6.41916034684154, 7.71038107435376, 18.822049100481692, 7.815617875057817, 6.747410656481079, 9.167597051205279, 22.33998177712217, 46.94487840816109, 22.33998177712217, 11.157466292060558, 6.505456104982458, 5.573604701317205, 16.834853628501456, 8.18533434103923, 5.570838945450339, 5.725877674468904, 6.698611762642471, 7.004928948455435, 7.341982796004034, 5.975946880061839, 4.951195834830011, 5.008133367544712, 6.064472484519811, 5.243426565578677, 5.27287362897538, 6.012024562281531, 5.496775708182968, 5.501698310850379, 5.846780612212216, 5.528867905907731, 6.1426767607368085, 7.043747833364271, 5.746987168578672, 6.207663126433496, 6.267233633377246, 6.298442377016323, 6.017604951013939, 6.021488080766344, 7.710257153635536, 18.08355624051793, 9.169714087520626, 19.95996412129116, 8.25463298417062, 10.481043078142703, 8.991953830730852, 11.462496389013515, 30.9389984023321, 19.437373487371406, 18.822049100481692, 11.659556315614605, 8.976176496080805, 6.2876382629006375, 6.287154550347954, 7.176194528123231, 6.4233210383982655, 7.815617875057817, 5.846780612212216, 6.144911750347354, 4.951195834830011, 5.27287362897538, 5.008133367544712, 5.243426565578677, 5.496775708182968, 5.501698310850379, 6.144709052502411, 5.528867905907731, 5.570838945450339, 5.573604701317205, 5.975946880061839, 5.725877674468904, 6.07380607386892, 5.746987168578672, 7.341982796004034, 6.1426767607368085, 6.012024562281531, 6.017604951013939, 6.021488080766344, 6.064472484519811, 6.891924821291354, 11.462496389013515, 9.64579307580269, 7.004928948455435, 8.259877677036403, 7.049349250547548, 7.0512505836757144, 18.08355624051793, 19.437373487371406, 15.354782456493883, 11.157466292060558, 13.112748632369795, 30.9389984023321, 46.94487840816109, 22.33998177712217, 10.494438298099729, 9.473291057005808, 9.64579307580269, 7.71038107435376, 7.710257153635536, 6.747410656481079, 5.746987168578672, 10.494438298099729, 6.698611762642471, 6.79753017751931, 6.891924821291354, 5.570838945450339, 5.725877674468904, 6.207663126433496, 13.24489994200793, 14.01562996677853, 30.9389984023321, 5.008133367544712, 4.951195834830011, 5.27287362897538, 5.243426565578677, 5.501698310850379, 5.496775708182968, 5.528867905907731, 5.573604701317205, 6.505456104982458, 5.846780612212216, 6.2876382629006375, 6.566517404128463, 6.287154550347954, 5.975946880061839, 6.012024562281531, 7.004928948455435, 18.08355624051793, 6.97478072342876, 7.049349250547548, 7.176194528123231, 8.976176496080805, 19.437373487371406, 22.33998177712217, 16.834853628501456, 15.354782456493883, 46.94487840816109, 19.95996412129116, 8.18533434103923, 9.169714087520626, 8.25463298417062, 8.259877677036403, 6.41916034684154, 5.501698310850379, 7.341982796004034, 5.496775708182968, 11.462496389013515, 5.570838945450339, 6.207663126433496, 7.828535826867611, 6.017604951013939, 4.951195834830011, 5.008133367544712, 5.243426565578677, 6.79753017751931, 5.27287362897538, 5.528867905907731, 10.481043078142703, 5.573604701317205, 5.725877674468904, 5.746987168578672, 5.846780612212216, 5.975946880061839, 6.012024562281531, 6.021488080766344, 6.064472484519811, 6.07380607386892, 6.1426767607368085, 6.144709052502411, 22.33998177712217, 7.0145510449520545, 8.18533434103923, 6.747410656481079, 19.437373487371406, 6.891924821291354, 8.991953830730852, 6.97478072342876, 7.043747833364271, 7.176194528123231, 7.710257153635536, 46.94487840816109, 11.157466292060558, 13.112748632369795, 19.95996412129116, 18.822049100481692, 18.08355624051793, 15.354782456493883, 9.167597051205279, 7.105969111311188, 6.07380607386892, 6.064472484519811, 5.528867905907731, 11.462496389013515, 6.298442377016323, 6.4233210383982655, 6.79753017751931, 19.437373487371406, 16.834853628501456, 7.0512505836757144, 5.008133367544712, 4.951195834830011, 7.710257153635536, 5.243426565578677, 5.570838945450339, 5.27287362897538, 7.049349250547548, 5.496775708182968, 5.501698310850379, 5.573604701317205, 18.08355624051793, 5.725877674468904, 5.746987168578672, 5.846780612212216, 6.267233633377246, 5.975946880061839, 6.012024562281531, 8.976176496080805, 8.991953830730852, 46.94487840816109, 7.004928948455435, 18.822049100481692, 9.169714087520626, 13.24489994200793, 11.157466292060558, 22.33998177712217, 19.95996412129116, 30.9389984023321, 7.049349250547548, 7.043747833364271, 7.022822399849134, 6.021488080766344, 7.0512505836757144, 6.012024562281531, 7.815617875057817, 5.725877674468904, 5.975946880061839, 6.217781488522553, 6.267233633377246, 10.494438298099729, 6.747410656481079, 7.71038107435376, 4.951195834830011, 5.008133367544712, 5.243426565578677, 5.27287362897538, 8.259877677036403, 5.496775708182968, 5.501698310850379, 5.528867905907731, 5.570838945450339, 5.573604701317205, 5.746987168578672, 6.144709052502411, 6.144911750347354, 7.105969111311188, 5.846780612212216, 6.017604951013939, 11.659556315614605, 22.33998177712217, 8.18533434103923, 9.473291057005808, 14.01562996677853, 19.95996412129116, 6.1426767607368085, 46.94487840816109, 30.9389984023321], \"Category\": [\"Default\", \"Default\", \"Default\", \"Default\", \"Default\", \"Default\", \"Default\", \"Default\", \"Default\", \"Default\", \"Default\", \"Default\", \"Default\", \"Default\", \"Default\", \"Default\", \"Default\", \"Default\", \"Default\", \"Default\", \"Default\", \"Default\", \"Default\", \"Default\", \"Default\", \"Default\", \"Default\", \"Default\", \"Default\", \"Default\", \"Topic1\", \"Topic1\", \"Topic1\", \"Topic1\", \"Topic1\", \"Topic1\", \"Topic1\", \"Topic1\", \"Topic1\", \"Topic1\", \"Topic1\", \"Topic1\", \"Topic1\", \"Topic1\", \"Topic1\", \"Topic1\", \"Topic1\", \"Topic1\", \"Topic1\", \"Topic1\", \"Topic1\", \"Topic1\", \"Topic1\", \"Topic1\", \"Topic1\", \"Topic1\", \"Topic1\", \"Topic1\", \"Topic1\", \"Topic1\", \"Topic1\", \"Topic1\", \"Topic1\", \"Topic1\", \"Topic1\", \"Topic1\", \"Topic1\", \"Topic1\", \"Topic1\", \"Topic1\", \"Topic1\", \"Topic1\", \"Topic2\", \"Topic2\", \"Topic2\", \"Topic2\", \"Topic2\", \"Topic2\", \"Topic2\", \"Topic2\", \"Topic2\", \"Topic2\", \"Topic2\", \"Topic2\", \"Topic2\", \"Topic2\", \"Topic2\", \"Topic2\", \"Topic2\", \"Topic2\", \"Topic2\", \"Topic2\", \"Topic2\", \"Topic2\", \"Topic2\", \"Topic2\", \"Topic2\", \"Topic2\", \"Topic2\", \"Topic2\", \"Topic2\", \"Topic2\", \"Topic2\", \"Topic2\", \"Topic2\", \"Topic2\", \"Topic2\", \"Topic2\", \"Topic2\", \"Topic2\", \"Topic2\", \"Topic2\", \"Topic3\", \"Topic3\", \"Topic3\", \"Topic3\", \"Topic3\", \"Topic3\", \"Topic3\", \"Topic3\", \"Topic3\", \"Topic3\", \"Topic3\", \"Topic3\", \"Topic3\", \"Topic3\", \"Topic3\", \"Topic3\", \"Topic3\", \"Topic3\", \"Topic3\", \"Topic3\", \"Topic3\", \"Topic3\", \"Topic3\", \"Topic3\", \"Topic3\", \"Topic3\", \"Topic3\", \"Topic3\", \"Topic3\", \"Topic3\", \"Topic3\", \"Topic3\", \"Topic3\", \"Topic3\", \"Topic3\", \"Topic3\", \"Topic3\", \"Topic3\", \"Topic3\", \"Topic3\", \"Topic4\", \"Topic4\", \"Topic4\", \"Topic4\", \"Topic4\", \"Topic4\", \"Topic4\", \"Topic4\", \"Topic4\", \"Topic4\", \"Topic4\", \"Topic4\", \"Topic4\", \"Topic4\", \"Topic4\", \"Topic4\", \"Topic4\", \"Topic4\", \"Topic4\", \"Topic4\", \"Topic4\", \"Topic4\", \"Topic4\", \"Topic4\", \"Topic4\", \"Topic4\", \"Topic4\", \"Topic4\", \"Topic4\", \"Topic4\", \"Topic4\", \"Topic4\", \"Topic4\", \"Topic4\", \"Topic4\", \"Topic4\", \"Topic4\", \"Topic4\", \"Topic4\", \"Topic4\", \"Topic4\", \"Topic5\", \"Topic5\", \"Topic5\", \"Topic5\", \"Topic5\", \"Topic5\", \"Topic5\", \"Topic5\", \"Topic5\", \"Topic5\", \"Topic5\", \"Topic5\", \"Topic5\", \"Topic5\", \"Topic5\", \"Topic5\", \"Topic5\", \"Topic5\", \"Topic5\", \"Topic5\", \"Topic5\", \"Topic5\", \"Topic5\", \"Topic5\", \"Topic5\", \"Topic5\", \"Topic5\", \"Topic5\", \"Topic5\", \"Topic5\", \"Topic5\", \"Topic5\", \"Topic5\", \"Topic5\", \"Topic5\", \"Topic5\", \"Topic5\", \"Topic5\", \"Topic5\", \"Topic5\", \"Topic6\", \"Topic6\", \"Topic6\", \"Topic6\", \"Topic6\", \"Topic6\", \"Topic6\", \"Topic6\", \"Topic6\", \"Topic6\", \"Topic6\", \"Topic6\", \"Topic6\", \"Topic6\", \"Topic6\", \"Topic6\", \"Topic6\", \"Topic6\", \"Topic6\", \"Topic6\", \"Topic6\", \"Topic6\", \"Topic6\", \"Topic6\", \"Topic6\", \"Topic6\", \"Topic6\", \"Topic6\", \"Topic6\", \"Topic6\", \"Topic6\", \"Topic6\", \"Topic6\", \"Topic6\", \"Topic6\", \"Topic6\", \"Topic6\", \"Topic6\", \"Topic6\", \"Topic6\", \"Topic6\", \"Topic6\", \"Topic6\", \"Topic6\", \"Topic6\", \"Topic6\", \"Topic6\", \"Topic7\", \"Topic7\", \"Topic7\", \"Topic7\", \"Topic7\", \"Topic7\", \"Topic7\", \"Topic7\", \"Topic7\", \"Topic7\", \"Topic7\", \"Topic7\", \"Topic7\", \"Topic7\", \"Topic7\", \"Topic7\", \"Topic7\", \"Topic7\", \"Topic7\", \"Topic7\", \"Topic7\", \"Topic7\", \"Topic7\", \"Topic7\", \"Topic7\", \"Topic7\", \"Topic7\", \"Topic7\", \"Topic7\", \"Topic7\", \"Topic7\", \"Topic7\", \"Topic7\", \"Topic7\", \"Topic7\", \"Topic7\", \"Topic7\", \"Topic7\", \"Topic7\", \"Topic7\", \"Topic7\", \"Topic7\", \"Topic7\", \"Topic8\", \"Topic8\", \"Topic8\", \"Topic8\", \"Topic8\", \"Topic8\", \"Topic8\", \"Topic8\", \"Topic8\", \"Topic8\", \"Topic8\", \"Topic8\", \"Topic8\", \"Topic8\", \"Topic8\", \"Topic8\", \"Topic8\", \"Topic8\", \"Topic8\", \"Topic8\", \"Topic8\", \"Topic8\", \"Topic8\", \"Topic8\", \"Topic8\", \"Topic8\", \"Topic8\", \"Topic8\", \"Topic8\", \"Topic8\", \"Topic8\", \"Topic8\", \"Topic8\", \"Topic8\", \"Topic8\", \"Topic8\", \"Topic8\", \"Topic8\", \"Topic8\", \"Topic8\", \"Topic8\", \"Topic8\", \"Topic8\", \"Topic8\", \"Topic8\", \"Topic8\", \"Topic8\", \"Topic9\", \"Topic9\", \"Topic9\", \"Topic9\", \"Topic9\", \"Topic9\", \"Topic9\", \"Topic9\", \"Topic9\", \"Topic9\", \"Topic9\", \"Topic9\", \"Topic9\", \"Topic9\", \"Topic9\", \"Topic9\", \"Topic9\", \"Topic9\", \"Topic9\", \"Topic9\", \"Topic9\", \"Topic9\", \"Topic9\", \"Topic9\", \"Topic9\", \"Topic9\", \"Topic9\", \"Topic9\", \"Topic9\", \"Topic9\", \"Topic9\", \"Topic9\", \"Topic9\", \"Topic9\", \"Topic9\", \"Topic9\", \"Topic9\", \"Topic9\", \"Topic9\", \"Topic9\", \"Topic9\", \"Topic10\", \"Topic10\", \"Topic10\", \"Topic10\", \"Topic10\", \"Topic10\", \"Topic10\", \"Topic10\", \"Topic10\", \"Topic10\", \"Topic10\", \"Topic10\", \"Topic10\", \"Topic10\", \"Topic10\", \"Topic10\", \"Topic10\", \"Topic10\", \"Topic10\", \"Topic10\", \"Topic10\", \"Topic10\", \"Topic10\", \"Topic10\", \"Topic10\", \"Topic10\", \"Topic10\", \"Topic10\", \"Topic10\", \"Topic10\", \"Topic10\", \"Topic10\", \"Topic10\", \"Topic10\", \"Topic10\", \"Topic10\", \"Topic10\", \"Topic10\", \"Topic10\"], \"logprob\": [30.0, 29.0, 28.0, 27.0, 26.0, 25.0, 24.0, 23.0, 22.0, 21.0, 20.0, 19.0, 18.0, 17.0, 16.0, 15.0, 14.0, 13.0, 12.0, 11.0, 10.0, 9.0, 8.0, 7.0, 6.0, 5.0, 4.0, 3.0, 2.0, 1.0, -0.6539, -2.3833, -2.7344, -3.0642, -3.0643, -3.0675, -3.2905, -3.0644, -3.9617, -4.5961, -4.5961, -6.8849, -6.8044, -6.9939, -6.9939, -6.9939, -6.9937, -6.9939, -6.9939, -6.9939, -6.9367, -6.9939, -6.9938, -6.9379, -6.9939, -6.9939, -6.9939, -6.9939, -6.9939, -6.9939, -6.8979, -6.9379, -6.9251, -6.8849, -6.9123, -6.9068, -6.9379, -6.9185, -6.9361, -6.9937, -6.9938, -6.9938, -1.4707, -2.6057, -2.9362, -2.6766, -2.0725, -1.6965, -2.9406, -3.155, -3.4433, -3.1714, -4.468, -4.4679, -6.4529, -6.8657, -6.8655, -6.8657, -6.8097, -6.8656, -6.8657, -6.8657, -5.9389, -6.8657, -6.8657, -6.8097, -6.8657, -6.8097, -6.8097, -6.8657, -6.8657, -6.8657, -5.8006, -5.6292, -6.8097, -6.8098, -6.6867, -6.793, -6.8657, -6.8657, -6.8657, -6.8657, -0.925, -1.4958, -2.1509, -2.5165, -2.8486, -4.3671, -4.0968, -5.7286, -5.0377, -5.7959, -5.7872, -6.0822, -6.0676, -6.1303, -6.6157, -6.6559, -6.7649, -6.6924, -6.7649, -6.7649, -6.7649, -6.7089, -6.7649, -6.5672, -6.7649, -6.7089, -6.7089, -6.7648, -6.6532, -6.7649, -6.5354, -6.6583, -6.7046, -6.7089, -6.7069, -6.7087, -6.6485, -6.7089, -6.6998, -6.7089, -1.7734, -2.4606, -1.7725, -2.6123, -2.6286, -2.7939, -3.0068, -2.4616, -3.0096, -3.272, -3.6758, -4.3225, -4.0166, -4.7401, -6.1751, -6.4422, -6.2528, -6.6163, -6.4585, -6.7203, -6.516, -6.7203, -6.7203, -6.7203, -6.7202, -6.7203, -6.6041, -6.7203, -6.6113, -6.7203, -6.0756, -6.6113, -5.9778, -6.6643, -6.6113, -6.343, -6.6277, -6.6643, -6.6174, -6.5522, -6.5723, -1.2057, -1.9363, -2.5281, -2.7048, -1.6072, -2.7188, -4.2373, -4.2616, -4.2373, -4.9947, -5.0829, -6.4375, -6.6351, -6.6351, -6.4859, -6.6351, -6.6351, -6.5261, -6.6351, -6.6351, -6.5791, -6.6351, -6.5477, -6.428, -6.6351, -6.5791, -6.5791, -6.5791, -6.635, -6.6351, -6.5197, -6.3099, -6.5261, -6.382, -6.5614, -6.5261, -6.5726, -6.5788, -6.5572, -6.5791, -1.3408, -1.8457, -2.1329, -2.5297, -2.5314, -2.402, -2.71, -3.5954, -4.2364, -4.2416, -6.6394, -6.5834, -6.6393, -6.6393, -6.6394, -6.6394, -6.5304, -6.6394, -6.6394, -6.6394, -6.5834, -6.6394, -6.5834, -6.6394, -6.3956, -6.5834, -6.6394, -6.6394, -6.6394, -6.6394, -6.5304, -6.2041, -6.3886, -6.5834, -6.5304, -6.5834, -6.5834, -6.3724, -6.3989, -6.48, -6.5654, -6.5528, -6.4797, -6.4504, -6.5737, -6.5834, -6.5834, -2.0059, -2.2598, -2.2607, -2.4335, -2.6177, -2.1051, -2.5825, -2.5872, -3.4702, -4.1142, -4.1141, -4.1141, -3.4593, -4.9176, -4.483, -6.4509, -6.512, -6.456, -6.512, -6.4852, -6.512, -6.512, -6.5118, -6.3987, -6.512, -6.4457, -6.4102, -6.456, -6.512, -6.512, -6.3628, -5.9161, -6.456, -6.4553, -6.456, -6.422, -6.3046, -6.3082, -6.3526, -6.403, -6.3969, -6.456, -6.456, -2.0091, -2.1204, -2.1279, -2.4049, -2.5849, -2.3092, -2.6015, -2.2598, -3.0818, -4.116, -4.0349, -6.2859, -6.5139, -6.5139, -6.5139, -6.2547, -6.5139, -6.5139, -5.8817, -6.5139, -6.5139, -6.5139, -6.5139, -6.5139, -6.5139, -6.5139, -6.5139, -6.5139, -6.5139, -6.5139, -5.3867, -6.414, -6.3155, -6.4579, -5.9694, -6.4579, -6.3545, -6.4579, -6.4579, -6.4579, -6.4579, -6.2676, -6.4431, -6.4402, -6.4344, -6.4511, -6.4563, -1.4223, -1.9755, -2.2613, -2.4379, -2.45, -3.3241, -2.655, -3.9707, -3.9707, -3.9707, -3.3241, -3.8069, -5.2588, -6.0683, -6.3686, -5.9557, -6.3686, -6.3126, -6.3686, -6.0866, -6.3686, -6.3686, -6.3686, -5.2079, -6.3686, -6.3686, -6.3686, -6.3126, -6.3685, -6.3686, -6.1493, -6.1709, -5.7405, -6.3126, -6.0548, -6.3126, -6.296, -6.3126, -6.2993, -6.3105, -6.3051, -2.1468, -2.1479, -2.1667, -2.3249, -2.1744, -2.3384, -2.3215, -3.2086, -3.8525, -3.8525, -3.8525, -4.3768, -5.2126, -5.8033, -6.2503, -6.2504, -6.2504, -6.2503, -5.8414, -6.2504, -6.2504, -6.2502, -6.2504, -6.2504, -6.2504, -6.1944, -6.1944, -6.0527, -6.2504, -6.2504, -6.091, -6.011, -6.1944, -6.1944, -6.1942, -6.1818, -6.2503, -6.2503, -6.2503], \"loglift\": [30.0, 29.0, 28.0, 27.0, 26.0, 25.0, 24.0, 23.0, 22.0, 21.0, 20.0, 19.0, 18.0, 17.0, 16.0, 15.0, 14.0, 13.0, 12.0, 11.0, 10.0, 9.0, 8.0, 7.0, 6.0, 5.0, 4.0, 3.0, 2.0, 1.0, 2.0439, 1.9671, 1.9304, 1.8829, 1.7166, 1.6915, 1.6452, 1.5521, 0.7904, 0.2407, 0.1249, -2.0431, -2.0529, -2.1041, -2.1097, -2.1513, -2.1645, -2.1652, -2.1921, -2.1958, -2.2055, -2.2409, -2.2495, -2.2504, -2.2511, -2.2624, -2.2627, -2.2745, -2.2825, -2.2856, -2.2991, -2.3077, -2.3206, -2.554, -2.6321, -2.9336, -2.7407, -3.4781, -3.8213, -2.2872, -3.2705, -3.4142, 2.0824, 1.9988, 1.9536, 1.9236, 1.8907, 1.8831, 1.7708, 1.5762, 1.2777, 1.0259, 0.3338, 0.2386, -1.7086, -1.9186, -1.9298, -1.9815, -2.0116, -2.023, -2.024, -2.0289, -2.0322, -2.0365, -2.037, -2.0583, -2.0848, -2.0904, -2.1015, -2.1067, -2.1127, -2.1136, -2.1488, -2.9314, -2.3055, -2.5295, -3.5719, -2.7024, -2.8925, -2.4303, -2.2897, -2.758, 2.1898, 2.156, 2.1474, 1.9725, 1.8708, 0.5686, 0.0991, -0.9305, -1.131, -1.1983, -1.2112, -1.2395, -1.3361, -1.3773, -1.7315, -1.7661, -1.8178, -1.8637, -1.9232, -1.9281, -1.9357, -1.9575, -1.9631, -1.9726, -1.984, -2.0006, -2.0024, -2.0058, -2.0083, -2.0128, -2.2045, -2.1541, -2.214, -2.3567, -2.5722, -2.7455, -3.9507, -2.8936, -3.1467, -3.0971, 2.1998, 2.1382, 2.1341, 2.1189, 2.1029, 2.0903, 1.7453, 1.7357, 1.6969, 1.1725, 1.161, 0.4086, -0.4371, -1.0167, -1.4557, -1.6404, -1.6527, -1.6692, -1.7375, -1.7846, -1.8045, -1.8305, -1.8777, -1.8786, -1.891, -1.8916, -1.9172, -1.9222, -1.9372, -1.9394, -1.9409, -1.9465, -2.326, -1.9768, -2.1071, -2.7312, -2.1371, -2.0267, -2.2863, -3.1118, -3.8745, 2.2347, 2.1984, 2.146, 2.1239, 2.1162, 1.7256, 0.5919, 0.5402, 0.4076, -0.3945, -0.5297, -1.6784, -1.688, -1.6994, -1.7416, -1.7453, -1.7509, -1.7731, -1.7925, -1.7934, -1.7983, -1.7983, -1.8161, -1.8334, -1.837, -1.8581, -1.8677, -1.8727, -1.8829, -1.8837, -2.0155, -2.6581, -2.1952, -2.829, -2.1254, -2.3289, -2.2221, -2.4711, -3.4424, -2.9995, 2.2709, 2.245, 2.2193, 2.1785, 2.1769, 2.174, 1.9768, 0.8952, 0.5445, 0.4896, -1.6923, -1.6992, -1.7036, -1.7494, -1.7968, -1.7977, -1.7992, -1.8026, -1.8102, -1.8107, -1.8244, -1.8376, -1.8406, -1.8413, -1.8424, -1.8519, -1.8864, -1.8873, -1.888, -1.8951, -1.9139, -2.0964, -2.1083, -1.9832, -2.095, -1.9896, -1.9898, -2.7206, -2.8194, -2.6646, -2.4307, -2.5796, -3.365, -3.7525, -3.1332, -2.3875, -2.2851, 2.2744, 2.2444, 2.2435, 2.2042, 2.1804, 2.0908, 2.0624, 2.0431, 1.1462, 0.7151, 0.6877, 0.6069, 0.5038, -1.011, -1.3683, -1.5151, -1.5649, -1.5718, -1.6222, -1.6434, -1.6694, -1.6752, -1.6831, -1.7246, -1.7311, -1.7375, -1.7454, -1.7478, -1.753, -1.759, -1.7626, -2.2643, -1.8515, -1.8614, -1.88, -2.0698, -2.725, -2.8678, -2.6293, -2.5876, -3.6991, -2.9029, -2.0116, 2.3218, 2.3156, 2.3075, 2.2826, 2.2568, 2.244, 2.2411, 1.8479, 1.7475, 0.605, 0.4541, -1.5338, -1.5667, -1.5782, -1.6241, -1.6245, -1.6297, -1.6771, -1.6844, -1.6852, -1.7121, -1.7158, -1.733, -1.7549, -1.7609, -1.7624, -1.7696, -1.7711, -1.7824, -1.7827, -1.9462, -1.8152, -1.8711, -1.8203, -2.3898, -1.8414, -2.004, -1.8534, -1.8633, -1.8819, -1.9537, -3.5698, -2.3084, -2.467, -2.8814, -2.8393, -2.8045, 2.3931, 2.3556, 2.3245, 2.3049, 2.2943, 1.5127, 1.4527, 0.7358, 0.7161, 0.6595, 0.2555, -0.0836, -0.6653, -1.1326, -1.4214, -1.4515, -1.4788, -1.4833, -1.4844, -1.4928, -1.526, -1.5268, -1.5398, -1.5562, -1.5668, -1.5705, -1.5877, -1.6011, -1.6094, -1.6156, -1.7971, -1.8205, -3.0427, -1.7124, -2.443, -1.9817, -2.3328, -2.1779, -2.8589, -2.7575, -3.1904, 2.4471, 2.4468, 2.4309, 2.4265, 2.4192, 2.4146, 2.1692, 1.5932, 0.9065, 0.8668, 0.8589, -0.1808, -0.575, -1.2991, -1.3031, -1.3147, -1.3606, -1.3661, -1.4061, -1.4078, -1.4087, -1.4134, -1.4212, -1.4216, -1.4523, -1.4632, -1.4632, -1.4669, -1.4695, -1.4983, -2.0003, -2.5706, -1.7499, -1.8961, -2.2875, -2.6287, -1.5188, -3.5525, -3.1356]}, \"token.table\": {\"Topic\": [2, 4, 5, 10, 4, 2, 1, 4, 9, 3, 4, 6, 7, 2, 4, 9, 1, 1, 1, 7, 5, 5, 7, 5, 7, 10, 6, 10, 10, 4, 10, 6, 6, 8, 5, 7, 8, 3, 10, 1, 7, 9, 2, 4, 9, 8, 3, 7, 9, 1, 3, 4, 7, 1, 2, 7, 8, 7, 5, 6, 9, 10, 9, 10, 4, 3, 8, 6, 8, 9, 6, 4, 5, 9, 9, 9, 2, 5, 7, 10, 2, 4, 8, 1, 4, 7, 4, 2, 8, 9, 8, 2, 7, 1, 8, 3, 3, 7, 10, 1, 10, 1, 6, 2, 10, 2, 4, 6, 6, 8, 5, 2], \"Freq\": [0.8602420976254628, 0.36650915833196285, 0.6108485972199381, 0.8518192504819199, 0.8137081767872748, 0.8565397371122488, 0.1808688536276071, 0.3617377072552142, 0.3617377072552142, 0.950039426197531, 0.8553647926359927, 0.9434321257378104, 0.8700210829314563, 0.771709202878959, 0.0514472801919306, 0.1028945603838612, 0.807885636811482, 0.9137263530631494, 0.580389383767322, 0.290194691883661, 0.8962608300341279, 0.14928466306659333, 0.7464233153329666, 0.9223027414487764, 0.9078815220448729, 0.8511423943896607, 0.2558978742272766, 0.6397446855681915, 0.8543573592476001, 0.8139773904365846, 0.8509128882599273, 0.7952111414395173, 0.8360977362704188, 0.8474701773684813, 0.17950617668038893, 0.17950617668038893, 0.5385185300411668, 0.6433162708248318, 0.16082906770620795, 0.9798725986688928, 0.7355612802626349, 0.14711225605252698, 0.15876941315667267, 0.6350776526266907, 0.15876941315667267, 0.9347016861718087, 0.9373283395565274, 0.032321666881259564, 0.9768943352014839, 0.5990255809562796, 0.19967519365209319, 0.85618698755916, 0.9330492505149506, 0.1610912157494172, 0.4832736472482516, 0.1610912157494172, 0.1610912157494172, 0.889230003251222, 0.8970855071258201, 0.7784135294048469, 0.15568270588096939, 0.8303595278998973, 0.8232070532365676, 0.8316665955374153, 0.9151399402545632, 0.7664268431151507, 0.12773780718585848, 0.9563252068840552, 0.5234461845284273, 0.3489641230189515, 0.7952723223136422, 0.05940057585692323, 0.8316080619969252, 0.05940057585692323, 0.8726387029574153, 0.8443605518140065, 0.17464571491963518, 0.17464571491963518, 0.17464571491963518, 0.34929142983927036, 0.28623105330577614, 0.5724621066115523, 0.9088102832063808, 0.3323581418655622, 0.6647162837311243, 0.9078669306350334, 0.7585996330386694, 0.7628599256559915, 0.8172179323636627, 0.8244740185998063, 0.8480086290236587, 0.7550075911320171, 0.15100151822640343, 0.8896842833711228, 0.9096241624988581, 0.9400805778406507, 0.09528856824867646, 0.7623085459894117, 0.09528856824867646, 0.6693499926088045, 0.16733749815220111, 0.6841371799798968, 0.1710342949949742, 0.6382401285787883, 0.15956003214469708, 0.6509450684582886, 0.16273626711457215, 0.16273626711457215, 0.8912480724385238, 0.8724372345357496, 0.9400186718820688, 0.9519055186944362], \"Term\": [\"arm\", \"ask\", \"ask\", \"bit\", \"blimey\", \"bloody\", \"body\", \"body\", \"body\", \"boy\", \"cedric\", \"champion\", \"choose\", \"come\", \"come\", \"come\", \"cup\", \"curse\", \"dark\", \"dark\", \"dragon\", \"dumbledore\", \"dumbledore\", \"end\", \"eye\", \"father\", \"find\", \"find\", \"friend\", \"get\", \"give\", \"go\", \"good\", \"great\", \"hagrid\", \"hagrid\", \"hagrid\", \"happen\", \"happen\", \"harry\", \"hear\", \"hear\", \"hermione\", \"hermione\", \"hermione\", \"home\", \"know\", \"know\", \"krum\", \"leave\", \"leave\", \"let\", \"look\", \"lord\", \"lord\", \"lord\", \"lord\", \"mean\", \"ministry\", \"miss\", \"miss\", \"moment\", \"moody\", \"neville\", \"oh\", \"old\", \"old\", \"potter\", \"professor\", \"professor\", \"ready\", \"right\", \"right\", \"right\", \"ron\", \"say\", \"shall\", \"shall\", \"shall\", \"shall\", \"sir\", \"sir\", \"son\", \"sorry\", \"sorry\", \"stand\", \"suppose\", \"sure\", \"take\", \"talk\", \"task\", \"tell\", \"tell\", \"thank\", \"thing\", \"think\", \"time\", \"time\", \"time\", \"tournament\", \"tournament\", \"triwizard\", \"triwizard\", \"voldemort\", \"voldemort\", \"wand\", \"wand\", \"wand\", \"want\", \"way\", \"yeah\", \"yes\"]}, \"R\": 30, \"lambda.step\": 0.01, \"plot.opts\": {\"xlab\": \"PC1\", \"ylab\": \"PC2\"}, \"topic.order\": [4, 9, 7, 8, 5, 10, 2, 3, 1, 6]};\n",
       "\n",
       "function LDAvis_load_lib(url, callback){\n",
       "  var s = document.createElement('script');\n",
       "  s.src = url;\n",
       "  s.async = true;\n",
       "  s.onreadystatechange = s.onload = callback;\n",
       "  s.onerror = function(){console.warn(\"failed to load library \" + url);};\n",
       "  document.getElementsByTagName(\"head\")[0].appendChild(s);\n",
       "}\n",
       "\n",
       "if(typeof(LDAvis) !== \"undefined\"){\n",
       "   // already loaded: just create the visualization\n",
       "   !function(LDAvis){\n",
       "       new LDAvis(\"#\" + \"ldavis_el316772322755045974335501\", ldavis_el316772322755045974335501_data);\n",
       "   }(LDAvis);\n",
       "}else if(typeof define === \"function\" && define.amd){\n",
       "   // require.js is available: use it to load d3/LDAvis\n",
       "   require.config({paths: {d3: \"https://d3js.org/d3.v5\"}});\n",
       "   require([\"d3\"], function(d3){\n",
       "      window.d3 = d3;\n",
       "      LDAvis_load_lib(\"https://cdn.jsdelivr.net/gh/bmabey/pyLDAvis@3.3.1/pyLDAvis/js/ldavis.v3.0.0.js\", function(){\n",
       "        new LDAvis(\"#\" + \"ldavis_el316772322755045974335501\", ldavis_el316772322755045974335501_data);\n",
       "      });\n",
       "    });\n",
       "}else{\n",
       "    // require.js not available: dynamically load d3 & LDAvis\n",
       "    LDAvis_load_lib(\"https://d3js.org/d3.v5.js\", function(){\n",
       "         LDAvis_load_lib(\"https://cdn.jsdelivr.net/gh/bmabey/pyLDAvis@3.3.1/pyLDAvis/js/ldavis.v3.0.0.js\", function(){\n",
       "                 new LDAvis(\"#\" + \"ldavis_el316772322755045974335501\", ldavis_el316772322755045974335501_data);\n",
       "            })\n",
       "         });\n",
       "}\n",
       "</script>"
      ],
      "text/plain": [
       "<IPython.core.display.HTML object>"
      ]
     },
     "execution_count": 155,
     "metadata": {},
     "output_type": "execute_result"
    }
   ],
   "source": [
    "lda_display = pyLDAvis.gensim_models.prepare(female_lda_model, female_corpus, female_dictionary)\n",
    "pyLDAvis.display(lda_display)"
   ]
  },
  {
   "cell_type": "code",
   "execution_count": null,
   "metadata": {},
   "outputs": [
    {
     "ename": "TypeError",
     "evalue": "sequence item 0: expected str instance, list found",
     "output_type": "error",
     "traceback": [
      "\u001b[0;31m---------------------------------------------------------------------------\u001b[0m",
      "\u001b[0;31mTypeError\u001b[0m                                 Traceback (most recent call last)",
      "\u001b[1;32m/Users/thomas/Projects/personal/bechdelai/notebooks/nlp/Pipeline.ipynb Cell 34'\u001b[0m in \u001b[0;36m<cell line: 2>\u001b[0;34m()\u001b[0m\n\u001b[1;32m      <a href='vscode-notebook-cell:/Users/thomas/Projects/personal/bechdelai/notebooks/nlp/Pipeline.ipynb#ch0000031?line=0'>1</a>\u001b[0m male_topic_model \u001b[39m=\u001b[39m BERTopic(embedding_model\u001b[39m=\u001b[39m\u001b[39m\"\u001b[39m\u001b[39mall-MiniLM-L6-v2\u001b[39m\u001b[39m\"\u001b[39m)\n\u001b[0;32m----> <a href='vscode-notebook-cell:/Users/thomas/Projects/personal/bechdelai/notebooks/nlp/Pipeline.ipynb#ch0000031?line=1'>2</a>\u001b[0m male_topics, male_probs \u001b[39m=\u001b[39m male_topic_model\u001b[39m.\u001b[39mfit_transform(topic_modeling_processing(\u001b[39m\"\u001b[39;49m\u001b[39m \u001b[39;49m\u001b[39m\"\u001b[39;49m\u001b[39m.\u001b[39;49mjoin(male_tm_text)))\n",
      "\u001b[0;31mTypeError\u001b[0m: sequence item 0: expected str instance, list found"
     ]
    }
   ],
   "source": [
    "male_topic_model = BERTopic(embedding_model=\"all-MiniLM-L6-v2\")\n",
    "male_topics, male_probs = male_topic_model.fit_transform(topic_modeling_processing(male_tm_text))"
   ]
  },
  {
   "cell_type": "code",
   "execution_count": null,
   "metadata": {},
   "outputs": [
    {
     "data": {
      "application/vnd.plotly.v1+json": {
       "config": {
        "plotlyServerURL": "https://plot.ly"
       },
       "data": [
        {
         "marker": {
          "color": "#D55E00"
         },
         "orientation": "h",
         "type": "bar",
         "x": [
          0.09809404795973366,
          0.09809404795973366,
          0.10799847958526913,
          0.10799847958526913,
          0.11671163319223837
         ],
         "xaxis": "x",
         "y": [
          "fleur  ",
          "crouch  ",
          "barty  ",
          "neville  ",
          "goblet  "
         ],
         "yaxis": "y"
        },
        {
         "marker": {
          "color": "#0072B2"
         },
         "orientation": "h",
         "type": "bar",
         "x": [
          0.00001,
          0.00001,
          0.00001,
          1.0986122886681096,
          1.7593715530768388
         ],
         "xaxis": "x2",
         "y": [
          "  ",
          "  ",
          "  ",
          "represent  ",
          "to  "
         ],
         "yaxis": "y2"
        },
        {
         "marker": {
          "color": "#CC79A7"
         },
         "orientation": "h",
         "type": "bar",
         "x": [
          0.00001,
          0.00001,
          0.04326323491172555,
          0.05403011255744802,
          0.3092861120195672
         ],
         "xaxis": "x3",
         "y": [
          "  ",
          "  ",
          "weasley  ",
          "mickey  ",
          "harry  "
         ],
         "yaxis": "y3"
        },
        {
         "marker": {
          "color": "#E69F00"
         },
         "orientation": "h",
         "type": "bar",
         "x": [
          0.12793035051061996,
          0.15942632700682585,
          0.17228860137901855,
          0.1837357438649302,
          0.1837357438649302
         ],
         "xaxis": "x4",
         "y": [
          "badge  ",
          "voldemort  ",
          "tournament  ",
          "cup  ",
          "triwizard  "
         ],
         "yaxis": "y4"
        },
        {
         "marker": {
          "color": "#56B4E9"
         },
         "orientation": "h",
         "type": "bar",
         "x": [
          0.09259850279351783,
          0.09259850279351783,
          0.11940439691149285,
          0.14139670319594838,
          0.32563304038831425
         ],
         "xaxis": "x5",
         "y": [
          "quidditch  ",
          "sirius  ",
          "wizard  ",
          "maze  ",
          "potter  "
         ],
         "yaxis": "y5"
        },
        {
         "marker": {
          "color": "#009E73"
         },
         "orientation": "h",
         "type": "bar",
         "x": [
          0.13889775419027675,
          0.17910659536723927,
          0.19205782021589957,
          0.21209505479392257,
          0.33708785406896424
         ],
         "xaxis": "x6",
         "y": [
          "big  ",
          "long  ",
          "later  ",
          "little  ",
          "time  "
         ],
         "yaxis": "y6"
        },
        {
         "marker": {
          "color": "#F0E442"
         },
         "orientation": "h",
         "type": "bar",
         "x": [
          0.08673254910537707,
          0.08673254910537707,
          0.13889775419027675,
          0.13889775419027675,
          0.4839428162866835
         ],
         "xaxis": "x7",
         "y": [
          "surely  ",
          "unfortunately  ",
          "absolutely  ",
          "maybe  ",
          "yes  "
         ],
         "yaxis": "y7"
        },
        {
         "marker": {
          "color": "#D55E00"
         },
         "orientation": "h",
         "type": "bar",
         "x": [
          0.11995715134614811,
          0.18317300186747862,
          0.22826951366886428,
          0.24668595197450383,
          0.36565276746358494
         ],
         "xaxis": "x8",
         "y": [
          "igor  ",
          "karkaroff  ",
          "viktor  ",
          "hermione  ",
          "krum  "
         ],
         "yaxis": "y8"
        }
       ],
       "layout": {
        "annotations": [
         {
          "font": {
           "size": 16
          },
          "showarrow": false,
          "text": "Topic 0",
          "x": 0.0875,
          "xanchor": "center",
          "xref": "paper",
          "y": 1,
          "yanchor": "bottom",
          "yref": "paper"
         },
         {
          "font": {
           "size": 16
          },
          "showarrow": false,
          "text": "Topic 1",
          "x": 0.36250000000000004,
          "xanchor": "center",
          "xref": "paper",
          "y": 1,
          "yanchor": "bottom",
          "yref": "paper"
         },
         {
          "font": {
           "size": 16
          },
          "showarrow": false,
          "text": "Topic 2",
          "x": 0.6375000000000001,
          "xanchor": "center",
          "xref": "paper",
          "y": 1,
          "yanchor": "bottom",
          "yref": "paper"
         },
         {
          "font": {
           "size": 16
          },
          "showarrow": false,
          "text": "Topic 3",
          "x": 0.9125,
          "xanchor": "center",
          "xref": "paper",
          "y": 1,
          "yanchor": "bottom",
          "yref": "paper"
         },
         {
          "font": {
           "size": 16
          },
          "showarrow": false,
          "text": "Topic 4",
          "x": 0.0875,
          "xanchor": "center",
          "xref": "paper",
          "y": 0.4,
          "yanchor": "bottom",
          "yref": "paper"
         },
         {
          "font": {
           "size": 16
          },
          "showarrow": false,
          "text": "Topic 5",
          "x": 0.36250000000000004,
          "xanchor": "center",
          "xref": "paper",
          "y": 0.4,
          "yanchor": "bottom",
          "yref": "paper"
         },
         {
          "font": {
           "size": 16
          },
          "showarrow": false,
          "text": "Topic 6",
          "x": 0.6375000000000001,
          "xanchor": "center",
          "xref": "paper",
          "y": 0.4,
          "yanchor": "bottom",
          "yref": "paper"
         },
         {
          "font": {
           "size": 16
          },
          "showarrow": false,
          "text": "Topic 7",
          "x": 0.9125,
          "xanchor": "center",
          "xref": "paper",
          "y": 0.4,
          "yanchor": "bottom",
          "yref": "paper"
         }
        ],
        "height": 500,
        "hoverlabel": {
         "bgcolor": "white",
         "font": {
          "family": "Rockwell",
          "size": 16
         }
        },
        "showlegend": false,
        "template": {
         "data": {
          "bar": [
           {
            "error_x": {
             "color": "#2a3f5f"
            },
            "error_y": {
             "color": "#2a3f5f"
            },
            "marker": {
             "line": {
              "color": "white",
              "width": 0.5
             },
             "pattern": {
              "fillmode": "overlay",
              "size": 10,
              "solidity": 0.2
             }
            },
            "type": "bar"
           }
          ],
          "barpolar": [
           {
            "marker": {
             "line": {
              "color": "white",
              "width": 0.5
             },
             "pattern": {
              "fillmode": "overlay",
              "size": 10,
              "solidity": 0.2
             }
            },
            "type": "barpolar"
           }
          ],
          "carpet": [
           {
            "aaxis": {
             "endlinecolor": "#2a3f5f",
             "gridcolor": "#C8D4E3",
             "linecolor": "#C8D4E3",
             "minorgridcolor": "#C8D4E3",
             "startlinecolor": "#2a3f5f"
            },
            "baxis": {
             "endlinecolor": "#2a3f5f",
             "gridcolor": "#C8D4E3",
             "linecolor": "#C8D4E3",
             "minorgridcolor": "#C8D4E3",
             "startlinecolor": "#2a3f5f"
            },
            "type": "carpet"
           }
          ],
          "choropleth": [
           {
            "colorbar": {
             "outlinewidth": 0,
             "ticks": ""
            },
            "type": "choropleth"
           }
          ],
          "contour": [
           {
            "colorbar": {
             "outlinewidth": 0,
             "ticks": ""
            },
            "colorscale": [
             [
              0,
              "#0d0887"
             ],
             [
              0.1111111111111111,
              "#46039f"
             ],
             [
              0.2222222222222222,
              "#7201a8"
             ],
             [
              0.3333333333333333,
              "#9c179e"
             ],
             [
              0.4444444444444444,
              "#bd3786"
             ],
             [
              0.5555555555555556,
              "#d8576b"
             ],
             [
              0.6666666666666666,
              "#ed7953"
             ],
             [
              0.7777777777777778,
              "#fb9f3a"
             ],
             [
              0.8888888888888888,
              "#fdca26"
             ],
             [
              1,
              "#f0f921"
             ]
            ],
            "type": "contour"
           }
          ],
          "contourcarpet": [
           {
            "colorbar": {
             "outlinewidth": 0,
             "ticks": ""
            },
            "type": "contourcarpet"
           }
          ],
          "heatmap": [
           {
            "colorbar": {
             "outlinewidth": 0,
             "ticks": ""
            },
            "colorscale": [
             [
              0,
              "#0d0887"
             ],
             [
              0.1111111111111111,
              "#46039f"
             ],
             [
              0.2222222222222222,
              "#7201a8"
             ],
             [
              0.3333333333333333,
              "#9c179e"
             ],
             [
              0.4444444444444444,
              "#bd3786"
             ],
             [
              0.5555555555555556,
              "#d8576b"
             ],
             [
              0.6666666666666666,
              "#ed7953"
             ],
             [
              0.7777777777777778,
              "#fb9f3a"
             ],
             [
              0.8888888888888888,
              "#fdca26"
             ],
             [
              1,
              "#f0f921"
             ]
            ],
            "type": "heatmap"
           }
          ],
          "heatmapgl": [
           {
            "colorbar": {
             "outlinewidth": 0,
             "ticks": ""
            },
            "colorscale": [
             [
              0,
              "#0d0887"
             ],
             [
              0.1111111111111111,
              "#46039f"
             ],
             [
              0.2222222222222222,
              "#7201a8"
             ],
             [
              0.3333333333333333,
              "#9c179e"
             ],
             [
              0.4444444444444444,
              "#bd3786"
             ],
             [
              0.5555555555555556,
              "#d8576b"
             ],
             [
              0.6666666666666666,
              "#ed7953"
             ],
             [
              0.7777777777777778,
              "#fb9f3a"
             ],
             [
              0.8888888888888888,
              "#fdca26"
             ],
             [
              1,
              "#f0f921"
             ]
            ],
            "type": "heatmapgl"
           }
          ],
          "histogram": [
           {
            "marker": {
             "pattern": {
              "fillmode": "overlay",
              "size": 10,
              "solidity": 0.2
             }
            },
            "type": "histogram"
           }
          ],
          "histogram2d": [
           {
            "colorbar": {
             "outlinewidth": 0,
             "ticks": ""
            },
            "colorscale": [
             [
              0,
              "#0d0887"
             ],
             [
              0.1111111111111111,
              "#46039f"
             ],
             [
              0.2222222222222222,
              "#7201a8"
             ],
             [
              0.3333333333333333,
              "#9c179e"
             ],
             [
              0.4444444444444444,
              "#bd3786"
             ],
             [
              0.5555555555555556,
              "#d8576b"
             ],
             [
              0.6666666666666666,
              "#ed7953"
             ],
             [
              0.7777777777777778,
              "#fb9f3a"
             ],
             [
              0.8888888888888888,
              "#fdca26"
             ],
             [
              1,
              "#f0f921"
             ]
            ],
            "type": "histogram2d"
           }
          ],
          "histogram2dcontour": [
           {
            "colorbar": {
             "outlinewidth": 0,
             "ticks": ""
            },
            "colorscale": [
             [
              0,
              "#0d0887"
             ],
             [
              0.1111111111111111,
              "#46039f"
             ],
             [
              0.2222222222222222,
              "#7201a8"
             ],
             [
              0.3333333333333333,
              "#9c179e"
             ],
             [
              0.4444444444444444,
              "#bd3786"
             ],
             [
              0.5555555555555556,
              "#d8576b"
             ],
             [
              0.6666666666666666,
              "#ed7953"
             ],
             [
              0.7777777777777778,
              "#fb9f3a"
             ],
             [
              0.8888888888888888,
              "#fdca26"
             ],
             [
              1,
              "#f0f921"
             ]
            ],
            "type": "histogram2dcontour"
           }
          ],
          "mesh3d": [
           {
            "colorbar": {
             "outlinewidth": 0,
             "ticks": ""
            },
            "type": "mesh3d"
           }
          ],
          "parcoords": [
           {
            "line": {
             "colorbar": {
              "outlinewidth": 0,
              "ticks": ""
             }
            },
            "type": "parcoords"
           }
          ],
          "pie": [
           {
            "automargin": true,
            "type": "pie"
           }
          ],
          "scatter": [
           {
            "marker": {
             "colorbar": {
              "outlinewidth": 0,
              "ticks": ""
             }
            },
            "type": "scatter"
           }
          ],
          "scatter3d": [
           {
            "line": {
             "colorbar": {
              "outlinewidth": 0,
              "ticks": ""
             }
            },
            "marker": {
             "colorbar": {
              "outlinewidth": 0,
              "ticks": ""
             }
            },
            "type": "scatter3d"
           }
          ],
          "scattercarpet": [
           {
            "marker": {
             "colorbar": {
              "outlinewidth": 0,
              "ticks": ""
             }
            },
            "type": "scattercarpet"
           }
          ],
          "scattergeo": [
           {
            "marker": {
             "colorbar": {
              "outlinewidth": 0,
              "ticks": ""
             }
            },
            "type": "scattergeo"
           }
          ],
          "scattergl": [
           {
            "marker": {
             "colorbar": {
              "outlinewidth": 0,
              "ticks": ""
             }
            },
            "type": "scattergl"
           }
          ],
          "scattermapbox": [
           {
            "marker": {
             "colorbar": {
              "outlinewidth": 0,
              "ticks": ""
             }
            },
            "type": "scattermapbox"
           }
          ],
          "scatterpolar": [
           {
            "marker": {
             "colorbar": {
              "outlinewidth": 0,
              "ticks": ""
             }
            },
            "type": "scatterpolar"
           }
          ],
          "scatterpolargl": [
           {
            "marker": {
             "colorbar": {
              "outlinewidth": 0,
              "ticks": ""
             }
            },
            "type": "scatterpolargl"
           }
          ],
          "scatterternary": [
           {
            "marker": {
             "colorbar": {
              "outlinewidth": 0,
              "ticks": ""
             }
            },
            "type": "scatterternary"
           }
          ],
          "surface": [
           {
            "colorbar": {
             "outlinewidth": 0,
             "ticks": ""
            },
            "colorscale": [
             [
              0,
              "#0d0887"
             ],
             [
              0.1111111111111111,
              "#46039f"
             ],
             [
              0.2222222222222222,
              "#7201a8"
             ],
             [
              0.3333333333333333,
              "#9c179e"
             ],
             [
              0.4444444444444444,
              "#bd3786"
             ],
             [
              0.5555555555555556,
              "#d8576b"
             ],
             [
              0.6666666666666666,
              "#ed7953"
             ],
             [
              0.7777777777777778,
              "#fb9f3a"
             ],
             [
              0.8888888888888888,
              "#fdca26"
             ],
             [
              1,
              "#f0f921"
             ]
            ],
            "type": "surface"
           }
          ],
          "table": [
           {
            "cells": {
             "fill": {
              "color": "#EBF0F8"
             },
             "line": {
              "color": "white"
             }
            },
            "header": {
             "fill": {
              "color": "#C8D4E3"
             },
             "line": {
              "color": "white"
             }
            },
            "type": "table"
           }
          ]
         },
         "layout": {
          "annotationdefaults": {
           "arrowcolor": "#2a3f5f",
           "arrowhead": 0,
           "arrowwidth": 1
          },
          "autotypenumbers": "strict",
          "coloraxis": {
           "colorbar": {
            "outlinewidth": 0,
            "ticks": ""
           }
          },
          "colorscale": {
           "diverging": [
            [
             0,
             "#8e0152"
            ],
            [
             0.1,
             "#c51b7d"
            ],
            [
             0.2,
             "#de77ae"
            ],
            [
             0.3,
             "#f1b6da"
            ],
            [
             0.4,
             "#fde0ef"
            ],
            [
             0.5,
             "#f7f7f7"
            ],
            [
             0.6,
             "#e6f5d0"
            ],
            [
             0.7,
             "#b8e186"
            ],
            [
             0.8,
             "#7fbc41"
            ],
            [
             0.9,
             "#4d9221"
            ],
            [
             1,
             "#276419"
            ]
           ],
           "sequential": [
            [
             0,
             "#0d0887"
            ],
            [
             0.1111111111111111,
             "#46039f"
            ],
            [
             0.2222222222222222,
             "#7201a8"
            ],
            [
             0.3333333333333333,
             "#9c179e"
            ],
            [
             0.4444444444444444,
             "#bd3786"
            ],
            [
             0.5555555555555556,
             "#d8576b"
            ],
            [
             0.6666666666666666,
             "#ed7953"
            ],
            [
             0.7777777777777778,
             "#fb9f3a"
            ],
            [
             0.8888888888888888,
             "#fdca26"
            ],
            [
             1,
             "#f0f921"
            ]
           ],
           "sequentialminus": [
            [
             0,
             "#0d0887"
            ],
            [
             0.1111111111111111,
             "#46039f"
            ],
            [
             0.2222222222222222,
             "#7201a8"
            ],
            [
             0.3333333333333333,
             "#9c179e"
            ],
            [
             0.4444444444444444,
             "#bd3786"
            ],
            [
             0.5555555555555556,
             "#d8576b"
            ],
            [
             0.6666666666666666,
             "#ed7953"
            ],
            [
             0.7777777777777778,
             "#fb9f3a"
            ],
            [
             0.8888888888888888,
             "#fdca26"
            ],
            [
             1,
             "#f0f921"
            ]
           ]
          },
          "colorway": [
           "#636efa",
           "#EF553B",
           "#00cc96",
           "#ab63fa",
           "#FFA15A",
           "#19d3f3",
           "#FF6692",
           "#B6E880",
           "#FF97FF",
           "#FECB52"
          ],
          "font": {
           "color": "#2a3f5f"
          },
          "geo": {
           "bgcolor": "white",
           "lakecolor": "white",
           "landcolor": "white",
           "showlakes": true,
           "showland": true,
           "subunitcolor": "#C8D4E3"
          },
          "hoverlabel": {
           "align": "left"
          },
          "hovermode": "closest",
          "mapbox": {
           "style": "light"
          },
          "paper_bgcolor": "white",
          "plot_bgcolor": "white",
          "polar": {
           "angularaxis": {
            "gridcolor": "#EBF0F8",
            "linecolor": "#EBF0F8",
            "ticks": ""
           },
           "bgcolor": "white",
           "radialaxis": {
            "gridcolor": "#EBF0F8",
            "linecolor": "#EBF0F8",
            "ticks": ""
           }
          },
          "scene": {
           "xaxis": {
            "backgroundcolor": "white",
            "gridcolor": "#DFE8F3",
            "gridwidth": 2,
            "linecolor": "#EBF0F8",
            "showbackground": true,
            "ticks": "",
            "zerolinecolor": "#EBF0F8"
           },
           "yaxis": {
            "backgroundcolor": "white",
            "gridcolor": "#DFE8F3",
            "gridwidth": 2,
            "linecolor": "#EBF0F8",
            "showbackground": true,
            "ticks": "",
            "zerolinecolor": "#EBF0F8"
           },
           "zaxis": {
            "backgroundcolor": "white",
            "gridcolor": "#DFE8F3",
            "gridwidth": 2,
            "linecolor": "#EBF0F8",
            "showbackground": true,
            "ticks": "",
            "zerolinecolor": "#EBF0F8"
           }
          },
          "shapedefaults": {
           "line": {
            "color": "#2a3f5f"
           }
          },
          "ternary": {
           "aaxis": {
            "gridcolor": "#DFE8F3",
            "linecolor": "#A2B1C6",
            "ticks": ""
           },
           "baxis": {
            "gridcolor": "#DFE8F3",
            "linecolor": "#A2B1C6",
            "ticks": ""
           },
           "bgcolor": "white",
           "caxis": {
            "gridcolor": "#DFE8F3",
            "linecolor": "#A2B1C6",
            "ticks": ""
           }
          },
          "title": {
           "x": 0.05
          },
          "xaxis": {
           "automargin": true,
           "gridcolor": "#EBF0F8",
           "linecolor": "#EBF0F8",
           "ticks": "",
           "title": {
            "standoff": 15
           },
           "zerolinecolor": "#EBF0F8",
           "zerolinewidth": 2
          },
          "yaxis": {
           "automargin": true,
           "gridcolor": "#EBF0F8",
           "linecolor": "#EBF0F8",
           "ticks": "",
           "title": {
            "standoff": 15
           },
           "zerolinecolor": "#EBF0F8",
           "zerolinewidth": 2
          }
         }
        },
        "title": {
         "font": {
          "color": "Black",
          "size": 22
         },
         "text": "<b>Topic Word Scores",
         "x": 0.5,
         "xanchor": "center",
         "yanchor": "top"
        },
        "width": 1000,
        "xaxis": {
         "anchor": "y",
         "domain": [
          0,
          0.175
         ],
         "showgrid": true
        },
        "xaxis2": {
         "anchor": "y2",
         "domain": [
          0.275,
          0.45
         ],
         "showgrid": true
        },
        "xaxis3": {
         "anchor": "y3",
         "domain": [
          0.55,
          0.7250000000000001
         ],
         "showgrid": true
        },
        "xaxis4": {
         "anchor": "y4",
         "domain": [
          0.825,
          1
         ],
         "showgrid": true
        },
        "xaxis5": {
         "anchor": "y5",
         "domain": [
          0,
          0.175
         ],
         "showgrid": true
        },
        "xaxis6": {
         "anchor": "y6",
         "domain": [
          0.275,
          0.45
         ],
         "showgrid": true
        },
        "xaxis7": {
         "anchor": "y7",
         "domain": [
          0.55,
          0.7250000000000001
         ],
         "showgrid": true
        },
        "xaxis8": {
         "anchor": "y8",
         "domain": [
          0.825,
          1
         ],
         "showgrid": true
        },
        "yaxis": {
         "anchor": "x",
         "domain": [
          0.6000000000000001,
          1
         ],
         "showgrid": true
        },
        "yaxis2": {
         "anchor": "x2",
         "domain": [
          0.6000000000000001,
          1
         ],
         "showgrid": true
        },
        "yaxis3": {
         "anchor": "x3",
         "domain": [
          0.6000000000000001,
          1
         ],
         "showgrid": true
        },
        "yaxis4": {
         "anchor": "x4",
         "domain": [
          0.6000000000000001,
          1
         ],
         "showgrid": true
        },
        "yaxis5": {
         "anchor": "x5",
         "domain": [
          0,
          0.4
         ],
         "showgrid": true
        },
        "yaxis6": {
         "anchor": "x6",
         "domain": [
          0,
          0.4
         ],
         "showgrid": true
        },
        "yaxis7": {
         "anchor": "x7",
         "domain": [
          0,
          0.4
         ],
         "showgrid": true
        },
        "yaxis8": {
         "anchor": "x8",
         "domain": [
          0,
          0.4
         ],
         "showgrid": true
        }
       }
      }
     },
     "metadata": {},
     "output_type": "display_data"
    }
   ],
   "source": [
    "male_topic_model.visualize_barchart()"
   ]
  },
  {
   "cell_type": "code",
   "execution_count": null,
   "metadata": {},
   "outputs": [
    {
     "data": {
      "application/vnd.plotly.v1+json": {
       "config": {
        "plotlyServerURL": "https://plot.ly"
       },
       "data": [
        {
         "customdata": [
          [
           1,
           "harry | mickey | weasley |  | ",
           61
          ],
          [
           2,
           "fiber | death | moral | graveyard | die",
           55
          ],
          [
           3,
           "triwizard | cup | tournament | voldemort | badge",
           53
          ],
          [
           4,
           "potter | maze | wizard | sirius | quidditch",
           48
          ],
          [
           5,
           "yes | maybe | absolutely | unfortunately | surely",
           38
          ],
          [
           6,
           "year | old | age | this | fourth",
           37
          ],
          [
           7,
           "think | mind | thought | wonder | imagine",
           31
          ],
          [
           8,
           "end | leave | stop | away | final",
           31
          ],
          [
           9,
           "get | lose | save | luck | change",
           30
          ],
          [
           10,
           "delacour | fleur | drooble | severus | durmstrang",
           30
          ],
          [
           11,
           "tell | lie | excuse | cheat | secret",
           30
          ],
          [
           12,
           "arm | body | touch | hand | bone",
           29
          ],
          [
           13,
           "dark | thing | matter | wake | light",
           29
          ],
          [
           14,
           "enemy | magic | protest | cannon | devil",
           29
          ],
          [
           15,
           "right | correct | wrong |  | ",
           28
          ],
          [
           16,
           " |  |  |  | ",
           28
          ],
          [
           17,
           "thank | proud | welcome | pleasure | congratulation",
           28
          ],
          [
           18,
           "exceptionally | traditional | powerful | important | forcibly",
           28
          ],
          [
           19,
           "turn | sort | begin | follow | proceed",
           28
          ],
          [
           20,
           "task | world | work | life | job",
           27
          ],
          [
           21,
           "look | story | see | write | try",
           27
          ],
          [
           22,
           "krum | viktor | karkaroff | igor | dumb",
           26
          ],
          [
           23,
           "boy | son | girl | kid | hot",
           25
          ],
          [
           24,
           "take | will | shall | don | singlemalt",
           25
          ],
          [
           25,
           "yeah | actually |  |  | ",
           25
          ],
          [
           26,
           "go | seat | travel | sit | trolley",
           24
          ],
          [
           27,
           "time | later | past | late | ahead",
           24
          ],
          [
           28,
           "sir | mr | lad | gentleman | bloke",
           23
          ],
          [
           29,
           "bit | wee | set | sake | piece",
           23
          ],
          [
           30,
           "remember | choose | pick | mention | forget",
           21
          ],
          [
           31,
           "come |  |  |  | ",
           21
          ],
          [
           32,
           "know | aware |  |  | ",
           21
          ],
          [
           33,
           "blimey | pathetic | stupid | mad | troll",
           20
          ],
          [
           34,
           "good | sorry | okay | well | fine",
           20
          ],
          [
           35,
           "people | rosier | person | name | madame",
           20
          ],
          [
           36,
           "place | position | myrtle | lake | kitchen",
           20
          ],
          [
           37,
           "stand | hi | rise | hey | hello",
           19
          ],
          [
           38,
           "great | excellent | brilliant | amazing | sweet",
           19
          ],
          [
           39,
           "dance | walk | bow | wear | stair",
           19
          ],
          [
           40,
           "champion | master | leader | winner | hero",
           19
          ],
          [
           41,
           "hear | care | worry | listen | feel",
           19
          ],
          [
           42,
           "dream | bet | wish | promise | expect",
           19
          ],
          [
           43,
           "eye | face | nose | skin | sharp",
           19
          ],
          [
           44,
           "rule | help | theory | question | problem",
           18
          ],
          [
           45,
           "let | couldn | allow |  | ",
           17
          ],
          [
           46,
           "cedric | diggory | lgor |  | ",
           17
          ],
          [
           47,
           "warn | risk | danger | terrifying | safety",
           17
          ],
          [
           48,
           "oh | eh | oi |  | ",
           17
          ],
          [
           49,
           "friend | youknowwho | sweetheart | shush | pal",
           17
          ],
          [
           50,
           "drink | water | ginny | drain | underwater",
           17
          ],
          [
           51,
           "father | parent | dad | sister | sis",
           17
          ],
          [
           52,
           "day | tonight | today | everyday | yesterday",
           17
          ],
          [
           53,
           "lord | man | hell | manky | god",
           17
          ],
          [
           54,
           "dumbledore | albus | azkaban | avada | dumblydorr",
           16
          ],
          [
           55,
           "want | send | seeker | offer | box",
           16
          ],
          [
           56,
           "give | present | interest | put | provide",
           15
          ],
          [
           57,
           "find | clue | search | recognize | library",
           15
          ],
          [
           58,
           "know |  |  |  | ",
           15
          ],
          [
           59,
           "table | join | meet | key | invitation",
           15
          ],
          [
           60,
           "sound | silence | quiet | clear | voice",
           14
          ],
          [
           61,
           "like |  |  |  | ",
           14
          ],
          [
           62,
           "miss | auror | misfit | ruddy | overlook",
           14
          ],
          [
           63,
           "dragon | creature | chinese |  | ",
           13
          ],
          [
           64,
           "moody | alastor | madeye |  | ",
           13
          ],
          [
           65,
           "professor | teacher | dean |  | ",
           13
          ],
          [
           66,
           "suppose | return | conclude | revoir | prove",
           13
          ],
          [
           67,
           "ron | troy | ronald | fudge | cornelius",
           12
          ],
          [
           68,
           "room | window | wall | tent | inside",
           12
          ],
          [
           69,
           "ready | open | hold | close | ",
           12
          ],
          [
           70,
           "talk | speak | conversation | call | ",
           11
          ],
          [
           71,
           "student | school | teach | learn | junior",
           11
          ],
          [
           72,
           "way | far |  |  | ",
           11
          ],
          [
           73,
           "barty | crouch | bartemius | patil | mark",
           11
          ],
          [
           74,
           "little | long | big | small | minute",
           11
          ],
          [
           75,
           "true | fair | exactly | agree | truly",
           11
          ],
          [
           76,
           "crucio | cruciatus | cho | accio | reducto",
           11
          ],
          [
           77,
           "wormtail | horntail | witless | mullet | lacewe",
           11
          ],
          [
           78,
           "egg | owl | unicorn | pumpkin | fairy",
           10
          ],
          [
           79,
           "witness | evidence | conspiracy | testimony | fact",
           10
          ]
         ],
         "hovertemplate": "<b>Topic %{customdata[0]}</b><br>Words: %{customdata[1]}<br>Size: %{customdata[2]}",
         "legendgroup": "",
         "marker": {
          "color": "#B0BEC5",
          "line": {
           "color": "DarkSlateGrey",
           "width": 2
          },
          "size": [
           61,
           55,
           53,
           48,
           38,
           37,
           31,
           31,
           30,
           30,
           30,
           29,
           29,
           29,
           28,
           28,
           28,
           28,
           28,
           27,
           27,
           26,
           25,
           25,
           25,
           24,
           24,
           23,
           23,
           21,
           21,
           21,
           20,
           20,
           20,
           20,
           19,
           19,
           19,
           19,
           19,
           19,
           19,
           18,
           17,
           17,
           17,
           17,
           17,
           17,
           17,
           17,
           17,
           16,
           16,
           15,
           15,
           15,
           15,
           14,
           14,
           14,
           13,
           13,
           13,
           13,
           12,
           12,
           12,
           11,
           11,
           11,
           11,
           11,
           11,
           11,
           11,
           10,
           10
          ],
          "sizemode": "area",
          "sizeref": 0.038125,
          "symbol": "circle"
         },
         "mode": "markers",
         "name": "",
         "orientation": "v",
         "showlegend": false,
         "type": "scatter",
         "x": [
          -10.436664581298828,
          null,
          9.59683895111084,
          -10.608491897583008,
          null,
          15.978134155273438,
          null,
          null,
          null,
          null,
          null,
          null,
          15.872520446777344,
          9.878520011901855,
          null,
          null,
          null,
          null,
          null,
          9.415051460266113,
          null,
          null,
          null,
          null,
          null,
          null,
          15.782610893249512,
          null,
          null,
          null,
          null,
          -10.966276168823242,
          null,
          null,
          null,
          9.93522834777832,
          null,
          11.226536750793457,
          null,
          null,
          null,
          null,
          null,
          null,
          null,
          null,
          null,
          null,
          null,
          9.911896705627441,
          11.206144332885742,
          15.919537544250488,
          null,
          -10.714309692382812,
          null,
          null,
          null,
          -10.966259956359863,
          null,
          null,
          null,
          null,
          null,
          null,
          null,
          null,
          -10.354995727539062,
          null,
          null,
          null,
          null,
          null,
          null,
          null,
          null,
          null,
          null,
          null,
          null
         ],
         "xaxis": "x",
         "y": [
          17.363239288330078,
          null,
          -2.5183215141296387,
          17.535062789916992,
          null,
          3.834503650665283,
          null,
          null,
          null,
          null,
          null,
          null,
          3.9403953552246094,
          -2.2386324405670166,
          null,
          null,
          null,
          null,
          null,
          -2.698787212371826,
          null,
          null,
          null,
          null,
          null,
          null,
          4.030125141143799,
          null,
          null,
          null,
          null,
          -4.395003795623779,
          null,
          null,
          null,
          -2.1831459999084473,
          null,
          10.109654426574707,
          null,
          null,
          null,
          null,
          null,
          null,
          null,
          null,
          null,
          null,
          null,
          -2.208528757095337,
          10.092050552368164,
          3.8824548721313477,
          null,
          17.6408634185791,
          null,
          null,
          null,
          -4.394989490509033,
          null,
          null,
          null,
          null,
          null,
          null,
          null,
          null,
          17.281551361083984,
          null,
          null,
          null,
          null,
          null,
          null,
          null,
          null,
          null,
          null,
          null,
          null
         ],
         "yaxis": "y"
        }
       ],
       "layout": {
        "annotations": [
         {
          "showarrow": false,
          "text": "D1",
          "x": -12.611217594146728,
          "y": 7.61636928319931,
          "yshift": 10
         },
         {
          "showarrow": false,
          "text": "D2",
          "x": 2.881818342208862,
          "xshift": 10,
          "y": 20.286992931365965
         }
        ],
        "height": 650,
        "hoverlabel": {
         "bgcolor": "white",
         "font": {
          "family": "Rockwell",
          "size": 16
         }
        },
        "legend": {
         "itemsizing": "constant",
         "tracegroupgap": 0
        },
        "margin": {
         "t": 60
        },
        "shapes": [
         {
          "line": {
           "color": "#CFD8DC",
           "width": 2
          },
          "type": "line",
          "x0": 2.881818342208862,
          "x1": 2.881818342208862,
          "y0": -5.054254364967346,
          "y1": 20.286992931365965
         },
         {
          "line": {
           "color": "#9E9E9E",
           "width": 2
          },
          "type": "line",
          "x0": -12.611217594146728,
          "x1": 18.374854278564452,
          "y0": 7.61636928319931,
          "y1": 7.61636928319931
         }
        ],
        "sliders": [
         {
          "active": 0,
          "pad": {
           "t": 50
          },
          "steps": [
           {
            "args": [
             {
              "marker.color": [
               [
                "red",
                "#B0BEC5",
                "#B0BEC5",
                "#B0BEC5",
                "#B0BEC5",
                "#B0BEC5",
                "#B0BEC5",
                "#B0BEC5",
                "#B0BEC5",
                "#B0BEC5",
                "#B0BEC5",
                "#B0BEC5",
                "#B0BEC5",
                "#B0BEC5",
                "#B0BEC5",
                "#B0BEC5",
                "#B0BEC5",
                "#B0BEC5",
                "#B0BEC5",
                "#B0BEC5",
                "#B0BEC5",
                "#B0BEC5",
                "#B0BEC5",
                "#B0BEC5",
                "#B0BEC5",
                "#B0BEC5",
                "#B0BEC5",
                "#B0BEC5",
                "#B0BEC5",
                "#B0BEC5",
                "#B0BEC5",
                "#B0BEC5",
                "#B0BEC5",
                "#B0BEC5",
                "#B0BEC5",
                "#B0BEC5",
                "#B0BEC5",
                "#B0BEC5",
                "#B0BEC5",
                "#B0BEC5",
                "#B0BEC5",
                "#B0BEC5",
                "#B0BEC5",
                "#B0BEC5",
                "#B0BEC5",
                "#B0BEC5",
                "#B0BEC5",
                "#B0BEC5",
                "#B0BEC5",
                "#B0BEC5",
                "#B0BEC5",
                "#B0BEC5",
                "#B0BEC5",
                "#B0BEC5",
                "#B0BEC5",
                "#B0BEC5",
                "#B0BEC5",
                "#B0BEC5",
                "#B0BEC5",
                "#B0BEC5",
                "#B0BEC5",
                "#B0BEC5",
                "#B0BEC5",
                "#B0BEC5",
                "#B0BEC5",
                "#B0BEC5",
                "#B0BEC5",
                "#B0BEC5",
                "#B0BEC5",
                "#B0BEC5",
                "#B0BEC5",
                "#B0BEC5",
                "#B0BEC5",
                "#B0BEC5",
                "#B0BEC5",
                "#B0BEC5",
                "#B0BEC5",
                "#B0BEC5",
                "#B0BEC5"
               ]
              ]
             }
            ],
            "label": "Topic 1",
            "method": "update"
           },
           {
            "args": [
             {
              "marker.color": [
               [
                "#B0BEC5",
                "red",
                "#B0BEC5",
                "#B0BEC5",
                "#B0BEC5",
                "#B0BEC5",
                "#B0BEC5",
                "#B0BEC5",
                "#B0BEC5",
                "#B0BEC5",
                "#B0BEC5",
                "#B0BEC5",
                "#B0BEC5",
                "#B0BEC5",
                "#B0BEC5",
                "#B0BEC5",
                "#B0BEC5",
                "#B0BEC5",
                "#B0BEC5",
                "#B0BEC5",
                "#B0BEC5",
                "#B0BEC5",
                "#B0BEC5",
                "#B0BEC5",
                "#B0BEC5",
                "#B0BEC5",
                "#B0BEC5",
                "#B0BEC5",
                "#B0BEC5",
                "#B0BEC5",
                "#B0BEC5",
                "#B0BEC5",
                "#B0BEC5",
                "#B0BEC5",
                "#B0BEC5",
                "#B0BEC5",
                "#B0BEC5",
                "#B0BEC5",
                "#B0BEC5",
                "#B0BEC5",
                "#B0BEC5",
                "#B0BEC5",
                "#B0BEC5",
                "#B0BEC5",
                "#B0BEC5",
                "#B0BEC5",
                "#B0BEC5",
                "#B0BEC5",
                "#B0BEC5",
                "#B0BEC5",
                "#B0BEC5",
                "#B0BEC5",
                "#B0BEC5",
                "#B0BEC5",
                "#B0BEC5",
                "#B0BEC5",
                "#B0BEC5",
                "#B0BEC5",
                "#B0BEC5",
                "#B0BEC5",
                "#B0BEC5",
                "#B0BEC5",
                "#B0BEC5",
                "#B0BEC5",
                "#B0BEC5",
                "#B0BEC5",
                "#B0BEC5",
                "#B0BEC5",
                "#B0BEC5",
                "#B0BEC5",
                "#B0BEC5",
                "#B0BEC5",
                "#B0BEC5",
                "#B0BEC5",
                "#B0BEC5",
                "#B0BEC5",
                "#B0BEC5",
                "#B0BEC5",
                "#B0BEC5"
               ]
              ]
             }
            ],
            "label": "Topic 2",
            "method": "update"
           },
           {
            "args": [
             {
              "marker.color": [
               [
                "#B0BEC5",
                "#B0BEC5",
                "red",
                "#B0BEC5",
                "#B0BEC5",
                "#B0BEC5",
                "#B0BEC5",
                "#B0BEC5",
                "#B0BEC5",
                "#B0BEC5",
                "#B0BEC5",
                "#B0BEC5",
                "#B0BEC5",
                "#B0BEC5",
                "#B0BEC5",
                "#B0BEC5",
                "#B0BEC5",
                "#B0BEC5",
                "#B0BEC5",
                "#B0BEC5",
                "#B0BEC5",
                "#B0BEC5",
                "#B0BEC5",
                "#B0BEC5",
                "#B0BEC5",
                "#B0BEC5",
                "#B0BEC5",
                "#B0BEC5",
                "#B0BEC5",
                "#B0BEC5",
                "#B0BEC5",
                "#B0BEC5",
                "#B0BEC5",
                "#B0BEC5",
                "#B0BEC5",
                "#B0BEC5",
                "#B0BEC5",
                "#B0BEC5",
                "#B0BEC5",
                "#B0BEC5",
                "#B0BEC5",
                "#B0BEC5",
                "#B0BEC5",
                "#B0BEC5",
                "#B0BEC5",
                "#B0BEC5",
                "#B0BEC5",
                "#B0BEC5",
                "#B0BEC5",
                "#B0BEC5",
                "#B0BEC5",
                "#B0BEC5",
                "#B0BEC5",
                "#B0BEC5",
                "#B0BEC5",
                "#B0BEC5",
                "#B0BEC5",
                "#B0BEC5",
                "#B0BEC5",
                "#B0BEC5",
                "#B0BEC5",
                "#B0BEC5",
                "#B0BEC5",
                "#B0BEC5",
                "#B0BEC5",
                "#B0BEC5",
                "#B0BEC5",
                "#B0BEC5",
                "#B0BEC5",
                "#B0BEC5",
                "#B0BEC5",
                "#B0BEC5",
                "#B0BEC5",
                "#B0BEC5",
                "#B0BEC5",
                "#B0BEC5",
                "#B0BEC5",
                "#B0BEC5",
                "#B0BEC5"
               ]
              ]
             }
            ],
            "label": "Topic 3",
            "method": "update"
           },
           {
            "args": [
             {
              "marker.color": [
               [
                "#B0BEC5",
                "#B0BEC5",
                "#B0BEC5",
                "red",
                "#B0BEC5",
                "#B0BEC5",
                "#B0BEC5",
                "#B0BEC5",
                "#B0BEC5",
                "#B0BEC5",
                "#B0BEC5",
                "#B0BEC5",
                "#B0BEC5",
                "#B0BEC5",
                "#B0BEC5",
                "#B0BEC5",
                "#B0BEC5",
                "#B0BEC5",
                "#B0BEC5",
                "#B0BEC5",
                "#B0BEC5",
                "#B0BEC5",
                "#B0BEC5",
                "#B0BEC5",
                "#B0BEC5",
                "#B0BEC5",
                "#B0BEC5",
                "#B0BEC5",
                "#B0BEC5",
                "#B0BEC5",
                "#B0BEC5",
                "#B0BEC5",
                "#B0BEC5",
                "#B0BEC5",
                "#B0BEC5",
                "#B0BEC5",
                "#B0BEC5",
                "#B0BEC5",
                "#B0BEC5",
                "#B0BEC5",
                "#B0BEC5",
                "#B0BEC5",
                "#B0BEC5",
                "#B0BEC5",
                "#B0BEC5",
                "#B0BEC5",
                "#B0BEC5",
                "#B0BEC5",
                "#B0BEC5",
                "#B0BEC5",
                "#B0BEC5",
                "#B0BEC5",
                "#B0BEC5",
                "#B0BEC5",
                "#B0BEC5",
                "#B0BEC5",
                "#B0BEC5",
                "#B0BEC5",
                "#B0BEC5",
                "#B0BEC5",
                "#B0BEC5",
                "#B0BEC5",
                "#B0BEC5",
                "#B0BEC5",
                "#B0BEC5",
                "#B0BEC5",
                "#B0BEC5",
                "#B0BEC5",
                "#B0BEC5",
                "#B0BEC5",
                "#B0BEC5",
                "#B0BEC5",
                "#B0BEC5",
                "#B0BEC5",
                "#B0BEC5",
                "#B0BEC5",
                "#B0BEC5",
                "#B0BEC5",
                "#B0BEC5"
               ]
              ]
             }
            ],
            "label": "Topic 4",
            "method": "update"
           },
           {
            "args": [
             {
              "marker.color": [
               [
                "#B0BEC5",
                "#B0BEC5",
                "#B0BEC5",
                "#B0BEC5",
                "red",
                "#B0BEC5",
                "#B0BEC5",
                "#B0BEC5",
                "#B0BEC5",
                "#B0BEC5",
                "#B0BEC5",
                "#B0BEC5",
                "#B0BEC5",
                "#B0BEC5",
                "#B0BEC5",
                "#B0BEC5",
                "#B0BEC5",
                "#B0BEC5",
                "#B0BEC5",
                "#B0BEC5",
                "#B0BEC5",
                "#B0BEC5",
                "#B0BEC5",
                "#B0BEC5",
                "#B0BEC5",
                "#B0BEC5",
                "#B0BEC5",
                "#B0BEC5",
                "#B0BEC5",
                "#B0BEC5",
                "#B0BEC5",
                "#B0BEC5",
                "#B0BEC5",
                "#B0BEC5",
                "#B0BEC5",
                "#B0BEC5",
                "#B0BEC5",
                "#B0BEC5",
                "#B0BEC5",
                "#B0BEC5",
                "#B0BEC5",
                "#B0BEC5",
                "#B0BEC5",
                "#B0BEC5",
                "#B0BEC5",
                "#B0BEC5",
                "#B0BEC5",
                "#B0BEC5",
                "#B0BEC5",
                "#B0BEC5",
                "#B0BEC5",
                "#B0BEC5",
                "#B0BEC5",
                "#B0BEC5",
                "#B0BEC5",
                "#B0BEC5",
                "#B0BEC5",
                "#B0BEC5",
                "#B0BEC5",
                "#B0BEC5",
                "#B0BEC5",
                "#B0BEC5",
                "#B0BEC5",
                "#B0BEC5",
                "#B0BEC5",
                "#B0BEC5",
                "#B0BEC5",
                "#B0BEC5",
                "#B0BEC5",
                "#B0BEC5",
                "#B0BEC5",
                "#B0BEC5",
                "#B0BEC5",
                "#B0BEC5",
                "#B0BEC5",
                "#B0BEC5",
                "#B0BEC5",
                "#B0BEC5",
                "#B0BEC5"
               ]
              ]
             }
            ],
            "label": "Topic 5",
            "method": "update"
           },
           {
            "args": [
             {
              "marker.color": [
               [
                "#B0BEC5",
                "#B0BEC5",
                "#B0BEC5",
                "#B0BEC5",
                "#B0BEC5",
                "red",
                "#B0BEC5",
                "#B0BEC5",
                "#B0BEC5",
                "#B0BEC5",
                "#B0BEC5",
                "#B0BEC5",
                "#B0BEC5",
                "#B0BEC5",
                "#B0BEC5",
                "#B0BEC5",
                "#B0BEC5",
                "#B0BEC5",
                "#B0BEC5",
                "#B0BEC5",
                "#B0BEC5",
                "#B0BEC5",
                "#B0BEC5",
                "#B0BEC5",
                "#B0BEC5",
                "#B0BEC5",
                "#B0BEC5",
                "#B0BEC5",
                "#B0BEC5",
                "#B0BEC5",
                "#B0BEC5",
                "#B0BEC5",
                "#B0BEC5",
                "#B0BEC5",
                "#B0BEC5",
                "#B0BEC5",
                "#B0BEC5",
                "#B0BEC5",
                "#B0BEC5",
                "#B0BEC5",
                "#B0BEC5",
                "#B0BEC5",
                "#B0BEC5",
                "#B0BEC5",
                "#B0BEC5",
                "#B0BEC5",
                "#B0BEC5",
                "#B0BEC5",
                "#B0BEC5",
                "#B0BEC5",
                "#B0BEC5",
                "#B0BEC5",
                "#B0BEC5",
                "#B0BEC5",
                "#B0BEC5",
                "#B0BEC5",
                "#B0BEC5",
                "#B0BEC5",
                "#B0BEC5",
                "#B0BEC5",
                "#B0BEC5",
                "#B0BEC5",
                "#B0BEC5",
                "#B0BEC5",
                "#B0BEC5",
                "#B0BEC5",
                "#B0BEC5",
                "#B0BEC5",
                "#B0BEC5",
                "#B0BEC5",
                "#B0BEC5",
                "#B0BEC5",
                "#B0BEC5",
                "#B0BEC5",
                "#B0BEC5",
                "#B0BEC5",
                "#B0BEC5",
                "#B0BEC5",
                "#B0BEC5"
               ]
              ]
             }
            ],
            "label": "Topic 6",
            "method": "update"
           },
           {
            "args": [
             {
              "marker.color": [
               [
                "#B0BEC5",
                "#B0BEC5",
                "#B0BEC5",
                "#B0BEC5",
                "#B0BEC5",
                "#B0BEC5",
                "red",
                "#B0BEC5",
                "#B0BEC5",
                "#B0BEC5",
                "#B0BEC5",
                "#B0BEC5",
                "#B0BEC5",
                "#B0BEC5",
                "#B0BEC5",
                "#B0BEC5",
                "#B0BEC5",
                "#B0BEC5",
                "#B0BEC5",
                "#B0BEC5",
                "#B0BEC5",
                "#B0BEC5",
                "#B0BEC5",
                "#B0BEC5",
                "#B0BEC5",
                "#B0BEC5",
                "#B0BEC5",
                "#B0BEC5",
                "#B0BEC5",
                "#B0BEC5",
                "#B0BEC5",
                "#B0BEC5",
                "#B0BEC5",
                "#B0BEC5",
                "#B0BEC5",
                "#B0BEC5",
                "#B0BEC5",
                "#B0BEC5",
                "#B0BEC5",
                "#B0BEC5",
                "#B0BEC5",
                "#B0BEC5",
                "#B0BEC5",
                "#B0BEC5",
                "#B0BEC5",
                "#B0BEC5",
                "#B0BEC5",
                "#B0BEC5",
                "#B0BEC5",
                "#B0BEC5",
                "#B0BEC5",
                "#B0BEC5",
                "#B0BEC5",
                "#B0BEC5",
                "#B0BEC5",
                "#B0BEC5",
                "#B0BEC5",
                "#B0BEC5",
                "#B0BEC5",
                "#B0BEC5",
                "#B0BEC5",
                "#B0BEC5",
                "#B0BEC5",
                "#B0BEC5",
                "#B0BEC5",
                "#B0BEC5",
                "#B0BEC5",
                "#B0BEC5",
                "#B0BEC5",
                "#B0BEC5",
                "#B0BEC5",
                "#B0BEC5",
                "#B0BEC5",
                "#B0BEC5",
                "#B0BEC5",
                "#B0BEC5",
                "#B0BEC5",
                "#B0BEC5",
                "#B0BEC5"
               ]
              ]
             }
            ],
            "label": "Topic 7",
            "method": "update"
           },
           {
            "args": [
             {
              "marker.color": [
               [
                "#B0BEC5",
                "#B0BEC5",
                "#B0BEC5",
                "#B0BEC5",
                "#B0BEC5",
                "#B0BEC5",
                "#B0BEC5",
                "red",
                "#B0BEC5",
                "#B0BEC5",
                "#B0BEC5",
                "#B0BEC5",
                "#B0BEC5",
                "#B0BEC5",
                "#B0BEC5",
                "#B0BEC5",
                "#B0BEC5",
                "#B0BEC5",
                "#B0BEC5",
                "#B0BEC5",
                "#B0BEC5",
                "#B0BEC5",
                "#B0BEC5",
                "#B0BEC5",
                "#B0BEC5",
                "#B0BEC5",
                "#B0BEC5",
                "#B0BEC5",
                "#B0BEC5",
                "#B0BEC5",
                "#B0BEC5",
                "#B0BEC5",
                "#B0BEC5",
                "#B0BEC5",
                "#B0BEC5",
                "#B0BEC5",
                "#B0BEC5",
                "#B0BEC5",
                "#B0BEC5",
                "#B0BEC5",
                "#B0BEC5",
                "#B0BEC5",
                "#B0BEC5",
                "#B0BEC5",
                "#B0BEC5",
                "#B0BEC5",
                "#B0BEC5",
                "#B0BEC5",
                "#B0BEC5",
                "#B0BEC5",
                "#B0BEC5",
                "#B0BEC5",
                "#B0BEC5",
                "#B0BEC5",
                "#B0BEC5",
                "#B0BEC5",
                "#B0BEC5",
                "#B0BEC5",
                "#B0BEC5",
                "#B0BEC5",
                "#B0BEC5",
                "#B0BEC5",
                "#B0BEC5",
                "#B0BEC5",
                "#B0BEC5",
                "#B0BEC5",
                "#B0BEC5",
                "#B0BEC5",
                "#B0BEC5",
                "#B0BEC5",
                "#B0BEC5",
                "#B0BEC5",
                "#B0BEC5",
                "#B0BEC5",
                "#B0BEC5",
                "#B0BEC5",
                "#B0BEC5",
                "#B0BEC5",
                "#B0BEC5"
               ]
              ]
             }
            ],
            "label": "Topic 8",
            "method": "update"
           },
           {
            "args": [
             {
              "marker.color": [
               [
                "#B0BEC5",
                "#B0BEC5",
                "#B0BEC5",
                "#B0BEC5",
                "#B0BEC5",
                "#B0BEC5",
                "#B0BEC5",
                "#B0BEC5",
                "red",
                "#B0BEC5",
                "#B0BEC5",
                "#B0BEC5",
                "#B0BEC5",
                "#B0BEC5",
                "#B0BEC5",
                "#B0BEC5",
                "#B0BEC5",
                "#B0BEC5",
                "#B0BEC5",
                "#B0BEC5",
                "#B0BEC5",
                "#B0BEC5",
                "#B0BEC5",
                "#B0BEC5",
                "#B0BEC5",
                "#B0BEC5",
                "#B0BEC5",
                "#B0BEC5",
                "#B0BEC5",
                "#B0BEC5",
                "#B0BEC5",
                "#B0BEC5",
                "#B0BEC5",
                "#B0BEC5",
                "#B0BEC5",
                "#B0BEC5",
                "#B0BEC5",
                "#B0BEC5",
                "#B0BEC5",
                "#B0BEC5",
                "#B0BEC5",
                "#B0BEC5",
                "#B0BEC5",
                "#B0BEC5",
                "#B0BEC5",
                "#B0BEC5",
                "#B0BEC5",
                "#B0BEC5",
                "#B0BEC5",
                "#B0BEC5",
                "#B0BEC5",
                "#B0BEC5",
                "#B0BEC5",
                "#B0BEC5",
                "#B0BEC5",
                "#B0BEC5",
                "#B0BEC5",
                "#B0BEC5",
                "#B0BEC5",
                "#B0BEC5",
                "#B0BEC5",
                "#B0BEC5",
                "#B0BEC5",
                "#B0BEC5",
                "#B0BEC5",
                "#B0BEC5",
                "#B0BEC5",
                "#B0BEC5",
                "#B0BEC5",
                "#B0BEC5",
                "#B0BEC5",
                "#B0BEC5",
                "#B0BEC5",
                "#B0BEC5",
                "#B0BEC5",
                "#B0BEC5",
                "#B0BEC5",
                "#B0BEC5",
                "#B0BEC5"
               ]
              ]
             }
            ],
            "label": "Topic 9",
            "method": "update"
           },
           {
            "args": [
             {
              "marker.color": [
               [
                "#B0BEC5",
                "#B0BEC5",
                "#B0BEC5",
                "#B0BEC5",
                "#B0BEC5",
                "#B0BEC5",
                "#B0BEC5",
                "#B0BEC5",
                "#B0BEC5",
                "red",
                "#B0BEC5",
                "#B0BEC5",
                "#B0BEC5",
                "#B0BEC5",
                "#B0BEC5",
                "#B0BEC5",
                "#B0BEC5",
                "#B0BEC5",
                "#B0BEC5",
                "#B0BEC5",
                "#B0BEC5",
                "#B0BEC5",
                "#B0BEC5",
                "#B0BEC5",
                "#B0BEC5",
                "#B0BEC5",
                "#B0BEC5",
                "#B0BEC5",
                "#B0BEC5",
                "#B0BEC5",
                "#B0BEC5",
                "#B0BEC5",
                "#B0BEC5",
                "#B0BEC5",
                "#B0BEC5",
                "#B0BEC5",
                "#B0BEC5",
                "#B0BEC5",
                "#B0BEC5",
                "#B0BEC5",
                "#B0BEC5",
                "#B0BEC5",
                "#B0BEC5",
                "#B0BEC5",
                "#B0BEC5",
                "#B0BEC5",
                "#B0BEC5",
                "#B0BEC5",
                "#B0BEC5",
                "#B0BEC5",
                "#B0BEC5",
                "#B0BEC5",
                "#B0BEC5",
                "#B0BEC5",
                "#B0BEC5",
                "#B0BEC5",
                "#B0BEC5",
                "#B0BEC5",
                "#B0BEC5",
                "#B0BEC5",
                "#B0BEC5",
                "#B0BEC5",
                "#B0BEC5",
                "#B0BEC5",
                "#B0BEC5",
                "#B0BEC5",
                "#B0BEC5",
                "#B0BEC5",
                "#B0BEC5",
                "#B0BEC5",
                "#B0BEC5",
                "#B0BEC5",
                "#B0BEC5",
                "#B0BEC5",
                "#B0BEC5",
                "#B0BEC5",
                "#B0BEC5",
                "#B0BEC5",
                "#B0BEC5"
               ]
              ]
             }
            ],
            "label": "Topic 10",
            "method": "update"
           },
           {
            "args": [
             {
              "marker.color": [
               [
                "#B0BEC5",
                "#B0BEC5",
                "#B0BEC5",
                "#B0BEC5",
                "#B0BEC5",
                "#B0BEC5",
                "#B0BEC5",
                "#B0BEC5",
                "#B0BEC5",
                "#B0BEC5",
                "red",
                "#B0BEC5",
                "#B0BEC5",
                "#B0BEC5",
                "#B0BEC5",
                "#B0BEC5",
                "#B0BEC5",
                "#B0BEC5",
                "#B0BEC5",
                "#B0BEC5",
                "#B0BEC5",
                "#B0BEC5",
                "#B0BEC5",
                "#B0BEC5",
                "#B0BEC5",
                "#B0BEC5",
                "#B0BEC5",
                "#B0BEC5",
                "#B0BEC5",
                "#B0BEC5",
                "#B0BEC5",
                "#B0BEC5",
                "#B0BEC5",
                "#B0BEC5",
                "#B0BEC5",
                "#B0BEC5",
                "#B0BEC5",
                "#B0BEC5",
                "#B0BEC5",
                "#B0BEC5",
                "#B0BEC5",
                "#B0BEC5",
                "#B0BEC5",
                "#B0BEC5",
                "#B0BEC5",
                "#B0BEC5",
                "#B0BEC5",
                "#B0BEC5",
                "#B0BEC5",
                "#B0BEC5",
                "#B0BEC5",
                "#B0BEC5",
                "#B0BEC5",
                "#B0BEC5",
                "#B0BEC5",
                "#B0BEC5",
                "#B0BEC5",
                "#B0BEC5",
                "#B0BEC5",
                "#B0BEC5",
                "#B0BEC5",
                "#B0BEC5",
                "#B0BEC5",
                "#B0BEC5",
                "#B0BEC5",
                "#B0BEC5",
                "#B0BEC5",
                "#B0BEC5",
                "#B0BEC5",
                "#B0BEC5",
                "#B0BEC5",
                "#B0BEC5",
                "#B0BEC5",
                "#B0BEC5",
                "#B0BEC5",
                "#B0BEC5",
                "#B0BEC5",
                "#B0BEC5",
                "#B0BEC5"
               ]
              ]
             }
            ],
            "label": "Topic 11",
            "method": "update"
           },
           {
            "args": [
             {
              "marker.color": [
               [
                "#B0BEC5",
                "#B0BEC5",
                "#B0BEC5",
                "#B0BEC5",
                "#B0BEC5",
                "#B0BEC5",
                "#B0BEC5",
                "#B0BEC5",
                "#B0BEC5",
                "#B0BEC5",
                "#B0BEC5",
                "red",
                "#B0BEC5",
                "#B0BEC5",
                "#B0BEC5",
                "#B0BEC5",
                "#B0BEC5",
                "#B0BEC5",
                "#B0BEC5",
                "#B0BEC5",
                "#B0BEC5",
                "#B0BEC5",
                "#B0BEC5",
                "#B0BEC5",
                "#B0BEC5",
                "#B0BEC5",
                "#B0BEC5",
                "#B0BEC5",
                "#B0BEC5",
                "#B0BEC5",
                "#B0BEC5",
                "#B0BEC5",
                "#B0BEC5",
                "#B0BEC5",
                "#B0BEC5",
                "#B0BEC5",
                "#B0BEC5",
                "#B0BEC5",
                "#B0BEC5",
                "#B0BEC5",
                "#B0BEC5",
                "#B0BEC5",
                "#B0BEC5",
                "#B0BEC5",
                "#B0BEC5",
                "#B0BEC5",
                "#B0BEC5",
                "#B0BEC5",
                "#B0BEC5",
                "#B0BEC5",
                "#B0BEC5",
                "#B0BEC5",
                "#B0BEC5",
                "#B0BEC5",
                "#B0BEC5",
                "#B0BEC5",
                "#B0BEC5",
                "#B0BEC5",
                "#B0BEC5",
                "#B0BEC5",
                "#B0BEC5",
                "#B0BEC5",
                "#B0BEC5",
                "#B0BEC5",
                "#B0BEC5",
                "#B0BEC5",
                "#B0BEC5",
                "#B0BEC5",
                "#B0BEC5",
                "#B0BEC5",
                "#B0BEC5",
                "#B0BEC5",
                "#B0BEC5",
                "#B0BEC5",
                "#B0BEC5",
                "#B0BEC5",
                "#B0BEC5",
                "#B0BEC5",
                "#B0BEC5"
               ]
              ]
             }
            ],
            "label": "Topic 12",
            "method": "update"
           },
           {
            "args": [
             {
              "marker.color": [
               [
                "#B0BEC5",
                "#B0BEC5",
                "#B0BEC5",
                "#B0BEC5",
                "#B0BEC5",
                "#B0BEC5",
                "#B0BEC5",
                "#B0BEC5",
                "#B0BEC5",
                "#B0BEC5",
                "#B0BEC5",
                "#B0BEC5",
                "red",
                "#B0BEC5",
                "#B0BEC5",
                "#B0BEC5",
                "#B0BEC5",
                "#B0BEC5",
                "#B0BEC5",
                "#B0BEC5",
                "#B0BEC5",
                "#B0BEC5",
                "#B0BEC5",
                "#B0BEC5",
                "#B0BEC5",
                "#B0BEC5",
                "#B0BEC5",
                "#B0BEC5",
                "#B0BEC5",
                "#B0BEC5",
                "#B0BEC5",
                "#B0BEC5",
                "#B0BEC5",
                "#B0BEC5",
                "#B0BEC5",
                "#B0BEC5",
                "#B0BEC5",
                "#B0BEC5",
                "#B0BEC5",
                "#B0BEC5",
                "#B0BEC5",
                "#B0BEC5",
                "#B0BEC5",
                "#B0BEC5",
                "#B0BEC5",
                "#B0BEC5",
                "#B0BEC5",
                "#B0BEC5",
                "#B0BEC5",
                "#B0BEC5",
                "#B0BEC5",
                "#B0BEC5",
                "#B0BEC5",
                "#B0BEC5",
                "#B0BEC5",
                "#B0BEC5",
                "#B0BEC5",
                "#B0BEC5",
                "#B0BEC5",
                "#B0BEC5",
                "#B0BEC5",
                "#B0BEC5",
                "#B0BEC5",
                "#B0BEC5",
                "#B0BEC5",
                "#B0BEC5",
                "#B0BEC5",
                "#B0BEC5",
                "#B0BEC5",
                "#B0BEC5",
                "#B0BEC5",
                "#B0BEC5",
                "#B0BEC5",
                "#B0BEC5",
                "#B0BEC5",
                "#B0BEC5",
                "#B0BEC5",
                "#B0BEC5",
                "#B0BEC5"
               ]
              ]
             }
            ],
            "label": "Topic 13",
            "method": "update"
           },
           {
            "args": [
             {
              "marker.color": [
               [
                "#B0BEC5",
                "#B0BEC5",
                "#B0BEC5",
                "#B0BEC5",
                "#B0BEC5",
                "#B0BEC5",
                "#B0BEC5",
                "#B0BEC5",
                "#B0BEC5",
                "#B0BEC5",
                "#B0BEC5",
                "#B0BEC5",
                "#B0BEC5",
                "red",
                "#B0BEC5",
                "#B0BEC5",
                "#B0BEC5",
                "#B0BEC5",
                "#B0BEC5",
                "#B0BEC5",
                "#B0BEC5",
                "#B0BEC5",
                "#B0BEC5",
                "#B0BEC5",
                "#B0BEC5",
                "#B0BEC5",
                "#B0BEC5",
                "#B0BEC5",
                "#B0BEC5",
                "#B0BEC5",
                "#B0BEC5",
                "#B0BEC5",
                "#B0BEC5",
                "#B0BEC5",
                "#B0BEC5",
                "#B0BEC5",
                "#B0BEC5",
                "#B0BEC5",
                "#B0BEC5",
                "#B0BEC5",
                "#B0BEC5",
                "#B0BEC5",
                "#B0BEC5",
                "#B0BEC5",
                "#B0BEC5",
                "#B0BEC5",
                "#B0BEC5",
                "#B0BEC5",
                "#B0BEC5",
                "#B0BEC5",
                "#B0BEC5",
                "#B0BEC5",
                "#B0BEC5",
                "#B0BEC5",
                "#B0BEC5",
                "#B0BEC5",
                "#B0BEC5",
                "#B0BEC5",
                "#B0BEC5",
                "#B0BEC5",
                "#B0BEC5",
                "#B0BEC5",
                "#B0BEC5",
                "#B0BEC5",
                "#B0BEC5",
                "#B0BEC5",
                "#B0BEC5",
                "#B0BEC5",
                "#B0BEC5",
                "#B0BEC5",
                "#B0BEC5",
                "#B0BEC5",
                "#B0BEC5",
                "#B0BEC5",
                "#B0BEC5",
                "#B0BEC5",
                "#B0BEC5",
                "#B0BEC5",
                "#B0BEC5"
               ]
              ]
             }
            ],
            "label": "Topic 14",
            "method": "update"
           },
           {
            "args": [
             {
              "marker.color": [
               [
                "#B0BEC5",
                "#B0BEC5",
                "#B0BEC5",
                "#B0BEC5",
                "#B0BEC5",
                "#B0BEC5",
                "#B0BEC5",
                "#B0BEC5",
                "#B0BEC5",
                "#B0BEC5",
                "#B0BEC5",
                "#B0BEC5",
                "#B0BEC5",
                "#B0BEC5",
                "red",
                "#B0BEC5",
                "#B0BEC5",
                "#B0BEC5",
                "#B0BEC5",
                "#B0BEC5",
                "#B0BEC5",
                "#B0BEC5",
                "#B0BEC5",
                "#B0BEC5",
                "#B0BEC5",
                "#B0BEC5",
                "#B0BEC5",
                "#B0BEC5",
                "#B0BEC5",
                "#B0BEC5",
                "#B0BEC5",
                "#B0BEC5",
                "#B0BEC5",
                "#B0BEC5",
                "#B0BEC5",
                "#B0BEC5",
                "#B0BEC5",
                "#B0BEC5",
                "#B0BEC5",
                "#B0BEC5",
                "#B0BEC5",
                "#B0BEC5",
                "#B0BEC5",
                "#B0BEC5",
                "#B0BEC5",
                "#B0BEC5",
                "#B0BEC5",
                "#B0BEC5",
                "#B0BEC5",
                "#B0BEC5",
                "#B0BEC5",
                "#B0BEC5",
                "#B0BEC5",
                "#B0BEC5",
                "#B0BEC5",
                "#B0BEC5",
                "#B0BEC5",
                "#B0BEC5",
                "#B0BEC5",
                "#B0BEC5",
                "#B0BEC5",
                "#B0BEC5",
                "#B0BEC5",
                "#B0BEC5",
                "#B0BEC5",
                "#B0BEC5",
                "#B0BEC5",
                "#B0BEC5",
                "#B0BEC5",
                "#B0BEC5",
                "#B0BEC5",
                "#B0BEC5",
                "#B0BEC5",
                "#B0BEC5",
                "#B0BEC5",
                "#B0BEC5",
                "#B0BEC5",
                "#B0BEC5",
                "#B0BEC5"
               ]
              ]
             }
            ],
            "label": "Topic 15",
            "method": "update"
           },
           {
            "args": [
             {
              "marker.color": [
               [
                "#B0BEC5",
                "#B0BEC5",
                "#B0BEC5",
                "#B0BEC5",
                "#B0BEC5",
                "#B0BEC5",
                "#B0BEC5",
                "#B0BEC5",
                "#B0BEC5",
                "#B0BEC5",
                "#B0BEC5",
                "#B0BEC5",
                "#B0BEC5",
                "#B0BEC5",
                "#B0BEC5",
                "red",
                "#B0BEC5",
                "#B0BEC5",
                "#B0BEC5",
                "#B0BEC5",
                "#B0BEC5",
                "#B0BEC5",
                "#B0BEC5",
                "#B0BEC5",
                "#B0BEC5",
                "#B0BEC5",
                "#B0BEC5",
                "#B0BEC5",
                "#B0BEC5",
                "#B0BEC5",
                "#B0BEC5",
                "#B0BEC5",
                "#B0BEC5",
                "#B0BEC5",
                "#B0BEC5",
                "#B0BEC5",
                "#B0BEC5",
                "#B0BEC5",
                "#B0BEC5",
                "#B0BEC5",
                "#B0BEC5",
                "#B0BEC5",
                "#B0BEC5",
                "#B0BEC5",
                "#B0BEC5",
                "#B0BEC5",
                "#B0BEC5",
                "#B0BEC5",
                "#B0BEC5",
                "#B0BEC5",
                "#B0BEC5",
                "#B0BEC5",
                "#B0BEC5",
                "#B0BEC5",
                "#B0BEC5",
                "#B0BEC5",
                "#B0BEC5",
                "#B0BEC5",
                "#B0BEC5",
                "#B0BEC5",
                "#B0BEC5",
                "#B0BEC5",
                "#B0BEC5",
                "#B0BEC5",
                "#B0BEC5",
                "#B0BEC5",
                "#B0BEC5",
                "#B0BEC5",
                "#B0BEC5",
                "#B0BEC5",
                "#B0BEC5",
                "#B0BEC5",
                "#B0BEC5",
                "#B0BEC5",
                "#B0BEC5",
                "#B0BEC5",
                "#B0BEC5",
                "#B0BEC5",
                "#B0BEC5"
               ]
              ]
             }
            ],
            "label": "Topic 16",
            "method": "update"
           },
           {
            "args": [
             {
              "marker.color": [
               [
                "#B0BEC5",
                "#B0BEC5",
                "#B0BEC5",
                "#B0BEC5",
                "#B0BEC5",
                "#B0BEC5",
                "#B0BEC5",
                "#B0BEC5",
                "#B0BEC5",
                "#B0BEC5",
                "#B0BEC5",
                "#B0BEC5",
                "#B0BEC5",
                "#B0BEC5",
                "#B0BEC5",
                "#B0BEC5",
                "red",
                "#B0BEC5",
                "#B0BEC5",
                "#B0BEC5",
                "#B0BEC5",
                "#B0BEC5",
                "#B0BEC5",
                "#B0BEC5",
                "#B0BEC5",
                "#B0BEC5",
                "#B0BEC5",
                "#B0BEC5",
                "#B0BEC5",
                "#B0BEC5",
                "#B0BEC5",
                "#B0BEC5",
                "#B0BEC5",
                "#B0BEC5",
                "#B0BEC5",
                "#B0BEC5",
                "#B0BEC5",
                "#B0BEC5",
                "#B0BEC5",
                "#B0BEC5",
                "#B0BEC5",
                "#B0BEC5",
                "#B0BEC5",
                "#B0BEC5",
                "#B0BEC5",
                "#B0BEC5",
                "#B0BEC5",
                "#B0BEC5",
                "#B0BEC5",
                "#B0BEC5",
                "#B0BEC5",
                "#B0BEC5",
                "#B0BEC5",
                "#B0BEC5",
                "#B0BEC5",
                "#B0BEC5",
                "#B0BEC5",
                "#B0BEC5",
                "#B0BEC5",
                "#B0BEC5",
                "#B0BEC5",
                "#B0BEC5",
                "#B0BEC5",
                "#B0BEC5",
                "#B0BEC5",
                "#B0BEC5",
                "#B0BEC5",
                "#B0BEC5",
                "#B0BEC5",
                "#B0BEC5",
                "#B0BEC5",
                "#B0BEC5",
                "#B0BEC5",
                "#B0BEC5",
                "#B0BEC5",
                "#B0BEC5",
                "#B0BEC5",
                "#B0BEC5",
                "#B0BEC5"
               ]
              ]
             }
            ],
            "label": "Topic 17",
            "method": "update"
           },
           {
            "args": [
             {
              "marker.color": [
               [
                "#B0BEC5",
                "#B0BEC5",
                "#B0BEC5",
                "#B0BEC5",
                "#B0BEC5",
                "#B0BEC5",
                "#B0BEC5",
                "#B0BEC5",
                "#B0BEC5",
                "#B0BEC5",
                "#B0BEC5",
                "#B0BEC5",
                "#B0BEC5",
                "#B0BEC5",
                "#B0BEC5",
                "#B0BEC5",
                "#B0BEC5",
                "red",
                "#B0BEC5",
                "#B0BEC5",
                "#B0BEC5",
                "#B0BEC5",
                "#B0BEC5",
                "#B0BEC5",
                "#B0BEC5",
                "#B0BEC5",
                "#B0BEC5",
                "#B0BEC5",
                "#B0BEC5",
                "#B0BEC5",
                "#B0BEC5",
                "#B0BEC5",
                "#B0BEC5",
                "#B0BEC5",
                "#B0BEC5",
                "#B0BEC5",
                "#B0BEC5",
                "#B0BEC5",
                "#B0BEC5",
                "#B0BEC5",
                "#B0BEC5",
                "#B0BEC5",
                "#B0BEC5",
                "#B0BEC5",
                "#B0BEC5",
                "#B0BEC5",
                "#B0BEC5",
                "#B0BEC5",
                "#B0BEC5",
                "#B0BEC5",
                "#B0BEC5",
                "#B0BEC5",
                "#B0BEC5",
                "#B0BEC5",
                "#B0BEC5",
                "#B0BEC5",
                "#B0BEC5",
                "#B0BEC5",
                "#B0BEC5",
                "#B0BEC5",
                "#B0BEC5",
                "#B0BEC5",
                "#B0BEC5",
                "#B0BEC5",
                "#B0BEC5",
                "#B0BEC5",
                "#B0BEC5",
                "#B0BEC5",
                "#B0BEC5",
                "#B0BEC5",
                "#B0BEC5",
                "#B0BEC5",
                "#B0BEC5",
                "#B0BEC5",
                "#B0BEC5",
                "#B0BEC5",
                "#B0BEC5",
                "#B0BEC5",
                "#B0BEC5"
               ]
              ]
             }
            ],
            "label": "Topic 18",
            "method": "update"
           },
           {
            "args": [
             {
              "marker.color": [
               [
                "#B0BEC5",
                "#B0BEC5",
                "#B0BEC5",
                "#B0BEC5",
                "#B0BEC5",
                "#B0BEC5",
                "#B0BEC5",
                "#B0BEC5",
                "#B0BEC5",
                "#B0BEC5",
                "#B0BEC5",
                "#B0BEC5",
                "#B0BEC5",
                "#B0BEC5",
                "#B0BEC5",
                "#B0BEC5",
                "#B0BEC5",
                "#B0BEC5",
                "red",
                "#B0BEC5",
                "#B0BEC5",
                "#B0BEC5",
                "#B0BEC5",
                "#B0BEC5",
                "#B0BEC5",
                "#B0BEC5",
                "#B0BEC5",
                "#B0BEC5",
                "#B0BEC5",
                "#B0BEC5",
                "#B0BEC5",
                "#B0BEC5",
                "#B0BEC5",
                "#B0BEC5",
                "#B0BEC5",
                "#B0BEC5",
                "#B0BEC5",
                "#B0BEC5",
                "#B0BEC5",
                "#B0BEC5",
                "#B0BEC5",
                "#B0BEC5",
                "#B0BEC5",
                "#B0BEC5",
                "#B0BEC5",
                "#B0BEC5",
                "#B0BEC5",
                "#B0BEC5",
                "#B0BEC5",
                "#B0BEC5",
                "#B0BEC5",
                "#B0BEC5",
                "#B0BEC5",
                "#B0BEC5",
                "#B0BEC5",
                "#B0BEC5",
                "#B0BEC5",
                "#B0BEC5",
                "#B0BEC5",
                "#B0BEC5",
                "#B0BEC5",
                "#B0BEC5",
                "#B0BEC5",
                "#B0BEC5",
                "#B0BEC5",
                "#B0BEC5",
                "#B0BEC5",
                "#B0BEC5",
                "#B0BEC5",
                "#B0BEC5",
                "#B0BEC5",
                "#B0BEC5",
                "#B0BEC5",
                "#B0BEC5",
                "#B0BEC5",
                "#B0BEC5",
                "#B0BEC5",
                "#B0BEC5",
                "#B0BEC5"
               ]
              ]
             }
            ],
            "label": "Topic 19",
            "method": "update"
           },
           {
            "args": [
             {
              "marker.color": [
               [
                "#B0BEC5",
                "#B0BEC5",
                "#B0BEC5",
                "#B0BEC5",
                "#B0BEC5",
                "#B0BEC5",
                "#B0BEC5",
                "#B0BEC5",
                "#B0BEC5",
                "#B0BEC5",
                "#B0BEC5",
                "#B0BEC5",
                "#B0BEC5",
                "#B0BEC5",
                "#B0BEC5",
                "#B0BEC5",
                "#B0BEC5",
                "#B0BEC5",
                "#B0BEC5",
                "red",
                "#B0BEC5",
                "#B0BEC5",
                "#B0BEC5",
                "#B0BEC5",
                "#B0BEC5",
                "#B0BEC5",
                "#B0BEC5",
                "#B0BEC5",
                "#B0BEC5",
                "#B0BEC5",
                "#B0BEC5",
                "#B0BEC5",
                "#B0BEC5",
                "#B0BEC5",
                "#B0BEC5",
                "#B0BEC5",
                "#B0BEC5",
                "#B0BEC5",
                "#B0BEC5",
                "#B0BEC5",
                "#B0BEC5",
                "#B0BEC5",
                "#B0BEC5",
                "#B0BEC5",
                "#B0BEC5",
                "#B0BEC5",
                "#B0BEC5",
                "#B0BEC5",
                "#B0BEC5",
                "#B0BEC5",
                "#B0BEC5",
                "#B0BEC5",
                "#B0BEC5",
                "#B0BEC5",
                "#B0BEC5",
                "#B0BEC5",
                "#B0BEC5",
                "#B0BEC5",
                "#B0BEC5",
                "#B0BEC5",
                "#B0BEC5",
                "#B0BEC5",
                "#B0BEC5",
                "#B0BEC5",
                "#B0BEC5",
                "#B0BEC5",
                "#B0BEC5",
                "#B0BEC5",
                "#B0BEC5",
                "#B0BEC5",
                "#B0BEC5",
                "#B0BEC5",
                "#B0BEC5",
                "#B0BEC5",
                "#B0BEC5",
                "#B0BEC5",
                "#B0BEC5",
                "#B0BEC5",
                "#B0BEC5"
               ]
              ]
             }
            ],
            "label": "Topic 20",
            "method": "update"
           },
           {
            "args": [
             {
              "marker.color": [
               [
                "#B0BEC5",
                "#B0BEC5",
                "#B0BEC5",
                "#B0BEC5",
                "#B0BEC5",
                "#B0BEC5",
                "#B0BEC5",
                "#B0BEC5",
                "#B0BEC5",
                "#B0BEC5",
                "#B0BEC5",
                "#B0BEC5",
                "#B0BEC5",
                "#B0BEC5",
                "#B0BEC5",
                "#B0BEC5",
                "#B0BEC5",
                "#B0BEC5",
                "#B0BEC5",
                "#B0BEC5",
                "red",
                "#B0BEC5",
                "#B0BEC5",
                "#B0BEC5",
                "#B0BEC5",
                "#B0BEC5",
                "#B0BEC5",
                "#B0BEC5",
                "#B0BEC5",
                "#B0BEC5",
                "#B0BEC5",
                "#B0BEC5",
                "#B0BEC5",
                "#B0BEC5",
                "#B0BEC5",
                "#B0BEC5",
                "#B0BEC5",
                "#B0BEC5",
                "#B0BEC5",
                "#B0BEC5",
                "#B0BEC5",
                "#B0BEC5",
                "#B0BEC5",
                "#B0BEC5",
                "#B0BEC5",
                "#B0BEC5",
                "#B0BEC5",
                "#B0BEC5",
                "#B0BEC5",
                "#B0BEC5",
                "#B0BEC5",
                "#B0BEC5",
                "#B0BEC5",
                "#B0BEC5",
                "#B0BEC5",
                "#B0BEC5",
                "#B0BEC5",
                "#B0BEC5",
                "#B0BEC5",
                "#B0BEC5",
                "#B0BEC5",
                "#B0BEC5",
                "#B0BEC5",
                "#B0BEC5",
                "#B0BEC5",
                "#B0BEC5",
                "#B0BEC5",
                "#B0BEC5",
                "#B0BEC5",
                "#B0BEC5",
                "#B0BEC5",
                "#B0BEC5",
                "#B0BEC5",
                "#B0BEC5",
                "#B0BEC5",
                "#B0BEC5",
                "#B0BEC5",
                "#B0BEC5",
                "#B0BEC5"
               ]
              ]
             }
            ],
            "label": "Topic 21",
            "method": "update"
           },
           {
            "args": [
             {
              "marker.color": [
               [
                "#B0BEC5",
                "#B0BEC5",
                "#B0BEC5",
                "#B0BEC5",
                "#B0BEC5",
                "#B0BEC5",
                "#B0BEC5",
                "#B0BEC5",
                "#B0BEC5",
                "#B0BEC5",
                "#B0BEC5",
                "#B0BEC5",
                "#B0BEC5",
                "#B0BEC5",
                "#B0BEC5",
                "#B0BEC5",
                "#B0BEC5",
                "#B0BEC5",
                "#B0BEC5",
                "#B0BEC5",
                "#B0BEC5",
                "red",
                "#B0BEC5",
                "#B0BEC5",
                "#B0BEC5",
                "#B0BEC5",
                "#B0BEC5",
                "#B0BEC5",
                "#B0BEC5",
                "#B0BEC5",
                "#B0BEC5",
                "#B0BEC5",
                "#B0BEC5",
                "#B0BEC5",
                "#B0BEC5",
                "#B0BEC5",
                "#B0BEC5",
                "#B0BEC5",
                "#B0BEC5",
                "#B0BEC5",
                "#B0BEC5",
                "#B0BEC5",
                "#B0BEC5",
                "#B0BEC5",
                "#B0BEC5",
                "#B0BEC5",
                "#B0BEC5",
                "#B0BEC5",
                "#B0BEC5",
                "#B0BEC5",
                "#B0BEC5",
                "#B0BEC5",
                "#B0BEC5",
                "#B0BEC5",
                "#B0BEC5",
                "#B0BEC5",
                "#B0BEC5",
                "#B0BEC5",
                "#B0BEC5",
                "#B0BEC5",
                "#B0BEC5",
                "#B0BEC5",
                "#B0BEC5",
                "#B0BEC5",
                "#B0BEC5",
                "#B0BEC5",
                "#B0BEC5",
                "#B0BEC5",
                "#B0BEC5",
                "#B0BEC5",
                "#B0BEC5",
                "#B0BEC5",
                "#B0BEC5",
                "#B0BEC5",
                "#B0BEC5",
                "#B0BEC5",
                "#B0BEC5",
                "#B0BEC5",
                "#B0BEC5"
               ]
              ]
             }
            ],
            "label": "Topic 22",
            "method": "update"
           },
           {
            "args": [
             {
              "marker.color": [
               [
                "#B0BEC5",
                "#B0BEC5",
                "#B0BEC5",
                "#B0BEC5",
                "#B0BEC5",
                "#B0BEC5",
                "#B0BEC5",
                "#B0BEC5",
                "#B0BEC5",
                "#B0BEC5",
                "#B0BEC5",
                "#B0BEC5",
                "#B0BEC5",
                "#B0BEC5",
                "#B0BEC5",
                "#B0BEC5",
                "#B0BEC5",
                "#B0BEC5",
                "#B0BEC5",
                "#B0BEC5",
                "#B0BEC5",
                "#B0BEC5",
                "red",
                "#B0BEC5",
                "#B0BEC5",
                "#B0BEC5",
                "#B0BEC5",
                "#B0BEC5",
                "#B0BEC5",
                "#B0BEC5",
                "#B0BEC5",
                "#B0BEC5",
                "#B0BEC5",
                "#B0BEC5",
                "#B0BEC5",
                "#B0BEC5",
                "#B0BEC5",
                "#B0BEC5",
                "#B0BEC5",
                "#B0BEC5",
                "#B0BEC5",
                "#B0BEC5",
                "#B0BEC5",
                "#B0BEC5",
                "#B0BEC5",
                "#B0BEC5",
                "#B0BEC5",
                "#B0BEC5",
                "#B0BEC5",
                "#B0BEC5",
                "#B0BEC5",
                "#B0BEC5",
                "#B0BEC5",
                "#B0BEC5",
                "#B0BEC5",
                "#B0BEC5",
                "#B0BEC5",
                "#B0BEC5",
                "#B0BEC5",
                "#B0BEC5",
                "#B0BEC5",
                "#B0BEC5",
                "#B0BEC5",
                "#B0BEC5",
                "#B0BEC5",
                "#B0BEC5",
                "#B0BEC5",
                "#B0BEC5",
                "#B0BEC5",
                "#B0BEC5",
                "#B0BEC5",
                "#B0BEC5",
                "#B0BEC5",
                "#B0BEC5",
                "#B0BEC5",
                "#B0BEC5",
                "#B0BEC5",
                "#B0BEC5",
                "#B0BEC5"
               ]
              ]
             }
            ],
            "label": "Topic 23",
            "method": "update"
           },
           {
            "args": [
             {
              "marker.color": [
               [
                "#B0BEC5",
                "#B0BEC5",
                "#B0BEC5",
                "#B0BEC5",
                "#B0BEC5",
                "#B0BEC5",
                "#B0BEC5",
                "#B0BEC5",
                "#B0BEC5",
                "#B0BEC5",
                "#B0BEC5",
                "#B0BEC5",
                "#B0BEC5",
                "#B0BEC5",
                "#B0BEC5",
                "#B0BEC5",
                "#B0BEC5",
                "#B0BEC5",
                "#B0BEC5",
                "#B0BEC5",
                "#B0BEC5",
                "#B0BEC5",
                "#B0BEC5",
                "red",
                "#B0BEC5",
                "#B0BEC5",
                "#B0BEC5",
                "#B0BEC5",
                "#B0BEC5",
                "#B0BEC5",
                "#B0BEC5",
                "#B0BEC5",
                "#B0BEC5",
                "#B0BEC5",
                "#B0BEC5",
                "#B0BEC5",
                "#B0BEC5",
                "#B0BEC5",
                "#B0BEC5",
                "#B0BEC5",
                "#B0BEC5",
                "#B0BEC5",
                "#B0BEC5",
                "#B0BEC5",
                "#B0BEC5",
                "#B0BEC5",
                "#B0BEC5",
                "#B0BEC5",
                "#B0BEC5",
                "#B0BEC5",
                "#B0BEC5",
                "#B0BEC5",
                "#B0BEC5",
                "#B0BEC5",
                "#B0BEC5",
                "#B0BEC5",
                "#B0BEC5",
                "#B0BEC5",
                "#B0BEC5",
                "#B0BEC5",
                "#B0BEC5",
                "#B0BEC5",
                "#B0BEC5",
                "#B0BEC5",
                "#B0BEC5",
                "#B0BEC5",
                "#B0BEC5",
                "#B0BEC5",
                "#B0BEC5",
                "#B0BEC5",
                "#B0BEC5",
                "#B0BEC5",
                "#B0BEC5",
                "#B0BEC5",
                "#B0BEC5",
                "#B0BEC5",
                "#B0BEC5",
                "#B0BEC5",
                "#B0BEC5"
               ]
              ]
             }
            ],
            "label": "Topic 24",
            "method": "update"
           },
           {
            "args": [
             {
              "marker.color": [
               [
                "#B0BEC5",
                "#B0BEC5",
                "#B0BEC5",
                "#B0BEC5",
                "#B0BEC5",
                "#B0BEC5",
                "#B0BEC5",
                "#B0BEC5",
                "#B0BEC5",
                "#B0BEC5",
                "#B0BEC5",
                "#B0BEC5",
                "#B0BEC5",
                "#B0BEC5",
                "#B0BEC5",
                "#B0BEC5",
                "#B0BEC5",
                "#B0BEC5",
                "#B0BEC5",
                "#B0BEC5",
                "#B0BEC5",
                "#B0BEC5",
                "#B0BEC5",
                "#B0BEC5",
                "red",
                "#B0BEC5",
                "#B0BEC5",
                "#B0BEC5",
                "#B0BEC5",
                "#B0BEC5",
                "#B0BEC5",
                "#B0BEC5",
                "#B0BEC5",
                "#B0BEC5",
                "#B0BEC5",
                "#B0BEC5",
                "#B0BEC5",
                "#B0BEC5",
                "#B0BEC5",
                "#B0BEC5",
                "#B0BEC5",
                "#B0BEC5",
                "#B0BEC5",
                "#B0BEC5",
                "#B0BEC5",
                "#B0BEC5",
                "#B0BEC5",
                "#B0BEC5",
                "#B0BEC5",
                "#B0BEC5",
                "#B0BEC5",
                "#B0BEC5",
                "#B0BEC5",
                "#B0BEC5",
                "#B0BEC5",
                "#B0BEC5",
                "#B0BEC5",
                "#B0BEC5",
                "#B0BEC5",
                "#B0BEC5",
                "#B0BEC5",
                "#B0BEC5",
                "#B0BEC5",
                "#B0BEC5",
                "#B0BEC5",
                "#B0BEC5",
                "#B0BEC5",
                "#B0BEC5",
                "#B0BEC5",
                "#B0BEC5",
                "#B0BEC5",
                "#B0BEC5",
                "#B0BEC5",
                "#B0BEC5",
                "#B0BEC5",
                "#B0BEC5",
                "#B0BEC5",
                "#B0BEC5",
                "#B0BEC5"
               ]
              ]
             }
            ],
            "label": "Topic 25",
            "method": "update"
           },
           {
            "args": [
             {
              "marker.color": [
               [
                "#B0BEC5",
                "#B0BEC5",
                "#B0BEC5",
                "#B0BEC5",
                "#B0BEC5",
                "#B0BEC5",
                "#B0BEC5",
                "#B0BEC5",
                "#B0BEC5",
                "#B0BEC5",
                "#B0BEC5",
                "#B0BEC5",
                "#B0BEC5",
                "#B0BEC5",
                "#B0BEC5",
                "#B0BEC5",
                "#B0BEC5",
                "#B0BEC5",
                "#B0BEC5",
                "#B0BEC5",
                "#B0BEC5",
                "#B0BEC5",
                "#B0BEC5",
                "#B0BEC5",
                "#B0BEC5",
                "red",
                "#B0BEC5",
                "#B0BEC5",
                "#B0BEC5",
                "#B0BEC5",
                "#B0BEC5",
                "#B0BEC5",
                "#B0BEC5",
                "#B0BEC5",
                "#B0BEC5",
                "#B0BEC5",
                "#B0BEC5",
                "#B0BEC5",
                "#B0BEC5",
                "#B0BEC5",
                "#B0BEC5",
                "#B0BEC5",
                "#B0BEC5",
                "#B0BEC5",
                "#B0BEC5",
                "#B0BEC5",
                "#B0BEC5",
                "#B0BEC5",
                "#B0BEC5",
                "#B0BEC5",
                "#B0BEC5",
                "#B0BEC5",
                "#B0BEC5",
                "#B0BEC5",
                "#B0BEC5",
                "#B0BEC5",
                "#B0BEC5",
                "#B0BEC5",
                "#B0BEC5",
                "#B0BEC5",
                "#B0BEC5",
                "#B0BEC5",
                "#B0BEC5",
                "#B0BEC5",
                "#B0BEC5",
                "#B0BEC5",
                "#B0BEC5",
                "#B0BEC5",
                "#B0BEC5",
                "#B0BEC5",
                "#B0BEC5",
                "#B0BEC5",
                "#B0BEC5",
                "#B0BEC5",
                "#B0BEC5",
                "#B0BEC5",
                "#B0BEC5",
                "#B0BEC5",
                "#B0BEC5"
               ]
              ]
             }
            ],
            "label": "Topic 26",
            "method": "update"
           },
           {
            "args": [
             {
              "marker.color": [
               [
                "#B0BEC5",
                "#B0BEC5",
                "#B0BEC5",
                "#B0BEC5",
                "#B0BEC5",
                "#B0BEC5",
                "#B0BEC5",
                "#B0BEC5",
                "#B0BEC5",
                "#B0BEC5",
                "#B0BEC5",
                "#B0BEC5",
                "#B0BEC5",
                "#B0BEC5",
                "#B0BEC5",
                "#B0BEC5",
                "#B0BEC5",
                "#B0BEC5",
                "#B0BEC5",
                "#B0BEC5",
                "#B0BEC5",
                "#B0BEC5",
                "#B0BEC5",
                "#B0BEC5",
                "#B0BEC5",
                "#B0BEC5",
                "red",
                "#B0BEC5",
                "#B0BEC5",
                "#B0BEC5",
                "#B0BEC5",
                "#B0BEC5",
                "#B0BEC5",
                "#B0BEC5",
                "#B0BEC5",
                "#B0BEC5",
                "#B0BEC5",
                "#B0BEC5",
                "#B0BEC5",
                "#B0BEC5",
                "#B0BEC5",
                "#B0BEC5",
                "#B0BEC5",
                "#B0BEC5",
                "#B0BEC5",
                "#B0BEC5",
                "#B0BEC5",
                "#B0BEC5",
                "#B0BEC5",
                "#B0BEC5",
                "#B0BEC5",
                "#B0BEC5",
                "#B0BEC5",
                "#B0BEC5",
                "#B0BEC5",
                "#B0BEC5",
                "#B0BEC5",
                "#B0BEC5",
                "#B0BEC5",
                "#B0BEC5",
                "#B0BEC5",
                "#B0BEC5",
                "#B0BEC5",
                "#B0BEC5",
                "#B0BEC5",
                "#B0BEC5",
                "#B0BEC5",
                "#B0BEC5",
                "#B0BEC5",
                "#B0BEC5",
                "#B0BEC5",
                "#B0BEC5",
                "#B0BEC5",
                "#B0BEC5",
                "#B0BEC5",
                "#B0BEC5",
                "#B0BEC5",
                "#B0BEC5",
                "#B0BEC5"
               ]
              ]
             }
            ],
            "label": "Topic 27",
            "method": "update"
           },
           {
            "args": [
             {
              "marker.color": [
               [
                "#B0BEC5",
                "#B0BEC5",
                "#B0BEC5",
                "#B0BEC5",
                "#B0BEC5",
                "#B0BEC5",
                "#B0BEC5",
                "#B0BEC5",
                "#B0BEC5",
                "#B0BEC5",
                "#B0BEC5",
                "#B0BEC5",
                "#B0BEC5",
                "#B0BEC5",
                "#B0BEC5",
                "#B0BEC5",
                "#B0BEC5",
                "#B0BEC5",
                "#B0BEC5",
                "#B0BEC5",
                "#B0BEC5",
                "#B0BEC5",
                "#B0BEC5",
                "#B0BEC5",
                "#B0BEC5",
                "#B0BEC5",
                "#B0BEC5",
                "red",
                "#B0BEC5",
                "#B0BEC5",
                "#B0BEC5",
                "#B0BEC5",
                "#B0BEC5",
                "#B0BEC5",
                "#B0BEC5",
                "#B0BEC5",
                "#B0BEC5",
                "#B0BEC5",
                "#B0BEC5",
                "#B0BEC5",
                "#B0BEC5",
                "#B0BEC5",
                "#B0BEC5",
                "#B0BEC5",
                "#B0BEC5",
                "#B0BEC5",
                "#B0BEC5",
                "#B0BEC5",
                "#B0BEC5",
                "#B0BEC5",
                "#B0BEC5",
                "#B0BEC5",
                "#B0BEC5",
                "#B0BEC5",
                "#B0BEC5",
                "#B0BEC5",
                "#B0BEC5",
                "#B0BEC5",
                "#B0BEC5",
                "#B0BEC5",
                "#B0BEC5",
                "#B0BEC5",
                "#B0BEC5",
                "#B0BEC5",
                "#B0BEC5",
                "#B0BEC5",
                "#B0BEC5",
                "#B0BEC5",
                "#B0BEC5",
                "#B0BEC5",
                "#B0BEC5",
                "#B0BEC5",
                "#B0BEC5",
                "#B0BEC5",
                "#B0BEC5",
                "#B0BEC5",
                "#B0BEC5",
                "#B0BEC5",
                "#B0BEC5"
               ]
              ]
             }
            ],
            "label": "Topic 28",
            "method": "update"
           },
           {
            "args": [
             {
              "marker.color": [
               [
                "#B0BEC5",
                "#B0BEC5",
                "#B0BEC5",
                "#B0BEC5",
                "#B0BEC5",
                "#B0BEC5",
                "#B0BEC5",
                "#B0BEC5",
                "#B0BEC5",
                "#B0BEC5",
                "#B0BEC5",
                "#B0BEC5",
                "#B0BEC5",
                "#B0BEC5",
                "#B0BEC5",
                "#B0BEC5",
                "#B0BEC5",
                "#B0BEC5",
                "#B0BEC5",
                "#B0BEC5",
                "#B0BEC5",
                "#B0BEC5",
                "#B0BEC5",
                "#B0BEC5",
                "#B0BEC5",
                "#B0BEC5",
                "#B0BEC5",
                "#B0BEC5",
                "red",
                "#B0BEC5",
                "#B0BEC5",
                "#B0BEC5",
                "#B0BEC5",
                "#B0BEC5",
                "#B0BEC5",
                "#B0BEC5",
                "#B0BEC5",
                "#B0BEC5",
                "#B0BEC5",
                "#B0BEC5",
                "#B0BEC5",
                "#B0BEC5",
                "#B0BEC5",
                "#B0BEC5",
                "#B0BEC5",
                "#B0BEC5",
                "#B0BEC5",
                "#B0BEC5",
                "#B0BEC5",
                "#B0BEC5",
                "#B0BEC5",
                "#B0BEC5",
                "#B0BEC5",
                "#B0BEC5",
                "#B0BEC5",
                "#B0BEC5",
                "#B0BEC5",
                "#B0BEC5",
                "#B0BEC5",
                "#B0BEC5",
                "#B0BEC5",
                "#B0BEC5",
                "#B0BEC5",
                "#B0BEC5",
                "#B0BEC5",
                "#B0BEC5",
                "#B0BEC5",
                "#B0BEC5",
                "#B0BEC5",
                "#B0BEC5",
                "#B0BEC5",
                "#B0BEC5",
                "#B0BEC5",
                "#B0BEC5",
                "#B0BEC5",
                "#B0BEC5",
                "#B0BEC5",
                "#B0BEC5",
                "#B0BEC5"
               ]
              ]
             }
            ],
            "label": "Topic 29",
            "method": "update"
           },
           {
            "args": [
             {
              "marker.color": [
               [
                "#B0BEC5",
                "#B0BEC5",
                "#B0BEC5",
                "#B0BEC5",
                "#B0BEC5",
                "#B0BEC5",
                "#B0BEC5",
                "#B0BEC5",
                "#B0BEC5",
                "#B0BEC5",
                "#B0BEC5",
                "#B0BEC5",
                "#B0BEC5",
                "#B0BEC5",
                "#B0BEC5",
                "#B0BEC5",
                "#B0BEC5",
                "#B0BEC5",
                "#B0BEC5",
                "#B0BEC5",
                "#B0BEC5",
                "#B0BEC5",
                "#B0BEC5",
                "#B0BEC5",
                "#B0BEC5",
                "#B0BEC5",
                "#B0BEC5",
                "#B0BEC5",
                "#B0BEC5",
                "red",
                "#B0BEC5",
                "#B0BEC5",
                "#B0BEC5",
                "#B0BEC5",
                "#B0BEC5",
                "#B0BEC5",
                "#B0BEC5",
                "#B0BEC5",
                "#B0BEC5",
                "#B0BEC5",
                "#B0BEC5",
                "#B0BEC5",
                "#B0BEC5",
                "#B0BEC5",
                "#B0BEC5",
                "#B0BEC5",
                "#B0BEC5",
                "#B0BEC5",
                "#B0BEC5",
                "#B0BEC5",
                "#B0BEC5",
                "#B0BEC5",
                "#B0BEC5",
                "#B0BEC5",
                "#B0BEC5",
                "#B0BEC5",
                "#B0BEC5",
                "#B0BEC5",
                "#B0BEC5",
                "#B0BEC5",
                "#B0BEC5",
                "#B0BEC5",
                "#B0BEC5",
                "#B0BEC5",
                "#B0BEC5",
                "#B0BEC5",
                "#B0BEC5",
                "#B0BEC5",
                "#B0BEC5",
                "#B0BEC5",
                "#B0BEC5",
                "#B0BEC5",
                "#B0BEC5",
                "#B0BEC5",
                "#B0BEC5",
                "#B0BEC5",
                "#B0BEC5",
                "#B0BEC5",
                "#B0BEC5"
               ]
              ]
             }
            ],
            "label": "Topic 30",
            "method": "update"
           },
           {
            "args": [
             {
              "marker.color": [
               [
                "#B0BEC5",
                "#B0BEC5",
                "#B0BEC5",
                "#B0BEC5",
                "#B0BEC5",
                "#B0BEC5",
                "#B0BEC5",
                "#B0BEC5",
                "#B0BEC5",
                "#B0BEC5",
                "#B0BEC5",
                "#B0BEC5",
                "#B0BEC5",
                "#B0BEC5",
                "#B0BEC5",
                "#B0BEC5",
                "#B0BEC5",
                "#B0BEC5",
                "#B0BEC5",
                "#B0BEC5",
                "#B0BEC5",
                "#B0BEC5",
                "#B0BEC5",
                "#B0BEC5",
                "#B0BEC5",
                "#B0BEC5",
                "#B0BEC5",
                "#B0BEC5",
                "#B0BEC5",
                "#B0BEC5",
                "red",
                "#B0BEC5",
                "#B0BEC5",
                "#B0BEC5",
                "#B0BEC5",
                "#B0BEC5",
                "#B0BEC5",
                "#B0BEC5",
                "#B0BEC5",
                "#B0BEC5",
                "#B0BEC5",
                "#B0BEC5",
                "#B0BEC5",
                "#B0BEC5",
                "#B0BEC5",
                "#B0BEC5",
                "#B0BEC5",
                "#B0BEC5",
                "#B0BEC5",
                "#B0BEC5",
                "#B0BEC5",
                "#B0BEC5",
                "#B0BEC5",
                "#B0BEC5",
                "#B0BEC5",
                "#B0BEC5",
                "#B0BEC5",
                "#B0BEC5",
                "#B0BEC5",
                "#B0BEC5",
                "#B0BEC5",
                "#B0BEC5",
                "#B0BEC5",
                "#B0BEC5",
                "#B0BEC5",
                "#B0BEC5",
                "#B0BEC5",
                "#B0BEC5",
                "#B0BEC5",
                "#B0BEC5",
                "#B0BEC5",
                "#B0BEC5",
                "#B0BEC5",
                "#B0BEC5",
                "#B0BEC5",
                "#B0BEC5",
                "#B0BEC5",
                "#B0BEC5",
                "#B0BEC5"
               ]
              ]
             }
            ],
            "label": "Topic 31",
            "method": "update"
           },
           {
            "args": [
             {
              "marker.color": [
               [
                "#B0BEC5",
                "#B0BEC5",
                "#B0BEC5",
                "#B0BEC5",
                "#B0BEC5",
                "#B0BEC5",
                "#B0BEC5",
                "#B0BEC5",
                "#B0BEC5",
                "#B0BEC5",
                "#B0BEC5",
                "#B0BEC5",
                "#B0BEC5",
                "#B0BEC5",
                "#B0BEC5",
                "#B0BEC5",
                "#B0BEC5",
                "#B0BEC5",
                "#B0BEC5",
                "#B0BEC5",
                "#B0BEC5",
                "#B0BEC5",
                "#B0BEC5",
                "#B0BEC5",
                "#B0BEC5",
                "#B0BEC5",
                "#B0BEC5",
                "#B0BEC5",
                "#B0BEC5",
                "#B0BEC5",
                "#B0BEC5",
                "red",
                "#B0BEC5",
                "#B0BEC5",
                "#B0BEC5",
                "#B0BEC5",
                "#B0BEC5",
                "#B0BEC5",
                "#B0BEC5",
                "#B0BEC5",
                "#B0BEC5",
                "#B0BEC5",
                "#B0BEC5",
                "#B0BEC5",
                "#B0BEC5",
                "#B0BEC5",
                "#B0BEC5",
                "#B0BEC5",
                "#B0BEC5",
                "#B0BEC5",
                "#B0BEC5",
                "#B0BEC5",
                "#B0BEC5",
                "#B0BEC5",
                "#B0BEC5",
                "#B0BEC5",
                "#B0BEC5",
                "#B0BEC5",
                "#B0BEC5",
                "#B0BEC5",
                "#B0BEC5",
                "#B0BEC5",
                "#B0BEC5",
                "#B0BEC5",
                "#B0BEC5",
                "#B0BEC5",
                "#B0BEC5",
                "#B0BEC5",
                "#B0BEC5",
                "#B0BEC5",
                "#B0BEC5",
                "#B0BEC5",
                "#B0BEC5",
                "#B0BEC5",
                "#B0BEC5",
                "#B0BEC5",
                "#B0BEC5",
                "#B0BEC5",
                "#B0BEC5"
               ]
              ]
             }
            ],
            "label": "Topic 32",
            "method": "update"
           },
           {
            "args": [
             {
              "marker.color": [
               [
                "#B0BEC5",
                "#B0BEC5",
                "#B0BEC5",
                "#B0BEC5",
                "#B0BEC5",
                "#B0BEC5",
                "#B0BEC5",
                "#B0BEC5",
                "#B0BEC5",
                "#B0BEC5",
                "#B0BEC5",
                "#B0BEC5",
                "#B0BEC5",
                "#B0BEC5",
                "#B0BEC5",
                "#B0BEC5",
                "#B0BEC5",
                "#B0BEC5",
                "#B0BEC5",
                "#B0BEC5",
                "#B0BEC5",
                "#B0BEC5",
                "#B0BEC5",
                "#B0BEC5",
                "#B0BEC5",
                "#B0BEC5",
                "#B0BEC5",
                "#B0BEC5",
                "#B0BEC5",
                "#B0BEC5",
                "#B0BEC5",
                "#B0BEC5",
                "red",
                "#B0BEC5",
                "#B0BEC5",
                "#B0BEC5",
                "#B0BEC5",
                "#B0BEC5",
                "#B0BEC5",
                "#B0BEC5",
                "#B0BEC5",
                "#B0BEC5",
                "#B0BEC5",
                "#B0BEC5",
                "#B0BEC5",
                "#B0BEC5",
                "#B0BEC5",
                "#B0BEC5",
                "#B0BEC5",
                "#B0BEC5",
                "#B0BEC5",
                "#B0BEC5",
                "#B0BEC5",
                "#B0BEC5",
                "#B0BEC5",
                "#B0BEC5",
                "#B0BEC5",
                "#B0BEC5",
                "#B0BEC5",
                "#B0BEC5",
                "#B0BEC5",
                "#B0BEC5",
                "#B0BEC5",
                "#B0BEC5",
                "#B0BEC5",
                "#B0BEC5",
                "#B0BEC5",
                "#B0BEC5",
                "#B0BEC5",
                "#B0BEC5",
                "#B0BEC5",
                "#B0BEC5",
                "#B0BEC5",
                "#B0BEC5",
                "#B0BEC5",
                "#B0BEC5",
                "#B0BEC5",
                "#B0BEC5",
                "#B0BEC5"
               ]
              ]
             }
            ],
            "label": "Topic 33",
            "method": "update"
           },
           {
            "args": [
             {
              "marker.color": [
               [
                "#B0BEC5",
                "#B0BEC5",
                "#B0BEC5",
                "#B0BEC5",
                "#B0BEC5",
                "#B0BEC5",
                "#B0BEC5",
                "#B0BEC5",
                "#B0BEC5",
                "#B0BEC5",
                "#B0BEC5",
                "#B0BEC5",
                "#B0BEC5",
                "#B0BEC5",
                "#B0BEC5",
                "#B0BEC5",
                "#B0BEC5",
                "#B0BEC5",
                "#B0BEC5",
                "#B0BEC5",
                "#B0BEC5",
                "#B0BEC5",
                "#B0BEC5",
                "#B0BEC5",
                "#B0BEC5",
                "#B0BEC5",
                "#B0BEC5",
                "#B0BEC5",
                "#B0BEC5",
                "#B0BEC5",
                "#B0BEC5",
                "#B0BEC5",
                "#B0BEC5",
                "red",
                "#B0BEC5",
                "#B0BEC5",
                "#B0BEC5",
                "#B0BEC5",
                "#B0BEC5",
                "#B0BEC5",
                "#B0BEC5",
                "#B0BEC5",
                "#B0BEC5",
                "#B0BEC5",
                "#B0BEC5",
                "#B0BEC5",
                "#B0BEC5",
                "#B0BEC5",
                "#B0BEC5",
                "#B0BEC5",
                "#B0BEC5",
                "#B0BEC5",
                "#B0BEC5",
                "#B0BEC5",
                "#B0BEC5",
                "#B0BEC5",
                "#B0BEC5",
                "#B0BEC5",
                "#B0BEC5",
                "#B0BEC5",
                "#B0BEC5",
                "#B0BEC5",
                "#B0BEC5",
                "#B0BEC5",
                "#B0BEC5",
                "#B0BEC5",
                "#B0BEC5",
                "#B0BEC5",
                "#B0BEC5",
                "#B0BEC5",
                "#B0BEC5",
                "#B0BEC5",
                "#B0BEC5",
                "#B0BEC5",
                "#B0BEC5",
                "#B0BEC5",
                "#B0BEC5",
                "#B0BEC5",
                "#B0BEC5"
               ]
              ]
             }
            ],
            "label": "Topic 34",
            "method": "update"
           },
           {
            "args": [
             {
              "marker.color": [
               [
                "#B0BEC5",
                "#B0BEC5",
                "#B0BEC5",
                "#B0BEC5",
                "#B0BEC5",
                "#B0BEC5",
                "#B0BEC5",
                "#B0BEC5",
                "#B0BEC5",
                "#B0BEC5",
                "#B0BEC5",
                "#B0BEC5",
                "#B0BEC5",
                "#B0BEC5",
                "#B0BEC5",
                "#B0BEC5",
                "#B0BEC5",
                "#B0BEC5",
                "#B0BEC5",
                "#B0BEC5",
                "#B0BEC5",
                "#B0BEC5",
                "#B0BEC5",
                "#B0BEC5",
                "#B0BEC5",
                "#B0BEC5",
                "#B0BEC5",
                "#B0BEC5",
                "#B0BEC5",
                "#B0BEC5",
                "#B0BEC5",
                "#B0BEC5",
                "#B0BEC5",
                "#B0BEC5",
                "red",
                "#B0BEC5",
                "#B0BEC5",
                "#B0BEC5",
                "#B0BEC5",
                "#B0BEC5",
                "#B0BEC5",
                "#B0BEC5",
                "#B0BEC5",
                "#B0BEC5",
                "#B0BEC5",
                "#B0BEC5",
                "#B0BEC5",
                "#B0BEC5",
                "#B0BEC5",
                "#B0BEC5",
                "#B0BEC5",
                "#B0BEC5",
                "#B0BEC5",
                "#B0BEC5",
                "#B0BEC5",
                "#B0BEC5",
                "#B0BEC5",
                "#B0BEC5",
                "#B0BEC5",
                "#B0BEC5",
                "#B0BEC5",
                "#B0BEC5",
                "#B0BEC5",
                "#B0BEC5",
                "#B0BEC5",
                "#B0BEC5",
                "#B0BEC5",
                "#B0BEC5",
                "#B0BEC5",
                "#B0BEC5",
                "#B0BEC5",
                "#B0BEC5",
                "#B0BEC5",
                "#B0BEC5",
                "#B0BEC5",
                "#B0BEC5",
                "#B0BEC5",
                "#B0BEC5",
                "#B0BEC5"
               ]
              ]
             }
            ],
            "label": "Topic 35",
            "method": "update"
           },
           {
            "args": [
             {
              "marker.color": [
               [
                "#B0BEC5",
                "#B0BEC5",
                "#B0BEC5",
                "#B0BEC5",
                "#B0BEC5",
                "#B0BEC5",
                "#B0BEC5",
                "#B0BEC5",
                "#B0BEC5",
                "#B0BEC5",
                "#B0BEC5",
                "#B0BEC5",
                "#B0BEC5",
                "#B0BEC5",
                "#B0BEC5",
                "#B0BEC5",
                "#B0BEC5",
                "#B0BEC5",
                "#B0BEC5",
                "#B0BEC5",
                "#B0BEC5",
                "#B0BEC5",
                "#B0BEC5",
                "#B0BEC5",
                "#B0BEC5",
                "#B0BEC5",
                "#B0BEC5",
                "#B0BEC5",
                "#B0BEC5",
                "#B0BEC5",
                "#B0BEC5",
                "#B0BEC5",
                "#B0BEC5",
                "#B0BEC5",
                "#B0BEC5",
                "red",
                "#B0BEC5",
                "#B0BEC5",
                "#B0BEC5",
                "#B0BEC5",
                "#B0BEC5",
                "#B0BEC5",
                "#B0BEC5",
                "#B0BEC5",
                "#B0BEC5",
                "#B0BEC5",
                "#B0BEC5",
                "#B0BEC5",
                "#B0BEC5",
                "#B0BEC5",
                "#B0BEC5",
                "#B0BEC5",
                "#B0BEC5",
                "#B0BEC5",
                "#B0BEC5",
                "#B0BEC5",
                "#B0BEC5",
                "#B0BEC5",
                "#B0BEC5",
                "#B0BEC5",
                "#B0BEC5",
                "#B0BEC5",
                "#B0BEC5",
                "#B0BEC5",
                "#B0BEC5",
                "#B0BEC5",
                "#B0BEC5",
                "#B0BEC5",
                "#B0BEC5",
                "#B0BEC5",
                "#B0BEC5",
                "#B0BEC5",
                "#B0BEC5",
                "#B0BEC5",
                "#B0BEC5",
                "#B0BEC5",
                "#B0BEC5",
                "#B0BEC5",
                "#B0BEC5"
               ]
              ]
             }
            ],
            "label": "Topic 36",
            "method": "update"
           },
           {
            "args": [
             {
              "marker.color": [
               [
                "#B0BEC5",
                "#B0BEC5",
                "#B0BEC5",
                "#B0BEC5",
                "#B0BEC5",
                "#B0BEC5",
                "#B0BEC5",
                "#B0BEC5",
                "#B0BEC5",
                "#B0BEC5",
                "#B0BEC5",
                "#B0BEC5",
                "#B0BEC5",
                "#B0BEC5",
                "#B0BEC5",
                "#B0BEC5",
                "#B0BEC5",
                "#B0BEC5",
                "#B0BEC5",
                "#B0BEC5",
                "#B0BEC5",
                "#B0BEC5",
                "#B0BEC5",
                "#B0BEC5",
                "#B0BEC5",
                "#B0BEC5",
                "#B0BEC5",
                "#B0BEC5",
                "#B0BEC5",
                "#B0BEC5",
                "#B0BEC5",
                "#B0BEC5",
                "#B0BEC5",
                "#B0BEC5",
                "#B0BEC5",
                "#B0BEC5",
                "red",
                "#B0BEC5",
                "#B0BEC5",
                "#B0BEC5",
                "#B0BEC5",
                "#B0BEC5",
                "#B0BEC5",
                "#B0BEC5",
                "#B0BEC5",
                "#B0BEC5",
                "#B0BEC5",
                "#B0BEC5",
                "#B0BEC5",
                "#B0BEC5",
                "#B0BEC5",
                "#B0BEC5",
                "#B0BEC5",
                "#B0BEC5",
                "#B0BEC5",
                "#B0BEC5",
                "#B0BEC5",
                "#B0BEC5",
                "#B0BEC5",
                "#B0BEC5",
                "#B0BEC5",
                "#B0BEC5",
                "#B0BEC5",
                "#B0BEC5",
                "#B0BEC5",
                "#B0BEC5",
                "#B0BEC5",
                "#B0BEC5",
                "#B0BEC5",
                "#B0BEC5",
                "#B0BEC5",
                "#B0BEC5",
                "#B0BEC5",
                "#B0BEC5",
                "#B0BEC5",
                "#B0BEC5",
                "#B0BEC5",
                "#B0BEC5",
                "#B0BEC5"
               ]
              ]
             }
            ],
            "label": "Topic 37",
            "method": "update"
           },
           {
            "args": [
             {
              "marker.color": [
               [
                "#B0BEC5",
                "#B0BEC5",
                "#B0BEC5",
                "#B0BEC5",
                "#B0BEC5",
                "#B0BEC5",
                "#B0BEC5",
                "#B0BEC5",
                "#B0BEC5",
                "#B0BEC5",
                "#B0BEC5",
                "#B0BEC5",
                "#B0BEC5",
                "#B0BEC5",
                "#B0BEC5",
                "#B0BEC5",
                "#B0BEC5",
                "#B0BEC5",
                "#B0BEC5",
                "#B0BEC5",
                "#B0BEC5",
                "#B0BEC5",
                "#B0BEC5",
                "#B0BEC5",
                "#B0BEC5",
                "#B0BEC5",
                "#B0BEC5",
                "#B0BEC5",
                "#B0BEC5",
                "#B0BEC5",
                "#B0BEC5",
                "#B0BEC5",
                "#B0BEC5",
                "#B0BEC5",
                "#B0BEC5",
                "#B0BEC5",
                "#B0BEC5",
                "red",
                "#B0BEC5",
                "#B0BEC5",
                "#B0BEC5",
                "#B0BEC5",
                "#B0BEC5",
                "#B0BEC5",
                "#B0BEC5",
                "#B0BEC5",
                "#B0BEC5",
                "#B0BEC5",
                "#B0BEC5",
                "#B0BEC5",
                "#B0BEC5",
                "#B0BEC5",
                "#B0BEC5",
                "#B0BEC5",
                "#B0BEC5",
                "#B0BEC5",
                "#B0BEC5",
                "#B0BEC5",
                "#B0BEC5",
                "#B0BEC5",
                "#B0BEC5",
                "#B0BEC5",
                "#B0BEC5",
                "#B0BEC5",
                "#B0BEC5",
                "#B0BEC5",
                "#B0BEC5",
                "#B0BEC5",
                "#B0BEC5",
                "#B0BEC5",
                "#B0BEC5",
                "#B0BEC5",
                "#B0BEC5",
                "#B0BEC5",
                "#B0BEC5",
                "#B0BEC5",
                "#B0BEC5",
                "#B0BEC5",
                "#B0BEC5"
               ]
              ]
             }
            ],
            "label": "Topic 38",
            "method": "update"
           },
           {
            "args": [
             {
              "marker.color": [
               [
                "#B0BEC5",
                "#B0BEC5",
                "#B0BEC5",
                "#B0BEC5",
                "#B0BEC5",
                "#B0BEC5",
                "#B0BEC5",
                "#B0BEC5",
                "#B0BEC5",
                "#B0BEC5",
                "#B0BEC5",
                "#B0BEC5",
                "#B0BEC5",
                "#B0BEC5",
                "#B0BEC5",
                "#B0BEC5",
                "#B0BEC5",
                "#B0BEC5",
                "#B0BEC5",
                "#B0BEC5",
                "#B0BEC5",
                "#B0BEC5",
                "#B0BEC5",
                "#B0BEC5",
                "#B0BEC5",
                "#B0BEC5",
                "#B0BEC5",
                "#B0BEC5",
                "#B0BEC5",
                "#B0BEC5",
                "#B0BEC5",
                "#B0BEC5",
                "#B0BEC5",
                "#B0BEC5",
                "#B0BEC5",
                "#B0BEC5",
                "#B0BEC5",
                "#B0BEC5",
                "red",
                "#B0BEC5",
                "#B0BEC5",
                "#B0BEC5",
                "#B0BEC5",
                "#B0BEC5",
                "#B0BEC5",
                "#B0BEC5",
                "#B0BEC5",
                "#B0BEC5",
                "#B0BEC5",
                "#B0BEC5",
                "#B0BEC5",
                "#B0BEC5",
                "#B0BEC5",
                "#B0BEC5",
                "#B0BEC5",
                "#B0BEC5",
                "#B0BEC5",
                "#B0BEC5",
                "#B0BEC5",
                "#B0BEC5",
                "#B0BEC5",
                "#B0BEC5",
                "#B0BEC5",
                "#B0BEC5",
                "#B0BEC5",
                "#B0BEC5",
                "#B0BEC5",
                "#B0BEC5",
                "#B0BEC5",
                "#B0BEC5",
                "#B0BEC5",
                "#B0BEC5",
                "#B0BEC5",
                "#B0BEC5",
                "#B0BEC5",
                "#B0BEC5",
                "#B0BEC5",
                "#B0BEC5",
                "#B0BEC5"
               ]
              ]
             }
            ],
            "label": "Topic 39",
            "method": "update"
           },
           {
            "args": [
             {
              "marker.color": [
               [
                "#B0BEC5",
                "#B0BEC5",
                "#B0BEC5",
                "#B0BEC5",
                "#B0BEC5",
                "#B0BEC5",
                "#B0BEC5",
                "#B0BEC5",
                "#B0BEC5",
                "#B0BEC5",
                "#B0BEC5",
                "#B0BEC5",
                "#B0BEC5",
                "#B0BEC5",
                "#B0BEC5",
                "#B0BEC5",
                "#B0BEC5",
                "#B0BEC5",
                "#B0BEC5",
                "#B0BEC5",
                "#B0BEC5",
                "#B0BEC5",
                "#B0BEC5",
                "#B0BEC5",
                "#B0BEC5",
                "#B0BEC5",
                "#B0BEC5",
                "#B0BEC5",
                "#B0BEC5",
                "#B0BEC5",
                "#B0BEC5",
                "#B0BEC5",
                "#B0BEC5",
                "#B0BEC5",
                "#B0BEC5",
                "#B0BEC5",
                "#B0BEC5",
                "#B0BEC5",
                "#B0BEC5",
                "red",
                "#B0BEC5",
                "#B0BEC5",
                "#B0BEC5",
                "#B0BEC5",
                "#B0BEC5",
                "#B0BEC5",
                "#B0BEC5",
                "#B0BEC5",
                "#B0BEC5",
                "#B0BEC5",
                "#B0BEC5",
                "#B0BEC5",
                "#B0BEC5",
                "#B0BEC5",
                "#B0BEC5",
                "#B0BEC5",
                "#B0BEC5",
                "#B0BEC5",
                "#B0BEC5",
                "#B0BEC5",
                "#B0BEC5",
                "#B0BEC5",
                "#B0BEC5",
                "#B0BEC5",
                "#B0BEC5",
                "#B0BEC5",
                "#B0BEC5",
                "#B0BEC5",
                "#B0BEC5",
                "#B0BEC5",
                "#B0BEC5",
                "#B0BEC5",
                "#B0BEC5",
                "#B0BEC5",
                "#B0BEC5",
                "#B0BEC5",
                "#B0BEC5",
                "#B0BEC5",
                "#B0BEC5"
               ]
              ]
             }
            ],
            "label": "Topic 40",
            "method": "update"
           },
           {
            "args": [
             {
              "marker.color": [
               [
                "#B0BEC5",
                "#B0BEC5",
                "#B0BEC5",
                "#B0BEC5",
                "#B0BEC5",
                "#B0BEC5",
                "#B0BEC5",
                "#B0BEC5",
                "#B0BEC5",
                "#B0BEC5",
                "#B0BEC5",
                "#B0BEC5",
                "#B0BEC5",
                "#B0BEC5",
                "#B0BEC5",
                "#B0BEC5",
                "#B0BEC5",
                "#B0BEC5",
                "#B0BEC5",
                "#B0BEC5",
                "#B0BEC5",
                "#B0BEC5",
                "#B0BEC5",
                "#B0BEC5",
                "#B0BEC5",
                "#B0BEC5",
                "#B0BEC5",
                "#B0BEC5",
                "#B0BEC5",
                "#B0BEC5",
                "#B0BEC5",
                "#B0BEC5",
                "#B0BEC5",
                "#B0BEC5",
                "#B0BEC5",
                "#B0BEC5",
                "#B0BEC5",
                "#B0BEC5",
                "#B0BEC5",
                "#B0BEC5",
                "red",
                "#B0BEC5",
                "#B0BEC5",
                "#B0BEC5",
                "#B0BEC5",
                "#B0BEC5",
                "#B0BEC5",
                "#B0BEC5",
                "#B0BEC5",
                "#B0BEC5",
                "#B0BEC5",
                "#B0BEC5",
                "#B0BEC5",
                "#B0BEC5",
                "#B0BEC5",
                "#B0BEC5",
                "#B0BEC5",
                "#B0BEC5",
                "#B0BEC5",
                "#B0BEC5",
                "#B0BEC5",
                "#B0BEC5",
                "#B0BEC5",
                "#B0BEC5",
                "#B0BEC5",
                "#B0BEC5",
                "#B0BEC5",
                "#B0BEC5",
                "#B0BEC5",
                "#B0BEC5",
                "#B0BEC5",
                "#B0BEC5",
                "#B0BEC5",
                "#B0BEC5",
                "#B0BEC5",
                "#B0BEC5",
                "#B0BEC5",
                "#B0BEC5",
                "#B0BEC5"
               ]
              ]
             }
            ],
            "label": "Topic 41",
            "method": "update"
           },
           {
            "args": [
             {
              "marker.color": [
               [
                "#B0BEC5",
                "#B0BEC5",
                "#B0BEC5",
                "#B0BEC5",
                "#B0BEC5",
                "#B0BEC5",
                "#B0BEC5",
                "#B0BEC5",
                "#B0BEC5",
                "#B0BEC5",
                "#B0BEC5",
                "#B0BEC5",
                "#B0BEC5",
                "#B0BEC5",
                "#B0BEC5",
                "#B0BEC5",
                "#B0BEC5",
                "#B0BEC5",
                "#B0BEC5",
                "#B0BEC5",
                "#B0BEC5",
                "#B0BEC5",
                "#B0BEC5",
                "#B0BEC5",
                "#B0BEC5",
                "#B0BEC5",
                "#B0BEC5",
                "#B0BEC5",
                "#B0BEC5",
                "#B0BEC5",
                "#B0BEC5",
                "#B0BEC5",
                "#B0BEC5",
                "#B0BEC5",
                "#B0BEC5",
                "#B0BEC5",
                "#B0BEC5",
                "#B0BEC5",
                "#B0BEC5",
                "#B0BEC5",
                "#B0BEC5",
                "red",
                "#B0BEC5",
                "#B0BEC5",
                "#B0BEC5",
                "#B0BEC5",
                "#B0BEC5",
                "#B0BEC5",
                "#B0BEC5",
                "#B0BEC5",
                "#B0BEC5",
                "#B0BEC5",
                "#B0BEC5",
                "#B0BEC5",
                "#B0BEC5",
                "#B0BEC5",
                "#B0BEC5",
                "#B0BEC5",
                "#B0BEC5",
                "#B0BEC5",
                "#B0BEC5",
                "#B0BEC5",
                "#B0BEC5",
                "#B0BEC5",
                "#B0BEC5",
                "#B0BEC5",
                "#B0BEC5",
                "#B0BEC5",
                "#B0BEC5",
                "#B0BEC5",
                "#B0BEC5",
                "#B0BEC5",
                "#B0BEC5",
                "#B0BEC5",
                "#B0BEC5",
                "#B0BEC5",
                "#B0BEC5",
                "#B0BEC5",
                "#B0BEC5"
               ]
              ]
             }
            ],
            "label": "Topic 42",
            "method": "update"
           },
           {
            "args": [
             {
              "marker.color": [
               [
                "#B0BEC5",
                "#B0BEC5",
                "#B0BEC5",
                "#B0BEC5",
                "#B0BEC5",
                "#B0BEC5",
                "#B0BEC5",
                "#B0BEC5",
                "#B0BEC5",
                "#B0BEC5",
                "#B0BEC5",
                "#B0BEC5",
                "#B0BEC5",
                "#B0BEC5",
                "#B0BEC5",
                "#B0BEC5",
                "#B0BEC5",
                "#B0BEC5",
                "#B0BEC5",
                "#B0BEC5",
                "#B0BEC5",
                "#B0BEC5",
                "#B0BEC5",
                "#B0BEC5",
                "#B0BEC5",
                "#B0BEC5",
                "#B0BEC5",
                "#B0BEC5",
                "#B0BEC5",
                "#B0BEC5",
                "#B0BEC5",
                "#B0BEC5",
                "#B0BEC5",
                "#B0BEC5",
                "#B0BEC5",
                "#B0BEC5",
                "#B0BEC5",
                "#B0BEC5",
                "#B0BEC5",
                "#B0BEC5",
                "#B0BEC5",
                "#B0BEC5",
                "red",
                "#B0BEC5",
                "#B0BEC5",
                "#B0BEC5",
                "#B0BEC5",
                "#B0BEC5",
                "#B0BEC5",
                "#B0BEC5",
                "#B0BEC5",
                "#B0BEC5",
                "#B0BEC5",
                "#B0BEC5",
                "#B0BEC5",
                "#B0BEC5",
                "#B0BEC5",
                "#B0BEC5",
                "#B0BEC5",
                "#B0BEC5",
                "#B0BEC5",
                "#B0BEC5",
                "#B0BEC5",
                "#B0BEC5",
                "#B0BEC5",
                "#B0BEC5",
                "#B0BEC5",
                "#B0BEC5",
                "#B0BEC5",
                "#B0BEC5",
                "#B0BEC5",
                "#B0BEC5",
                "#B0BEC5",
                "#B0BEC5",
                "#B0BEC5",
                "#B0BEC5",
                "#B0BEC5",
                "#B0BEC5",
                "#B0BEC5"
               ]
              ]
             }
            ],
            "label": "Topic 43",
            "method": "update"
           },
           {
            "args": [
             {
              "marker.color": [
               [
                "#B0BEC5",
                "#B0BEC5",
                "#B0BEC5",
                "#B0BEC5",
                "#B0BEC5",
                "#B0BEC5",
                "#B0BEC5",
                "#B0BEC5",
                "#B0BEC5",
                "#B0BEC5",
                "#B0BEC5",
                "#B0BEC5",
                "#B0BEC5",
                "#B0BEC5",
                "#B0BEC5",
                "#B0BEC5",
                "#B0BEC5",
                "#B0BEC5",
                "#B0BEC5",
                "#B0BEC5",
                "#B0BEC5",
                "#B0BEC5",
                "#B0BEC5",
                "#B0BEC5",
                "#B0BEC5",
                "#B0BEC5",
                "#B0BEC5",
                "#B0BEC5",
                "#B0BEC5",
                "#B0BEC5",
                "#B0BEC5",
                "#B0BEC5",
                "#B0BEC5",
                "#B0BEC5",
                "#B0BEC5",
                "#B0BEC5",
                "#B0BEC5",
                "#B0BEC5",
                "#B0BEC5",
                "#B0BEC5",
                "#B0BEC5",
                "#B0BEC5",
                "#B0BEC5",
                "red",
                "#B0BEC5",
                "#B0BEC5",
                "#B0BEC5",
                "#B0BEC5",
                "#B0BEC5",
                "#B0BEC5",
                "#B0BEC5",
                "#B0BEC5",
                "#B0BEC5",
                "#B0BEC5",
                "#B0BEC5",
                "#B0BEC5",
                "#B0BEC5",
                "#B0BEC5",
                "#B0BEC5",
                "#B0BEC5",
                "#B0BEC5",
                "#B0BEC5",
                "#B0BEC5",
                "#B0BEC5",
                "#B0BEC5",
                "#B0BEC5",
                "#B0BEC5",
                "#B0BEC5",
                "#B0BEC5",
                "#B0BEC5",
                "#B0BEC5",
                "#B0BEC5",
                "#B0BEC5",
                "#B0BEC5",
                "#B0BEC5",
                "#B0BEC5",
                "#B0BEC5",
                "#B0BEC5",
                "#B0BEC5"
               ]
              ]
             }
            ],
            "label": "Topic 44",
            "method": "update"
           },
           {
            "args": [
             {
              "marker.color": [
               [
                "#B0BEC5",
                "#B0BEC5",
                "#B0BEC5",
                "#B0BEC5",
                "#B0BEC5",
                "#B0BEC5",
                "#B0BEC5",
                "#B0BEC5",
                "#B0BEC5",
                "#B0BEC5",
                "#B0BEC5",
                "#B0BEC5",
                "#B0BEC5",
                "#B0BEC5",
                "#B0BEC5",
                "#B0BEC5",
                "#B0BEC5",
                "#B0BEC5",
                "#B0BEC5",
                "#B0BEC5",
                "#B0BEC5",
                "#B0BEC5",
                "#B0BEC5",
                "#B0BEC5",
                "#B0BEC5",
                "#B0BEC5",
                "#B0BEC5",
                "#B0BEC5",
                "#B0BEC5",
                "#B0BEC5",
                "#B0BEC5",
                "#B0BEC5",
                "#B0BEC5",
                "#B0BEC5",
                "#B0BEC5",
                "#B0BEC5",
                "#B0BEC5",
                "#B0BEC5",
                "#B0BEC5",
                "#B0BEC5",
                "#B0BEC5",
                "#B0BEC5",
                "#B0BEC5",
                "#B0BEC5",
                "red",
                "#B0BEC5",
                "#B0BEC5",
                "#B0BEC5",
                "#B0BEC5",
                "#B0BEC5",
                "#B0BEC5",
                "#B0BEC5",
                "#B0BEC5",
                "#B0BEC5",
                "#B0BEC5",
                "#B0BEC5",
                "#B0BEC5",
                "#B0BEC5",
                "#B0BEC5",
                "#B0BEC5",
                "#B0BEC5",
                "#B0BEC5",
                "#B0BEC5",
                "#B0BEC5",
                "#B0BEC5",
                "#B0BEC5",
                "#B0BEC5",
                "#B0BEC5",
                "#B0BEC5",
                "#B0BEC5",
                "#B0BEC5",
                "#B0BEC5",
                "#B0BEC5",
                "#B0BEC5",
                "#B0BEC5",
                "#B0BEC5",
                "#B0BEC5",
                "#B0BEC5",
                "#B0BEC5"
               ]
              ]
             }
            ],
            "label": "Topic 45",
            "method": "update"
           },
           {
            "args": [
             {
              "marker.color": [
               [
                "#B0BEC5",
                "#B0BEC5",
                "#B0BEC5",
                "#B0BEC5",
                "#B0BEC5",
                "#B0BEC5",
                "#B0BEC5",
                "#B0BEC5",
                "#B0BEC5",
                "#B0BEC5",
                "#B0BEC5",
                "#B0BEC5",
                "#B0BEC5",
                "#B0BEC5",
                "#B0BEC5",
                "#B0BEC5",
                "#B0BEC5",
                "#B0BEC5",
                "#B0BEC5",
                "#B0BEC5",
                "#B0BEC5",
                "#B0BEC5",
                "#B0BEC5",
                "#B0BEC5",
                "#B0BEC5",
                "#B0BEC5",
                "#B0BEC5",
                "#B0BEC5",
                "#B0BEC5",
                "#B0BEC5",
                "#B0BEC5",
                "#B0BEC5",
                "#B0BEC5",
                "#B0BEC5",
                "#B0BEC5",
                "#B0BEC5",
                "#B0BEC5",
                "#B0BEC5",
                "#B0BEC5",
                "#B0BEC5",
                "#B0BEC5",
                "#B0BEC5",
                "#B0BEC5",
                "#B0BEC5",
                "#B0BEC5",
                "red",
                "#B0BEC5",
                "#B0BEC5",
                "#B0BEC5",
                "#B0BEC5",
                "#B0BEC5",
                "#B0BEC5",
                "#B0BEC5",
                "#B0BEC5",
                "#B0BEC5",
                "#B0BEC5",
                "#B0BEC5",
                "#B0BEC5",
                "#B0BEC5",
                "#B0BEC5",
                "#B0BEC5",
                "#B0BEC5",
                "#B0BEC5",
                "#B0BEC5",
                "#B0BEC5",
                "#B0BEC5",
                "#B0BEC5",
                "#B0BEC5",
                "#B0BEC5",
                "#B0BEC5",
                "#B0BEC5",
                "#B0BEC5",
                "#B0BEC5",
                "#B0BEC5",
                "#B0BEC5",
                "#B0BEC5",
                "#B0BEC5",
                "#B0BEC5",
                "#B0BEC5"
               ]
              ]
             }
            ],
            "label": "Topic 46",
            "method": "update"
           },
           {
            "args": [
             {
              "marker.color": [
               [
                "#B0BEC5",
                "#B0BEC5",
                "#B0BEC5",
                "#B0BEC5",
                "#B0BEC5",
                "#B0BEC5",
                "#B0BEC5",
                "#B0BEC5",
                "#B0BEC5",
                "#B0BEC5",
                "#B0BEC5",
                "#B0BEC5",
                "#B0BEC5",
                "#B0BEC5",
                "#B0BEC5",
                "#B0BEC5",
                "#B0BEC5",
                "#B0BEC5",
                "#B0BEC5",
                "#B0BEC5",
                "#B0BEC5",
                "#B0BEC5",
                "#B0BEC5",
                "#B0BEC5",
                "#B0BEC5",
                "#B0BEC5",
                "#B0BEC5",
                "#B0BEC5",
                "#B0BEC5",
                "#B0BEC5",
                "#B0BEC5",
                "#B0BEC5",
                "#B0BEC5",
                "#B0BEC5",
                "#B0BEC5",
                "#B0BEC5",
                "#B0BEC5",
                "#B0BEC5",
                "#B0BEC5",
                "#B0BEC5",
                "#B0BEC5",
                "#B0BEC5",
                "#B0BEC5",
                "#B0BEC5",
                "#B0BEC5",
                "#B0BEC5",
                "red",
                "#B0BEC5",
                "#B0BEC5",
                "#B0BEC5",
                "#B0BEC5",
                "#B0BEC5",
                "#B0BEC5",
                "#B0BEC5",
                "#B0BEC5",
                "#B0BEC5",
                "#B0BEC5",
                "#B0BEC5",
                "#B0BEC5",
                "#B0BEC5",
                "#B0BEC5",
                "#B0BEC5",
                "#B0BEC5",
                "#B0BEC5",
                "#B0BEC5",
                "#B0BEC5",
                "#B0BEC5",
                "#B0BEC5",
                "#B0BEC5",
                "#B0BEC5",
                "#B0BEC5",
                "#B0BEC5",
                "#B0BEC5",
                "#B0BEC5",
                "#B0BEC5",
                "#B0BEC5",
                "#B0BEC5",
                "#B0BEC5",
                "#B0BEC5"
               ]
              ]
             }
            ],
            "label": "Topic 47",
            "method": "update"
           },
           {
            "args": [
             {
              "marker.color": [
               [
                "#B0BEC5",
                "#B0BEC5",
                "#B0BEC5",
                "#B0BEC5",
                "#B0BEC5",
                "#B0BEC5",
                "#B0BEC5",
                "#B0BEC5",
                "#B0BEC5",
                "#B0BEC5",
                "#B0BEC5",
                "#B0BEC5",
                "#B0BEC5",
                "#B0BEC5",
                "#B0BEC5",
                "#B0BEC5",
                "#B0BEC5",
                "#B0BEC5",
                "#B0BEC5",
                "#B0BEC5",
                "#B0BEC5",
                "#B0BEC5",
                "#B0BEC5",
                "#B0BEC5",
                "#B0BEC5",
                "#B0BEC5",
                "#B0BEC5",
                "#B0BEC5",
                "#B0BEC5",
                "#B0BEC5",
                "#B0BEC5",
                "#B0BEC5",
                "#B0BEC5",
                "#B0BEC5",
                "#B0BEC5",
                "#B0BEC5",
                "#B0BEC5",
                "#B0BEC5",
                "#B0BEC5",
                "#B0BEC5",
                "#B0BEC5",
                "#B0BEC5",
                "#B0BEC5",
                "#B0BEC5",
                "#B0BEC5",
                "#B0BEC5",
                "#B0BEC5",
                "red",
                "#B0BEC5",
                "#B0BEC5",
                "#B0BEC5",
                "#B0BEC5",
                "#B0BEC5",
                "#B0BEC5",
                "#B0BEC5",
                "#B0BEC5",
                "#B0BEC5",
                "#B0BEC5",
                "#B0BEC5",
                "#B0BEC5",
                "#B0BEC5",
                "#B0BEC5",
                "#B0BEC5",
                "#B0BEC5",
                "#B0BEC5",
                "#B0BEC5",
                "#B0BEC5",
                "#B0BEC5",
                "#B0BEC5",
                "#B0BEC5",
                "#B0BEC5",
                "#B0BEC5",
                "#B0BEC5",
                "#B0BEC5",
                "#B0BEC5",
                "#B0BEC5",
                "#B0BEC5",
                "#B0BEC5",
                "#B0BEC5"
               ]
              ]
             }
            ],
            "label": "Topic 48",
            "method": "update"
           },
           {
            "args": [
             {
              "marker.color": [
               [
                "#B0BEC5",
                "#B0BEC5",
                "#B0BEC5",
                "#B0BEC5",
                "#B0BEC5",
                "#B0BEC5",
                "#B0BEC5",
                "#B0BEC5",
                "#B0BEC5",
                "#B0BEC5",
                "#B0BEC5",
                "#B0BEC5",
                "#B0BEC5",
                "#B0BEC5",
                "#B0BEC5",
                "#B0BEC5",
                "#B0BEC5",
                "#B0BEC5",
                "#B0BEC5",
                "#B0BEC5",
                "#B0BEC5",
                "#B0BEC5",
                "#B0BEC5",
                "#B0BEC5",
                "#B0BEC5",
                "#B0BEC5",
                "#B0BEC5",
                "#B0BEC5",
                "#B0BEC5",
                "#B0BEC5",
                "#B0BEC5",
                "#B0BEC5",
                "#B0BEC5",
                "#B0BEC5",
                "#B0BEC5",
                "#B0BEC5",
                "#B0BEC5",
                "#B0BEC5",
                "#B0BEC5",
                "#B0BEC5",
                "#B0BEC5",
                "#B0BEC5",
                "#B0BEC5",
                "#B0BEC5",
                "#B0BEC5",
                "#B0BEC5",
                "#B0BEC5",
                "#B0BEC5",
                "red",
                "#B0BEC5",
                "#B0BEC5",
                "#B0BEC5",
                "#B0BEC5",
                "#B0BEC5",
                "#B0BEC5",
                "#B0BEC5",
                "#B0BEC5",
                "#B0BEC5",
                "#B0BEC5",
                "#B0BEC5",
                "#B0BEC5",
                "#B0BEC5",
                "#B0BEC5",
                "#B0BEC5",
                "#B0BEC5",
                "#B0BEC5",
                "#B0BEC5",
                "#B0BEC5",
                "#B0BEC5",
                "#B0BEC5",
                "#B0BEC5",
                "#B0BEC5",
                "#B0BEC5",
                "#B0BEC5",
                "#B0BEC5",
                "#B0BEC5",
                "#B0BEC5",
                "#B0BEC5",
                "#B0BEC5"
               ]
              ]
             }
            ],
            "label": "Topic 49",
            "method": "update"
           },
           {
            "args": [
             {
              "marker.color": [
               [
                "#B0BEC5",
                "#B0BEC5",
                "#B0BEC5",
                "#B0BEC5",
                "#B0BEC5",
                "#B0BEC5",
                "#B0BEC5",
                "#B0BEC5",
                "#B0BEC5",
                "#B0BEC5",
                "#B0BEC5",
                "#B0BEC5",
                "#B0BEC5",
                "#B0BEC5",
                "#B0BEC5",
                "#B0BEC5",
                "#B0BEC5",
                "#B0BEC5",
                "#B0BEC5",
                "#B0BEC5",
                "#B0BEC5",
                "#B0BEC5",
                "#B0BEC5",
                "#B0BEC5",
                "#B0BEC5",
                "#B0BEC5",
                "#B0BEC5",
                "#B0BEC5",
                "#B0BEC5",
                "#B0BEC5",
                "#B0BEC5",
                "#B0BEC5",
                "#B0BEC5",
                "#B0BEC5",
                "#B0BEC5",
                "#B0BEC5",
                "#B0BEC5",
                "#B0BEC5",
                "#B0BEC5",
                "#B0BEC5",
                "#B0BEC5",
                "#B0BEC5",
                "#B0BEC5",
                "#B0BEC5",
                "#B0BEC5",
                "#B0BEC5",
                "#B0BEC5",
                "#B0BEC5",
                "#B0BEC5",
                "red",
                "#B0BEC5",
                "#B0BEC5",
                "#B0BEC5",
                "#B0BEC5",
                "#B0BEC5",
                "#B0BEC5",
                "#B0BEC5",
                "#B0BEC5",
                "#B0BEC5",
                "#B0BEC5",
                "#B0BEC5",
                "#B0BEC5",
                "#B0BEC5",
                "#B0BEC5",
                "#B0BEC5",
                "#B0BEC5",
                "#B0BEC5",
                "#B0BEC5",
                "#B0BEC5",
                "#B0BEC5",
                "#B0BEC5",
                "#B0BEC5",
                "#B0BEC5",
                "#B0BEC5",
                "#B0BEC5",
                "#B0BEC5",
                "#B0BEC5",
                "#B0BEC5",
                "#B0BEC5"
               ]
              ]
             }
            ],
            "label": "Topic 50",
            "method": "update"
           },
           {
            "args": [
             {
              "marker.color": [
               [
                "#B0BEC5",
                "#B0BEC5",
                "#B0BEC5",
                "#B0BEC5",
                "#B0BEC5",
                "#B0BEC5",
                "#B0BEC5",
                "#B0BEC5",
                "#B0BEC5",
                "#B0BEC5",
                "#B0BEC5",
                "#B0BEC5",
                "#B0BEC5",
                "#B0BEC5",
                "#B0BEC5",
                "#B0BEC5",
                "#B0BEC5",
                "#B0BEC5",
                "#B0BEC5",
                "#B0BEC5",
                "#B0BEC5",
                "#B0BEC5",
                "#B0BEC5",
                "#B0BEC5",
                "#B0BEC5",
                "#B0BEC5",
                "#B0BEC5",
                "#B0BEC5",
                "#B0BEC5",
                "#B0BEC5",
                "#B0BEC5",
                "#B0BEC5",
                "#B0BEC5",
                "#B0BEC5",
                "#B0BEC5",
                "#B0BEC5",
                "#B0BEC5",
                "#B0BEC5",
                "#B0BEC5",
                "#B0BEC5",
                "#B0BEC5",
                "#B0BEC5",
                "#B0BEC5",
                "#B0BEC5",
                "#B0BEC5",
                "#B0BEC5",
                "#B0BEC5",
                "#B0BEC5",
                "#B0BEC5",
                "#B0BEC5",
                "red",
                "#B0BEC5",
                "#B0BEC5",
                "#B0BEC5",
                "#B0BEC5",
                "#B0BEC5",
                "#B0BEC5",
                "#B0BEC5",
                "#B0BEC5",
                "#B0BEC5",
                "#B0BEC5",
                "#B0BEC5",
                "#B0BEC5",
                "#B0BEC5",
                "#B0BEC5",
                "#B0BEC5",
                "#B0BEC5",
                "#B0BEC5",
                "#B0BEC5",
                "#B0BEC5",
                "#B0BEC5",
                "#B0BEC5",
                "#B0BEC5",
                "#B0BEC5",
                "#B0BEC5",
                "#B0BEC5",
                "#B0BEC5",
                "#B0BEC5",
                "#B0BEC5"
               ]
              ]
             }
            ],
            "label": "Topic 51",
            "method": "update"
           },
           {
            "args": [
             {
              "marker.color": [
               [
                "#B0BEC5",
                "#B0BEC5",
                "#B0BEC5",
                "#B0BEC5",
                "#B0BEC5",
                "#B0BEC5",
                "#B0BEC5",
                "#B0BEC5",
                "#B0BEC5",
                "#B0BEC5",
                "#B0BEC5",
                "#B0BEC5",
                "#B0BEC5",
                "#B0BEC5",
                "#B0BEC5",
                "#B0BEC5",
                "#B0BEC5",
                "#B0BEC5",
                "#B0BEC5",
                "#B0BEC5",
                "#B0BEC5",
                "#B0BEC5",
                "#B0BEC5",
                "#B0BEC5",
                "#B0BEC5",
                "#B0BEC5",
                "#B0BEC5",
                "#B0BEC5",
                "#B0BEC5",
                "#B0BEC5",
                "#B0BEC5",
                "#B0BEC5",
                "#B0BEC5",
                "#B0BEC5",
                "#B0BEC5",
                "#B0BEC5",
                "#B0BEC5",
                "#B0BEC5",
                "#B0BEC5",
                "#B0BEC5",
                "#B0BEC5",
                "#B0BEC5",
                "#B0BEC5",
                "#B0BEC5",
                "#B0BEC5",
                "#B0BEC5",
                "#B0BEC5",
                "#B0BEC5",
                "#B0BEC5",
                "#B0BEC5",
                "#B0BEC5",
                "red",
                "#B0BEC5",
                "#B0BEC5",
                "#B0BEC5",
                "#B0BEC5",
                "#B0BEC5",
                "#B0BEC5",
                "#B0BEC5",
                "#B0BEC5",
                "#B0BEC5",
                "#B0BEC5",
                "#B0BEC5",
                "#B0BEC5",
                "#B0BEC5",
                "#B0BEC5",
                "#B0BEC5",
                "#B0BEC5",
                "#B0BEC5",
                "#B0BEC5",
                "#B0BEC5",
                "#B0BEC5",
                "#B0BEC5",
                "#B0BEC5",
                "#B0BEC5",
                "#B0BEC5",
                "#B0BEC5",
                "#B0BEC5",
                "#B0BEC5"
               ]
              ]
             }
            ],
            "label": "Topic 52",
            "method": "update"
           },
           {
            "args": [
             {
              "marker.color": [
               [
                "#B0BEC5",
                "#B0BEC5",
                "#B0BEC5",
                "#B0BEC5",
                "#B0BEC5",
                "#B0BEC5",
                "#B0BEC5",
                "#B0BEC5",
                "#B0BEC5",
                "#B0BEC5",
                "#B0BEC5",
                "#B0BEC5",
                "#B0BEC5",
                "#B0BEC5",
                "#B0BEC5",
                "#B0BEC5",
                "#B0BEC5",
                "#B0BEC5",
                "#B0BEC5",
                "#B0BEC5",
                "#B0BEC5",
                "#B0BEC5",
                "#B0BEC5",
                "#B0BEC5",
                "#B0BEC5",
                "#B0BEC5",
                "#B0BEC5",
                "#B0BEC5",
                "#B0BEC5",
                "#B0BEC5",
                "#B0BEC5",
                "#B0BEC5",
                "#B0BEC5",
                "#B0BEC5",
                "#B0BEC5",
                "#B0BEC5",
                "#B0BEC5",
                "#B0BEC5",
                "#B0BEC5",
                "#B0BEC5",
                "#B0BEC5",
                "#B0BEC5",
                "#B0BEC5",
                "#B0BEC5",
                "#B0BEC5",
                "#B0BEC5",
                "#B0BEC5",
                "#B0BEC5",
                "#B0BEC5",
                "#B0BEC5",
                "#B0BEC5",
                "#B0BEC5",
                "red",
                "#B0BEC5",
                "#B0BEC5",
                "#B0BEC5",
                "#B0BEC5",
                "#B0BEC5",
                "#B0BEC5",
                "#B0BEC5",
                "#B0BEC5",
                "#B0BEC5",
                "#B0BEC5",
                "#B0BEC5",
                "#B0BEC5",
                "#B0BEC5",
                "#B0BEC5",
                "#B0BEC5",
                "#B0BEC5",
                "#B0BEC5",
                "#B0BEC5",
                "#B0BEC5",
                "#B0BEC5",
                "#B0BEC5",
                "#B0BEC5",
                "#B0BEC5",
                "#B0BEC5",
                "#B0BEC5",
                "#B0BEC5"
               ]
              ]
             }
            ],
            "label": "Topic 53",
            "method": "update"
           },
           {
            "args": [
             {
              "marker.color": [
               [
                "#B0BEC5",
                "#B0BEC5",
                "#B0BEC5",
                "#B0BEC5",
                "#B0BEC5",
                "#B0BEC5",
                "#B0BEC5",
                "#B0BEC5",
                "#B0BEC5",
                "#B0BEC5",
                "#B0BEC5",
                "#B0BEC5",
                "#B0BEC5",
                "#B0BEC5",
                "#B0BEC5",
                "#B0BEC5",
                "#B0BEC5",
                "#B0BEC5",
                "#B0BEC5",
                "#B0BEC5",
                "#B0BEC5",
                "#B0BEC5",
                "#B0BEC5",
                "#B0BEC5",
                "#B0BEC5",
                "#B0BEC5",
                "#B0BEC5",
                "#B0BEC5",
                "#B0BEC5",
                "#B0BEC5",
                "#B0BEC5",
                "#B0BEC5",
                "#B0BEC5",
                "#B0BEC5",
                "#B0BEC5",
                "#B0BEC5",
                "#B0BEC5",
                "#B0BEC5",
                "#B0BEC5",
                "#B0BEC5",
                "#B0BEC5",
                "#B0BEC5",
                "#B0BEC5",
                "#B0BEC5",
                "#B0BEC5",
                "#B0BEC5",
                "#B0BEC5",
                "#B0BEC5",
                "#B0BEC5",
                "#B0BEC5",
                "#B0BEC5",
                "#B0BEC5",
                "#B0BEC5",
                "red",
                "#B0BEC5",
                "#B0BEC5",
                "#B0BEC5",
                "#B0BEC5",
                "#B0BEC5",
                "#B0BEC5",
                "#B0BEC5",
                "#B0BEC5",
                "#B0BEC5",
                "#B0BEC5",
                "#B0BEC5",
                "#B0BEC5",
                "#B0BEC5",
                "#B0BEC5",
                "#B0BEC5",
                "#B0BEC5",
                "#B0BEC5",
                "#B0BEC5",
                "#B0BEC5",
                "#B0BEC5",
                "#B0BEC5",
                "#B0BEC5",
                "#B0BEC5",
                "#B0BEC5",
                "#B0BEC5"
               ]
              ]
             }
            ],
            "label": "Topic 54",
            "method": "update"
           },
           {
            "args": [
             {
              "marker.color": [
               [
                "#B0BEC5",
                "#B0BEC5",
                "#B0BEC5",
                "#B0BEC5",
                "#B0BEC5",
                "#B0BEC5",
                "#B0BEC5",
                "#B0BEC5",
                "#B0BEC5",
                "#B0BEC5",
                "#B0BEC5",
                "#B0BEC5",
                "#B0BEC5",
                "#B0BEC5",
                "#B0BEC5",
                "#B0BEC5",
                "#B0BEC5",
                "#B0BEC5",
                "#B0BEC5",
                "#B0BEC5",
                "#B0BEC5",
                "#B0BEC5",
                "#B0BEC5",
                "#B0BEC5",
                "#B0BEC5",
                "#B0BEC5",
                "#B0BEC5",
                "#B0BEC5",
                "#B0BEC5",
                "#B0BEC5",
                "#B0BEC5",
                "#B0BEC5",
                "#B0BEC5",
                "#B0BEC5",
                "#B0BEC5",
                "#B0BEC5",
                "#B0BEC5",
                "#B0BEC5",
                "#B0BEC5",
                "#B0BEC5",
                "#B0BEC5",
                "#B0BEC5",
                "#B0BEC5",
                "#B0BEC5",
                "#B0BEC5",
                "#B0BEC5",
                "#B0BEC5",
                "#B0BEC5",
                "#B0BEC5",
                "#B0BEC5",
                "#B0BEC5",
                "#B0BEC5",
                "#B0BEC5",
                "#B0BEC5",
                "red",
                "#B0BEC5",
                "#B0BEC5",
                "#B0BEC5",
                "#B0BEC5",
                "#B0BEC5",
                "#B0BEC5",
                "#B0BEC5",
                "#B0BEC5",
                "#B0BEC5",
                "#B0BEC5",
                "#B0BEC5",
                "#B0BEC5",
                "#B0BEC5",
                "#B0BEC5",
                "#B0BEC5",
                "#B0BEC5",
                "#B0BEC5",
                "#B0BEC5",
                "#B0BEC5",
                "#B0BEC5",
                "#B0BEC5",
                "#B0BEC5",
                "#B0BEC5",
                "#B0BEC5"
               ]
              ]
             }
            ],
            "label": "Topic 55",
            "method": "update"
           },
           {
            "args": [
             {
              "marker.color": [
               [
                "#B0BEC5",
                "#B0BEC5",
                "#B0BEC5",
                "#B0BEC5",
                "#B0BEC5",
                "#B0BEC5",
                "#B0BEC5",
                "#B0BEC5",
                "#B0BEC5",
                "#B0BEC5",
                "#B0BEC5",
                "#B0BEC5",
                "#B0BEC5",
                "#B0BEC5",
                "#B0BEC5",
                "#B0BEC5",
                "#B0BEC5",
                "#B0BEC5",
                "#B0BEC5",
                "#B0BEC5",
                "#B0BEC5",
                "#B0BEC5",
                "#B0BEC5",
                "#B0BEC5",
                "#B0BEC5",
                "#B0BEC5",
                "#B0BEC5",
                "#B0BEC5",
                "#B0BEC5",
                "#B0BEC5",
                "#B0BEC5",
                "#B0BEC5",
                "#B0BEC5",
                "#B0BEC5",
                "#B0BEC5",
                "#B0BEC5",
                "#B0BEC5",
                "#B0BEC5",
                "#B0BEC5",
                "#B0BEC5",
                "#B0BEC5",
                "#B0BEC5",
                "#B0BEC5",
                "#B0BEC5",
                "#B0BEC5",
                "#B0BEC5",
                "#B0BEC5",
                "#B0BEC5",
                "#B0BEC5",
                "#B0BEC5",
                "#B0BEC5",
                "#B0BEC5",
                "#B0BEC5",
                "#B0BEC5",
                "#B0BEC5",
                "red",
                "#B0BEC5",
                "#B0BEC5",
                "#B0BEC5",
                "#B0BEC5",
                "#B0BEC5",
                "#B0BEC5",
                "#B0BEC5",
                "#B0BEC5",
                "#B0BEC5",
                "#B0BEC5",
                "#B0BEC5",
                "#B0BEC5",
                "#B0BEC5",
                "#B0BEC5",
                "#B0BEC5",
                "#B0BEC5",
                "#B0BEC5",
                "#B0BEC5",
                "#B0BEC5",
                "#B0BEC5",
                "#B0BEC5",
                "#B0BEC5",
                "#B0BEC5"
               ]
              ]
             }
            ],
            "label": "Topic 56",
            "method": "update"
           },
           {
            "args": [
             {
              "marker.color": [
               [
                "#B0BEC5",
                "#B0BEC5",
                "#B0BEC5",
                "#B0BEC5",
                "#B0BEC5",
                "#B0BEC5",
                "#B0BEC5",
                "#B0BEC5",
                "#B0BEC5",
                "#B0BEC5",
                "#B0BEC5",
                "#B0BEC5",
                "#B0BEC5",
                "#B0BEC5",
                "#B0BEC5",
                "#B0BEC5",
                "#B0BEC5",
                "#B0BEC5",
                "#B0BEC5",
                "#B0BEC5",
                "#B0BEC5",
                "#B0BEC5",
                "#B0BEC5",
                "#B0BEC5",
                "#B0BEC5",
                "#B0BEC5",
                "#B0BEC5",
                "#B0BEC5",
                "#B0BEC5",
                "#B0BEC5",
                "#B0BEC5",
                "#B0BEC5",
                "#B0BEC5",
                "#B0BEC5",
                "#B0BEC5",
                "#B0BEC5",
                "#B0BEC5",
                "#B0BEC5",
                "#B0BEC5",
                "#B0BEC5",
                "#B0BEC5",
                "#B0BEC5",
                "#B0BEC5",
                "#B0BEC5",
                "#B0BEC5",
                "#B0BEC5",
                "#B0BEC5",
                "#B0BEC5",
                "#B0BEC5",
                "#B0BEC5",
                "#B0BEC5",
                "#B0BEC5",
                "#B0BEC5",
                "#B0BEC5",
                "#B0BEC5",
                "#B0BEC5",
                "red",
                "#B0BEC5",
                "#B0BEC5",
                "#B0BEC5",
                "#B0BEC5",
                "#B0BEC5",
                "#B0BEC5",
                "#B0BEC5",
                "#B0BEC5",
                "#B0BEC5",
                "#B0BEC5",
                "#B0BEC5",
                "#B0BEC5",
                "#B0BEC5",
                "#B0BEC5",
                "#B0BEC5",
                "#B0BEC5",
                "#B0BEC5",
                "#B0BEC5",
                "#B0BEC5",
                "#B0BEC5",
                "#B0BEC5",
                "#B0BEC5"
               ]
              ]
             }
            ],
            "label": "Topic 57",
            "method": "update"
           },
           {
            "args": [
             {
              "marker.color": [
               [
                "#B0BEC5",
                "#B0BEC5",
                "#B0BEC5",
                "#B0BEC5",
                "#B0BEC5",
                "#B0BEC5",
                "#B0BEC5",
                "#B0BEC5",
                "#B0BEC5",
                "#B0BEC5",
                "#B0BEC5",
                "#B0BEC5",
                "#B0BEC5",
                "#B0BEC5",
                "#B0BEC5",
                "#B0BEC5",
                "#B0BEC5",
                "#B0BEC5",
                "#B0BEC5",
                "#B0BEC5",
                "#B0BEC5",
                "#B0BEC5",
                "#B0BEC5",
                "#B0BEC5",
                "#B0BEC5",
                "#B0BEC5",
                "#B0BEC5",
                "#B0BEC5",
                "#B0BEC5",
                "#B0BEC5",
                "#B0BEC5",
                "#B0BEC5",
                "#B0BEC5",
                "#B0BEC5",
                "#B0BEC5",
                "#B0BEC5",
                "#B0BEC5",
                "#B0BEC5",
                "#B0BEC5",
                "#B0BEC5",
                "#B0BEC5",
                "#B0BEC5",
                "#B0BEC5",
                "#B0BEC5",
                "#B0BEC5",
                "#B0BEC5",
                "#B0BEC5",
                "#B0BEC5",
                "#B0BEC5",
                "#B0BEC5",
                "#B0BEC5",
                "#B0BEC5",
                "#B0BEC5",
                "#B0BEC5",
                "#B0BEC5",
                "#B0BEC5",
                "#B0BEC5",
                "red",
                "#B0BEC5",
                "#B0BEC5",
                "#B0BEC5",
                "#B0BEC5",
                "#B0BEC5",
                "#B0BEC5",
                "#B0BEC5",
                "#B0BEC5",
                "#B0BEC5",
                "#B0BEC5",
                "#B0BEC5",
                "#B0BEC5",
                "#B0BEC5",
                "#B0BEC5",
                "#B0BEC5",
                "#B0BEC5",
                "#B0BEC5",
                "#B0BEC5",
                "#B0BEC5",
                "#B0BEC5",
                "#B0BEC5"
               ]
              ]
             }
            ],
            "label": "Topic 58",
            "method": "update"
           },
           {
            "args": [
             {
              "marker.color": [
               [
                "#B0BEC5",
                "#B0BEC5",
                "#B0BEC5",
                "#B0BEC5",
                "#B0BEC5",
                "#B0BEC5",
                "#B0BEC5",
                "#B0BEC5",
                "#B0BEC5",
                "#B0BEC5",
                "#B0BEC5",
                "#B0BEC5",
                "#B0BEC5",
                "#B0BEC5",
                "#B0BEC5",
                "#B0BEC5",
                "#B0BEC5",
                "#B0BEC5",
                "#B0BEC5",
                "#B0BEC5",
                "#B0BEC5",
                "#B0BEC5",
                "#B0BEC5",
                "#B0BEC5",
                "#B0BEC5",
                "#B0BEC5",
                "#B0BEC5",
                "#B0BEC5",
                "#B0BEC5",
                "#B0BEC5",
                "#B0BEC5",
                "#B0BEC5",
                "#B0BEC5",
                "#B0BEC5",
                "#B0BEC5",
                "#B0BEC5",
                "#B0BEC5",
                "#B0BEC5",
                "#B0BEC5",
                "#B0BEC5",
                "#B0BEC5",
                "#B0BEC5",
                "#B0BEC5",
                "#B0BEC5",
                "#B0BEC5",
                "#B0BEC5",
                "#B0BEC5",
                "#B0BEC5",
                "#B0BEC5",
                "#B0BEC5",
                "#B0BEC5",
                "#B0BEC5",
                "#B0BEC5",
                "#B0BEC5",
                "#B0BEC5",
                "#B0BEC5",
                "#B0BEC5",
                "#B0BEC5",
                "red",
                "#B0BEC5",
                "#B0BEC5",
                "#B0BEC5",
                "#B0BEC5",
                "#B0BEC5",
                "#B0BEC5",
                "#B0BEC5",
                "#B0BEC5",
                "#B0BEC5",
                "#B0BEC5",
                "#B0BEC5",
                "#B0BEC5",
                "#B0BEC5",
                "#B0BEC5",
                "#B0BEC5",
                "#B0BEC5",
                "#B0BEC5",
                "#B0BEC5",
                "#B0BEC5",
                "#B0BEC5"
               ]
              ]
             }
            ],
            "label": "Topic 59",
            "method": "update"
           },
           {
            "args": [
             {
              "marker.color": [
               [
                "#B0BEC5",
                "#B0BEC5",
                "#B0BEC5",
                "#B0BEC5",
                "#B0BEC5",
                "#B0BEC5",
                "#B0BEC5",
                "#B0BEC5",
                "#B0BEC5",
                "#B0BEC5",
                "#B0BEC5",
                "#B0BEC5",
                "#B0BEC5",
                "#B0BEC5",
                "#B0BEC5",
                "#B0BEC5",
                "#B0BEC5",
                "#B0BEC5",
                "#B0BEC5",
                "#B0BEC5",
                "#B0BEC5",
                "#B0BEC5",
                "#B0BEC5",
                "#B0BEC5",
                "#B0BEC5",
                "#B0BEC5",
                "#B0BEC5",
                "#B0BEC5",
                "#B0BEC5",
                "#B0BEC5",
                "#B0BEC5",
                "#B0BEC5",
                "#B0BEC5",
                "#B0BEC5",
                "#B0BEC5",
                "#B0BEC5",
                "#B0BEC5",
                "#B0BEC5",
                "#B0BEC5",
                "#B0BEC5",
                "#B0BEC5",
                "#B0BEC5",
                "#B0BEC5",
                "#B0BEC5",
                "#B0BEC5",
                "#B0BEC5",
                "#B0BEC5",
                "#B0BEC5",
                "#B0BEC5",
                "#B0BEC5",
                "#B0BEC5",
                "#B0BEC5",
                "#B0BEC5",
                "#B0BEC5",
                "#B0BEC5",
                "#B0BEC5",
                "#B0BEC5",
                "#B0BEC5",
                "#B0BEC5",
                "red",
                "#B0BEC5",
                "#B0BEC5",
                "#B0BEC5",
                "#B0BEC5",
                "#B0BEC5",
                "#B0BEC5",
                "#B0BEC5",
                "#B0BEC5",
                "#B0BEC5",
                "#B0BEC5",
                "#B0BEC5",
                "#B0BEC5",
                "#B0BEC5",
                "#B0BEC5",
                "#B0BEC5",
                "#B0BEC5",
                "#B0BEC5",
                "#B0BEC5",
                "#B0BEC5"
               ]
              ]
             }
            ],
            "label": "Topic 60",
            "method": "update"
           },
           {
            "args": [
             {
              "marker.color": [
               [
                "#B0BEC5",
                "#B0BEC5",
                "#B0BEC5",
                "#B0BEC5",
                "#B0BEC5",
                "#B0BEC5",
                "#B0BEC5",
                "#B0BEC5",
                "#B0BEC5",
                "#B0BEC5",
                "#B0BEC5",
                "#B0BEC5",
                "#B0BEC5",
                "#B0BEC5",
                "#B0BEC5",
                "#B0BEC5",
                "#B0BEC5",
                "#B0BEC5",
                "#B0BEC5",
                "#B0BEC5",
                "#B0BEC5",
                "#B0BEC5",
                "#B0BEC5",
                "#B0BEC5",
                "#B0BEC5",
                "#B0BEC5",
                "#B0BEC5",
                "#B0BEC5",
                "#B0BEC5",
                "#B0BEC5",
                "#B0BEC5",
                "#B0BEC5",
                "#B0BEC5",
                "#B0BEC5",
                "#B0BEC5",
                "#B0BEC5",
                "#B0BEC5",
                "#B0BEC5",
                "#B0BEC5",
                "#B0BEC5",
                "#B0BEC5",
                "#B0BEC5",
                "#B0BEC5",
                "#B0BEC5",
                "#B0BEC5",
                "#B0BEC5",
                "#B0BEC5",
                "#B0BEC5",
                "#B0BEC5",
                "#B0BEC5",
                "#B0BEC5",
                "#B0BEC5",
                "#B0BEC5",
                "#B0BEC5",
                "#B0BEC5",
                "#B0BEC5",
                "#B0BEC5",
                "#B0BEC5",
                "#B0BEC5",
                "#B0BEC5",
                "red",
                "#B0BEC5",
                "#B0BEC5",
                "#B0BEC5",
                "#B0BEC5",
                "#B0BEC5",
                "#B0BEC5",
                "#B0BEC5",
                "#B0BEC5",
                "#B0BEC5",
                "#B0BEC5",
                "#B0BEC5",
                "#B0BEC5",
                "#B0BEC5",
                "#B0BEC5",
                "#B0BEC5",
                "#B0BEC5",
                "#B0BEC5",
                "#B0BEC5"
               ]
              ]
             }
            ],
            "label": "Topic 61",
            "method": "update"
           },
           {
            "args": [
             {
              "marker.color": [
               [
                "#B0BEC5",
                "#B0BEC5",
                "#B0BEC5",
                "#B0BEC5",
                "#B0BEC5",
                "#B0BEC5",
                "#B0BEC5",
                "#B0BEC5",
                "#B0BEC5",
                "#B0BEC5",
                "#B0BEC5",
                "#B0BEC5",
                "#B0BEC5",
                "#B0BEC5",
                "#B0BEC5",
                "#B0BEC5",
                "#B0BEC5",
                "#B0BEC5",
                "#B0BEC5",
                "#B0BEC5",
                "#B0BEC5",
                "#B0BEC5",
                "#B0BEC5",
                "#B0BEC5",
                "#B0BEC5",
                "#B0BEC5",
                "#B0BEC5",
                "#B0BEC5",
                "#B0BEC5",
                "#B0BEC5",
                "#B0BEC5",
                "#B0BEC5",
                "#B0BEC5",
                "#B0BEC5",
                "#B0BEC5",
                "#B0BEC5",
                "#B0BEC5",
                "#B0BEC5",
                "#B0BEC5",
                "#B0BEC5",
                "#B0BEC5",
                "#B0BEC5",
                "#B0BEC5",
                "#B0BEC5",
                "#B0BEC5",
                "#B0BEC5",
                "#B0BEC5",
                "#B0BEC5",
                "#B0BEC5",
                "#B0BEC5",
                "#B0BEC5",
                "#B0BEC5",
                "#B0BEC5",
                "#B0BEC5",
                "#B0BEC5",
                "#B0BEC5",
                "#B0BEC5",
                "#B0BEC5",
                "#B0BEC5",
                "#B0BEC5",
                "#B0BEC5",
                "red",
                "#B0BEC5",
                "#B0BEC5",
                "#B0BEC5",
                "#B0BEC5",
                "#B0BEC5",
                "#B0BEC5",
                "#B0BEC5",
                "#B0BEC5",
                "#B0BEC5",
                "#B0BEC5",
                "#B0BEC5",
                "#B0BEC5",
                "#B0BEC5",
                "#B0BEC5",
                "#B0BEC5",
                "#B0BEC5",
                "#B0BEC5"
               ]
              ]
             }
            ],
            "label": "Topic 62",
            "method": "update"
           },
           {
            "args": [
             {
              "marker.color": [
               [
                "#B0BEC5",
                "#B0BEC5",
                "#B0BEC5",
                "#B0BEC5",
                "#B0BEC5",
                "#B0BEC5",
                "#B0BEC5",
                "#B0BEC5",
                "#B0BEC5",
                "#B0BEC5",
                "#B0BEC5",
                "#B0BEC5",
                "#B0BEC5",
                "#B0BEC5",
                "#B0BEC5",
                "#B0BEC5",
                "#B0BEC5",
                "#B0BEC5",
                "#B0BEC5",
                "#B0BEC5",
                "#B0BEC5",
                "#B0BEC5",
                "#B0BEC5",
                "#B0BEC5",
                "#B0BEC5",
                "#B0BEC5",
                "#B0BEC5",
                "#B0BEC5",
                "#B0BEC5",
                "#B0BEC5",
                "#B0BEC5",
                "#B0BEC5",
                "#B0BEC5",
                "#B0BEC5",
                "#B0BEC5",
                "#B0BEC5",
                "#B0BEC5",
                "#B0BEC5",
                "#B0BEC5",
                "#B0BEC5",
                "#B0BEC5",
                "#B0BEC5",
                "#B0BEC5",
                "#B0BEC5",
                "#B0BEC5",
                "#B0BEC5",
                "#B0BEC5",
                "#B0BEC5",
                "#B0BEC5",
                "#B0BEC5",
                "#B0BEC5",
                "#B0BEC5",
                "#B0BEC5",
                "#B0BEC5",
                "#B0BEC5",
                "#B0BEC5",
                "#B0BEC5",
                "#B0BEC5",
                "#B0BEC5",
                "#B0BEC5",
                "#B0BEC5",
                "#B0BEC5",
                "red",
                "#B0BEC5",
                "#B0BEC5",
                "#B0BEC5",
                "#B0BEC5",
                "#B0BEC5",
                "#B0BEC5",
                "#B0BEC5",
                "#B0BEC5",
                "#B0BEC5",
                "#B0BEC5",
                "#B0BEC5",
                "#B0BEC5",
                "#B0BEC5",
                "#B0BEC5",
                "#B0BEC5",
                "#B0BEC5"
               ]
              ]
             }
            ],
            "label": "Topic 63",
            "method": "update"
           },
           {
            "args": [
             {
              "marker.color": [
               [
                "#B0BEC5",
                "#B0BEC5",
                "#B0BEC5",
                "#B0BEC5",
                "#B0BEC5",
                "#B0BEC5",
                "#B0BEC5",
                "#B0BEC5",
                "#B0BEC5",
                "#B0BEC5",
                "#B0BEC5",
                "#B0BEC5",
                "#B0BEC5",
                "#B0BEC5",
                "#B0BEC5",
                "#B0BEC5",
                "#B0BEC5",
                "#B0BEC5",
                "#B0BEC5",
                "#B0BEC5",
                "#B0BEC5",
                "#B0BEC5",
                "#B0BEC5",
                "#B0BEC5",
                "#B0BEC5",
                "#B0BEC5",
                "#B0BEC5",
                "#B0BEC5",
                "#B0BEC5",
                "#B0BEC5",
                "#B0BEC5",
                "#B0BEC5",
                "#B0BEC5",
                "#B0BEC5",
                "#B0BEC5",
                "#B0BEC5",
                "#B0BEC5",
                "#B0BEC5",
                "#B0BEC5",
                "#B0BEC5",
                "#B0BEC5",
                "#B0BEC5",
                "#B0BEC5",
                "#B0BEC5",
                "#B0BEC5",
                "#B0BEC5",
                "#B0BEC5",
                "#B0BEC5",
                "#B0BEC5",
                "#B0BEC5",
                "#B0BEC5",
                "#B0BEC5",
                "#B0BEC5",
                "#B0BEC5",
                "#B0BEC5",
                "#B0BEC5",
                "#B0BEC5",
                "#B0BEC5",
                "#B0BEC5",
                "#B0BEC5",
                "#B0BEC5",
                "#B0BEC5",
                "#B0BEC5",
                "red",
                "#B0BEC5",
                "#B0BEC5",
                "#B0BEC5",
                "#B0BEC5",
                "#B0BEC5",
                "#B0BEC5",
                "#B0BEC5",
                "#B0BEC5",
                "#B0BEC5",
                "#B0BEC5",
                "#B0BEC5",
                "#B0BEC5",
                "#B0BEC5",
                "#B0BEC5",
                "#B0BEC5"
               ]
              ]
             }
            ],
            "label": "Topic 64",
            "method": "update"
           },
           {
            "args": [
             {
              "marker.color": [
               [
                "#B0BEC5",
                "#B0BEC5",
                "#B0BEC5",
                "#B0BEC5",
                "#B0BEC5",
                "#B0BEC5",
                "#B0BEC5",
                "#B0BEC5",
                "#B0BEC5",
                "#B0BEC5",
                "#B0BEC5",
                "#B0BEC5",
                "#B0BEC5",
                "#B0BEC5",
                "#B0BEC5",
                "#B0BEC5",
                "#B0BEC5",
                "#B0BEC5",
                "#B0BEC5",
                "#B0BEC5",
                "#B0BEC5",
                "#B0BEC5",
                "#B0BEC5",
                "#B0BEC5",
                "#B0BEC5",
                "#B0BEC5",
                "#B0BEC5",
                "#B0BEC5",
                "#B0BEC5",
                "#B0BEC5",
                "#B0BEC5",
                "#B0BEC5",
                "#B0BEC5",
                "#B0BEC5",
                "#B0BEC5",
                "#B0BEC5",
                "#B0BEC5",
                "#B0BEC5",
                "#B0BEC5",
                "#B0BEC5",
                "#B0BEC5",
                "#B0BEC5",
                "#B0BEC5",
                "#B0BEC5",
                "#B0BEC5",
                "#B0BEC5",
                "#B0BEC5",
                "#B0BEC5",
                "#B0BEC5",
                "#B0BEC5",
                "#B0BEC5",
                "#B0BEC5",
                "#B0BEC5",
                "#B0BEC5",
                "#B0BEC5",
                "#B0BEC5",
                "#B0BEC5",
                "#B0BEC5",
                "#B0BEC5",
                "#B0BEC5",
                "#B0BEC5",
                "#B0BEC5",
                "#B0BEC5",
                "#B0BEC5",
                "red",
                "#B0BEC5",
                "#B0BEC5",
                "#B0BEC5",
                "#B0BEC5",
                "#B0BEC5",
                "#B0BEC5",
                "#B0BEC5",
                "#B0BEC5",
                "#B0BEC5",
                "#B0BEC5",
                "#B0BEC5",
                "#B0BEC5",
                "#B0BEC5",
                "#B0BEC5"
               ]
              ]
             }
            ],
            "label": "Topic 65",
            "method": "update"
           },
           {
            "args": [
             {
              "marker.color": [
               [
                "#B0BEC5",
                "#B0BEC5",
                "#B0BEC5",
                "#B0BEC5",
                "#B0BEC5",
                "#B0BEC5",
                "#B0BEC5",
                "#B0BEC5",
                "#B0BEC5",
                "#B0BEC5",
                "#B0BEC5",
                "#B0BEC5",
                "#B0BEC5",
                "#B0BEC5",
                "#B0BEC5",
                "#B0BEC5",
                "#B0BEC5",
                "#B0BEC5",
                "#B0BEC5",
                "#B0BEC5",
                "#B0BEC5",
                "#B0BEC5",
                "#B0BEC5",
                "#B0BEC5",
                "#B0BEC5",
                "#B0BEC5",
                "#B0BEC5",
                "#B0BEC5",
                "#B0BEC5",
                "#B0BEC5",
                "#B0BEC5",
                "#B0BEC5",
                "#B0BEC5",
                "#B0BEC5",
                "#B0BEC5",
                "#B0BEC5",
                "#B0BEC5",
                "#B0BEC5",
                "#B0BEC5",
                "#B0BEC5",
                "#B0BEC5",
                "#B0BEC5",
                "#B0BEC5",
                "#B0BEC5",
                "#B0BEC5",
                "#B0BEC5",
                "#B0BEC5",
                "#B0BEC5",
                "#B0BEC5",
                "#B0BEC5",
                "#B0BEC5",
                "#B0BEC5",
                "#B0BEC5",
                "#B0BEC5",
                "#B0BEC5",
                "#B0BEC5",
                "#B0BEC5",
                "#B0BEC5",
                "#B0BEC5",
                "#B0BEC5",
                "#B0BEC5",
                "#B0BEC5",
                "#B0BEC5",
                "#B0BEC5",
                "#B0BEC5",
                "red",
                "#B0BEC5",
                "#B0BEC5",
                "#B0BEC5",
                "#B0BEC5",
                "#B0BEC5",
                "#B0BEC5",
                "#B0BEC5",
                "#B0BEC5",
                "#B0BEC5",
                "#B0BEC5",
                "#B0BEC5",
                "#B0BEC5",
                "#B0BEC5"
               ]
              ]
             }
            ],
            "label": "Topic 66",
            "method": "update"
           },
           {
            "args": [
             {
              "marker.color": [
               [
                "#B0BEC5",
                "#B0BEC5",
                "#B0BEC5",
                "#B0BEC5",
                "#B0BEC5",
                "#B0BEC5",
                "#B0BEC5",
                "#B0BEC5",
                "#B0BEC5",
                "#B0BEC5",
                "#B0BEC5",
                "#B0BEC5",
                "#B0BEC5",
                "#B0BEC5",
                "#B0BEC5",
                "#B0BEC5",
                "#B0BEC5",
                "#B0BEC5",
                "#B0BEC5",
                "#B0BEC5",
                "#B0BEC5",
                "#B0BEC5",
                "#B0BEC5",
                "#B0BEC5",
                "#B0BEC5",
                "#B0BEC5",
                "#B0BEC5",
                "#B0BEC5",
                "#B0BEC5",
                "#B0BEC5",
                "#B0BEC5",
                "#B0BEC5",
                "#B0BEC5",
                "#B0BEC5",
                "#B0BEC5",
                "#B0BEC5",
                "#B0BEC5",
                "#B0BEC5",
                "#B0BEC5",
                "#B0BEC5",
                "#B0BEC5",
                "#B0BEC5",
                "#B0BEC5",
                "#B0BEC5",
                "#B0BEC5",
                "#B0BEC5",
                "#B0BEC5",
                "#B0BEC5",
                "#B0BEC5",
                "#B0BEC5",
                "#B0BEC5",
                "#B0BEC5",
                "#B0BEC5",
                "#B0BEC5",
                "#B0BEC5",
                "#B0BEC5",
                "#B0BEC5",
                "#B0BEC5",
                "#B0BEC5",
                "#B0BEC5",
                "#B0BEC5",
                "#B0BEC5",
                "#B0BEC5",
                "#B0BEC5",
                "#B0BEC5",
                "#B0BEC5",
                "red",
                "#B0BEC5",
                "#B0BEC5",
                "#B0BEC5",
                "#B0BEC5",
                "#B0BEC5",
                "#B0BEC5",
                "#B0BEC5",
                "#B0BEC5",
                "#B0BEC5",
                "#B0BEC5",
                "#B0BEC5",
                "#B0BEC5"
               ]
              ]
             }
            ],
            "label": "Topic 67",
            "method": "update"
           },
           {
            "args": [
             {
              "marker.color": [
               [
                "#B0BEC5",
                "#B0BEC5",
                "#B0BEC5",
                "#B0BEC5",
                "#B0BEC5",
                "#B0BEC5",
                "#B0BEC5",
                "#B0BEC5",
                "#B0BEC5",
                "#B0BEC5",
                "#B0BEC5",
                "#B0BEC5",
                "#B0BEC5",
                "#B0BEC5",
                "#B0BEC5",
                "#B0BEC5",
                "#B0BEC5",
                "#B0BEC5",
                "#B0BEC5",
                "#B0BEC5",
                "#B0BEC5",
                "#B0BEC5",
                "#B0BEC5",
                "#B0BEC5",
                "#B0BEC5",
                "#B0BEC5",
                "#B0BEC5",
                "#B0BEC5",
                "#B0BEC5",
                "#B0BEC5",
                "#B0BEC5",
                "#B0BEC5",
                "#B0BEC5",
                "#B0BEC5",
                "#B0BEC5",
                "#B0BEC5",
                "#B0BEC5",
                "#B0BEC5",
                "#B0BEC5",
                "#B0BEC5",
                "#B0BEC5",
                "#B0BEC5",
                "#B0BEC5",
                "#B0BEC5",
                "#B0BEC5",
                "#B0BEC5",
                "#B0BEC5",
                "#B0BEC5",
                "#B0BEC5",
                "#B0BEC5",
                "#B0BEC5",
                "#B0BEC5",
                "#B0BEC5",
                "#B0BEC5",
                "#B0BEC5",
                "#B0BEC5",
                "#B0BEC5",
                "#B0BEC5",
                "#B0BEC5",
                "#B0BEC5",
                "#B0BEC5",
                "#B0BEC5",
                "#B0BEC5",
                "#B0BEC5",
                "#B0BEC5",
                "#B0BEC5",
                "#B0BEC5",
                "red",
                "#B0BEC5",
                "#B0BEC5",
                "#B0BEC5",
                "#B0BEC5",
                "#B0BEC5",
                "#B0BEC5",
                "#B0BEC5",
                "#B0BEC5",
                "#B0BEC5",
                "#B0BEC5",
                "#B0BEC5"
               ]
              ]
             }
            ],
            "label": "Topic 68",
            "method": "update"
           },
           {
            "args": [
             {
              "marker.color": [
               [
                "#B0BEC5",
                "#B0BEC5",
                "#B0BEC5",
                "#B0BEC5",
                "#B0BEC5",
                "#B0BEC5",
                "#B0BEC5",
                "#B0BEC5",
                "#B0BEC5",
                "#B0BEC5",
                "#B0BEC5",
                "#B0BEC5",
                "#B0BEC5",
                "#B0BEC5",
                "#B0BEC5",
                "#B0BEC5",
                "#B0BEC5",
                "#B0BEC5",
                "#B0BEC5",
                "#B0BEC5",
                "#B0BEC5",
                "#B0BEC5",
                "#B0BEC5",
                "#B0BEC5",
                "#B0BEC5",
                "#B0BEC5",
                "#B0BEC5",
                "#B0BEC5",
                "#B0BEC5",
                "#B0BEC5",
                "#B0BEC5",
                "#B0BEC5",
                "#B0BEC5",
                "#B0BEC5",
                "#B0BEC5",
                "#B0BEC5",
                "#B0BEC5",
                "#B0BEC5",
                "#B0BEC5",
                "#B0BEC5",
                "#B0BEC5",
                "#B0BEC5",
                "#B0BEC5",
                "#B0BEC5",
                "#B0BEC5",
                "#B0BEC5",
                "#B0BEC5",
                "#B0BEC5",
                "#B0BEC5",
                "#B0BEC5",
                "#B0BEC5",
                "#B0BEC5",
                "#B0BEC5",
                "#B0BEC5",
                "#B0BEC5",
                "#B0BEC5",
                "#B0BEC5",
                "#B0BEC5",
                "#B0BEC5",
                "#B0BEC5",
                "#B0BEC5",
                "#B0BEC5",
                "#B0BEC5",
                "#B0BEC5",
                "#B0BEC5",
                "#B0BEC5",
                "#B0BEC5",
                "#B0BEC5",
                "red",
                "#B0BEC5",
                "#B0BEC5",
                "#B0BEC5",
                "#B0BEC5",
                "#B0BEC5",
                "#B0BEC5",
                "#B0BEC5",
                "#B0BEC5",
                "#B0BEC5",
                "#B0BEC5"
               ]
              ]
             }
            ],
            "label": "Topic 69",
            "method": "update"
           },
           {
            "args": [
             {
              "marker.color": [
               [
                "#B0BEC5",
                "#B0BEC5",
                "#B0BEC5",
                "#B0BEC5",
                "#B0BEC5",
                "#B0BEC5",
                "#B0BEC5",
                "#B0BEC5",
                "#B0BEC5",
                "#B0BEC5",
                "#B0BEC5",
                "#B0BEC5",
                "#B0BEC5",
                "#B0BEC5",
                "#B0BEC5",
                "#B0BEC5",
                "#B0BEC5",
                "#B0BEC5",
                "#B0BEC5",
                "#B0BEC5",
                "#B0BEC5",
                "#B0BEC5",
                "#B0BEC5",
                "#B0BEC5",
                "#B0BEC5",
                "#B0BEC5",
                "#B0BEC5",
                "#B0BEC5",
                "#B0BEC5",
                "#B0BEC5",
                "#B0BEC5",
                "#B0BEC5",
                "#B0BEC5",
                "#B0BEC5",
                "#B0BEC5",
                "#B0BEC5",
                "#B0BEC5",
                "#B0BEC5",
                "#B0BEC5",
                "#B0BEC5",
                "#B0BEC5",
                "#B0BEC5",
                "#B0BEC5",
                "#B0BEC5",
                "#B0BEC5",
                "#B0BEC5",
                "#B0BEC5",
                "#B0BEC5",
                "#B0BEC5",
                "#B0BEC5",
                "#B0BEC5",
                "#B0BEC5",
                "#B0BEC5",
                "#B0BEC5",
                "#B0BEC5",
                "#B0BEC5",
                "#B0BEC5",
                "#B0BEC5",
                "#B0BEC5",
                "#B0BEC5",
                "#B0BEC5",
                "#B0BEC5",
                "#B0BEC5",
                "#B0BEC5",
                "#B0BEC5",
                "#B0BEC5",
                "#B0BEC5",
                "#B0BEC5",
                "#B0BEC5",
                "red",
                "#B0BEC5",
                "#B0BEC5",
                "#B0BEC5",
                "#B0BEC5",
                "#B0BEC5",
                "#B0BEC5",
                "#B0BEC5",
                "#B0BEC5",
                "#B0BEC5"
               ]
              ]
             }
            ],
            "label": "Topic 70",
            "method": "update"
           },
           {
            "args": [
             {
              "marker.color": [
               [
                "#B0BEC5",
                "#B0BEC5",
                "#B0BEC5",
                "#B0BEC5",
                "#B0BEC5",
                "#B0BEC5",
                "#B0BEC5",
                "#B0BEC5",
                "#B0BEC5",
                "#B0BEC5",
                "#B0BEC5",
                "#B0BEC5",
                "#B0BEC5",
                "#B0BEC5",
                "#B0BEC5",
                "#B0BEC5",
                "#B0BEC5",
                "#B0BEC5",
                "#B0BEC5",
                "#B0BEC5",
                "#B0BEC5",
                "#B0BEC5",
                "#B0BEC5",
                "#B0BEC5",
                "#B0BEC5",
                "#B0BEC5",
                "#B0BEC5",
                "#B0BEC5",
                "#B0BEC5",
                "#B0BEC5",
                "#B0BEC5",
                "#B0BEC5",
                "#B0BEC5",
                "#B0BEC5",
                "#B0BEC5",
                "#B0BEC5",
                "#B0BEC5",
                "#B0BEC5",
                "#B0BEC5",
                "#B0BEC5",
                "#B0BEC5",
                "#B0BEC5",
                "#B0BEC5",
                "#B0BEC5",
                "#B0BEC5",
                "#B0BEC5",
                "#B0BEC5",
                "#B0BEC5",
                "#B0BEC5",
                "#B0BEC5",
                "#B0BEC5",
                "#B0BEC5",
                "#B0BEC5",
                "#B0BEC5",
                "#B0BEC5",
                "#B0BEC5",
                "#B0BEC5",
                "#B0BEC5",
                "#B0BEC5",
                "#B0BEC5",
                "#B0BEC5",
                "#B0BEC5",
                "#B0BEC5",
                "#B0BEC5",
                "#B0BEC5",
                "#B0BEC5",
                "#B0BEC5",
                "#B0BEC5",
                "#B0BEC5",
                "#B0BEC5",
                "red",
                "#B0BEC5",
                "#B0BEC5",
                "#B0BEC5",
                "#B0BEC5",
                "#B0BEC5",
                "#B0BEC5",
                "#B0BEC5",
                "#B0BEC5"
               ]
              ]
             }
            ],
            "label": "Topic 71",
            "method": "update"
           },
           {
            "args": [
             {
              "marker.color": [
               [
                "#B0BEC5",
                "#B0BEC5",
                "#B0BEC5",
                "#B0BEC5",
                "#B0BEC5",
                "#B0BEC5",
                "#B0BEC5",
                "#B0BEC5",
                "#B0BEC5",
                "#B0BEC5",
                "#B0BEC5",
                "#B0BEC5",
                "#B0BEC5",
                "#B0BEC5",
                "#B0BEC5",
                "#B0BEC5",
                "#B0BEC5",
                "#B0BEC5",
                "#B0BEC5",
                "#B0BEC5",
                "#B0BEC5",
                "#B0BEC5",
                "#B0BEC5",
                "#B0BEC5",
                "#B0BEC5",
                "#B0BEC5",
                "#B0BEC5",
                "#B0BEC5",
                "#B0BEC5",
                "#B0BEC5",
                "#B0BEC5",
                "#B0BEC5",
                "#B0BEC5",
                "#B0BEC5",
                "#B0BEC5",
                "#B0BEC5",
                "#B0BEC5",
                "#B0BEC5",
                "#B0BEC5",
                "#B0BEC5",
                "#B0BEC5",
                "#B0BEC5",
                "#B0BEC5",
                "#B0BEC5",
                "#B0BEC5",
                "#B0BEC5",
                "#B0BEC5",
                "#B0BEC5",
                "#B0BEC5",
                "#B0BEC5",
                "#B0BEC5",
                "#B0BEC5",
                "#B0BEC5",
                "#B0BEC5",
                "#B0BEC5",
                "#B0BEC5",
                "#B0BEC5",
                "#B0BEC5",
                "#B0BEC5",
                "#B0BEC5",
                "#B0BEC5",
                "#B0BEC5",
                "#B0BEC5",
                "#B0BEC5",
                "#B0BEC5",
                "#B0BEC5",
                "#B0BEC5",
                "#B0BEC5",
                "#B0BEC5",
                "#B0BEC5",
                "#B0BEC5",
                "red",
                "#B0BEC5",
                "#B0BEC5",
                "#B0BEC5",
                "#B0BEC5",
                "#B0BEC5",
                "#B0BEC5",
                "#B0BEC5"
               ]
              ]
             }
            ],
            "label": "Topic 72",
            "method": "update"
           },
           {
            "args": [
             {
              "marker.color": [
               [
                "#B0BEC5",
                "#B0BEC5",
                "#B0BEC5",
                "#B0BEC5",
                "#B0BEC5",
                "#B0BEC5",
                "#B0BEC5",
                "#B0BEC5",
                "#B0BEC5",
                "#B0BEC5",
                "#B0BEC5",
                "#B0BEC5",
                "#B0BEC5",
                "#B0BEC5",
                "#B0BEC5",
                "#B0BEC5",
                "#B0BEC5",
                "#B0BEC5",
                "#B0BEC5",
                "#B0BEC5",
                "#B0BEC5",
                "#B0BEC5",
                "#B0BEC5",
                "#B0BEC5",
                "#B0BEC5",
                "#B0BEC5",
                "#B0BEC5",
                "#B0BEC5",
                "#B0BEC5",
                "#B0BEC5",
                "#B0BEC5",
                "#B0BEC5",
                "#B0BEC5",
                "#B0BEC5",
                "#B0BEC5",
                "#B0BEC5",
                "#B0BEC5",
                "#B0BEC5",
                "#B0BEC5",
                "#B0BEC5",
                "#B0BEC5",
                "#B0BEC5",
                "#B0BEC5",
                "#B0BEC5",
                "#B0BEC5",
                "#B0BEC5",
                "#B0BEC5",
                "#B0BEC5",
                "#B0BEC5",
                "#B0BEC5",
                "#B0BEC5",
                "#B0BEC5",
                "#B0BEC5",
                "#B0BEC5",
                "#B0BEC5",
                "#B0BEC5",
                "#B0BEC5",
                "#B0BEC5",
                "#B0BEC5",
                "#B0BEC5",
                "#B0BEC5",
                "#B0BEC5",
                "#B0BEC5",
                "#B0BEC5",
                "#B0BEC5",
                "#B0BEC5",
                "#B0BEC5",
                "#B0BEC5",
                "#B0BEC5",
                "#B0BEC5",
                "#B0BEC5",
                "#B0BEC5",
                "red",
                "#B0BEC5",
                "#B0BEC5",
                "#B0BEC5",
                "#B0BEC5",
                "#B0BEC5",
                "#B0BEC5"
               ]
              ]
             }
            ],
            "label": "Topic 73",
            "method": "update"
           },
           {
            "args": [
             {
              "marker.color": [
               [
                "#B0BEC5",
                "#B0BEC5",
                "#B0BEC5",
                "#B0BEC5",
                "#B0BEC5",
                "#B0BEC5",
                "#B0BEC5",
                "#B0BEC5",
                "#B0BEC5",
                "#B0BEC5",
                "#B0BEC5",
                "#B0BEC5",
                "#B0BEC5",
                "#B0BEC5",
                "#B0BEC5",
                "#B0BEC5",
                "#B0BEC5",
                "#B0BEC5",
                "#B0BEC5",
                "#B0BEC5",
                "#B0BEC5",
                "#B0BEC5",
                "#B0BEC5",
                "#B0BEC5",
                "#B0BEC5",
                "#B0BEC5",
                "#B0BEC5",
                "#B0BEC5",
                "#B0BEC5",
                "#B0BEC5",
                "#B0BEC5",
                "#B0BEC5",
                "#B0BEC5",
                "#B0BEC5",
                "#B0BEC5",
                "#B0BEC5",
                "#B0BEC5",
                "#B0BEC5",
                "#B0BEC5",
                "#B0BEC5",
                "#B0BEC5",
                "#B0BEC5",
                "#B0BEC5",
                "#B0BEC5",
                "#B0BEC5",
                "#B0BEC5",
                "#B0BEC5",
                "#B0BEC5",
                "#B0BEC5",
                "#B0BEC5",
                "#B0BEC5",
                "#B0BEC5",
                "#B0BEC5",
                "#B0BEC5",
                "#B0BEC5",
                "#B0BEC5",
                "#B0BEC5",
                "#B0BEC5",
                "#B0BEC5",
                "#B0BEC5",
                "#B0BEC5",
                "#B0BEC5",
                "#B0BEC5",
                "#B0BEC5",
                "#B0BEC5",
                "#B0BEC5",
                "#B0BEC5",
                "#B0BEC5",
                "#B0BEC5",
                "#B0BEC5",
                "#B0BEC5",
                "#B0BEC5",
                "#B0BEC5",
                "red",
                "#B0BEC5",
                "#B0BEC5",
                "#B0BEC5",
                "#B0BEC5",
                "#B0BEC5"
               ]
              ]
             }
            ],
            "label": "Topic 74",
            "method": "update"
           },
           {
            "args": [
             {
              "marker.color": [
               [
                "#B0BEC5",
                "#B0BEC5",
                "#B0BEC5",
                "#B0BEC5",
                "#B0BEC5",
                "#B0BEC5",
                "#B0BEC5",
                "#B0BEC5",
                "#B0BEC5",
                "#B0BEC5",
                "#B0BEC5",
                "#B0BEC5",
                "#B0BEC5",
                "#B0BEC5",
                "#B0BEC5",
                "#B0BEC5",
                "#B0BEC5",
                "#B0BEC5",
                "#B0BEC5",
                "#B0BEC5",
                "#B0BEC5",
                "#B0BEC5",
                "#B0BEC5",
                "#B0BEC5",
                "#B0BEC5",
                "#B0BEC5",
                "#B0BEC5",
                "#B0BEC5",
                "#B0BEC5",
                "#B0BEC5",
                "#B0BEC5",
                "#B0BEC5",
                "#B0BEC5",
                "#B0BEC5",
                "#B0BEC5",
                "#B0BEC5",
                "#B0BEC5",
                "#B0BEC5",
                "#B0BEC5",
                "#B0BEC5",
                "#B0BEC5",
                "#B0BEC5",
                "#B0BEC5",
                "#B0BEC5",
                "#B0BEC5",
                "#B0BEC5",
                "#B0BEC5",
                "#B0BEC5",
                "#B0BEC5",
                "#B0BEC5",
                "#B0BEC5",
                "#B0BEC5",
                "#B0BEC5",
                "#B0BEC5",
                "#B0BEC5",
                "#B0BEC5",
                "#B0BEC5",
                "#B0BEC5",
                "#B0BEC5",
                "#B0BEC5",
                "#B0BEC5",
                "#B0BEC5",
                "#B0BEC5",
                "#B0BEC5",
                "#B0BEC5",
                "#B0BEC5",
                "#B0BEC5",
                "#B0BEC5",
                "#B0BEC5",
                "#B0BEC5",
                "#B0BEC5",
                "#B0BEC5",
                "#B0BEC5",
                "#B0BEC5",
                "red",
                "#B0BEC5",
                "#B0BEC5",
                "#B0BEC5",
                "#B0BEC5"
               ]
              ]
             }
            ],
            "label": "Topic 75",
            "method": "update"
           },
           {
            "args": [
             {
              "marker.color": [
               [
                "#B0BEC5",
                "#B0BEC5",
                "#B0BEC5",
                "#B0BEC5",
                "#B0BEC5",
                "#B0BEC5",
                "#B0BEC5",
                "#B0BEC5",
                "#B0BEC5",
                "#B0BEC5",
                "#B0BEC5",
                "#B0BEC5",
                "#B0BEC5",
                "#B0BEC5",
                "#B0BEC5",
                "#B0BEC5",
                "#B0BEC5",
                "#B0BEC5",
                "#B0BEC5",
                "#B0BEC5",
                "#B0BEC5",
                "#B0BEC5",
                "#B0BEC5",
                "#B0BEC5",
                "#B0BEC5",
                "#B0BEC5",
                "#B0BEC5",
                "#B0BEC5",
                "#B0BEC5",
                "#B0BEC5",
                "#B0BEC5",
                "#B0BEC5",
                "#B0BEC5",
                "#B0BEC5",
                "#B0BEC5",
                "#B0BEC5",
                "#B0BEC5",
                "#B0BEC5",
                "#B0BEC5",
                "#B0BEC5",
                "#B0BEC5",
                "#B0BEC5",
                "#B0BEC5",
                "#B0BEC5",
                "#B0BEC5",
                "#B0BEC5",
                "#B0BEC5",
                "#B0BEC5",
                "#B0BEC5",
                "#B0BEC5",
                "#B0BEC5",
                "#B0BEC5",
                "#B0BEC5",
                "#B0BEC5",
                "#B0BEC5",
                "#B0BEC5",
                "#B0BEC5",
                "#B0BEC5",
                "#B0BEC5",
                "#B0BEC5",
                "#B0BEC5",
                "#B0BEC5",
                "#B0BEC5",
                "#B0BEC5",
                "#B0BEC5",
                "#B0BEC5",
                "#B0BEC5",
                "#B0BEC5",
                "#B0BEC5",
                "#B0BEC5",
                "#B0BEC5",
                "#B0BEC5",
                "#B0BEC5",
                "#B0BEC5",
                "#B0BEC5",
                "red",
                "#B0BEC5",
                "#B0BEC5",
                "#B0BEC5"
               ]
              ]
             }
            ],
            "label": "Topic 76",
            "method": "update"
           },
           {
            "args": [
             {
              "marker.color": [
               [
                "#B0BEC5",
                "#B0BEC5",
                "#B0BEC5",
                "#B0BEC5",
                "#B0BEC5",
                "#B0BEC5",
                "#B0BEC5",
                "#B0BEC5",
                "#B0BEC5",
                "#B0BEC5",
                "#B0BEC5",
                "#B0BEC5",
                "#B0BEC5",
                "#B0BEC5",
                "#B0BEC5",
                "#B0BEC5",
                "#B0BEC5",
                "#B0BEC5",
                "#B0BEC5",
                "#B0BEC5",
                "#B0BEC5",
                "#B0BEC5",
                "#B0BEC5",
                "#B0BEC5",
                "#B0BEC5",
                "#B0BEC5",
                "#B0BEC5",
                "#B0BEC5",
                "#B0BEC5",
                "#B0BEC5",
                "#B0BEC5",
                "#B0BEC5",
                "#B0BEC5",
                "#B0BEC5",
                "#B0BEC5",
                "#B0BEC5",
                "#B0BEC5",
                "#B0BEC5",
                "#B0BEC5",
                "#B0BEC5",
                "#B0BEC5",
                "#B0BEC5",
                "#B0BEC5",
                "#B0BEC5",
                "#B0BEC5",
                "#B0BEC5",
                "#B0BEC5",
                "#B0BEC5",
                "#B0BEC5",
                "#B0BEC5",
                "#B0BEC5",
                "#B0BEC5",
                "#B0BEC5",
                "#B0BEC5",
                "#B0BEC5",
                "#B0BEC5",
                "#B0BEC5",
                "#B0BEC5",
                "#B0BEC5",
                "#B0BEC5",
                "#B0BEC5",
                "#B0BEC5",
                "#B0BEC5",
                "#B0BEC5",
                "#B0BEC5",
                "#B0BEC5",
                "#B0BEC5",
                "#B0BEC5",
                "#B0BEC5",
                "#B0BEC5",
                "#B0BEC5",
                "#B0BEC5",
                "#B0BEC5",
                "#B0BEC5",
                "#B0BEC5",
                "#B0BEC5",
                "red",
                "#B0BEC5",
                "#B0BEC5"
               ]
              ]
             }
            ],
            "label": "Topic 77",
            "method": "update"
           },
           {
            "args": [
             {
              "marker.color": [
               [
                "#B0BEC5",
                "#B0BEC5",
                "#B0BEC5",
                "#B0BEC5",
                "#B0BEC5",
                "#B0BEC5",
                "#B0BEC5",
                "#B0BEC5",
                "#B0BEC5",
                "#B0BEC5",
                "#B0BEC5",
                "#B0BEC5",
                "#B0BEC5",
                "#B0BEC5",
                "#B0BEC5",
                "#B0BEC5",
                "#B0BEC5",
                "#B0BEC5",
                "#B0BEC5",
                "#B0BEC5",
                "#B0BEC5",
                "#B0BEC5",
                "#B0BEC5",
                "#B0BEC5",
                "#B0BEC5",
                "#B0BEC5",
                "#B0BEC5",
                "#B0BEC5",
                "#B0BEC5",
                "#B0BEC5",
                "#B0BEC5",
                "#B0BEC5",
                "#B0BEC5",
                "#B0BEC5",
                "#B0BEC5",
                "#B0BEC5",
                "#B0BEC5",
                "#B0BEC5",
                "#B0BEC5",
                "#B0BEC5",
                "#B0BEC5",
                "#B0BEC5",
                "#B0BEC5",
                "#B0BEC5",
                "#B0BEC5",
                "#B0BEC5",
                "#B0BEC5",
                "#B0BEC5",
                "#B0BEC5",
                "#B0BEC5",
                "#B0BEC5",
                "#B0BEC5",
                "#B0BEC5",
                "#B0BEC5",
                "#B0BEC5",
                "#B0BEC5",
                "#B0BEC5",
                "#B0BEC5",
                "#B0BEC5",
                "#B0BEC5",
                "#B0BEC5",
                "#B0BEC5",
                "#B0BEC5",
                "#B0BEC5",
                "#B0BEC5",
                "#B0BEC5",
                "#B0BEC5",
                "#B0BEC5",
                "#B0BEC5",
                "#B0BEC5",
                "#B0BEC5",
                "#B0BEC5",
                "#B0BEC5",
                "#B0BEC5",
                "#B0BEC5",
                "#B0BEC5",
                "#B0BEC5",
                "red",
                "#B0BEC5"
               ]
              ]
             }
            ],
            "label": "Topic 78",
            "method": "update"
           },
           {
            "args": [
             {
              "marker.color": [
               [
                "#B0BEC5",
                "#B0BEC5",
                "#B0BEC5",
                "#B0BEC5",
                "#B0BEC5",
                "#B0BEC5",
                "#B0BEC5",
                "#B0BEC5",
                "#B0BEC5",
                "#B0BEC5",
                "#B0BEC5",
                "#B0BEC5",
                "#B0BEC5",
                "#B0BEC5",
                "#B0BEC5",
                "#B0BEC5",
                "#B0BEC5",
                "#B0BEC5",
                "#B0BEC5",
                "#B0BEC5",
                "#B0BEC5",
                "#B0BEC5",
                "#B0BEC5",
                "#B0BEC5",
                "#B0BEC5",
                "#B0BEC5",
                "#B0BEC5",
                "#B0BEC5",
                "#B0BEC5",
                "#B0BEC5",
                "#B0BEC5",
                "#B0BEC5",
                "#B0BEC5",
                "#B0BEC5",
                "#B0BEC5",
                "#B0BEC5",
                "#B0BEC5",
                "#B0BEC5",
                "#B0BEC5",
                "#B0BEC5",
                "#B0BEC5",
                "#B0BEC5",
                "#B0BEC5",
                "#B0BEC5",
                "#B0BEC5",
                "#B0BEC5",
                "#B0BEC5",
                "#B0BEC5",
                "#B0BEC5",
                "#B0BEC5",
                "#B0BEC5",
                "#B0BEC5",
                "#B0BEC5",
                "#B0BEC5",
                "#B0BEC5",
                "#B0BEC5",
                "#B0BEC5",
                "#B0BEC5",
                "#B0BEC5",
                "#B0BEC5",
                "#B0BEC5",
                "#B0BEC5",
                "#B0BEC5",
                "#B0BEC5",
                "#B0BEC5",
                "#B0BEC5",
                "#B0BEC5",
                "#B0BEC5",
                "#B0BEC5",
                "#B0BEC5",
                "#B0BEC5",
                "#B0BEC5",
                "#B0BEC5",
                "#B0BEC5",
                "#B0BEC5",
                "#B0BEC5",
                "#B0BEC5",
                "#B0BEC5",
                "red"
               ]
              ]
             }
            ],
            "label": "Topic 79",
            "method": "update"
           }
          ]
         }
        ],
        "template": {
         "data": {
          "bar": [
           {
            "error_x": {
             "color": "rgb(36,36,36)"
            },
            "error_y": {
             "color": "rgb(36,36,36)"
            },
            "marker": {
             "line": {
              "color": "white",
              "width": 0.5
             },
             "pattern": {
              "fillmode": "overlay",
              "size": 10,
              "solidity": 0.2
             }
            },
            "type": "bar"
           }
          ],
          "barpolar": [
           {
            "marker": {
             "line": {
              "color": "white",
              "width": 0.5
             },
             "pattern": {
              "fillmode": "overlay",
              "size": 10,
              "solidity": 0.2
             }
            },
            "type": "barpolar"
           }
          ],
          "carpet": [
           {
            "aaxis": {
             "endlinecolor": "rgb(36,36,36)",
             "gridcolor": "white",
             "linecolor": "white",
             "minorgridcolor": "white",
             "startlinecolor": "rgb(36,36,36)"
            },
            "baxis": {
             "endlinecolor": "rgb(36,36,36)",
             "gridcolor": "white",
             "linecolor": "white",
             "minorgridcolor": "white",
             "startlinecolor": "rgb(36,36,36)"
            },
            "type": "carpet"
           }
          ],
          "choropleth": [
           {
            "colorbar": {
             "outlinewidth": 1,
             "tickcolor": "rgb(36,36,36)",
             "ticks": "outside"
            },
            "type": "choropleth"
           }
          ],
          "contour": [
           {
            "colorbar": {
             "outlinewidth": 1,
             "tickcolor": "rgb(36,36,36)",
             "ticks": "outside"
            },
            "colorscale": [
             [
              0,
              "#440154"
             ],
             [
              0.1111111111111111,
              "#482878"
             ],
             [
              0.2222222222222222,
              "#3e4989"
             ],
             [
              0.3333333333333333,
              "#31688e"
             ],
             [
              0.4444444444444444,
              "#26828e"
             ],
             [
              0.5555555555555556,
              "#1f9e89"
             ],
             [
              0.6666666666666666,
              "#35b779"
             ],
             [
              0.7777777777777778,
              "#6ece58"
             ],
             [
              0.8888888888888888,
              "#b5de2b"
             ],
             [
              1,
              "#fde725"
             ]
            ],
            "type": "contour"
           }
          ],
          "contourcarpet": [
           {
            "colorbar": {
             "outlinewidth": 1,
             "tickcolor": "rgb(36,36,36)",
             "ticks": "outside"
            },
            "type": "contourcarpet"
           }
          ],
          "heatmap": [
           {
            "colorbar": {
             "outlinewidth": 1,
             "tickcolor": "rgb(36,36,36)",
             "ticks": "outside"
            },
            "colorscale": [
             [
              0,
              "#440154"
             ],
             [
              0.1111111111111111,
              "#482878"
             ],
             [
              0.2222222222222222,
              "#3e4989"
             ],
             [
              0.3333333333333333,
              "#31688e"
             ],
             [
              0.4444444444444444,
              "#26828e"
             ],
             [
              0.5555555555555556,
              "#1f9e89"
             ],
             [
              0.6666666666666666,
              "#35b779"
             ],
             [
              0.7777777777777778,
              "#6ece58"
             ],
             [
              0.8888888888888888,
              "#b5de2b"
             ],
             [
              1,
              "#fde725"
             ]
            ],
            "type": "heatmap"
           }
          ],
          "heatmapgl": [
           {
            "colorbar": {
             "outlinewidth": 1,
             "tickcolor": "rgb(36,36,36)",
             "ticks": "outside"
            },
            "colorscale": [
             [
              0,
              "#440154"
             ],
             [
              0.1111111111111111,
              "#482878"
             ],
             [
              0.2222222222222222,
              "#3e4989"
             ],
             [
              0.3333333333333333,
              "#31688e"
             ],
             [
              0.4444444444444444,
              "#26828e"
             ],
             [
              0.5555555555555556,
              "#1f9e89"
             ],
             [
              0.6666666666666666,
              "#35b779"
             ],
             [
              0.7777777777777778,
              "#6ece58"
             ],
             [
              0.8888888888888888,
              "#b5de2b"
             ],
             [
              1,
              "#fde725"
             ]
            ],
            "type": "heatmapgl"
           }
          ],
          "histogram": [
           {
            "marker": {
             "line": {
              "color": "white",
              "width": 0.6
             }
            },
            "type": "histogram"
           }
          ],
          "histogram2d": [
           {
            "colorbar": {
             "outlinewidth": 1,
             "tickcolor": "rgb(36,36,36)",
             "ticks": "outside"
            },
            "colorscale": [
             [
              0,
              "#440154"
             ],
             [
              0.1111111111111111,
              "#482878"
             ],
             [
              0.2222222222222222,
              "#3e4989"
             ],
             [
              0.3333333333333333,
              "#31688e"
             ],
             [
              0.4444444444444444,
              "#26828e"
             ],
             [
              0.5555555555555556,
              "#1f9e89"
             ],
             [
              0.6666666666666666,
              "#35b779"
             ],
             [
              0.7777777777777778,
              "#6ece58"
             ],
             [
              0.8888888888888888,
              "#b5de2b"
             ],
             [
              1,
              "#fde725"
             ]
            ],
            "type": "histogram2d"
           }
          ],
          "histogram2dcontour": [
           {
            "colorbar": {
             "outlinewidth": 1,
             "tickcolor": "rgb(36,36,36)",
             "ticks": "outside"
            },
            "colorscale": [
             [
              0,
              "#440154"
             ],
             [
              0.1111111111111111,
              "#482878"
             ],
             [
              0.2222222222222222,
              "#3e4989"
             ],
             [
              0.3333333333333333,
              "#31688e"
             ],
             [
              0.4444444444444444,
              "#26828e"
             ],
             [
              0.5555555555555556,
              "#1f9e89"
             ],
             [
              0.6666666666666666,
              "#35b779"
             ],
             [
              0.7777777777777778,
              "#6ece58"
             ],
             [
              0.8888888888888888,
              "#b5de2b"
             ],
             [
              1,
              "#fde725"
             ]
            ],
            "type": "histogram2dcontour"
           }
          ],
          "mesh3d": [
           {
            "colorbar": {
             "outlinewidth": 1,
             "tickcolor": "rgb(36,36,36)",
             "ticks": "outside"
            },
            "type": "mesh3d"
           }
          ],
          "parcoords": [
           {
            "line": {
             "colorbar": {
              "outlinewidth": 1,
              "tickcolor": "rgb(36,36,36)",
              "ticks": "outside"
             }
            },
            "type": "parcoords"
           }
          ],
          "pie": [
           {
            "automargin": true,
            "type": "pie"
           }
          ],
          "scatter": [
           {
            "marker": {
             "colorbar": {
              "outlinewidth": 1,
              "tickcolor": "rgb(36,36,36)",
              "ticks": "outside"
             }
            },
            "type": "scatter"
           }
          ],
          "scatter3d": [
           {
            "line": {
             "colorbar": {
              "outlinewidth": 1,
              "tickcolor": "rgb(36,36,36)",
              "ticks": "outside"
             }
            },
            "marker": {
             "colorbar": {
              "outlinewidth": 1,
              "tickcolor": "rgb(36,36,36)",
              "ticks": "outside"
             }
            },
            "type": "scatter3d"
           }
          ],
          "scattercarpet": [
           {
            "marker": {
             "colorbar": {
              "outlinewidth": 1,
              "tickcolor": "rgb(36,36,36)",
              "ticks": "outside"
             }
            },
            "type": "scattercarpet"
           }
          ],
          "scattergeo": [
           {
            "marker": {
             "colorbar": {
              "outlinewidth": 1,
              "tickcolor": "rgb(36,36,36)",
              "ticks": "outside"
             }
            },
            "type": "scattergeo"
           }
          ],
          "scattergl": [
           {
            "marker": {
             "colorbar": {
              "outlinewidth": 1,
              "tickcolor": "rgb(36,36,36)",
              "ticks": "outside"
             }
            },
            "type": "scattergl"
           }
          ],
          "scattermapbox": [
           {
            "marker": {
             "colorbar": {
              "outlinewidth": 1,
              "tickcolor": "rgb(36,36,36)",
              "ticks": "outside"
             }
            },
            "type": "scattermapbox"
           }
          ],
          "scatterpolar": [
           {
            "marker": {
             "colorbar": {
              "outlinewidth": 1,
              "tickcolor": "rgb(36,36,36)",
              "ticks": "outside"
             }
            },
            "type": "scatterpolar"
           }
          ],
          "scatterpolargl": [
           {
            "marker": {
             "colorbar": {
              "outlinewidth": 1,
              "tickcolor": "rgb(36,36,36)",
              "ticks": "outside"
             }
            },
            "type": "scatterpolargl"
           }
          ],
          "scatterternary": [
           {
            "marker": {
             "colorbar": {
              "outlinewidth": 1,
              "tickcolor": "rgb(36,36,36)",
              "ticks": "outside"
             }
            },
            "type": "scatterternary"
           }
          ],
          "surface": [
           {
            "colorbar": {
             "outlinewidth": 1,
             "tickcolor": "rgb(36,36,36)",
             "ticks": "outside"
            },
            "colorscale": [
             [
              0,
              "#440154"
             ],
             [
              0.1111111111111111,
              "#482878"
             ],
             [
              0.2222222222222222,
              "#3e4989"
             ],
             [
              0.3333333333333333,
              "#31688e"
             ],
             [
              0.4444444444444444,
              "#26828e"
             ],
             [
              0.5555555555555556,
              "#1f9e89"
             ],
             [
              0.6666666666666666,
              "#35b779"
             ],
             [
              0.7777777777777778,
              "#6ece58"
             ],
             [
              0.8888888888888888,
              "#b5de2b"
             ],
             [
              1,
              "#fde725"
             ]
            ],
            "type": "surface"
           }
          ],
          "table": [
           {
            "cells": {
             "fill": {
              "color": "rgb(237,237,237)"
             },
             "line": {
              "color": "white"
             }
            },
            "header": {
             "fill": {
              "color": "rgb(217,217,217)"
             },
             "line": {
              "color": "white"
             }
            },
            "type": "table"
           }
          ]
         },
         "layout": {
          "annotationdefaults": {
           "arrowhead": 0,
           "arrowwidth": 1
          },
          "autotypenumbers": "strict",
          "coloraxis": {
           "colorbar": {
            "outlinewidth": 1,
            "tickcolor": "rgb(36,36,36)",
            "ticks": "outside"
           }
          },
          "colorscale": {
           "diverging": [
            [
             0,
             "rgb(103,0,31)"
            ],
            [
             0.1,
             "rgb(178,24,43)"
            ],
            [
             0.2,
             "rgb(214,96,77)"
            ],
            [
             0.3,
             "rgb(244,165,130)"
            ],
            [
             0.4,
             "rgb(253,219,199)"
            ],
            [
             0.5,
             "rgb(247,247,247)"
            ],
            [
             0.6,
             "rgb(209,229,240)"
            ],
            [
             0.7,
             "rgb(146,197,222)"
            ],
            [
             0.8,
             "rgb(67,147,195)"
            ],
            [
             0.9,
             "rgb(33,102,172)"
            ],
            [
             1,
             "rgb(5,48,97)"
            ]
           ],
           "sequential": [
            [
             0,
             "#440154"
            ],
            [
             0.1111111111111111,
             "#482878"
            ],
            [
             0.2222222222222222,
             "#3e4989"
            ],
            [
             0.3333333333333333,
             "#31688e"
            ],
            [
             0.4444444444444444,
             "#26828e"
            ],
            [
             0.5555555555555556,
             "#1f9e89"
            ],
            [
             0.6666666666666666,
             "#35b779"
            ],
            [
             0.7777777777777778,
             "#6ece58"
            ],
            [
             0.8888888888888888,
             "#b5de2b"
            ],
            [
             1,
             "#fde725"
            ]
           ],
           "sequentialminus": [
            [
             0,
             "#440154"
            ],
            [
             0.1111111111111111,
             "#482878"
            ],
            [
             0.2222222222222222,
             "#3e4989"
            ],
            [
             0.3333333333333333,
             "#31688e"
            ],
            [
             0.4444444444444444,
             "#26828e"
            ],
            [
             0.5555555555555556,
             "#1f9e89"
            ],
            [
             0.6666666666666666,
             "#35b779"
            ],
            [
             0.7777777777777778,
             "#6ece58"
            ],
            [
             0.8888888888888888,
             "#b5de2b"
            ],
            [
             1,
             "#fde725"
            ]
           ]
          },
          "colorway": [
           "#1F77B4",
           "#FF7F0E",
           "#2CA02C",
           "#D62728",
           "#9467BD",
           "#8C564B",
           "#E377C2",
           "#7F7F7F",
           "#BCBD22",
           "#17BECF"
          ],
          "font": {
           "color": "rgb(36,36,36)"
          },
          "geo": {
           "bgcolor": "white",
           "lakecolor": "white",
           "landcolor": "white",
           "showlakes": true,
           "showland": true,
           "subunitcolor": "white"
          },
          "hoverlabel": {
           "align": "left"
          },
          "hovermode": "closest",
          "mapbox": {
           "style": "light"
          },
          "paper_bgcolor": "white",
          "plot_bgcolor": "white",
          "polar": {
           "angularaxis": {
            "gridcolor": "rgb(232,232,232)",
            "linecolor": "rgb(36,36,36)",
            "showgrid": false,
            "showline": true,
            "ticks": "outside"
           },
           "bgcolor": "white",
           "radialaxis": {
            "gridcolor": "rgb(232,232,232)",
            "linecolor": "rgb(36,36,36)",
            "showgrid": false,
            "showline": true,
            "ticks": "outside"
           }
          },
          "scene": {
           "xaxis": {
            "backgroundcolor": "white",
            "gridcolor": "rgb(232,232,232)",
            "gridwidth": 2,
            "linecolor": "rgb(36,36,36)",
            "showbackground": true,
            "showgrid": false,
            "showline": true,
            "ticks": "outside",
            "zeroline": false,
            "zerolinecolor": "rgb(36,36,36)"
           },
           "yaxis": {
            "backgroundcolor": "white",
            "gridcolor": "rgb(232,232,232)",
            "gridwidth": 2,
            "linecolor": "rgb(36,36,36)",
            "showbackground": true,
            "showgrid": false,
            "showline": true,
            "ticks": "outside",
            "zeroline": false,
            "zerolinecolor": "rgb(36,36,36)"
           },
           "zaxis": {
            "backgroundcolor": "white",
            "gridcolor": "rgb(232,232,232)",
            "gridwidth": 2,
            "linecolor": "rgb(36,36,36)",
            "showbackground": true,
            "showgrid": false,
            "showline": true,
            "ticks": "outside",
            "zeroline": false,
            "zerolinecolor": "rgb(36,36,36)"
           }
          },
          "shapedefaults": {
           "fillcolor": "black",
           "line": {
            "width": 0
           },
           "opacity": 0.3
          },
          "ternary": {
           "aaxis": {
            "gridcolor": "rgb(232,232,232)",
            "linecolor": "rgb(36,36,36)",
            "showgrid": false,
            "showline": true,
            "ticks": "outside"
           },
           "baxis": {
            "gridcolor": "rgb(232,232,232)",
            "linecolor": "rgb(36,36,36)",
            "showgrid": false,
            "showline": true,
            "ticks": "outside"
           },
           "bgcolor": "white",
           "caxis": {
            "gridcolor": "rgb(232,232,232)",
            "linecolor": "rgb(36,36,36)",
            "showgrid": false,
            "showline": true,
            "ticks": "outside"
           }
          },
          "title": {
           "x": 0.05
          },
          "xaxis": {
           "automargin": true,
           "gridcolor": "rgb(232,232,232)",
           "linecolor": "rgb(36,36,36)",
           "showgrid": false,
           "showline": true,
           "ticks": "outside",
           "title": {
            "standoff": 15
           },
           "zeroline": false,
           "zerolinecolor": "rgb(36,36,36)"
          },
          "yaxis": {
           "automargin": true,
           "gridcolor": "rgb(232,232,232)",
           "linecolor": "rgb(36,36,36)",
           "showgrid": false,
           "showline": true,
           "ticks": "outside",
           "title": {
            "standoff": 15
           },
           "zeroline": false,
           "zerolinecolor": "rgb(36,36,36)"
          }
         }
        },
        "title": {
         "font": {
          "color": "Black",
          "size": 22
         },
         "text": "<b>Intertopic Distance Map",
         "x": 0.5,
         "xanchor": "center",
         "y": 0.95,
         "yanchor": "top"
        },
        "width": 650,
        "xaxis": {
         "anchor": "y",
         "domain": [
          0,
          1
         ],
         "range": [
          -12.611217594146728,
          18.374854278564452
         ],
         "title": {
          "text": ""
         },
         "visible": false
        },
        "yaxis": {
         "anchor": "x",
         "domain": [
          0,
          1
         ],
         "range": [
          -5.054254364967346,
          20.286992931365965
         ],
         "title": {
          "text": ""
         },
         "visible": false
        }
       }
      }
     },
     "metadata": {},
     "output_type": "display_data"
    }
   ],
   "source": [
    "male_topic_model.visualize_topics()"
   ]
  },
  {
   "cell_type": "code",
   "execution_count": null,
   "metadata": {},
   "outputs": [],
   "source": [
    "female_topic_model = BERTopic(embedding_model=\"all-MiniLM-L6-v2\", vectorizer_model=vectorizer_model)\n",
    "female_topics, female_probs = female_topic_model.fit_transform(dialogs[\"female\"] + dialogs[\"female\"])"
   ]
  },
  {
   "cell_type": "code",
   "execution_count": null,
   "metadata": {},
   "outputs": [
    {
     "data": {
      "application/vnd.plotly.v1+json": {
       "config": {
        "plotlyServerURL": "https://plot.ly"
       },
       "data": [
        {
         "marker": {
          "color": "#D55E00"
         },
         "orientation": "h",
         "type": "bar",
         "x": [
          0.05182676605263828,
          0.05182676605263828,
          0.05182676605263828,
          0.0675324316735226,
          0.13850029801902758
         ],
         "xaxis": "x",
         "y": [
          "cedric  ",
          "mark  ",
          "goblet  ",
          "potter  ",
          "harry  "
         ],
         "yaxis": "y"
        },
        {
         "marker": {
          "color": "#0072B2"
         },
         "orientation": "h",
         "type": "bar",
         "x": [
          0.1475399718348881,
          0.1475399718348881,
          0.1475399718348881,
          0.23969879299345204,
          0.23969879299345204
         ],
         "xaxis": "x2",
         "y": [
          "saying  ",
          "shambles  ",
          "hell  ",
          "okay  ",
          "sorry  "
         ],
         "yaxis": "y2"
        },
        {
         "marker": {
          "color": "#CC79A7"
         },
         "orientation": "h",
         "type": "bar",
         "x": [
          0.12424418680832681,
          0.12424418680832681,
          0.19631987472425214,
          0.20185161515238068,
          0.20185161515238068
         ],
         "xaxis": "x3",
         "y": [
          "open  ",
          "runway  ",
          "let  ",
          "said  ",
          "attention  "
         ],
         "yaxis": "y3"
        },
        {
         "marker": {
          "color": "#E69F00"
         },
         "orientation": "h",
         "type": "bar",
         "x": [
          0.14163837296149256,
          0.14163837296149256,
          0.14163837296149256,
          0.23011084127371398,
          0.2998439966304403
         ],
         "xaxis": "x4",
         "y": [
          "line  ",
          "greeting  ",
          "fourteen  ",
          "boys  ",
          "hello  "
         ],
         "yaxis": "y4"
        },
        {
         "marker": {
          "color": "#56B4E9"
         },
         "orientation": "h",
         "type": "bar",
         "x": [
          0.0907938288214696,
          0.0907938288214696,
          0.11477161906956279,
          0.14750694953443202,
          0.19220769014771816
         ],
         "xaxis": "x5",
         "y": [
          "versus  ",
          "bet  ",
          "night  ",
          "hagrid  ",
          "water  "
         ],
         "yaxis": "y5"
        },
        {
         "marker": {
          "color": "#009E73"
         },
         "orientation": "h",
         "type": "bar",
         "x": [
          0.13362110656744583,
          0.13362110656744583,
          0.15405436444223683,
          0.18858112995625176,
          0.24849085065008553
         ],
         "xaxis": "x6",
         "y": [
          "making  ",
          "dimwitted  ",
          "oh  ",
          "mean  ",
          "come  "
         ],
         "yaxis": "y6"
        },
        {
         "marker": {
          "color": "#F0E442"
         },
         "orientation": "h",
         "type": "bar",
         "x": [
          0.20829172494337142,
          0.20829172494337142,
          0.20829172494337142,
          0.3383982959907558,
          0.44094705386829464
         ],
         "xaxis": "x7",
         "y": [
          "stirring  ",
          "wondering  ",
          "cozy  ",
          "dance  ",
          "ball  "
         ],
         "yaxis": "y7"
        },
        {
         "marker": {
          "color": "#D55E00"
         },
         "orientation": "h",
         "type": "bar",
         "x": [
          0.18636628021249022,
          0.18636628021249022,
          0.18636628021249022,
          0.18636628021249022,
          0.302777422728571
         ],
         "xaxis": "x8",
         "y": [
          "sods  ",
          "sound  ",
          "uncomfortable  ",
          "ground  ",
          "bottoms  "
         ],
         "yaxis": "y8"
        }
       ],
       "layout": {
        "annotations": [
         {
          "font": {
           "size": 16
          },
          "showarrow": false,
          "text": "Topic 0",
          "x": 0.0875,
          "xanchor": "center",
          "xref": "paper",
          "y": 1,
          "yanchor": "bottom",
          "yref": "paper"
         },
         {
          "font": {
           "size": 16
          },
          "showarrow": false,
          "text": "Topic 1",
          "x": 0.36250000000000004,
          "xanchor": "center",
          "xref": "paper",
          "y": 1,
          "yanchor": "bottom",
          "yref": "paper"
         },
         {
          "font": {
           "size": 16
          },
          "showarrow": false,
          "text": "Topic 2",
          "x": 0.6375000000000001,
          "xanchor": "center",
          "xref": "paper",
          "y": 1,
          "yanchor": "bottom",
          "yref": "paper"
         },
         {
          "font": {
           "size": 16
          },
          "showarrow": false,
          "text": "Topic 3",
          "x": 0.9125,
          "xanchor": "center",
          "xref": "paper",
          "y": 1,
          "yanchor": "bottom",
          "yref": "paper"
         },
         {
          "font": {
           "size": 16
          },
          "showarrow": false,
          "text": "Topic 4",
          "x": 0.0875,
          "xanchor": "center",
          "xref": "paper",
          "y": 0.4,
          "yanchor": "bottom",
          "yref": "paper"
         },
         {
          "font": {
           "size": 16
          },
          "showarrow": false,
          "text": "Topic 5",
          "x": 0.36250000000000004,
          "xanchor": "center",
          "xref": "paper",
          "y": 0.4,
          "yanchor": "bottom",
          "yref": "paper"
         },
         {
          "font": {
           "size": 16
          },
          "showarrow": false,
          "text": "Topic 6",
          "x": 0.6375000000000001,
          "xanchor": "center",
          "xref": "paper",
          "y": 0.4,
          "yanchor": "bottom",
          "yref": "paper"
         },
         {
          "font": {
           "size": 16
          },
          "showarrow": false,
          "text": "Topic 7",
          "x": 0.9125,
          "xanchor": "center",
          "xref": "paper",
          "y": 0.4,
          "yanchor": "bottom",
          "yref": "paper"
         }
        ],
        "height": 500,
        "hoverlabel": {
         "bgcolor": "white",
         "font": {
          "family": "Rockwell",
          "size": 16
         }
        },
        "showlegend": false,
        "template": {
         "data": {
          "bar": [
           {
            "error_x": {
             "color": "#2a3f5f"
            },
            "error_y": {
             "color": "#2a3f5f"
            },
            "marker": {
             "line": {
              "color": "white",
              "width": 0.5
             },
             "pattern": {
              "fillmode": "overlay",
              "size": 10,
              "solidity": 0.2
             }
            },
            "type": "bar"
           }
          ],
          "barpolar": [
           {
            "marker": {
             "line": {
              "color": "white",
              "width": 0.5
             },
             "pattern": {
              "fillmode": "overlay",
              "size": 10,
              "solidity": 0.2
             }
            },
            "type": "barpolar"
           }
          ],
          "carpet": [
           {
            "aaxis": {
             "endlinecolor": "#2a3f5f",
             "gridcolor": "#C8D4E3",
             "linecolor": "#C8D4E3",
             "minorgridcolor": "#C8D4E3",
             "startlinecolor": "#2a3f5f"
            },
            "baxis": {
             "endlinecolor": "#2a3f5f",
             "gridcolor": "#C8D4E3",
             "linecolor": "#C8D4E3",
             "minorgridcolor": "#C8D4E3",
             "startlinecolor": "#2a3f5f"
            },
            "type": "carpet"
           }
          ],
          "choropleth": [
           {
            "colorbar": {
             "outlinewidth": 0,
             "ticks": ""
            },
            "type": "choropleth"
           }
          ],
          "contour": [
           {
            "colorbar": {
             "outlinewidth": 0,
             "ticks": ""
            },
            "colorscale": [
             [
              0,
              "#0d0887"
             ],
             [
              0.1111111111111111,
              "#46039f"
             ],
             [
              0.2222222222222222,
              "#7201a8"
             ],
             [
              0.3333333333333333,
              "#9c179e"
             ],
             [
              0.4444444444444444,
              "#bd3786"
             ],
             [
              0.5555555555555556,
              "#d8576b"
             ],
             [
              0.6666666666666666,
              "#ed7953"
             ],
             [
              0.7777777777777778,
              "#fb9f3a"
             ],
             [
              0.8888888888888888,
              "#fdca26"
             ],
             [
              1,
              "#f0f921"
             ]
            ],
            "type": "contour"
           }
          ],
          "contourcarpet": [
           {
            "colorbar": {
             "outlinewidth": 0,
             "ticks": ""
            },
            "type": "contourcarpet"
           }
          ],
          "heatmap": [
           {
            "colorbar": {
             "outlinewidth": 0,
             "ticks": ""
            },
            "colorscale": [
             [
              0,
              "#0d0887"
             ],
             [
              0.1111111111111111,
              "#46039f"
             ],
             [
              0.2222222222222222,
              "#7201a8"
             ],
             [
              0.3333333333333333,
              "#9c179e"
             ],
             [
              0.4444444444444444,
              "#bd3786"
             ],
             [
              0.5555555555555556,
              "#d8576b"
             ],
             [
              0.6666666666666666,
              "#ed7953"
             ],
             [
              0.7777777777777778,
              "#fb9f3a"
             ],
             [
              0.8888888888888888,
              "#fdca26"
             ],
             [
              1,
              "#f0f921"
             ]
            ],
            "type": "heatmap"
           }
          ],
          "heatmapgl": [
           {
            "colorbar": {
             "outlinewidth": 0,
             "ticks": ""
            },
            "colorscale": [
             [
              0,
              "#0d0887"
             ],
             [
              0.1111111111111111,
              "#46039f"
             ],
             [
              0.2222222222222222,
              "#7201a8"
             ],
             [
              0.3333333333333333,
              "#9c179e"
             ],
             [
              0.4444444444444444,
              "#bd3786"
             ],
             [
              0.5555555555555556,
              "#d8576b"
             ],
             [
              0.6666666666666666,
              "#ed7953"
             ],
             [
              0.7777777777777778,
              "#fb9f3a"
             ],
             [
              0.8888888888888888,
              "#fdca26"
             ],
             [
              1,
              "#f0f921"
             ]
            ],
            "type": "heatmapgl"
           }
          ],
          "histogram": [
           {
            "marker": {
             "pattern": {
              "fillmode": "overlay",
              "size": 10,
              "solidity": 0.2
             }
            },
            "type": "histogram"
           }
          ],
          "histogram2d": [
           {
            "colorbar": {
             "outlinewidth": 0,
             "ticks": ""
            },
            "colorscale": [
             [
              0,
              "#0d0887"
             ],
             [
              0.1111111111111111,
              "#46039f"
             ],
             [
              0.2222222222222222,
              "#7201a8"
             ],
             [
              0.3333333333333333,
              "#9c179e"
             ],
             [
              0.4444444444444444,
              "#bd3786"
             ],
             [
              0.5555555555555556,
              "#d8576b"
             ],
             [
              0.6666666666666666,
              "#ed7953"
             ],
             [
              0.7777777777777778,
              "#fb9f3a"
             ],
             [
              0.8888888888888888,
              "#fdca26"
             ],
             [
              1,
              "#f0f921"
             ]
            ],
            "type": "histogram2d"
           }
          ],
          "histogram2dcontour": [
           {
            "colorbar": {
             "outlinewidth": 0,
             "ticks": ""
            },
            "colorscale": [
             [
              0,
              "#0d0887"
             ],
             [
              0.1111111111111111,
              "#46039f"
             ],
             [
              0.2222222222222222,
              "#7201a8"
             ],
             [
              0.3333333333333333,
              "#9c179e"
             ],
             [
              0.4444444444444444,
              "#bd3786"
             ],
             [
              0.5555555555555556,
              "#d8576b"
             ],
             [
              0.6666666666666666,
              "#ed7953"
             ],
             [
              0.7777777777777778,
              "#fb9f3a"
             ],
             [
              0.8888888888888888,
              "#fdca26"
             ],
             [
              1,
              "#f0f921"
             ]
            ],
            "type": "histogram2dcontour"
           }
          ],
          "mesh3d": [
           {
            "colorbar": {
             "outlinewidth": 0,
             "ticks": ""
            },
            "type": "mesh3d"
           }
          ],
          "parcoords": [
           {
            "line": {
             "colorbar": {
              "outlinewidth": 0,
              "ticks": ""
             }
            },
            "type": "parcoords"
           }
          ],
          "pie": [
           {
            "automargin": true,
            "type": "pie"
           }
          ],
          "scatter": [
           {
            "marker": {
             "colorbar": {
              "outlinewidth": 0,
              "ticks": ""
             }
            },
            "type": "scatter"
           }
          ],
          "scatter3d": [
           {
            "line": {
             "colorbar": {
              "outlinewidth": 0,
              "ticks": ""
             }
            },
            "marker": {
             "colorbar": {
              "outlinewidth": 0,
              "ticks": ""
             }
            },
            "type": "scatter3d"
           }
          ],
          "scattercarpet": [
           {
            "marker": {
             "colorbar": {
              "outlinewidth": 0,
              "ticks": ""
             }
            },
            "type": "scattercarpet"
           }
          ],
          "scattergeo": [
           {
            "marker": {
             "colorbar": {
              "outlinewidth": 0,
              "ticks": ""
             }
            },
            "type": "scattergeo"
           }
          ],
          "scattergl": [
           {
            "marker": {
             "colorbar": {
              "outlinewidth": 0,
              "ticks": ""
             }
            },
            "type": "scattergl"
           }
          ],
          "scattermapbox": [
           {
            "marker": {
             "colorbar": {
              "outlinewidth": 0,
              "ticks": ""
             }
            },
            "type": "scattermapbox"
           }
          ],
          "scatterpolar": [
           {
            "marker": {
             "colorbar": {
              "outlinewidth": 0,
              "ticks": ""
             }
            },
            "type": "scatterpolar"
           }
          ],
          "scatterpolargl": [
           {
            "marker": {
             "colorbar": {
              "outlinewidth": 0,
              "ticks": ""
             }
            },
            "type": "scatterpolargl"
           }
          ],
          "scatterternary": [
           {
            "marker": {
             "colorbar": {
              "outlinewidth": 0,
              "ticks": ""
             }
            },
            "type": "scatterternary"
           }
          ],
          "surface": [
           {
            "colorbar": {
             "outlinewidth": 0,
             "ticks": ""
            },
            "colorscale": [
             [
              0,
              "#0d0887"
             ],
             [
              0.1111111111111111,
              "#46039f"
             ],
             [
              0.2222222222222222,
              "#7201a8"
             ],
             [
              0.3333333333333333,
              "#9c179e"
             ],
             [
              0.4444444444444444,
              "#bd3786"
             ],
             [
              0.5555555555555556,
              "#d8576b"
             ],
             [
              0.6666666666666666,
              "#ed7953"
             ],
             [
              0.7777777777777778,
              "#fb9f3a"
             ],
             [
              0.8888888888888888,
              "#fdca26"
             ],
             [
              1,
              "#f0f921"
             ]
            ],
            "type": "surface"
           }
          ],
          "table": [
           {
            "cells": {
             "fill": {
              "color": "#EBF0F8"
             },
             "line": {
              "color": "white"
             }
            },
            "header": {
             "fill": {
              "color": "#C8D4E3"
             },
             "line": {
              "color": "white"
             }
            },
            "type": "table"
           }
          ]
         },
         "layout": {
          "annotationdefaults": {
           "arrowcolor": "#2a3f5f",
           "arrowhead": 0,
           "arrowwidth": 1
          },
          "autotypenumbers": "strict",
          "coloraxis": {
           "colorbar": {
            "outlinewidth": 0,
            "ticks": ""
           }
          },
          "colorscale": {
           "diverging": [
            [
             0,
             "#8e0152"
            ],
            [
             0.1,
             "#c51b7d"
            ],
            [
             0.2,
             "#de77ae"
            ],
            [
             0.3,
             "#f1b6da"
            ],
            [
             0.4,
             "#fde0ef"
            ],
            [
             0.5,
             "#f7f7f7"
            ],
            [
             0.6,
             "#e6f5d0"
            ],
            [
             0.7,
             "#b8e186"
            ],
            [
             0.8,
             "#7fbc41"
            ],
            [
             0.9,
             "#4d9221"
            ],
            [
             1,
             "#276419"
            ]
           ],
           "sequential": [
            [
             0,
             "#0d0887"
            ],
            [
             0.1111111111111111,
             "#46039f"
            ],
            [
             0.2222222222222222,
             "#7201a8"
            ],
            [
             0.3333333333333333,
             "#9c179e"
            ],
            [
             0.4444444444444444,
             "#bd3786"
            ],
            [
             0.5555555555555556,
             "#d8576b"
            ],
            [
             0.6666666666666666,
             "#ed7953"
            ],
            [
             0.7777777777777778,
             "#fb9f3a"
            ],
            [
             0.8888888888888888,
             "#fdca26"
            ],
            [
             1,
             "#f0f921"
            ]
           ],
           "sequentialminus": [
            [
             0,
             "#0d0887"
            ],
            [
             0.1111111111111111,
             "#46039f"
            ],
            [
             0.2222222222222222,
             "#7201a8"
            ],
            [
             0.3333333333333333,
             "#9c179e"
            ],
            [
             0.4444444444444444,
             "#bd3786"
            ],
            [
             0.5555555555555556,
             "#d8576b"
            ],
            [
             0.6666666666666666,
             "#ed7953"
            ],
            [
             0.7777777777777778,
             "#fb9f3a"
            ],
            [
             0.8888888888888888,
             "#fdca26"
            ],
            [
             1,
             "#f0f921"
            ]
           ]
          },
          "colorway": [
           "#636efa",
           "#EF553B",
           "#00cc96",
           "#ab63fa",
           "#FFA15A",
           "#19d3f3",
           "#FF6692",
           "#B6E880",
           "#FF97FF",
           "#FECB52"
          ],
          "font": {
           "color": "#2a3f5f"
          },
          "geo": {
           "bgcolor": "white",
           "lakecolor": "white",
           "landcolor": "white",
           "showlakes": true,
           "showland": true,
           "subunitcolor": "#C8D4E3"
          },
          "hoverlabel": {
           "align": "left"
          },
          "hovermode": "closest",
          "mapbox": {
           "style": "light"
          },
          "paper_bgcolor": "white",
          "plot_bgcolor": "white",
          "polar": {
           "angularaxis": {
            "gridcolor": "#EBF0F8",
            "linecolor": "#EBF0F8",
            "ticks": ""
           },
           "bgcolor": "white",
           "radialaxis": {
            "gridcolor": "#EBF0F8",
            "linecolor": "#EBF0F8",
            "ticks": ""
           }
          },
          "scene": {
           "xaxis": {
            "backgroundcolor": "white",
            "gridcolor": "#DFE8F3",
            "gridwidth": 2,
            "linecolor": "#EBF0F8",
            "showbackground": true,
            "ticks": "",
            "zerolinecolor": "#EBF0F8"
           },
           "yaxis": {
            "backgroundcolor": "white",
            "gridcolor": "#DFE8F3",
            "gridwidth": 2,
            "linecolor": "#EBF0F8",
            "showbackground": true,
            "ticks": "",
            "zerolinecolor": "#EBF0F8"
           },
           "zaxis": {
            "backgroundcolor": "white",
            "gridcolor": "#DFE8F3",
            "gridwidth": 2,
            "linecolor": "#EBF0F8",
            "showbackground": true,
            "ticks": "",
            "zerolinecolor": "#EBF0F8"
           }
          },
          "shapedefaults": {
           "line": {
            "color": "#2a3f5f"
           }
          },
          "ternary": {
           "aaxis": {
            "gridcolor": "#DFE8F3",
            "linecolor": "#A2B1C6",
            "ticks": ""
           },
           "baxis": {
            "gridcolor": "#DFE8F3",
            "linecolor": "#A2B1C6",
            "ticks": ""
           },
           "bgcolor": "white",
           "caxis": {
            "gridcolor": "#DFE8F3",
            "linecolor": "#A2B1C6",
            "ticks": ""
           }
          },
          "title": {
           "x": 0.05
          },
          "xaxis": {
           "automargin": true,
           "gridcolor": "#EBF0F8",
           "linecolor": "#EBF0F8",
           "ticks": "",
           "title": {
            "standoff": 15
           },
           "zerolinecolor": "#EBF0F8",
           "zerolinewidth": 2
          },
          "yaxis": {
           "automargin": true,
           "gridcolor": "#EBF0F8",
           "linecolor": "#EBF0F8",
           "ticks": "",
           "title": {
            "standoff": 15
           },
           "zerolinecolor": "#EBF0F8",
           "zerolinewidth": 2
          }
         }
        },
        "title": {
         "font": {
          "color": "Black",
          "size": 22
         },
         "text": "<b>Topic Word Scores",
         "x": 0.5,
         "xanchor": "center",
         "yanchor": "top"
        },
        "width": 1000,
        "xaxis": {
         "anchor": "y",
         "domain": [
          0,
          0.175
         ],
         "showgrid": true
        },
        "xaxis2": {
         "anchor": "y2",
         "domain": [
          0.275,
          0.45
         ],
         "showgrid": true
        },
        "xaxis3": {
         "anchor": "y3",
         "domain": [
          0.55,
          0.7250000000000001
         ],
         "showgrid": true
        },
        "xaxis4": {
         "anchor": "y4",
         "domain": [
          0.825,
          1
         ],
         "showgrid": true
        },
        "xaxis5": {
         "anchor": "y5",
         "domain": [
          0,
          0.175
         ],
         "showgrid": true
        },
        "xaxis6": {
         "anchor": "y6",
         "domain": [
          0.275,
          0.45
         ],
         "showgrid": true
        },
        "xaxis7": {
         "anchor": "y7",
         "domain": [
          0.55,
          0.7250000000000001
         ],
         "showgrid": true
        },
        "xaxis8": {
         "anchor": "y8",
         "domain": [
          0.825,
          1
         ],
         "showgrid": true
        },
        "yaxis": {
         "anchor": "x",
         "domain": [
          0.6000000000000001,
          1
         ],
         "showgrid": true
        },
        "yaxis2": {
         "anchor": "x2",
         "domain": [
          0.6000000000000001,
          1
         ],
         "showgrid": true
        },
        "yaxis3": {
         "anchor": "x3",
         "domain": [
          0.6000000000000001,
          1
         ],
         "showgrid": true
        },
        "yaxis4": {
         "anchor": "x4",
         "domain": [
          0.6000000000000001,
          1
         ],
         "showgrid": true
        },
        "yaxis5": {
         "anchor": "x5",
         "domain": [
          0,
          0.4
         ],
         "showgrid": true
        },
        "yaxis6": {
         "anchor": "x6",
         "domain": [
          0,
          0.4
         ],
         "showgrid": true
        },
        "yaxis7": {
         "anchor": "x7",
         "domain": [
          0,
          0.4
         ],
         "showgrid": true
        },
        "yaxis8": {
         "anchor": "x8",
         "domain": [
          0,
          0.4
         ],
         "showgrid": true
        }
       }
      }
     },
     "metadata": {},
     "output_type": "display_data"
    }
   ],
   "source": [
    "female_topic_model.visualize_barchart()"
   ]
  },
  {
   "cell_type": "code",
   "execution_count": null,
   "metadata": {},
   "outputs": [
    {
     "data": {
      "application/vnd.plotly.v1+json": {
       "config": {
        "plotlyServerURL": "https://plot.ly"
       },
       "data": [
        {
         "customdata": [
          [
           1,
           "sorry | okay | hell | shambles | saying",
           40
          ],
          [
           2,
           "attention | said | let | runway | open",
           29
          ],
          [
           3,
           "hello | boys | fourteen | greeting | line",
           20
          ],
          [
           4,
           "water | hagrid | night | bet | versus",
           18
          ],
          [
           5,
           "come | mean | oh | dimwitted | making",
           17
          ],
          [
           6,
           "ball | dance | cozy | wondering | stirring",
           16
          ],
          [
           7,
           "bottoms | ground | uncomfortable | sound | sods",
           16
          ],
          [
           8,
           "courage | page | does | heart | beats",
           16
          ],
          [
           9,
           "lake | black | daily | prophet | nightmares",
           15
          ],
          [
           10,
           "crime | barty | bag | ve | trauma",
           14
          ],
          [
           11,
           "champion | champions | circle | treasures | surface",
           14
          ],
          [
           12,
           "moment | matter | help | fact | believe",
           12
          ],
          [
           13,
           "tournament | ignore | submit | keen | quill",
           12
          ],
          [
           14,
           "ron | says | ronald | spoiled | sight",
           12
          ],
          [
           15,
           "hour | time | thursday | throw | sure",
           12
          ]
         ],
         "hovertemplate": "<b>Topic %{customdata[0]}</b><br>Words: %{customdata[1]}<br>Size: %{customdata[2]}",
         "legendgroup": "",
         "marker": {
          "color": "#B0BEC5",
          "line": {
           "color": "DarkSlateGrey",
           "width": 2
          },
          "size": [
           40,
           29,
           20,
           18,
           17,
           16,
           16,
           16,
           15,
           14,
           14,
           12,
           12,
           12,
           12
          ],
          "sizemode": "area",
          "sizeref": 0.025,
          "symbol": "circle"
         },
         "mode": "markers",
         "name": "",
         "orientation": "v",
         "showlegend": false,
         "type": "scatter",
         "x": [
          15.971269607543945,
          0.07891248166561127,
          15.681967735290527,
          14.908203125,
          -5.797687530517578,
          14.286200523376465,
          0.15957306325435638,
          14.390403747558594,
          15.49171257019043,
          -5.328395366668701,
          15.744292259216309,
          14.791478157043457,
          -5.51732873916626,
          0.4004451036453247,
          14.435759544372559
         ],
         "xaxis": "x",
         "y": [
          0.13054823875427246,
          10.893877983093262,
          0.8698340058326721,
          -0.30660995841026306,
          -14.130151748657227,
          -1.355441689491272,
          10.974839210510254,
          -1.7480041980743408,
          0.14894981682300568,
          -13.661822319030762,
          -0.15512652695178986,
          -1.4794158935546875,
          -13.85070514678955,
          11.21595287322998,
          -0.7101463079452515
         ],
         "yaxis": "y"
        }
       ],
       "layout": {
        "annotations": [
         {
          "showarrow": false,
          "text": "D1",
          "x": -6.667340660095215,
          "y": -1.6756643533706663,
          "yshift": 10
         },
         {
          "showarrow": false,
          "text": "D2",
          "x": 5.849809694290161,
          "xshift": 10,
          "y": 12.898345804214477
         }
        ],
        "height": 650,
        "hoverlabel": {
         "bgcolor": "white",
         "font": {
          "family": "Rockwell",
          "size": 16
         }
        },
        "legend": {
         "itemsizing": "constant",
         "tracegroupgap": 0
        },
        "margin": {
         "t": 60
        },
        "shapes": [
         {
          "line": {
           "color": "#CFD8DC",
           "width": 2
          },
          "type": "line",
          "x0": 5.849809694290161,
          "x1": 5.849809694290161,
          "y0": -16.24967451095581,
          "y1": 12.898345804214477
         },
         {
          "line": {
           "color": "#9E9E9E",
           "width": 2
          },
          "type": "line",
          "x0": -6.667340660095215,
          "x1": 18.366960048675537,
          "y0": -1.6756643533706663,
          "y1": -1.6756643533706663
         }
        ],
        "sliders": [
         {
          "active": 0,
          "pad": {
           "t": 50
          },
          "steps": [
           {
            "args": [
             {
              "marker.color": [
               [
                "red",
                "#B0BEC5",
                "#B0BEC5",
                "#B0BEC5",
                "#B0BEC5",
                "#B0BEC5",
                "#B0BEC5",
                "#B0BEC5",
                "#B0BEC5",
                "#B0BEC5",
                "#B0BEC5",
                "#B0BEC5",
                "#B0BEC5",
                "#B0BEC5",
                "#B0BEC5"
               ]
              ]
             }
            ],
            "label": "Topic 1",
            "method": "update"
           },
           {
            "args": [
             {
              "marker.color": [
               [
                "#B0BEC5",
                "red",
                "#B0BEC5",
                "#B0BEC5",
                "#B0BEC5",
                "#B0BEC5",
                "#B0BEC5",
                "#B0BEC5",
                "#B0BEC5",
                "#B0BEC5",
                "#B0BEC5",
                "#B0BEC5",
                "#B0BEC5",
                "#B0BEC5",
                "#B0BEC5"
               ]
              ]
             }
            ],
            "label": "Topic 2",
            "method": "update"
           },
           {
            "args": [
             {
              "marker.color": [
               [
                "#B0BEC5",
                "#B0BEC5",
                "red",
                "#B0BEC5",
                "#B0BEC5",
                "#B0BEC5",
                "#B0BEC5",
                "#B0BEC5",
                "#B0BEC5",
                "#B0BEC5",
                "#B0BEC5",
                "#B0BEC5",
                "#B0BEC5",
                "#B0BEC5",
                "#B0BEC5"
               ]
              ]
             }
            ],
            "label": "Topic 3",
            "method": "update"
           },
           {
            "args": [
             {
              "marker.color": [
               [
                "#B0BEC5",
                "#B0BEC5",
                "#B0BEC5",
                "red",
                "#B0BEC5",
                "#B0BEC5",
                "#B0BEC5",
                "#B0BEC5",
                "#B0BEC5",
                "#B0BEC5",
                "#B0BEC5",
                "#B0BEC5",
                "#B0BEC5",
                "#B0BEC5",
                "#B0BEC5"
               ]
              ]
             }
            ],
            "label": "Topic 4",
            "method": "update"
           },
           {
            "args": [
             {
              "marker.color": [
               [
                "#B0BEC5",
                "#B0BEC5",
                "#B0BEC5",
                "#B0BEC5",
                "red",
                "#B0BEC5",
                "#B0BEC5",
                "#B0BEC5",
                "#B0BEC5",
                "#B0BEC5",
                "#B0BEC5",
                "#B0BEC5",
                "#B0BEC5",
                "#B0BEC5",
                "#B0BEC5"
               ]
              ]
             }
            ],
            "label": "Topic 5",
            "method": "update"
           },
           {
            "args": [
             {
              "marker.color": [
               [
                "#B0BEC5",
                "#B0BEC5",
                "#B0BEC5",
                "#B0BEC5",
                "#B0BEC5",
                "red",
                "#B0BEC5",
                "#B0BEC5",
                "#B0BEC5",
                "#B0BEC5",
                "#B0BEC5",
                "#B0BEC5",
                "#B0BEC5",
                "#B0BEC5",
                "#B0BEC5"
               ]
              ]
             }
            ],
            "label": "Topic 6",
            "method": "update"
           },
           {
            "args": [
             {
              "marker.color": [
               [
                "#B0BEC5",
                "#B0BEC5",
                "#B0BEC5",
                "#B0BEC5",
                "#B0BEC5",
                "#B0BEC5",
                "red",
                "#B0BEC5",
                "#B0BEC5",
                "#B0BEC5",
                "#B0BEC5",
                "#B0BEC5",
                "#B0BEC5",
                "#B0BEC5",
                "#B0BEC5"
               ]
              ]
             }
            ],
            "label": "Topic 7",
            "method": "update"
           },
           {
            "args": [
             {
              "marker.color": [
               [
                "#B0BEC5",
                "#B0BEC5",
                "#B0BEC5",
                "#B0BEC5",
                "#B0BEC5",
                "#B0BEC5",
                "#B0BEC5",
                "red",
                "#B0BEC5",
                "#B0BEC5",
                "#B0BEC5",
                "#B0BEC5",
                "#B0BEC5",
                "#B0BEC5",
                "#B0BEC5"
               ]
              ]
             }
            ],
            "label": "Topic 8",
            "method": "update"
           },
           {
            "args": [
             {
              "marker.color": [
               [
                "#B0BEC5",
                "#B0BEC5",
                "#B0BEC5",
                "#B0BEC5",
                "#B0BEC5",
                "#B0BEC5",
                "#B0BEC5",
                "#B0BEC5",
                "red",
                "#B0BEC5",
                "#B0BEC5",
                "#B0BEC5",
                "#B0BEC5",
                "#B0BEC5",
                "#B0BEC5"
               ]
              ]
             }
            ],
            "label": "Topic 9",
            "method": "update"
           },
           {
            "args": [
             {
              "marker.color": [
               [
                "#B0BEC5",
                "#B0BEC5",
                "#B0BEC5",
                "#B0BEC5",
                "#B0BEC5",
                "#B0BEC5",
                "#B0BEC5",
                "#B0BEC5",
                "#B0BEC5",
                "red",
                "#B0BEC5",
                "#B0BEC5",
                "#B0BEC5",
                "#B0BEC5",
                "#B0BEC5"
               ]
              ]
             }
            ],
            "label": "Topic 10",
            "method": "update"
           },
           {
            "args": [
             {
              "marker.color": [
               [
                "#B0BEC5",
                "#B0BEC5",
                "#B0BEC5",
                "#B0BEC5",
                "#B0BEC5",
                "#B0BEC5",
                "#B0BEC5",
                "#B0BEC5",
                "#B0BEC5",
                "#B0BEC5",
                "red",
                "#B0BEC5",
                "#B0BEC5",
                "#B0BEC5",
                "#B0BEC5"
               ]
              ]
             }
            ],
            "label": "Topic 11",
            "method": "update"
           },
           {
            "args": [
             {
              "marker.color": [
               [
                "#B0BEC5",
                "#B0BEC5",
                "#B0BEC5",
                "#B0BEC5",
                "#B0BEC5",
                "#B0BEC5",
                "#B0BEC5",
                "#B0BEC5",
                "#B0BEC5",
                "#B0BEC5",
                "#B0BEC5",
                "red",
                "#B0BEC5",
                "#B0BEC5",
                "#B0BEC5"
               ]
              ]
             }
            ],
            "label": "Topic 12",
            "method": "update"
           },
           {
            "args": [
             {
              "marker.color": [
               [
                "#B0BEC5",
                "#B0BEC5",
                "#B0BEC5",
                "#B0BEC5",
                "#B0BEC5",
                "#B0BEC5",
                "#B0BEC5",
                "#B0BEC5",
                "#B0BEC5",
                "#B0BEC5",
                "#B0BEC5",
                "#B0BEC5",
                "red",
                "#B0BEC5",
                "#B0BEC5"
               ]
              ]
             }
            ],
            "label": "Topic 13",
            "method": "update"
           },
           {
            "args": [
             {
              "marker.color": [
               [
                "#B0BEC5",
                "#B0BEC5",
                "#B0BEC5",
                "#B0BEC5",
                "#B0BEC5",
                "#B0BEC5",
                "#B0BEC5",
                "#B0BEC5",
                "#B0BEC5",
                "#B0BEC5",
                "#B0BEC5",
                "#B0BEC5",
                "#B0BEC5",
                "red",
                "#B0BEC5"
               ]
              ]
             }
            ],
            "label": "Topic 14",
            "method": "update"
           },
           {
            "args": [
             {
              "marker.color": [
               [
                "#B0BEC5",
                "#B0BEC5",
                "#B0BEC5",
                "#B0BEC5",
                "#B0BEC5",
                "#B0BEC5",
                "#B0BEC5",
                "#B0BEC5",
                "#B0BEC5",
                "#B0BEC5",
                "#B0BEC5",
                "#B0BEC5",
                "#B0BEC5",
                "#B0BEC5",
                "red"
               ]
              ]
             }
            ],
            "label": "Topic 15",
            "method": "update"
           }
          ]
         }
        ],
        "template": {
         "data": {
          "bar": [
           {
            "error_x": {
             "color": "rgb(36,36,36)"
            },
            "error_y": {
             "color": "rgb(36,36,36)"
            },
            "marker": {
             "line": {
              "color": "white",
              "width": 0.5
             },
             "pattern": {
              "fillmode": "overlay",
              "size": 10,
              "solidity": 0.2
             }
            },
            "type": "bar"
           }
          ],
          "barpolar": [
           {
            "marker": {
             "line": {
              "color": "white",
              "width": 0.5
             },
             "pattern": {
              "fillmode": "overlay",
              "size": 10,
              "solidity": 0.2
             }
            },
            "type": "barpolar"
           }
          ],
          "carpet": [
           {
            "aaxis": {
             "endlinecolor": "rgb(36,36,36)",
             "gridcolor": "white",
             "linecolor": "white",
             "minorgridcolor": "white",
             "startlinecolor": "rgb(36,36,36)"
            },
            "baxis": {
             "endlinecolor": "rgb(36,36,36)",
             "gridcolor": "white",
             "linecolor": "white",
             "minorgridcolor": "white",
             "startlinecolor": "rgb(36,36,36)"
            },
            "type": "carpet"
           }
          ],
          "choropleth": [
           {
            "colorbar": {
             "outlinewidth": 1,
             "tickcolor": "rgb(36,36,36)",
             "ticks": "outside"
            },
            "type": "choropleth"
           }
          ],
          "contour": [
           {
            "colorbar": {
             "outlinewidth": 1,
             "tickcolor": "rgb(36,36,36)",
             "ticks": "outside"
            },
            "colorscale": [
             [
              0,
              "#440154"
             ],
             [
              0.1111111111111111,
              "#482878"
             ],
             [
              0.2222222222222222,
              "#3e4989"
             ],
             [
              0.3333333333333333,
              "#31688e"
             ],
             [
              0.4444444444444444,
              "#26828e"
             ],
             [
              0.5555555555555556,
              "#1f9e89"
             ],
             [
              0.6666666666666666,
              "#35b779"
             ],
             [
              0.7777777777777778,
              "#6ece58"
             ],
             [
              0.8888888888888888,
              "#b5de2b"
             ],
             [
              1,
              "#fde725"
             ]
            ],
            "type": "contour"
           }
          ],
          "contourcarpet": [
           {
            "colorbar": {
             "outlinewidth": 1,
             "tickcolor": "rgb(36,36,36)",
             "ticks": "outside"
            },
            "type": "contourcarpet"
           }
          ],
          "heatmap": [
           {
            "colorbar": {
             "outlinewidth": 1,
             "tickcolor": "rgb(36,36,36)",
             "ticks": "outside"
            },
            "colorscale": [
             [
              0,
              "#440154"
             ],
             [
              0.1111111111111111,
              "#482878"
             ],
             [
              0.2222222222222222,
              "#3e4989"
             ],
             [
              0.3333333333333333,
              "#31688e"
             ],
             [
              0.4444444444444444,
              "#26828e"
             ],
             [
              0.5555555555555556,
              "#1f9e89"
             ],
             [
              0.6666666666666666,
              "#35b779"
             ],
             [
              0.7777777777777778,
              "#6ece58"
             ],
             [
              0.8888888888888888,
              "#b5de2b"
             ],
             [
              1,
              "#fde725"
             ]
            ],
            "type": "heatmap"
           }
          ],
          "heatmapgl": [
           {
            "colorbar": {
             "outlinewidth": 1,
             "tickcolor": "rgb(36,36,36)",
             "ticks": "outside"
            },
            "colorscale": [
             [
              0,
              "#440154"
             ],
             [
              0.1111111111111111,
              "#482878"
             ],
             [
              0.2222222222222222,
              "#3e4989"
             ],
             [
              0.3333333333333333,
              "#31688e"
             ],
             [
              0.4444444444444444,
              "#26828e"
             ],
             [
              0.5555555555555556,
              "#1f9e89"
             ],
             [
              0.6666666666666666,
              "#35b779"
             ],
             [
              0.7777777777777778,
              "#6ece58"
             ],
             [
              0.8888888888888888,
              "#b5de2b"
             ],
             [
              1,
              "#fde725"
             ]
            ],
            "type": "heatmapgl"
           }
          ],
          "histogram": [
           {
            "marker": {
             "line": {
              "color": "white",
              "width": 0.6
             }
            },
            "type": "histogram"
           }
          ],
          "histogram2d": [
           {
            "colorbar": {
             "outlinewidth": 1,
             "tickcolor": "rgb(36,36,36)",
             "ticks": "outside"
            },
            "colorscale": [
             [
              0,
              "#440154"
             ],
             [
              0.1111111111111111,
              "#482878"
             ],
             [
              0.2222222222222222,
              "#3e4989"
             ],
             [
              0.3333333333333333,
              "#31688e"
             ],
             [
              0.4444444444444444,
              "#26828e"
             ],
             [
              0.5555555555555556,
              "#1f9e89"
             ],
             [
              0.6666666666666666,
              "#35b779"
             ],
             [
              0.7777777777777778,
              "#6ece58"
             ],
             [
              0.8888888888888888,
              "#b5de2b"
             ],
             [
              1,
              "#fde725"
             ]
            ],
            "type": "histogram2d"
           }
          ],
          "histogram2dcontour": [
           {
            "colorbar": {
             "outlinewidth": 1,
             "tickcolor": "rgb(36,36,36)",
             "ticks": "outside"
            },
            "colorscale": [
             [
              0,
              "#440154"
             ],
             [
              0.1111111111111111,
              "#482878"
             ],
             [
              0.2222222222222222,
              "#3e4989"
             ],
             [
              0.3333333333333333,
              "#31688e"
             ],
             [
              0.4444444444444444,
              "#26828e"
             ],
             [
              0.5555555555555556,
              "#1f9e89"
             ],
             [
              0.6666666666666666,
              "#35b779"
             ],
             [
              0.7777777777777778,
              "#6ece58"
             ],
             [
              0.8888888888888888,
              "#b5de2b"
             ],
             [
              1,
              "#fde725"
             ]
            ],
            "type": "histogram2dcontour"
           }
          ],
          "mesh3d": [
           {
            "colorbar": {
             "outlinewidth": 1,
             "tickcolor": "rgb(36,36,36)",
             "ticks": "outside"
            },
            "type": "mesh3d"
           }
          ],
          "parcoords": [
           {
            "line": {
             "colorbar": {
              "outlinewidth": 1,
              "tickcolor": "rgb(36,36,36)",
              "ticks": "outside"
             }
            },
            "type": "parcoords"
           }
          ],
          "pie": [
           {
            "automargin": true,
            "type": "pie"
           }
          ],
          "scatter": [
           {
            "marker": {
             "colorbar": {
              "outlinewidth": 1,
              "tickcolor": "rgb(36,36,36)",
              "ticks": "outside"
             }
            },
            "type": "scatter"
           }
          ],
          "scatter3d": [
           {
            "line": {
             "colorbar": {
              "outlinewidth": 1,
              "tickcolor": "rgb(36,36,36)",
              "ticks": "outside"
             }
            },
            "marker": {
             "colorbar": {
              "outlinewidth": 1,
              "tickcolor": "rgb(36,36,36)",
              "ticks": "outside"
             }
            },
            "type": "scatter3d"
           }
          ],
          "scattercarpet": [
           {
            "marker": {
             "colorbar": {
              "outlinewidth": 1,
              "tickcolor": "rgb(36,36,36)",
              "ticks": "outside"
             }
            },
            "type": "scattercarpet"
           }
          ],
          "scattergeo": [
           {
            "marker": {
             "colorbar": {
              "outlinewidth": 1,
              "tickcolor": "rgb(36,36,36)",
              "ticks": "outside"
             }
            },
            "type": "scattergeo"
           }
          ],
          "scattergl": [
           {
            "marker": {
             "colorbar": {
              "outlinewidth": 1,
              "tickcolor": "rgb(36,36,36)",
              "ticks": "outside"
             }
            },
            "type": "scattergl"
           }
          ],
          "scattermapbox": [
           {
            "marker": {
             "colorbar": {
              "outlinewidth": 1,
              "tickcolor": "rgb(36,36,36)",
              "ticks": "outside"
             }
            },
            "type": "scattermapbox"
           }
          ],
          "scatterpolar": [
           {
            "marker": {
             "colorbar": {
              "outlinewidth": 1,
              "tickcolor": "rgb(36,36,36)",
              "ticks": "outside"
             }
            },
            "type": "scatterpolar"
           }
          ],
          "scatterpolargl": [
           {
            "marker": {
             "colorbar": {
              "outlinewidth": 1,
              "tickcolor": "rgb(36,36,36)",
              "ticks": "outside"
             }
            },
            "type": "scatterpolargl"
           }
          ],
          "scatterternary": [
           {
            "marker": {
             "colorbar": {
              "outlinewidth": 1,
              "tickcolor": "rgb(36,36,36)",
              "ticks": "outside"
             }
            },
            "type": "scatterternary"
           }
          ],
          "surface": [
           {
            "colorbar": {
             "outlinewidth": 1,
             "tickcolor": "rgb(36,36,36)",
             "ticks": "outside"
            },
            "colorscale": [
             [
              0,
              "#440154"
             ],
             [
              0.1111111111111111,
              "#482878"
             ],
             [
              0.2222222222222222,
              "#3e4989"
             ],
             [
              0.3333333333333333,
              "#31688e"
             ],
             [
              0.4444444444444444,
              "#26828e"
             ],
             [
              0.5555555555555556,
              "#1f9e89"
             ],
             [
              0.6666666666666666,
              "#35b779"
             ],
             [
              0.7777777777777778,
              "#6ece58"
             ],
             [
              0.8888888888888888,
              "#b5de2b"
             ],
             [
              1,
              "#fde725"
             ]
            ],
            "type": "surface"
           }
          ],
          "table": [
           {
            "cells": {
             "fill": {
              "color": "rgb(237,237,237)"
             },
             "line": {
              "color": "white"
             }
            },
            "header": {
             "fill": {
              "color": "rgb(217,217,217)"
             },
             "line": {
              "color": "white"
             }
            },
            "type": "table"
           }
          ]
         },
         "layout": {
          "annotationdefaults": {
           "arrowhead": 0,
           "arrowwidth": 1
          },
          "autotypenumbers": "strict",
          "coloraxis": {
           "colorbar": {
            "outlinewidth": 1,
            "tickcolor": "rgb(36,36,36)",
            "ticks": "outside"
           }
          },
          "colorscale": {
           "diverging": [
            [
             0,
             "rgb(103,0,31)"
            ],
            [
             0.1,
             "rgb(178,24,43)"
            ],
            [
             0.2,
             "rgb(214,96,77)"
            ],
            [
             0.3,
             "rgb(244,165,130)"
            ],
            [
             0.4,
             "rgb(253,219,199)"
            ],
            [
             0.5,
             "rgb(247,247,247)"
            ],
            [
             0.6,
             "rgb(209,229,240)"
            ],
            [
             0.7,
             "rgb(146,197,222)"
            ],
            [
             0.8,
             "rgb(67,147,195)"
            ],
            [
             0.9,
             "rgb(33,102,172)"
            ],
            [
             1,
             "rgb(5,48,97)"
            ]
           ],
           "sequential": [
            [
             0,
             "#440154"
            ],
            [
             0.1111111111111111,
             "#482878"
            ],
            [
             0.2222222222222222,
             "#3e4989"
            ],
            [
             0.3333333333333333,
             "#31688e"
            ],
            [
             0.4444444444444444,
             "#26828e"
            ],
            [
             0.5555555555555556,
             "#1f9e89"
            ],
            [
             0.6666666666666666,
             "#35b779"
            ],
            [
             0.7777777777777778,
             "#6ece58"
            ],
            [
             0.8888888888888888,
             "#b5de2b"
            ],
            [
             1,
             "#fde725"
            ]
           ],
           "sequentialminus": [
            [
             0,
             "#440154"
            ],
            [
             0.1111111111111111,
             "#482878"
            ],
            [
             0.2222222222222222,
             "#3e4989"
            ],
            [
             0.3333333333333333,
             "#31688e"
            ],
            [
             0.4444444444444444,
             "#26828e"
            ],
            [
             0.5555555555555556,
             "#1f9e89"
            ],
            [
             0.6666666666666666,
             "#35b779"
            ],
            [
             0.7777777777777778,
             "#6ece58"
            ],
            [
             0.8888888888888888,
             "#b5de2b"
            ],
            [
             1,
             "#fde725"
            ]
           ]
          },
          "colorway": [
           "#1F77B4",
           "#FF7F0E",
           "#2CA02C",
           "#D62728",
           "#9467BD",
           "#8C564B",
           "#E377C2",
           "#7F7F7F",
           "#BCBD22",
           "#17BECF"
          ],
          "font": {
           "color": "rgb(36,36,36)"
          },
          "geo": {
           "bgcolor": "white",
           "lakecolor": "white",
           "landcolor": "white",
           "showlakes": true,
           "showland": true,
           "subunitcolor": "white"
          },
          "hoverlabel": {
           "align": "left"
          },
          "hovermode": "closest",
          "mapbox": {
           "style": "light"
          },
          "paper_bgcolor": "white",
          "plot_bgcolor": "white",
          "polar": {
           "angularaxis": {
            "gridcolor": "rgb(232,232,232)",
            "linecolor": "rgb(36,36,36)",
            "showgrid": false,
            "showline": true,
            "ticks": "outside"
           },
           "bgcolor": "white",
           "radialaxis": {
            "gridcolor": "rgb(232,232,232)",
            "linecolor": "rgb(36,36,36)",
            "showgrid": false,
            "showline": true,
            "ticks": "outside"
           }
          },
          "scene": {
           "xaxis": {
            "backgroundcolor": "white",
            "gridcolor": "rgb(232,232,232)",
            "gridwidth": 2,
            "linecolor": "rgb(36,36,36)",
            "showbackground": true,
            "showgrid": false,
            "showline": true,
            "ticks": "outside",
            "zeroline": false,
            "zerolinecolor": "rgb(36,36,36)"
           },
           "yaxis": {
            "backgroundcolor": "white",
            "gridcolor": "rgb(232,232,232)",
            "gridwidth": 2,
            "linecolor": "rgb(36,36,36)",
            "showbackground": true,
            "showgrid": false,
            "showline": true,
            "ticks": "outside",
            "zeroline": false,
            "zerolinecolor": "rgb(36,36,36)"
           },
           "zaxis": {
            "backgroundcolor": "white",
            "gridcolor": "rgb(232,232,232)",
            "gridwidth": 2,
            "linecolor": "rgb(36,36,36)",
            "showbackground": true,
            "showgrid": false,
            "showline": true,
            "ticks": "outside",
            "zeroline": false,
            "zerolinecolor": "rgb(36,36,36)"
           }
          },
          "shapedefaults": {
           "fillcolor": "black",
           "line": {
            "width": 0
           },
           "opacity": 0.3
          },
          "ternary": {
           "aaxis": {
            "gridcolor": "rgb(232,232,232)",
            "linecolor": "rgb(36,36,36)",
            "showgrid": false,
            "showline": true,
            "ticks": "outside"
           },
           "baxis": {
            "gridcolor": "rgb(232,232,232)",
            "linecolor": "rgb(36,36,36)",
            "showgrid": false,
            "showline": true,
            "ticks": "outside"
           },
           "bgcolor": "white",
           "caxis": {
            "gridcolor": "rgb(232,232,232)",
            "linecolor": "rgb(36,36,36)",
            "showgrid": false,
            "showline": true,
            "ticks": "outside"
           }
          },
          "title": {
           "x": 0.05
          },
          "xaxis": {
           "automargin": true,
           "gridcolor": "rgb(232,232,232)",
           "linecolor": "rgb(36,36,36)",
           "showgrid": false,
           "showline": true,
           "ticks": "outside",
           "title": {
            "standoff": 15
           },
           "zeroline": false,
           "zerolinecolor": "rgb(36,36,36)"
          },
          "yaxis": {
           "automargin": true,
           "gridcolor": "rgb(232,232,232)",
           "linecolor": "rgb(36,36,36)",
           "showgrid": false,
           "showline": true,
           "ticks": "outside",
           "title": {
            "standoff": 15
           },
           "zeroline": false,
           "zerolinecolor": "rgb(36,36,36)"
          }
         }
        },
        "title": {
         "font": {
          "color": "Black",
          "size": 22
         },
         "text": "<b>Intertopic Distance Map",
         "x": 0.5,
         "xanchor": "center",
         "y": 0.95,
         "yanchor": "top"
        },
        "width": 650,
        "xaxis": {
         "anchor": "y",
         "domain": [
          0,
          1
         ],
         "range": [
          -6.667340660095215,
          18.366960048675537
         ],
         "title": {
          "text": ""
         },
         "visible": false
        },
        "yaxis": {
         "anchor": "x",
         "domain": [
          0,
          1
         ],
         "range": [
          -16.24967451095581,
          12.898345804214477
         ],
         "title": {
          "text": ""
         },
         "visible": false
        }
       }
      }
     },
     "metadata": {},
     "output_type": "display_data"
    }
   ],
   "source": [
    "female_topic_model.visualize_topics()"
   ]
  },
  {
   "cell_type": "code",
   "execution_count": null,
   "metadata": {},
   "outputs": [],
   "source": []
  }
 ],
 "metadata": {
  "interpreter": {
   "hash": "fa36c5e58b22df99bee6d4d1973af56882a24481406f5db204bca97254a3e1dd"
  },
  "kernelspec": {
   "display_name": "Python 3.9.12 ('bechdelai-E1SYiBH5-py3.9')",
   "language": "python",
   "name": "python3"
  },
  "language_info": {
   "codemirror_mode": {
    "name": "ipython",
    "version": 3
   },
   "file_extension": ".py",
   "mimetype": "text/x-python",
   "name": "python",
   "nbconvert_exporter": "python",
   "pygments_lexer": "ipython3",
   "version": "3.9.12"
  },
  "orig_nbformat": 4
 },
 "nbformat": 4,
 "nbformat_minor": 2
}
