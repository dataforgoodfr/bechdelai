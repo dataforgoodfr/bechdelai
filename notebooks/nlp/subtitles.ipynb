{
 "cells": [
  {
   "cell_type": "code",
   "execution_count": 101,
   "metadata": {},
   "outputs": [],
   "source": [
    "import sys\n",
    "import pandas as pd\n",
    "import re\n",
    "from tqdm import tqdm\n",
    "sys.path.append(\"../../\")\n",
    "from bechdelai.data.opensubtitles import search, get_subtitle_link, download_subtitle_from_url\n",
    "from transformers import pipeline, AutoTokenizer, AutoModelForTokenClassification\n",
    "import plotly.express as px"
   ]
  },
  {
   "cell_type": "code",
   "execution_count": 102,
   "metadata": {},
   "outputs": [],
   "source": [
    "ner_model_path = \"Davlan/bert-base-multilingual-cased-ner-hrl\"\n",
    "tokenizer = AutoTokenizer.from_pretrained(ner_model_path)\n",
    "model = AutoModelForTokenClassification.from_pretrained(ner_model_path)\n",
    "ner = pipeline(\"ner\", model=model, tokenizer=tokenizer, aggregation_strategy=\"average\")"
   ]
  },
  {
   "cell_type": "code",
   "execution_count": 49,
   "metadata": {},
   "outputs": [],
   "source": [
    "model_path = \"cardiffnlp/twitter-xlm-roberta-base-sentiment\"\n",
    "sentiment = pipeline(\n",
    "    task='sentiment-analysis',\n",
    "    model=model_path,\n",
    "    tokenizer=model_path\n",
    ")"
   ]
  },
  {
   "cell_type": "code",
   "execution_count": 50,
   "metadata": {},
   "outputs": [],
   "source": [
    "def remove_html(text):\n",
    "    return re.sub(r'<[^>]*>', '', text)"
   ]
  },
  {
   "cell_type": "code",
   "execution_count": 51,
   "metadata": {},
   "outputs": [],
   "source": [
    "movie_name = \"OSS 117 - Le caire nid d'espions\"\n",
    "language_code = \"fre\""
   ]
  },
  {
   "cell_type": "code",
   "execution_count": 52,
   "metadata": {},
   "outputs": [
    {
     "name": "stdout",
     "output_type": "stream",
     "text": [
      "{'OSS 117: Cairo, Nest of Spies (2006)': 'https://www.opensubtitles.org/en/subtitles/7481711/oss-117-cairo-nest-of-spies-fr'}\n"
     ]
    }
   ],
   "source": [
    "search_url = search(movie_name, language_code)\n",
    "print(search_url)"
   ]
  },
  {
   "cell_type": "code",
   "execution_count": 53,
   "metadata": {},
   "outputs": [],
   "source": [
    "wanted_movie = 'OSS 117: Cairo, Nest of Spies (2006)'"
   ]
  },
  {
   "cell_type": "code",
   "execution_count": 54,
   "metadata": {},
   "outputs": [],
   "source": [
    "subtitle_url = get_subtitle_link(search_url[wanted_movie])"
   ]
  },
  {
   "cell_type": "code",
   "execution_count": 55,
   "metadata": {},
   "outputs": [],
   "source": [
    "subs = download_subtitle_from_url(subtitle_url)"
   ]
  },
  {
   "cell_type": "code",
   "execution_count": 106,
   "metadata": {},
   "outputs": [
    {
     "name": "stderr",
     "output_type": "stream",
     "text": [
      "100%|██████████| 1680/1680 [03:16<00:00,  8.56it/s]\n"
     ]
    }
   ],
   "source": [
    "replicas = []\n",
    "\n",
    "for replica in tqdm(re.split(r'[.!?]', subs.text)):\n",
    "    replica = remove_html(replica).replace(\"\\n\", \" \").replace(\"-\", \" \")\n",
    "    entities = []\n",
    "    if len(replica) == 0:\n",
    "        continue\n",
    "    try:\n",
    "        for entity in ner(replica):\n",
    "            entities.append((entity.get(\"entity_group\"), entity.get(\"word\")))\n",
    "    except TypeError: # some issues with aggregation strategy sometimes\n",
    "        continue\n",
    "    replicas.append({\n",
    "        \"text\": replica,\n",
    "        \"entities\": entities,\n",
    "        \"sentiment\": sentiment(replica)[0].get(\"label\")\n",
    "    })"
   ]
  },
  {
   "cell_type": "code",
   "execution_count": 130,
   "metadata": {},
   "outputs": [],
   "source": [
    "replicas_df = pd.json_normalize(replicas)\n",
    "entity_types = replicas_df.entities.explode().dropna().apply(lambda x: x[0] )\n",
    "entity_labels = replicas_df.entities.explode().dropna().apply(lambda x: x[1] )"
   ]
  },
  {
   "cell_type": "code",
   "execution_count": 108,
   "metadata": {},
   "outputs": [
    {
     "data": {
      "application/vnd.plotly.v1+json": {
       "config": {
        "plotlyServerURL": "https://plot.ly"
       },
       "data": [
        {
         "alignmentgroup": "True",
         "bingroup": "x",
         "hovertemplate": "sentiment=%{x}<br>count=%{y}<extra></extra>",
         "legendgroup": "",
         "marker": {
          "color": "#636efa",
          "pattern": {
           "shape": ""
          }
         },
         "name": "",
         "offsetgroup": "",
         "orientation": "v",
         "showlegend": false,
         "type": "histogram",
         "x": [
          "Neutral",
          "Positive",
          "Neutral",
          "Positive",
          "Negative",
          "Negative",
          "Negative",
          "Negative",
          "Negative",
          "Negative",
          "Negative",
          "Negative",
          "Negative",
          "Negative",
          "Neutral",
          "Negative",
          "Negative",
          "Negative",
          "Neutral",
          "Neutral",
          "Negative",
          "Neutral",
          "Negative",
          "Neutral",
          "Negative",
          "Neutral",
          "Neutral",
          "Neutral",
          "Neutral",
          "Neutral",
          "Neutral",
          "Negative",
          "Negative",
          "Positive",
          "Positive",
          "Neutral",
          "Neutral",
          "Negative",
          "Negative",
          "Negative",
          "Negative",
          "Neutral",
          "Neutral",
          "Positive",
          "Negative",
          "Negative",
          "Negative",
          "Neutral",
          "Neutral",
          "Neutral",
          "Neutral",
          "Neutral",
          "Neutral",
          "Negative",
          "Neutral",
          "Negative",
          "Negative",
          "Negative",
          "Neutral",
          "Negative",
          "Positive",
          "Neutral",
          "Positive",
          "Positive",
          "Negative",
          "Neutral",
          "Negative",
          "Positive",
          "Negative",
          "Neutral",
          "Negative",
          "Negative",
          "Neutral",
          "Positive",
          "Neutral",
          "Negative",
          "Neutral",
          "Neutral",
          "Positive",
          "Neutral",
          "Neutral",
          "Positive",
          "Neutral",
          "Positive",
          "Positive",
          "Neutral",
          "Neutral",
          "Positive",
          "Neutral",
          "Negative",
          "Neutral",
          "Neutral",
          "Neutral",
          "Neutral",
          "Neutral",
          "Negative",
          "Positive",
          "Negative",
          "Negative",
          "Negative",
          "Negative",
          "Negative",
          "Neutral",
          "Negative",
          "Neutral",
          "Negative",
          "Positive",
          "Negative",
          "Neutral",
          "Neutral",
          "Neutral",
          "Neutral",
          "Neutral",
          "Positive",
          "Neutral",
          "Neutral",
          "Positive",
          "Neutral",
          "Neutral",
          "Neutral",
          "Neutral",
          "Neutral",
          "Negative",
          "Positive",
          "Positive",
          "Neutral",
          "Positive",
          "Positive",
          "Neutral",
          "Positive",
          "Neutral",
          "Neutral",
          "Neutral",
          "Neutral",
          "Neutral",
          "Positive",
          "Positive",
          "Negative",
          "Positive",
          "Neutral",
          "Neutral",
          "Neutral",
          "Negative",
          "Positive",
          "Neutral",
          "Positive",
          "Positive",
          "Neutral",
          "Negative",
          "Neutral",
          "Neutral",
          "Neutral",
          "Neutral",
          "Neutral",
          "Positive",
          "Positive",
          "Neutral",
          "Positive",
          "Positive",
          "Neutral",
          "Negative",
          "Neutral",
          "Neutral",
          "Negative",
          "Neutral",
          "Neutral",
          "Positive",
          "Negative",
          "Neutral",
          "Negative",
          "Negative",
          "Negative",
          "Neutral",
          "Negative",
          "Negative",
          "Positive",
          "Positive",
          "Negative",
          "Negative",
          "Negative",
          "Neutral",
          "Positive",
          "Positive",
          "Positive",
          "Positive",
          "Positive",
          "Positive",
          "Neutral",
          "Neutral",
          "Negative",
          "Neutral",
          "Negative",
          "Negative",
          "Negative",
          "Neutral",
          "Neutral",
          "Negative",
          "Neutral",
          "Neutral",
          "Negative",
          "Positive",
          "Negative",
          "Positive",
          "Positive",
          "Neutral",
          "Positive",
          "Neutral",
          "Neutral",
          "Positive",
          "Positive",
          "Negative",
          "Negative",
          "Negative",
          "Negative",
          "Positive",
          "Neutral",
          "Negative",
          "Positive",
          "Positive",
          "Positive",
          "Positive",
          "Negative",
          "Neutral",
          "Neutral",
          "Neutral",
          "Positive",
          "Neutral",
          "Neutral",
          "Negative",
          "Negative",
          "Neutral",
          "Negative",
          "Neutral",
          "Neutral",
          "Negative",
          "Positive",
          "Positive",
          "Negative",
          "Neutral",
          "Neutral",
          "Neutral",
          "Negative",
          "Neutral",
          "Negative",
          "Negative",
          "Negative",
          "Neutral",
          "Neutral",
          "Neutral",
          "Positive",
          "Positive",
          "Positive",
          "Positive",
          "Positive",
          "Neutral",
          "Neutral",
          "Neutral",
          "Neutral",
          "Neutral",
          "Positive",
          "Positive",
          "Positive",
          "Negative",
          "Neutral",
          "Positive",
          "Neutral",
          "Positive",
          "Positive",
          "Positive",
          "Neutral",
          "Positive",
          "Positive",
          "Neutral",
          "Neutral",
          "Positive",
          "Positive",
          "Neutral",
          "Neutral",
          "Neutral",
          "Negative",
          "Positive",
          "Negative",
          "Neutral",
          "Neutral",
          "Neutral",
          "Positive",
          "Neutral",
          "Neutral",
          "Negative",
          "Negative",
          "Negative",
          "Neutral",
          "Negative",
          "Positive",
          "Neutral",
          "Neutral",
          "Neutral",
          "Neutral",
          "Negative",
          "Neutral",
          "Negative",
          "Positive",
          "Positive",
          "Neutral",
          "Neutral",
          "Neutral",
          "Negative",
          "Neutral",
          "Negative",
          "Neutral",
          "Negative",
          "Neutral",
          "Positive",
          "Positive",
          "Positive",
          "Negative",
          "Negative",
          "Neutral",
          "Neutral",
          "Neutral",
          "Positive",
          "Positive",
          "Neutral",
          "Positive",
          "Negative",
          "Negative",
          "Negative",
          "Positive",
          "Neutral",
          "Positive",
          "Positive",
          "Neutral",
          "Positive",
          "Negative",
          "Negative",
          "Positive",
          "Negative",
          "Neutral",
          "Neutral",
          "Positive",
          "Positive",
          "Neutral",
          "Negative",
          "Neutral",
          "Positive",
          "Neutral",
          "Positive",
          "Negative",
          "Positive",
          "Positive",
          "Positive",
          "Neutral",
          "Neutral",
          "Negative",
          "Positive",
          "Neutral",
          "Negative",
          "Neutral",
          "Neutral",
          "Neutral",
          "Neutral",
          "Positive",
          "Neutral",
          "Negative",
          "Neutral",
          "Positive",
          "Positive",
          "Positive",
          "Positive",
          "Negative",
          "Negative",
          "Negative",
          "Negative",
          "Neutral",
          "Negative",
          "Neutral",
          "Negative",
          "Positive",
          "Negative",
          "Negative",
          "Positive",
          "Neutral",
          "Negative",
          "Positive",
          "Negative",
          "Positive",
          "Neutral",
          "Neutral",
          "Negative",
          "Negative",
          "Negative",
          "Positive",
          "Neutral",
          "Negative",
          "Neutral",
          "Positive",
          "Positive",
          "Negative",
          "Negative",
          "Positive",
          "Positive",
          "Positive",
          "Negative",
          "Neutral",
          "Neutral",
          "Neutral",
          "Neutral",
          "Positive",
          "Positive",
          "Positive",
          "Positive",
          "Positive",
          "Neutral",
          "Positive",
          "Neutral",
          "Positive",
          "Neutral",
          "Neutral",
          "Negative",
          "Negative",
          "Neutral",
          "Positive",
          "Positive",
          "Negative",
          "Negative",
          "Negative",
          "Negative",
          "Negative",
          "Positive",
          "Neutral",
          "Negative",
          "Negative",
          "Neutral",
          "Neutral",
          "Positive",
          "Positive",
          "Neutral",
          "Negative",
          "Neutral",
          "Neutral",
          "Negative",
          "Neutral",
          "Negative",
          "Positive",
          "Positive",
          "Neutral",
          "Neutral",
          "Negative",
          "Negative",
          "Neutral",
          "Neutral",
          "Positive",
          "Positive",
          "Positive",
          "Negative",
          "Negative",
          "Positive",
          "Negative",
          "Negative",
          "Negative",
          "Positive",
          "Negative",
          "Positive",
          "Neutral",
          "Neutral",
          "Negative",
          "Positive",
          "Neutral",
          "Neutral",
          "Neutral",
          "Positive",
          "Negative",
          "Positive",
          "Neutral",
          "Neutral",
          "Positive",
          "Positive",
          "Positive",
          "Negative",
          "Positive",
          "Neutral",
          "Negative",
          "Neutral",
          "Positive",
          "Positive",
          "Positive",
          "Negative",
          "Positive",
          "Positive",
          "Negative",
          "Positive",
          "Neutral",
          "Negative",
          "Negative",
          "Neutral",
          "Negative",
          "Negative",
          "Negative",
          "Neutral",
          "Negative",
          "Positive",
          "Neutral",
          "Positive",
          "Neutral",
          "Neutral",
          "Neutral",
          "Positive",
          "Negative",
          "Neutral",
          "Negative",
          "Negative",
          "Neutral",
          "Neutral",
          "Neutral",
          "Neutral",
          "Neutral",
          "Neutral",
          "Negative",
          "Neutral",
          "Neutral",
          "Neutral",
          "Neutral",
          "Neutral",
          "Neutral",
          "Neutral",
          "Negative",
          "Negative",
          "Negative",
          "Negative",
          "Negative",
          "Negative",
          "Neutral",
          "Neutral",
          "Negative",
          "Negative",
          "Negative",
          "Neutral",
          "Negative",
          "Neutral",
          "Neutral",
          "Neutral",
          "Negative",
          "Positive",
          "Positive",
          "Positive",
          "Negative",
          "Negative",
          "Neutral",
          "Negative",
          "Negative",
          "Neutral",
          "Negative",
          "Neutral",
          "Negative",
          "Neutral",
          "Neutral",
          "Neutral",
          "Positive",
          "Positive",
          "Positive",
          "Positive",
          "Negative",
          "Neutral",
          "Positive",
          "Positive",
          "Positive",
          "Neutral",
          "Negative",
          "Negative",
          "Negative",
          "Negative",
          "Negative",
          "Negative",
          "Neutral",
          "Neutral",
          "Positive",
          "Negative",
          "Negative",
          "Neutral",
          "Positive",
          "Negative",
          "Negative",
          "Negative",
          "Negative",
          "Neutral",
          "Neutral",
          "Negative",
          "Neutral",
          "Neutral",
          "Neutral",
          "Negative",
          "Neutral",
          "Neutral",
          "Negative",
          "Positive",
          "Positive",
          "Positive",
          "Neutral",
          "Neutral",
          "Positive",
          "Neutral",
          "Neutral",
          "Neutral",
          "Neutral",
          "Positive",
          "Positive",
          "Negative",
          "Neutral",
          "Neutral",
          "Negative",
          "Neutral",
          "Positive",
          "Negative",
          "Neutral",
          "Negative",
          "Negative",
          "Neutral",
          "Neutral",
          "Negative",
          "Positive",
          "Negative",
          "Negative",
          "Negative",
          "Negative",
          "Positive",
          "Neutral",
          "Neutral",
          "Neutral",
          "Neutral",
          "Negative",
          "Neutral",
          "Positive",
          "Negative",
          "Neutral",
          "Positive",
          "Neutral",
          "Neutral",
          "Positive",
          "Neutral",
          "Positive",
          "Negative",
          "Positive",
          "Neutral",
          "Neutral",
          "Positive",
          "Neutral",
          "Neutral",
          "Negative",
          "Negative",
          "Positive",
          "Negative",
          "Negative",
          "Positive",
          "Positive",
          "Neutral",
          "Positive",
          "Neutral",
          "Neutral",
          "Positive",
          "Positive",
          "Negative",
          "Negative",
          "Negative",
          "Neutral",
          "Negative",
          "Neutral",
          "Positive",
          "Positive",
          "Positive",
          "Positive",
          "Positive",
          "Positive",
          "Positive",
          "Positive",
          "Positive",
          "Positive",
          "Positive",
          "Positive",
          "Positive",
          "Positive",
          "Negative",
          "Positive",
          "Positive",
          "Positive",
          "Positive",
          "Positive",
          "Positive",
          "Neutral",
          "Neutral",
          "Positive",
          "Negative",
          "Neutral",
          "Positive",
          "Negative",
          "Negative",
          "Negative",
          "Negative",
          "Positive",
          "Negative",
          "Positive",
          "Neutral",
          "Neutral",
          "Neutral",
          "Negative",
          "Negative",
          "Negative",
          "Negative",
          "Negative",
          "Positive",
          "Positive",
          "Negative",
          "Negative",
          "Negative",
          "Negative",
          "Negative",
          "Neutral",
          "Negative",
          "Positive",
          "Negative",
          "Negative",
          "Neutral",
          "Positive",
          "Negative",
          "Positive",
          "Negative",
          "Negative",
          "Negative",
          "Neutral",
          "Positive",
          "Neutral",
          "Negative",
          "Positive",
          "Positive",
          "Positive",
          "Negative",
          "Negative",
          "Negative",
          "Negative",
          "Positive",
          "Neutral",
          "Neutral",
          "Neutral",
          "Neutral",
          "Negative",
          "Negative",
          "Neutral",
          "Negative",
          "Positive",
          "Negative",
          "Negative",
          "Positive",
          "Positive",
          "Negative",
          "Positive",
          "Neutral",
          "Neutral",
          "Positive",
          "Negative",
          "Negative",
          "Negative",
          "Negative",
          "Negative",
          "Neutral",
          "Neutral",
          "Negative",
          "Neutral",
          "Negative",
          "Neutral",
          "Negative",
          "Negative",
          "Negative",
          "Neutral",
          "Negative",
          "Positive",
          "Neutral",
          "Negative",
          "Negative",
          "Negative",
          "Negative",
          "Positive",
          "Negative",
          "Negative",
          "Negative",
          "Positive",
          "Positive",
          "Positive",
          "Negative",
          "Negative",
          "Negative",
          "Neutral",
          "Negative",
          "Positive",
          "Neutral",
          "Positive",
          "Negative",
          "Negative",
          "Neutral",
          "Neutral",
          "Negative",
          "Positive",
          "Positive",
          "Negative",
          "Neutral",
          "Negative",
          "Neutral",
          "Positive",
          "Neutral",
          "Neutral",
          "Neutral",
          "Neutral",
          "Neutral",
          "Neutral",
          "Neutral",
          "Positive",
          "Positive",
          "Negative",
          "Neutral",
          "Neutral",
          "Neutral",
          "Negative",
          "Negative",
          "Neutral",
          "Positive",
          "Negative",
          "Negative",
          "Positive",
          "Negative",
          "Neutral",
          "Negative",
          "Neutral",
          "Neutral",
          "Neutral",
          "Negative",
          "Negative",
          "Neutral",
          "Neutral",
          "Neutral",
          "Negative",
          "Neutral",
          "Positive",
          "Positive",
          "Positive",
          "Positive",
          "Positive",
          "Positive",
          "Negative",
          "Neutral",
          "Positive",
          "Positive",
          "Negative",
          "Positive",
          "Negative",
          "Positive",
          "Neutral",
          "Positive",
          "Neutral",
          "Negative",
          "Positive",
          "Neutral",
          "Positive",
          "Negative",
          "Negative",
          "Positive",
          "Positive",
          "Negative",
          "Negative",
          "Neutral",
          "Negative",
          "Negative",
          "Positive",
          "Neutral",
          "Positive",
          "Negative",
          "Neutral",
          "Neutral",
          "Neutral",
          "Negative",
          "Negative",
          "Positive",
          "Positive",
          "Neutral",
          "Negative",
          "Negative",
          "Neutral",
          "Negative",
          "Negative",
          "Negative",
          "Neutral",
          "Negative",
          "Positive",
          "Negative",
          "Negative",
          "Neutral",
          "Positive",
          "Positive",
          "Positive",
          "Positive",
          "Neutral",
          "Neutral",
          "Neutral",
          "Neutral",
          "Negative",
          "Neutral",
          "Positive",
          "Positive",
          "Neutral",
          "Positive",
          "Neutral",
          "Neutral",
          "Positive",
          "Positive",
          "Neutral",
          "Positive",
          "Negative",
          "Neutral",
          "Neutral",
          "Neutral",
          "Positive",
          "Negative",
          "Negative",
          "Negative",
          "Negative",
          "Positive",
          "Negative",
          "Negative",
          "Negative",
          "Positive",
          "Positive",
          "Neutral",
          "Neutral",
          "Negative",
          "Neutral",
          "Neutral",
          "Neutral",
          "Neutral",
          "Neutral",
          "Negative",
          "Positive",
          "Positive",
          "Negative",
          "Neutral",
          "Positive",
          "Negative",
          "Neutral",
          "Negative",
          "Positive",
          "Neutral",
          "Neutral",
          "Positive",
          "Neutral",
          "Positive",
          "Neutral",
          "Neutral",
          "Neutral",
          "Positive",
          "Neutral",
          "Neutral",
          "Negative",
          "Negative",
          "Negative",
          "Neutral",
          "Neutral",
          "Negative",
          "Negative",
          "Neutral",
          "Negative",
          "Positive",
          "Neutral",
          "Negative",
          "Negative",
          "Positive",
          "Positive",
          "Neutral",
          "Positive",
          "Neutral",
          "Neutral",
          "Negative",
          "Negative",
          "Neutral",
          "Negative",
          "Negative",
          "Positive",
          "Negative",
          "Negative",
          "Negative",
          "Positive",
          "Negative",
          "Neutral",
          "Positive",
          "Positive",
          "Neutral",
          "Negative",
          "Neutral",
          "Neutral",
          "Neutral",
          "Negative",
          "Positive",
          "Negative",
          "Positive",
          "Neutral",
          "Neutral",
          "Negative",
          "Neutral",
          "Neutral",
          "Neutral",
          "Negative",
          "Negative",
          "Neutral",
          "Neutral",
          "Neutral",
          "Positive",
          "Neutral",
          "Neutral",
          "Negative",
          "Neutral",
          "Positive",
          "Neutral",
          "Neutral",
          "Neutral",
          "Positive",
          "Positive",
          "Negative",
          "Negative",
          "Negative",
          "Positive",
          "Negative",
          "Negative",
          "Neutral",
          "Neutral",
          "Neutral",
          "Negative",
          "Negative",
          "Negative",
          "Negative",
          "Neutral",
          "Positive",
          "Negative",
          "Neutral",
          "Negative",
          "Negative",
          "Negative",
          "Neutral",
          "Negative",
          "Neutral",
          "Positive",
          "Positive",
          "Negative",
          "Positive",
          "Neutral",
          "Negative",
          "Neutral",
          "Negative",
          "Negative",
          "Neutral",
          "Neutral",
          "Positive",
          "Negative",
          "Neutral",
          "Negative",
          "Neutral",
          "Negative",
          "Neutral",
          "Negative",
          "Positive",
          "Negative",
          "Negative",
          "Negative",
          "Negative",
          "Neutral",
          "Positive",
          "Positive",
          "Neutral",
          "Neutral",
          "Negative",
          "Negative",
          "Negative",
          "Neutral",
          "Negative",
          "Negative",
          "Positive",
          "Positive",
          "Neutral",
          "Neutral",
          "Positive",
          "Negative",
          "Negative",
          "Negative",
          "Neutral",
          "Negative",
          "Negative",
          "Positive",
          "Neutral",
          "Negative",
          "Negative",
          "Negative",
          "Neutral",
          "Neutral",
          "Negative",
          "Neutral",
          "Negative",
          "Negative",
          "Neutral",
          "Positive",
          "Positive",
          "Negative",
          "Negative",
          "Neutral",
          "Positive",
          "Positive",
          "Positive",
          "Negative",
          "Neutral",
          "Neutral",
          "Positive",
          "Negative",
          "Negative",
          "Negative",
          "Negative",
          "Positive",
          "Positive",
          "Negative",
          "Neutral",
          "Positive",
          "Neutral",
          "Neutral",
          "Neutral",
          "Neutral",
          "Negative",
          "Neutral",
          "Neutral",
          "Neutral",
          "Positive",
          "Neutral",
          "Neutral",
          "Neutral",
          "Negative",
          "Negative",
          "Negative",
          "Negative",
          "Negative",
          "Negative",
          "Negative",
          "Negative",
          "Negative",
          "Negative",
          "Negative",
          "Positive",
          "Neutral",
          "Negative",
          "Positive",
          "Neutral",
          "Neutral",
          "Negative",
          "Negative",
          "Negative",
          "Neutral",
          "Negative",
          "Neutral",
          "Negative",
          "Positive",
          "Positive",
          "Neutral",
          "Positive",
          "Neutral",
          "Positive",
          "Negative",
          "Neutral",
          "Positive",
          "Negative",
          "Negative",
          "Neutral",
          "Neutral",
          "Negative",
          "Neutral",
          "Neutral",
          "Neutral",
          "Negative",
          "Negative",
          "Positive",
          "Negative",
          "Neutral",
          "Negative",
          "Positive",
          "Positive",
          "Positive",
          "Neutral",
          "Positive",
          "Negative",
          "Negative",
          "Positive",
          "Neutral",
          "Neutral",
          "Negative",
          "Negative",
          "Negative",
          "Negative",
          "Positive",
          "Positive",
          "Neutral",
          "Neutral",
          "Negative",
          "Negative",
          "Neutral",
          "Neutral",
          "Positive",
          "Neutral",
          "Neutral",
          "Negative",
          "Neutral",
          "Neutral",
          "Negative",
          "Negative",
          "Negative",
          "Negative",
          "Neutral",
          "Neutral",
          "Neutral",
          "Negative",
          "Negative",
          "Neutral",
          "Positive",
          "Neutral",
          "Positive",
          "Neutral",
          "Positive",
          "Negative",
          "Negative",
          "Neutral",
          "Neutral",
          "Neutral",
          "Neutral",
          "Positive",
          "Positive",
          "Neutral",
          "Positive",
          "Neutral",
          "Neutral",
          "Negative",
          "Negative",
          "Positive",
          "Neutral",
          "Neutral",
          "Neutral",
          "Positive",
          "Negative",
          "Positive",
          "Negative",
          "Negative",
          "Neutral",
          "Positive",
          "Neutral",
          "Negative",
          "Negative",
          "Neutral",
          "Neutral",
          "Negative",
          "Negative",
          "Neutral",
          "Negative",
          "Neutral",
          "Negative",
          "Negative",
          "Neutral",
          "Negative",
          "Neutral",
          "Neutral",
          "Neutral",
          "Neutral",
          "Neutral",
          "Neutral",
          "Positive",
          "Neutral",
          "Negative",
          "Positive",
          "Negative",
          "Negative",
          "Negative",
          "Negative",
          "Neutral",
          "Positive",
          "Negative",
          "Negative",
          "Negative",
          "Negative",
          "Negative",
          "Positive",
          "Negative",
          "Negative",
          "Negative",
          "Negative",
          "Positive",
          "Negative",
          "Negative",
          "Negative",
          "Negative",
          "Neutral",
          "Negative",
          "Negative",
          "Negative",
          "Positive",
          "Negative",
          "Positive",
          "Negative",
          "Negative",
          "Neutral",
          "Neutral",
          "Negative",
          "Neutral",
          "Negative",
          "Negative",
          "Negative",
          "Positive",
          "Negative",
          "Negative",
          "Neutral",
          "Positive",
          "Neutral",
          "Neutral",
          "Neutral",
          "Neutral",
          "Neutral",
          "Positive",
          "Positive",
          "Positive",
          "Neutral",
          "Negative",
          "Neutral",
          "Positive",
          "Negative",
          "Neutral",
          "Neutral",
          "Neutral",
          "Neutral",
          "Neutral",
          "Positive",
          "Negative",
          "Negative",
          "Negative",
          "Neutral",
          "Positive",
          "Negative",
          "Negative",
          "Positive",
          "Neutral",
          "Negative",
          "Neutral",
          "Positive",
          "Neutral",
          "Negative",
          "Negative",
          "Neutral",
          "Negative",
          "Negative",
          "Neutral",
          "Neutral",
          "Negative",
          "Negative",
          "Neutral",
          "Negative",
          "Neutral",
          "Positive",
          "Positive",
          "Negative",
          "Neutral",
          "Neutral",
          "Negative",
          "Negative",
          "Neutral",
          "Neutral",
          "Positive",
          "Negative",
          "Negative",
          "Positive",
          "Neutral",
          "Neutral",
          "Negative",
          "Negative",
          "Neutral",
          "Neutral",
          "Neutral",
          "Negative",
          "Neutral",
          "Negative",
          "Negative",
          "Positive",
          "Positive",
          "Neutral",
          "Negative",
          "Neutral",
          "Neutral",
          "Neutral",
          "Neutral",
          "Neutral",
          "Neutral",
          "Negative",
          "Neutral",
          "Neutral",
          "Negative",
          "Neutral",
          "Neutral",
          "Positive",
          "Negative",
          "Neutral",
          "Positive",
          "Positive",
          "Neutral",
          "Negative",
          "Neutral",
          "Neutral",
          "Negative",
          "Positive",
          "Neutral",
          "Positive",
          "Positive",
          "Negative",
          "Neutral",
          "Neutral",
          "Negative",
          "Positive",
          "Negative",
          "Positive",
          "Positive",
          "Positive",
          "Positive",
          "Neutral",
          "Neutral",
          "Negative",
          "Neutral",
          "Negative",
          "Neutral",
          "Negative",
          "Positive",
          "Negative",
          "Positive",
          "Negative",
          "Positive",
          "Positive",
          "Positive",
          "Positive",
          "Positive",
          "Positive",
          "Positive",
          "Positive",
          "Positive",
          "Positive",
          "Positive",
          "Neutral"
         ],
         "xaxis": "x",
         "yaxis": "y"
        }
       ],
       "layout": {
        "barmode": "relative",
        "legend": {
         "tracegroupgap": 0
        },
        "margin": {
         "t": 60
        },
        "template": {
         "data": {
          "bar": [
           {
            "error_x": {
             "color": "#2a3f5f"
            },
            "error_y": {
             "color": "#2a3f5f"
            },
            "marker": {
             "line": {
              "color": "#E5ECF6",
              "width": 0.5
             },
             "pattern": {
              "fillmode": "overlay",
              "size": 10,
              "solidity": 0.2
             }
            },
            "type": "bar"
           }
          ],
          "barpolar": [
           {
            "marker": {
             "line": {
              "color": "#E5ECF6",
              "width": 0.5
             },
             "pattern": {
              "fillmode": "overlay",
              "size": 10,
              "solidity": 0.2
             }
            },
            "type": "barpolar"
           }
          ],
          "carpet": [
           {
            "aaxis": {
             "endlinecolor": "#2a3f5f",
             "gridcolor": "white",
             "linecolor": "white",
             "minorgridcolor": "white",
             "startlinecolor": "#2a3f5f"
            },
            "baxis": {
             "endlinecolor": "#2a3f5f",
             "gridcolor": "white",
             "linecolor": "white",
             "minorgridcolor": "white",
             "startlinecolor": "#2a3f5f"
            },
            "type": "carpet"
           }
          ],
          "choropleth": [
           {
            "colorbar": {
             "outlinewidth": 0,
             "ticks": ""
            },
            "type": "choropleth"
           }
          ],
          "contour": [
           {
            "colorbar": {
             "outlinewidth": 0,
             "ticks": ""
            },
            "colorscale": [
             [
              0,
              "#0d0887"
             ],
             [
              0.1111111111111111,
              "#46039f"
             ],
             [
              0.2222222222222222,
              "#7201a8"
             ],
             [
              0.3333333333333333,
              "#9c179e"
             ],
             [
              0.4444444444444444,
              "#bd3786"
             ],
             [
              0.5555555555555556,
              "#d8576b"
             ],
             [
              0.6666666666666666,
              "#ed7953"
             ],
             [
              0.7777777777777778,
              "#fb9f3a"
             ],
             [
              0.8888888888888888,
              "#fdca26"
             ],
             [
              1,
              "#f0f921"
             ]
            ],
            "type": "contour"
           }
          ],
          "contourcarpet": [
           {
            "colorbar": {
             "outlinewidth": 0,
             "ticks": ""
            },
            "type": "contourcarpet"
           }
          ],
          "heatmap": [
           {
            "colorbar": {
             "outlinewidth": 0,
             "ticks": ""
            },
            "colorscale": [
             [
              0,
              "#0d0887"
             ],
             [
              0.1111111111111111,
              "#46039f"
             ],
             [
              0.2222222222222222,
              "#7201a8"
             ],
             [
              0.3333333333333333,
              "#9c179e"
             ],
             [
              0.4444444444444444,
              "#bd3786"
             ],
             [
              0.5555555555555556,
              "#d8576b"
             ],
             [
              0.6666666666666666,
              "#ed7953"
             ],
             [
              0.7777777777777778,
              "#fb9f3a"
             ],
             [
              0.8888888888888888,
              "#fdca26"
             ],
             [
              1,
              "#f0f921"
             ]
            ],
            "type": "heatmap"
           }
          ],
          "heatmapgl": [
           {
            "colorbar": {
             "outlinewidth": 0,
             "ticks": ""
            },
            "colorscale": [
             [
              0,
              "#0d0887"
             ],
             [
              0.1111111111111111,
              "#46039f"
             ],
             [
              0.2222222222222222,
              "#7201a8"
             ],
             [
              0.3333333333333333,
              "#9c179e"
             ],
             [
              0.4444444444444444,
              "#bd3786"
             ],
             [
              0.5555555555555556,
              "#d8576b"
             ],
             [
              0.6666666666666666,
              "#ed7953"
             ],
             [
              0.7777777777777778,
              "#fb9f3a"
             ],
             [
              0.8888888888888888,
              "#fdca26"
             ],
             [
              1,
              "#f0f921"
             ]
            ],
            "type": "heatmapgl"
           }
          ],
          "histogram": [
           {
            "marker": {
             "pattern": {
              "fillmode": "overlay",
              "size": 10,
              "solidity": 0.2
             }
            },
            "type": "histogram"
           }
          ],
          "histogram2d": [
           {
            "colorbar": {
             "outlinewidth": 0,
             "ticks": ""
            },
            "colorscale": [
             [
              0,
              "#0d0887"
             ],
             [
              0.1111111111111111,
              "#46039f"
             ],
             [
              0.2222222222222222,
              "#7201a8"
             ],
             [
              0.3333333333333333,
              "#9c179e"
             ],
             [
              0.4444444444444444,
              "#bd3786"
             ],
             [
              0.5555555555555556,
              "#d8576b"
             ],
             [
              0.6666666666666666,
              "#ed7953"
             ],
             [
              0.7777777777777778,
              "#fb9f3a"
             ],
             [
              0.8888888888888888,
              "#fdca26"
             ],
             [
              1,
              "#f0f921"
             ]
            ],
            "type": "histogram2d"
           }
          ],
          "histogram2dcontour": [
           {
            "colorbar": {
             "outlinewidth": 0,
             "ticks": ""
            },
            "colorscale": [
             [
              0,
              "#0d0887"
             ],
             [
              0.1111111111111111,
              "#46039f"
             ],
             [
              0.2222222222222222,
              "#7201a8"
             ],
             [
              0.3333333333333333,
              "#9c179e"
             ],
             [
              0.4444444444444444,
              "#bd3786"
             ],
             [
              0.5555555555555556,
              "#d8576b"
             ],
             [
              0.6666666666666666,
              "#ed7953"
             ],
             [
              0.7777777777777778,
              "#fb9f3a"
             ],
             [
              0.8888888888888888,
              "#fdca26"
             ],
             [
              1,
              "#f0f921"
             ]
            ],
            "type": "histogram2dcontour"
           }
          ],
          "mesh3d": [
           {
            "colorbar": {
             "outlinewidth": 0,
             "ticks": ""
            },
            "type": "mesh3d"
           }
          ],
          "parcoords": [
           {
            "line": {
             "colorbar": {
              "outlinewidth": 0,
              "ticks": ""
             }
            },
            "type": "parcoords"
           }
          ],
          "pie": [
           {
            "automargin": true,
            "type": "pie"
           }
          ],
          "scatter": [
           {
            "marker": {
             "colorbar": {
              "outlinewidth": 0,
              "ticks": ""
             }
            },
            "type": "scatter"
           }
          ],
          "scatter3d": [
           {
            "line": {
             "colorbar": {
              "outlinewidth": 0,
              "ticks": ""
             }
            },
            "marker": {
             "colorbar": {
              "outlinewidth": 0,
              "ticks": ""
             }
            },
            "type": "scatter3d"
           }
          ],
          "scattercarpet": [
           {
            "marker": {
             "colorbar": {
              "outlinewidth": 0,
              "ticks": ""
             }
            },
            "type": "scattercarpet"
           }
          ],
          "scattergeo": [
           {
            "marker": {
             "colorbar": {
              "outlinewidth": 0,
              "ticks": ""
             }
            },
            "type": "scattergeo"
           }
          ],
          "scattergl": [
           {
            "marker": {
             "colorbar": {
              "outlinewidth": 0,
              "ticks": ""
             }
            },
            "type": "scattergl"
           }
          ],
          "scattermapbox": [
           {
            "marker": {
             "colorbar": {
              "outlinewidth": 0,
              "ticks": ""
             }
            },
            "type": "scattermapbox"
           }
          ],
          "scatterpolar": [
           {
            "marker": {
             "colorbar": {
              "outlinewidth": 0,
              "ticks": ""
             }
            },
            "type": "scatterpolar"
           }
          ],
          "scatterpolargl": [
           {
            "marker": {
             "colorbar": {
              "outlinewidth": 0,
              "ticks": ""
             }
            },
            "type": "scatterpolargl"
           }
          ],
          "scatterternary": [
           {
            "marker": {
             "colorbar": {
              "outlinewidth": 0,
              "ticks": ""
             }
            },
            "type": "scatterternary"
           }
          ],
          "surface": [
           {
            "colorbar": {
             "outlinewidth": 0,
             "ticks": ""
            },
            "colorscale": [
             [
              0,
              "#0d0887"
             ],
             [
              0.1111111111111111,
              "#46039f"
             ],
             [
              0.2222222222222222,
              "#7201a8"
             ],
             [
              0.3333333333333333,
              "#9c179e"
             ],
             [
              0.4444444444444444,
              "#bd3786"
             ],
             [
              0.5555555555555556,
              "#d8576b"
             ],
             [
              0.6666666666666666,
              "#ed7953"
             ],
             [
              0.7777777777777778,
              "#fb9f3a"
             ],
             [
              0.8888888888888888,
              "#fdca26"
             ],
             [
              1,
              "#f0f921"
             ]
            ],
            "type": "surface"
           }
          ],
          "table": [
           {
            "cells": {
             "fill": {
              "color": "#EBF0F8"
             },
             "line": {
              "color": "white"
             }
            },
            "header": {
             "fill": {
              "color": "#C8D4E3"
             },
             "line": {
              "color": "white"
             }
            },
            "type": "table"
           }
          ]
         },
         "layout": {
          "annotationdefaults": {
           "arrowcolor": "#2a3f5f",
           "arrowhead": 0,
           "arrowwidth": 1
          },
          "autotypenumbers": "strict",
          "coloraxis": {
           "colorbar": {
            "outlinewidth": 0,
            "ticks": ""
           }
          },
          "colorscale": {
           "diverging": [
            [
             0,
             "#8e0152"
            ],
            [
             0.1,
             "#c51b7d"
            ],
            [
             0.2,
             "#de77ae"
            ],
            [
             0.3,
             "#f1b6da"
            ],
            [
             0.4,
             "#fde0ef"
            ],
            [
             0.5,
             "#f7f7f7"
            ],
            [
             0.6,
             "#e6f5d0"
            ],
            [
             0.7,
             "#b8e186"
            ],
            [
             0.8,
             "#7fbc41"
            ],
            [
             0.9,
             "#4d9221"
            ],
            [
             1,
             "#276419"
            ]
           ],
           "sequential": [
            [
             0,
             "#0d0887"
            ],
            [
             0.1111111111111111,
             "#46039f"
            ],
            [
             0.2222222222222222,
             "#7201a8"
            ],
            [
             0.3333333333333333,
             "#9c179e"
            ],
            [
             0.4444444444444444,
             "#bd3786"
            ],
            [
             0.5555555555555556,
             "#d8576b"
            ],
            [
             0.6666666666666666,
             "#ed7953"
            ],
            [
             0.7777777777777778,
             "#fb9f3a"
            ],
            [
             0.8888888888888888,
             "#fdca26"
            ],
            [
             1,
             "#f0f921"
            ]
           ],
           "sequentialminus": [
            [
             0,
             "#0d0887"
            ],
            [
             0.1111111111111111,
             "#46039f"
            ],
            [
             0.2222222222222222,
             "#7201a8"
            ],
            [
             0.3333333333333333,
             "#9c179e"
            ],
            [
             0.4444444444444444,
             "#bd3786"
            ],
            [
             0.5555555555555556,
             "#d8576b"
            ],
            [
             0.6666666666666666,
             "#ed7953"
            ],
            [
             0.7777777777777778,
             "#fb9f3a"
            ],
            [
             0.8888888888888888,
             "#fdca26"
            ],
            [
             1,
             "#f0f921"
            ]
           ]
          },
          "colorway": [
           "#636efa",
           "#EF553B",
           "#00cc96",
           "#ab63fa",
           "#FFA15A",
           "#19d3f3",
           "#FF6692",
           "#B6E880",
           "#FF97FF",
           "#FECB52"
          ],
          "font": {
           "color": "#2a3f5f"
          },
          "geo": {
           "bgcolor": "white",
           "lakecolor": "white",
           "landcolor": "#E5ECF6",
           "showlakes": true,
           "showland": true,
           "subunitcolor": "white"
          },
          "hoverlabel": {
           "align": "left"
          },
          "hovermode": "closest",
          "mapbox": {
           "style": "light"
          },
          "paper_bgcolor": "white",
          "plot_bgcolor": "#E5ECF6",
          "polar": {
           "angularaxis": {
            "gridcolor": "white",
            "linecolor": "white",
            "ticks": ""
           },
           "bgcolor": "#E5ECF6",
           "radialaxis": {
            "gridcolor": "white",
            "linecolor": "white",
            "ticks": ""
           }
          },
          "scene": {
           "xaxis": {
            "backgroundcolor": "#E5ECF6",
            "gridcolor": "white",
            "gridwidth": 2,
            "linecolor": "white",
            "showbackground": true,
            "ticks": "",
            "zerolinecolor": "white"
           },
           "yaxis": {
            "backgroundcolor": "#E5ECF6",
            "gridcolor": "white",
            "gridwidth": 2,
            "linecolor": "white",
            "showbackground": true,
            "ticks": "",
            "zerolinecolor": "white"
           },
           "zaxis": {
            "backgroundcolor": "#E5ECF6",
            "gridcolor": "white",
            "gridwidth": 2,
            "linecolor": "white",
            "showbackground": true,
            "ticks": "",
            "zerolinecolor": "white"
           }
          },
          "shapedefaults": {
           "line": {
            "color": "#2a3f5f"
           }
          },
          "ternary": {
           "aaxis": {
            "gridcolor": "white",
            "linecolor": "white",
            "ticks": ""
           },
           "baxis": {
            "gridcolor": "white",
            "linecolor": "white",
            "ticks": ""
           },
           "bgcolor": "#E5ECF6",
           "caxis": {
            "gridcolor": "white",
            "linecolor": "white",
            "ticks": ""
           }
          },
          "title": {
           "x": 0.05
          },
          "xaxis": {
           "automargin": true,
           "gridcolor": "white",
           "linecolor": "white",
           "ticks": "",
           "title": {
            "standoff": 15
           },
           "zerolinecolor": "white",
           "zerolinewidth": 2
          },
          "yaxis": {
           "automargin": true,
           "gridcolor": "white",
           "linecolor": "white",
           "ticks": "",
           "title": {
            "standoff": 15
           },
           "zerolinecolor": "white",
           "zerolinewidth": 2
          }
         }
        },
        "xaxis": {
         "anchor": "y",
         "categoryarray": [
          "Negative",
          "Neutral",
          "Positive"
         ],
         "categoryorder": "array",
         "domain": [
          0,
          1
         ],
         "title": {
          "text": "sentiment"
         }
        },
        "yaxis": {
         "anchor": "x",
         "domain": [
          0,
          1
         ],
         "title": {
          "text": "count"
         }
        }
       }
      }
     },
     "metadata": {},
     "output_type": "display_data"
    }
   ],
   "source": [
    "fig = px.histogram(replicas_df, x=\"sentiment\", category_orders={\"sentiment\": [ \"Negative\", \"Neutral\", \"Positive\"]})\n",
    "fig.show()"
   ]
  },
  {
   "cell_type": "code",
   "execution_count": 109,
   "metadata": {},
   "outputs": [
    {
     "data": {
      "application/vnd.plotly.v1+json": {
       "config": {
        "plotlyServerURL": "https://plot.ly"
       },
       "data": [
        {
         "alignmentgroup": "True",
         "bingroup": "x",
         "hovertemplate": "x=%{x}<br>count=%{y}<extra></extra>",
         "legendgroup": "",
         "marker": {
          "color": "#636efa",
          "pattern": {
           "shape": ""
          }
         },
         "name": "",
         "offsetgroup": "",
         "orientation": "v",
         "showlegend": false,
         "type": "histogram",
         "x": [
          "PER",
          "PER",
          "PER",
          "PER",
          "PER",
          "LOC",
          "ORG",
          "ORG",
          "PER",
          "PER",
          "PER",
          "LOC",
          "ORG",
          "PER",
          "LOC",
          "PER",
          "LOC",
          "PER",
          "PER",
          "LOC",
          "PER",
          "LOC",
          "PER",
          "PER",
          "PER",
          "PER",
          "PER",
          "PER",
          "ORG",
          "LOC",
          "LOC",
          "PER",
          "PER",
          "PER",
          "LOC",
          "PER",
          "PER",
          "PER",
          "PER",
          "PER",
          "LOC",
          "LOC",
          "ORG",
          "LOC",
          "PER",
          "PER",
          "LOC",
          "ORG",
          "PER",
          "PER",
          "PER",
          "PER",
          "PER",
          "PER",
          "LOC",
          "ORG",
          "PER",
          "PER",
          "LOC",
          "LOC",
          "PER",
          "LOC",
          "PER",
          "LOC",
          "PER",
          "PER",
          "ORG",
          "PER",
          "LOC",
          "LOC",
          "PER",
          "PER",
          "PER",
          "LOC",
          "ORG",
          "ORG",
          "PER",
          "PER",
          "PER",
          "PER",
          "PER",
          "PER",
          "PER",
          "PER",
          "PER",
          "PER",
          "PER",
          "PER",
          "ORG",
          "ORG",
          "PER",
          "PER",
          "PER",
          "PER",
          "PER",
          "ORG",
          "ORG",
          "PER",
          "PER",
          "PER",
          "LOC",
          "PER",
          "PER",
          "LOC",
          "PER",
          "PER",
          "PER",
          "PER",
          "LOC",
          "PER",
          "PER",
          "PER",
          "PER",
          "LOC",
          "ORG",
          "PER",
          "LOC",
          "PER",
          "LOC",
          "PER",
          "PER",
          "PER",
          "PER",
          "LOC",
          "ORG",
          "PER",
          "PER",
          "PER",
          "PER",
          "PER",
          "PER",
          "PER",
          "PER",
          "PER",
          "PER",
          "PER",
          "PER",
          "LOC",
          "PER",
          "PER",
          "ORG",
          "PER",
          "LOC",
          "PER",
          "PER",
          "PER",
          "PER",
          "PER",
          "PER",
          "PER",
          "ORG",
          "ORG",
          "PER",
          "PER",
          "PER",
          "PER",
          "ORG",
          "PER",
          "PER",
          "ORG",
          "PER",
          "PER",
          "PER",
          "PER",
          "LOC",
          "PER",
          "PER",
          "PER",
          "PER",
          "ORG",
          "ORG",
          "PER",
          "LOC",
          "PER",
          "PER",
          "PER",
          "PER",
          "ORG",
          "PER",
          "PER",
          "ORG",
          "PER",
          "PER",
          "LOC",
          "PER",
          "PER",
          "PER",
          "PER",
          "PER",
          "PER",
          "PER",
          "PER",
          "LOC",
          "LOC",
          "PER",
          "PER",
          "PER",
          "PER",
          "PER",
          "PER",
          "PER",
          "PER",
          "PER",
          "PER",
          "PER",
          "PER",
          "PER",
          "ORG",
          "PER",
          "PER",
          "PER",
          "PER",
          "PER",
          "PER",
          "PER",
          "PER",
          "ORG",
          "PER",
          "PER",
          "PER",
          "ORG",
          "LOC",
          "PER",
          "PER",
          "PER",
          "LOC",
          "LOC",
          "LOC",
          "PER",
          "LOC",
          "PER",
          "LOC",
          "PER",
          "ORG",
          "ORG",
          "PER",
          "PER",
          "PER",
          "PER",
          "LOC",
          "LOC",
          "PER",
          "LOC",
          "PER",
          "PER",
          "LOC",
          "LOC",
          "PER",
          "ORG",
          "LOC",
          "PER",
          "PER",
          "PER",
          "LOC",
          "LOC",
          "LOC",
          "PER",
          "PER",
          "PER",
          "PER",
          "PER",
          "PER",
          "PER",
          "PER",
          "ORG",
          "PER",
          "PER",
          "LOC",
          "PER",
          "PER",
          "PER",
          "PER",
          "PER",
          "PER",
          "ORG",
          "PER",
          "PER",
          "PER",
          "ORG",
          "LOC",
          "PER",
          "PER",
          "PER",
          "PER",
          "PER",
          "PER",
          "PER",
          "PER",
          "PER",
          "PER",
          "LOC",
          "PER",
          "LOC",
          "PER",
          "PER",
          "PER",
          "PER",
          "PER",
          "PER",
          "PER",
          "PER",
          "PER",
          "ORG",
          "ORG",
          "PER",
          "PER",
          "ORG",
          "PER",
          "PER",
          "PER",
          "PER",
          "LOC",
          "PER",
          "PER",
          "PER",
          "PER",
          "ORG",
          "PER",
          "ORG",
          "PER",
          "PER",
          "ORG",
          "ORG",
          "PER",
          "PER",
          "PER",
          "PER",
          "PER",
          "PER",
          "PER",
          "PER",
          "ORG",
          "PER",
          "LOC",
          "PER",
          "PER",
          "LOC",
          "PER",
          "ORG",
          "PER",
          "PER",
          "PER",
          "LOC",
          "PER",
          "LOC",
          "PER",
          "PER",
          "PER",
          "ORG",
          "PER",
          "PER",
          "PER",
          "PER",
          "PER",
          "PER",
          "PER",
          "PER",
          "PER",
          "ORG",
          "PER",
          "LOC",
          "PER",
          "PER",
          "PER",
          "PER",
          "PER",
          "PER",
          "LOC",
          "ORG",
          "PER",
          "PER",
          "PER",
          "LOC",
          "LOC",
          "PER",
          "PER",
          "PER",
          "PER",
          "PER",
          "PER",
          "PER",
          "PER",
          "PER",
          "PER",
          "ORG",
          "PER",
          "PER",
          "PER",
          "PER",
          "PER",
          "PER",
          "ORG",
          "PER",
          "PER",
          "ORG",
          "LOC",
          "PER",
          "LOC",
          "LOC",
          "PER",
          "PER",
          "PER",
          "ORG",
          "PER",
          "ORG",
          "PER",
          "PER",
          "PER",
          "PER",
          "PER",
          "PER",
          "PER",
          "PER",
          "ORG",
          "PER",
          "PER",
          "PER",
          "ORG",
          "PER",
          "LOC",
          "PER",
          "PER",
          "PER",
          "PER",
          "PER",
          "PER",
          "PER",
          "PER",
          "PER",
          "ORG",
          "LOC",
          "PER",
          "PER",
          "LOC",
          "LOC",
          "LOC",
          "PER",
          "LOC"
         ],
         "xaxis": "x",
         "yaxis": "y"
        }
       ],
       "layout": {
        "barmode": "relative",
        "legend": {
         "tracegroupgap": 0
        },
        "margin": {
         "t": 60
        },
        "template": {
         "data": {
          "bar": [
           {
            "error_x": {
             "color": "#2a3f5f"
            },
            "error_y": {
             "color": "#2a3f5f"
            },
            "marker": {
             "line": {
              "color": "#E5ECF6",
              "width": 0.5
             },
             "pattern": {
              "fillmode": "overlay",
              "size": 10,
              "solidity": 0.2
             }
            },
            "type": "bar"
           }
          ],
          "barpolar": [
           {
            "marker": {
             "line": {
              "color": "#E5ECF6",
              "width": 0.5
             },
             "pattern": {
              "fillmode": "overlay",
              "size": 10,
              "solidity": 0.2
             }
            },
            "type": "barpolar"
           }
          ],
          "carpet": [
           {
            "aaxis": {
             "endlinecolor": "#2a3f5f",
             "gridcolor": "white",
             "linecolor": "white",
             "minorgridcolor": "white",
             "startlinecolor": "#2a3f5f"
            },
            "baxis": {
             "endlinecolor": "#2a3f5f",
             "gridcolor": "white",
             "linecolor": "white",
             "minorgridcolor": "white",
             "startlinecolor": "#2a3f5f"
            },
            "type": "carpet"
           }
          ],
          "choropleth": [
           {
            "colorbar": {
             "outlinewidth": 0,
             "ticks": ""
            },
            "type": "choropleth"
           }
          ],
          "contour": [
           {
            "colorbar": {
             "outlinewidth": 0,
             "ticks": ""
            },
            "colorscale": [
             [
              0,
              "#0d0887"
             ],
             [
              0.1111111111111111,
              "#46039f"
             ],
             [
              0.2222222222222222,
              "#7201a8"
             ],
             [
              0.3333333333333333,
              "#9c179e"
             ],
             [
              0.4444444444444444,
              "#bd3786"
             ],
             [
              0.5555555555555556,
              "#d8576b"
             ],
             [
              0.6666666666666666,
              "#ed7953"
             ],
             [
              0.7777777777777778,
              "#fb9f3a"
             ],
             [
              0.8888888888888888,
              "#fdca26"
             ],
             [
              1,
              "#f0f921"
             ]
            ],
            "type": "contour"
           }
          ],
          "contourcarpet": [
           {
            "colorbar": {
             "outlinewidth": 0,
             "ticks": ""
            },
            "type": "contourcarpet"
           }
          ],
          "heatmap": [
           {
            "colorbar": {
             "outlinewidth": 0,
             "ticks": ""
            },
            "colorscale": [
             [
              0,
              "#0d0887"
             ],
             [
              0.1111111111111111,
              "#46039f"
             ],
             [
              0.2222222222222222,
              "#7201a8"
             ],
             [
              0.3333333333333333,
              "#9c179e"
             ],
             [
              0.4444444444444444,
              "#bd3786"
             ],
             [
              0.5555555555555556,
              "#d8576b"
             ],
             [
              0.6666666666666666,
              "#ed7953"
             ],
             [
              0.7777777777777778,
              "#fb9f3a"
             ],
             [
              0.8888888888888888,
              "#fdca26"
             ],
             [
              1,
              "#f0f921"
             ]
            ],
            "type": "heatmap"
           }
          ],
          "heatmapgl": [
           {
            "colorbar": {
             "outlinewidth": 0,
             "ticks": ""
            },
            "colorscale": [
             [
              0,
              "#0d0887"
             ],
             [
              0.1111111111111111,
              "#46039f"
             ],
             [
              0.2222222222222222,
              "#7201a8"
             ],
             [
              0.3333333333333333,
              "#9c179e"
             ],
             [
              0.4444444444444444,
              "#bd3786"
             ],
             [
              0.5555555555555556,
              "#d8576b"
             ],
             [
              0.6666666666666666,
              "#ed7953"
             ],
             [
              0.7777777777777778,
              "#fb9f3a"
             ],
             [
              0.8888888888888888,
              "#fdca26"
             ],
             [
              1,
              "#f0f921"
             ]
            ],
            "type": "heatmapgl"
           }
          ],
          "histogram": [
           {
            "marker": {
             "pattern": {
              "fillmode": "overlay",
              "size": 10,
              "solidity": 0.2
             }
            },
            "type": "histogram"
           }
          ],
          "histogram2d": [
           {
            "colorbar": {
             "outlinewidth": 0,
             "ticks": ""
            },
            "colorscale": [
             [
              0,
              "#0d0887"
             ],
             [
              0.1111111111111111,
              "#46039f"
             ],
             [
              0.2222222222222222,
              "#7201a8"
             ],
             [
              0.3333333333333333,
              "#9c179e"
             ],
             [
              0.4444444444444444,
              "#bd3786"
             ],
             [
              0.5555555555555556,
              "#d8576b"
             ],
             [
              0.6666666666666666,
              "#ed7953"
             ],
             [
              0.7777777777777778,
              "#fb9f3a"
             ],
             [
              0.8888888888888888,
              "#fdca26"
             ],
             [
              1,
              "#f0f921"
             ]
            ],
            "type": "histogram2d"
           }
          ],
          "histogram2dcontour": [
           {
            "colorbar": {
             "outlinewidth": 0,
             "ticks": ""
            },
            "colorscale": [
             [
              0,
              "#0d0887"
             ],
             [
              0.1111111111111111,
              "#46039f"
             ],
             [
              0.2222222222222222,
              "#7201a8"
             ],
             [
              0.3333333333333333,
              "#9c179e"
             ],
             [
              0.4444444444444444,
              "#bd3786"
             ],
             [
              0.5555555555555556,
              "#d8576b"
             ],
             [
              0.6666666666666666,
              "#ed7953"
             ],
             [
              0.7777777777777778,
              "#fb9f3a"
             ],
             [
              0.8888888888888888,
              "#fdca26"
             ],
             [
              1,
              "#f0f921"
             ]
            ],
            "type": "histogram2dcontour"
           }
          ],
          "mesh3d": [
           {
            "colorbar": {
             "outlinewidth": 0,
             "ticks": ""
            },
            "type": "mesh3d"
           }
          ],
          "parcoords": [
           {
            "line": {
             "colorbar": {
              "outlinewidth": 0,
              "ticks": ""
             }
            },
            "type": "parcoords"
           }
          ],
          "pie": [
           {
            "automargin": true,
            "type": "pie"
           }
          ],
          "scatter": [
           {
            "marker": {
             "colorbar": {
              "outlinewidth": 0,
              "ticks": ""
             }
            },
            "type": "scatter"
           }
          ],
          "scatter3d": [
           {
            "line": {
             "colorbar": {
              "outlinewidth": 0,
              "ticks": ""
             }
            },
            "marker": {
             "colorbar": {
              "outlinewidth": 0,
              "ticks": ""
             }
            },
            "type": "scatter3d"
           }
          ],
          "scattercarpet": [
           {
            "marker": {
             "colorbar": {
              "outlinewidth": 0,
              "ticks": ""
             }
            },
            "type": "scattercarpet"
           }
          ],
          "scattergeo": [
           {
            "marker": {
             "colorbar": {
              "outlinewidth": 0,
              "ticks": ""
             }
            },
            "type": "scattergeo"
           }
          ],
          "scattergl": [
           {
            "marker": {
             "colorbar": {
              "outlinewidth": 0,
              "ticks": ""
             }
            },
            "type": "scattergl"
           }
          ],
          "scattermapbox": [
           {
            "marker": {
             "colorbar": {
              "outlinewidth": 0,
              "ticks": ""
             }
            },
            "type": "scattermapbox"
           }
          ],
          "scatterpolar": [
           {
            "marker": {
             "colorbar": {
              "outlinewidth": 0,
              "ticks": ""
             }
            },
            "type": "scatterpolar"
           }
          ],
          "scatterpolargl": [
           {
            "marker": {
             "colorbar": {
              "outlinewidth": 0,
              "ticks": ""
             }
            },
            "type": "scatterpolargl"
           }
          ],
          "scatterternary": [
           {
            "marker": {
             "colorbar": {
              "outlinewidth": 0,
              "ticks": ""
             }
            },
            "type": "scatterternary"
           }
          ],
          "surface": [
           {
            "colorbar": {
             "outlinewidth": 0,
             "ticks": ""
            },
            "colorscale": [
             [
              0,
              "#0d0887"
             ],
             [
              0.1111111111111111,
              "#46039f"
             ],
             [
              0.2222222222222222,
              "#7201a8"
             ],
             [
              0.3333333333333333,
              "#9c179e"
             ],
             [
              0.4444444444444444,
              "#bd3786"
             ],
             [
              0.5555555555555556,
              "#d8576b"
             ],
             [
              0.6666666666666666,
              "#ed7953"
             ],
             [
              0.7777777777777778,
              "#fb9f3a"
             ],
             [
              0.8888888888888888,
              "#fdca26"
             ],
             [
              1,
              "#f0f921"
             ]
            ],
            "type": "surface"
           }
          ],
          "table": [
           {
            "cells": {
             "fill": {
              "color": "#EBF0F8"
             },
             "line": {
              "color": "white"
             }
            },
            "header": {
             "fill": {
              "color": "#C8D4E3"
             },
             "line": {
              "color": "white"
             }
            },
            "type": "table"
           }
          ]
         },
         "layout": {
          "annotationdefaults": {
           "arrowcolor": "#2a3f5f",
           "arrowhead": 0,
           "arrowwidth": 1
          },
          "autotypenumbers": "strict",
          "coloraxis": {
           "colorbar": {
            "outlinewidth": 0,
            "ticks": ""
           }
          },
          "colorscale": {
           "diverging": [
            [
             0,
             "#8e0152"
            ],
            [
             0.1,
             "#c51b7d"
            ],
            [
             0.2,
             "#de77ae"
            ],
            [
             0.3,
             "#f1b6da"
            ],
            [
             0.4,
             "#fde0ef"
            ],
            [
             0.5,
             "#f7f7f7"
            ],
            [
             0.6,
             "#e6f5d0"
            ],
            [
             0.7,
             "#b8e186"
            ],
            [
             0.8,
             "#7fbc41"
            ],
            [
             0.9,
             "#4d9221"
            ],
            [
             1,
             "#276419"
            ]
           ],
           "sequential": [
            [
             0,
             "#0d0887"
            ],
            [
             0.1111111111111111,
             "#46039f"
            ],
            [
             0.2222222222222222,
             "#7201a8"
            ],
            [
             0.3333333333333333,
             "#9c179e"
            ],
            [
             0.4444444444444444,
             "#bd3786"
            ],
            [
             0.5555555555555556,
             "#d8576b"
            ],
            [
             0.6666666666666666,
             "#ed7953"
            ],
            [
             0.7777777777777778,
             "#fb9f3a"
            ],
            [
             0.8888888888888888,
             "#fdca26"
            ],
            [
             1,
             "#f0f921"
            ]
           ],
           "sequentialminus": [
            [
             0,
             "#0d0887"
            ],
            [
             0.1111111111111111,
             "#46039f"
            ],
            [
             0.2222222222222222,
             "#7201a8"
            ],
            [
             0.3333333333333333,
             "#9c179e"
            ],
            [
             0.4444444444444444,
             "#bd3786"
            ],
            [
             0.5555555555555556,
             "#d8576b"
            ],
            [
             0.6666666666666666,
             "#ed7953"
            ],
            [
             0.7777777777777778,
             "#fb9f3a"
            ],
            [
             0.8888888888888888,
             "#fdca26"
            ],
            [
             1,
             "#f0f921"
            ]
           ]
          },
          "colorway": [
           "#636efa",
           "#EF553B",
           "#00cc96",
           "#ab63fa",
           "#FFA15A",
           "#19d3f3",
           "#FF6692",
           "#B6E880",
           "#FF97FF",
           "#FECB52"
          ],
          "font": {
           "color": "#2a3f5f"
          },
          "geo": {
           "bgcolor": "white",
           "lakecolor": "white",
           "landcolor": "#E5ECF6",
           "showlakes": true,
           "showland": true,
           "subunitcolor": "white"
          },
          "hoverlabel": {
           "align": "left"
          },
          "hovermode": "closest",
          "mapbox": {
           "style": "light"
          },
          "paper_bgcolor": "white",
          "plot_bgcolor": "#E5ECF6",
          "polar": {
           "angularaxis": {
            "gridcolor": "white",
            "linecolor": "white",
            "ticks": ""
           },
           "bgcolor": "#E5ECF6",
           "radialaxis": {
            "gridcolor": "white",
            "linecolor": "white",
            "ticks": ""
           }
          },
          "scene": {
           "xaxis": {
            "backgroundcolor": "#E5ECF6",
            "gridcolor": "white",
            "gridwidth": 2,
            "linecolor": "white",
            "showbackground": true,
            "ticks": "",
            "zerolinecolor": "white"
           },
           "yaxis": {
            "backgroundcolor": "#E5ECF6",
            "gridcolor": "white",
            "gridwidth": 2,
            "linecolor": "white",
            "showbackground": true,
            "ticks": "",
            "zerolinecolor": "white"
           },
           "zaxis": {
            "backgroundcolor": "#E5ECF6",
            "gridcolor": "white",
            "gridwidth": 2,
            "linecolor": "white",
            "showbackground": true,
            "ticks": "",
            "zerolinecolor": "white"
           }
          },
          "shapedefaults": {
           "line": {
            "color": "#2a3f5f"
           }
          },
          "ternary": {
           "aaxis": {
            "gridcolor": "white",
            "linecolor": "white",
            "ticks": ""
           },
           "baxis": {
            "gridcolor": "white",
            "linecolor": "white",
            "ticks": ""
           },
           "bgcolor": "#E5ECF6",
           "caxis": {
            "gridcolor": "white",
            "linecolor": "white",
            "ticks": ""
           }
          },
          "title": {
           "x": 0.05
          },
          "xaxis": {
           "automargin": true,
           "gridcolor": "white",
           "linecolor": "white",
           "ticks": "",
           "title": {
            "standoff": 15
           },
           "zerolinecolor": "white",
           "zerolinewidth": 2
          },
          "yaxis": {
           "automargin": true,
           "gridcolor": "white",
           "linecolor": "white",
           "ticks": "",
           "title": {
            "standoff": 15
           },
           "zerolinecolor": "white",
           "zerolinewidth": 2
          }
         }
        },
        "xaxis": {
         "anchor": "y",
         "categoryorder": "total descending",
         "domain": [
          0,
          1
         ],
         "title": {
          "text": "x"
         }
        },
        "yaxis": {
         "anchor": "x",
         "domain": [
          0,
          1
         ],
         "title": {
          "text": "count"
         }
        }
       }
      }
     },
     "metadata": {},
     "output_type": "display_data"
    }
   ],
   "source": [
    "fig = px.histogram(x=entity_types)\n",
    "fig.update_xaxes(categoryorder='total descending')\n",
    "fig.show()"
   ]
  },
  {
   "cell_type": "code",
   "execution_count": 110,
   "metadata": {},
   "outputs": [
    {
     "data": {
      "application/vnd.plotly.v1+json": {
       "config": {
        "plotlyServerURL": "https://plot.ly"
       },
       "data": [
        {
         "alignmentgroup": "True",
         "bingroup": "x",
         "hovertemplate": "x=%{x}<br>count=%{y}<extra></extra>",
         "legendgroup": "",
         "marker": {
          "color": "#636efa",
          "pattern": {
           "shape": ""
          }
         },
         "name": "",
         "offsetgroup": "",
         "orientation": "v",
         "showlegend": false,
         "type": "histogram",
         "x": [
          "Rubecht",
          "Hitler",
          "Rubecht",
          "Rubecht",
          "Rubecht",
          "Amérique du Sud",
          "OSS",
          "OSS 117 Airways",
          "Jack",
          "Hubert",
          "Jack",
          "Chien",
          "OSS 117",
          "Jamila Narobi",
          "Rome",
          "Al Tarouk",
          "Égypte",
          "Farouk",
          "Farouk",
          "Egypte",
          "Nasser",
          "Chien",
          "Bâillonnée",
          "Hubert",
          "Jack",
          "Jack",
          "Jack",
          "Jack",
          "OSS 283",
          "Egypte",
          "Canal de Suez",
          "Le Kapov",
          "zAigles de Khéops",
          "Hubert",
          "Egypte",
          "Coty",
          "Coty",
          "Hubert",
          "Brouilly",
          "Jefferson",
          "France",
          "Egypte",
          "Proche Orient",
          "Caire",
          "Lucien Bramard",
          "Jack Jefferson",
          "Caire",
          "OSS",
          "Larmina El Akmar Betouche",
          "Jefferson",
          "Hubert Bonnisseur",
          "Bath",
          "Lucien Bramard",
          "Lucien",
          "Egypte",
          "Bath",
          "Bramard",
          "Lucien Bramard",
          "Larmina",
          "Egypte",
          "Bramard",
          "Raïs",
          "Raïs",
          "Egypte",
          "Nasser",
          "Nasser",
          "Larmina",
          "Bramard",
          "Canal de Suez",
          "Egypte",
          "Larmina",
          "Jack",
          "Jefferson",
          "Ismaïla",
          "SCEP",
          "SCEP",
          "Venez Lucien",
          "Slimane",
          "Slimane",
          "Slimane",
          "Slimane",
          "Jefferson",
          "Lucien Bramard",
          "René Coty",
          "Jack",
          "Jack",
          "Jack",
          "Lucien",
          "SCEP",
          "Société Cairote d'Élevage de Poulet",
          "Jefferson",
          "Lucien",
          "Jefferson",
          "Lucien",
          "Gerhard Moeller",
          "SCEB",
          "Société Egyptienne d'Élevage de Boeuf",
          "Laquelle",
          "Jefferson",
          "Jack",
          "Jordanie",
          "Lucien Bramard",
          "Jack",
          "Caire",
          "Lucien",
          "Jack",
          "Larmina",
          "Lucien",
          "Grande Bretagne",
          "Bramard",
          "Bramard",
          "Choukran",
          "Bramard",
          "Egypte",
          "Metropolitan",
          "Bramard",
          "Tenez",
          "René Coty",
          "Egypte",
          "Merci Hubert",
          "Hubert",
          "Safi",
          "Farouk",
          "Aiwa",
          "Metropolitan",
          "Salaam Aleikum",
          "Lucien",
          "Larmina",
          "Inch",
          "Allah",
          "Lucien",
          "Larmina",
          "Larmina",
          "Guignolet",
          "Dubonnet",
          "Cinzano",
          "Brandy",
          "Venez",
          "Lucien",
          "Revenez Lucien",
          "Jolie",
          "Lucien",
          "Nil",
          "Jefferson",
          "Lucien Bramard",
          "Lucien",
          "Gerhard Moeller",
          "Bramard",
          "HerrMoeller",
          "Raymond Pelletier",
          "SBEP",
          "Société Belgo Egyptienne d'Élevage de Poulet",
          "Pelletier Raymond",
          "Ieveni Setine",
          "Bramard",
          "Bramard",
          "Sinon",
          "Mister Bramard",
          "Nigel Gardenborough",
          "Consortium Britannique d'Élevage d'Agneau",
          "Lucien Bramard",
          "Jefferson",
          "Jack Jefferson",
          "Choukran",
          "Metropolitan",
          "Choukran",
          "Larmina",
          "Dieu",
          "Allah",
          "Bonjour",
          "Bonjour",
          "Larmina",
          "Bismillah",
          "Dieu",
          "Larmina",
          "Muezzin",
          "Larmina",
          "SCEP",
          "Lucien",
          "Slimane",
          "Bonsoir",
          "Slimane",
          "Slimane",
          "Neuf",
          "Slama",
          "Slimane",
          "Slimane",
          "Slimane",
          "Lucien",
          "Lucien",
          "Fondouk",
          "Larmina",
          "Salaam",
          "Salaam",
          "Allahu Akbar",
          "Allahu Akbar",
          "Dieu",
          "Allahu Akbar",
          "Allahu Akbar",
          "Allahu Akbar",
          "Allahu Akbar",
          "Allahu Akbar",
          "Allahu Akbar",
          "Allahu Akbar",
          "Allahu Akbar",
          "Allahu Akbar",
          "Allahu Akbar",
          "Aigles de Khéops",
          "Allahu Akbar",
          "Allahu Akbar",
          "Allahu Akbar",
          "Allahu Akbar",
          "Allahu Akbar",
          "Allahu Akbar",
          "Allahu Akbar",
          "Larmina",
          "OSS 117",
          "Lucien",
          "Larmina",
          "Dieu",
          "Bonsoir",
          "Assalamu",
          "Safi",
          "Hubert",
          "Plantieux",
          "Algérie",
          "Maroc",
          "Tunisie",
          "Dien",
          "Bien Phu",
          "Hubert",
          "France",
          "Plantieux",
          "Plantieux",
          "SBEP",
          "Jefferson",
          "Jack",
          "Jack",
          "Kapov",
          "Khéops",
          "Chapeau",
          "Hubert",
          "Paris",
          "Setine",
          "Soliman Pacha",
          "Paris",
          "Egypte",
          "Plantieux",
          "Bath",
          "Bath",
          "Khéops",
          "Farouk",
          "Al Tarouk",
          "Ménilmontant",
          "Sinon",
          "Egypte",
          "Safi",
          "Safi",
          "Hammam Suleyman Pacha",
          "Bramard",
          "Lucien",
          "Kapov",
          "Kapov",
          "Bramard",
          "Hammam",
          "Suleyman",
          "Khalid",
          "Loktar",
          "Khalid",
          "Nuan Thaï",
          "Khalid",
          "Jefferson",
          "Jack",
          "Bramard",
          "Union Soviétique",
          "Jefferson",
          "Kapov",
          "Bramard",
          "OSS 117",
          "Kapov",
          "Jefferson",
          "Moeller",
          "Bramard",
          "Setine",
          "Moeller",
          "Demain",
          "Demain",
          "Bramard",
          "Setine",
          "Bramard",
          "Venez",
          "Kapov",
          "Jefferson",
          "Moeller",
          "Bramard",
          "Moeller",
          "Bramard",
          "Hitler",
          "Hitler",
          "Hitler",
          "Moeller",
          "Moeller",
          "Wehrmacht",
          "OSS 117",
          "von Umsprung",
          "Hermann von Umsprung",
          "Waffen SS",
          "Moeller",
          "Hermann",
          "Hermann",
          "Hermann",
          "Berlin",
          "Hermann von Umpsrung",
          "Hermann",
          "Jefferson",
          "Loktar",
          "Bonjour",
          "Nardim",
          "Silence Loktar",
          "Kapov Bramard",
          "Moeller",
          "3ème Reich",
          "Nazis",
          "Bramard",
          "Loktar",
          "Hermann",
          "Bramard",
          "El Akmar Betouche",
          "Setine",
          "Bramard",
          "Bramard",
          "Loktar",
          "Moeller",
          "Pyramide de Khephren",
          "Larmina",
          "Bramard",
          "canal de Suez",
          "Larmina",
          "Bonsoir",
          "Hashem",
          "Ana melfik",
          "Lucien",
          "Fondouk",
          "Larmina",
          "Fondouk",
          "Lucien",
          "Flatteur",
          "Larmina",
          "Aigles de Khéops",
          "Setine",
          "Kapov",
          "Jefferson",
          "Kapov",
          "Jack",
          "Kapov",
          "Larmina",
          "Jack",
          "Kapov",
          "Aigles de Khéops",
          "Larmina",
          "Fondouk",
          "Tastana",
          "Lazim",
          "Lucien",
          "Larmina",
          "Lucien",
          "Gilbert Plantieux",
          "France",
          "Larmina",
          "Larmina",
          "Fonce",
          "Merci Slimane",
          "Tiens",
          "New York",
          "Bramard",
          "Slimane",
          "Slimane",
          "Bramard",
          "Coty",
          "Pelletier",
          "Kapov",
          "Jefferson",
          "Jefferson",
          "King",
          "SEP",
          "Slimane",
          "Bramard",
          "Pelletier",
          "Bramard",
          "Bramard",
          "Slimane",
          "Pelletier",
          "Slimane",
          "Slimane",
          "OSS",
          "Assalalamu",
          "Imam",
          "Sidi",
          "Sidi",
          "Jefferson",
          "Jack",
          "Jack",
          "Bonsoir",
          "Hubert",
          "OSS",
          "Jack",
          "Jack",
          "Jack",
          "Jack",
          "Jack",
          "Hubert",
          "Coty",
          "Imam",
          "OSS",
          "Larmina",
          "Jefferson",
          "Larmina",
          "SCEP",
          "Jefferson",
          "Chien",
          "Khéops",
          "Jack",
          "Jack",
          "Jack",
          "Jack",
          "Jack",
          "Larmina",
          "Larmina",
          "Hubert",
          "OSS 117",
          "Coty",
          "Hubert",
          "Armand",
          "France",
          "Egypte",
          "Iran",
          "Hubert",
          "Iran"
         ],
         "xaxis": "x",
         "yaxis": "y"
        }
       ],
       "layout": {
        "barmode": "relative",
        "legend": {
         "tracegroupgap": 0
        },
        "margin": {
         "t": 60
        },
        "template": {
         "data": {
          "bar": [
           {
            "error_x": {
             "color": "#2a3f5f"
            },
            "error_y": {
             "color": "#2a3f5f"
            },
            "marker": {
             "line": {
              "color": "#E5ECF6",
              "width": 0.5
             },
             "pattern": {
              "fillmode": "overlay",
              "size": 10,
              "solidity": 0.2
             }
            },
            "type": "bar"
           }
          ],
          "barpolar": [
           {
            "marker": {
             "line": {
              "color": "#E5ECF6",
              "width": 0.5
             },
             "pattern": {
              "fillmode": "overlay",
              "size": 10,
              "solidity": 0.2
             }
            },
            "type": "barpolar"
           }
          ],
          "carpet": [
           {
            "aaxis": {
             "endlinecolor": "#2a3f5f",
             "gridcolor": "white",
             "linecolor": "white",
             "minorgridcolor": "white",
             "startlinecolor": "#2a3f5f"
            },
            "baxis": {
             "endlinecolor": "#2a3f5f",
             "gridcolor": "white",
             "linecolor": "white",
             "minorgridcolor": "white",
             "startlinecolor": "#2a3f5f"
            },
            "type": "carpet"
           }
          ],
          "choropleth": [
           {
            "colorbar": {
             "outlinewidth": 0,
             "ticks": ""
            },
            "type": "choropleth"
           }
          ],
          "contour": [
           {
            "colorbar": {
             "outlinewidth": 0,
             "ticks": ""
            },
            "colorscale": [
             [
              0,
              "#0d0887"
             ],
             [
              0.1111111111111111,
              "#46039f"
             ],
             [
              0.2222222222222222,
              "#7201a8"
             ],
             [
              0.3333333333333333,
              "#9c179e"
             ],
             [
              0.4444444444444444,
              "#bd3786"
             ],
             [
              0.5555555555555556,
              "#d8576b"
             ],
             [
              0.6666666666666666,
              "#ed7953"
             ],
             [
              0.7777777777777778,
              "#fb9f3a"
             ],
             [
              0.8888888888888888,
              "#fdca26"
             ],
             [
              1,
              "#f0f921"
             ]
            ],
            "type": "contour"
           }
          ],
          "contourcarpet": [
           {
            "colorbar": {
             "outlinewidth": 0,
             "ticks": ""
            },
            "type": "contourcarpet"
           }
          ],
          "heatmap": [
           {
            "colorbar": {
             "outlinewidth": 0,
             "ticks": ""
            },
            "colorscale": [
             [
              0,
              "#0d0887"
             ],
             [
              0.1111111111111111,
              "#46039f"
             ],
             [
              0.2222222222222222,
              "#7201a8"
             ],
             [
              0.3333333333333333,
              "#9c179e"
             ],
             [
              0.4444444444444444,
              "#bd3786"
             ],
             [
              0.5555555555555556,
              "#d8576b"
             ],
             [
              0.6666666666666666,
              "#ed7953"
             ],
             [
              0.7777777777777778,
              "#fb9f3a"
             ],
             [
              0.8888888888888888,
              "#fdca26"
             ],
             [
              1,
              "#f0f921"
             ]
            ],
            "type": "heatmap"
           }
          ],
          "heatmapgl": [
           {
            "colorbar": {
             "outlinewidth": 0,
             "ticks": ""
            },
            "colorscale": [
             [
              0,
              "#0d0887"
             ],
             [
              0.1111111111111111,
              "#46039f"
             ],
             [
              0.2222222222222222,
              "#7201a8"
             ],
             [
              0.3333333333333333,
              "#9c179e"
             ],
             [
              0.4444444444444444,
              "#bd3786"
             ],
             [
              0.5555555555555556,
              "#d8576b"
             ],
             [
              0.6666666666666666,
              "#ed7953"
             ],
             [
              0.7777777777777778,
              "#fb9f3a"
             ],
             [
              0.8888888888888888,
              "#fdca26"
             ],
             [
              1,
              "#f0f921"
             ]
            ],
            "type": "heatmapgl"
           }
          ],
          "histogram": [
           {
            "marker": {
             "pattern": {
              "fillmode": "overlay",
              "size": 10,
              "solidity": 0.2
             }
            },
            "type": "histogram"
           }
          ],
          "histogram2d": [
           {
            "colorbar": {
             "outlinewidth": 0,
             "ticks": ""
            },
            "colorscale": [
             [
              0,
              "#0d0887"
             ],
             [
              0.1111111111111111,
              "#46039f"
             ],
             [
              0.2222222222222222,
              "#7201a8"
             ],
             [
              0.3333333333333333,
              "#9c179e"
             ],
             [
              0.4444444444444444,
              "#bd3786"
             ],
             [
              0.5555555555555556,
              "#d8576b"
             ],
             [
              0.6666666666666666,
              "#ed7953"
             ],
             [
              0.7777777777777778,
              "#fb9f3a"
             ],
             [
              0.8888888888888888,
              "#fdca26"
             ],
             [
              1,
              "#f0f921"
             ]
            ],
            "type": "histogram2d"
           }
          ],
          "histogram2dcontour": [
           {
            "colorbar": {
             "outlinewidth": 0,
             "ticks": ""
            },
            "colorscale": [
             [
              0,
              "#0d0887"
             ],
             [
              0.1111111111111111,
              "#46039f"
             ],
             [
              0.2222222222222222,
              "#7201a8"
             ],
             [
              0.3333333333333333,
              "#9c179e"
             ],
             [
              0.4444444444444444,
              "#bd3786"
             ],
             [
              0.5555555555555556,
              "#d8576b"
             ],
             [
              0.6666666666666666,
              "#ed7953"
             ],
             [
              0.7777777777777778,
              "#fb9f3a"
             ],
             [
              0.8888888888888888,
              "#fdca26"
             ],
             [
              1,
              "#f0f921"
             ]
            ],
            "type": "histogram2dcontour"
           }
          ],
          "mesh3d": [
           {
            "colorbar": {
             "outlinewidth": 0,
             "ticks": ""
            },
            "type": "mesh3d"
           }
          ],
          "parcoords": [
           {
            "line": {
             "colorbar": {
              "outlinewidth": 0,
              "ticks": ""
             }
            },
            "type": "parcoords"
           }
          ],
          "pie": [
           {
            "automargin": true,
            "type": "pie"
           }
          ],
          "scatter": [
           {
            "marker": {
             "colorbar": {
              "outlinewidth": 0,
              "ticks": ""
             }
            },
            "type": "scatter"
           }
          ],
          "scatter3d": [
           {
            "line": {
             "colorbar": {
              "outlinewidth": 0,
              "ticks": ""
             }
            },
            "marker": {
             "colorbar": {
              "outlinewidth": 0,
              "ticks": ""
             }
            },
            "type": "scatter3d"
           }
          ],
          "scattercarpet": [
           {
            "marker": {
             "colorbar": {
              "outlinewidth": 0,
              "ticks": ""
             }
            },
            "type": "scattercarpet"
           }
          ],
          "scattergeo": [
           {
            "marker": {
             "colorbar": {
              "outlinewidth": 0,
              "ticks": ""
             }
            },
            "type": "scattergeo"
           }
          ],
          "scattergl": [
           {
            "marker": {
             "colorbar": {
              "outlinewidth": 0,
              "ticks": ""
             }
            },
            "type": "scattergl"
           }
          ],
          "scattermapbox": [
           {
            "marker": {
             "colorbar": {
              "outlinewidth": 0,
              "ticks": ""
             }
            },
            "type": "scattermapbox"
           }
          ],
          "scatterpolar": [
           {
            "marker": {
             "colorbar": {
              "outlinewidth": 0,
              "ticks": ""
             }
            },
            "type": "scatterpolar"
           }
          ],
          "scatterpolargl": [
           {
            "marker": {
             "colorbar": {
              "outlinewidth": 0,
              "ticks": ""
             }
            },
            "type": "scatterpolargl"
           }
          ],
          "scatterternary": [
           {
            "marker": {
             "colorbar": {
              "outlinewidth": 0,
              "ticks": ""
             }
            },
            "type": "scatterternary"
           }
          ],
          "surface": [
           {
            "colorbar": {
             "outlinewidth": 0,
             "ticks": ""
            },
            "colorscale": [
             [
              0,
              "#0d0887"
             ],
             [
              0.1111111111111111,
              "#46039f"
             ],
             [
              0.2222222222222222,
              "#7201a8"
             ],
             [
              0.3333333333333333,
              "#9c179e"
             ],
             [
              0.4444444444444444,
              "#bd3786"
             ],
             [
              0.5555555555555556,
              "#d8576b"
             ],
             [
              0.6666666666666666,
              "#ed7953"
             ],
             [
              0.7777777777777778,
              "#fb9f3a"
             ],
             [
              0.8888888888888888,
              "#fdca26"
             ],
             [
              1,
              "#f0f921"
             ]
            ],
            "type": "surface"
           }
          ],
          "table": [
           {
            "cells": {
             "fill": {
              "color": "#EBF0F8"
             },
             "line": {
              "color": "white"
             }
            },
            "header": {
             "fill": {
              "color": "#C8D4E3"
             },
             "line": {
              "color": "white"
             }
            },
            "type": "table"
           }
          ]
         },
         "layout": {
          "annotationdefaults": {
           "arrowcolor": "#2a3f5f",
           "arrowhead": 0,
           "arrowwidth": 1
          },
          "autotypenumbers": "strict",
          "coloraxis": {
           "colorbar": {
            "outlinewidth": 0,
            "ticks": ""
           }
          },
          "colorscale": {
           "diverging": [
            [
             0,
             "#8e0152"
            ],
            [
             0.1,
             "#c51b7d"
            ],
            [
             0.2,
             "#de77ae"
            ],
            [
             0.3,
             "#f1b6da"
            ],
            [
             0.4,
             "#fde0ef"
            ],
            [
             0.5,
             "#f7f7f7"
            ],
            [
             0.6,
             "#e6f5d0"
            ],
            [
             0.7,
             "#b8e186"
            ],
            [
             0.8,
             "#7fbc41"
            ],
            [
             0.9,
             "#4d9221"
            ],
            [
             1,
             "#276419"
            ]
           ],
           "sequential": [
            [
             0,
             "#0d0887"
            ],
            [
             0.1111111111111111,
             "#46039f"
            ],
            [
             0.2222222222222222,
             "#7201a8"
            ],
            [
             0.3333333333333333,
             "#9c179e"
            ],
            [
             0.4444444444444444,
             "#bd3786"
            ],
            [
             0.5555555555555556,
             "#d8576b"
            ],
            [
             0.6666666666666666,
             "#ed7953"
            ],
            [
             0.7777777777777778,
             "#fb9f3a"
            ],
            [
             0.8888888888888888,
             "#fdca26"
            ],
            [
             1,
             "#f0f921"
            ]
           ],
           "sequentialminus": [
            [
             0,
             "#0d0887"
            ],
            [
             0.1111111111111111,
             "#46039f"
            ],
            [
             0.2222222222222222,
             "#7201a8"
            ],
            [
             0.3333333333333333,
             "#9c179e"
            ],
            [
             0.4444444444444444,
             "#bd3786"
            ],
            [
             0.5555555555555556,
             "#d8576b"
            ],
            [
             0.6666666666666666,
             "#ed7953"
            ],
            [
             0.7777777777777778,
             "#fb9f3a"
            ],
            [
             0.8888888888888888,
             "#fdca26"
            ],
            [
             1,
             "#f0f921"
            ]
           ]
          },
          "colorway": [
           "#636efa",
           "#EF553B",
           "#00cc96",
           "#ab63fa",
           "#FFA15A",
           "#19d3f3",
           "#FF6692",
           "#B6E880",
           "#FF97FF",
           "#FECB52"
          ],
          "font": {
           "color": "#2a3f5f"
          },
          "geo": {
           "bgcolor": "white",
           "lakecolor": "white",
           "landcolor": "#E5ECF6",
           "showlakes": true,
           "showland": true,
           "subunitcolor": "white"
          },
          "hoverlabel": {
           "align": "left"
          },
          "hovermode": "closest",
          "mapbox": {
           "style": "light"
          },
          "paper_bgcolor": "white",
          "plot_bgcolor": "#E5ECF6",
          "polar": {
           "angularaxis": {
            "gridcolor": "white",
            "linecolor": "white",
            "ticks": ""
           },
           "bgcolor": "#E5ECF6",
           "radialaxis": {
            "gridcolor": "white",
            "linecolor": "white",
            "ticks": ""
           }
          },
          "scene": {
           "xaxis": {
            "backgroundcolor": "#E5ECF6",
            "gridcolor": "white",
            "gridwidth": 2,
            "linecolor": "white",
            "showbackground": true,
            "ticks": "",
            "zerolinecolor": "white"
           },
           "yaxis": {
            "backgroundcolor": "#E5ECF6",
            "gridcolor": "white",
            "gridwidth": 2,
            "linecolor": "white",
            "showbackground": true,
            "ticks": "",
            "zerolinecolor": "white"
           },
           "zaxis": {
            "backgroundcolor": "#E5ECF6",
            "gridcolor": "white",
            "gridwidth": 2,
            "linecolor": "white",
            "showbackground": true,
            "ticks": "",
            "zerolinecolor": "white"
           }
          },
          "shapedefaults": {
           "line": {
            "color": "#2a3f5f"
           }
          },
          "ternary": {
           "aaxis": {
            "gridcolor": "white",
            "linecolor": "white",
            "ticks": ""
           },
           "baxis": {
            "gridcolor": "white",
            "linecolor": "white",
            "ticks": ""
           },
           "bgcolor": "#E5ECF6",
           "caxis": {
            "gridcolor": "white",
            "linecolor": "white",
            "ticks": ""
           }
          },
          "title": {
           "x": 0.05
          },
          "xaxis": {
           "automargin": true,
           "gridcolor": "white",
           "linecolor": "white",
           "ticks": "",
           "title": {
            "standoff": 15
           },
           "zerolinecolor": "white",
           "zerolinewidth": 2
          },
          "yaxis": {
           "automargin": true,
           "gridcolor": "white",
           "linecolor": "white",
           "ticks": "",
           "title": {
            "standoff": 15
           },
           "zerolinecolor": "white",
           "zerolinewidth": 2
          }
         }
        },
        "xaxis": {
         "anchor": "y",
         "categoryorder": "total descending",
         "domain": [
          0,
          1
         ],
         "title": {
          "text": "x"
         }
        },
        "yaxis": {
         "anchor": "x",
         "domain": [
          0,
          1
         ],
         "title": {
          "text": "count"
         }
        }
       }
      }
     },
     "metadata": {},
     "output_type": "display_data"
    }
   ],
   "source": [
    "fig = px.histogram(x=entity_labels)\n",
    "fig.update_xaxes(categoryorder='total descending')\n",
    "fig.show()"
   ]
  },
  {
   "cell_type": "code",
   "execution_count": 162,
   "metadata": {},
   "outputs": [
    {
     "data": {
      "application/vnd.plotly.v1+json": {
       "config": {
        "plotlyServerURL": "https://plot.ly"
       },
       "data": [
        {
         "alignmentgroup": "True",
         "bingroup": "x",
         "hovertemplate": "entities=Rubecht<br>index=%{x}<br>count=%{y}<extra></extra>",
         "legendgroup": "Rubecht",
         "marker": {
          "color": "#636efa",
          "pattern": {
           "shape": ""
          }
         },
         "name": "Rubecht",
         "nbinsx": 20,
         "offsetgroup": "Rubecht",
         "orientation": "v",
         "showlegend": true,
         "type": "histogram",
         "x": [
          0,
          6,
          8,
          10
         ],
         "xaxis": "x",
         "yaxis": "y"
        },
        {
         "alignmentgroup": "True",
         "bingroup": "x",
         "hovertemplate": "entities=Hitler<br>index=%{x}<br>count=%{y}<extra></extra>",
         "legendgroup": "Hitler",
         "marker": {
          "color": "#EF553B",
          "pattern": {
           "shape": ""
          }
         },
         "name": "Hitler",
         "nbinsx": 20,
         "offsetgroup": "Hitler",
         "orientation": "v",
         "showlegend": true,
         "type": "histogram",
         "x": [
          2,
          985,
          985,
          985
         ],
         "xaxis": "x",
         "yaxis": "y"
        },
        {
         "alignmentgroup": "True",
         "bingroup": "x",
         "hovertemplate": "entities=Amérique du Sud<br>index=%{x}<br>count=%{y}<extra></extra>",
         "legendgroup": "Amérique du Sud",
         "marker": {
          "color": "#00cc96",
          "pattern": {
           "shape": ""
          }
         },
         "name": "Amérique du Sud",
         "nbinsx": 20,
         "offsetgroup": "Amérique du Sud",
         "orientation": "v",
         "showlegend": true,
         "type": "histogram",
         "x": [
          20
         ],
         "xaxis": "x",
         "yaxis": "y"
        },
        {
         "alignmentgroup": "True",
         "bingroup": "x",
         "hovertemplate": "entities=OSS<br>index=%{x}<br>count=%{y}<extra></extra>",
         "legendgroup": "OSS",
         "marker": {
          "color": "#ab63fa",
          "pattern": {
           "shape": ""
          }
         },
         "name": "OSS",
         "nbinsx": 20,
         "offsetgroup": "OSS",
         "orientation": "v",
         "showlegend": true,
         "type": "histogram",
         "x": [
          29,
          135,
          1312,
          1336,
          1370
         ],
         "xaxis": "x",
         "yaxis": "y"
        },
        {
         "alignmentgroup": "True",
         "bingroup": "x",
         "hovertemplate": "entities=OSS 117 Airways<br>index=%{x}<br>count=%{y}<extra></extra>",
         "legendgroup": "OSS 117 Airways",
         "marker": {
          "color": "#FFA15A",
          "pattern": {
           "shape": ""
          }
         },
         "name": "OSS 117 Airways",
         "nbinsx": 20,
         "offsetgroup": "OSS 117 Airways",
         "orientation": "v",
         "showlegend": true,
         "type": "histogram",
         "x": [
          34
         ],
         "xaxis": "x",
         "yaxis": "y"
        },
        {
         "alignmentgroup": "True",
         "bingroup": "x",
         "hovertemplate": "entities=Jack<br>index=%{x}<br>count=%{y}<extra></extra>",
         "legendgroup": "Jack",
         "marker": {
          "color": "#19d3f3",
          "pattern": {
           "shape": ""
          }
         },
         "name": "Jack",
         "nbinsx": 20,
         "offsetgroup": "Jack",
         "orientation": "v",
         "showlegend": true,
         "type": "histogram",
         "x": [
          35,
          38,
          90,
          91,
          92,
          93,
          239,
          276,
          277,
          278,
          311,
          319,
          325,
          796,
          802,
          916,
          1156,
          1161,
          1332,
          1333,
          1345,
          1350,
          1351,
          1353,
          1356,
          1389,
          1390,
          1391,
          1392,
          1393
         ],
         "xaxis": "x",
         "yaxis": "y"
        },
        {
         "alignmentgroup": "True",
         "bingroup": "x",
         "hovertemplate": "entities=Hubert<br>index=%{x}<br>count=%{y}<extra></extra>",
         "legendgroup": "Hubert",
         "marker": {
          "color": "#FF6692",
          "pattern": {
           "shape": ""
          }
         },
         "name": "Hubert",
         "nbinsx": 20,
         "offsetgroup": "Hubert",
         "orientation": "v",
         "showlegend": true,
         "type": "histogram",
         "x": [
          36,
          84,
          107,
          114,
          373,
          772,
          783,
          814,
          1334,
          1357,
          1418,
          1431,
          1443
         ],
         "xaxis": "x",
         "yaxis": "y"
        },
        {
         "alignmentgroup": "True",
         "bingroup": "x",
         "hovertemplate": "entities=Chien<br>index=%{x}<br>count=%{y}<extra></extra>",
         "legendgroup": "Chien",
         "marker": {
          "color": "#B6E880",
          "pattern": {
           "shape": ""
          }
         },
         "name": "Chien",
         "nbinsx": 20,
         "offsetgroup": "Chien",
         "orientation": "v",
         "showlegend": true,
         "type": "histogram",
         "x": [
          42,
          58,
          1381
         ],
         "xaxis": "x",
         "yaxis": "y"
        },
        {
         "alignmentgroup": "True",
         "bingroup": "x",
         "hovertemplate": "entities=OSS 117<br>index=%{x}<br>count=%{y}<extra></extra>",
         "legendgroup": "OSS 117",
         "marker": {
          "color": "#FF97FF",
          "pattern": {
           "shape": ""
          }
         },
         "name": "OSS 117",
         "nbinsx": 20,
         "offsetgroup": "OSS 117",
         "orientation": "v",
         "showlegend": true,
         "type": "histogram",
         "x": [
          49,
          703,
          928,
          988,
          1423
         ],
         "xaxis": "x",
         "yaxis": "y"
        },
        {
         "alignmentgroup": "True",
         "bingroup": "x",
         "hovertemplate": "entities=Jamila Narobi<br>index=%{x}<br>count=%{y}<extra></extra>",
         "legendgroup": "Jamila Narobi",
         "marker": {
          "color": "#FECB52",
          "pattern": {
           "shape": ""
          }
         },
         "name": "Jamila Narobi",
         "nbinsx": 20,
         "offsetgroup": "Jamila Narobi",
         "orientation": "v",
         "showlegend": true,
         "type": "histogram",
         "x": [
          53
         ],
         "xaxis": "x",
         "yaxis": "y"
        },
        {
         "alignmentgroup": "True",
         "bingroup": "x",
         "hovertemplate": "entities=Rome<br>index=%{x}<br>count=%{y}<extra></extra>",
         "legendgroup": "Rome",
         "marker": {
          "color": "#636efa",
          "pattern": {
           "shape": ""
          }
         },
         "name": "Rome",
         "nbinsx": 20,
         "offsetgroup": "Rome",
         "orientation": "v",
         "showlegend": true,
         "type": "histogram",
         "x": [
          53
         ],
         "xaxis": "x",
         "yaxis": "y"
        },
        {
         "alignmentgroup": "True",
         "bingroup": "x",
         "hovertemplate": "entities=Al Tarouk<br>index=%{x}<br>count=%{y}<extra></extra>",
         "legendgroup": "Al Tarouk",
         "marker": {
          "color": "#EF553B",
          "pattern": {
           "shape": ""
          }
         },
         "name": "Al Tarouk",
         "nbinsx": 20,
         "offsetgroup": "Al Tarouk",
         "orientation": "v",
         "showlegend": true,
         "type": "histogram",
         "x": [
          54,
          862
         ],
         "xaxis": "x",
         "yaxis": "y"
        },
        {
         "alignmentgroup": "True",
         "bingroup": "x",
         "hovertemplate": "entities=Égypte<br>index=%{x}<br>count=%{y}<extra></extra>",
         "legendgroup": "Égypte",
         "marker": {
          "color": "#00cc96",
          "pattern": {
           "shape": ""
          }
         },
         "name": "Égypte",
         "nbinsx": 20,
         "offsetgroup": "Égypte",
         "orientation": "v",
         "showlegend": true,
         "type": "histogram",
         "x": [
          54
         ],
         "xaxis": "x",
         "yaxis": "y"
        },
        {
         "alignmentgroup": "True",
         "bingroup": "x",
         "hovertemplate": "entities=Farouk<br>index=%{x}<br>count=%{y}<extra></extra>",
         "legendgroup": "Farouk",
         "marker": {
          "color": "#ab63fa",
          "pattern": {
           "shape": ""
          }
         },
         "name": "Farouk",
         "nbinsx": 20,
         "offsetgroup": "Farouk",
         "orientation": "v",
         "showlegend": true,
         "type": "histogram",
         "x": [
          54,
          55,
          394,
          861
         ],
         "xaxis": "x",
         "yaxis": "y"
        },
        {
         "alignmentgroup": "True",
         "bingroup": "x",
         "hovertemplate": "entities=Egypte<br>index=%{x}<br>count=%{y}<extra></extra>",
         "legendgroup": "Egypte",
         "marker": {
          "color": "#FFA15A",
          "pattern": {
           "shape": ""
          }
         },
         "name": "Egypte",
         "nbinsx": 20,
         "offsetgroup": "Egypte",
         "orientation": "v",
         "showlegend": true,
         "type": "histogram",
         "x": [
          55,
          94,
          107,
          127,
          184,
          192,
          198,
          237,
          348,
          365,
          834,
          867,
          1440
         ],
         "xaxis": "x",
         "yaxis": "y"
        },
        {
         "alignmentgroup": "True",
         "bingroup": "x",
         "hovertemplate": "entities=Nasser<br>index=%{x}<br>count=%{y}<extra></extra>",
         "legendgroup": "Nasser",
         "marker": {
          "color": "#19d3f3",
          "pattern": {
           "shape": ""
          }
         },
         "name": "Nasser",
         "nbinsx": 20,
         "offsetgroup": "Nasser",
         "orientation": "v",
         "showlegend": true,
         "type": "histogram",
         "x": [
          56,
          199,
          200
         ],
         "xaxis": "x",
         "yaxis": "y"
        },
        {
         "alignmentgroup": "True",
         "bingroup": "x",
         "hovertemplate": "entities=Bâillonnée<br>index=%{x}<br>count=%{y}<extra></extra>",
         "legendgroup": "Bâillonnée",
         "marker": {
          "color": "#FF6692",
          "pattern": {
           "shape": ""
          }
         },
         "name": "Bâillonnée",
         "nbinsx": 20,
         "offsetgroup": "Bâillonnée",
         "orientation": "v",
         "showlegend": true,
         "type": "histogram",
         "x": [
          76
         ],
         "xaxis": "x",
         "yaxis": "y"
        },
        {
         "alignmentgroup": "True",
         "bingroup": "x",
         "hovertemplate": "entities=OSS 283<br>index=%{x}<br>count=%{y}<extra></extra>",
         "legendgroup": "OSS 283",
         "marker": {
          "color": "#B6E880",
          "pattern": {
           "shape": ""
          }
         },
         "name": "OSS 283",
         "nbinsx": 20,
         "offsetgroup": "OSS 283",
         "orientation": "v",
         "showlegend": true,
         "type": "histogram",
         "x": [
          94
         ],
         "xaxis": "x",
         "yaxis": "y"
        },
        {
         "alignmentgroup": "True",
         "bingroup": "x",
         "hovertemplate": "entities=Canal de Suez<br>index=%{x}<br>count=%{y}<extra></extra>",
         "legendgroup": "Canal de Suez",
         "marker": {
          "color": "#FF97FF",
          "pattern": {
           "shape": ""
          }
         },
         "name": "Canal de Suez",
         "nbinsx": 20,
         "offsetgroup": "Canal de Suez",
         "orientation": "v",
         "showlegend": true,
         "type": "histogram",
         "x": [
          100,
          217
         ],
         "xaxis": "x",
         "yaxis": "y"
        },
        {
         "alignmentgroup": "True",
         "bingroup": "x",
         "hovertemplate": "entities=Le Kapov<br>index=%{x}<br>count=%{y}<extra></extra>",
         "legendgroup": "Le Kapov",
         "marker": {
          "color": "#FECB52",
          "pattern": {
           "shape": ""
          }
         },
         "name": "Le Kapov",
         "nbinsx": 20,
         "offsetgroup": "Le Kapov",
         "orientation": "v",
         "showlegend": true,
         "type": "histogram",
         "x": [
          102
         ],
         "xaxis": "x",
         "yaxis": "y"
        },
        {
         "alignmentgroup": "True",
         "bingroup": "x",
         "hovertemplate": "entities=zAigles de Khéops<br>index=%{x}<br>count=%{y}<extra></extra>",
         "legendgroup": "zAigles de Khéops",
         "marker": {
          "color": "#636efa",
          "pattern": {
           "shape": ""
          }
         },
         "name": "zAigles de Khéops",
         "nbinsx": 20,
         "offsetgroup": "zAigles de Khéops",
         "orientation": "v",
         "showlegend": true,
         "type": "histogram",
         "x": [
          105
         ],
         "xaxis": "x",
         "yaxis": "y"
        },
        {
         "alignmentgroup": "True",
         "bingroup": "x",
         "hovertemplate": "entities=Coty<br>index=%{x}<br>count=%{y}<extra></extra>",
         "legendgroup": "Coty",
         "marker": {
          "color": "#EF553B",
          "pattern": {
           "shape": ""
          }
         },
         "name": "Coty",
         "nbinsx": 20,
         "offsetgroup": "Coty",
         "orientation": "v",
         "showlegend": true,
         "type": "histogram",
         "x": [
          108,
          109,
          1250,
          1358,
          1430
         ],
         "xaxis": "x",
         "yaxis": "y"
        },
        {
         "alignmentgroup": "True",
         "bingroup": "x",
         "hovertemplate": "entities=Brouilly<br>index=%{x}<br>count=%{y}<extra></extra>",
         "legendgroup": "Brouilly",
         "marker": {
          "color": "#00cc96",
          "pattern": {
           "shape": ""
          }
         },
         "name": "Brouilly",
         "nbinsx": 20,
         "offsetgroup": "Brouilly",
         "orientation": "v",
         "showlegend": true,
         "type": "histogram",
         "x": [
          115
         ],
         "xaxis": "x",
         "yaxis": "y"
        },
        {
         "alignmentgroup": "True",
         "bingroup": "x",
         "hovertemplate": "entities=Jefferson<br>index=%{x}<br>count=%{y}<extra></extra>",
         "legendgroup": "Jefferson",
         "marker": {
          "color": "#ab63fa",
          "pattern": {
           "shape": ""
          }
         },
         "name": "Jefferson",
         "nbinsx": 20,
         "offsetgroup": "Jefferson",
         "orientation": "v",
         "showlegend": true,
         "type": "histogram",
         "x": [
          122,
          162,
          241,
          263,
          284,
          297,
          309,
          467,
          531,
          795,
          915,
          920,
          931,
          975,
          1021,
          1153,
          1259,
          1263,
          1331,
          1374,
          1380
         ],
         "xaxis": "x",
         "yaxis": "y"
        },
        {
         "alignmentgroup": "True",
         "bingroup": "x",
         "hovertemplate": "entities=France<br>index=%{x}<br>count=%{y}<extra></extra>",
         "legendgroup": "France",
         "marker": {
          "color": "#FFA15A",
          "pattern": {
           "shape": ""
          }
         },
         "name": "France",
         "nbinsx": 20,
         "offsetgroup": "France",
         "orientation": "v",
         "showlegend": true,
         "type": "histogram",
         "x": [
          126,
          784,
          1212,
          1439
         ],
         "xaxis": "x",
         "yaxis": "y"
        },
        {
         "alignmentgroup": "True",
         "bingroup": "x",
         "hovertemplate": "entities=Proche Orient<br>index=%{x}<br>count=%{y}<extra></extra>",
         "legendgroup": "Proche Orient",
         "marker": {
          "color": "#19d3f3",
          "pattern": {
           "shape": ""
          }
         },
         "name": "Proche Orient",
         "nbinsx": 20,
         "offsetgroup": "Proche Orient",
         "orientation": "v",
         "showlegend": true,
         "type": "histogram",
         "x": [
          129
         ],
         "xaxis": "x",
         "yaxis": "y"
        },
        {
         "alignmentgroup": "True",
         "bingroup": "x",
         "hovertemplate": "entities=Caire<br>index=%{x}<br>count=%{y}<extra></extra>",
         "legendgroup": "Caire",
         "marker": {
          "color": "#FF6692",
          "pattern": {
           "shape": ""
          }
         },
         "name": "Caire",
         "nbinsx": 20,
         "offsetgroup": "Caire",
         "orientation": "v",
         "showlegend": true,
         "type": "histogram",
         "x": [
          131,
          135,
          323
         ],
         "xaxis": "x",
         "yaxis": "y"
        },
        {
         "alignmentgroup": "True",
         "bingroup": "x",
         "hovertemplate": "entities=Lucien Bramard<br>index=%{x}<br>count=%{y}<extra></extra>",
         "legendgroup": "Lucien Bramard",
         "marker": {
          "color": "#B6E880",
          "pattern": {
           "shape": ""
          }
         },
         "name": "Lucien Bramard",
         "nbinsx": 20,
         "offsetgroup": "Lucien Bramard",
         "orientation": "v",
         "showlegend": true,
         "type": "histogram",
         "x": [
          134,
          165,
          190,
          265,
          318,
          467,
          520
         ],
         "xaxis": "x",
         "yaxis": "y"
        },
        {
         "alignmentgroup": "True",
         "bingroup": "x",
         "hovertemplate": "entities=Jack Jefferson<br>index=%{x}<br>count=%{y}<extra></extra>",
         "legendgroup": "Jack Jefferson",
         "marker": {
          "color": "#FF97FF",
          "pattern": {
           "shape": ""
          }
         },
         "name": "Jack Jefferson",
         "nbinsx": 20,
         "offsetgroup": "Jack Jefferson",
         "orientation": "v",
         "showlegend": true,
         "type": "histogram",
         "x": [
          134,
          532
         ],
         "xaxis": "x",
         "yaxis": "y"
        },
        {
         "alignmentgroup": "True",
         "bingroup": "x",
         "hovertemplate": "entities=Larmina El Akmar Betouche<br>index=%{x}<br>count=%{y}<extra></extra>",
         "legendgroup": "Larmina El Akmar Betouche",
         "marker": {
          "color": "#FECB52",
          "pattern": {
           "shape": ""
          }
         },
         "name": "Larmina El Akmar Betouche",
         "nbinsx": 20,
         "offsetgroup": "Larmina El Akmar Betouche",
         "orientation": "v",
         "showlegend": true,
         "type": "histogram",
         "x": [
          161
         ],
         "xaxis": "x",
         "yaxis": "y"
        },
        {
         "alignmentgroup": "True",
         "bingroup": "x",
         "hovertemplate": "entities=Hubert Bonnisseur<br>index=%{x}<br>count=%{y}<extra></extra>",
         "legendgroup": "Hubert Bonnisseur",
         "marker": {
          "color": "#636efa",
          "pattern": {
           "shape": ""
          }
         },
         "name": "Hubert Bonnisseur",
         "nbinsx": 20,
         "offsetgroup": "Hubert Bonnisseur",
         "orientation": "v",
         "showlegend": true,
         "type": "histogram",
         "x": [
          164
         ],
         "xaxis": "x",
         "yaxis": "y"
        },
        {
         "alignmentgroup": "True",
         "bingroup": "x",
         "hovertemplate": "entities=Bath<br>index=%{x}<br>count=%{y}<extra></extra>",
         "legendgroup": "Bath",
         "marker": {
          "color": "#EF553B",
          "pattern": {
           "shape": ""
          }
         },
         "name": "Bath",
         "nbinsx": 20,
         "offsetgroup": "Bath",
         "orientation": "v",
         "showlegend": true,
         "type": "histogram",
         "x": [
          164,
          188,
          840,
          849
         ],
         "xaxis": "x",
         "yaxis": "y"
        },
        {
         "alignmentgroup": "True",
         "bingroup": "x",
         "hovertemplate": "entities=Lucien<br>index=%{x}<br>count=%{y}<extra></extra>",
         "legendgroup": "Lucien",
         "marker": {
          "color": "#00cc96",
          "pattern": {
           "shape": ""
          }
         },
         "name": "Lucien",
         "nbinsx": 20,
         "offsetgroup": "Lucien",
         "orientation": "v",
         "showlegend": true,
         "type": "histogram",
         "x": [
          166,
          279,
          295,
          303,
          324,
          328,
          407,
          411,
          455,
          465,
          468,
          585,
          610,
          616,
          726,
          897,
          1129,
          1143,
          1198,
          1209
         ],
         "xaxis": "x",
         "yaxis": "y"
        },
        {
         "alignmentgroup": "True",
         "bingroup": "x",
         "hovertemplate": "entities=Bramard<br>index=%{x}<br>count=%{y}<extra></extra>",
         "legendgroup": "Bramard",
         "marker": {
          "color": "#ab63fa",
          "pattern": {
           "shape": ""
          }
         },
         "name": "Bramard",
         "nbinsx": 20,
         "offsetgroup": "Bramard",
         "orientation": "v",
         "showlegend": true,
         "type": "histogram",
         "x": [
          189,
          193,
          211,
          342,
          344,
          347,
          353,
          471,
          481,
          489,
          890,
          903,
          917,
          927,
          939,
          954,
          971,
          976,
          983,
          1043,
          1057,
          1075,
          1076,
          1103,
          1239,
          1244,
          1276,
          1284,
          1287
         ],
         "xaxis": "x",
         "yaxis": "y"
        },
        {
         "alignmentgroup": "True",
         "bingroup": "x",
         "hovertemplate": "entities=Larmina<br>index=%{x}<br>count=%{y}<extra></extra>",
         "legendgroup": "Larmina",
         "marker": {
          "color": "#FFA15A",
          "pattern": {
           "shape": ""
          }
         },
         "name": "Larmina",
         "nbinsx": 20,
         "offsetgroup": "Larmina",
         "orientation": "v",
         "showlegend": true,
         "type": "histogram",
         "x": [
          191,
          208,
          238,
          326,
          408,
          415,
          420,
          538,
          556,
          566,
          583,
          653,
          702,
          732,
          1101,
          1116,
          1137,
          1147,
          1160,
          1165,
          1204,
          1217,
          1224,
          1372,
          1375,
          1402,
          1405
         ],
         "xaxis": "x",
         "yaxis": "y"
        },
        {
         "alignmentgroup": "True",
         "bingroup": "x",
         "hovertemplate": "entities=Raïs<br>index=%{x}<br>count=%{y}<extra></extra>",
         "legendgroup": "Raïs",
         "marker": {
          "color": "#19d3f3",
          "pattern": {
           "shape": ""
          }
         },
         "name": "Raïs",
         "nbinsx": 20,
         "offsetgroup": "Raïs",
         "orientation": "v",
         "showlegend": true,
         "type": "histogram",
         "x": [
          194,
          196
         ],
         "xaxis": "x",
         "yaxis": "y"
        },
        {
         "alignmentgroup": "True",
         "bingroup": "x",
         "hovertemplate": "entities=Ismaïla<br>index=%{x}<br>count=%{y}<extra></extra>",
         "legendgroup": "Ismaïla",
         "marker": {
          "color": "#FF6692",
          "pattern": {
           "shape": ""
          }
         },
         "name": "Ismaïla",
         "nbinsx": 20,
         "offsetgroup": "Ismaïla",
         "orientation": "v",
         "showlegend": true,
         "type": "histogram",
         "x": [
          242
         ],
         "xaxis": "x",
         "yaxis": "y"
        },
        {
         "alignmentgroup": "True",
         "bingroup": "x",
         "hovertemplate": "entities=SCEP<br>index=%{x}<br>count=%{y}<extra></extra>",
         "legendgroup": "SCEP",
         "marker": {
          "color": "#B6E880",
          "pattern": {
           "shape": ""
          }
         },
         "name": "SCEP",
         "nbinsx": 20,
         "offsetgroup": "SCEP",
         "orientation": "v",
         "showlegend": true,
         "type": "histogram",
         "x": [
          255,
          256,
          282,
          583,
          1377
         ],
         "xaxis": "x",
         "yaxis": "y"
        },
        {
         "alignmentgroup": "True",
         "bingroup": "x",
         "hovertemplate": "entities=Venez Lucien<br>index=%{x}<br>count=%{y}<extra></extra>",
         "legendgroup": "Venez Lucien",
         "marker": {
          "color": "#FF97FF",
          "pattern": {
           "shape": ""
          }
         },
         "name": "Venez Lucien",
         "nbinsx": 20,
         "offsetgroup": "Venez Lucien",
         "orientation": "v",
         "showlegend": true,
         "type": "histogram",
         "x": [
          257
         ],
         "xaxis": "x",
         "yaxis": "y"
        },
        {
         "alignmentgroup": "True",
         "bingroup": "x",
         "hovertemplate": "entities=Slimane<br>index=%{x}<br>count=%{y}<extra></extra>",
         "legendgroup": "Slimane",
         "marker": {
          "color": "#FECB52",
          "pattern": {
           "shape": ""
          }
         },
         "name": "Slimane",
         "nbinsx": 20,
         "offsetgroup": "Slimane",
         "orientation": "v",
         "showlegend": true,
         "type": "histogram",
         "x": [
          258,
          259,
          261,
          262,
          594,
          596,
          597,
          606,
          607,
          608,
          1240,
          1241,
          1270,
          1295,
          1298,
          1301
         ],
         "xaxis": "x",
         "yaxis": "y"
        },
        {
         "alignmentgroup": "True",
         "bingroup": "x",
         "hovertemplate": "entities=René Coty<br>index=%{x}<br>count=%{y}<extra></extra>",
         "legendgroup": "René Coty",
         "marker": {
          "color": "#636efa",
          "pattern": {
           "shape": ""
          }
         },
         "name": "René Coty",
         "nbinsx": 20,
         "offsetgroup": "René Coty",
         "orientation": "v",
         "showlegend": true,
         "type": "histogram",
         "x": [
          270,
          364
         ],
         "xaxis": "x",
         "yaxis": "y"
        },
        {
         "alignmentgroup": "True",
         "bingroup": "x",
         "hovertemplate": "entities=Société Cairote d'Élevage de Poulet<br>index=%{x}<br>count=%{y}<extra></extra>",
         "legendgroup": "Société Cairote d'Élevage de Poulet",
         "marker": {
          "color": "#EF553B",
          "pattern": {
           "shape": ""
          }
         },
         "name": "Société Cairote d'Élevage de Poulet",
         "nbinsx": 20,
         "offsetgroup": "Société Cairote d'Élevage de Poulet",
         "orientation": "v",
         "showlegend": true,
         "type": "histogram",
         "x": [
          282
         ],
         "xaxis": "x",
         "yaxis": "y"
        },
        {
         "alignmentgroup": "True",
         "bingroup": "x",
         "hovertemplate": "entities=Gerhard Moeller<br>index=%{x}<br>count=%{y}<extra></extra>",
         "legendgroup": "Gerhard Moeller",
         "marker": {
          "color": "#00cc96",
          "pattern": {
           "shape": ""
          }
         },
         "name": "Gerhard Moeller",
         "nbinsx": 20,
         "offsetgroup": "Gerhard Moeller",
         "orientation": "v",
         "showlegend": true,
         "type": "histogram",
         "x": [
          303,
          468
         ],
         "xaxis": "x",
         "yaxis": "y"
        },
        {
         "alignmentgroup": "True",
         "bingroup": "x",
         "hovertemplate": "entities=SCEB<br>index=%{x}<br>count=%{y}<extra></extra>",
         "legendgroup": "SCEB",
         "marker": {
          "color": "#ab63fa",
          "pattern": {
           "shape": ""
          }
         },
         "name": "SCEB",
         "nbinsx": 20,
         "offsetgroup": "SCEB",
         "orientation": "v",
         "showlegend": true,
         "type": "histogram",
         "x": [
          304
         ],
         "xaxis": "x",
         "yaxis": "y"
        },
        {
         "alignmentgroup": "True",
         "bingroup": "x",
         "hovertemplate": "entities=Société Egyptienne d'Élevage de Boeuf<br>index=%{x}<br>count=%{y}<extra></extra>",
         "legendgroup": "Société Egyptienne d'Élevage de Boeuf",
         "marker": {
          "color": "#FFA15A",
          "pattern": {
           "shape": ""
          }
         },
         "name": "Société Egyptienne d'Élevage de Boeuf",
         "nbinsx": 20,
         "offsetgroup": "Société Egyptienne d'Élevage de Boeuf",
         "orientation": "v",
         "showlegend": true,
         "type": "histogram",
         "x": [
          305
         ],
         "xaxis": "x",
         "yaxis": "y"
        },
        {
         "alignmentgroup": "True",
         "bingroup": "x",
         "hovertemplate": "entities=Laquelle<br>index=%{x}<br>count=%{y}<extra></extra>",
         "legendgroup": "Laquelle",
         "marker": {
          "color": "#19d3f3",
          "pattern": {
           "shape": ""
          }
         },
         "name": "Laquelle",
         "nbinsx": 20,
         "offsetgroup": "Laquelle",
         "orientation": "v",
         "showlegend": true,
         "type": "histogram",
         "x": [
          307
         ],
         "xaxis": "x",
         "yaxis": "y"
        },
        {
         "alignmentgroup": "True",
         "bingroup": "x",
         "hovertemplate": "entities=Jordanie<br>index=%{x}<br>count=%{y}<extra></extra>",
         "legendgroup": "Jordanie",
         "marker": {
          "color": "#FF6692",
          "pattern": {
           "shape": ""
          }
         },
         "name": "Jordanie",
         "nbinsx": 20,
         "offsetgroup": "Jordanie",
         "orientation": "v",
         "showlegend": true,
         "type": "histogram",
         "x": [
          311
         ],
         "xaxis": "x",
         "yaxis": "y"
        },
        {
         "alignmentgroup": "True",
         "bingroup": "x",
         "hovertemplate": "entities=Grande Bretagne<br>index=%{x}<br>count=%{y}<extra></extra>",
         "legendgroup": "Grande Bretagne",
         "marker": {
          "color": "#B6E880",
          "pattern": {
           "shape": ""
          }
         },
         "name": "Grande Bretagne",
         "nbinsx": 20,
         "offsetgroup": "Grande Bretagne",
         "orientation": "v",
         "showlegend": true,
         "type": "histogram",
         "x": [
          328
         ],
         "xaxis": "x",
         "yaxis": "y"
        },
        {
         "alignmentgroup": "True",
         "bingroup": "x",
         "hovertemplate": "entities=Choukran<br>index=%{x}<br>count=%{y}<extra></extra>",
         "legendgroup": "Choukran",
         "marker": {
          "color": "#FF97FF",
          "pattern": {
           "shape": ""
          }
         },
         "name": "Choukran",
         "nbinsx": 20,
         "offsetgroup": "Choukran",
         "orientation": "v",
         "showlegend": true,
         "type": "histogram",
         "x": [
          347,
          535,
          537
         ],
         "xaxis": "x",
         "yaxis": "y"
        },
        {
         "alignmentgroup": "True",
         "bingroup": "x",
         "hovertemplate": "entities=Metropolitan<br>index=%{x}<br>count=%{y}<extra></extra>",
         "legendgroup": "Metropolitan",
         "marker": {
          "color": "#FECB52",
          "pattern": {
           "shape": ""
          }
         },
         "name": "Metropolitan",
         "nbinsx": 20,
         "offsetgroup": "Metropolitan",
         "orientation": "v",
         "showlegend": true,
         "type": "histogram",
         "x": [
          351,
          406,
          536
         ],
         "xaxis": "x",
         "yaxis": "y"
        },
        {
         "alignmentgroup": "True",
         "bingroup": "x",
         "hovertemplate": "entities=Tenez<br>index=%{x}<br>count=%{y}<extra></extra>",
         "legendgroup": "Tenez",
         "marker": {
          "color": "#636efa",
          "pattern": {
           "shape": ""
          }
         },
         "name": "Tenez",
         "nbinsx": 20,
         "offsetgroup": "Tenez",
         "orientation": "v",
         "showlegend": true,
         "type": "histogram",
         "x": [
          362
         ],
         "xaxis": "x",
         "yaxis": "y"
        },
        {
         "alignmentgroup": "True",
         "bingroup": "x",
         "hovertemplate": "entities=Merci Hubert<br>index=%{x}<br>count=%{y}<extra></extra>",
         "legendgroup": "Merci Hubert",
         "marker": {
          "color": "#EF553B",
          "pattern": {
           "shape": ""
          }
         },
         "name": "Merci Hubert",
         "nbinsx": 20,
         "offsetgroup": "Merci Hubert",
         "orientation": "v",
         "showlegend": true,
         "type": "histogram",
         "x": [
          368
         ],
         "xaxis": "x",
         "yaxis": "y"
        },
        {
         "alignmentgroup": "True",
         "bingroup": "x",
         "hovertemplate": "entities=Safi<br>index=%{x}<br>count=%{y}<extra></extra>",
         "legendgroup": "Safi",
         "marker": {
          "color": "#00cc96",
          "pattern": {
           "shape": ""
          }
         },
         "name": "Safi",
         "nbinsx": 20,
         "offsetgroup": "Safi",
         "orientation": "v",
         "showlegend": true,
         "type": "histogram",
         "x": [
          392,
          767,
          883,
          887
         ],
         "xaxis": "x",
         "yaxis": "y"
        },
        {
         "alignmentgroup": "True",
         "bingroup": "x",
         "hovertemplate": "entities=Aiwa<br>index=%{x}<br>count=%{y}<extra></extra>",
         "legendgroup": "Aiwa",
         "marker": {
          "color": "#ab63fa",
          "pattern": {
           "shape": ""
          }
         },
         "name": "Aiwa",
         "nbinsx": 20,
         "offsetgroup": "Aiwa",
         "orientation": "v",
         "showlegend": true,
         "type": "histogram",
         "x": [
          404
         ],
         "xaxis": "x",
         "yaxis": "y"
        },
        {
         "alignmentgroup": "True",
         "bingroup": "x",
         "hovertemplate": "entities=Salaam Aleikum<br>index=%{x}<br>count=%{y}<extra></extra>",
         "legendgroup": "Salaam Aleikum",
         "marker": {
          "color": "#FFA15A",
          "pattern": {
           "shape": ""
          }
         },
         "name": "Salaam Aleikum",
         "nbinsx": 20,
         "offsetgroup": "Salaam Aleikum",
         "orientation": "v",
         "showlegend": true,
         "type": "histogram",
         "x": [
          407
         ],
         "xaxis": "x",
         "yaxis": "y"
        },
        {
         "alignmentgroup": "True",
         "bingroup": "x",
         "hovertemplate": "entities=Inch<br>index=%{x}<br>count=%{y}<extra></extra>",
         "legendgroup": "Inch",
         "marker": {
          "color": "#19d3f3",
          "pattern": {
           "shape": ""
          }
         },
         "name": "Inch",
         "nbinsx": 20,
         "offsetgroup": "Inch",
         "orientation": "v",
         "showlegend": true,
         "type": "histogram",
         "x": [
          411
         ],
         "xaxis": "x",
         "yaxis": "y"
        },
        {
         "alignmentgroup": "True",
         "bingroup": "x",
         "hovertemplate": "entities=Allah<br>index=%{x}<br>count=%{y}<extra></extra>",
         "legendgroup": "Allah",
         "marker": {
          "color": "#FF6692",
          "pattern": {
           "shape": ""
          }
         },
         "name": "Allah",
         "nbinsx": 20,
         "offsetgroup": "Allah",
         "orientation": "v",
         "showlegend": true,
         "type": "histogram",
         "x": [
          411,
          546
         ],
         "xaxis": "x",
         "yaxis": "y"
        },
        {
         "alignmentgroup": "True",
         "bingroup": "x",
         "hovertemplate": "entities=Guignolet<br>index=%{x}<br>count=%{y}<extra></extra>",
         "legendgroup": "Guignolet",
         "marker": {
          "color": "#B6E880",
          "pattern": {
           "shape": ""
          }
         },
         "name": "Guignolet",
         "nbinsx": 20,
         "offsetgroup": "Guignolet",
         "orientation": "v",
         "showlegend": true,
         "type": "histogram",
         "x": [
          432
         ],
         "xaxis": "x",
         "yaxis": "y"
        },
        {
         "alignmentgroup": "True",
         "bingroup": "x",
         "hovertemplate": "entities=Dubonnet<br>index=%{x}<br>count=%{y}<extra></extra>",
         "legendgroup": "Dubonnet",
         "marker": {
          "color": "#FF97FF",
          "pattern": {
           "shape": ""
          }
         },
         "name": "Dubonnet",
         "nbinsx": 20,
         "offsetgroup": "Dubonnet",
         "orientation": "v",
         "showlegend": true,
         "type": "histogram",
         "x": [
          432
         ],
         "xaxis": "x",
         "yaxis": "y"
        },
        {
         "alignmentgroup": "True",
         "bingroup": "x",
         "hovertemplate": "entities=Cinzano<br>index=%{x}<br>count=%{y}<extra></extra>",
         "legendgroup": "Cinzano",
         "marker": {
          "color": "#FECB52",
          "pattern": {
           "shape": ""
          }
         },
         "name": "Cinzano",
         "nbinsx": 20,
         "offsetgroup": "Cinzano",
         "orientation": "v",
         "showlegend": true,
         "type": "histogram",
         "x": [
          432
         ],
         "xaxis": "x",
         "yaxis": "y"
        },
        {
         "alignmentgroup": "True",
         "bingroup": "x",
         "hovertemplate": "entities=Brandy<br>index=%{x}<br>count=%{y}<extra></extra>",
         "legendgroup": "Brandy",
         "marker": {
          "color": "#636efa",
          "pattern": {
           "shape": ""
          }
         },
         "name": "Brandy",
         "nbinsx": 20,
         "offsetgroup": "Brandy",
         "orientation": "v",
         "showlegend": true,
         "type": "histogram",
         "x": [
          433
         ],
         "xaxis": "x",
         "yaxis": "y"
        },
        {
         "alignmentgroup": "True",
         "bingroup": "x",
         "hovertemplate": "entities=Venez<br>index=%{x}<br>count=%{y}<extra></extra>",
         "legendgroup": "Venez",
         "marker": {
          "color": "#EF553B",
          "pattern": {
           "shape": ""
          }
         },
         "name": "Venez",
         "nbinsx": 20,
         "offsetgroup": "Venez",
         "orientation": "v",
         "showlegend": true,
         "type": "histogram",
         "x": [
          446,
          972
         ],
         "xaxis": "x",
         "yaxis": "y"
        },
        {
         "alignmentgroup": "True",
         "bingroup": "x",
         "hovertemplate": "entities=Revenez Lucien<br>index=%{x}<br>count=%{y}<extra></extra>",
         "legendgroup": "Revenez Lucien",
         "marker": {
          "color": "#00cc96",
          "pattern": {
           "shape": ""
          }
         },
         "name": "Revenez Lucien",
         "nbinsx": 20,
         "offsetgroup": "Revenez Lucien",
         "orientation": "v",
         "showlegend": true,
         "type": "histogram",
         "x": [
          457
         ],
         "xaxis": "x",
         "yaxis": "y"
        },
        {
         "alignmentgroup": "True",
         "bingroup": "x",
         "hovertemplate": "entities=Jolie<br>index=%{x}<br>count=%{y}<extra></extra>",
         "legendgroup": "Jolie",
         "marker": {
          "color": "#ab63fa",
          "pattern": {
           "shape": ""
          }
         },
         "name": "Jolie",
         "nbinsx": 20,
         "offsetgroup": "Jolie",
         "orientation": "v",
         "showlegend": true,
         "type": "histogram",
         "x": [
          462
         ],
         "xaxis": "x",
         "yaxis": "y"
        },
        {
         "alignmentgroup": "True",
         "bingroup": "x",
         "hovertemplate": "entities=Nil<br>index=%{x}<br>count=%{y}<extra></extra>",
         "legendgroup": "Nil",
         "marker": {
          "color": "#FFA15A",
          "pattern": {
           "shape": ""
          }
         },
         "name": "Nil",
         "nbinsx": 20,
         "offsetgroup": "Nil",
         "orientation": "v",
         "showlegend": true,
         "type": "histogram",
         "x": [
          465
         ],
         "xaxis": "x",
         "yaxis": "y"
        },
        {
         "alignmentgroup": "True",
         "bingroup": "x",
         "hovertemplate": "entities=HerrMoeller<br>index=%{x}<br>count=%{y}<extra></extra>",
         "legendgroup": "HerrMoeller",
         "marker": {
          "color": "#19d3f3",
          "pattern": {
           "shape": ""
          }
         },
         "name": "HerrMoeller",
         "nbinsx": 20,
         "offsetgroup": "HerrMoeller",
         "orientation": "v",
         "showlegend": true,
         "type": "histogram",
         "x": [
          472
         ],
         "xaxis": "x",
         "yaxis": "y"
        },
        {
         "alignmentgroup": "True",
         "bingroup": "x",
         "hovertemplate": "entities=Raymond Pelletier<br>index=%{x}<br>count=%{y}<extra></extra>",
         "legendgroup": "Raymond Pelletier",
         "marker": {
          "color": "#FF6692",
          "pattern": {
           "shape": ""
          }
         },
         "name": "Raymond Pelletier",
         "nbinsx": 20,
         "offsetgroup": "Raymond Pelletier",
         "orientation": "v",
         "showlegend": true,
         "type": "histogram",
         "x": [
          473
         ],
         "xaxis": "x",
         "yaxis": "y"
        },
        {
         "alignmentgroup": "True",
         "bingroup": "x",
         "hovertemplate": "entities=SBEP<br>index=%{x}<br>count=%{y}<extra></extra>",
         "legendgroup": "SBEP",
         "marker": {
          "color": "#B6E880",
          "pattern": {
           "shape": ""
          }
         },
         "name": "SBEP",
         "nbinsx": 20,
         "offsetgroup": "SBEP",
         "orientation": "v",
         "showlegend": true,
         "type": "histogram",
         "x": [
          473,
          792
         ],
         "xaxis": "x",
         "yaxis": "y"
        },
        {
         "alignmentgroup": "True",
         "bingroup": "x",
         "hovertemplate": "entities=Société Belgo Egyptienne d'Élevage de Poulet<br>index=%{x}<br>count=%{y}<extra></extra>",
         "legendgroup": "Société Belgo Egyptienne d'Élevage de Poulet",
         "marker": {
          "color": "#FF97FF",
          "pattern": {
           "shape": ""
          }
         },
         "name": "Société Belgo Egyptienne d'Élevage de Poulet",
         "nbinsx": 20,
         "offsetgroup": "Société Belgo Egyptienne d'Élevage de Poulet",
         "orientation": "v",
         "showlegend": true,
         "type": "histogram",
         "x": [
          474
         ],
         "xaxis": "x",
         "yaxis": "y"
        },
        {
         "alignmentgroup": "True",
         "bingroup": "x",
         "hovertemplate": "entities=Pelletier Raymond<br>index=%{x}<br>count=%{y}<extra></extra>",
         "legendgroup": "Pelletier Raymond",
         "marker": {
          "color": "#FECB52",
          "pattern": {
           "shape": ""
          }
         },
         "name": "Pelletier Raymond",
         "nbinsx": 20,
         "offsetgroup": "Pelletier Raymond",
         "orientation": "v",
         "showlegend": true,
         "type": "histogram",
         "x": [
          476
         ],
         "xaxis": "x",
         "yaxis": "y"
        },
        {
         "alignmentgroup": "True",
         "bingroup": "x",
         "hovertemplate": "entities=Ieveni Setine<br>index=%{x}<br>count=%{y}<extra></extra>",
         "legendgroup": "Ieveni Setine",
         "marker": {
          "color": "#636efa",
          "pattern": {
           "shape": ""
          }
         },
         "name": "Ieveni Setine",
         "nbinsx": 20,
         "offsetgroup": "Ieveni Setine",
         "orientation": "v",
         "showlegend": true,
         "type": "histogram",
         "x": [
          477
         ],
         "xaxis": "x",
         "yaxis": "y"
        },
        {
         "alignmentgroup": "True",
         "bingroup": "x",
         "hovertemplate": "entities=Sinon<br>index=%{x}<br>count=%{y}<extra></extra>",
         "legendgroup": "Sinon",
         "marker": {
          "color": "#EF553B",
          "pattern": {
           "shape": ""
          }
         },
         "name": "Sinon",
         "nbinsx": 20,
         "offsetgroup": "Sinon",
         "orientation": "v",
         "showlegend": true,
         "type": "histogram",
         "x": [
          510,
          866
         ],
         "xaxis": "x",
         "yaxis": "y"
        },
        {
         "alignmentgroup": "True",
         "bingroup": "x",
         "hovertemplate": "entities=Mister Bramard<br>index=%{x}<br>count=%{y}<extra></extra>",
         "legendgroup": "Mister Bramard",
         "marker": {
          "color": "#00cc96",
          "pattern": {
           "shape": ""
          }
         },
         "name": "Mister Bramard",
         "nbinsx": 20,
         "offsetgroup": "Mister Bramard",
         "orientation": "v",
         "showlegend": true,
         "type": "histogram",
         "x": [
          515
         ],
         "xaxis": "x",
         "yaxis": "y"
        },
        {
         "alignmentgroup": "True",
         "bingroup": "x",
         "hovertemplate": "entities=Nigel Gardenborough<br>index=%{x}<br>count=%{y}<extra></extra>",
         "legendgroup": "Nigel Gardenborough",
         "marker": {
          "color": "#ab63fa",
          "pattern": {
           "shape": ""
          }
         },
         "name": "Nigel Gardenborough",
         "nbinsx": 20,
         "offsetgroup": "Nigel Gardenborough",
         "orientation": "v",
         "showlegend": true,
         "type": "histogram",
         "x": [
          518
         ],
         "xaxis": "x",
         "yaxis": "y"
        },
        {
         "alignmentgroup": "True",
         "bingroup": "x",
         "hovertemplate": "entities=Consortium Britannique d'Élevage d'Agneau<br>index=%{x}<br>count=%{y}<extra></extra>",
         "legendgroup": "Consortium Britannique d'Élevage d'Agneau",
         "marker": {
          "color": "#FFA15A",
          "pattern": {
           "shape": ""
          }
         },
         "name": "Consortium Britannique d'Élevage d'Agneau",
         "nbinsx": 20,
         "offsetgroup": "Consortium Britannique d'Élevage d'Agneau",
         "orientation": "v",
         "showlegend": true,
         "type": "histogram",
         "x": [
          519
         ],
         "xaxis": "x",
         "yaxis": "y"
        },
        {
         "alignmentgroup": "True",
         "bingroup": "x",
         "hovertemplate": "entities=Dieu<br>index=%{x}<br>count=%{y}<extra></extra>",
         "legendgroup": "Dieu",
         "marker": {
          "color": "#19d3f3",
          "pattern": {
           "shape": ""
          }
         },
         "name": "Dieu",
         "nbinsx": 20,
         "offsetgroup": "Dieu",
         "orientation": "v",
         "showlegend": true,
         "type": "histogram",
         "x": [
          544,
          565,
          668,
          747
         ],
         "xaxis": "x",
         "yaxis": "y"
        },
        {
         "alignmentgroup": "True",
         "bingroup": "x",
         "hovertemplate": "entities=Bonjour<br>index=%{x}<br>count=%{y}<extra></extra>",
         "legendgroup": "Bonjour",
         "marker": {
          "color": "#FF6692",
          "pattern": {
           "shape": ""
          }
         },
         "name": "Bonjour",
         "nbinsx": 20,
         "offsetgroup": "Bonjour",
         "orientation": "v",
         "showlegend": true,
         "type": "histogram",
         "x": [
          555,
          556,
          1029
         ],
         "xaxis": "x",
         "yaxis": "y"
        },
        {
         "alignmentgroup": "True",
         "bingroup": "x",
         "hovertemplate": "entities=Bismillah<br>index=%{x}<br>count=%{y}<extra></extra>",
         "legendgroup": "Bismillah",
         "marker": {
          "color": "#B6E880",
          "pattern": {
           "shape": ""
          }
         },
         "name": "Bismillah",
         "nbinsx": 20,
         "offsetgroup": "Bismillah",
         "orientation": "v",
         "showlegend": true,
         "type": "histogram",
         "x": [
          564
         ],
         "xaxis": "x",
         "yaxis": "y"
        },
        {
         "alignmentgroup": "True",
         "bingroup": "x",
         "hovertemplate": "entities=Muezzin<br>index=%{x}<br>count=%{y}<extra></extra>",
         "legendgroup": "Muezzin",
         "marker": {
          "color": "#FF97FF",
          "pattern": {
           "shape": ""
          }
         },
         "name": "Muezzin",
         "nbinsx": 20,
         "offsetgroup": "Muezzin",
         "orientation": "v",
         "showlegend": true,
         "type": "histogram",
         "x": [
          574
         ],
         "xaxis": "x",
         "yaxis": "y"
        },
        {
         "alignmentgroup": "True",
         "bingroup": "x",
         "hovertemplate": "entities=Bonsoir<br>index=%{x}<br>count=%{y}<extra></extra>",
         "legendgroup": "Bonsoir",
         "marker": {
          "color": "#FECB52",
          "pattern": {
           "shape": ""
          }
         },
         "name": "Bonsoir",
         "nbinsx": 20,
         "offsetgroup": "Bonsoir",
         "orientation": "v",
         "showlegend": true,
         "type": "histogram",
         "x": [
          596,
          751,
          1118,
          1334
         ],
         "xaxis": "x",
         "yaxis": "y"
        },
        {
         "alignmentgroup": "True",
         "bingroup": "x",
         "hovertemplate": "entities=Neuf<br>index=%{x}<br>count=%{y}<extra></extra>",
         "legendgroup": "Neuf",
         "marker": {
          "color": "#636efa",
          "pattern": {
           "shape": ""
          }
         },
         "name": "Neuf",
         "nbinsx": 20,
         "offsetgroup": "Neuf",
         "orientation": "v",
         "showlegend": true,
         "type": "histogram",
         "x": [
          602
         ],
         "xaxis": "x",
         "yaxis": "y"
        },
        {
         "alignmentgroup": "True",
         "bingroup": "x",
         "hovertemplate": "entities=Slama<br>index=%{x}<br>count=%{y}<extra></extra>",
         "legendgroup": "Slama",
         "marker": {
          "color": "#EF553B",
          "pattern": {
           "shape": ""
          }
         },
         "name": "Slama",
         "nbinsx": 20,
         "offsetgroup": "Slama",
         "orientation": "v",
         "showlegend": true,
         "type": "histogram",
         "x": [
          606
         ],
         "xaxis": "x",
         "yaxis": "y"
        },
        {
         "alignmentgroup": "True",
         "bingroup": "x",
         "hovertemplate": "entities=Fondouk<br>index=%{x}<br>count=%{y}<extra></extra>",
         "legendgroup": "Fondouk",
         "marker": {
          "color": "#00cc96",
          "pattern": {
           "shape": ""
          }
         },
         "name": "Fondouk",
         "nbinsx": 20,
         "offsetgroup": "Fondouk",
         "orientation": "v",
         "showlegend": true,
         "type": "histogram",
         "x": [
          625,
          1135,
          1139,
          1165
         ],
         "xaxis": "x",
         "yaxis": "y"
        },
        {
         "alignmentgroup": "True",
         "bingroup": "x",
         "hovertemplate": "entities=Salaam<br>index=%{x}<br>count=%{y}<extra></extra>",
         "legendgroup": "Salaam",
         "marker": {
          "color": "#ab63fa",
          "pattern": {
           "shape": ""
          }
         },
         "name": "Salaam",
         "nbinsx": 20,
         "offsetgroup": "Salaam",
         "orientation": "v",
         "showlegend": true,
         "type": "histogram",
         "x": [
          656,
          657
         ],
         "xaxis": "x",
         "yaxis": "y"
        },
        {
         "alignmentgroup": "True",
         "bingroup": "x",
         "hovertemplate": "entities=Allahu Akbar<br>index=%{x}<br>count=%{y}<extra></extra>",
         "legendgroup": "Allahu Akbar",
         "marker": {
          "color": "#FFA15A",
          "pattern": {
           "shape": ""
          }
         },
         "name": "Allahu Akbar",
         "nbinsx": 20,
         "offsetgroup": "Allahu Akbar",
         "orientation": "v",
         "showlegend": true,
         "type": "histogram",
         "x": [
          666,
          667,
          668,
          669,
          670,
          671,
          673,
          674,
          675,
          676,
          677,
          678,
          681,
          682,
          683,
          684,
          685,
          686,
          692
         ],
         "xaxis": "x",
         "yaxis": "y"
        },
        {
         "alignmentgroup": "True",
         "bingroup": "x",
         "hovertemplate": "entities=Aigles de Khéops<br>index=%{x}<br>count=%{y}<extra></extra>",
         "legendgroup": "Aigles de Khéops",
         "marker": {
          "color": "#19d3f3",
          "pattern": {
           "shape": ""
          }
         },
         "name": "Aigles de Khéops",
         "nbinsx": 20,
         "offsetgroup": "Aigles de Khéops",
         "orientation": "v",
         "showlegend": true,
         "type": "histogram",
         "x": [
          680,
          1147,
          1162
         ],
         "xaxis": "x",
         "yaxis": "y"
        },
        {
         "alignmentgroup": "True",
         "bingroup": "x",
         "hovertemplate": "entities=Assalamu<br>index=%{x}<br>count=%{y}<extra></extra>",
         "legendgroup": "Assalamu",
         "marker": {
          "color": "#FF6692",
          "pattern": {
           "shape": ""
          }
         },
         "name": "Assalamu",
         "nbinsx": 20,
         "offsetgroup": "Assalamu",
         "orientation": "v",
         "showlegend": true,
         "type": "histogram",
         "x": [
          763
         ],
         "xaxis": "x",
         "yaxis": "y"
        },
        {
         "alignmentgroup": "True",
         "bingroup": "x",
         "hovertemplate": "entities=Plantieux<br>index=%{x}<br>count=%{y}<extra></extra>",
         "legendgroup": "Plantieux",
         "marker": {
          "color": "#B6E880",
          "pattern": {
           "shape": ""
          }
         },
         "name": "Plantieux",
         "nbinsx": 20,
         "offsetgroup": "Plantieux",
         "orientation": "v",
         "showlegend": true,
         "type": "histogram",
         "x": [
          773,
          785,
          792,
          837
         ],
         "xaxis": "x",
         "yaxis": "y"
        },
        {
         "alignmentgroup": "True",
         "bingroup": "x",
         "hovertemplate": "entities=Algérie<br>index=%{x}<br>count=%{y}<extra></extra>",
         "legendgroup": "Algérie",
         "marker": {
          "color": "#FF97FF",
          "pattern": {
           "shape": ""
          }
         },
         "name": "Algérie",
         "nbinsx": 20,
         "offsetgroup": "Algérie",
         "orientation": "v",
         "showlegend": true,
         "type": "histogram",
         "x": [
          782
         ],
         "xaxis": "x",
         "yaxis": "y"
        },
        {
         "alignmentgroup": "True",
         "bingroup": "x",
         "hovertemplate": "entities=Maroc<br>index=%{x}<br>count=%{y}<extra></extra>",
         "legendgroup": "Maroc",
         "marker": {
          "color": "#FECB52",
          "pattern": {
           "shape": ""
          }
         },
         "name": "Maroc",
         "nbinsx": 20,
         "offsetgroup": "Maroc",
         "orientation": "v",
         "showlegend": true,
         "type": "histogram",
         "x": [
          782
         ],
         "xaxis": "x",
         "yaxis": "y"
        },
        {
         "alignmentgroup": "True",
         "bingroup": "x",
         "hovertemplate": "entities=Tunisie<br>index=%{x}<br>count=%{y}<extra></extra>",
         "legendgroup": "Tunisie",
         "marker": {
          "color": "#636efa",
          "pattern": {
           "shape": ""
          }
         },
         "name": "Tunisie",
         "nbinsx": 20,
         "offsetgroup": "Tunisie",
         "orientation": "v",
         "showlegend": true,
         "type": "histogram",
         "x": [
          782
         ],
         "xaxis": "x",
         "yaxis": "y"
        },
        {
         "alignmentgroup": "True",
         "bingroup": "x",
         "hovertemplate": "entities=Dien<br>index=%{x}<br>count=%{y}<extra></extra>",
         "legendgroup": "Dien",
         "marker": {
          "color": "#EF553B",
          "pattern": {
           "shape": ""
          }
         },
         "name": "Dien",
         "nbinsx": 20,
         "offsetgroup": "Dien",
         "orientation": "v",
         "showlegend": true,
         "type": "histogram",
         "x": [
          782
         ],
         "xaxis": "x",
         "yaxis": "y"
        },
        {
         "alignmentgroup": "True",
         "bingroup": "x",
         "hovertemplate": "entities=Bien Phu<br>index=%{x}<br>count=%{y}<extra></extra>",
         "legendgroup": "Bien Phu",
         "marker": {
          "color": "#00cc96",
          "pattern": {
           "shape": ""
          }
         },
         "name": "Bien Phu",
         "nbinsx": 20,
         "offsetgroup": "Bien Phu",
         "orientation": "v",
         "showlegend": true,
         "type": "histogram",
         "x": [
          782
         ],
         "xaxis": "x",
         "yaxis": "y"
        },
        {
         "alignmentgroup": "True",
         "bingroup": "x",
         "hovertemplate": "entities=Kapov<br>index=%{x}<br>count=%{y}<extra></extra>",
         "legendgroup": "Kapov",
         "marker": {
          "color": "#ab63fa",
          "pattern": {
           "shape": ""
          }
         },
         "name": "Kapov",
         "nbinsx": 20,
         "offsetgroup": "Kapov",
         "orientation": "v",
         "showlegend": true,
         "type": "histogram",
         "x": [
          803,
          898,
          900,
          924,
          929,
          975,
          1148,
          1155,
          1156,
          1161,
          1257
         ],
         "xaxis": "x",
         "yaxis": "y"
        },
        {
         "alignmentgroup": "True",
         "bingroup": "x",
         "hovertemplate": "entities=Khéops<br>index=%{x}<br>count=%{y}<extra></extra>",
         "legendgroup": "Khéops",
         "marker": {
          "color": "#FFA15A",
          "pattern": {
           "shape": ""
          }
         },
         "name": "Khéops",
         "nbinsx": 20,
         "offsetgroup": "Khéops",
         "orientation": "v",
         "showlegend": true,
         "type": "histogram",
         "x": [
          810,
          860,
          1382
         ],
         "xaxis": "x",
         "yaxis": "y"
        },
        {
         "alignmentgroup": "True",
         "bingroup": "x",
         "hovertemplate": "entities=Chapeau<br>index=%{x}<br>count=%{y}<extra></extra>",
         "legendgroup": "Chapeau",
         "marker": {
          "color": "#19d3f3",
          "pattern": {
           "shape": ""
          }
         },
         "name": "Chapeau",
         "nbinsx": 20,
         "offsetgroup": "Chapeau",
         "orientation": "v",
         "showlegend": true,
         "type": "histogram",
         "x": [
          814
         ],
         "xaxis": "x",
         "yaxis": "y"
        },
        {
         "alignmentgroup": "True",
         "bingroup": "x",
         "hovertemplate": "entities=Paris<br>index=%{x}<br>count=%{y}<extra></extra>",
         "legendgroup": "Paris",
         "marker": {
          "color": "#FF6692",
          "pattern": {
           "shape": ""
          }
         },
         "name": "Paris",
         "nbinsx": 20,
         "offsetgroup": "Paris",
         "orientation": "v",
         "showlegend": true,
         "type": "histogram",
         "x": [
          821,
          828
         ],
         "xaxis": "x",
         "yaxis": "y"
        },
        {
         "alignmentgroup": "True",
         "bingroup": "x",
         "hovertemplate": "entities=Setine<br>index=%{x}<br>count=%{y}<extra></extra>",
         "legendgroup": "Setine",
         "marker": {
          "color": "#B6E880",
          "pattern": {
           "shape": ""
          }
         },
         "name": "Setine",
         "nbinsx": 20,
         "offsetgroup": "Setine",
         "orientation": "v",
         "showlegend": true,
         "type": "histogram",
         "x": [
          825,
          940,
          957,
          1066,
          1148
         ],
         "xaxis": "x",
         "yaxis": "y"
        },
        {
         "alignmentgroup": "True",
         "bingroup": "x",
         "hovertemplate": "entities=Soliman Pacha<br>index=%{x}<br>count=%{y}<extra></extra>",
         "legendgroup": "Soliman Pacha",
         "marker": {
          "color": "#FF97FF",
          "pattern": {
           "shape": ""
          }
         },
         "name": "Soliman Pacha",
         "nbinsx": 20,
         "offsetgroup": "Soliman Pacha",
         "orientation": "v",
         "showlegend": true,
         "type": "histogram",
         "x": [
          826
         ],
         "xaxis": "x",
         "yaxis": "y"
        },
        {
         "alignmentgroup": "True",
         "bingroup": "x",
         "hovertemplate": "entities=Ménilmontant<br>index=%{x}<br>count=%{y}<extra></extra>",
         "legendgroup": "Ménilmontant",
         "marker": {
          "color": "#FECB52",
          "pattern": {
           "shape": ""
          }
         },
         "name": "Ménilmontant",
         "nbinsx": 20,
         "offsetgroup": "Ménilmontant",
         "orientation": "v",
         "showlegend": true,
         "type": "histogram",
         "x": [
          865
         ],
         "xaxis": "x",
         "yaxis": "y"
        },
        {
         "alignmentgroup": "True",
         "bingroup": "x",
         "hovertemplate": "entities=Hammam Suleyman Pacha<br>index=%{x}<br>count=%{y}<extra></extra>",
         "legendgroup": "Hammam Suleyman Pacha",
         "marker": {
          "color": "#636efa",
          "pattern": {
           "shape": ""
          }
         },
         "name": "Hammam Suleyman Pacha",
         "nbinsx": 20,
         "offsetgroup": "Hammam Suleyman Pacha",
         "orientation": "v",
         "showlegend": true,
         "type": "histogram",
         "x": [
          889
         ],
         "xaxis": "x",
         "yaxis": "y"
        },
        {
         "alignmentgroup": "True",
         "bingroup": "x",
         "hovertemplate": "entities=Hammam<br>index=%{x}<br>count=%{y}<extra></extra>",
         "legendgroup": "Hammam",
         "marker": {
          "color": "#EF553B",
          "pattern": {
           "shape": ""
          }
         },
         "name": "Hammam",
         "nbinsx": 20,
         "offsetgroup": "Hammam",
         "orientation": "v",
         "showlegend": true,
         "type": "histogram",
         "x": [
          904
         ],
         "xaxis": "x",
         "yaxis": "y"
        },
        {
         "alignmentgroup": "True",
         "bingroup": "x",
         "hovertemplate": "entities=Suleyman<br>index=%{x}<br>count=%{y}<extra></extra>",
         "legendgroup": "Suleyman",
         "marker": {
          "color": "#00cc96",
          "pattern": {
           "shape": ""
          }
         },
         "name": "Suleyman",
         "nbinsx": 20,
         "offsetgroup": "Suleyman",
         "orientation": "v",
         "showlegend": true,
         "type": "histogram",
         "x": [
          904
         ],
         "xaxis": "x",
         "yaxis": "y"
        },
        {
         "alignmentgroup": "True",
         "bingroup": "x",
         "hovertemplate": "entities=Khalid<br>index=%{x}<br>count=%{y}<extra></extra>",
         "legendgroup": "Khalid",
         "marker": {
          "color": "#ab63fa",
          "pattern": {
           "shape": ""
          }
         },
         "name": "Khalid",
         "nbinsx": 20,
         "offsetgroup": "Khalid",
         "orientation": "v",
         "showlegend": true,
         "type": "histogram",
         "x": [
          905,
          908,
          910
         ],
         "xaxis": "x",
         "yaxis": "y"
        },
        {
         "alignmentgroup": "True",
         "bingroup": "x",
         "hovertemplate": "entities=Loktar<br>index=%{x}<br>count=%{y}<extra></extra>",
         "legendgroup": "Loktar",
         "marker": {
          "color": "#FFA15A",
          "pattern": {
           "shape": ""
          }
         },
         "name": "Loktar",
         "nbinsx": 20,
         "offsetgroup": "Loktar",
         "orientation": "v",
         "showlegend": true,
         "type": "histogram",
         "x": [
          907,
          1026,
          1047,
          1082
         ],
         "xaxis": "x",
         "yaxis": "y"
        },
        {
         "alignmentgroup": "True",
         "bingroup": "x",
         "hovertemplate": "entities=Nuan Thaï<br>index=%{x}<br>count=%{y}<extra></extra>",
         "legendgroup": "Nuan Thaï",
         "marker": {
          "color": "#19d3f3",
          "pattern": {
           "shape": ""
          }
         },
         "name": "Nuan Thaï",
         "nbinsx": 20,
         "offsetgroup": "Nuan Thaï",
         "orientation": "v",
         "showlegend": true,
         "type": "histogram",
         "x": [
          908
         ],
         "xaxis": "x",
         "yaxis": "y"
        },
        {
         "alignmentgroup": "True",
         "bingroup": "x",
         "hovertemplate": "entities=Union Soviétique<br>index=%{x}<br>count=%{y}<extra></extra>",
         "legendgroup": "Union Soviétique",
         "marker": {
          "color": "#FF6692",
          "pattern": {
           "shape": ""
          }
         },
         "name": "Union Soviétique",
         "nbinsx": 20,
         "offsetgroup": "Union Soviétique",
         "orientation": "v",
         "showlegend": true,
         "type": "histogram",
         "x": [
          919
         ],
         "xaxis": "x",
         "yaxis": "y"
        },
        {
         "alignmentgroup": "True",
         "bingroup": "x",
         "hovertemplate": "entities=Moeller<br>index=%{x}<br>count=%{y}<extra></extra>",
         "legendgroup": "Moeller",
         "marker": {
          "color": "#B6E880",
          "pattern": {
           "shape": ""
          }
         },
         "name": "Moeller",
         "nbinsx": 20,
         "offsetgroup": "Moeller",
         "orientation": "v",
         "showlegend": true,
         "type": "histogram",
         "x": [
          938,
          942,
          975,
          982,
          986,
          987,
          997,
          1038,
          1084
         ],
         "xaxis": "x",
         "yaxis": "y"
        },
        {
         "alignmentgroup": "True",
         "bingroup": "x",
         "hovertemplate": "entities=Demain<br>index=%{x}<br>count=%{y}<extra></extra>",
         "legendgroup": "Demain",
         "marker": {
          "color": "#FF97FF",
          "pattern": {
           "shape": ""
          }
         },
         "name": "Demain",
         "nbinsx": 20,
         "offsetgroup": "Demain",
         "orientation": "v",
         "showlegend": true,
         "type": "histogram",
         "x": [
          946,
          947
         ],
         "xaxis": "x",
         "yaxis": "y"
        },
        {
         "alignmentgroup": "True",
         "bingroup": "x",
         "hovertemplate": "entities=Wehrmacht<br>index=%{x}<br>count=%{y}<extra></extra>",
         "legendgroup": "Wehrmacht",
         "marker": {
          "color": "#FECB52",
          "pattern": {
           "shape": ""
          }
         },
         "name": "Wehrmacht",
         "nbinsx": 20,
         "offsetgroup": "Wehrmacht",
         "orientation": "v",
         "showlegend": true,
         "type": "histogram",
         "x": [
          987
         ],
         "xaxis": "x",
         "yaxis": "y"
        },
        {
         "alignmentgroup": "True",
         "bingroup": "x",
         "hovertemplate": "entities=von Umsprung<br>index=%{x}<br>count=%{y}<extra></extra>",
         "legendgroup": "von Umsprung",
         "marker": {
          "color": "#636efa",
          "pattern": {
           "shape": ""
          }
         },
         "name": "von Umsprung",
         "nbinsx": 20,
         "offsetgroup": "von Umsprung",
         "orientation": "v",
         "showlegend": true,
         "type": "histogram",
         "x": [
          991
         ],
         "xaxis": "x",
         "yaxis": "y"
        },
        {
         "alignmentgroup": "True",
         "bingroup": "x",
         "hovertemplate": "entities=Hermann von Umsprung<br>index=%{x}<br>count=%{y}<extra></extra>",
         "legendgroup": "Hermann von Umsprung",
         "marker": {
          "color": "#EF553B",
          "pattern": {
           "shape": ""
          }
         },
         "name": "Hermann von Umsprung",
         "nbinsx": 20,
         "offsetgroup": "Hermann von Umsprung",
         "orientation": "v",
         "showlegend": true,
         "type": "histogram",
         "x": [
          994
         ],
         "xaxis": "x",
         "yaxis": "y"
        },
        {
         "alignmentgroup": "True",
         "bingroup": "x",
         "hovertemplate": "entities=Waffen SS<br>index=%{x}<br>count=%{y}<extra></extra>",
         "legendgroup": "Waffen SS",
         "marker": {
          "color": "#00cc96",
          "pattern": {
           "shape": ""
          }
         },
         "name": "Waffen SS",
         "nbinsx": 20,
         "offsetgroup": "Waffen SS",
         "orientation": "v",
         "showlegend": true,
         "type": "histogram",
         "x": [
          994
         ],
         "xaxis": "x",
         "yaxis": "y"
        },
        {
         "alignmentgroup": "True",
         "bingroup": "x",
         "hovertemplate": "entities=Hermann<br>index=%{x}<br>count=%{y}<extra></extra>",
         "legendgroup": "Hermann",
         "marker": {
          "color": "#ab63fa",
          "pattern": {
           "shape": ""
          }
         },
         "name": "Hermann",
         "nbinsx": 20,
         "offsetgroup": "Hermann",
         "orientation": "v",
         "showlegend": true,
         "type": "histogram",
         "x": [
          999,
          1000,
          1004,
          1018,
          1053
         ],
         "xaxis": "x",
         "yaxis": "y"
        },
        {
         "alignmentgroup": "True",
         "bingroup": "x",
         "hovertemplate": "entities=Berlin<br>index=%{x}<br>count=%{y}<extra></extra>",
         "legendgroup": "Berlin",
         "marker": {
          "color": "#FFA15A",
          "pattern": {
           "shape": ""
          }
         },
         "name": "Berlin",
         "nbinsx": 20,
         "offsetgroup": "Berlin",
         "orientation": "v",
         "showlegend": true,
         "type": "histogram",
         "x": [
          1006
         ],
         "xaxis": "x",
         "yaxis": "y"
        },
        {
         "alignmentgroup": "True",
         "bingroup": "x",
         "hovertemplate": "entities=Hermann von Umpsrung<br>index=%{x}<br>count=%{y}<extra></extra>",
         "legendgroup": "Hermann von Umpsrung",
         "marker": {
          "color": "#19d3f3",
          "pattern": {
           "shape": ""
          }
         },
         "name": "Hermann von Umpsrung",
         "nbinsx": 20,
         "offsetgroup": "Hermann von Umpsrung",
         "orientation": "v",
         "showlegend": true,
         "type": "histogram",
         "x": [
          1017
         ],
         "xaxis": "x",
         "yaxis": "y"
        },
        {
         "alignmentgroup": "True",
         "bingroup": "x",
         "hovertemplate": "entities=Nardim<br>index=%{x}<br>count=%{y}<extra></extra>",
         "legendgroup": "Nardim",
         "marker": {
          "color": "#FF6692",
          "pattern": {
           "shape": ""
          }
         },
         "name": "Nardim",
         "nbinsx": 20,
         "offsetgroup": "Nardim",
         "orientation": "v",
         "showlegend": true,
         "type": "histogram",
         "x": [
          1035
         ],
         "xaxis": "x",
         "yaxis": "y"
        },
        {
         "alignmentgroup": "True",
         "bingroup": "x",
         "hovertemplate": "entities=Silence Loktar<br>index=%{x}<br>count=%{y}<extra></extra>",
         "legendgroup": "Silence Loktar",
         "marker": {
          "color": "#B6E880",
          "pattern": {
           "shape": ""
          }
         },
         "name": "Silence Loktar",
         "nbinsx": 20,
         "offsetgroup": "Silence Loktar",
         "orientation": "v",
         "showlegend": true,
         "type": "histogram",
         "x": [
          1036
         ],
         "xaxis": "x",
         "yaxis": "y"
        },
        {
         "alignmentgroup": "True",
         "bingroup": "x",
         "hovertemplate": "entities=Kapov Bramard<br>index=%{x}<br>count=%{y}<extra></extra>",
         "legendgroup": "Kapov Bramard",
         "marker": {
          "color": "#FF97FF",
          "pattern": {
           "shape": ""
          }
         },
         "name": "Kapov Bramard",
         "nbinsx": 20,
         "offsetgroup": "Kapov Bramard",
         "orientation": "v",
         "showlegend": true,
         "type": "histogram",
         "x": [
          1037
         ],
         "xaxis": "x",
         "yaxis": "y"
        },
        {
         "alignmentgroup": "True",
         "bingroup": "x",
         "hovertemplate": "entities=3ème Reich<br>index=%{x}<br>count=%{y}<extra></extra>",
         "legendgroup": "3ème Reich",
         "marker": {
          "color": "#FECB52",
          "pattern": {
           "shape": ""
          }
         },
         "name": "3ème Reich",
         "nbinsx": 20,
         "offsetgroup": "3ème Reich",
         "orientation": "v",
         "showlegend": true,
         "type": "histogram",
         "x": [
          1039
         ],
         "xaxis": "x",
         "yaxis": "y"
        },
        {
         "alignmentgroup": "True",
         "bingroup": "x",
         "hovertemplate": "entities=Nazis<br>index=%{x}<br>count=%{y}<extra></extra>",
         "legendgroup": "Nazis",
         "marker": {
          "color": "#636efa",
          "pattern": {
           "shape": ""
          }
         },
         "name": "Nazis",
         "nbinsx": 20,
         "offsetgroup": "Nazis",
         "orientation": "v",
         "showlegend": true,
         "type": "histogram",
         "x": [
          1042
         ],
         "xaxis": "x",
         "yaxis": "y"
        },
        {
         "alignmentgroup": "True",
         "bingroup": "x",
         "hovertemplate": "entities=El Akmar Betouche<br>index=%{x}<br>count=%{y}<extra></extra>",
         "legendgroup": "El Akmar Betouche",
         "marker": {
          "color": "#EF553B",
          "pattern": {
           "shape": ""
          }
         },
         "name": "El Akmar Betouche",
         "nbinsx": 20,
         "offsetgroup": "El Akmar Betouche",
         "orientation": "v",
         "showlegend": true,
         "type": "histogram",
         "x": [
          1060
         ],
         "xaxis": "x",
         "yaxis": "y"
        },
        {
         "alignmentgroup": "True",
         "bingroup": "x",
         "hovertemplate": "entities=Pyramide de Khephren<br>index=%{x}<br>count=%{y}<extra></extra>",
         "legendgroup": "Pyramide de Khephren",
         "marker": {
          "color": "#00cc96",
          "pattern": {
           "shape": ""
          }
         },
         "name": "Pyramide de Khephren",
         "nbinsx": 20,
         "offsetgroup": "Pyramide de Khephren",
         "orientation": "v",
         "showlegend": true,
         "type": "histogram",
         "x": [
          1095
         ],
         "xaxis": "x",
         "yaxis": "y"
        },
        {
         "alignmentgroup": "True",
         "bingroup": "x",
         "hovertemplate": "entities=canal de Suez<br>index=%{x}<br>count=%{y}<extra></extra>",
         "legendgroup": "canal de Suez",
         "marker": {
          "color": "#ab63fa",
          "pattern": {
           "shape": ""
          }
         },
         "name": "canal de Suez",
         "nbinsx": 20,
         "offsetgroup": "canal de Suez",
         "orientation": "v",
         "showlegend": true,
         "type": "histogram",
         "x": [
          1110
         ],
         "xaxis": "x",
         "yaxis": "y"
        },
        {
         "alignmentgroup": "True",
         "bingroup": "x",
         "hovertemplate": "entities=Hashem<br>index=%{x}<br>count=%{y}<extra></extra>",
         "legendgroup": "Hashem",
         "marker": {
          "color": "#FFA15A",
          "pattern": {
           "shape": ""
          }
         },
         "name": "Hashem",
         "nbinsx": 20,
         "offsetgroup": "Hashem",
         "orientation": "v",
         "showlegend": true,
         "type": "histogram",
         "x": [
          1124
         ],
         "xaxis": "x",
         "yaxis": "y"
        },
        {
         "alignmentgroup": "True",
         "bingroup": "x",
         "hovertemplate": "entities=Ana melfik<br>index=%{x}<br>count=%{y}<extra></extra>",
         "legendgroup": "Ana melfik",
         "marker": {
          "color": "#19d3f3",
          "pattern": {
           "shape": ""
          }
         },
         "name": "Ana melfik",
         "nbinsx": 20,
         "offsetgroup": "Ana melfik",
         "orientation": "v",
         "showlegend": true,
         "type": "histogram",
         "x": [
          1125
         ],
         "xaxis": "x",
         "yaxis": "y"
        },
        {
         "alignmentgroup": "True",
         "bingroup": "x",
         "hovertemplate": "entities=Flatteur<br>index=%{x}<br>count=%{y}<extra></extra>",
         "legendgroup": "Flatteur",
         "marker": {
          "color": "#FF6692",
          "pattern": {
           "shape": ""
          }
         },
         "name": "Flatteur",
         "nbinsx": 20,
         "offsetgroup": "Flatteur",
         "orientation": "v",
         "showlegend": true,
         "type": "histogram",
         "x": [
          1145
         ],
         "xaxis": "x",
         "yaxis": "y"
        },
        {
         "alignmentgroup": "True",
         "bingroup": "x",
         "hovertemplate": "entities=Tastana<br>index=%{x}<br>count=%{y}<extra></extra>",
         "legendgroup": "Tastana",
         "marker": {
          "color": "#B6E880",
          "pattern": {
           "shape": ""
          }
         },
         "name": "Tastana",
         "nbinsx": 20,
         "offsetgroup": "Tastana",
         "orientation": "v",
         "showlegend": true,
         "type": "histogram",
         "x": [
          1184
         ],
         "xaxis": "x",
         "yaxis": "y"
        },
        {
         "alignmentgroup": "True",
         "bingroup": "x",
         "hovertemplate": "entities=Lazim<br>index=%{x}<br>count=%{y}<extra></extra>",
         "legendgroup": "Lazim",
         "marker": {
          "color": "#FF97FF",
          "pattern": {
           "shape": ""
          }
         },
         "name": "Lazim",
         "nbinsx": 20,
         "offsetgroup": "Lazim",
         "orientation": "v",
         "showlegend": true,
         "type": "histogram",
         "x": [
          1189
         ],
         "xaxis": "x",
         "yaxis": "y"
        },
        {
         "alignmentgroup": "True",
         "bingroup": "x",
         "hovertemplate": "entities=Gilbert Plantieux<br>index=%{x}<br>count=%{y}<extra></extra>",
         "legendgroup": "Gilbert Plantieux",
         "marker": {
          "color": "#FECB52",
          "pattern": {
           "shape": ""
          }
         },
         "name": "Gilbert Plantieux",
         "nbinsx": 20,
         "offsetgroup": "Gilbert Plantieux",
         "orientation": "v",
         "showlegend": true,
         "type": "histogram",
         "x": [
          1212
         ],
         "xaxis": "x",
         "yaxis": "y"
        },
        {
         "alignmentgroup": "True",
         "bingroup": "x",
         "hovertemplate": "entities=Fonce<br>index=%{x}<br>count=%{y}<extra></extra>",
         "legendgroup": "Fonce",
         "marker": {
          "color": "#636efa",
          "pattern": {
           "shape": ""
          }
         },
         "name": "Fonce",
         "nbinsx": 20,
         "offsetgroup": "Fonce",
         "orientation": "v",
         "showlegend": true,
         "type": "histogram",
         "x": [
          1230
         ],
         "xaxis": "x",
         "yaxis": "y"
        },
        {
         "alignmentgroup": "True",
         "bingroup": "x",
         "hovertemplate": "entities=Merci Slimane<br>index=%{x}<br>count=%{y}<extra></extra>",
         "legendgroup": "Merci Slimane",
         "marker": {
          "color": "#EF553B",
          "pattern": {
           "shape": ""
          }
         },
         "name": "Merci Slimane",
         "nbinsx": 20,
         "offsetgroup": "Merci Slimane",
         "orientation": "v",
         "showlegend": true,
         "type": "histogram",
         "x": [
          1231
         ],
         "xaxis": "x",
         "yaxis": "y"
        },
        {
         "alignmentgroup": "True",
         "bingroup": "x",
         "hovertemplate": "entities=Tiens<br>index=%{x}<br>count=%{y}<extra></extra>",
         "legendgroup": "Tiens",
         "marker": {
          "color": "#00cc96",
          "pattern": {
           "shape": ""
          }
         },
         "name": "Tiens",
         "nbinsx": 20,
         "offsetgroup": "Tiens",
         "orientation": "v",
         "showlegend": true,
         "type": "histogram",
         "x": [
          1235
         ],
         "xaxis": "x",
         "yaxis": "y"
        },
        {
         "alignmentgroup": "True",
         "bingroup": "x",
         "hovertemplate": "entities=New York<br>index=%{x}<br>count=%{y}<extra></extra>",
         "legendgroup": "New York",
         "marker": {
          "color": "#ab63fa",
          "pattern": {
           "shape": ""
          }
         },
         "name": "New York",
         "nbinsx": 20,
         "offsetgroup": "New York",
         "orientation": "v",
         "showlegend": true,
         "type": "histogram",
         "x": [
          1237
         ],
         "xaxis": "x",
         "yaxis": "y"
        },
        {
         "alignmentgroup": "True",
         "bingroup": "x",
         "hovertemplate": "entities=Pelletier<br>index=%{x}<br>count=%{y}<extra></extra>",
         "legendgroup": "Pelletier",
         "marker": {
          "color": "#FFA15A",
          "pattern": {
           "shape": ""
          }
         },
         "name": "Pelletier",
         "nbinsx": 20,
         "offsetgroup": "Pelletier",
         "orientation": "v",
         "showlegend": true,
         "type": "histogram",
         "x": [
          1256,
          1282,
          1296
         ],
         "xaxis": "x",
         "yaxis": "y"
        },
        {
         "alignmentgroup": "True",
         "bingroup": "x",
         "hovertemplate": "entities=King<br>index=%{x}<br>count=%{y}<extra></extra>",
         "legendgroup": "King",
         "marker": {
          "color": "#19d3f3",
          "pattern": {
           "shape": ""
          }
         },
         "name": "King",
         "nbinsx": 20,
         "offsetgroup": "King",
         "orientation": "v",
         "showlegend": true,
         "type": "histogram",
         "x": [
          1263
         ],
         "xaxis": "x",
         "yaxis": "y"
        },
        {
         "alignmentgroup": "True",
         "bingroup": "x",
         "hovertemplate": "entities=SEP<br>index=%{x}<br>count=%{y}<extra></extra>",
         "legendgroup": "SEP",
         "marker": {
          "color": "#FF6692",
          "pattern": {
           "shape": ""
          }
         },
         "name": "SEP",
         "nbinsx": 20,
         "offsetgroup": "SEP",
         "orientation": "v",
         "showlegend": true,
         "type": "histogram",
         "x": [
          1267
         ],
         "xaxis": "x",
         "yaxis": "y"
        },
        {
         "alignmentgroup": "True",
         "bingroup": "x",
         "hovertemplate": "entities=Assalalamu<br>index=%{x}<br>count=%{y}<extra></extra>",
         "legendgroup": "Assalalamu",
         "marker": {
          "color": "#B6E880",
          "pattern": {
           "shape": ""
          }
         },
         "name": "Assalalamu",
         "nbinsx": 20,
         "offsetgroup": "Assalalamu",
         "orientation": "v",
         "showlegend": true,
         "type": "histogram",
         "x": [
          1321
         ],
         "xaxis": "x",
         "yaxis": "y"
        },
        {
         "alignmentgroup": "True",
         "bingroup": "x",
         "hovertemplate": "entities=Imam<br>index=%{x}<br>count=%{y}<extra></extra>",
         "legendgroup": "Imam",
         "marker": {
          "color": "#FF97FF",
          "pattern": {
           "shape": ""
          }
         },
         "name": "Imam",
         "nbinsx": 20,
         "offsetgroup": "Imam",
         "orientation": "v",
         "showlegend": true,
         "type": "histogram",
         "x": [
          1327,
          1369
         ],
         "xaxis": "x",
         "yaxis": "y"
        },
        {
         "alignmentgroup": "True",
         "bingroup": "x",
         "hovertemplate": "entities=Sidi<br>index=%{x}<br>count=%{y}<extra></extra>",
         "legendgroup": "Sidi",
         "marker": {
          "color": "#FECB52",
          "pattern": {
           "shape": ""
          }
         },
         "name": "Sidi",
         "nbinsx": 20,
         "offsetgroup": "Sidi",
         "orientation": "v",
         "showlegend": true,
         "type": "histogram",
         "x": [
          1329,
          1330
         ],
         "xaxis": "x",
         "yaxis": "y"
        },
        {
         "alignmentgroup": "True",
         "bingroup": "x",
         "hovertemplate": "entities=Armand<br>index=%{x}<br>count=%{y}<extra></extra>",
         "legendgroup": "Armand",
         "marker": {
          "color": "#636efa",
          "pattern": {
           "shape": ""
          }
         },
         "name": "Armand",
         "nbinsx": 20,
         "offsetgroup": "Armand",
         "orientation": "v",
         "showlegend": true,
         "type": "histogram",
         "x": [
          1432
         ],
         "xaxis": "x",
         "yaxis": "y"
        },
        {
         "alignmentgroup": "True",
         "bingroup": "x",
         "hovertemplate": "entities=Iran<br>index=%{x}<br>count=%{y}<extra></extra>",
         "legendgroup": "Iran",
         "marker": {
          "color": "#EF553B",
          "pattern": {
           "shape": ""
          }
         },
         "name": "Iran",
         "nbinsx": 20,
         "offsetgroup": "Iran",
         "orientation": "v",
         "showlegend": true,
         "type": "histogram",
         "x": [
          1440,
          1444
         ],
         "xaxis": "x",
         "yaxis": "y"
        }
       ],
       "layout": {
        "barmode": "relative",
        "legend": {
         "title": {
          "text": "entities"
         },
         "tracegroupgap": 0
        },
        "margin": {
         "t": 60
        },
        "template": {
         "data": {
          "bar": [
           {
            "error_x": {
             "color": "#2a3f5f"
            },
            "error_y": {
             "color": "#2a3f5f"
            },
            "marker": {
             "line": {
              "color": "#E5ECF6",
              "width": 0.5
             },
             "pattern": {
              "fillmode": "overlay",
              "size": 10,
              "solidity": 0.2
             }
            },
            "type": "bar"
           }
          ],
          "barpolar": [
           {
            "marker": {
             "line": {
              "color": "#E5ECF6",
              "width": 0.5
             },
             "pattern": {
              "fillmode": "overlay",
              "size": 10,
              "solidity": 0.2
             }
            },
            "type": "barpolar"
           }
          ],
          "carpet": [
           {
            "aaxis": {
             "endlinecolor": "#2a3f5f",
             "gridcolor": "white",
             "linecolor": "white",
             "minorgridcolor": "white",
             "startlinecolor": "#2a3f5f"
            },
            "baxis": {
             "endlinecolor": "#2a3f5f",
             "gridcolor": "white",
             "linecolor": "white",
             "minorgridcolor": "white",
             "startlinecolor": "#2a3f5f"
            },
            "type": "carpet"
           }
          ],
          "choropleth": [
           {
            "colorbar": {
             "outlinewidth": 0,
             "ticks": ""
            },
            "type": "choropleth"
           }
          ],
          "contour": [
           {
            "colorbar": {
             "outlinewidth": 0,
             "ticks": ""
            },
            "colorscale": [
             [
              0,
              "#0d0887"
             ],
             [
              0.1111111111111111,
              "#46039f"
             ],
             [
              0.2222222222222222,
              "#7201a8"
             ],
             [
              0.3333333333333333,
              "#9c179e"
             ],
             [
              0.4444444444444444,
              "#bd3786"
             ],
             [
              0.5555555555555556,
              "#d8576b"
             ],
             [
              0.6666666666666666,
              "#ed7953"
             ],
             [
              0.7777777777777778,
              "#fb9f3a"
             ],
             [
              0.8888888888888888,
              "#fdca26"
             ],
             [
              1,
              "#f0f921"
             ]
            ],
            "type": "contour"
           }
          ],
          "contourcarpet": [
           {
            "colorbar": {
             "outlinewidth": 0,
             "ticks": ""
            },
            "type": "contourcarpet"
           }
          ],
          "heatmap": [
           {
            "colorbar": {
             "outlinewidth": 0,
             "ticks": ""
            },
            "colorscale": [
             [
              0,
              "#0d0887"
             ],
             [
              0.1111111111111111,
              "#46039f"
             ],
             [
              0.2222222222222222,
              "#7201a8"
             ],
             [
              0.3333333333333333,
              "#9c179e"
             ],
             [
              0.4444444444444444,
              "#bd3786"
             ],
             [
              0.5555555555555556,
              "#d8576b"
             ],
             [
              0.6666666666666666,
              "#ed7953"
             ],
             [
              0.7777777777777778,
              "#fb9f3a"
             ],
             [
              0.8888888888888888,
              "#fdca26"
             ],
             [
              1,
              "#f0f921"
             ]
            ],
            "type": "heatmap"
           }
          ],
          "heatmapgl": [
           {
            "colorbar": {
             "outlinewidth": 0,
             "ticks": ""
            },
            "colorscale": [
             [
              0,
              "#0d0887"
             ],
             [
              0.1111111111111111,
              "#46039f"
             ],
             [
              0.2222222222222222,
              "#7201a8"
             ],
             [
              0.3333333333333333,
              "#9c179e"
             ],
             [
              0.4444444444444444,
              "#bd3786"
             ],
             [
              0.5555555555555556,
              "#d8576b"
             ],
             [
              0.6666666666666666,
              "#ed7953"
             ],
             [
              0.7777777777777778,
              "#fb9f3a"
             ],
             [
              0.8888888888888888,
              "#fdca26"
             ],
             [
              1,
              "#f0f921"
             ]
            ],
            "type": "heatmapgl"
           }
          ],
          "histogram": [
           {
            "marker": {
             "pattern": {
              "fillmode": "overlay",
              "size": 10,
              "solidity": 0.2
             }
            },
            "type": "histogram"
           }
          ],
          "histogram2d": [
           {
            "colorbar": {
             "outlinewidth": 0,
             "ticks": ""
            },
            "colorscale": [
             [
              0,
              "#0d0887"
             ],
             [
              0.1111111111111111,
              "#46039f"
             ],
             [
              0.2222222222222222,
              "#7201a8"
             ],
             [
              0.3333333333333333,
              "#9c179e"
             ],
             [
              0.4444444444444444,
              "#bd3786"
             ],
             [
              0.5555555555555556,
              "#d8576b"
             ],
             [
              0.6666666666666666,
              "#ed7953"
             ],
             [
              0.7777777777777778,
              "#fb9f3a"
             ],
             [
              0.8888888888888888,
              "#fdca26"
             ],
             [
              1,
              "#f0f921"
             ]
            ],
            "type": "histogram2d"
           }
          ],
          "histogram2dcontour": [
           {
            "colorbar": {
             "outlinewidth": 0,
             "ticks": ""
            },
            "colorscale": [
             [
              0,
              "#0d0887"
             ],
             [
              0.1111111111111111,
              "#46039f"
             ],
             [
              0.2222222222222222,
              "#7201a8"
             ],
             [
              0.3333333333333333,
              "#9c179e"
             ],
             [
              0.4444444444444444,
              "#bd3786"
             ],
             [
              0.5555555555555556,
              "#d8576b"
             ],
             [
              0.6666666666666666,
              "#ed7953"
             ],
             [
              0.7777777777777778,
              "#fb9f3a"
             ],
             [
              0.8888888888888888,
              "#fdca26"
             ],
             [
              1,
              "#f0f921"
             ]
            ],
            "type": "histogram2dcontour"
           }
          ],
          "mesh3d": [
           {
            "colorbar": {
             "outlinewidth": 0,
             "ticks": ""
            },
            "type": "mesh3d"
           }
          ],
          "parcoords": [
           {
            "line": {
             "colorbar": {
              "outlinewidth": 0,
              "ticks": ""
             }
            },
            "type": "parcoords"
           }
          ],
          "pie": [
           {
            "automargin": true,
            "type": "pie"
           }
          ],
          "scatter": [
           {
            "marker": {
             "colorbar": {
              "outlinewidth": 0,
              "ticks": ""
             }
            },
            "type": "scatter"
           }
          ],
          "scatter3d": [
           {
            "line": {
             "colorbar": {
              "outlinewidth": 0,
              "ticks": ""
             }
            },
            "marker": {
             "colorbar": {
              "outlinewidth": 0,
              "ticks": ""
             }
            },
            "type": "scatter3d"
           }
          ],
          "scattercarpet": [
           {
            "marker": {
             "colorbar": {
              "outlinewidth": 0,
              "ticks": ""
             }
            },
            "type": "scattercarpet"
           }
          ],
          "scattergeo": [
           {
            "marker": {
             "colorbar": {
              "outlinewidth": 0,
              "ticks": ""
             }
            },
            "type": "scattergeo"
           }
          ],
          "scattergl": [
           {
            "marker": {
             "colorbar": {
              "outlinewidth": 0,
              "ticks": ""
             }
            },
            "type": "scattergl"
           }
          ],
          "scattermapbox": [
           {
            "marker": {
             "colorbar": {
              "outlinewidth": 0,
              "ticks": ""
             }
            },
            "type": "scattermapbox"
           }
          ],
          "scatterpolar": [
           {
            "marker": {
             "colorbar": {
              "outlinewidth": 0,
              "ticks": ""
             }
            },
            "type": "scatterpolar"
           }
          ],
          "scatterpolargl": [
           {
            "marker": {
             "colorbar": {
              "outlinewidth": 0,
              "ticks": ""
             }
            },
            "type": "scatterpolargl"
           }
          ],
          "scatterternary": [
           {
            "marker": {
             "colorbar": {
              "outlinewidth": 0,
              "ticks": ""
             }
            },
            "type": "scatterternary"
           }
          ],
          "surface": [
           {
            "colorbar": {
             "outlinewidth": 0,
             "ticks": ""
            },
            "colorscale": [
             [
              0,
              "#0d0887"
             ],
             [
              0.1111111111111111,
              "#46039f"
             ],
             [
              0.2222222222222222,
              "#7201a8"
             ],
             [
              0.3333333333333333,
              "#9c179e"
             ],
             [
              0.4444444444444444,
              "#bd3786"
             ],
             [
              0.5555555555555556,
              "#d8576b"
             ],
             [
              0.6666666666666666,
              "#ed7953"
             ],
             [
              0.7777777777777778,
              "#fb9f3a"
             ],
             [
              0.8888888888888888,
              "#fdca26"
             ],
             [
              1,
              "#f0f921"
             ]
            ],
            "type": "surface"
           }
          ],
          "table": [
           {
            "cells": {
             "fill": {
              "color": "#EBF0F8"
             },
             "line": {
              "color": "white"
             }
            },
            "header": {
             "fill": {
              "color": "#C8D4E3"
             },
             "line": {
              "color": "white"
             }
            },
            "type": "table"
           }
          ]
         },
         "layout": {
          "annotationdefaults": {
           "arrowcolor": "#2a3f5f",
           "arrowhead": 0,
           "arrowwidth": 1
          },
          "autotypenumbers": "strict",
          "coloraxis": {
           "colorbar": {
            "outlinewidth": 0,
            "ticks": ""
           }
          },
          "colorscale": {
           "diverging": [
            [
             0,
             "#8e0152"
            ],
            [
             0.1,
             "#c51b7d"
            ],
            [
             0.2,
             "#de77ae"
            ],
            [
             0.3,
             "#f1b6da"
            ],
            [
             0.4,
             "#fde0ef"
            ],
            [
             0.5,
             "#f7f7f7"
            ],
            [
             0.6,
             "#e6f5d0"
            ],
            [
             0.7,
             "#b8e186"
            ],
            [
             0.8,
             "#7fbc41"
            ],
            [
             0.9,
             "#4d9221"
            ],
            [
             1,
             "#276419"
            ]
           ],
           "sequential": [
            [
             0,
             "#0d0887"
            ],
            [
             0.1111111111111111,
             "#46039f"
            ],
            [
             0.2222222222222222,
             "#7201a8"
            ],
            [
             0.3333333333333333,
             "#9c179e"
            ],
            [
             0.4444444444444444,
             "#bd3786"
            ],
            [
             0.5555555555555556,
             "#d8576b"
            ],
            [
             0.6666666666666666,
             "#ed7953"
            ],
            [
             0.7777777777777778,
             "#fb9f3a"
            ],
            [
             0.8888888888888888,
             "#fdca26"
            ],
            [
             1,
             "#f0f921"
            ]
           ],
           "sequentialminus": [
            [
             0,
             "#0d0887"
            ],
            [
             0.1111111111111111,
             "#46039f"
            ],
            [
             0.2222222222222222,
             "#7201a8"
            ],
            [
             0.3333333333333333,
             "#9c179e"
            ],
            [
             0.4444444444444444,
             "#bd3786"
            ],
            [
             0.5555555555555556,
             "#d8576b"
            ],
            [
             0.6666666666666666,
             "#ed7953"
            ],
            [
             0.7777777777777778,
             "#fb9f3a"
            ],
            [
             0.8888888888888888,
             "#fdca26"
            ],
            [
             1,
             "#f0f921"
            ]
           ]
          },
          "colorway": [
           "#636efa",
           "#EF553B",
           "#00cc96",
           "#ab63fa",
           "#FFA15A",
           "#19d3f3",
           "#FF6692",
           "#B6E880",
           "#FF97FF",
           "#FECB52"
          ],
          "font": {
           "color": "#2a3f5f"
          },
          "geo": {
           "bgcolor": "white",
           "lakecolor": "white",
           "landcolor": "#E5ECF6",
           "showlakes": true,
           "showland": true,
           "subunitcolor": "white"
          },
          "hoverlabel": {
           "align": "left"
          },
          "hovermode": "closest",
          "mapbox": {
           "style": "light"
          },
          "paper_bgcolor": "white",
          "plot_bgcolor": "#E5ECF6",
          "polar": {
           "angularaxis": {
            "gridcolor": "white",
            "linecolor": "white",
            "ticks": ""
           },
           "bgcolor": "#E5ECF6",
           "radialaxis": {
            "gridcolor": "white",
            "linecolor": "white",
            "ticks": ""
           }
          },
          "scene": {
           "xaxis": {
            "backgroundcolor": "#E5ECF6",
            "gridcolor": "white",
            "gridwidth": 2,
            "linecolor": "white",
            "showbackground": true,
            "ticks": "",
            "zerolinecolor": "white"
           },
           "yaxis": {
            "backgroundcolor": "#E5ECF6",
            "gridcolor": "white",
            "gridwidth": 2,
            "linecolor": "white",
            "showbackground": true,
            "ticks": "",
            "zerolinecolor": "white"
           },
           "zaxis": {
            "backgroundcolor": "#E5ECF6",
            "gridcolor": "white",
            "gridwidth": 2,
            "linecolor": "white",
            "showbackground": true,
            "ticks": "",
            "zerolinecolor": "white"
           }
          },
          "shapedefaults": {
           "line": {
            "color": "#2a3f5f"
           }
          },
          "ternary": {
           "aaxis": {
            "gridcolor": "white",
            "linecolor": "white",
            "ticks": ""
           },
           "baxis": {
            "gridcolor": "white",
            "linecolor": "white",
            "ticks": ""
           },
           "bgcolor": "#E5ECF6",
           "caxis": {
            "gridcolor": "white",
            "linecolor": "white",
            "ticks": ""
           }
          },
          "title": {
           "x": 0.05
          },
          "xaxis": {
           "automargin": true,
           "gridcolor": "white",
           "linecolor": "white",
           "ticks": "",
           "title": {
            "standoff": 15
           },
           "zerolinecolor": "white",
           "zerolinewidth": 2
          },
          "yaxis": {
           "automargin": true,
           "gridcolor": "white",
           "linecolor": "white",
           "ticks": "",
           "title": {
            "standoff": 15
           },
           "zerolinecolor": "white",
           "zerolinewidth": 2
          }
         }
        },
        "xaxis": {
         "anchor": "y",
         "domain": [
          0,
          1
         ],
         "title": {
          "text": "index"
         }
        },
        "yaxis": {
         "anchor": "x",
         "domain": [
          0,
          1
         ],
         "title": {
          "text": "count"
         }
        }
       }
      }
     },
     "metadata": {},
     "output_type": "display_data"
    }
   ],
   "source": [
    "top_entities = entity_labels.value_counts().nlargest(10)\n",
    "fig = px.histogram(entity_labels.reset_index(),\n",
    "              x=\"index\",  color='entities', nbins=20)\n",
    "fig.show()"
   ]
  },
  {
   "cell_type": "code",
   "execution_count": null,
   "metadata": {},
   "outputs": [],
   "source": []
  }
 ],
 "metadata": {
  "interpreter": {
   "hash": "fa36c5e58b22df99bee6d4d1973af56882a24481406f5db204bca97254a3e1dd"
  },
  "kernelspec": {
   "display_name": "Python 3.9.10 ('bechdelai-E1SYiBH5-py3.9')",
   "language": "python",
   "name": "python3"
  },
  "language_info": {
   "codemirror_mode": {
    "name": "ipython",
    "version": 3
   },
   "file_extension": ".py",
   "mimetype": "text/x-python",
   "name": "python",
   "nbconvert_exporter": "python",
   "pygments_lexer": "ipython3",
   "version": "3.9.10"
  },
  "orig_nbformat": 4
 },
 "nbformat": 4,
 "nbformat_minor": 2
}
