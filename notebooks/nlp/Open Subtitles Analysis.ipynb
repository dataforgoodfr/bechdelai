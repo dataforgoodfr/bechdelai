{
 "cells": [
  {
   "cell_type": "code",
   "execution_count": null,
   "metadata": {},
   "outputs": [],
   "source": [
    "import sys\n",
    "sys.path.append(\"../../\")\n",
    "import pandas as pd\n",
    "\n",
    "from tqdm import tqdm\n",
    "from bechdelai.data.tmdb import search_movie_from_query\n",
    "from analyzer import TextAnalyzer\n",
    "from bechdelai.data.opensubtitles import search\n",
    "from bechdelai.data.opensubtitles import get_subtitle_link\n",
    "from bechdelai.data.opensubtitles import download_subtitle_from_url\n",
    "import plotly.express as px"
   ]
  },
  {
   "cell_type": "markdown",
   "metadata": {},
   "source": [
    "# Create Dataset"
   ]
  },
  {
   "cell_type": "markdown",
   "metadata": {},
   "source": [
    "## Metadata"
   ]
  },
  {
   "cell_type": "code",
   "execution_count": null,
   "metadata": {},
   "outputs": [],
   "source": [
    "movies = pd.read_html(\"https://fr.wikipedia.org/wiki/Liste_des_plus_gros_succ%C3%A8s_du_box-office_au_Canada_et_aux_%C3%89tats-Unis\")[0]"
   ]
  },
  {
   "cell_type": "code",
   "execution_count": null,
   "metadata": {},
   "outputs": [],
   "source": [
    "def get_tmdb_metadata(query):\n",
    "    data = search_movie_from_query(query)\n",
    "    results = data.get(\"results\", [])\n",
    "    return results[0] if results else None"
   ]
  },
  {
   "cell_type": "code",
   "execution_count": null,
   "metadata": {},
   "outputs": [],
   "source": [
    "metadatas = movies[\"Titre\"].apply(lambda x: get_tmdb_metadata(x)).tolist()"
   ]
  },
  {
   "cell_type": "code",
   "execution_count": null,
   "metadata": {},
   "outputs": [],
   "source": [
    "metadatas_df = pd.json_normalize(metadatas.to_list())"
   ]
  },
  {
   "cell_type": "code",
   "execution_count": null,
   "metadata": {},
   "outputs": [],
   "source": [
    "movies_with_metadata = pd.concat([movies, metadatas_df], axis=1)"
   ]
  },
  {
   "cell_type": "code",
   "execution_count": null,
   "metadata": {},
   "outputs": [],
   "source": [
    "movies_with_metadata.to_csv(\"box_office_NA_movies.csv\", index=False)"
   ]
  },
  {
   "cell_type": "markdown",
   "metadata": {},
   "source": [
    "## Subtitles"
   ]
  },
  {
   "cell_type": "code",
   "execution_count": null,
   "metadata": {},
   "outputs": [],
   "source": [
    "def get_open_subtitles(movie_name, language_code=\"eng\"):\n",
    "    search_url = search(movie_name, language_code)\n",
    "    wanted_movie = list(search_url.keys())[0]\n",
    "    subtitle_url = get_subtitle_link(search_url[wanted_movie])\n",
    "    res = download_subtitle_from_url(subtitle_url)\n",
    "    return res"
   ]
  },
  {
   "cell_type": "markdown",
   "metadata": {},
   "source": [
    "# Analyze"
   ]
  },
  {
   "cell_type": "code",
   "execution_count": null,
   "metadata": {},
   "outputs": [],
   "source": [
    "movies_with_metadata = pd.read_csv(\"box_office_NA_movies.csv\")"
   ]
  },
  {
   "cell_type": "code",
   "execution_count": null,
   "metadata": {},
   "outputs": [],
   "source": [
    "analyzer = TextAnalyzer(input_file=\"subs.txt\", output_directory=\"predictions/\")"
   ]
  },
  {
   "cell_type": "code",
   "execution_count": null,
   "metadata": {},
   "outputs": [],
   "source": [
    "agents = pd.DataFrame()\n",
    "entities = pd.DataFrame()\n",
    "patients = pd.DataFrame()\n",
    "posseses = pd.DataFrame()\n",
    "modifiers = pd.DataFrame()"
   ]
  },
  {
   "cell_type": "code",
   "execution_count": null,
   "metadata": {},
   "outputs": [],
   "source": [
    "# WIP - issues with analyzer not being reinitialized after each movie\n",
    "\n",
    "def postprocess(dataframes):\n",
    "    agents, entities, patients, posseses, modifiers = dataframes\n",
    "    tmp_agent = analyzer.agent.copy()\n",
    "    tmp_agent[\"movie_name\"] = movie_name\n",
    "    agents = pd.concat([agents, tmp_agent], ignore_index=True)\n",
    "    del tmp_agent\n",
    "    \n",
    "    tmp_entities = analyzer.entities.copy()\n",
    "    tmp_entities[\"movie_name\"] = movie_name\n",
    "    entities = pd.concat([entities, tmp_entities], ignore_index=True)\n",
    "    del tmp_entities\n",
    "    \n",
    "    tmp_patients = analyzer.patient.copy()\n",
    "    tmp_patients[\"movie_name\"] = movie_name\n",
    "    patients = pd.concat([patients, tmp_patients], ignore_index=True)\n",
    "    del tmp_patients\n",
    "    \n",
    "    tmp_posseses = analyzer.possess.copy()\n",
    "    tmp_posseses[\"movie_name\"] = movie_name\n",
    "    posseses = pd.concat([posseses, tmp_posseses], ignore_index=True)\n",
    "    del tmp_posseses\n",
    "    \n",
    "    tmp_modifiers = analyzer.modifiers.copy()\n",
    "    tmp_modifiers[\"movie_name\"] = movie_name\n",
    "    modifiers = pd.concat([modifiers, tmp_modifiers], ignore_index=True)\n",
    "    del tmp_modifiers\n",
    "    \n",
    "    return agents, entities, patients, posseses, modifiers"
   ]
  },
  {
   "cell_type": "code",
   "execution_count": null,
   "metadata": {},
   "outputs": [],
   "source": [
    "# WIP - rate limit issues\n",
    "\n",
    "for index, row in tqdm(movies_with_metadata.iterrows(), total=movies_with_metadata.shape[0]):\n",
    "    movie_name = row.title\n",
    "    try:\n",
    "        analyzer.analyze(movie_name, get_open_subtitles(movie_name))\n",
    "        agents, entities, patients, posseses, modifiers = postprocess([agents, entities, patients, posseses, modifiers])\n",
    "    except Exception as e:\n",
    "        continue"
   ]
  },
  {
   "cell_type": "code",
   "execution_count": null,
   "metadata": {},
   "outputs": [],
   "source": [
    "agents.to_csv(\"agents.csv\")\n",
    "entities.to_csv(\"entities.csv\")\n",
    "patients.to_csv(\"patients.csv\")\n",
    "posseses.to_csv(\"posseses.csv\")\n",
    "modifiers.to_csv(\"modifiers.csv\")"
   ]
  },
  {
   "cell_type": "markdown",
   "metadata": {},
   "source": [
    "# Analysis"
   ]
  },
  {
   "cell_type": "markdown",
   "metadata": {},
   "source": [
    "## Agents"
   ]
  },
  {
   "cell_type": "code",
   "execution_count": null,
   "metadata": {},
   "outputs": [],
   "source": [
    "px.histogram(agents, x=\"referential_gender\")"
   ]
  },
  {
   "cell_type": "code",
   "execution_count": null,
   "metadata": {},
   "outputs": [],
   "source": [
    "agents[agents.referential_gender == \"he/him/his\"].groupby([\"attr\"]).cnt.sum().reset_index().sort_values(\"cnt\", ascending=False)"
   ]
  },
  {
   "cell_type": "code",
   "execution_count": null,
   "metadata": {},
   "outputs": [],
   "source": [
    "agents[agents.referential_gender == \"she/her\"].groupby([\"attr\"]).cnt.sum().reset_index().sort_values(\"cnt\", ascending=False)"
   ]
  },
  {
   "cell_type": "code",
   "execution_count": null,
   "metadata": {},
   "outputs": [],
   "source": [
    "agents[agents.referential_gender == \"they/them/their\"].groupby([\"attr\"]).cnt.sum().reset_index().sort_values(\"cnt\", ascending=False)"
   ]
  },
  {
   "cell_type": "code",
   "execution_count": null,
   "metadata": {},
   "outputs": [],
   "source": [
    "px.histogram(entities, x=\"cat\", nbins=20)"
   ]
  },
  {
   "cell_type": "code",
   "execution_count": null,
   "metadata": {},
   "outputs": [],
   "source": [
    "px.histogram(patients, x=\"referential_gender\")"
   ]
  },
  {
   "cell_type": "code",
   "execution_count": null,
   "metadata": {},
   "outputs": [],
   "source": [
    "px.histogram(posseses, x=\"referential_gender\")"
   ]
  },
  {
   "cell_type": "code",
   "execution_count": null,
   "metadata": {},
   "outputs": [],
   "source": [
    "px.histogram(modifiers, x=\"referential_gender\")"
   ]
  },
  {
   "cell_type": "code",
   "execution_count": null,
   "metadata": {},
   "outputs": [],
   "source": []
  }
 ],
 "metadata": {
  "interpreter": {
   "hash": "fa36c5e58b22df99bee6d4d1973af56882a24481406f5db204bca97254a3e1dd"
  },
  "kernelspec": {
   "display_name": "Python 3.9.12 ('bechdelai-E1SYiBH5-py3.9')",
   "language": "python",
   "name": "python3"
  },
  "language_info": {
   "codemirror_mode": {
    "name": "ipython",
    "version": 3
   },
   "file_extension": ".py",
   "mimetype": "text/x-python",
   "name": "python",
   "nbconvert_exporter": "python",
   "pygments_lexer": "ipython3",
   "version": "3.9.12"
  },
  "orig_nbformat": 4
 },
 "nbformat": 4,
 "nbformat_minor": 2
}
