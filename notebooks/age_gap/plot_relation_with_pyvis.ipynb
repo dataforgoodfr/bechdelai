{
 "cells": [
  {
   "cell_type": "code",
   "execution_count": 1,
   "id": "amazing-bosnia",
   "metadata": {
    "scrolled": true
   },
   "outputs": [],
   "source": [
    "import pandas as pd\n",
    "import numpy as np\n",
    "from age_gap_automation import Movie\n",
    "from pyvis.options import EdgeOptions\n",
    "from pyvis.network import Network\n",
    "\n",
    "import sys\n",
    "sys.path.append(\"../..\")\n",
    "import bechdelai.data.tmdb as tmdb\n",
    "\n",
    "hp4 = pd.read_csv('hp4.csv')\n",
    "\n",
    "hp4_data = Movie(\"Harry Potter and the Goblet of Fire\",2005)\n",
    "cast = hp4_data.cast"
   ]
  },
  {
   "cell_type": "markdown",
   "id": "golden-virgin",
   "metadata": {},
   "source": [
    "# Plot Characters relationships"
   ]
  },
  {
   "cell_type": "code",
   "execution_count": 3,
   "id": "indirect-intervention",
   "metadata": {},
   "outputs": [],
   "source": [
    "# Define color by relationship type\n",
    "relationship_color = {'kisses':'#fca311', \n",
    "                      'sleeps with':'#fca311', \n",
    "                      'goes on a date with':'#fca311', \n",
    "                      'has sex with':'#fca311', \n",
    "                      'marries':'#fca311', \n",
    "                      'is in love with':'#fca311',\n",
    "                      'is in couple with':'#fca311',\n",
    "                      'is the father of':'#cce03d', \n",
    "                      'is the mother of':'#cce03d',\n",
    "                      'is a friend of':'#35c4d7', \n",
    "                      'is in the family of':'#cce03d', \n",
    "                      'is the enemy of':'#000000'}"
   ]
  },
  {
   "cell_type": "code",
   "execution_count": 4,
   "id": "smaller-complaint",
   "metadata": {},
   "outputs": [],
   "source": [
    "# get edges\n",
    "hp4 = hp4.sort_values('score',ascending=False)\n",
    "hp4 = hp4[hp4.score>0.4]\n",
    "\n",
    "all_stars = np.unique(list(hp4.star1.values)+list(hp4.star2.values))"
   ]
  },
  {
   "cell_type": "code",
   "execution_count": 5,
   "id": "acting-video",
   "metadata": {},
   "outputs": [],
   "source": [
    "g = Network()\n",
    "\n",
    "# add nodes\n",
    "for star in all_stars:\n",
    "    star_data = cast[cast.name==star]\n",
    "    character = star_data['character'].iloc[0]\n",
    "    image_path = tmdb.get_person_image_from_id(star_data.id.iloc[0])\n",
    "    image = 'https://image.tmdb.org/t/p/original'+image_path[\"profiles\"][0][\"file_path\"]\n",
    "    g.add_node(star, \n",
    "               label = character,\n",
    "               title = star,\n",
    "               shape='image', image =image,\n",
    "               borderWidth=0,\n",
    "               size = 30,\n",
    "               labelHighlightBold=True)\n",
    "\n",
    "# add edges\n",
    "for i,row in hp4.iterrows():\n",
    "    g.add_edge(row.star1,row.star2, \n",
    "               value=100*row.score,\n",
    "               color=relationship_color[row.question])"
   ]
  },
  {
   "cell_type": "code",
   "execution_count": 6,
   "id": "worth-subcommittee",
   "metadata": {},
   "outputs": [],
   "source": [
    "g.show(\"hp4_chars_relationships.html\")"
   ]
  },
  {
   "cell_type": "code",
   "execution_count": null,
   "id": "sought-convergence",
   "metadata": {},
   "outputs": [],
   "source": []
  }
 ],
 "metadata": {
  "kernelspec": {
   "display_name": "Python 3",
   "language": "python",
   "name": "python3"
  },
  "language_info": {
   "codemirror_mode": {
    "name": "ipython",
    "version": 3
   },
   "file_extension": ".py",
   "mimetype": "text/x-python",
   "name": "python",
   "nbconvert_exporter": "python",
   "pygments_lexer": "ipython3",
   "version": "3.8.5"
  }
 },
 "nbformat": 4,
 "nbformat_minor": 5
}
